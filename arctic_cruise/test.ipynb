{
 "cells": [
  {
   "cell_type": "code",
   "execution_count": 4,
   "metadata": {},
   "outputs": [],
   "source": [
    "import numpy\n",
    "from coare3 import coare3\n",
    "from coare4 import coare4\n",
    "\n",
    "\n",
    "#    Args:  \n",
    "#        u (float): relative wind speed (m/s) at height zu(m)\n",
    "#        t (float): bulk air temperature (degC) at height zt(m)\n",
    "#        rh (float): relative humidity (#) at height zq(m) [0-100]\n",
    "#        P (float): surface air pressure (mb) (default = 1015)\n",
    "#        ts (float): water temperature (degC) see jcool below\n",
    "#        Rs (float): downward shortwave radiation (W/m^2) (default = 150) \n",
    "#        Rl (float): downward longwave radiation (W/m^2) (default = 370)\n",
    "#        lat (float): latitude (default = +45 N)\n",
    "#        zi (float): PBL height (m) (default = 600m)\n",
    "\n",
    "jcool = 1 #ocean bulk temperature\n",
    "\n",
    "\n",
    "inputs = {'u':numpy.array([12.5]),'ts':numpy.array([28.48]),'Q':numpy.array([4.56])}\n",
    "res = coare4(inputs)\n"
   ]
  },
  {
   "cell_type": "code",
   "execution_count": 5,
   "metadata": {},
   "outputs": [
    {
     "data": {
      "text/plain": [
       "{'usr': masked_array(data=[0.5123419569529457],\n",
       "              mask=[False],\n",
       "        fill_value=1e+20), 'tau': masked_array(data=[0.3044326769929175],\n",
       "              mask=[False],\n",
       "        fill_value=1e+20), 'hsb': masked_array(data=[55.228408929886285],\n",
       "              mask=[False],\n",
       "        fill_value=1e+20), 'hlb': masked_array(data=[332.9750684106012],\n",
       "              mask=[False],\n",
       "        fill_value=1e+20), 'hbb': masked_array(data=[-80.23086004757903],\n",
       "              mask=[False],\n",
       "        fill_value=1e+20), 'hsbb': masked_array(data=[-76.13209756926875],\n",
       "              mask=[False],\n",
       "        fill_value=1e+20), 'tsr': masked_array(data=[-0.09199839063381422],\n",
       "              mask=[False],\n",
       "        fill_value=1e+20), 'qsr': masked_array(data=[-0.22899240080828195],\n",
       "              mask=[False],\n",
       "        fill_value=1e+20), 'zot': masked_array(data=[9.42156976e-06],\n",
       "              mask=False,\n",
       "        fill_value=1e+20), 'zoq': masked_array(data=[9.70122786e-06],\n",
       "              mask=False,\n",
       "        fill_value=1e+20), 'Cd': masked_array(data=[0.0016612874034951854],\n",
       "              mask=[False],\n",
       "        fill_value=1e+20), 'Ch': masked_array(data=[0.0012078859068482776],\n",
       "              mask=[False],\n",
       "        fill_value=1e+20), 'Ce': masked_array(data=[0.001210509566337652],\n",
       "              mask=[False],\n",
       "        fill_value=1e+20), 'L': masked_array(data=[-149.68836789155878],\n",
       "              mask=[False],\n",
       "        fill_value=1e+20), 'zet': masked_array(data=[-0.06680545817190328],\n",
       "              mask=[False],\n",
       "        fill_value=1e+20), 'dter': masked_array(data=[0.2776069530741314],\n",
       "              mask=[False],\n",
       "        fill_value=1e+20), 'dqer': masked_array(data=[0.0003851952415912351],\n",
       "              mask=[False],\n",
       "        fill_value=1e+20), 'tkt': masked_array(data=[0.00034507468406884926],\n",
       "              mask=[False],\n",
       "        fill_value=1e+20), 'Urf': masked_array(data=[12.5],\n",
       "              mask=[False],\n",
       "        fill_value=1e+20), 'Trf': masked_array(data=[25.0],\n",
       "              mask=[False],\n",
       "        fill_value=1e+20), 'Qrf': masked_array(data=[15.850792351490597],\n",
       "              mask=[False],\n",
       "        fill_value=1e+20), 'RHrf': masked_array(data=[80.00000000000001],\n",
       "              mask=[False],\n",
       "        fill_value=1e+20), 'UrfN': masked_array(data=[12.750762611385062],\n",
       "              mask=[False],\n",
       "        fill_value=1e+20), 'Rnl': masked_array(data=[94.73966025],\n",
       "              mask=False,\n",
       "        fill_value=1e+20), 'Le': array([2433502.4]), 'rhoa': masked_array(data=[1.1662695713319156],\n",
       "              mask=[False],\n",
       "        fill_value=1e+20), 'UN': masked_array(data=[12.750762611385062],\n",
       "              mask=[False],\n",
       "        fill_value=1e+20), 'U10': masked_array(data=[12.499999999999998],\n",
       "              mask=[False],\n",
       "        fill_value=1e+20), 'U10N': masked_array(data=[12.75076261138506],\n",
       "              mask=[False],\n",
       "        fill_value=1e+20), 'Chn_10': masked_array(data=[1.1519146276412222],\n",
       "              mask=[False],\n",
       "        fill_value=1e+20), 'Cen_10': masked_array(data=[1.154348163804462],\n",
       "              mask=[False],\n",
       "        fill_value=1e+20), 'Cdn_10': masked_array(data=[1.59658656],\n",
       "              mask=False,\n",
       "        fill_value=1e+20)}"
      ]
     },
     "execution_count": 5,
     "metadata": {},
     "output_type": "execute_result"
    }
   ],
   "source": []
  },
  {
   "cell_type": "code",
   "execution_count": null,
   "metadata": {},
   "outputs": [],
   "source": []
  }
 ],
 "metadata": {
  "kernelspec": {
   "display_name": "Python 3",
   "language": "python",
   "name": "python3"
  },
  "language_info": {
   "codemirror_mode": {
    "name": "ipython",
    "version": 3
   },
   "file_extension": ".py",
   "mimetype": "text/x-python",
   "name": "python",
   "nbconvert_exporter": "python",
   "pygments_lexer": "ipython3",
   "version": "3.7.3"
  }
 },
 "nbformat": 4,
 "nbformat_minor": 2
}
