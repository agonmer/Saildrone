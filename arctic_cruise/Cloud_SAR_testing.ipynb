{
 "cells": [
  {
   "cell_type": "markdown",
   "metadata": {},
   "source": [
    "## use a rest API call to get list of files in region of Saildrone and print out the filenames"
   ]
  },
  {
   "cell_type": "code",
   "execution_count": 48,
   "metadata": {},
   "outputs": [
    {
     "name": "stdout",
     "output_type": "stream",
     "text": [
      "/eodata/Sentinel-1/SAR/GRD/2019/06/14/S1A_EW_GRDM_1SDH_20190614T180534_20190614T180634_027679_031FCD_A7CE.SAFE\n",
      "/eodata/Sentinel-1/SAR/GRD/2019/06/14/S1A_EW_GRDM_1SDH_20190614T180434_20190614T180534_027679_031FCD_401C.SAFE\n",
      "/eodata/Sentinel-1/SAR/GRD/2019/06/14/S1B_EW_GRDM_1SDH_20190614T171450_20190614T171520_016695_01F6B8_5299.SAFE\n",
      "/eodata/Sentinel-1/SAR/GRD/2019/06/14/S1B_EW_GRDM_1SDH_20190614T171350_20190614T171450_016695_01F6B8_AEA7.SAFE\n",
      "/eodata/Sentinel-1/SAR/GRD/2019/06/13/S1B_EW_GRDM_1SDH_20190613T181202_20190613T181219_016681_01F64E_2E22.SAFE\n",
      "/eodata/Sentinel-1/SAR/GRD/2019/06/13/S1A_IW_GRDH_1SDV_20190613T172447_20190613T172516_027664_031F5F_2352.SAFE\n"
     ]
    }
   ],
   "source": [
    "import requests\n",
    "\n",
    "str_request = 'https://finder.creodias.eu/resto/api/collections/Sentinel1/search.json?maxRecords=10&startDate=2019-06-13T00:00:00Z&completionDate=2019-06-16T23:59:59Z&productType=GRD&processingLevel=LEVEL1&sortParam=startDate&sortOrder=descending&status=all&geometry=POLYGON((-150.82031250000003+69.96043926902487,-150.46875+73.57816726137321,-169.1015625+73.4784850788999,-168.39843750000003+68.59248658252946,-150.82031250000003+69.96043926902487))&dataset=ESA-DATASET'\n",
    "\n",
    "resp = requests.get(str_request)\n",
    "if resp.status_code != 200:\n",
    "    # This means something went wrong.\n",
    "    raise ApiError('GET /tasks/ {}'.format(resp.status_code))\n",
    "json_response = resp.json()\n",
    "number_files = json_response['properties']['totalResults']\n",
    "for num in range(number_files):\n",
    "    filename = json_response['features'][num]['properties']['productIdentifier'] \n",
    "    print(filename)"
   ]
  },
  {
   "cell_type": "code",
   "execution_count": null,
   "metadata": {},
   "outputs": [],
   "source": [
    "#testing on EOcloud, will not run here\n",
    "import boto3\n",
    "from botocore.client import Config as botoConfig\n",
    "from storage import S3Storage\n",
    "\n",
    "s3_client = boto3.client('s3',\n",
    "                         endpoint_url='http://data.cloudferro.com/',\n",
    "                         use_ssl=False,\n",
    "                         aws_access_key_id='access',\n",
    "                         aws_secret_access_key='secret',\n",
    "                         config=botoConfig(\n",
    "                             signature_version='s3',\n",
    "                             connect_timeout=60,\n",
    "                             read_timeout=60,\n",
    "                         )\n",
    "                         )\n",
    "storage_client = S3Storage(s3_client)\n",
    "storage_client.download_product('DIAS', filename,\n",
    "                                '/home/jovyan/Demo/test.SAFE/')\n"
   ]
  },
  {
   "cell_type": "code",
   "execution_count": 51,
   "metadata": {},
   "outputs": [
    {
     "ename": "ModuleNotFoundError",
     "evalue": "No module named 'osgeo'",
     "output_type": "error",
     "traceback": [
      "\u001b[1;31m---------------------------------------------------------------------------\u001b[0m",
      "\u001b[1;31mModuleNotFoundError\u001b[0m                       Traceback (most recent call last)",
      "\u001b[1;32m<ipython-input-51-b784acc89276>\u001b[0m in \u001b[0;36m<module>\u001b[1;34m\u001b[0m\n\u001b[0;32m      1\u001b[0m \u001b[1;31m#playing around with gdal\u001b[0m\u001b[1;33m\u001b[0m\u001b[1;33m\u001b[0m\u001b[1;33m\u001b[0m\u001b[0m\n\u001b[1;32m----> 2\u001b[1;33m \u001b[1;32mfrom\u001b[0m \u001b[0mosgeo\u001b[0m \u001b[1;32mimport\u001b[0m \u001b[0mogr\u001b[0m\u001b[1;33m,\u001b[0m \u001b[0mosr\u001b[0m\u001b[1;33m,\u001b[0m \u001b[0mgdal\u001b[0m\u001b[1;33m\u001b[0m\u001b[1;33m\u001b[0m\u001b[0m\n\u001b[0m\u001b[0;32m      3\u001b[0m \u001b[0mfile_tif\u001b[0m \u001b[1;33m=\u001b[0m \u001b[1;34m'C:/Users/gentemann/Downloads/Sentinel-1 AWS (S1-AWS-EW-HHHV) from 2019-06-10.tiff'\u001b[0m\u001b[1;33m\u001b[0m\u001b[1;33m\u001b[0m\u001b[0m\n\u001b[0;32m      4\u001b[0m \u001b[0mdatafile\u001b[0m \u001b[1;33m=\u001b[0m \u001b[0mgdal\u001b[0m\u001b[1;33m.\u001b[0m\u001b[0mOpen\u001b[0m\u001b[1;33m(\u001b[0m\u001b[0mfile_tif\u001b[0m\u001b[1;33m)\u001b[0m\u001b[1;33m\u001b[0m\u001b[1;33m\u001b[0m\u001b[0m\n\u001b[0;32m      5\u001b[0m \u001b[0mgeoinformation\u001b[0m \u001b[1;33m=\u001b[0m \u001b[0mdatafile\u001b[0m\u001b[1;33m.\u001b[0m\u001b[0mGetGeoTransform\u001b[0m\u001b[1;33m(\u001b[0m\u001b[1;33m)\u001b[0m\u001b[1;33m\u001b[0m\u001b[1;33m\u001b[0m\u001b[0m\n",
      "\u001b[1;31mModuleNotFoundError\u001b[0m: No module named 'osgeo'"
     ]
    }
   ],
   "source": [
    "#playing around with gdal\n",
    "from osgeo import ogr, osr, gdal \n",
    "file_tif = 'C:/Users/gentemann/Downloads/Sentinel-1 AWS (S1-AWS-EW-HHHV) from 2019-06-10.tiff'\n",
    "datafile = gdal.Open(file_tif)\n",
    "geoinformation = datafile.GetGeoTransform()\n",
    "\n"
   ]
  },
  {
   "cell_type": "code",
   "execution_count": null,
   "metadata": {},
   "outputs": [],
   "source": []
  }
 ],
 "metadata": {
  "kernelspec": {
   "display_name": "Python 3",
   "language": "python",
   "name": "python3"
  },
  "language_info": {
   "codemirror_mode": {
    "name": "ipython",
    "version": 3
   },
   "file_extension": ".py",
   "mimetype": "text/x-python",
   "name": "python",
   "nbconvert_exporter": "python",
   "pygments_lexer": "ipython3",
   "version": "3.7.1"
  }
 },
 "nbformat": 4,
 "nbformat_minor": 2
}
