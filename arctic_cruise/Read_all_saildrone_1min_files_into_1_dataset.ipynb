{
 "cells": [
  {
   "cell_type": "markdown",
   "metadata": {},
   "source": [
    "## This code shows how to read in all the 1 minute daily files from the Saildrone ftp site into a single file to work with.  \n",
    "- I've also created two datasets, one for 1036 and one for 1037\n",
    "- then I changed the index from obs to time."
   ]
  },
  {
   "cell_type": "code",
   "execution_count": 1,
   "metadata": {},
   "outputs": [],
   "source": [
    "import xarray as xr"
   ]
  },
  {
   "cell_type": "code",
   "execution_count": 5,
   "metadata": {},
   "outputs": [
    {
     "data": {
      "text/plain": [
       "<xarray.Dataset>\n",
       "Dimensions:                     (obs: 85548, trajectory: 2)\n",
       "Coordinates:\n",
       "  * trajectory                  (trajectory) float64 1.036e+03 1.037e+03\n",
       "    time                        (trajectory, obs) datetime64[ns] dask.array<shape=(2, 85548), chunksize=(2, 348)>\n",
       "    latitude                    (trajectory, obs) float64 dask.array<shape=(2, 85548), chunksize=(2, 348)>\n",
       "    longitude                   (trajectory, obs) float64 dask.array<shape=(2, 85548), chunksize=(2, 348)>\n",
       "Dimensions without coordinates: obs\n",
       "Data variables:\n",
       "    SOG                         (trajectory, obs) float64 dask.array<shape=(2, 85548), chunksize=(2, 348)>\n",
       "    SOG_FILTERED_MEAN           (trajectory, obs) float64 dask.array<shape=(2, 85548), chunksize=(2, 348)>\n",
       "    SOG_FILTERED_STDDEV         (trajectory, obs) float64 dask.array<shape=(2, 85548), chunksize=(2, 348)>\n",
       "    SOG_FILTERED_MAX            (trajectory, obs) float64 dask.array<shape=(2, 85548), chunksize=(2, 348)>\n",
       "    SOG_FILTERED_MIN            (trajectory, obs) float64 dask.array<shape=(2, 85548), chunksize=(2, 348)>\n",
       "    COG                         (trajectory, obs) float64 dask.array<shape=(2, 85548), chunksize=(2, 348)>\n",
       "    COG_FILTERED_MEAN           (trajectory, obs) float64 dask.array<shape=(2, 85548), chunksize=(2, 348)>\n",
       "    COG_FILTERED_STDDEV         (trajectory, obs) float64 dask.array<shape=(2, 85548), chunksize=(2, 348)>\n",
       "    HDG                         (trajectory, obs) float64 dask.array<shape=(2, 85548), chunksize=(2, 348)>\n",
       "    HDG_FILTERED_MEAN           (trajectory, obs) float64 dask.array<shape=(2, 85548), chunksize=(2, 348)>\n",
       "    HDG_FILTERED_STDDEV         (trajectory, obs) float64 dask.array<shape=(2, 85548), chunksize=(2, 348)>\n",
       "    ROLL_FILTERED_MEAN          (trajectory, obs) float64 dask.array<shape=(2, 85548), chunksize=(2, 348)>\n",
       "    ROLL_FILTERED_STDDEV        (trajectory, obs) float64 dask.array<shape=(2, 85548), chunksize=(2, 348)>\n",
       "    ROLL_FILTERED_PEAK          (trajectory, obs) float64 dask.array<shape=(2, 85548), chunksize=(2, 348)>\n",
       "    PITCH_FILTERED_MEAN         (trajectory, obs) float64 dask.array<shape=(2, 85548), chunksize=(2, 348)>\n",
       "    PITCH_FILTERED_STDDEV       (trajectory, obs) float64 dask.array<shape=(2, 85548), chunksize=(2, 348)>\n",
       "    PITCH_FILTERED_PEAK         (trajectory, obs) float64 dask.array<shape=(2, 85548), chunksize=(2, 348)>\n",
       "    HDG_WING                    (trajectory, obs) float64 dask.array<shape=(2, 85548), chunksize=(2, 348)>\n",
       "    WING_HDG_FILTERED_MEAN      (trajectory, obs) float64 dask.array<shape=(2, 85548), chunksize=(2, 348)>\n",
       "    WING_HDG_FILTERED_STDDEV    (trajectory, obs) float64 dask.array<shape=(2, 85548), chunksize=(2, 348)>\n",
       "    WING_ROLL_FILTERED_MEAN     (trajectory, obs) float64 dask.array<shape=(2, 85548), chunksize=(2, 348)>\n",
       "    WING_ROLL_FILTERED_STDDEV   (trajectory, obs) float64 dask.array<shape=(2, 85548), chunksize=(2, 348)>\n",
       "    WING_ROLL_FILTERED_PEAK     (trajectory, obs) float64 dask.array<shape=(2, 85548), chunksize=(2, 348)>\n",
       "    WING_PITCH_FILTERED_MEAN    (trajectory, obs) float64 dask.array<shape=(2, 85548), chunksize=(2, 348)>\n",
       "    WING_PITCH_FILTERED_STDDEV  (trajectory, obs) float64 dask.array<shape=(2, 85548), chunksize=(2, 348)>\n",
       "    WING_PITCH_FILTERED_PEAK    (trajectory, obs) float64 dask.array<shape=(2, 85548), chunksize=(2, 348)>\n",
       "    WING_ANGLE                  (trajectory, obs) float64 dask.array<shape=(2, 85548), chunksize=(2, 348)>\n",
       "    UWND_MEAN                   (trajectory, obs) float64 dask.array<shape=(2, 85548), chunksize=(2, 348)>\n",
       "    UWND_STDDEV                 (trajectory, obs) float64 dask.array<shape=(2, 85548), chunksize=(2, 348)>\n",
       "    VWND_MEAN                   (trajectory, obs) float64 dask.array<shape=(2, 85548), chunksize=(2, 348)>\n",
       "    VWND_STDDEV                 (trajectory, obs) float64 dask.array<shape=(2, 85548), chunksize=(2, 348)>\n",
       "    WWND_MEAN                   (trajectory, obs) float64 dask.array<shape=(2, 85548), chunksize=(2, 348)>\n",
       "    WWND_STDDEV                 (trajectory, obs) float64 dask.array<shape=(2, 85548), chunksize=(2, 348)>\n",
       "    GUST_WND_MEAN               (trajectory, obs) float64 dask.array<shape=(2, 85548), chunksize=(2, 348)>\n",
       "    GUST_WND_STDDEV             (trajectory, obs) float64 dask.array<shape=(2, 85548), chunksize=(2, 348)>\n",
       "    WIND_HEIGHT_MEAN            (trajectory, obs) float64 dask.array<shape=(2, 85548), chunksize=(2, 348)>\n",
       "    WIND_HEIGHT_STDDEV          (trajectory, obs) float64 dask.array<shape=(2, 85548), chunksize=(2, 348)>\n",
       "    TEMP_AIR_MEAN               (trajectory, obs) float64 dask.array<shape=(2, 85548), chunksize=(2, 348)>\n",
       "    TEMP_AIR_STDDEV             (trajectory, obs) float64 dask.array<shape=(2, 85548), chunksize=(2, 348)>\n",
       "    RH_MEAN                     (trajectory, obs) float64 dask.array<shape=(2, 85548), chunksize=(2, 348)>\n",
       "    RH_STDDEV                   (trajectory, obs) float64 dask.array<shape=(2, 85548), chunksize=(2, 348)>\n",
       "    BARO_PRES_MEAN              (trajectory, obs) float64 dask.array<shape=(2, 85548), chunksize=(2, 348)>\n",
       "    BARO_PRES_STDDEV            (trajectory, obs) float64 dask.array<shape=(2, 85548), chunksize=(2, 348)>\n",
       "    PAR_AIR_MEAN                (trajectory, obs) float64 dask.array<shape=(2, 85548), chunksize=(2, 348)>\n",
       "    PAR_AIR_STDDEV              (trajectory, obs) float64 dask.array<shape=(2, 85548), chunksize=(2, 348)>\n",
       "    TEMP_IR_SKY_UNCOMP_MEAN     (trajectory, obs) float64 dask.array<shape=(2, 85548), chunksize=(2, 348)>\n",
       "    TEMP_IR_SKY_UNCOMP_STDDEV   (trajectory, obs) float64 dask.array<shape=(2, 85548), chunksize=(2, 348)>\n",
       "    TEMP_IR_SEA_MEAN            (trajectory, obs) float64 dask.array<shape=(2, 85548), chunksize=(2, 348)>\n",
       "    TEMP_IR_SEA_STDDEV          (trajectory, obs) float64 dask.array<shape=(2, 85548), chunksize=(2, 348)>\n",
       "    TEMP_IR_UNCOMP_MEAN         (trajectory, obs) float64 dask.array<shape=(2, 85548), chunksize=(2, 348)>\n",
       "    TEMP_IR_UNCOMP_STDDEV       (trajectory, obs) float64 dask.array<shape=(2, 85548), chunksize=(2, 348)>\n",
       "    WAVE_DOMINANT_PERIOD        (trajectory, obs) float64 dask.array<shape=(2, 85548), chunksize=(2, 348)>\n",
       "    WAVE_SIGNIFICANT_HEIGHT     (trajectory, obs) float64 dask.array<shape=(2, 85548), chunksize=(2, 348)>\n",
       "    TEMP_SBE37_MEAN             (trajectory, obs) float64 dask.array<shape=(2, 85548), chunksize=(2, 348)>\n",
       "    TEMP_SBE37_STDDEV           (trajectory, obs) float64 dask.array<shape=(2, 85548), chunksize=(2, 348)>\n",
       "    SAL_SBE37_MEAN              (trajectory, obs) float64 dask.array<shape=(2, 85548), chunksize=(2, 348)>\n",
       "    SAL_SBE37_STDDEV            (trajectory, obs) float64 dask.array<shape=(2, 85548), chunksize=(2, 348)>\n",
       "    COND_SBE37_MEAN             (trajectory, obs) float64 dask.array<shape=(2, 85548), chunksize=(2, 348)>\n",
       "    COND_SBE37_STDDEV           (trajectory, obs) float64 dask.array<shape=(2, 85548), chunksize=(2, 348)>\n",
       "    TEMP_CTD_RBR_MEAN           (trajectory, obs) float64 dask.array<shape=(2, 85548), chunksize=(2, 348)>\n",
       "    TEMP_CTD_RBR_STDDEV         (trajectory, obs) float64 dask.array<shape=(2, 85548), chunksize=(2, 348)>\n",
       "    SAL_RBR_MEAN                (trajectory, obs) float64 dask.array<shape=(2, 85548), chunksize=(2, 348)>\n",
       "    SAL_RBR_STDDEV              (trajectory, obs) float64 dask.array<shape=(2, 85548), chunksize=(2, 348)>\n",
       "    COND_RBR_MEAN               (trajectory, obs) float64 dask.array<shape=(2, 85548), chunksize=(2, 348)>\n",
       "    COND_RBR_STDDEV             (trajectory, obs) float64 dask.array<shape=(2, 85548), chunksize=(2, 348)>\n",
       "    O2_CONC_SBE37_MEAN          (trajectory, obs) float64 dask.array<shape=(2, 85548), chunksize=(2, 348)>\n",
       "    O2_CONC_SBE37_STDDEV        (trajectory, obs) float64 dask.array<shape=(2, 85548), chunksize=(2, 348)>\n",
       "    O2_SAT_SBE37_MEAN           (trajectory, obs) float64 dask.array<shape=(2, 85548), chunksize=(2, 348)>\n",
       "    O2_SAT_SBE37_STDDEV         (trajectory, obs) float64 dask.array<shape=(2, 85548), chunksize=(2, 348)>\n",
       "    O2_CONC_RBR_MEAN            (trajectory, obs) float64 dask.array<shape=(2, 85548), chunksize=(2, 348)>\n",
       "    O2_CONC_RBR_STDDEV          (trajectory, obs) float64 dask.array<shape=(2, 85548), chunksize=(2, 348)>\n",
       "    O2_SAT_RBR_MEAN             (trajectory, obs) float64 dask.array<shape=(2, 85548), chunksize=(2, 348)>\n",
       "    O2_SAT_RBR_STDDEV           (trajectory, obs) float64 dask.array<shape=(2, 85548), chunksize=(2, 348)>\n",
       "    TEMP_O2_RBR_MEAN            (trajectory, obs) float64 dask.array<shape=(2, 85548), chunksize=(2, 348)>\n",
       "    TEMP_O2_RBR_STDDEV          (trajectory, obs) float64 dask.array<shape=(2, 85548), chunksize=(2, 348)>\n",
       "    CHLOR_WETLABS_MEAN          (trajectory, obs) float64 dask.array<shape=(2, 85548), chunksize=(2, 348)>\n",
       "    CHLOR_WETLABS_STDDEV        (trajectory, obs) float64 dask.array<shape=(2, 85548), chunksize=(2, 348)>\n",
       "    CHLOR_RBR_MEAN              (trajectory, obs) float64 dask.array<shape=(2, 85548), chunksize=(2, 348)>\n",
       "    CHLOR_RBR_STDDEV            (trajectory, obs) float64 dask.array<shape=(2, 85548), chunksize=(2, 348)>\n",
       "Attributes:\n",
       "    title:                     Arctic 2019 Real-Time-Data\n",
       "    summary:                   Arctic 2019 Mission\n",
       "    ncei_template_version:     NCEI_NetCDF_Trajectory_Template_v2.0\n",
       "    Conventions:               CF-1.6, ACDD-1.3\n",
       "    netcdf_version:            4.4.1.1\n",
       "    featureType:               trajectory\n",
       "    cdm_data_type:             Trajectory\n",
       "    standard_name_vocabulary:  CF Standard Name Table v58\n",
       "    description:               Saildrone NetCDF Format\n",
       "    creator_name:              Saildrone\n",
       "    platform:                  Saildrone\n",
       "    institution:               Saildrone\n",
       "    creator_email:             support@saildrone.com\n",
       "    creator_url:               http://saildrone.com/\n",
       "    date_created:              2019-05-15T00:30:49.154604Z\n",
       "    interval:                  60.0\n",
       "    time_coverage_resolution:  PT1M\n",
       "    time_coverage_start:       2019-05-14T00:00:00.000000Z\n",
       "    time_coverage_end:         2019-05-14T23:59:59.000000Z\n",
       "    time_coverage_duration:    PT23H59M59S\n",
       "    area:                      unassigned\n",
       "    data_mode:                 realtime\n",
       "    drone_id:                  1036\n",
       "    id:                        22550\n",
       "    naming_authority:          com.saildrone\n",
       "    uuid:                      a5ff624e-a826-4107-b53c-6579c9e0ec3f\n",
       "    project:                   Arctic-MISST-2019\n",
       "    geospatial_lat_min:        53.8446848\n",
       "    geospatial_lat_max:        53.8709952\n",
       "    geospatial_lat_units:      degrees_north\n",
       "    geospatial_lon_min:        -166.5827968\n",
       "    geospatial_lon_max:        -166.5734784\n",
       "    geospatial_lon_units:      degrees_east"
      ]
     },
     "execution_count": 5,
     "metadata": {},
     "output_type": "execute_result"
    }
   ],
   "source": [
    "file_dir = 'F:/data/cruise_data/saildrone/2019_arctic/daily_files/*.nc'\n",
    "ds = xr.open_mfdataset(file_dir,data_vars='minimal')\n",
    "ds"
   ]
  },
  {
   "cell_type": "code",
   "execution_count": 17,
   "metadata": {},
   "outputs": [],
   "source": [
    "ds_36 = ds.sel(trajectory=1036)\n",
    "ds_36 = ds_36.swap_dims({'obs':'time'})\n",
    "ds_37 = ds.sel(trajectory=1037)\n",
    "ds_37 = ds_37.swap_dims({'obs':'time'})\n"
   ]
  },
  {
   "cell_type": "code",
   "execution_count": 19,
   "metadata": {},
   "outputs": [
    {
     "name": "stderr",
     "output_type": "stream",
     "text": [
      "C:\\Users\\gentemann\\Miniconda3\\envs\\satenv\\lib\\site-packages\\pandas\\plotting\\_converter.py:129: FutureWarning: Using an implicitly registered datetime converter for a matplotlib plotting method. The converter was registered by pandas on import. Future versions of pandas will require you to explicitly register matplotlib converters.\n",
      "\n",
      "To register the converters:\n",
      "\t>>> from pandas.plotting import register_matplotlib_converters\n",
      "\t>>> register_matplotlib_converters()\n",
      "  warnings.warn(msg, FutureWarning)\n"
     ]
    },
    {
     "data": {
      "text/plain": [
       "[<matplotlib.lines.Line2D at 0x1e94f93a588>]"
      ]
     },
     "execution_count": 19,
     "metadata": {},
     "output_type": "execute_result"
    },
    {
     "data": {
      "image/png": "[encoded data removed]",
      "text/plain": [
       "<Figure size 432x288 with 1 Axes>"
      ]
     },
     "metadata": {
      "needs_background": "light"
     },
     "output_type": "display_data"
    }
   ],
   "source": [
    "ds_36.TEMP_SBE37_MEAN.plot()"
   ]
  },
  {
   "cell_type": "code",
   "execution_count": null,
   "metadata": {},
   "outputs": [],
   "source": []
  }
 ],
 "metadata": {
  "kernelspec": {
   "display_name": "Python 3",
   "language": "python",
   "name": "python3"
  },
  "language_info": {
   "codemirror_mode": {
    "name": "ipython",
    "version": 3
   },
   "file_extension": ".py",
   "mimetype": "text/x-python",
   "name": "python",
   "nbconvert_exporter": "python",
   "pygments_lexer": "ipython3",
   "version": "3.7.1"
  }
 },
 "nbformat": 4,
 "nbformat_minor": 2
}
