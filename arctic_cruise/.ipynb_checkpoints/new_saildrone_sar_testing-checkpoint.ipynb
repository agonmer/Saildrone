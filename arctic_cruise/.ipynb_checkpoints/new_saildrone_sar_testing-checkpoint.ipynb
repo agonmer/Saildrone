{
 "cells": [
  {
   "cell_type": "code",
   "execution_count": 11,
   "metadata": {},
   "outputs": [],
   "source": [
    "import gdal\n",
    "import urllib.request\n",
    "import xarray as xr\n",
    "import numpy as np\n",
    "import time\n",
    "from datetime import datetime, date, time, timedelta\n",
    "from matplotlib.pyplot import figure\n",
    "import matplotlib.pyplot as plt\n",
    "import cartopy.crs as ccrs\n",
    "import urllib\n",
    "import requests\n",
    "import json"
   ]
  },
  {
   "cell_type": "markdown",
   "metadata": {},
   "source": [
    "## Read in the USV daily files and your instance code from a text file"
   ]
  },
  {
   "cell_type": "code",
   "execution_count": 12,
   "metadata": {},
   "outputs": [],
   "source": [
    "#read in USV data\n",
    "#file_dir = 'F:/data/cruise_data/saildrone/2019_arctic/daily_files/*.nc'\n",
    "#ds_usv = xr.open_mfdataset(file_dir,data_vars='minimal')\n",
    "#ds_usv.load()\n",
    "#not useing this right now but consider putting instance here\n",
    "def get_key(file_name):\n",
    "    myvars = {}\n",
    "    with open(file_name) as myfile:\n",
    "        for line in myfile:\n",
    "            name, var = line.partition(\"=\")[::2]\n",
    "            myvars[name.strip()] = str(var).rstrip()\n",
    "    return myvars\n",
    "\n",
    "file_key = \"C:/Users/gentemann/Google Drive/f_drive/secret_keys/sentinelhub_bingkun.txt\"\n",
    "my_vars = get_key(file_key)\n",
    "file_key = \"C:/Users/gentemann/Google Drive/f_drive/secret_keys/saildrone.txt\"\n",
    "saildrone_key = get_key(file_key)\n"
   ]
  },
  {
   "cell_type": "markdown",
   "metadata": {},
   "source": [
    "## Use restful API to get USV locations"
   ]
  },
  {
   "cell_type": "code",
   "execution_count": null,
   "metadata": {},
   "outputs": [],
   "source": []
  },
  {
   "cell_type": "code",
   "execution_count": 15,
   "metadata": {},
   "outputs": [
    {
     "data": {
      "text/plain": [
       "<xarray.Dataset>\n",
       "Dimensions:                         (time: 118475)\n",
       "Coordinates:\n",
       "    trajectory                      float32 ...\n",
       "  * time                            (time) datetime64[ns] 2019-05-14T18:12:00 ... 2019-08-05T08:59:00\n",
       "    lat                             (time) float64 ...\n",
       "    lon                             (time) float64 ...\n",
       "Data variables:\n",
       "    SOG                             (time) float64 ...\n",
       "    SOG_FILTERED_MEAN               (time) float64 ...\n",
       "    SOG_FILTERED_STDDEV             (time) float64 ...\n",
       "    SOG_FILTERED_MAX                (time) float64 ...\n",
       "    SOG_FILTERED_MIN                (time) float64 ...\n",
       "    COG                             (time) float64 ...\n",
       "    COG_FILTERED_MEAN               (time) float64 ...\n",
       "    COG_FILTERED_STDDEV             (time) float64 ...\n",
       "    HDG                             (time) float64 ...\n",
       "    HDG_FILTERED_MEAN               (time) float64 ...\n",
       "    HDG_FILTERED_STDDEV             (time) float64 ...\n",
       "    ROLL_FILTERED_MEAN              (time) float64 ...\n",
       "    ROLL_FILTERED_STDDEV            (time) float64 ...\n",
       "    ROLL_FILTERED_PEAK              (time) float64 ...\n",
       "    PITCH_FILTERED_MEAN             (time) float64 ...\n",
       "    PITCH_FILTERED_STDDEV           (time) float64 ...\n",
       "    PITCH_FILTERED_PEAK             (time) float64 ...\n",
       "    HDG_WING                        (time) float64 ...\n",
       "    WING_HDG_FILTERED_MEAN          (time) float64 ...\n",
       "    WING_HDG_FILTERED_STDDEV        (time) float64 ...\n",
       "    WING_ROLL_FILTERED_MEAN         (time) float64 ...\n",
       "    WING_ROLL_FILTERED_STDDEV       (time) float64 ...\n",
       "    WING_ROLL_FILTERED_PEAK         (time) float64 ...\n",
       "    WING_PITCH_FILTERED_MEAN        (time) float64 ...\n",
       "    WING_PITCH_FILTERED_STDDEV      (time) float64 ...\n",
       "    WING_PITCH_FILTERED_PEAK        (time) float64 ...\n",
       "    WING_ANGLE                      (time) float64 ...\n",
       "    UWND_MEAN                       (time) float64 ...\n",
       "    UWND_STDDEV                     (time) float64 ...\n",
       "    VWND_MEAN                       (time) float64 ...\n",
       "    VWND_STDDEV                     (time) float64 ...\n",
       "    WWND_MEAN                       (time) float64 ...\n",
       "    WWND_STDDEV                     (time) float64 ...\n",
       "    GUST_WND_MEAN                   (time) float64 ...\n",
       "    GUST_WND_STDDEV                 (time) float64 ...\n",
       "    WIND_HEIGHT_MEAN                (time) float64 ...\n",
       "    WIND_HEIGHT_STDDEV              (time) float64 ...\n",
       "    TEMP_AIR_MEAN                   (time) float64 ...\n",
       "    TEMP_AIR_STDDEV                 (time) float64 ...\n",
       "    RH_MEAN                         (time) float64 ...\n",
       "    RH_STDDEV                       (time) float64 ...\n",
       "    BARO_PRES_MEAN                  (time) float64 ...\n",
       "    BARO_PRES_STDDEV                (time) float64 ...\n",
       "    PAR_AIR_MEAN                    (time) float64 ...\n",
       "    PAR_AIR_STDDEV                  (time) float64 ...\n",
       "    TEMP_IR_SKY_HULL_MEAN           (time) float64 ...\n",
       "    TEMP_IR_SKY_HULL_STDDEV         (time) float64 ...\n",
       "    TEMP_IR_SEA_HULL_UNCOMP_MEAN    (time) float64 ...\n",
       "    TEMP_IR_SEA_HULL_UNCOMP_STDDEV  (time) float64 ...\n",
       "    TEMP_IR_SEA_WING_UNCOMP_MEAN    (time) float64 ...\n",
       "    TEMP_IR_SEA_WING_UNCOMP_STDDEV  (time) float64 ...\n",
       "    WAVE_DOMINANT_PERIOD            (time) float64 ...\n",
       "    WAVE_SIGNIFICANT_HEIGHT         (time) float64 ...\n",
       "    TEMP_SBE37_MEAN                 (time) float64 ...\n",
       "    TEMP_SBE37_STDDEV               (time) float64 ...\n",
       "    SAL_SBE37_MEAN                  (time) float64 ...\n",
       "    SAL_SBE37_STDDEV                (time) float64 ...\n",
       "    COND_SBE37_MEAN                 (time) float64 ...\n",
       "    COND_SBE37_STDDEV               (time) float64 ...\n",
       "    TEMP_CTD_RBR_MEAN               (time) float64 ...\n",
       "    TEMP_CTD_RBR_STDDEV             (time) float64 ...\n",
       "    SAL_RBR_MEAN                    (time) float64 ...\n",
       "    SAL_RBR_STDDEV                  (time) float64 ...\n",
       "    COND_RBR_MEAN                   (time) float64 ...\n",
       "    COND_RBR_STDDEV                 (time) float64 ...\n",
       "    O2_CONC_SBE37_MEAN              (time) float64 ...\n",
       "    O2_CONC_SBE37_STDDEV            (time) float64 ...\n",
       "    O2_SAT_SBE37_MEAN               (time) float64 ...\n",
       "    O2_SAT_SBE37_STDDEV             (time) float64 ...\n",
       "    O2_CONC_RBR_MEAN                (time) float64 ...\n",
       "    O2_CONC_RBR_STDDEV              (time) float64 ...\n",
       "    O2_SAT_RBR_MEAN                 (time) float64 ...\n",
       "    O2_SAT_RBR_STDDEV               (time) float64 ...\n",
       "    TEMP_O2_RBR_MEAN                (time) float64 ...\n",
       "    TEMP_O2_RBR_STDDEV              (time) float64 ...\n",
       "    CHLOR_WETLABS_MEAN              (time) float64 ...\n",
       "    CHLOR_WETLABS_STDDEV            (time) float64 ...\n",
       "    CHLOR_RBR_MEAN                  (time) float64 ...\n",
       "    CHLOR_RBR_STDDEV                (time) float64 ...\n",
       "Attributes:\n",
       "    title:                     Arctic 2019 Real-Time-Data\n",
       "    summary:                   Arctic 2019 Mission\n",
       "    ncei_template_version:     NCEI_NetCDF_Trajectory_Template_v2.0\n",
       "    Conventions:               CF-1.6, ACDD-1.3\n",
       "    netcdf_version:            4.4.1.1\n",
       "    featureType:               trajectory\n",
       "    cdm_data_type:             Trajectory\n",
       "    standard_name_vocabulary:  CF Standard Name Table v58\n",
       "    description:               Saildrone NetCDF Format\n",
       "    creator_name:              Saildrone\n",
       "    platform:                  Saildrone\n",
       "    institution:               Saildrone\n",
       "    creator_email:             support@saildrone.com\n",
       "    creator_url:               http://saildrone.com/\n",
       "    date_created:              2019-07-12T20:50:12.303984Z\n",
       "    interval:                  60.0\n",
       "    time_coverage_resolution:  PT1M\n",
       "    time_coverage_start:       2019-05-14T18:00:00.000000Z\n",
       "    time_coverage_end:         2019-05-14T20:59:59.999000Z\n",
       "    time_coverage_duration:    PT2H59M59.999S\n",
       "    area:                      Arctic Ocean\n",
       "    data_mode:                 realtime\n",
       "    drone_id:                  1036\n",
       "    id:                        36086\n",
       "    naming_authority:          com.saildrone\n",
       "    uuid:                      58af04eb-6afe-4100-ba3c-2fa507c2e5c9\n",
       "    project:                   Arctic-MISST-2019\n",
       "    geospatial_lat_min:        53.8446848\n",
       "    geospatial_lat_max:        53.8449856\n",
       "    geospatial_lat_units:      degrees_north\n",
       "    geospatial_lon_min:        -166.5787008\n",
       "    geospatial_lon_max:        -166.5784576\n",
       "    geospatial_lon_units:      degrees_east"
      ]
     },
     "execution_count": 15,
     "metadata": {},
     "output_type": "execute_result"
    }
   ],
   "source": [
    "ds_usv = xr.open_dataset('C:/Users/Gentemann/Desktop/arctic_2019_sd1036-ALL-1_min-v1.nc')\n",
    "ds_usv"
   ]
  },
  {
   "cell_type": "code",
   "execution_count": 16,
   "metadata": {},
   "outputs": [
    {
     "name": "stderr",
     "output_type": "stream",
     "text": [
      "No handles with labels found to put in legend.\n"
     ]
    },
    {
     "data": {
      "text/plain": [
       "<matplotlib.legend.Legend at 0x1cc6a568688>"
      ]
     },
     "execution_count": 16,
     "metadata": {},
     "output_type": "execute_result"
    },
    {
     "name": "stderr",
     "output_type": "stream",
     "text": [
      "C:\\Users\\gentemann\\Miniconda3\\envs\\sarenv\\lib\\site-packages\\IPython\\core\\events.py:88: UserWarning: Creating legend with loc=\"best\" can be slow with large amounts of data.\n",
      "  func(*args, **kwargs)\n",
      "C:\\Users\\gentemann\\Miniconda3\\envs\\sarenv\\lib\\site-packages\\IPython\\core\\pylabtools.py:128: UserWarning: Creating legend with loc=\"best\" can be slow with large amounts of data.\n",
      "  fig.canvas.print_figure(bytes_io, **kw)\n"
     ]
    },
    {
     "data": {
      "image/png": "[encoded data removed]",
      "text/plain": [
       "<Figure size 432x288 with 1 Axes>"
      ]
     },
     "metadata": {
      "needs_background": "light"
     },
     "output_type": "display_data"
    }
   ],
   "source": [
    "#plot the usv tracks\n",
    "for iusv in range(4):\n",
    "    plt.plot(ds_usv.lon,ds_usv.lat)\n",
    "plt.legend()"
   ]
  },
  {
   "cell_type": "code",
   "execution_count": null,
   "metadata": {},
   "outputs": [],
   "source": [
    "#endtime = datetime.today().strftime('%Y-%m-%d')\n",
    "endtime = (datetime.today() + timedelta(days=1)).strftime('%Y-%m-%d')\n",
    "starttime = (datetime.today() + timedelta(days=-5)).strftime('%Y-%m-%d')\n",
    "#use usv data to calculate bounding box\n",
    "for iusv in range(4):\n",
    "    subset = ds_usv\n",
    "    subset = subset.where(np.isfinite(subset.lon),drop=True)\n",
    "    lonmin,lonmax = str(subset.lon[0].data-1),str(subset.lon[0].data+1)\n",
    "    latmin,latmax = str(subset.lat[0].data-1),str(subset.lat[0].data+1)\n",
    "    #print(lonmin,lonmax,latmin,latmax)\n",
    "#    url = 'https://services.sentinel-hub.com/ogc/wms/'+my_vars[\"instance\"]+'?SERVICE=WMS&REQUEST=GetMap&SHOWLOGO=true&MAXCC=100&TIME='+starttime+'%2F'+endtime+'&CRS=EPSG%3A4326&FORMAT=image%2Ftiff%3Bdepth%3D8&BBOX='+latmax+'%2C'+lonmax+'%2C'+latmin+'%2C'+lonmin+'&evalscriptoverrides=&LAYERS=1_TRUE_COLOR&WIDTH=4076&HEIGHT=1989&NICENAME=S1.tiff&COVERAGE' \n",
    "    url = 'https://services.sentinel-hub.com/ogc/wms/'+my_vars[\"instance\"]+'?SERVICE=WMS&REQUEST=GetMap&SHOWLOGO=true&MAXCC=100&TIME='+starttime+'%2F'+endtime+'&CRS=EPSG%3A4326&FORMAT=image%2Ftiff%3Bdepth%3D8&BBOX='+latmax+'%2C'+lonmax+'%2C'+latmin+'%2C'+lonmin+'&evalscriptoverrides=&LAYERS=1_TRUE_COLOR&WIDTH=4076&HEIGHT=1989&NICENAME=S1.tiff&COVERAGE' \n",
    "#    url = 'https://eocloud.sentinel-hub.com/v1/wms/'+my_vars[\"instance\"]+'?SERVICE=WMS&REQUEST=GetMap&SHOWLOGO=true&MAXCC=100&TIME=2019-06-26%2F2019-06-26&CRS=EPSG%3A3857&FORMAT=image%2Ftiff%3Bdepth%3D32f&BBOX=-19164303%2C10971589%2C-16835703%2C12069589&evalscriptoverrides=&LAYERS=1_TRUE_COLOR&WIDTH=3881&HEIGHT=1830&NICENAME=Sentinel-3+OLCI+from+2019-06-26.tiff&COVERAGE'\n",
    "#    url = 'https://eocloud.sentinel-hub.com/v1/wms/1180d546-51af-442e-9a06-d490007ab3a5?SERVICE=WMS&REQUEST=GetMap&SHOWLOGO=true&MAXCC=100&TIME=2019-06-23%2F2019-06-26&CRS=EPSG%3A3857&FORMAT=image%2Fpng&BBOX=-17934019%2C11128804%2C-17666552%2C11944360&evalscriptoverrides=&LAYERS=1_TRUE_COLOR&WIDTH=2935&HEIGHT=1401&NICENAME=S1.png&TRANSPARENT=0&BGCOLOR=00000000'\n",
    "    print(url)\n",
    "    urllib.request.urlretrieve(url,'S11.tiff')  \n",
    "    #Open S1 ice file\n",
    "    driver=gdal.GetDriverByName('GTiff')\n",
    "    driver.Register() \n",
    "    ds = gdal.Open('S11.tiff') \n",
    "    if ds is None:\n",
    "        print('Could not open the Copernicus Sentinel-1 ice data')\n",
    "    geotransform = ds.GetGeoTransform()\n",
    "    cols = ds.RasterXSize \n",
    "    rows = ds.RasterYSize \n",
    "    xmin=geotransform[0]\n",
    "    ymax=geotransform[3]\n",
    "    xmax=xmin+cols*geotransform[1]\n",
    "    ymin=ymax+rows*geotransform[5]\n",
    "#    xmin=geotransform[0]\n",
    "#    ymax=geotransform[3]\n",
    "#    xmax=xmin+cols*geotransform[1]\n",
    "#    ymin=ymax+rows*geotransform[5]\n",
    "    centerx=(xmin+xmax)/2\n",
    "    centery=(ymin+ymax)/2\n",
    "\n",
    "    #Raster convert to array in numpy\n",
    "    bands = ds.RasterCount\n",
    "    band=ds.GetRasterBand(1)\n",
    "    dataimage= band.ReadAsArray(0,0,cols,rows)\n",
    "\n",
    "    print(xmin,xmax,ymin,ymax)\n",
    "    xx=xmin+np.arange(dataimage.shape[1])/dataimage.shape[1]*(xmax-xmin)\n",
    "    yy=ymin+np.arange(dataimage.shape[0])/dataimage.shape[0]*(ymax-ymin)\n",
    "    #print(xx.shape,yy.shape)\n",
    "    #print(xx[0],xx[-1],yy[0],yy[-1])\n",
    "    fig = plt.figure(figsize=(8, 8), dpi=400)\n",
    "    plt.pcolormesh(xx,yy,dataimage[-1:0:-1,:])# ,vmin=10,vmax=200)\n",
    "    plt.xlim(xmin,xmax)\n",
    "    plt.ylim(ymin,ymax)\n",
    "    for itrag in range(0,ds_usv.trajectory.size):\n",
    "        subset = ds_usv.isel(trajectory=itrag)\n",
    "        subset = subset.where(np.isfinite(subset.lon),drop=True)\n",
    "        plt.plot(subset.lon,subset.lat,label=str(ds_usv.trajectory[itrag].data))\n",
    "    plt.grid(color='w')\n",
    "    plt.legend(loc=2)\n",
    "        #plt.colorbar()\n",
    " #   fig_fname = 'C:/Users/gentemann/Google Drive/public/Saildrone/arctic_zoom_'+str(ds_usv.trajectory[iusv].data)+'_'+str(endtime)+'.png'\n",
    " #   plt.savefig(fig_fname, transparent=False, format='png',dpi=400)\n",
    "    "
   ]
  },
  {
   "cell_type": "code",
   "execution_count": null,
   "metadata": {},
   "outputs": [],
   "source": [
    "#to put into xr\n",
    "#ds = xr.DataArray(dataimage.T,name='s2image',coords={'lon':xx,'lat':yy},dims=('lon','lat'))"
   ]
  },
  {
   "cell_type": "code",
   "execution_count": null,
   "metadata": {},
   "outputs": [],
   "source": []
  }
 ],
 "metadata": {
  "kernelspec": {
   "display_name": "Python 3",
   "language": "python",
   "name": "python3"
  },
  "language_info": {
   "codemirror_mode": {
    "name": "ipython",
    "version": 3
   },
   "file_extension": ".py",
   "mimetype": "text/x-python",
   "name": "python",
   "nbconvert_exporter": "python",
   "pygments_lexer": "ipython3",
   "version": "3.7.4"
  }
 },
 "nbformat": 4,
 "nbformat_minor": 2
}
