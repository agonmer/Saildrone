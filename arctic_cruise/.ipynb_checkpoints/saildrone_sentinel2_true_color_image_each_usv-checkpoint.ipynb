{
 "cells": [
  {
   "cell_type": "code",
   "execution_count": 1,
   "metadata": {},
   "outputs": [],
   "source": [
    "import gdal\n",
    "import urllib.request\n",
    "import xarray as xr\n",
    "import numpy as np\n",
    "import time\n",
    "from datetime import datetime, date, time, timedelta\n",
    "from matplotlib.pyplot import figure\n",
    "import matplotlib.pyplot as plt\n",
    "import cartopy.crs as ccrs\n",
    "import urllib\n",
    "import requests\n",
    "import json"
   ]
  },
  {
   "cell_type": "markdown",
   "metadata": {},
   "source": [
    "## Read in the USV daily files and your instance code from a text file"
   ]
  },
  {
   "cell_type": "code",
   "execution_count": 2,
   "metadata": {},
   "outputs": [],
   "source": [
    "#read in USV data\n",
    "#file_dir = 'F:/data/cruise_data/saildrone/2019_arctic/daily_files/*.nc'\n",
    "#ds_usv = xr.open_mfdataset(file_dir,data_vars='minimal')\n",
    "#ds_usv.load()\n",
    "#not useing this right now but consider putting instance here\n",
    "def get_key(file_name):\n",
    "    myvars = {}\n",
    "    with open(file_name) as myfile:\n",
    "        for line in myfile:\n",
    "            name, var = line.partition(\"=\")[::2]\n",
    "            myvars[name.strip()] = str(var).rstrip()\n",
    "    return myvars\n",
    "\n",
    "file_key = \"C:/Users/gentemann/Google Drive/f_drive/secret_keys/sentinelhub_bingkun.txt\"\n",
    "my_vars = get_key(file_key)\n",
    "file_key = \"C:/Users/gentemann/Google Drive/f_drive/secret_keys/saildrone.txt\"\n",
    "saildrone_key = get_key(file_key)\n"
   ]
  },
  {
   "cell_type": "markdown",
   "metadata": {},
   "source": [
    "## Use restful API to get USV locations"
   ]
  },
  {
   "cell_type": "code",
   "execution_count": 3,
   "metadata": {},
   "outputs": [],
   "source": [
    "#endtime = datetime.today().strftime('%Y-%m-%d')\n",
    "endtime = (datetime.today() + timedelta(days=1)).strftime('%Y-%m-%d')\n",
    "starttime = (datetime.today() + timedelta(days=-5)).strftime('%Y-%m-%d')\n",
    "#all_usv = ['1041','1033','1034','1035','1036','1037']\n",
    "all_usv = ['1034','1035','1036','1037']\n",
    "\n",
    "#get token\n",
    "payload={'key': saildrone_key['key'], 'secret':saildrone_key['secret']}\n",
    "headers={'Content-Type':'application/json', 'Accept':'application/json'}\n",
    "url = 'https://developer-mission.saildrone.com/v1/auth'\n",
    "res = requests.post(url, json=payload, headers=headers)\n",
    "json_data = json.loads(res.text)\n",
    "\n",
    "names=[]\n",
    "ilen = 500 #len(usv_data['data'])\n",
    "usv_lats = np.empty((ilen,4))*np.nan\n",
    "usv_lons = np.empty((ilen,4))*np.nan\n",
    "usv_time = np.empty((ilen,4))*np.nan\n",
    "for iusv in range(4):\n",
    "    str_usv = all_usv[iusv]\n",
    "    url = 'https://developer-mission.saildrone.com/v1/timeseries/'+str_usv+'?data_set=vehicle&interval=5&start_date='+starttime+'&end_date='+endtime+'&order_by=desc&limit=500&offset=0'\n",
    "    payload = {}\n",
    "    headers = {'Accept':'application/json','authorization':json_data['token']}\n",
    "    res = requests.get(url, json=payload, headers=headers)\n",
    "    usv_data = json.loads(res.text)\n",
    "    #print(usv_data.data)\n",
    "    for i in range(ilen):\n",
    "        usv_lons[i,iusv]=usv_data['data'][i]['gps_lng']\n",
    "        usv_lats[i,iusv]=usv_data['data'][i]['gps_lat']\n",
    "        usv_time[i,iusv]=usv_data['data'][i]['gps_time']\n",
    "    names.append(str_usv)\n",
    "xlons = xr.DataArray(usv_lons,coords={'time':usv_time[:,0],'trajectory':names},dims=('time','trajectory'))\n",
    "xlats = xr.DataArray(usv_lats,coords={'time':usv_time[:,0],'trajectory':names},dims=('time','trajectory'))\n",
    "ds_usv = xr.Dataset({'lon': xlons,'lat':xlats})"
   ]
  },
  {
   "cell_type": "code",
   "execution_count": 4,
   "metadata": {},
   "outputs": [
    {
     "data": {
      "text/plain": [
       "<matplotlib.legend.Legend at 0x24974761e80>"
      ]
     },
     "execution_count": 4,
     "metadata": {},
     "output_type": "execute_result"
    },
    {
     "data": {
      "image/png": "[encoded data removed]",
      "text/plain": [
       "<Figure size 432x288 with 1 Axes>"
      ]
     },
     "metadata": {
      "needs_background": "light"
     },
     "output_type": "display_data"
    }
   ],
   "source": [
    "#plot the usv tracks\n",
    "for iusv in range(4):\n",
    "    plt.plot(ds_usv.lon[:,iusv],ds_usv.lat[:,iusv],label=ds_usv.trajectory[iusv].data)\n",
    "plt.legend()"
   ]
  },
  {
   "cell_type": "code",
   "execution_count": null,
   "metadata": {},
   "outputs": [
    {
     "name": "stdout",
     "output_type": "stream",
     "text": [
      "https://services.sentinel-hub.com/ogc/wms/ed64bf38-72da-4723-9c06-568b76b8add0?SERVICE=WMS&REQUEST=GetMap&SHOWLOGO=true&MAXCC=100&TIME=2019-06-26%2F2019-07-02&CRS=EPSG%3A4326&FORMAT=image%2Ftiff%3Bdepth%3D8&BBOX=72.2252096%2C-158.0804992%2C70.2252096%2C-160.0804992&evalscriptoverrides=&LAYERS=1_TRUE_COLOR&WIDTH=4076&HEIGHT=1989&NICENAME=S1.tiff&COVERAGE\n",
      "-160.0804992 -158.0804992 70.2252096 72.2252096\n",
      "https://services.sentinel-hub.com/ogc/wms/ed64bf38-72da-4723-9c06-568b76b8add0?SERVICE=WMS&REQUEST=GetMap&SHOWLOGO=true&MAXCC=100&TIME=2019-06-26%2F2019-07-02&CRS=EPSG%3A4326&FORMAT=image%2Ftiff%3Bdepth%3D8&BBOX=72.2115712%2C-158.1008%2C70.2115712%2C-160.1008&evalscriptoverrides=&LAYERS=1_TRUE_COLOR&WIDTH=4076&HEIGHT=1989&NICENAME=S1.tiff&COVERAGE\n",
      "-160.1008 -158.1008 70.2115712 72.2115712\n",
      "https://services.sentinel-hub.com/ogc/wms/ed64bf38-72da-4723-9c06-568b76b8add0?SERVICE=WMS&REQUEST=GetMap&SHOWLOGO=true&MAXCC=100&TIME=2019-06-26%2F2019-07-02&CRS=EPSG%3A4326&FORMAT=image%2Ftiff%3Bdepth%3D8&BBOX=72.1113728%2C-163.5683584%2C70.1113728%2C-165.5683584&evalscriptoverrides=&LAYERS=1_TRUE_COLOR&WIDTH=4076&HEIGHT=1989&NICENAME=S1.tiff&COVERAGE\n",
      "-165.5683584 -163.5683584 70.1113728 72.1113728\n",
      "https://services.sentinel-hub.com/ogc/wms/ed64bf38-72da-4723-9c06-568b76b8add0?SERVICE=WMS&REQUEST=GetMap&SHOWLOGO=true&MAXCC=100&TIME=2019-06-26%2F2019-07-02&CRS=EPSG%3A4326&FORMAT=image%2Ftiff%3Bdepth%3D8&BBOX=72.1928576%2C-163.5819392%2C70.1928576%2C-165.5819392&evalscriptoverrides=&LAYERS=1_TRUE_COLOR&WIDTH=4076&HEIGHT=1989&NICENAME=S1.tiff&COVERAGE\n",
      "-165.5819392 -163.5819392 70.1928576 72.1928576\n"
     ]
    }
   ],
   "source": [
    "#endtime = datetime.today().strftime('%Y-%m-%d')\n",
    "endtime = (datetime.today() + timedelta(days=1)).strftime('%Y-%m-%d')\n",
    "starttime = (datetime.today() + timedelta(days=-5)).strftime('%Y-%m-%d')\n",
    "#use usv data to calculate bounding box\n",
    "for iusv in range(4):\n",
    "    subset = ds_usv.isel(trajectory=iusv)\n",
    "    subset = subset.where(np.isfinite(subset.lon),drop=True)\n",
    "    lonmin,lonmax = str(subset.lon[0].data-1),str(subset.lon[0].data+1)\n",
    "    latmin,latmax = str(subset.lat[0].data-1),str(subset.lat[0].data+1)\n",
    "    #print(lonmin,lonmax,latmin,latmax)\n",
    "#    url = 'https://services.sentinel-hub.com/ogc/wms/'+my_vars[\"instance\"]+'?SERVICE=WMS&REQUEST=GetMap&SHOWLOGO=true&MAXCC=100&TIME='+starttime+'%2F'+endtime+'&CRS=EPSG%3A4326&FORMAT=image%2Ftiff%3Bdepth%3D8&BBOX='+latmax+'%2C'+lonmax+'%2C'+latmin+'%2C'+lonmin+'&evalscriptoverrides=&LAYERS=1_TRUE_COLOR&WIDTH=4076&HEIGHT=1989&NICENAME=S1.tiff&COVERAGE' \n",
    "    url = 'https://services.sentinel-hub.com/ogc/wms/'+my_vars[\"instance\"]+'?SERVICE=WMS&REQUEST=GetMap&SHOWLOGO=true&MAXCC=100&TIME='+starttime+'%2F'+endtime+'&CRS=EPSG%3A4326&FORMAT=image%2Ftiff%3Bdepth%3D8&BBOX='+latmax+'%2C'+lonmax+'%2C'+latmin+'%2C'+lonmin+'&evalscriptoverrides=&LAYERS=1_TRUE_COLOR&WIDTH=4076&HEIGHT=1989&NICENAME=S1.tiff&COVERAGE' \n",
    "#    url = 'https://eocloud.sentinel-hub.com/v1/wms/'+my_vars[\"instance\"]+'?SERVICE=WMS&REQUEST=GetMap&SHOWLOGO=true&MAXCC=100&TIME=2019-06-26%2F2019-06-26&CRS=EPSG%3A3857&FORMAT=image%2Ftiff%3Bdepth%3D32f&BBOX=-19164303%2C10971589%2C-16835703%2C12069589&evalscriptoverrides=&LAYERS=1_TRUE_COLOR&WIDTH=3881&HEIGHT=1830&NICENAME=Sentinel-3+OLCI+from+2019-06-26.tiff&COVERAGE'\n",
    "#    url = 'https://eocloud.sentinel-hub.com/v1/wms/1180d546-51af-442e-9a06-d490007ab3a5?SERVICE=WMS&REQUEST=GetMap&SHOWLOGO=true&MAXCC=100&TIME=2019-06-23%2F2019-06-26&CRS=EPSG%3A3857&FORMAT=image%2Fpng&BBOX=-17934019%2C11128804%2C-17666552%2C11944360&evalscriptoverrides=&LAYERS=1_TRUE_COLOR&WIDTH=2935&HEIGHT=1401&NICENAME=S1.png&TRANSPARENT=0&BGCOLOR=00000000'\n",
    "    print(url)\n",
    "    urllib.request.urlretrieve(url,'S11.tiff')  \n",
    "    #Open S1 ice file\n",
    "    driver=gdal.GetDriverByName('GTiff')\n",
    "    driver.Register() \n",
    "    ds = gdal.Open('S11.tiff') \n",
    "    if ds is None:\n",
    "        print('Could not open the Copernicus Sentinel-1 ice data')\n",
    "    geotransform = ds.GetGeoTransform()\n",
    "    cols = ds.RasterXSize \n",
    "    rows = ds.RasterYSize \n",
    "    xmin=geotransform[0]\n",
    "    ymax=geotransform[3]\n",
    "    xmax=xmin+cols*geotransform[1]\n",
    "    ymin=ymax+rows*geotransform[5]\n",
    "#    xmin=geotransform[0]\n",
    "#    ymax=geotransform[3]\n",
    "#    xmax=xmin+cols*geotransform[1]\n",
    "#    ymin=ymax+rows*geotransform[5]\n",
    "    centerx=(xmin+xmax)/2\n",
    "    centery=(ymin+ymax)/2\n",
    "\n",
    "    #Raster convert to array in numpy\n",
    "    bands = ds.RasterCount\n",
    "    band=ds.GetRasterBand(1)\n",
    "    dataimage= band.ReadAsArray(0,0,cols,rows)\n",
    "\n",
    "    print(xmin,xmax,ymin,ymax)\n",
    "    xx=xmin+np.arange(dataimage.shape[1])/dataimage.shape[1]*(xmax-xmin)\n",
    "    yy=ymin+np.arange(dataimage.shape[0])/dataimage.shape[0]*(ymax-ymin)\n",
    "    #print(xx.shape,yy.shape)\n",
    "    #print(xx[0],xx[-1],yy[0],yy[-1])\n",
    "    fig = plt.figure(figsize=(8, 8), dpi=400)\n",
    "    plt.pcolormesh(xx,yy,dataimage[-1:0:-1,:])# ,vmin=10,vmax=200)\n",
    "    plt.xlim(xmin,xmax)\n",
    "    plt.ylim(ymin,ymax)\n",
    "    for itrag in range(0,ds_usv.trajectory.size):\n",
    "        subset = ds_usv.isel(trajectory=itrag)\n",
    "        subset = subset.where(np.isfinite(subset.lon),drop=True)\n",
    "        plt.plot(subset.lon,subset.lat,label=str(ds_usv.trajectory[itrag].data))\n",
    "    plt.grid(color='w')\n",
    "    plt.legend(loc=2)\n",
    "        #plt.colorbar()\n",
    "    fig_fname = 'C:/Users/gentemann/Google Drive/public/Saildrone/arctic_zoom_'+str(ds_usv.trajectory[iusv].data)+'_'+str(endtime)+'.png'\n",
    "    plt.savefig(fig_fname, transparent=False, format='png',dpi=400)\n",
    "    "
   ]
  },
  {
   "cell_type": "code",
   "execution_count": 10,
   "metadata": {},
   "outputs": [
    {
     "data": {
      "text/plain": [
       "(-19164303.0, 600.0, 0.0, 12069589.0, 0.0, -600.0)"
      ]
     },
     "execution_count": 10,
     "metadata": {},
     "output_type": "execute_result"
    }
   ],
   "source": [
    "geotransform"
   ]
  },
  {
   "cell_type": "code",
   "execution_count": null,
   "metadata": {},
   "outputs": [],
   "source": []
  }
 ],
 "metadata": {
  "kernelspec": {
   "display_name": "Python 3",
   "language": "python",
   "name": "python3"
  },
  "language_info": {
   "codemirror_mode": {
    "name": "ipython",
    "version": 3
   },
   "file_extension": ".py",
   "mimetype": "text/x-python",
   "name": "python",
   "nbconvert_exporter": "python",
   "pygments_lexer": "ipython3",
   "version": "3.7.3"
  }
 },
 "nbformat": 4,
 "nbformat_minor": 2
}
