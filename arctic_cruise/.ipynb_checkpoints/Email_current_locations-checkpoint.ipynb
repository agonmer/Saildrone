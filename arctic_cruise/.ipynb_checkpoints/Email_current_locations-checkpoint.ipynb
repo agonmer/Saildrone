{
 "cells": [
  {
   "cell_type": "code",
   "execution_count": 3,
   "metadata": {},
   "outputs": [],
   "source": [
    "import urllib.request\n",
    "import xarray as xr\n",
    "import numpy as np\n",
    "from datetime import datetime, date, time, timedelta\n",
    "import urllib\n",
    "import requests\n",
    "import json\n",
    "import smtplib\n",
    "\n"
   ]
  },
  {
   "cell_type": "code",
   "execution_count": 4,
   "metadata": {},
   "outputs": [],
   "source": [
    "\n",
    "#not useing this right now but consider putting instance here\n",
    "def get_key(file_name):\n",
    "    myvars = {}\n",
    "    with open(file_name) as myfile:\n",
    "        for line in myfile:\n",
    "            name, var = line.partition(\"=\")[::2]\n",
    "            myvars[name.strip()] = str(var).rstrip()\n",
    "    return myvars\n",
    "\n",
    "file_key = \"C:/Users/gentemann/Google Drive/f_drive/secret_keys/saildrone.txt\"\n",
    "saildrone_key = get_key(file_key)\n",
    "file_key = \"C:/Users/gentemann/Google Drive/f_drive/secret_keys/gmail_login.txt\"\n",
    "email_key = get_key(file_key)\n",
    "\n",
    "# ## Use restful API to get USV locations\n",
    "\n",
    "endtime = datetime.today().strftime('%Y-%m-%d')\n",
    "starttime = (datetime.today() + timedelta(days=-5)).strftime('%Y-%m-%d')\n",
    "#all_usv = ['1041','1033','1034','1035','1036','1037']\n",
    "all_usv = ['1034','1035','1036','1037']\n",
    "#get token\n",
    "payload={'key': saildrone_key['key'], 'secret':saildrone_key['secret']}\n",
    "headers={'Content-Type':'application/json', 'Accept':'application/json'}\n",
    "url = 'https://developer-mission.saildrone.com/v1/auth'\n",
    "res = requests.post(url, json=payload, headers=headers)\n",
    "json_data = json.loads(res.text)\n",
    "names=[]\n",
    "inum_usv = len(all_usv)\n",
    "ilen = 500 #len(usv_data['data'])\n",
    "usv_lats = np.empty((ilen,inum_usv))*np.nan\n",
    "usv_lons = np.empty((ilen,inum_usv))*np.nan\n",
    "usv_time = np.empty((ilen,inum_usv))*np.nan\n",
    "for iusv in range(inum_usv):\n",
    "    str_usv = all_usv[iusv]\n",
    "    url = 'https://developer-mission.saildrone.com/v1/timeseries/'+str_usv+'?data_set=vehicle&interval=5&start_date='+starttime+'&end_date='+endtime+'&order_by=desc&limit=500&offset=0'\n",
    "    payload = {}\n",
    "    headers = {'Accept':'application/json','authorization':json_data['token']}\n",
    "    res = requests.get(url, json=payload, headers=headers)\n",
    "    usv_data = json.loads(res.text)\n",
    "    #print(usv_data.data)\n",
    "    for i in range(ilen):\n",
    "        usv_lons[i,iusv]=usv_data['data'][i]['gps_lng']\n",
    "        usv_lats[i,iusv]=usv_data['data'][i]['gps_lat']\n",
    "        usv_time[i,iusv]=usv_data['data'][i]['gps_time']\n",
    "    names.append(str_usv)\n",
    "xlons = xr.DataArray(usv_lons,coords={'time':usv_time[:,0],'trajectory':names},dims=('time','trajectory'))\n",
    "xlats = xr.DataArray(usv_lats,coords={'time':usv_time[:,0],'trajectory':names},dims=('time','trajectory'))\n",
    "ds_usv = xr.Dataset({'lon': xlons,'lat':xlats})\n"
   ]
  },
  {
   "cell_type": "code",
   "execution_count": 5,
   "metadata": {},
   "outputs": [],
   "source": [
    "msg_body=[]\n",
    "for i in range(1):\n",
    "    for j in range(inum_usv):\n",
    "        dt = datetime.fromtimestamp(ds_usv.time[i].data)\n",
    "        s = dt.strftime('%Y-%m-%d %H:%M:%S')\n",
    "        msg = all_usv[j]+\" \"+s+\" lon :{0:5.2f}, lat :{1:5.2f}    \".format(ds_usv.lon[i,j].data,ds_usv.lat[i,j].data)\n",
    "        msg_body.append(msg)"
   ]
  },
  {
   "cell_type": "code",
   "execution_count": 6,
   "metadata": {},
   "outputs": [
    {
     "name": "stdout",
     "output_type": "stream",
     "text": [
      "Email sent!\n"
     ]
    }
   ],
   "source": [
    "\n",
    "try:  \n",
    "    server = smtplib.SMTP('smtp.gmail.com', 587)\n",
    "    server.ehlo()\n",
    "except:  \n",
    "    print ('Something went wrong...')\n",
    "sent_from = email_key['key']  \n",
    "to = ['cgentemann@gmail.com', 'cgentemann@esr.org']  \n",
    "subject = 'Daily Saildrone Position Update'  \n",
    "body = msg_body\n",
    "email_text = \"\"\"\\  \n",
    "From: %s  \n",
    "To: %s  \n",
    "Subject: %s\n",
    "\n",
    "%s\n",
    "\"\"\" % (sent_from, \", \".join(to), subject, body)\n",
    "try:  \n",
    "    server = smtplib.SMTP_SSL('smtp.gmail.com', 465)\n",
    "    server.ehlo()\n",
    "    server.login(email_key['key'], email_key['secret'])\n",
    "    server.sendmail(sent_from, to, email_text)\n",
    "    server.close()\n",
    "\n",
    "    print('Email sent!')\n",
    "except:  \n",
    "    print('Something went wrong...')\n",
    "    "
   ]
  },
  {
   "cell_type": "code",
   "execution_count": null,
   "metadata": {},
   "outputs": [],
   "source": []
  }
 ],
 "metadata": {
  "kernelspec": {
   "display_name": "Python 3",
   "language": "python",
   "name": "python3"
  },
  "language_info": {
   "codemirror_mode": {
    "name": "ipython",
    "version": 3
   },
   "file_extension": ".py",
   "mimetype": "text/x-python",
   "name": "python",
   "nbconvert_exporter": "python",
   "pygments_lexer": "ipython3",
   "version": "3.7.1"
  }
 },
 "nbformat": 4,
 "nbformat_minor": 2
}
