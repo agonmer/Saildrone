{
 "cells": [
  {
   "cell_type": "code",
   "execution_count": 72,
   "metadata": {},
   "outputs": [
    {
     "ename": "HTTPError",
     "evalue": "HTTP Error 504: Gateway Time-out",
     "output_type": "error",
     "traceback": [
      "\u001b[1;31m---------------------------------------------------------------------------\u001b[0m",
      "\u001b[1;31mHTTPError\u001b[0m                                 Traceback (most recent call last)",
      "\u001b[1;32m<ipython-input-72-e8a50ea6c37a>\u001b[0m in \u001b[0;36m<module>\u001b[1;34m\u001b[0m\n\u001b[0;32m     18\u001b[0m \u001b[0mendtime\u001b[0m\u001b[1;33m=\u001b[0m\u001b[1;34m'2019-06-19'\u001b[0m\u001b[1;33m\u001b[0m\u001b[1;33m\u001b[0m\u001b[0m\n\u001b[0;32m     19\u001b[0m \u001b[0murl\u001b[0m \u001b[1;33m=\u001b[0m \u001b[1;34m'https://services.sentinel-hub.com/ogc/wms/5887863d-3c49-4c96-8c62-afc13dd8a04a?SERVICE=WMS&REQUEST=GetMap&SHOWLOGO=true&MAXCC=100&TIME='\u001b[0m\u001b[1;33m+\u001b[0m\u001b[0mstarttime\u001b[0m\u001b[1;33m+\u001b[0m\u001b[1;34m'%2F'\u001b[0m\u001b[1;33m+\u001b[0m\u001b[0mendtime\u001b[0m\u001b[1;33m+\u001b[0m\u001b[1;34m'&CRS=EPSG%3A4326&FORMAT=image%2Ftiff%3Bdepth%3D8&BBOX=73.00556612657772%2C-150.41441917419436%2C67.9197529862965%2C-182.05504417419436&evalscriptoverrides=&LAYERS=EW-DH-HH-DECIBEL-GAMMA0-ORTHORECTIFIED&WIDTH=2752&HEIGHT=1330&NICENAME=S1.tiff&COVERAGE'\u001b[0m\u001b[1;33m\u001b[0m\u001b[1;33m\u001b[0m\u001b[0m\n\u001b[1;32m---> 20\u001b[1;33m \u001b[0murllib\u001b[0m\u001b[1;33m.\u001b[0m\u001b[0mrequest\u001b[0m\u001b[1;33m.\u001b[0m\u001b[0murlretrieve\u001b[0m\u001b[1;33m(\u001b[0m\u001b[0murl\u001b[0m\u001b[1;33m,\u001b[0m\u001b[1;34m'S11.tiff'\u001b[0m\u001b[1;33m)\u001b[0m\u001b[1;33m\u001b[0m\u001b[1;33m\u001b[0m\u001b[0m\n\u001b[0m\u001b[0;32m     21\u001b[0m \u001b[1;33m\u001b[0m\u001b[0m\n\u001b[0;32m     22\u001b[0m \u001b[1;31m#If you want 3857 format, just change the link into\u001b[0m\u001b[1;33m\u001b[0m\u001b[1;33m\u001b[0m\u001b[1;33m\u001b[0m\u001b[0m\n",
      "\u001b[1;32m~\\Miniconda3\\envs\\sarenv\\lib\\urllib\\request.py\u001b[0m in \u001b[0;36murlretrieve\u001b[1;34m(url, filename, reporthook, data)\u001b[0m\n\u001b[0;32m    245\u001b[0m     \u001b[0murl_type\u001b[0m\u001b[1;33m,\u001b[0m \u001b[0mpath\u001b[0m \u001b[1;33m=\u001b[0m \u001b[0msplittype\u001b[0m\u001b[1;33m(\u001b[0m\u001b[0murl\u001b[0m\u001b[1;33m)\u001b[0m\u001b[1;33m\u001b[0m\u001b[1;33m\u001b[0m\u001b[0m\n\u001b[0;32m    246\u001b[0m \u001b[1;33m\u001b[0m\u001b[0m\n\u001b[1;32m--> 247\u001b[1;33m     \u001b[1;32mwith\u001b[0m \u001b[0mcontextlib\u001b[0m\u001b[1;33m.\u001b[0m\u001b[0mclosing\u001b[0m\u001b[1;33m(\u001b[0m\u001b[0murlopen\u001b[0m\u001b[1;33m(\u001b[0m\u001b[0murl\u001b[0m\u001b[1;33m,\u001b[0m \u001b[0mdata\u001b[0m\u001b[1;33m)\u001b[0m\u001b[1;33m)\u001b[0m \u001b[1;32mas\u001b[0m \u001b[0mfp\u001b[0m\u001b[1;33m:\u001b[0m\u001b[1;33m\u001b[0m\u001b[1;33m\u001b[0m\u001b[0m\n\u001b[0m\u001b[0;32m    248\u001b[0m         \u001b[0mheaders\u001b[0m \u001b[1;33m=\u001b[0m \u001b[0mfp\u001b[0m\u001b[1;33m.\u001b[0m\u001b[0minfo\u001b[0m\u001b[1;33m(\u001b[0m\u001b[1;33m)\u001b[0m\u001b[1;33m\u001b[0m\u001b[1;33m\u001b[0m\u001b[0m\n\u001b[0;32m    249\u001b[0m \u001b[1;33m\u001b[0m\u001b[0m\n",
      "\u001b[1;32m~\\Miniconda3\\envs\\sarenv\\lib\\urllib\\request.py\u001b[0m in \u001b[0;36murlopen\u001b[1;34m(url, data, timeout, cafile, capath, cadefault, context)\u001b[0m\n\u001b[0;32m    220\u001b[0m     \u001b[1;32melse\u001b[0m\u001b[1;33m:\u001b[0m\u001b[1;33m\u001b[0m\u001b[1;33m\u001b[0m\u001b[0m\n\u001b[0;32m    221\u001b[0m         \u001b[0mopener\u001b[0m \u001b[1;33m=\u001b[0m \u001b[0m_opener\u001b[0m\u001b[1;33m\u001b[0m\u001b[1;33m\u001b[0m\u001b[0m\n\u001b[1;32m--> 222\u001b[1;33m     \u001b[1;32mreturn\u001b[0m \u001b[0mopener\u001b[0m\u001b[1;33m.\u001b[0m\u001b[0mopen\u001b[0m\u001b[1;33m(\u001b[0m\u001b[0murl\u001b[0m\u001b[1;33m,\u001b[0m \u001b[0mdata\u001b[0m\u001b[1;33m,\u001b[0m \u001b[0mtimeout\u001b[0m\u001b[1;33m)\u001b[0m\u001b[1;33m\u001b[0m\u001b[1;33m\u001b[0m\u001b[0m\n\u001b[0m\u001b[0;32m    223\u001b[0m \u001b[1;33m\u001b[0m\u001b[0m\n\u001b[0;32m    224\u001b[0m \u001b[1;32mdef\u001b[0m \u001b[0minstall_opener\u001b[0m\u001b[1;33m(\u001b[0m\u001b[0mopener\u001b[0m\u001b[1;33m)\u001b[0m\u001b[1;33m:\u001b[0m\u001b[1;33m\u001b[0m\u001b[1;33m\u001b[0m\u001b[0m\n",
      "\u001b[1;32m~\\Miniconda3\\envs\\sarenv\\lib\\urllib\\request.py\u001b[0m in \u001b[0;36mopen\u001b[1;34m(self, fullurl, data, timeout)\u001b[0m\n\u001b[0;32m    529\u001b[0m         \u001b[1;32mfor\u001b[0m \u001b[0mprocessor\u001b[0m \u001b[1;32min\u001b[0m \u001b[0mself\u001b[0m\u001b[1;33m.\u001b[0m\u001b[0mprocess_response\u001b[0m\u001b[1;33m.\u001b[0m\u001b[0mget\u001b[0m\u001b[1;33m(\u001b[0m\u001b[0mprotocol\u001b[0m\u001b[1;33m,\u001b[0m \u001b[1;33m[\u001b[0m\u001b[1;33m]\u001b[0m\u001b[1;33m)\u001b[0m\u001b[1;33m:\u001b[0m\u001b[1;33m\u001b[0m\u001b[1;33m\u001b[0m\u001b[0m\n\u001b[0;32m    530\u001b[0m             \u001b[0mmeth\u001b[0m \u001b[1;33m=\u001b[0m \u001b[0mgetattr\u001b[0m\u001b[1;33m(\u001b[0m\u001b[0mprocessor\u001b[0m\u001b[1;33m,\u001b[0m \u001b[0mmeth_name\u001b[0m\u001b[1;33m)\u001b[0m\u001b[1;33m\u001b[0m\u001b[1;33m\u001b[0m\u001b[0m\n\u001b[1;32m--> 531\u001b[1;33m             \u001b[0mresponse\u001b[0m \u001b[1;33m=\u001b[0m \u001b[0mmeth\u001b[0m\u001b[1;33m(\u001b[0m\u001b[0mreq\u001b[0m\u001b[1;33m,\u001b[0m \u001b[0mresponse\u001b[0m\u001b[1;33m)\u001b[0m\u001b[1;33m\u001b[0m\u001b[1;33m\u001b[0m\u001b[0m\n\u001b[0m\u001b[0;32m    532\u001b[0m \u001b[1;33m\u001b[0m\u001b[0m\n\u001b[0;32m    533\u001b[0m         \u001b[1;32mreturn\u001b[0m \u001b[0mresponse\u001b[0m\u001b[1;33m\u001b[0m\u001b[1;33m\u001b[0m\u001b[0m\n",
      "\u001b[1;32m~\\Miniconda3\\envs\\sarenv\\lib\\urllib\\request.py\u001b[0m in \u001b[0;36mhttp_response\u001b[1;34m(self, request, response)\u001b[0m\n\u001b[0;32m    639\u001b[0m         \u001b[1;32mif\u001b[0m \u001b[1;32mnot\u001b[0m \u001b[1;33m(\u001b[0m\u001b[1;36m200\u001b[0m \u001b[1;33m<=\u001b[0m \u001b[0mcode\u001b[0m \u001b[1;33m<\u001b[0m \u001b[1;36m300\u001b[0m\u001b[1;33m)\u001b[0m\u001b[1;33m:\u001b[0m\u001b[1;33m\u001b[0m\u001b[1;33m\u001b[0m\u001b[0m\n\u001b[0;32m    640\u001b[0m             response = self.parent.error(\n\u001b[1;32m--> 641\u001b[1;33m                 'http', request, response, code, msg, hdrs)\n\u001b[0m\u001b[0;32m    642\u001b[0m \u001b[1;33m\u001b[0m\u001b[0m\n\u001b[0;32m    643\u001b[0m         \u001b[1;32mreturn\u001b[0m \u001b[0mresponse\u001b[0m\u001b[1;33m\u001b[0m\u001b[1;33m\u001b[0m\u001b[0m\n",
      "\u001b[1;32m~\\Miniconda3\\envs\\sarenv\\lib\\urllib\\request.py\u001b[0m in \u001b[0;36merror\u001b[1;34m(self, proto, *args)\u001b[0m\n\u001b[0;32m    567\u001b[0m         \u001b[1;32mif\u001b[0m \u001b[0mhttp_err\u001b[0m\u001b[1;33m:\u001b[0m\u001b[1;33m\u001b[0m\u001b[1;33m\u001b[0m\u001b[0m\n\u001b[0;32m    568\u001b[0m             \u001b[0margs\u001b[0m \u001b[1;33m=\u001b[0m \u001b[1;33m(\u001b[0m\u001b[0mdict\u001b[0m\u001b[1;33m,\u001b[0m \u001b[1;34m'default'\u001b[0m\u001b[1;33m,\u001b[0m \u001b[1;34m'http_error_default'\u001b[0m\u001b[1;33m)\u001b[0m \u001b[1;33m+\u001b[0m \u001b[0morig_args\u001b[0m\u001b[1;33m\u001b[0m\u001b[1;33m\u001b[0m\u001b[0m\n\u001b[1;32m--> 569\u001b[1;33m             \u001b[1;32mreturn\u001b[0m \u001b[0mself\u001b[0m\u001b[1;33m.\u001b[0m\u001b[0m_call_chain\u001b[0m\u001b[1;33m(\u001b[0m\u001b[1;33m*\u001b[0m\u001b[0margs\u001b[0m\u001b[1;33m)\u001b[0m\u001b[1;33m\u001b[0m\u001b[1;33m\u001b[0m\u001b[0m\n\u001b[0m\u001b[0;32m    570\u001b[0m \u001b[1;33m\u001b[0m\u001b[0m\n\u001b[0;32m    571\u001b[0m \u001b[1;31m# XXX probably also want an abstract factory that knows when it makes\u001b[0m\u001b[1;33m\u001b[0m\u001b[1;33m\u001b[0m\u001b[1;33m\u001b[0m\u001b[0m\n",
      "\u001b[1;32m~\\Miniconda3\\envs\\sarenv\\lib\\urllib\\request.py\u001b[0m in \u001b[0;36m_call_chain\u001b[1;34m(self, chain, kind, meth_name, *args)\u001b[0m\n\u001b[0;32m    501\u001b[0m         \u001b[1;32mfor\u001b[0m \u001b[0mhandler\u001b[0m \u001b[1;32min\u001b[0m \u001b[0mhandlers\u001b[0m\u001b[1;33m:\u001b[0m\u001b[1;33m\u001b[0m\u001b[1;33m\u001b[0m\u001b[0m\n\u001b[0;32m    502\u001b[0m             \u001b[0mfunc\u001b[0m \u001b[1;33m=\u001b[0m \u001b[0mgetattr\u001b[0m\u001b[1;33m(\u001b[0m\u001b[0mhandler\u001b[0m\u001b[1;33m,\u001b[0m \u001b[0mmeth_name\u001b[0m\u001b[1;33m)\u001b[0m\u001b[1;33m\u001b[0m\u001b[1;33m\u001b[0m\u001b[0m\n\u001b[1;32m--> 503\u001b[1;33m             \u001b[0mresult\u001b[0m \u001b[1;33m=\u001b[0m \u001b[0mfunc\u001b[0m\u001b[1;33m(\u001b[0m\u001b[1;33m*\u001b[0m\u001b[0margs\u001b[0m\u001b[1;33m)\u001b[0m\u001b[1;33m\u001b[0m\u001b[1;33m\u001b[0m\u001b[0m\n\u001b[0m\u001b[0;32m    504\u001b[0m             \u001b[1;32mif\u001b[0m \u001b[0mresult\u001b[0m \u001b[1;32mis\u001b[0m \u001b[1;32mnot\u001b[0m \u001b[1;32mNone\u001b[0m\u001b[1;33m:\u001b[0m\u001b[1;33m\u001b[0m\u001b[1;33m\u001b[0m\u001b[0m\n\u001b[0;32m    505\u001b[0m                 \u001b[1;32mreturn\u001b[0m \u001b[0mresult\u001b[0m\u001b[1;33m\u001b[0m\u001b[1;33m\u001b[0m\u001b[0m\n",
      "\u001b[1;32m~\\Miniconda3\\envs\\sarenv\\lib\\urllib\\request.py\u001b[0m in \u001b[0;36mhttp_error_default\u001b[1;34m(self, req, fp, code, msg, hdrs)\u001b[0m\n\u001b[0;32m    647\u001b[0m \u001b[1;32mclass\u001b[0m \u001b[0mHTTPDefaultErrorHandler\u001b[0m\u001b[1;33m(\u001b[0m\u001b[0mBaseHandler\u001b[0m\u001b[1;33m)\u001b[0m\u001b[1;33m:\u001b[0m\u001b[1;33m\u001b[0m\u001b[1;33m\u001b[0m\u001b[0m\n\u001b[0;32m    648\u001b[0m     \u001b[1;32mdef\u001b[0m \u001b[0mhttp_error_default\u001b[0m\u001b[1;33m(\u001b[0m\u001b[0mself\u001b[0m\u001b[1;33m,\u001b[0m \u001b[0mreq\u001b[0m\u001b[1;33m,\u001b[0m \u001b[0mfp\u001b[0m\u001b[1;33m,\u001b[0m \u001b[0mcode\u001b[0m\u001b[1;33m,\u001b[0m \u001b[0mmsg\u001b[0m\u001b[1;33m,\u001b[0m \u001b[0mhdrs\u001b[0m\u001b[1;33m)\u001b[0m\u001b[1;33m:\u001b[0m\u001b[1;33m\u001b[0m\u001b[1;33m\u001b[0m\u001b[0m\n\u001b[1;32m--> 649\u001b[1;33m         \u001b[1;32mraise\u001b[0m \u001b[0mHTTPError\u001b[0m\u001b[1;33m(\u001b[0m\u001b[0mreq\u001b[0m\u001b[1;33m.\u001b[0m\u001b[0mfull_url\u001b[0m\u001b[1;33m,\u001b[0m \u001b[0mcode\u001b[0m\u001b[1;33m,\u001b[0m \u001b[0mmsg\u001b[0m\u001b[1;33m,\u001b[0m \u001b[0mhdrs\u001b[0m\u001b[1;33m,\u001b[0m \u001b[0mfp\u001b[0m\u001b[1;33m)\u001b[0m\u001b[1;33m\u001b[0m\u001b[1;33m\u001b[0m\u001b[0m\n\u001b[0m\u001b[0;32m    650\u001b[0m \u001b[1;33m\u001b[0m\u001b[0m\n\u001b[0;32m    651\u001b[0m \u001b[1;32mclass\u001b[0m \u001b[0mHTTPRedirectHandler\u001b[0m\u001b[1;33m(\u001b[0m\u001b[0mBaseHandler\u001b[0m\u001b[1;33m)\u001b[0m\u001b[1;33m:\u001b[0m\u001b[1;33m\u001b[0m\u001b[1;33m\u001b[0m\u001b[0m\n",
      "\u001b[1;31mHTTPError\u001b[0m: HTTP Error 504: Gateway Time-out"
     ]
    }
   ],
   "source": [
    "import gdal\n",
    "import folium\n",
    "from folium import raster_layers\n",
    "from folium import features\n",
    "import urllib.request\n",
    "import xarray as xr\n",
    "import numpy as np\n",
    "\n",
    "\n",
    "#read in USV data\n",
    "file_dir = 'F:/data/cruise_data/saildrone/2019_arctic/daily_files/*.nc'\n",
    "ds_usv = xr.open_mfdataset(file_dir,data_vars='minimal')\n",
    "ds_usv.load()\n",
    "\n",
    "\n",
    "#set time\n",
    "starttime='2019-06-14'\n",
    "endtime='2019-06-19'\n",
    "url = 'https://services.sentinel-hub.com/ogc/wms/5887863d-3c49-4c96-8c62-afc13dd8a04a?SERVICE=WMS&REQUEST=GetMap&SHOWLOGO=true&MAXCC=100&TIME='+starttime+'%2F'+endtime+'&CRS=EPSG%3A4326&FORMAT=image%2Ftiff%3Bdepth%3D8&BBOX=73.00556612657772%2C-150.41441917419436%2C67.9197529862965%2C-182.05504417419436&evalscriptoverrides=&LAYERS=EW-DH-HH-DECIBEL-GAMMA0-ORTHORECTIFIED&WIDTH=2752&HEIGHT=1330&NICENAME=S1.tiff&COVERAGE' \n",
    "urllib.request.urlretrieve(url,'S11.tiff')  \n",
    "    \n",
    "#If you want 3857 format, just change the link into\n",
    "#https://services.sentinel-hub.com/ogc/wms/5887863d-3c49-4c96-8c62-afc13dd8a04a?SERVICE=WMS&REQUEST=GetMap&SHOWLOGO=true&MAXCC=100&TIME=2019-06-14%2F2019-06-14&CRS=EPSG%3A3857&FORMAT=image%2Fpng&BBOX=-20205487%2C10411576%2C-16682927%2C12108856&evalscriptoverrides=&LAYERS=EW-DH-HH-DECIBEL-GAMMA0-ORTHORECTIFIED&WIDTH=2752&HEIGHT=1326&NICENAME=Sentinel-1+AWS+%28S1-AWS-EW-HHHV%29+from+2019-06-14.png&TRANSPARENT=0&BGCOLOR=00000000\n",
    "\n",
    "#Open S1 ice file\n",
    "driver=gdal.GetDriverByName('GTiff')\n",
    "driver.Register() \n",
    "ds = gdal.Open('S11.tiff') \n",
    "if ds is None:\n",
    "    print('Could not open the Copernicus Sentinel-1 ice data')\n",
    "\n",
    "geotransform = ds.GetGeoTransform()\n",
    "cols = ds.RasterXSize \n",
    "rows = ds.RasterYSize \n",
    "xmin=geotransform[0]\n",
    "ymax=geotransform[3]\n",
    "xmax=xmin+cols*geotransform[1]\n",
    "ymin=ymax+rows*geotransform[5]\n",
    "centerx=(xmin+xmax)/2\n",
    "centery=(ymin+ymax)/2\n",
    "\n",
    "#Raster convert to array in numpy\n",
    "bands = ds.RasterCount\n",
    "band=ds.GetRasterBand(1)\n",
    "dataimage= band.ReadAsArray(0,0,cols,rows)\n",
    "\n",
    "\n",
    "#Visualization in folium\n",
    "map= folium.Map(location=[centery, centerx], zoom_start=7,tiles='Stamen Terrain')\n",
    "raster_layers.ImageOverlay(\n",
    "    image=dataimage,\n",
    "    bounds=[[ymin, xmin], [ymax, xmax]],\n",
    "    colormap=lambda x: (0, 0, 0, x),#R,G,B,alpha\n",
    "    #if I want white background then R,G,B is 1,1,1 \n",
    ").add_to(map)\n",
    "\n",
    "#add each saildrone individually\n",
    "for itrag in range(0,ds_usv.trajectory.size):\n",
    "    loc = []\n",
    "    for iobs in range(-2000,-1):\n",
    "        if np.isnan(ds_usv.latitude[itrag,iobs].data):\n",
    "            continue\n",
    "        loc.append([float(ds_usv.latitude[itrag,iobs].data),float(ds_usv.longitude[itrag,iobs].data)])\n",
    "    if len(loc)>0:\n",
    "        saildrone_path= folium.PolyLine(locations=loc,color='red') #assume the path of Saildrone\n",
    "        saildrone_path.add_to(map) #put the path into map\n",
    "\n",
    "\n",
    "startplot = features.Marker([68,-168])\n",
    "startplotpp = folium.Popup('saildrone_start')\n",
    "startplotic = features.Icon(color='red')\n",
    "startplot.add_child(startplotic)\n",
    "startplot.add_child(startplotpp)\n",
    "map.add_child(startplot)\n",
    "\n",
    "endplot = features.Marker([72,-156])\n",
    "endplotpp = folium.Popup('saildrone_end')\n",
    "endplotic = features.Icon(color='blue')\n",
    "endplot.add_child(endplotic)\n",
    "endplot.add_child(endplotpp)\n",
    "map.add_child(endplot)\n",
    "\n",
    "#Save the final plot\n",
    "map.save('C:/Users/gentemann/Google Drive/public/saildrone/seaice_with_saildronepath.html')    \n",
    "    \n"
   ]
  },
  {
   "cell_type": "code",
   "execution_count": 55,
   "metadata": {},
   "outputs": [
    {
     "data": {
      "text/plain": [
       "<xarray.Dataset>\n",
       "Dimensions:                     (obs: 97068, trajectory: 2)\n",
       "Coordinates:\n",
       "  * trajectory                  (trajectory) float64 1.036e+03 1.037e+03\n",
       "    time                        (trajectory, obs) datetime64[ns] 2019-05-14T18:12:00 ... 2019-06-18T23:59:00\n",
       "    latitude                    (trajectory, obs) float64 nan 53.84 ... 71.07\n",
       "    longitude                   (trajectory, obs) float64 nan -166.6 ... -162.4\n",
       "Dimensions without coordinates: obs\n",
       "Data variables:\n",
       "    SOG                         (trajectory, obs) float64 0.001 0.002 ... 0.045\n",
       "    SOG_FILTERED_MEAN           (trajectory, obs) float64 0.0 0.01 ... 0.028\n",
       "    SOG_FILTERED_STDDEV         (trajectory, obs) float64 0.0 0.027 ... 0.013\n",
       "    SOG_FILTERED_MAX            (trajectory, obs) float64 0.001 0.136 ... 0.052\n",
       "    SOG_FILTERED_MIN            (trajectory, obs) float64 0.0 0.0 ... 0.006\n",
       "    COG                         (trajectory, obs) float64 12.1 315.2 ... 44.9\n",
       "    COG_FILTERED_MEAN           (trajectory, obs) float64 279.4 196.9 ... 26.7\n",
       "    COG_FILTERED_STDDEV         (trajectory, obs) float64 896.8 ... 26.2\n",
       "    HDG                         (trajectory, obs) float64 287.7 284.0 ... 249.5\n",
       "    HDG_FILTERED_MEAN           (trajectory, obs) float64 287.7 284.1 ... 249.5\n",
       "    HDG_FILTERED_STDDEV         (trajectory, obs) float64 0.0 0.0 ... 0.0 0.0\n",
       "    ROLL_FILTERED_MEAN          (trajectory, obs) float64 -91.4 -0.2 ... -1.2\n",
       "    ROLL_FILTERED_STDDEV        (trajectory, obs) float64 0.0 0.0 ... 0.0 0.0\n",
       "    ROLL_FILTERED_PEAK          (trajectory, obs) float64 -91.4 -0.2 ... -1.2\n",
       "    PITCH_FILTERED_MEAN         (trajectory, obs) float64 1.0 0.3 ... -0.5 -0.4\n",
       "    PITCH_FILTERED_STDDEV       (trajectory, obs) float64 0.0 0.0 ... 0.0 0.0\n",
       "    PITCH_FILTERED_PEAK         (trajectory, obs) float64 1.0 0.3 ... -0.5 -0.4\n",
       "    HDG_WING                    (trajectory, obs) float64 295.9 271.6 ... 78.0\n",
       "    WING_HDG_FILTERED_MEAN      (trajectory, obs) float64 296.0 292.4 ... 78.0\n",
       "    WING_HDG_FILTERED_STDDEV    (trajectory, obs) float64 0.2 7.4 ... 0.0 0.0\n",
       "    WING_ROLL_FILTERED_MEAN     (trajectory, obs) float64 -90.5 -76.4 ... 1.6\n",
       "    WING_ROLL_FILTERED_STDDEV   (trajectory, obs) float64 0.0 29.7 ... 0.0 0.1\n",
       "    WING_ROLL_FILTERED_PEAK     (trajectory, obs) float64 nan nan ... nan nan\n",
       "    WING_PITCH_FILTERED_MEAN    (trajectory, obs) float64 -16.2 -13.9 ... -0.8\n",
       "    WING_PITCH_FILTERED_STDDEV  (trajectory, obs) float64 0.0 5.3 ... 0.0 0.0\n",
       "    WING_PITCH_FILTERED_PEAK    (trajectory, obs) float64 -16.2 -16.3 ... -0.8\n",
       "    WING_ANGLE                  (trajectory, obs) float64 -36.4 -12.4 ... -171.4\n",
       "    UWND_MEAN                   (trajectory, obs) float64 nan nan ... nan nan\n",
       "    UWND_STDDEV                 (trajectory, obs) float64 nan nan ... nan nan\n",
       "    VWND_MEAN                   (trajectory, obs) float64 nan nan ... nan nan\n",
       "    VWND_STDDEV                 (trajectory, obs) float64 nan nan ... nan nan\n",
       "    WWND_MEAN                   (trajectory, obs) float64 nan nan ... nan nan\n",
       "    WWND_STDDEV                 (trajectory, obs) float64 nan nan ... nan nan\n",
       "    GUST_WND_MEAN               (trajectory, obs) float64 nan nan ... nan nan\n",
       "    GUST_WND_STDDEV             (trajectory, obs) float64 nan nan ... nan nan\n",
       "    WIND_HEIGHT_MEAN            (trajectory, obs) float64 nan nan ... nan nan\n",
       "    WIND_HEIGHT_STDDEV          (trajectory, obs) float64 nan nan ... nan nan\n",
       "    TEMP_AIR_MEAN               (trajectory, obs) float64 nan nan ... nan nan\n",
       "    TEMP_AIR_STDDEV             (trajectory, obs) float64 nan nan ... nan nan\n",
       "    RH_MEAN                     (trajectory, obs) float64 nan nan ... nan nan\n",
       "    RH_STDDEV                   (trajectory, obs) float64 nan nan ... nan nan\n",
       "    BARO_PRES_MEAN              (trajectory, obs) float64 nan nan ... nan nan\n",
       "    BARO_PRES_STDDEV            (trajectory, obs) float64 nan nan ... nan nan\n",
       "    PAR_AIR_MEAN                (trajectory, obs) float64 nan nan ... nan nan\n",
       "    PAR_AIR_STDDEV              (trajectory, obs) float64 nan nan ... nan nan\n",
       "    TEMP_IR_SKY_UNCOMP_MEAN     (trajectory, obs) float64 nan nan ... nan nan\n",
       "    TEMP_IR_SKY_UNCOMP_STDDEV   (trajectory, obs) float64 nan nan ... nan nan\n",
       "    TEMP_IR_SEA_MEAN            (trajectory, obs) float64 nan nan ... nan nan\n",
       "    TEMP_IR_SEA_STDDEV          (trajectory, obs) float64 nan nan ... nan nan\n",
       "    TEMP_IR_UNCOMP_MEAN         (trajectory, obs) float64 nan nan ... nan nan\n",
       "    TEMP_IR_UNCOMP_STDDEV       (trajectory, obs) float64 nan nan ... nan nan\n",
       "    WAVE_DOMINANT_PERIOD        (trajectory, obs) float64 nan nan ... nan nan\n",
       "    WAVE_SIGNIFICANT_HEIGHT     (trajectory, obs) float64 nan nan ... nan nan\n",
       "    TEMP_SBE37_MEAN             (trajectory, obs) float64 nan nan ... nan nan\n",
       "    TEMP_SBE37_STDDEV           (trajectory, obs) float64 nan nan ... nan nan\n",
       "    SAL_SBE37_MEAN              (trajectory, obs) float64 nan nan ... nan nan\n",
       "    SAL_SBE37_STDDEV            (trajectory, obs) float64 nan nan ... nan nan\n",
       "    COND_SBE37_MEAN             (trajectory, obs) float64 nan nan ... nan nan\n",
       "    COND_SBE37_STDDEV           (trajectory, obs) float64 nan nan ... nan nan\n",
       "    TEMP_CTD_RBR_MEAN           (trajectory, obs) float64 nan nan ... nan nan\n",
       "    TEMP_CTD_RBR_STDDEV         (trajectory, obs) float64 nan nan ... nan nan\n",
       "    SAL_RBR_MEAN                (trajectory, obs) float64 nan nan ... nan nan\n",
       "    SAL_RBR_STDDEV              (trajectory, obs) float64 nan nan ... nan nan\n",
       "    COND_RBR_MEAN               (trajectory, obs) float64 nan nan ... nan nan\n",
       "    COND_RBR_STDDEV             (trajectory, obs) float64 nan nan ... nan nan\n",
       "    O2_CONC_SBE37_MEAN          (trajectory, obs) float64 nan nan ... nan nan\n",
       "    O2_CONC_SBE37_STDDEV        (trajectory, obs) float64 nan nan ... nan nan\n",
       "    O2_SAT_SBE37_MEAN           (trajectory, obs) float64 nan nan ... nan nan\n",
       "    O2_SAT_SBE37_STDDEV         (trajectory, obs) float64 nan nan ... nan nan\n",
       "    O2_CONC_RBR_MEAN            (trajectory, obs) float64 nan nan ... nan nan\n",
       "    O2_CONC_RBR_STDDEV          (trajectory, obs) float64 nan nan ... nan nan\n",
       "    O2_SAT_RBR_MEAN             (trajectory, obs) float64 nan nan ... nan nan\n",
       "    O2_SAT_RBR_STDDEV           (trajectory, obs) float64 nan nan ... nan nan\n",
       "    TEMP_O2_RBR_MEAN            (trajectory, obs) float64 nan nan ... nan nan\n",
       "    TEMP_O2_RBR_STDDEV          (trajectory, obs) float64 nan nan ... nan nan\n",
       "    CHLOR_WETLABS_MEAN          (trajectory, obs) float64 nan nan ... nan nan\n",
       "    CHLOR_WETLABS_STDDEV        (trajectory, obs) float64 nan nan ... nan nan\n",
       "    CHLOR_RBR_MEAN              (trajectory, obs) float64 nan nan ... nan nan\n",
       "    CHLOR_RBR_STDDEV            (trajectory, obs) float64 nan nan ... nan nan\n",
       "Attributes:\n",
       "    title:                     Arctic 2019 Real-Time-Data\n",
       "    summary:                   Arctic 2019 Mission\n",
       "    ncei_template_version:     NCEI_NetCDF_Trajectory_Template_v2.0\n",
       "    Conventions:               CF-1.6, ACDD-1.3\n",
       "    netcdf_version:            4.4.1.1\n",
       "    featureType:               trajectory\n",
       "    cdm_data_type:             Trajectory\n",
       "    standard_name_vocabulary:  CF Standard Name Table v58\n",
       "    description:               Saildrone NetCDF Format\n",
       "    creator_name:              Saildrone\n",
       "    platform:                  Saildrone\n",
       "    institution:               Saildrone\n",
       "    creator_email:             support@saildrone.com\n",
       "    creator_url:               http://saildrone.com/\n",
       "    date_created:              2019-05-15T00:30:49.154604Z\n",
       "    interval:                  60.0\n",
       "    time_coverage_resolution:  PT1M\n",
       "    time_coverage_start:       2019-05-14T00:00:00.000000Z\n",
       "    time_coverage_end:         2019-05-14T23:59:59.000000Z\n",
       "    time_coverage_duration:    PT23H59M59S\n",
       "    area:                      unassigned\n",
       "    data_mode:                 realtime\n",
       "    drone_id:                  1036\n",
       "    id:                        22550\n",
       "    naming_authority:          com.saildrone\n",
       "    uuid:                      a5ff624e-a826-4107-b53c-6579c9e0ec3f\n",
       "    project:                   Arctic-MISST-2019\n",
       "    geospatial_lat_min:        53.8446848\n",
       "    geospatial_lat_max:        53.8709952\n",
       "    geospatial_lat_units:      degrees_north\n",
       "    geospatial_lon_min:        -166.5827968\n",
       "    geospatial_lon_max:        -166.5734784\n",
       "    geospatial_lon_units:      degrees_east"
      ]
     },
     "execution_count": 55,
     "metadata": {},
     "output_type": "execute_result"
    }
   ],
   "source": [
    "file_dir = 'F:/data/cruise_data/saildrone/2019_arctic/daily_files/*.nc'\n",
    "ds_usv = xr.open_mfdataset(file_dir,data_vars='minimal')\n",
    "ds_usv.load()\n",
    "ds_usv"
   ]
  },
  {
   "cell_type": "code",
   "execution_count": 69,
   "metadata": {},
   "outputs": [
    {
     "data": {
      "text/plain": [
       "0"
      ]
     },
     "execution_count": 69,
     "metadata": {},
     "output_type": "execute_result"
    }
   ],
   "source": [
    "len(loc)"
   ]
  },
  {
   "cell_type": "code",
   "execution_count": 5,
   "metadata": {},
   "outputs": [
    {
     "data": {
      "text/plain": [
       "[[68, -168], [69, -163], [71, -162], [72, -156]]"
      ]
     },
     "execution_count": 5,
     "metadata": {},
     "output_type": "execute_result"
    }
   ],
   "source": [
    "locations=[[68,-168],[69,1-164],[71,-162],[72,-156]]\n",
    "locations"
   ]
  },
  {
   "cell_type": "code",
   "execution_count": 6,
   "metadata": {},
   "outputs": [
    {
     "data": {
      "text/plain": [
       "2"
      ]
     },
     "execution_count": 6,
     "metadata": {},
     "output_type": "execute_result"
    }
   ],
   "source": [
    "ds.trajectory.size"
   ]
  },
  {
   "cell_type": "code",
   "execution_count": 62,
   "metadata": {},
   "outputs": [],
   "source": [
    "import numpy as np\n",
    "for itrag in range(0,1): #1,ds.trajectory.size):\n",
    "    loc = []\n",
    "    for iobs in range(-2000,-1):\n",
    "        if np.isnan(ds_usv.latitude[itrag,iobs].data):\n",
    "            continue\n",
    "        loc.append([float(ds_usv.latitude[itrag,iobs].data),float(ds_usv.longitude[itrag,iobs].data)])"
   ]
  },
  {
   "cell_type": "code",
   "execution_count": 63,
   "metadata": {},
   "outputs": [
    {
     "data": {
      "text/plain": [
       "[]"
      ]
     },
     "execution_count": 63,
     "metadata": {},
     "output_type": "execute_result"
    }
   ],
   "source": [
    "loc"
   ]
  },
  {
   "cell_type": "code",
   "execution_count": 25,
   "metadata": {},
   "outputs": [
    {
     "data": {
      "text/plain": [
       "[[array(68.5377152), array(-168.2904448)]]"
      ]
     },
     "execution_count": 25,
     "metadata": {},
     "output_type": "execute_result"
    }
   ],
   "source": [
    "iobs=-60000\n",
    "[[ds.latitude[itrag,iobs].data,ds.longitude[itrag,iobs].data]]"
   ]
  },
  {
   "cell_type": "code",
   "execution_count": 44,
   "metadata": {},
   "outputs": [
    {
     "data": {
      "text/plain": [
       "71.0701376"
      ]
     },
     "execution_count": 44,
     "metadata": {},
     "output_type": "execute_result"
    }
   ],
   "source": [
    "ds.lat"
   ]
  },
  {
   "cell_type": "code",
   "execution_count": 23,
   "metadata": {},
   "outputs": [
    {
     "data": {
      "text/plain": [
       "[<matplotlib.lines.Line2D at 0x1af609abac8>]"
      ]
     },
     "execution_count": 23,
     "metadata": {},
     "output_type": "execute_result"
    },
    {
     "data": {
      "image/png": "[encoded data removed]",
      "text/plain": [
       "<Figure size 432x288 with 1 Axes>"
      ]
     },
     "metadata": {
      "needs_background": "light"
     },
     "output_type": "display_data"
    }
   ],
   "source": [
    "ds.latitude[itrag,:].plot()"
   ]
  },
  {
   "cell_type": "code",
   "execution_count": 38,
   "metadata": {},
   "outputs": [
    {
     "data": {
      "text/plain": [
       "<xarray.DataArray 'latitude' ()>\n",
       "array(70.908762)\n",
       "Coordinates:\n",
       "    trajectory  float64 1.037e+03\n",
       "    time        datetime64[ns] 2019-06-17T06:19:00\n",
       "    latitude    float64 70.91\n",
       "    longitude   float64 -162.8\n",
       "Attributes:\n",
       "    standard_name:              latitude\n",
       "    units:                      degrees_north\n",
       "    axis:                       Y\n",
       "    update_period:              50\n",
       "    model_product_page:         https://www.vectornav.com/products/vn-300\n",
       "    nominal_sampling_schedule:  Always on\n",
       "    installed_height:           0.34\n",
       "    vendor_name:                VectorNav\n",
       "    model_name:                 VN-300"
      ]
     },
     "execution_count": 38,
     "metadata": {},
     "output_type": "execute_result"
    }
   ],
   "source": [
    "ds.latitude[1,-2501]"
   ]
  },
  {
   "cell_type": "code",
   "execution_count": null,
   "metadata": {},
   "outputs": [],
   "source": []
  }
 ],
 "metadata": {
  "kernelspec": {
   "display_name": "Python 3",
   "language": "python",
   "name": "python3"
  },
  "language_info": {
   "codemirror_mode": {
    "name": "ipython",
    "version": 3
   },
   "file_extension": ".py",
   "mimetype": "text/x-python",
   "name": "python",
   "nbconvert_exporter": "python",
   "pygments_lexer": "ipython3",
   "version": "3.7.3"
  }
 },
 "nbformat": 4,
 "nbformat_minor": 2
}
