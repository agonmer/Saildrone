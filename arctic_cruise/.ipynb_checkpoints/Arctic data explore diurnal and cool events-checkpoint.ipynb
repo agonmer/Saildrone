{
 "cells": [
  {
   "cell_type": "code",
   "execution_count": 1,
   "metadata": {},
   "outputs": [],
   "source": [
    "import xarray as xr\n",
    "import numpy as np\n",
    "import pandas as pd\n",
    "import matplotlib.pyplot as plt\n",
    "import seawater as sw\n",
    "import cartopy.crs as ccrs                   # import projections\n",
    "import cartopy.feature as cf                 # import features\n",
    "\n",
    "fig_dir='C:/Users/gentemann/Google Drive/f_drive/docs/projects/misst-arctic/Saildrone/'\n",
    "\n",
    "icefile='C:/Users/gentemann/Google Drive/f_drive/docs/projects/misst-arctic/Ice Present.xlsx'\n",
    "DWfile='C:/Users/gentemann/Google Drive/f_drive/docs/projects/misst-arctic/DiurnalWarming Present.xlsx'\n",
    "\n",
    "data_dir = 'F:/data/cruise_data/saildrone/2019_arctic/post_mission_combined/'\n",
    "\n"
   ]
  },
  {
   "cell_type": "markdown",
   "metadata": {},
   "source": [
    "## read in ice, diurnal warming, and surface coolingpresent file\n",
    "\n",
    "This file is a combination of the NOAA ice file & own analysis of data based on STD of salinity and SST"
   ]
  },
  {
   "cell_type": "code",
   "execution_count": 19,
   "metadata": {},
   "outputs": [],
   "source": [
    "ds = pd.read_excel(icefile, sheet_name='data',index_col=0)\n",
    "ds_ice = ds.to_xarray()\n",
    "ds = pd.read_excel(DWfile, sheet_name='warm',index_col=0)\n",
    "ds_warm = ds.to_xarray()\n",
    "ds = pd.read_excel(DWfile, sheet_name='cold',index_col=0)\n",
    "ds_cool = ds.to_xarray()\n"
   ]
  },
  {
   "cell_type": "markdown",
   "metadata": {},
   "source": [
    "## Read in all the cruise full data\n",
    "\n",
    "- swap dims from obs to time\n",
    "- I checked & time = for both trajectories"
   ]
  },
  {
   "cell_type": "code",
   "execution_count": 20,
   "metadata": {},
   "outputs": [],
   "source": [
    "ds = xr.open_mfdataset(data_dir+'*.nc',combine='nested',concat_dim='trajectory').load()\n",
    "\n",
    "#get rid of bad salinity values\n",
    "ds_masked=ds.where(ds.SAL_SBE37_MEAN>20)\n",
    "ds['SAL_SBE37_MEAN']=ds_masked['SAL_SBE37_MEAN']\n",
    "\n",
    "xlon=ds.lon\n",
    "time_offset_to_lmt=(xlon/360.)*24.*60\n",
    "ds['tlmt']=xlon\n",
    "for i in range(2):\n",
    "    ds['tlmt'][i,:]= ds.time.data+time_offset_to_lmt[i,:]*np.timedelta64(1,'m')# dt.timedelta(seconds=1)\n"
   ]
  },
  {
   "cell_type": "markdown",
   "metadata": {},
   "source": [
    "# Create ice mask based on photo/data"
   ]
  },
  {
   "cell_type": "code",
   "execution_count": 32,
   "metadata": {},
   "outputs": [
    {
     "name": "stdout",
     "output_type": "stream",
     "text": [
      "0 2019-06-17T09:00:00.000000000\n",
      "0 2019-06-22T16:30:00.000000000\n",
      "0 2019-06-23T04:00:00.000000000\n",
      "0 2019-07-17T23:30:00.000000000\n",
      "0 2019-08-06T08:20:00.000000000\n",
      "0 2019-08-06T20:20:00.000000000\n",
      "0 2019-08-08T07:00:00.000000000\n",
      "1 2019-06-17T08:00:00.000000000\n",
      "1 2019-07-17T23:00:00.000000000\n",
      "1 2019-08-04T00:00:00.000000000\n"
     ]
    },
    {
     "data": {
      "text/plain": [
       "[<matplotlib.lines.Line2D at 0x1de88497208>]"
      ]
     },
     "execution_count": 32,
     "metadata": {},
     "output_type": "execute_result"
    },
    {
     "data": {
      "image/png": "[encoded data removed]",
      "text/plain": [
       "<Figure size 432x288 with 1 Axes>"
      ]
     },
     "metadata": {
      "needs_background": "light"
     },
     "output_type": "display_data"
    }
   ],
   "source": [
    "ice_mask=np.zeros(ds.TEMP_AIR_MEAN.shape)\n",
    "ice_mask = xr.DataArray(ice_mask,coords=[ds.trajectory,ds.time],dims=['trajectory','time'],\n",
    "                                           attrs={'long_name':'ice mask 1=ice'})\n",
    "ds['ice_mask']=ice_mask\n",
    "for iusv in range(2):\n",
    "    ice =  ds_ice.sel(usv=int(ds.trajectory[iusv].data))\n",
    "    ds_tem = ds.isel(trajectory=iusv)\n",
    "    for i in range(ice.usv.size):\n",
    "        print(iusv,ice.start_time[i].data)\n",
    "        cond = (ds_tem.time>=ice.start_time[i]) & (ds_tem.time<=ice.stop_time[i])\n",
    "        ds_tem.ice_mask[cond]=1\n",
    "    ds['ice_mask'][iusv,:]=ds_tem.ice_mask\n",
    "\n",
    "tem_mask=np.zeros(ds.TEMP_AIR_MEAN.shape)\n",
    "tem_mask = xr.DataArray(tem_mask,coords=[ds.trajectory,ds.time],dims=['trajectory','time'],\n",
    "                                           attrs={'long_name':'Diurnal warming mask 1=warm'})\n",
    "ds['warm_mask']=tem_mask\n",
    "for iusv in range(2):\n",
    "    tem =  ds_warm.sel(usv=int(ds.trajectory[iusv].data))\n",
    "    ds_tem = ds.isel(trajectory=iusv)\n",
    "    if tem.usv.size>1:\n",
    "        for i in range(tem.usv.size):\n",
    "            cond = (ds_tem.time>=tem.start_time[i]) & (ds_tem.time<=tem.stop_time[i])\n",
    "            ds_tem.warm_mask[cond]=1\n",
    "    else:\n",
    "        cond = (ds_tem.time>=tem.start_time) & (ds_tem.time<=tem.stop_time)\n",
    "        ds_tem.warm_mask[cond]=1       \n",
    "    ds['warm_mask'][iusv,:]=ds_tem.warm_mask\n",
    "\n",
    "tem_mask=np.zeros(ds.TEMP_AIR_MEAN.shape)\n",
    "tem_mask = xr.DataArray(tem_mask,coords=[ds.trajectory,ds.time],dims=['trajectory','time'],\n",
    "                                           attrs={'long_name':'surface cooling mask 1=cool'})\n",
    "ds['cool_mask']=tem_mask\n",
    "for iusv in range(2):\n",
    "    tem =  ds_cool.sel(usv=int(ds.trajectory[iusv].data))\n",
    "    ds_tem = ds.isel(trajectory=iusv)\n",
    "    if tem.usv.size>1:\n",
    "        for i in range(tem.usv.size):\n",
    "            cond = (ds_tem.time>=tem.start_time[i]) & (ds_tem.time<=tem.stop_time[i])\n",
    "            ds_tem.cool_mask[cond]=1\n",
    "    else:\n",
    "        cond = (ds_tem.time>=tem.start_time) & (ds_tem.time<=tem.stop_time)\n",
    "        ds_tem.cool_mask[cond]=1       \n",
    "    ds['cool_mask'][iusv,:]=ds_tem.cool_mask\n",
    "\n",
    "ds.sel(time='08-08-2019')['cool_mask'][0,:].plot()"
   ]
  },
  {
   "cell_type": "markdown",
   "metadata": {},
   "source": [
    "## Plot the INFLOW  0.6m bulk SST RBR minus SBE37 difference as a fnct of wind speed and local time of day \n",
    "\n",
    "###   Notice the increase in spread below 6 m/s, The positive might normally be explained by dirunal warming, but the negative?  "
   ]
  },
  {
   "cell_type": "code",
   "execution_count": null,
   "metadata": {},
   "outputs": [],
   "source": [
    "#look for diuranl warming\n",
    "sub=ds.isel(trajectory=0).sel(time=slice('2019-09-20T00','2019-09-20T23'))\n",
    "#sub=ds.isel(trajectory=0).sel(time=slice('2019-07-31T17','2019-07-31T18'))\n",
    "fig, ax1 = plt.subplots(figsize=(16,6))\n",
    "#ax1.plot(sub.time,sub.TEMP_AIR_MEAN-sub.sea_water_temperature_00_mean)\n",
    "ax1.plot(sub.time,sub.sea_water_temperature_00_mean-sub.sea_water_temperature_06_mean,label='00')\n",
    "ax1.plot(sub.time,sub.sea_water_temperature_01_mean-sub.sea_water_temperature_06_mean,label='01')\n",
    "ax1.plot(sub.time,sub.sea_water_temperature_02_mean-sub.sea_water_temperature_06_mean,label='02')\n",
    "ax1.plot(sub.time,sub.sea_water_temperature_04_mean-sub.sea_water_temperature_06_mean,label='03')\n",
    "ax1.plot(sub.time,sub.sea_water_temperature_05_mean-sub.sea_water_temperature_06_mean,label='04')\n",
    "ax1.legend(),ax1.grid()\n",
    "ax2 = ax1.twinx()  # instantiate a second axes that shares the same x-axis\n",
    "#ax2.plot(sub.time,sub.SOG_FILTERED_MEAN,'r')\n",
    "#ax2.plot(sub.time,sub.wspd_MEAN,'r')\n",
    "#ax2.set_x"
   ]
  }
 ],
 "metadata": {
  "kernelspec": {
   "display_name": "Python 3",
   "language": "python",
   "name": "python3"
  },
  "language_info": {
   "codemirror_mode": {
    "name": "ipython",
    "version": 3
   },
   "file_extension": ".py",
   "mimetype": "text/x-python",
   "name": "python",
   "nbconvert_exporter": "python",
   "pygments_lexer": "ipython3",
   "version": "3.7.6"
  }
 },
 "nbformat": 4,
 "nbformat_minor": 2
}
