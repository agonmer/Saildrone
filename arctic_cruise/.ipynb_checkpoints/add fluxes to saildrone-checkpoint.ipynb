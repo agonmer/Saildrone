{
 "cells": [
  {
   "cell_type": "code",
   "execution_count": 1,
   "metadata": {},
   "outputs": [],
   "source": [
    "%matplotlib inline\n",
    "import numpy as np\n",
    "import sys\n",
    "sys.path.append('./../../flux/')\n",
    "from coare3 import coare3\n",
    "from coare4 import coare4\n",
    "from gravity_constant import grv\n",
    "import xarray as xr\n",
    "import numpy as np\n",
    "import pandas as pd\n",
    "import matplotlib.pyplot as plt\n",
    "import seawater as sw\n",
    "import cartopy.crs as ccrs                   # import projections\n",
    "import cartopy.feature as cf                 # import features\n",
    "\n",
    "fig_dir='C:/Users/gentemann/Google Drive/f_drive/docs/projects/misst-arctic/Saildrone/'\n",
    "\n",
    "icefile='C:/Users/gentemann/Google Drive/f_drive/docs/projects/misst-arctic/Ice Present.xlsx'\n",
    "\n",
    "data_dir = 'F:/data/cruise_data/saildrone/2019_arctic/post_mission/'\n",
    "\n",
    "adir_sbe='F:/data/cruise_data/saildrone/2019_arctic/sbe56/sd-'\n",
    "\n",
    "data_dir_sbe_combined = 'F:/data/cruise_data/saildrone/2019_arctic/post_mission_combined/'\n",
    "\n",
    "data_dir_out = 'F:/data/cruise_data/saildrone/2019_arctic/post_mission_combined_fluxes/'\n",
    "\n",
    "fnames=['saildrone-gen_5-arctic_misst_2019-sd1036-20190514T230000-20191011T183000-1_minutes-v1.1575336154680-withSBE.nc',\n",
    "       'saildrone-gen_5-arctic_misst_2019-sd1037-20190514T230000-20191011T183000-1_minutes-v1.1575487464625-withSBE.nc']\n",
    "\n",
    "fnames_out=['saildrone-gen_5-arctic_misst_2019-sd1036-20190514T230000-20191011T183000-1_minutes-v1.1575336154680-withSBE_fluxes.nc',\n",
    "       'saildrone-gen_5-arctic_misst_2019-sd1037-20190514T230000-20191011T183000-1_minutes-v1.1575487464625-withSBE_fluxes.nc']\n",
    "\n",
    "jcool = 1 #ocean bulk temperature\n"
   ]
  },
  {
   "cell_type": "code",
   "execution_count": null,
   "metadata": {},
   "outputs": [
    {
     "name": "stdout",
     "output_type": "stream",
     "text": [
      "Frozen(SortedKeysDict({'time': 125718}))\n"
     ]
    }
   ],
   "source": [
    "\n",
    "jcool = 1 #ocean bulk temperature\n",
    "\n",
    "\n",
    "for i in range(2):\n",
    "    ds = xr.open_dataset(data_dir_sbe_combined+fnames[i])\n",
    "    \n",
    "    tem=sw.dens0(ds.SAL_SBE37_MEAN,ds.TEMP_SBE37_MEAN)\n",
    "    ds['density_MEAN']=xr.DataArray(tem,dims=('time'),coords={'time':ds.time})\n",
    "    tem=sw.alpha(ds.SAL_SBE37_MEAN,ds.TEMP_SBE37_MEAN,ds.BARO_PRES_MEAN*0) #pressure =0 at surface\n",
    "    ds['alpha_MEAN']=xr.DataArray(tem,dims=('time'),coords={'time':ds.time})\n",
    "    tem=sw.beta(ds.SAL_SBE37_MEAN,ds.TEMP_SBE37_MEAN,ds.BARO_PRES_MEAN*0) #pressure =0 at surface\n",
    "    ds['beta_MEAN']=xr.DataArray(tem,dims=('time'),coords={'time':ds.time})\n",
    "    \n",
    "    #calcalate 10 m wind\n",
    "    WS_height = 4.5  #saildrone height obs\n",
    "    ds['UWND_MEAN'] = (ds.UWND_MEAN*np.log(10./1e-4))/np.log(WS_height/1e-4)\n",
    "    ds['VWND_MEAN'] = (ds.VWND_MEAN*np.log(10./1e-4))/np.log(WS_height/1e-4)\n",
    "    ds['UWND_MEAN'] = (ds.UWND_MEAN*np.log(10./1e-4))/np.log(WS_height/1e-4)\n",
    "    ds['VWND_MEAN'] = (ds.VWND_MEAN*np.log(10./1e-4))/np.log(WS_height/1e-4)\n",
    "    ds['wspd_MEAN'] = np.sqrt(ds.UWND_MEAN**2+ds.VWND_MEAN**2)   \n",
    "    tem = ds\n",
    "    \n",
    "#    tem = ds.isel(trajectory=i)   \n",
    "    cond = (np.isfinite(tem.wspd_MEAN) & np.isfinite(tem.TEMP_AIR_MEAN) \\\n",
    "            & np.isfinite(tem.RH_MEAN) & np.isfinite(tem.BARO_PRES_MEAN) \\\n",
    "            & np.isfinite(tem.sea_water_temperature_00_mean) \\\n",
    "            & np.isfinite(tem.lat))                                                                            \n",
    "    ds2=tem.where(cond,drop=True)\n",
    "    print(ds2.dims)\n",
    "    inputs = {'u':ds2.wspd_MEAN,'t':ds2.TEMP_AIR_MEAN,'rh':ds2.RH_MEAN,\n",
    "              'P':ds2.BARO_PRES_MEAN,\n",
    "              'ts':ds2.sea_water_temperature_00_mean,'lat':ds2.lat}\n",
    "    res = coare4(inputs)\n",
    "    ds2['sensible_heat_flux_v4']=xr.DataArray(res['hsb'][0,:].data,coords=[ds2.time],dims=['time'],\n",
    "                                           attrs={'long_name':'sensible heat flux into ocean','units':'W/m^2'})\n",
    "    ds2['latent_heat_flux_v4']=xr.DataArray(res['hlb'][0,:].data,coords=[ds2.time],dims=['time'],\n",
    "                                           attrs={'long_name':'latent heat flux into ocean','units':'W/m^2'})\n",
    "    ds2['cool_skin_v4']=xr.DataArray(res['dter'][0,:].data,coords=[ds2.time],dims=['time'],\n",
    "                                           attrs={'long_name':'cool-skin temperature depression','units':'degC'})\n",
    "    ds2['skin_thickness_v4']=xr.DataArray(res['tkt'][0,:].data,coords=[ds2.time],dims=['time'],\n",
    "                                           attrs={'long_name':'cool-skin thickness','units':'m'})\n",
    "    res = coare3(inputs)\n",
    "    ds2['sensible_heat_flux_v3']=xr.DataArray(res['hsb'][0,:].data,coords=[ds2.time],dims=['time'],\n",
    "                                           attrs={'long_name':'sensible heat flux into ocean','units':'W/m^2'})\n",
    "    ds2['latent_heat_flux_v3']=xr.DataArray(res['hlb'][0,:].data,coords=[ds2.time],dims=['time'],\n",
    "                                           attrs={'long_name':'latent heat flux into ocean','units':'W/m^2'})\n",
    "    ds2['cool_skin_v3']=xr.DataArray(res['dter'][0,:].data,coords=[ds2.time],dims=['time'],\n",
    "                                           attrs={'long_name':'cool-skin temperature depression','units':'degC'})\n",
    "    ds2['skin_thickness_v3']=xr.DataArray(res['tkt'][0,:].data,coords=[ds2.time],dims=['time'],\n",
    "                                           attrs={'long_name':'cool-skin thickness','units':'m'})\n",
    "    ds2.to_netcdf(data_dir_out+fnames_out[i])"
   ]
  },
  {
   "cell_type": "code",
   "execution_count": null,
   "metadata": {},
   "outputs": [],
   "source": [
    "\n"
   ]
  },
  {
   "cell_type": "code",
   "execution_count": null,
   "metadata": {},
   "outputs": [],
   "source": []
  }
 ],
 "metadata": {
  "kernelspec": {
   "display_name": "Python 3",
   "language": "python",
   "name": "python3"
  },
  "language_info": {
   "codemirror_mode": {
    "name": "ipython",
    "version": 3
   },
   "file_extension": ".py",
   "mimetype": "text/x-python",
   "name": "python",
   "nbconvert_exporter": "python",
   "pygments_lexer": "ipython3",
   "version": "3.7.3"
  }
 },
 "nbformat": 4,
 "nbformat_minor": 2
}
