{
 "cells": [
  {
   "cell_type": "code",
   "execution_count": 16,
   "metadata": {},
   "outputs": [],
   "source": [
    "%matplotlib inline\n",
    "import numpy as np\n",
    "import sys\n",
    "sys.path.append('./../../flux/')\n",
    "from coare3 import coare3\n",
    "from coare4 import coare4\n",
    "from gravity_constant import grv\n",
    "import xarray as xr\n",
    "import numpy as np\n",
    "import pandas as pd\n",
    "import matplotlib.pyplot as plt\n",
    "import seawater as sw\n",
    "import cartopy.crs as ccrs                   # import projections\n",
    "import cartopy.feature as cf                 # import features\n",
    "\n",
    "fig_dir='C:/Users/gentemann/Google Drive/f_drive/docs/projects/misst-arctic/Saildrone/'\n",
    "\n",
    "icefile='C:/Users/gentemann/Google Drive/f_drive/docs/projects/misst-arctic/Ice Present.xlsx'\n",
    "\n",
    "data_dir = 'F:/data/cruise_data/saildrone/2019_arctic/post_mission/'\n",
    "\n",
    "adir_sbe='F:/data/cruise_data/saildrone/2019_arctic/sbe56/sd-'\n",
    "\n",
    "data_dir_sbe_combined = 'F:/data/cruise_data/saildrone/2019_arctic/post_mission_combined/'\n",
    "\n",
    "data_dir_out = 'F:/data/cruise_data/saildrone/2019_arctic/post_mission_combined_fluxes/'\n",
    "\n",
    "fnames=['saildrone-gen_5-arctic_misst_2019-sd1036-20190514T230000-20191011T183000-1_minutes-v1.1575336154680-withSBE.nc',\n",
    "       'saildrone-gen_5-arctic_misst_2019-sd1037-20190514T230000-20191011T183000-1_minutes-v1.1575487464625-withSBE.nc']\n",
    "\n",
    "fnames_out=['saildrone-gen_5-arctic_misst_2019-sd1036-20190514T230000-20191011T183000-1_minutes-v1.1575336154680-withSBE_fluxes.nc',\n",
    "       'saildrone-gen_5-arctic_misst_2019-sd1037-20190514T230000-20191011T183000-1_minutes-v1.1575487464625-withSBE_fluxes.nc']\n",
    "\n",
    "jcool = 1 #ocean bulk temperature\n",
    "\n",
    "\n",
    "WS_height = 4.5  #saildrone height obs\n",
    "Ta_height = 2.3\n",
    "Rs_mean = 312   #from eyeballing 1037 data\n",
    "Rl_mean = 300  #from eyeballing 1037 data\n"
   ]
  },
  {
   "cell_type": "markdown",
   "metadata": {},
   "source": [
    "# Print out min/max to check on units"
   ]
  },
  {
   "cell_type": "code",
   "execution_count": 20,
   "metadata": {},
   "outputs": [
    {
     "name": "stdout",
     "output_type": "stream",
     "text": [
      "Frozen(SortedKeysDict({'time': 125718}))\n",
      "54.59 100.0\n",
      "652.12 1029.46\n",
      "{'standard_name': 'air_temperature', 'long_name': 'Air temperature', 'units': 'degrees_c', 'installed_date': '2019-04-10T01:04:22.555277Z', 'device_name': 'Rotronic AT/RH (0020208914)', 'serial_number': '0020208914', 'last_calibrated': '2017-05-10', 'installed_height': 2.3, 'vendor_name': 'Rotronic', 'model_name': 'HC2-S3', 'nominal_sampling_schedule': '60s on, 240s off, centered at :00', 'update_period': 1000}\n",
      "-2.76\n",
      "12.41\n",
      "{'long_name': 'sea surface depth 1-min mean', 'standard_name': 'sea_water_temperature', 'installed_height': '-0.33 m', 'serial_number': 'SBE05609153', 'model_number': '56', 'sensor_description': 'Seabird 56 Temperature Logger', 'model_name': 'SBE 56', 'product_page': 'http://www.seabird.com/sbe56-temperature-logger', 'nominal_sampling_schedule': '1 minute averages from :54 to :06 seconds', 'units': 'degrees_C', 'valid_min': -10.0, 'valid_max': 50.0}\n",
      "-1.1542999999999999\n",
      "11.359699999999998\n",
      "{'standard_name': 'eastward_wind', 'long_name': 'Eastward wind speed', 'units': 'm s-1', 'installed_date': '2019-04-10T01:00:52.030270Z', 'device_name': 'Gill Anemometer (W182210)', 'serial_number': 'W182210', 'last_calibrated': '2018-05-31', 'installed_height': 5.2, 'vendor_name': 'Gill', 'model_name': '1590-PK-020', 'model_product_page': 'http://gillinstruments.com/products/anemometer/windmaster.htm', 'nominal_sampling_schedule': '60s on, 240s off, centered at :00', 'update_period': 50}\n",
      "Frozen(SortedKeysDict({'time': 133952}))\n",
      "55.13 100.0\n",
      "992.09 1035.74\n",
      "{'standard_name': 'air_temperature', 'long_name': 'Air temperature', 'units': 'degrees_c', 'installed_date': '2019-04-09T18:21:02.735703Z', 'device_name': 'Rotronic AT/RH (0020208767)', 'serial_number': '0020208767', 'last_calibrated': '2017-05-10', 'installed_height': 2.3, 'vendor_name': 'Rotronic', 'model_name': 'HC2-S3', 'nominal_sampling_schedule': '60s on, 240s off, centered at :00', 'update_period': 1000}\n",
      "-2.97\n",
      "12.3\n",
      "{'long_name': 'sea surface depth 1-min mean', 'standard_name': 'sea_water_temperature', 'installed_height': '-0.324 m', 'serial_number': 'SBE05608196', 'model_number': '56', 'sensor_description': 'Seabird 56 Temperature Logger', 'model_name': 'SBE 56', 'product_page': 'http://www.seabird.com/sbe56-temperature-logger', 'nominal_sampling_schedule': '1 minute averages from :54 to :06 seconds', 'units': 'degrees_C', 'valid_min': -10.0, 'valid_max': 50.0}\n",
      "-1.3975\n",
      "11.260599999999998\n",
      "{'standard_name': 'eastward_wind', 'long_name': 'Eastward wind speed', 'units': 'm s-1', 'installed_date': '2019-04-10T00:46:53.168598Z', 'device_name': 'Gill Anemometer (W182203)', 'serial_number': 'W182203', 'last_calibrated': '2018-05-31', 'installed_height': 5.2, 'vendor_name': 'Gill', 'model_name': '1590-PK-020', 'model_product_page': 'http://gillinstruments.com/products/anemometer/windmaster.htm', 'nominal_sampling_schedule': '60s on, 240s off, centered at :00', 'update_period': 50}\n"
     ]
    }
   ],
   "source": [
    "#    Args:  \n",
    "#        u (float): relative wind speed (m/s) at height zu(m)\n",
    "#        t (float): bulk air temperature (degC) at height zt(m)\n",
    "#        rh (float): relative humidity (#) at height zq(m) [0-100]\n",
    "#        P (float): surface air pressure (mb) (default = 1015)\n",
    "#        ts (float): water temperature (degC) see jcool below\n",
    "#        Rs (float): downward shortwave radiation (W/m^2) (default = 150) \n",
    "#        Rl (float): downward longwave radiation (W/m^2) (default = 370)\n",
    "#        lat (float): latitude (default = +45 N)\n",
    "#        zi (float): PBL height (m) (default = 600m)\n",
    "\n",
    "for i in range(2):\n",
    "    ds = xr.open_dataset(data_dir_sbe_combined+fnames[i])\n",
    "    \n",
    "    tem=sw.dens0(ds.SAL_SBE37_MEAN,ds.TEMP_SBE37_MEAN)\n",
    "    ds['density_MEAN']=xr.DataArray(tem,dims=('time'),coords={'time':ds.time})\n",
    "    tem=sw.alpha(ds.SAL_SBE37_MEAN,ds.TEMP_SBE37_MEAN,ds.BARO_PRES_MEAN*0) #pressure =0 at surface\n",
    "    ds['alpha_MEAN']=xr.DataArray(tem,dims=('time'),coords={'time':ds.time})\n",
    "    tem=sw.beta(ds.SAL_SBE37_MEAN,ds.TEMP_SBE37_MEAN,ds.BARO_PRES_MEAN*0) #pressure =0 at surface\n",
    "    ds['beta_MEAN']=xr.DataArray(tem,dims=('time'),coords={'time':ds.time})\n",
    "    \n",
    "    #calcalate 10 m wind\n",
    "    WS_height = 5.2  #saildrone height obs\n",
    "    Ta_height = 2.4\n",
    "    Rs_mean = 312   #from eyeballing 1037 data\n",
    "    Rl_mean = 300  #from eyeballing 1037 data\n",
    "    \n",
    "    tem = ds #.isel(trajectory=i)   \n",
    "    cond = (np.isfinite(tem.wspd_MEAN) & np.isfinite(tem.TEMP_AIR_MEAN) \\\n",
    "            & np.isfinite(tem.RH_MEAN) & np.isfinite(tem.BARO_PRES_MEAN) \\\n",
    "            & np.isfinite(tem.sea_water_temperature_00_mean) \\\n",
    "            & np.isfinite(tem.lat))                                                                            \n",
    "    ds2=tem.where(cond,drop=True)\n",
    "    print(ds2.dims)\n",
    "    \n",
    "    print(ds2.RH_MEAN.min().data,ds2.RH_MEAN.max().data)\n",
    "    print(ds2.BARO_PRES_MEAN.min().data,ds2.BARO_PRES_MEAN.max().data)\n",
    "    print(ds2.TEMP_AIR_MEAN.attrs)\n",
    "    print(ds2.TEMP_AIR_MEAN.min().data)\n",
    "    print(ds2.TEMP_AIR_MEAN.max().data)\n",
    "    print(ds2.sea_water_temperature_00_mean.attrs)\n",
    "    print(ds2.sea_water_temperature_00_mean.min().data)\n",
    "    print(ds2.sea_water_temperature_00_mean.max().data)\n",
    "    print(ds2.UWND_MEAN.attrs)\n",
    " "
   ]
  },
  {
   "cell_type": "code",
   "execution_count": 22,
   "metadata": {},
   "outputs": [
    {
     "name": "stdout",
     "output_type": "stream",
     "text": [
      "Frozen(SortedKeysDict({'time': 125718}))\n",
      "t (1, 125718)\n",
      "lat (1, 125718)\n"
     ]
    },
    {
     "ename": "PermissionError",
     "evalue": "[Errno 13] Permission denied: b'F:\\\\data\\\\cruise_data\\\\saildrone\\\\2019_arctic\\\\post_mission_combined_fluxes\\\\saildrone-gen_5-arctic_misst_2019-sd1036-20190514T230000-20191011T183000-1_minutes-v1.1575336154680-withSBE_fluxes.nc'",
     "output_type": "error",
     "traceback": [
      "\u001b[1;31m---------------------------------------------------------------------------\u001b[0m",
      "\u001b[1;31mKeyError\u001b[0m                                  Traceback (most recent call last)",
      "\u001b[1;32m~\\Miniconda3\\envs\\satenv\\lib\\site-packages\\xarray\\backends\\file_manager.py\u001b[0m in \u001b[0;36m_acquire_with_cache_info\u001b[1;34m(self, needs_lock)\u001b[0m\n\u001b[0;32m    197\u001b[0m             \u001b[1;32mtry\u001b[0m\u001b[1;33m:\u001b[0m\u001b[1;33m\u001b[0m\u001b[1;33m\u001b[0m\u001b[0m\n\u001b[1;32m--> 198\u001b[1;33m                 \u001b[0mfile\u001b[0m \u001b[1;33m=\u001b[0m \u001b[0mself\u001b[0m\u001b[1;33m.\u001b[0m\u001b[0m_cache\u001b[0m\u001b[1;33m[\u001b[0m\u001b[0mself\u001b[0m\u001b[1;33m.\u001b[0m\u001b[0m_key\u001b[0m\u001b[1;33m]\u001b[0m\u001b[1;33m\u001b[0m\u001b[1;33m\u001b[0m\u001b[0m\n\u001b[0m\u001b[0;32m    199\u001b[0m             \u001b[1;32mexcept\u001b[0m \u001b[0mKeyError\u001b[0m\u001b[1;33m:\u001b[0m\u001b[1;33m\u001b[0m\u001b[1;33m\u001b[0m\u001b[0m\n",
      "\u001b[1;32m~\\Miniconda3\\envs\\satenv\\lib\\site-packages\\xarray\\backends\\lru_cache.py\u001b[0m in \u001b[0;36m__getitem__\u001b[1;34m(self, key)\u001b[0m\n\u001b[0;32m     52\u001b[0m         \u001b[1;32mwith\u001b[0m \u001b[0mself\u001b[0m\u001b[1;33m.\u001b[0m\u001b[0m_lock\u001b[0m\u001b[1;33m:\u001b[0m\u001b[1;33m\u001b[0m\u001b[1;33m\u001b[0m\u001b[0m\n\u001b[1;32m---> 53\u001b[1;33m             \u001b[0mvalue\u001b[0m \u001b[1;33m=\u001b[0m \u001b[0mself\u001b[0m\u001b[1;33m.\u001b[0m\u001b[0m_cache\u001b[0m\u001b[1;33m[\u001b[0m\u001b[0mkey\u001b[0m\u001b[1;33m]\u001b[0m\u001b[1;33m\u001b[0m\u001b[1;33m\u001b[0m\u001b[0m\n\u001b[0m\u001b[0;32m     54\u001b[0m             \u001b[0mself\u001b[0m\u001b[1;33m.\u001b[0m\u001b[0m_cache\u001b[0m\u001b[1;33m.\u001b[0m\u001b[0mmove_to_end\u001b[0m\u001b[1;33m(\u001b[0m\u001b[0mkey\u001b[0m\u001b[1;33m)\u001b[0m\u001b[1;33m\u001b[0m\u001b[1;33m\u001b[0m\u001b[0m\n",
      "\u001b[1;31mKeyError\u001b[0m: [<class 'netCDF4._netCDF4.Dataset'>, ('F:\\\\data\\\\cruise_data\\\\saildrone\\\\2019_arctic\\\\post_mission_combined_fluxes\\\\saildrone-gen_5-arctic_misst_2019-sd1036-20190514T230000-20191011T183000-1_minutes-v1.1575336154680-withSBE_fluxes.nc',), 'a', (('clobber', True), ('diskless', False), ('format', 'NETCDF4'), ('persist', False))]",
      "\nDuring handling of the above exception, another exception occurred:\n",
      "\u001b[1;31mPermissionError\u001b[0m                           Traceback (most recent call last)",
      "\u001b[1;32m<ipython-input-22-02a97489e227>\u001b[0m in \u001b[0;36m<module>\u001b[1;34m\u001b[0m\n\u001b[0;32m     49\u001b[0m     ds2['skin_thickness_v3']=xr.DataArray(res['tkt'][0,:].data,coords=[ds2.time],dims=['time'],\n\u001b[0;32m     50\u001b[0m                                            attrs={'long_name':'cool-skin thickness','units':'m'})\n\u001b[1;32m---> 51\u001b[1;33m     \u001b[0mds2\u001b[0m\u001b[1;33m.\u001b[0m\u001b[0mto_netcdf\u001b[0m\u001b[1;33m(\u001b[0m\u001b[0mdata_dir_out\u001b[0m\u001b[1;33m+\u001b[0m\u001b[0mfnames_out\u001b[0m\u001b[1;33m[\u001b[0m\u001b[0mi\u001b[0m\u001b[1;33m]\u001b[0m\u001b[1;33m)\u001b[0m\u001b[1;33m\u001b[0m\u001b[1;33m\u001b[0m\u001b[0m\n\u001b[0m",
      "\u001b[1;32m~\\Miniconda3\\envs\\satenv\\lib\\site-packages\\xarray\\core\\dataset.py\u001b[0m in \u001b[0;36mto_netcdf\u001b[1;34m(self, path, mode, format, group, engine, encoding, unlimited_dims, compute, invalid_netcdf)\u001b[0m\n\u001b[0;32m   1534\u001b[0m             \u001b[0munlimited_dims\u001b[0m\u001b[1;33m=\u001b[0m\u001b[0munlimited_dims\u001b[0m\u001b[1;33m,\u001b[0m\u001b[1;33m\u001b[0m\u001b[1;33m\u001b[0m\u001b[0m\n\u001b[0;32m   1535\u001b[0m             \u001b[0mcompute\u001b[0m\u001b[1;33m=\u001b[0m\u001b[0mcompute\u001b[0m\u001b[1;33m,\u001b[0m\u001b[1;33m\u001b[0m\u001b[1;33m\u001b[0m\u001b[0m\n\u001b[1;32m-> 1536\u001b[1;33m             \u001b[0minvalid_netcdf\u001b[0m\u001b[1;33m=\u001b[0m\u001b[0minvalid_netcdf\u001b[0m\u001b[1;33m,\u001b[0m\u001b[1;33m\u001b[0m\u001b[1;33m\u001b[0m\u001b[0m\n\u001b[0m\u001b[0;32m   1537\u001b[0m         )\n\u001b[0;32m   1538\u001b[0m \u001b[1;33m\u001b[0m\u001b[0m\n",
      "\u001b[1;32m~\\Miniconda3\\envs\\satenv\\lib\\site-packages\\xarray\\backends\\api.py\u001b[0m in \u001b[0;36mto_netcdf\u001b[1;34m(dataset, path_or_file, mode, format, group, engine, encoding, unlimited_dims, compute, multifile, invalid_netcdf)\u001b[0m\n\u001b[0;32m   1051\u001b[0m                 \u001b[1;34m\"unrecognized option 'invalid_netcdf' for engine %s\"\u001b[0m \u001b[1;33m%\u001b[0m \u001b[0mengine\u001b[0m\u001b[1;33m\u001b[0m\u001b[1;33m\u001b[0m\u001b[0m\n\u001b[0;32m   1052\u001b[0m             )\n\u001b[1;32m-> 1053\u001b[1;33m     \u001b[0mstore\u001b[0m \u001b[1;33m=\u001b[0m \u001b[0mstore_open\u001b[0m\u001b[1;33m(\u001b[0m\u001b[0mtarget\u001b[0m\u001b[1;33m,\u001b[0m \u001b[0mmode\u001b[0m\u001b[1;33m,\u001b[0m \u001b[0mformat\u001b[0m\u001b[1;33m,\u001b[0m \u001b[0mgroup\u001b[0m\u001b[1;33m,\u001b[0m \u001b[1;33m**\u001b[0m\u001b[0mkwargs\u001b[0m\u001b[1;33m)\u001b[0m\u001b[1;33m\u001b[0m\u001b[1;33m\u001b[0m\u001b[0m\n\u001b[0m\u001b[0;32m   1054\u001b[0m \u001b[1;33m\u001b[0m\u001b[0m\n\u001b[0;32m   1055\u001b[0m     \u001b[1;32mif\u001b[0m \u001b[0munlimited_dims\u001b[0m \u001b[1;32mis\u001b[0m \u001b[1;32mNone\u001b[0m\u001b[1;33m:\u001b[0m\u001b[1;33m\u001b[0m\u001b[1;33m\u001b[0m\u001b[0m\n",
      "\u001b[1;32m~\\Miniconda3\\envs\\satenv\\lib\\site-packages\\xarray\\backends\\netCDF4_.py\u001b[0m in \u001b[0;36mopen\u001b[1;34m(cls, filename, mode, format, group, clobber, diskless, persist, lock, lock_maker, autoclose)\u001b[0m\n\u001b[0;32m    355\u001b[0m             \u001b[0mnetCDF4\u001b[0m\u001b[1;33m.\u001b[0m\u001b[0mDataset\u001b[0m\u001b[1;33m,\u001b[0m \u001b[0mfilename\u001b[0m\u001b[1;33m,\u001b[0m \u001b[0mmode\u001b[0m\u001b[1;33m=\u001b[0m\u001b[0mmode\u001b[0m\u001b[1;33m,\u001b[0m \u001b[0mkwargs\u001b[0m\u001b[1;33m=\u001b[0m\u001b[0mkwargs\u001b[0m\u001b[1;33m\u001b[0m\u001b[1;33m\u001b[0m\u001b[0m\n\u001b[0;32m    356\u001b[0m         )\n\u001b[1;32m--> 357\u001b[1;33m         \u001b[1;32mreturn\u001b[0m \u001b[0mcls\u001b[0m\u001b[1;33m(\u001b[0m\u001b[0mmanager\u001b[0m\u001b[1;33m,\u001b[0m \u001b[0mgroup\u001b[0m\u001b[1;33m=\u001b[0m\u001b[0mgroup\u001b[0m\u001b[1;33m,\u001b[0m \u001b[0mmode\u001b[0m\u001b[1;33m=\u001b[0m\u001b[0mmode\u001b[0m\u001b[1;33m,\u001b[0m \u001b[0mlock\u001b[0m\u001b[1;33m=\u001b[0m\u001b[0mlock\u001b[0m\u001b[1;33m,\u001b[0m \u001b[0mautoclose\u001b[0m\u001b[1;33m=\u001b[0m\u001b[0mautoclose\u001b[0m\u001b[1;33m)\u001b[0m\u001b[1;33m\u001b[0m\u001b[1;33m\u001b[0m\u001b[0m\n\u001b[0m\u001b[0;32m    358\u001b[0m \u001b[1;33m\u001b[0m\u001b[0m\n\u001b[0;32m    359\u001b[0m     \u001b[1;32mdef\u001b[0m \u001b[0m_acquire\u001b[0m\u001b[1;33m(\u001b[0m\u001b[0mself\u001b[0m\u001b[1;33m,\u001b[0m \u001b[0mneeds_lock\u001b[0m\u001b[1;33m=\u001b[0m\u001b[1;32mTrue\u001b[0m\u001b[1;33m)\u001b[0m\u001b[1;33m:\u001b[0m\u001b[1;33m\u001b[0m\u001b[1;33m\u001b[0m\u001b[0m\n",
      "\u001b[1;32m~\\Miniconda3\\envs\\satenv\\lib\\site-packages\\xarray\\backends\\netCDF4_.py\u001b[0m in \u001b[0;36m__init__\u001b[1;34m(self, manager, group, mode, lock, autoclose)\u001b[0m\n\u001b[0;32m    311\u001b[0m         \u001b[0mself\u001b[0m\u001b[1;33m.\u001b[0m\u001b[0m_group\u001b[0m \u001b[1;33m=\u001b[0m \u001b[0mgroup\u001b[0m\u001b[1;33m\u001b[0m\u001b[1;33m\u001b[0m\u001b[0m\n\u001b[0;32m    312\u001b[0m         \u001b[0mself\u001b[0m\u001b[1;33m.\u001b[0m\u001b[0m_mode\u001b[0m \u001b[1;33m=\u001b[0m \u001b[0mmode\u001b[0m\u001b[1;33m\u001b[0m\u001b[1;33m\u001b[0m\u001b[0m\n\u001b[1;32m--> 313\u001b[1;33m         \u001b[0mself\u001b[0m\u001b[1;33m.\u001b[0m\u001b[0mformat\u001b[0m \u001b[1;33m=\u001b[0m \u001b[0mself\u001b[0m\u001b[1;33m.\u001b[0m\u001b[0mds\u001b[0m\u001b[1;33m.\u001b[0m\u001b[0mdata_model\u001b[0m\u001b[1;33m\u001b[0m\u001b[1;33m\u001b[0m\u001b[0m\n\u001b[0m\u001b[0;32m    314\u001b[0m         \u001b[0mself\u001b[0m\u001b[1;33m.\u001b[0m\u001b[0m_filename\u001b[0m \u001b[1;33m=\u001b[0m \u001b[0mself\u001b[0m\u001b[1;33m.\u001b[0m\u001b[0mds\u001b[0m\u001b[1;33m.\u001b[0m\u001b[0mfilepath\u001b[0m\u001b[1;33m(\u001b[0m\u001b[1;33m)\u001b[0m\u001b[1;33m\u001b[0m\u001b[1;33m\u001b[0m\u001b[0m\n\u001b[0;32m    315\u001b[0m         \u001b[0mself\u001b[0m\u001b[1;33m.\u001b[0m\u001b[0mis_remote\u001b[0m \u001b[1;33m=\u001b[0m \u001b[0mis_remote_uri\u001b[0m\u001b[1;33m(\u001b[0m\u001b[0mself\u001b[0m\u001b[1;33m.\u001b[0m\u001b[0m_filename\u001b[0m\u001b[1;33m)\u001b[0m\u001b[1;33m\u001b[0m\u001b[1;33m\u001b[0m\u001b[0m\n",
      "\u001b[1;32m~\\Miniconda3\\envs\\satenv\\lib\\site-packages\\xarray\\backends\\netCDF4_.py\u001b[0m in \u001b[0;36mds\u001b[1;34m(self)\u001b[0m\n\u001b[0;32m    364\u001b[0m     \u001b[1;33m@\u001b[0m\u001b[0mproperty\u001b[0m\u001b[1;33m\u001b[0m\u001b[1;33m\u001b[0m\u001b[0m\n\u001b[0;32m    365\u001b[0m     \u001b[1;32mdef\u001b[0m \u001b[0mds\u001b[0m\u001b[1;33m(\u001b[0m\u001b[0mself\u001b[0m\u001b[1;33m)\u001b[0m\u001b[1;33m:\u001b[0m\u001b[1;33m\u001b[0m\u001b[1;33m\u001b[0m\u001b[0m\n\u001b[1;32m--> 366\u001b[1;33m         \u001b[1;32mreturn\u001b[0m \u001b[0mself\u001b[0m\u001b[1;33m.\u001b[0m\u001b[0m_acquire\u001b[0m\u001b[1;33m(\u001b[0m\u001b[1;33m)\u001b[0m\u001b[1;33m\u001b[0m\u001b[1;33m\u001b[0m\u001b[0m\n\u001b[0m\u001b[0;32m    367\u001b[0m \u001b[1;33m\u001b[0m\u001b[0m\n\u001b[0;32m    368\u001b[0m     \u001b[1;32mdef\u001b[0m \u001b[0mopen_store_variable\u001b[0m\u001b[1;33m(\u001b[0m\u001b[0mself\u001b[0m\u001b[1;33m,\u001b[0m \u001b[0mname\u001b[0m\u001b[1;33m,\u001b[0m \u001b[0mvar\u001b[0m\u001b[1;33m)\u001b[0m\u001b[1;33m:\u001b[0m\u001b[1;33m\u001b[0m\u001b[1;33m\u001b[0m\u001b[0m\n",
      "\u001b[1;32m~\\Miniconda3\\envs\\satenv\\lib\\site-packages\\xarray\\backends\\netCDF4_.py\u001b[0m in \u001b[0;36m_acquire\u001b[1;34m(self, needs_lock)\u001b[0m\n\u001b[0;32m    358\u001b[0m \u001b[1;33m\u001b[0m\u001b[0m\n\u001b[0;32m    359\u001b[0m     \u001b[1;32mdef\u001b[0m \u001b[0m_acquire\u001b[0m\u001b[1;33m(\u001b[0m\u001b[0mself\u001b[0m\u001b[1;33m,\u001b[0m \u001b[0mneeds_lock\u001b[0m\u001b[1;33m=\u001b[0m\u001b[1;32mTrue\u001b[0m\u001b[1;33m)\u001b[0m\u001b[1;33m:\u001b[0m\u001b[1;33m\u001b[0m\u001b[1;33m\u001b[0m\u001b[0m\n\u001b[1;32m--> 360\u001b[1;33m         \u001b[1;32mwith\u001b[0m \u001b[0mself\u001b[0m\u001b[1;33m.\u001b[0m\u001b[0m_manager\u001b[0m\u001b[1;33m.\u001b[0m\u001b[0macquire_context\u001b[0m\u001b[1;33m(\u001b[0m\u001b[0mneeds_lock\u001b[0m\u001b[1;33m)\u001b[0m \u001b[1;32mas\u001b[0m \u001b[0mroot\u001b[0m\u001b[1;33m:\u001b[0m\u001b[1;33m\u001b[0m\u001b[1;33m\u001b[0m\u001b[0m\n\u001b[0m\u001b[0;32m    361\u001b[0m             \u001b[0mds\u001b[0m \u001b[1;33m=\u001b[0m \u001b[0m_nc4_require_group\u001b[0m\u001b[1;33m(\u001b[0m\u001b[0mroot\u001b[0m\u001b[1;33m,\u001b[0m \u001b[0mself\u001b[0m\u001b[1;33m.\u001b[0m\u001b[0m_group\u001b[0m\u001b[1;33m,\u001b[0m \u001b[0mself\u001b[0m\u001b[1;33m.\u001b[0m\u001b[0m_mode\u001b[0m\u001b[1;33m)\u001b[0m\u001b[1;33m\u001b[0m\u001b[1;33m\u001b[0m\u001b[0m\n\u001b[0;32m    362\u001b[0m         \u001b[1;32mreturn\u001b[0m \u001b[0mds\u001b[0m\u001b[1;33m\u001b[0m\u001b[1;33m\u001b[0m\u001b[0m\n",
      "\u001b[1;32m~\\Miniconda3\\envs\\satenv\\lib\\contextlib.py\u001b[0m in \u001b[0;36m__enter__\u001b[1;34m(self)\u001b[0m\n\u001b[0;32m    110\u001b[0m         \u001b[1;32mdel\u001b[0m \u001b[0mself\u001b[0m\u001b[1;33m.\u001b[0m\u001b[0margs\u001b[0m\u001b[1;33m,\u001b[0m \u001b[0mself\u001b[0m\u001b[1;33m.\u001b[0m\u001b[0mkwds\u001b[0m\u001b[1;33m,\u001b[0m \u001b[0mself\u001b[0m\u001b[1;33m.\u001b[0m\u001b[0mfunc\u001b[0m\u001b[1;33m\u001b[0m\u001b[1;33m\u001b[0m\u001b[0m\n\u001b[0;32m    111\u001b[0m         \u001b[1;32mtry\u001b[0m\u001b[1;33m:\u001b[0m\u001b[1;33m\u001b[0m\u001b[1;33m\u001b[0m\u001b[0m\n\u001b[1;32m--> 112\u001b[1;33m             \u001b[1;32mreturn\u001b[0m \u001b[0mnext\u001b[0m\u001b[1;33m(\u001b[0m\u001b[0mself\u001b[0m\u001b[1;33m.\u001b[0m\u001b[0mgen\u001b[0m\u001b[1;33m)\u001b[0m\u001b[1;33m\u001b[0m\u001b[1;33m\u001b[0m\u001b[0m\n\u001b[0m\u001b[0;32m    113\u001b[0m         \u001b[1;32mexcept\u001b[0m \u001b[0mStopIteration\u001b[0m\u001b[1;33m:\u001b[0m\u001b[1;33m\u001b[0m\u001b[1;33m\u001b[0m\u001b[0m\n\u001b[0;32m    114\u001b[0m             \u001b[1;32mraise\u001b[0m \u001b[0mRuntimeError\u001b[0m\u001b[1;33m(\u001b[0m\u001b[1;34m\"generator didn't yield\"\u001b[0m\u001b[1;33m)\u001b[0m \u001b[1;32mfrom\u001b[0m \u001b[1;32mNone\u001b[0m\u001b[1;33m\u001b[0m\u001b[1;33m\u001b[0m\u001b[0m\n",
      "\u001b[1;32m~\\Miniconda3\\envs\\satenv\\lib\\site-packages\\xarray\\backends\\file_manager.py\u001b[0m in \u001b[0;36macquire_context\u001b[1;34m(self, needs_lock)\u001b[0m\n\u001b[0;32m    184\u001b[0m     \u001b[1;32mdef\u001b[0m \u001b[0macquire_context\u001b[0m\u001b[1;33m(\u001b[0m\u001b[0mself\u001b[0m\u001b[1;33m,\u001b[0m \u001b[0mneeds_lock\u001b[0m\u001b[1;33m=\u001b[0m\u001b[1;32mTrue\u001b[0m\u001b[1;33m)\u001b[0m\u001b[1;33m:\u001b[0m\u001b[1;33m\u001b[0m\u001b[1;33m\u001b[0m\u001b[0m\n\u001b[0;32m    185\u001b[0m         \u001b[1;34m\"\"\"Context manager for acquiring a file.\"\"\"\u001b[0m\u001b[1;33m\u001b[0m\u001b[1;33m\u001b[0m\u001b[0m\n\u001b[1;32m--> 186\u001b[1;33m         \u001b[0mfile\u001b[0m\u001b[1;33m,\u001b[0m \u001b[0mcached\u001b[0m \u001b[1;33m=\u001b[0m \u001b[0mself\u001b[0m\u001b[1;33m.\u001b[0m\u001b[0m_acquire_with_cache_info\u001b[0m\u001b[1;33m(\u001b[0m\u001b[0mneeds_lock\u001b[0m\u001b[1;33m)\u001b[0m\u001b[1;33m\u001b[0m\u001b[1;33m\u001b[0m\u001b[0m\n\u001b[0m\u001b[0;32m    187\u001b[0m         \u001b[1;32mtry\u001b[0m\u001b[1;33m:\u001b[0m\u001b[1;33m\u001b[0m\u001b[1;33m\u001b[0m\u001b[0m\n\u001b[0;32m    188\u001b[0m             \u001b[1;32myield\u001b[0m \u001b[0mfile\u001b[0m\u001b[1;33m\u001b[0m\u001b[1;33m\u001b[0m\u001b[0m\n",
      "\u001b[1;32m~\\Miniconda3\\envs\\satenv\\lib\\site-packages\\xarray\\backends\\file_manager.py\u001b[0m in \u001b[0;36m_acquire_with_cache_info\u001b[1;34m(self, needs_lock)\u001b[0m\n\u001b[0;32m    202\u001b[0m                     \u001b[0mkwargs\u001b[0m \u001b[1;33m=\u001b[0m \u001b[0mkwargs\u001b[0m\u001b[1;33m.\u001b[0m\u001b[0mcopy\u001b[0m\u001b[1;33m(\u001b[0m\u001b[1;33m)\u001b[0m\u001b[1;33m\u001b[0m\u001b[1;33m\u001b[0m\u001b[0m\n\u001b[0;32m    203\u001b[0m                     \u001b[0mkwargs\u001b[0m\u001b[1;33m[\u001b[0m\u001b[1;34m\"mode\"\u001b[0m\u001b[1;33m]\u001b[0m \u001b[1;33m=\u001b[0m \u001b[0mself\u001b[0m\u001b[1;33m.\u001b[0m\u001b[0m_mode\u001b[0m\u001b[1;33m\u001b[0m\u001b[1;33m\u001b[0m\u001b[0m\n\u001b[1;32m--> 204\u001b[1;33m                 \u001b[0mfile\u001b[0m \u001b[1;33m=\u001b[0m \u001b[0mself\u001b[0m\u001b[1;33m.\u001b[0m\u001b[0m_opener\u001b[0m\u001b[1;33m(\u001b[0m\u001b[1;33m*\u001b[0m\u001b[0mself\u001b[0m\u001b[1;33m.\u001b[0m\u001b[0m_args\u001b[0m\u001b[1;33m,\u001b[0m \u001b[1;33m**\u001b[0m\u001b[0mkwargs\u001b[0m\u001b[1;33m)\u001b[0m\u001b[1;33m\u001b[0m\u001b[1;33m\u001b[0m\u001b[0m\n\u001b[0m\u001b[0;32m    205\u001b[0m                 \u001b[1;32mif\u001b[0m \u001b[0mself\u001b[0m\u001b[1;33m.\u001b[0m\u001b[0m_mode\u001b[0m \u001b[1;33m==\u001b[0m \u001b[1;34m\"w\"\u001b[0m\u001b[1;33m:\u001b[0m\u001b[1;33m\u001b[0m\u001b[1;33m\u001b[0m\u001b[0m\n\u001b[0;32m    206\u001b[0m                     \u001b[1;31m# ensure file doesn't get overriden when opened again\u001b[0m\u001b[1;33m\u001b[0m\u001b[1;33m\u001b[0m\u001b[1;33m\u001b[0m\u001b[0m\n",
      "\u001b[1;32mnetCDF4\\_netCDF4.pyx\u001b[0m in \u001b[0;36mnetCDF4._netCDF4.Dataset.__init__\u001b[1;34m()\u001b[0m\n",
      "\u001b[1;32mnetCDF4\\_netCDF4.pyx\u001b[0m in \u001b[0;36mnetCDF4._netCDF4._ensure_nc_success\u001b[1;34m()\u001b[0m\n",
      "\u001b[1;31mPermissionError\u001b[0m: [Errno 13] Permission denied: b'F:\\\\data\\\\cruise_data\\\\saildrone\\\\2019_arctic\\\\post_mission_combined_fluxes\\\\saildrone-gen_5-arctic_misst_2019-sd1036-20190514T230000-20191011T183000-1_minutes-v1.1575336154680-withSBE_fluxes.nc'"
     ]
    }
   ],
   "source": [
    "\n",
    "jcool = 1 #ocean bulk temperature\n",
    "\n",
    "\n",
    "for i in range(2):\n",
    "    ds = xr.open_dataset(data_dir_sbe_combined+fnames[i])\n",
    "    \n",
    "    tem=sw.dens0(ds.SAL_SBE37_MEAN,ds.TEMP_SBE37_MEAN)\n",
    "    ds['density_MEAN']=xr.DataArray(tem,dims=('time'),coords={'time':ds.time})\n",
    "    tem=sw.alpha(ds.SAL_SBE37_MEAN,ds.TEMP_SBE37_MEAN,ds.BARO_PRES_MEAN*0) #pressure =0 at surface\n",
    "    ds['alpha_MEAN']=xr.DataArray(tem,dims=('time'),coords={'time':ds.time})\n",
    "    tem=sw.beta(ds.SAL_SBE37_MEAN,ds.TEMP_SBE37_MEAN,ds.BARO_PRES_MEAN*0) #pressure =0 at surface\n",
    "    ds['beta_MEAN']=xr.DataArray(tem,dims=('time'),coords={'time':ds.time})\n",
    "    \n",
    "    tem = ds #.isel(trajectory=i)   \n",
    "    cond = (np.isfinite(tem.wspd_MEAN) & np.isfinite(tem.TEMP_AIR_MEAN) \\\n",
    "            & np.isfinite(tem.RH_MEAN) & np.isfinite(tem.BARO_PRES_MEAN) \\\n",
    "            & np.isfinite(tem.sea_water_temperature_00_mean) \\\n",
    "            & np.isfinite(tem.lat))                                                                            \n",
    "    ds2=tem.where(cond,drop=True)\n",
    "    print(ds2.dims)\n",
    "      \n",
    "    \n",
    "    inputs = {'u':ds2.wspd_MEAN,\n",
    "              't':ds2.TEMP_AIR_MEAN,\n",
    "              'rh':ds2.RH_MEAN,\n",
    "              'P':ds2.BARO_PRES_MEAN,\n",
    "              'ts':ds2.sea_water_temperature_00_mean,\n",
    "              'lat':ds2.lat,\n",
    "             'zt':Ta_height,\n",
    "             'zu':WS_height,\n",
    "             'Rl':Rl_mean,\n",
    "             'Rs':Rs_mean}\n",
    "    res = coare4(inputs)\n",
    "    ds['sensible_heat_flux_v4']=xr.DataArray(res['hsb'][0,:].data,coords=[ds2.time],dims=['time'],\n",
    "                                           attrs={'long_name':'sensible heat flux into ocean','units':'W/m^2'})\n",
    "    ds['latent_heat_flux_v4']=xr.DataArray(res['hlb'][0,:].data,coords=[ds2.time],dims=['time'],\n",
    "                                           attrs={'long_name':'latent heat flux into ocean','units':'W/m^2'})\n",
    "    ds['cool_skin_v4']=xr.DataArray(res['dter'][0,:].data,coords=[ds2.time],dims=['time'],\n",
    "                                           attrs={'long_name':'cool-skin temperature depression','units':'degC'})\n",
    "    ds['skin_thickness_v4']=xr.DataArray(res['tkt'][0,:].data,coords=[ds2.time],dims=['time'],\n",
    "                                           attrs={'long_name':'cool-skin thickness','units':'m'})\n",
    "    res = coare3(inputs)\n",
    "    ds['sensible_heat_flux_v3']=xr.DataArray(res['hsb'][0,:].data,coords=[ds2.time],dims=['time'],\n",
    "                                           attrs={'long_name':'sensible heat flux into ocean','units':'W/m^2'})\n",
    "    ds['latent_heat_flux_v3']=xr.DataArray(res['hlb'][0,:].data,coords=[ds2.time],dims=['time'],\n",
    "                                           attrs={'long_name':'latent heat flux into ocean','units':'W/m^2'})\n",
    "    ds['cool_skin_v3']=xr.DataArray(res['dter'][0,:].data,coords=[ds2.time],dims=['time'],\n",
    "                                           attrs={'long_name':'cool-skin temperature depression','units':'degC'})\n",
    "    ds['skin_thickness_v3']=xr.DataArray(res['tkt'][0,:].data,coords=[ds2.time],dims=['time'],\n",
    "                                           attrs={'long_name':'cool-skin thickness','units':'m'})\n",
    "    ds.to_netcdf(data_dir_out+fnames_out[i])"
   ]
  },
  {
   "cell_type": "code",
   "execution_count": 26,
   "metadata": {},
   "outputs": [],
   "source": [
    "ds_tem = ds\n",
    "ds_tem['sensible_heat_flux_v4']="
   ]
  },
  {
   "cell_type": "code",
   "execution_count": 31,
   "metadata": {},
   "outputs": [],
   "source": [
    "ds_tem=ds\n",
    "tem = xr.DataArray(res['hsb'][0,:].data,coords=[ds2.time],dims=['time'],\n",
    "                                           attrs={'long_name':'sensible heat flux into ocean','units':'W/m^2'})\n",
    "\n",
    "ds_tem['sens']=tem"
   ]
  },
  {
   "cell_type": "code",
   "execution_count": 34,
   "metadata": {},
   "outputs": [
    {
     "data": {
      "text/plain": [
       "<xarray.DataArray 'sens' (time: 215731)>\n",
       "array([8.88703865, 8.18702916, 5.98473399, ...,        nan,        nan,\n",
       "              nan])\n",
       "Coordinates:\n",
       "  * time        (time) datetime64[ns] 2019-05-14T23:00:00 ... 2019-10-11T18:30:00\n",
       "    lat         (time) float64 53.85 53.85 53.85 53.85 ... 53.85 53.85 53.85\n",
       "    lon         (time) float64 ...\n",
       "    trajectory  object ...\n",
       "Attributes:\n",
       "    long_name:  sensible heat flux into ocean\n",
       "    units:      W/m^2"
      ]
     },
     "execution_count": 34,
     "metadata": {},
     "output_type": "execute_result"
    }
   ],
   "source": [
    "ds_tem['sens']"
   ]
  },
  {
   "cell_type": "code",
   "execution_count": 2,
   "metadata": {},
   "outputs": [
    {
     "data": {
      "text/plain": [
       "<xarray.Dataset>\n",
       "Dimensions:                         (time: 125718)\n",
       "Coordinates:\n",
       "  * time                            (time) datetime64[ns] 2019-05-14T23:00:00 ... 2019-08-15T06:33:00\n",
       "    lat                             (time) float64 ...\n",
       "    lon                             (time) float64 ...\n",
       "    trajectory                      object ...\n",
       "Data variables:\n",
       "    SOG                             (time) float64 ...\n",
       "    SOG_FILTERED_MEAN               (time) float64 ...\n",
       "    SOG_FILTERED_STDDEV             (time) float64 ...\n",
       "    SOG_FILTERED_MAX                (time) float64 ...\n",
       "    SOG_FILTERED_MIN                (time) float64 ...\n",
       "    COG                             (time) float64 ...\n",
       "    COG_FILTERED_MEAN               (time) float64 ...\n",
       "    COG_FILTERED_STDDEV             (time) float64 ...\n",
       "    HDG                             (time) float64 ...\n",
       "    HDG_FILTERED_MEAN               (time) float64 ...\n",
       "    HDG_FILTERED_STDDEV             (time) float64 ...\n",
       "    ROLL_FILTERED_MEAN              (time) float64 ...\n",
       "    ROLL_FILTERED_STDDEV            (time) float64 ...\n",
       "    ROLL_FILTERED_PEAK              (time) float64 ...\n",
       "    PITCH_FILTERED_MEAN             (time) float64 ...\n",
       "    PITCH_FILTERED_STDDEV           (time) float64 ...\n",
       "    PITCH_FILTERED_PEAK             (time) float64 ...\n",
       "    HDG_WING                        (time) float64 ...\n",
       "    WING_HDG_FILTERED_MEAN          (time) float64 ...\n",
       "    WING_HDG_FILTERED_STDDEV        (time) float64 ...\n",
       "    WING_ROLL_FILTERED_MEAN         (time) float64 ...\n",
       "    WING_ROLL_FILTERED_STDDEV       (time) float64 ...\n",
       "    WING_ROLL_FILTERED_PEAK         (time) float64 ...\n",
       "    WING_PITCH_FILTERED_MEAN        (time) float64 ...\n",
       "    WING_PITCH_FILTERED_STDDEV      (time) float64 ...\n",
       "    WING_PITCH_FILTERED_PEAK        (time) float64 ...\n",
       "    WING_ANGLE                      (time) float64 ...\n",
       "    UWND_MEAN                       (time) float64 ...\n",
       "    UWND_STDDEV                     (time) float64 ...\n",
       "    VWND_MEAN                       (time) float64 ...\n",
       "    VWND_STDDEV                     (time) float64 ...\n",
       "    WWND_MEAN                       (time) float64 ...\n",
       "    WWND_STDDEV                     (time) float64 ...\n",
       "    GUST_WND_MEAN                   (time) float64 ...\n",
       "    GUST_WND_STDDEV                 (time) float64 ...\n",
       "    WIND_HEIGHT_MEAN                (time) float64 ...\n",
       "    WIND_HEIGHT_STDDEV              (time) float64 ...\n",
       "    TEMP_AIR_MEAN                   (time) float64 ...\n",
       "    TEMP_AIR_STDDEV                 (time) float64 ...\n",
       "    RH_MEAN                         (time) float64 ...\n",
       "    RH_STDDEV                       (time) float64 ...\n",
       "    BARO_PRES_MEAN                  (time) float64 ...\n",
       "    BARO_PRES_STDDEV                (time) float64 ...\n",
       "    PAR_AIR_MEAN                    (time) float64 ...\n",
       "    PAR_AIR_STDDEV                  (time) float64 ...\n",
       "    TEMP_IR_SKY_HULL_MEAN           (time) float64 ...\n",
       "    TEMP_IR_SKY_HULL_STDDEV         (time) float64 ...\n",
       "    TEMP_IR_SEA_HULL_UNCOMP_MEAN    (time) float64 ...\n",
       "    TEMP_IR_SEA_HULL_UNCOMP_STDDEV  (time) float64 ...\n",
       "    TEMP_IR_SEA_WING_UNCOMP_MEAN    (time) float64 ...\n",
       "    TEMP_IR_SEA_WING_UNCOMP_STDDEV  (time) float64 ...\n",
       "    WAVE_DOMINANT_PERIOD            (time) float64 ...\n",
       "    WAVE_SIGNIFICANT_HEIGHT         (time) float64 ...\n",
       "    TEMP_SBE37_MEAN                 (time) float64 ...\n",
       "    TEMP_SBE37_STDDEV               (time) float64 ...\n",
       "    SAL_SBE37_MEAN                  (time) float64 ...\n",
       "    SAL_SBE37_STDDEV                (time) float64 ...\n",
       "    COND_SBE37_MEAN                 (time) float64 ...\n",
       "    COND_SBE37_STDDEV               (time) float64 ...\n",
       "    TEMP_CTD_RBR_MEAN               (time) float64 ...\n",
       "    TEMP_CTD_RBR_STDDEV             (time) float64 ...\n",
       "    SAL_RBR_MEAN                    (time) float64 ...\n",
       "    SAL_RBR_STDDEV                  (time) float64 ...\n",
       "    COND_RBR_MEAN                   (time) float64 ...\n",
       "    COND_RBR_STDDEV                 (time) float64 ...\n",
       "    O2_CONC_SBE37_MEAN              (time) float64 ...\n",
       "    O2_CONC_SBE37_STDDEV            (time) float64 ...\n",
       "    O2_SAT_SBE37_MEAN               (time) float64 ...\n",
       "    O2_SAT_SBE37_STDDEV             (time) float64 ...\n",
       "    O2_CONC_RBR_MEAN                (time) float64 ...\n",
       "    O2_CONC_RBR_STDDEV              (time) float64 ...\n",
       "    O2_SAT_RBR_MEAN                 (time) float64 ...\n",
       "    O2_SAT_RBR_STDDEV               (time) float64 ...\n",
       "    TEMP_O2_RBR_MEAN                (time) float64 ...\n",
       "    TEMP_O2_RBR_STDDEV              (time) float64 ...\n",
       "    CHLOR_WETLABS_MEAN              (time) float64 ...\n",
       "    CHLOR_WETLABS_STDDEV            (time) float64 ...\n",
       "    CHLOR_RBR_MEAN                  (time) float64 ...\n",
       "    CHLOR_RBR_STDDEV                (time) float64 ...\n",
       "    wspd_MEAN                       (time) float64 ...\n",
       "    wdir_MEAN                       (time) float64 ...\n",
       "    sea_water_temperature_00_mean   (time) float64 ...\n",
       "    sea_water_temperature_00_std    (time) float64 ...\n",
       "    sea_water_temperature_01_mean   (time) float64 ...\n",
       "    sea_water_temperature_01_std    (time) float64 ...\n",
       "    sea_water_temperature_02_mean   (time) float64 ...\n",
       "    sea_water_temperature_02_std    (time) float64 ...\n",
       "    sea_water_temperature_04_mean   (time) float64 ...\n",
       "    sea_water_temperature_04_std    (time) float64 ...\n",
       "    sea_water_temperature_05_mean   (time) float64 ...\n",
       "    sea_water_temperature_05_std    (time) float64 ...\n",
       "    sea_water_temperature_06_mean   (time) float64 ...\n",
       "    sea_water_temperature_06_std    (time) float64 ...\n",
       "    density_MEAN                    (time) float64 ...\n",
       "    alpha_MEAN                      (time) float64 ...\n",
       "    beta_MEAN                       (time) float64 ...\n",
       "    sensible_heat_flux_v4           (time) float64 ...\n",
       "    latent_heat_flux_v4             (time) float64 ...\n",
       "    cool_skin_v4                    (time) float64 ...\n",
       "    skin_thickness_v4               (time) float64 ...\n",
       "    sensible_heat_flux_v3           (time) float64 ...\n",
       "    latent_heat_flux_v3             (time) float64 ...\n",
       "    cool_skin_v3                    (time) float64 ...\n",
       "    skin_thickness_v3               (time) float64 ...\n",
       "Attributes:\n",
       "    title:                     Arctic NASA MISST 2019 Mission\n",
       "    summary:                   Saildrone surface observational data for the N...\n",
       "    ncei_template_version:     NCEI_NetCDF_Trajectory_Template_v2.0\n",
       "    Conventions:               CF-1.6, ACDD-1.3\n",
       "    netcdf_version:            4.6.3\n",
       "    featureType:               trajectory\n",
       "    cdm_data_type:             Trajectory\n",
       "    standard_name_vocabulary:  CF Standard Name Table v58\n",
       "    description:               Saildrone NetCDF Format\n",
       "    creator_name:              Saildrone\n",
       "    platform:                  Saildrone\n",
       "    institution:               Saildrone\n",
       "    creator_email:             support@saildrone.com\n",
       "    creator_url:               https://saildrone.com/\n",
       "    date_created:              2019-12-03T01:15:41.913484Z\n",
       "    time_coverage_start:       2019-05-14T23:00:00.000Z\n",
       "    time_coverage_end:         2019-10-11T18:30:00.000Z\n",
       "    time_coverage_resolution:  1-minute\n",
       "    time_coverage_duration:    P149DT19H30M0S\n",
       "    area:                      Bering and Chukchi Seas\n",
       "    data_mode:                 delayed-mode\n",
       "    drone_id:                  1036\n",
       "    id:                        74829\n",
       "    naming_authority:          saildrone.com\n",
       "    uuid:                      9854504d-6241-4b9c-8964-42c82c95a1cc\n",
       "    project:                   NASA Multi-Sensor Improved Sea Surface Tempera...\n",
       "    source:                    Saildrone\n",
       "    license:                   2019 CC-BY SAILDRONE Inc.  All Rights Reserved...\n",
       "    nodc_template_version:     NODC_NetCDF_Trajectory_Template_v2.0\n",
       "    wmo_id:                    4803914\n",
       "    geospatial_lat_min:        53.8464768\n",
       "    geospatial_lat_max:        75.222176\n",
       "    geospatial_lat_units:      degrees_north\n",
       "    geospatial_lon_min:        -176.2569088\n",
       "    geospatial_lon_max:        -147.8197248\n",
       "    geospatial_lon_units:      degrees_east\n",
       "    history:                   created post-cruise 1/2020\n",
       "    product_version:           v01.0\n",
       "    keywords:                  Temperature, Salinity, Wind Vectors, Air Tempe...\n",
       "    keywords_vocabulary:       NASA/GCMD\n",
       "    publisher_name:            Saildrone\n",
       "    publisher_url:             www.saildrone.com\n",
       "    publisher_email:           support@saildrone.com\n",
       "    acknowledgment:            Saildrone. 2019. Saildrone Arctic field campai...\n",
       "    processing_level:          Level 2"
      ]
     },
     "execution_count": 2,
     "metadata": {},
     "output_type": "execute_result"
    }
   ],
   "source": [
    "fnames=['saildrone-gen_5-arctic_misst_2019-sd1036-20190514T230000-20191011T183000-1_minutes-v1.1575336154680-withSBE_fluxes.nc',\n",
    "       'saildrone-gen_5-arctic_misst_2019-sd1037-20190514T230000-20191011T183000-1_minutes-v1.1575487464625-withSBE_fluxes.nc']\n",
    "ds = xr.open_dataset(data_dir_out+fnames[0])\n",
    "ds"
   ]
  },
  {
   "cell_type": "code",
   "execution_count": 5,
   "metadata": {},
   "outputs": [
    {
     "data": {
      "text/plain": [
       "[<matplotlib.lines.Line2D at 0x23e8e5d5080>]"
      ]
     },
     "execution_count": 5,
     "metadata": {},
     "output_type": "execute_result"
    },
    {
     "data": {
      "image/png": "[encoded data removed]",
      "text/plain": [
       "<Figure size 432x288 with 1 Axes>"
      ]
     },
     "metadata": {
      "needs_background": "light"
     },
     "output_type": "display_data"
    }
   ],
   "source": [
    "(ds.sensible_heat_flux_v3-ds.sensible_heat_flux_v4).plot()"
   ]
  },
  {
   "cell_type": "code",
   "execution_count": 8,
   "metadata": {},
   "outputs": [
    {
     "data": {
      "text/plain": [
       "[<matplotlib.lines.Line2D at 0x23e8e85a710>]"
      ]
     },
     "execution_count": 8,
     "metadata": {},
     "output_type": "execute_result"
    },
    {
     "data": {
      "image/png": "[encoded data removed]",
      "text/plain": [
       "<Figure size 432x288 with 1 Axes>"
      ]
     },
     "metadata": {
      "needs_background": "light"
     },
     "output_type": "display_data"
    }
   ],
   "source": [
    "ds.density_MEAN.plot()"
   ]
  },
  {
   "cell_type": "code",
   "execution_count": null,
   "metadata": {},
   "outputs": [],
   "source": []
  }
 ],
 "metadata": {
  "kernelspec": {
   "display_name": "Python 3",
   "language": "python",
   "name": "python3"
  },
  "language_info": {
   "codemirror_mode": {
    "name": "ipython",
    "version": 3
   },
   "file_extension": ".py",
   "mimetype": "text/x-python",
   "name": "python",
   "nbconvert_exporter": "python",
   "pygments_lexer": "ipython3",
   "version": "3.7.3"
  }
 },
 "nbformat": 4,
 "nbformat_minor": 2
}
