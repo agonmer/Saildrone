{
 "cells": [
  {
   "cell_type": "code",
   "execution_count": 6,
   "metadata": {},
   "outputs": [
    {
     "data": {
      "text/plain": [
       "<xarray.Dataset>\n",
       "Dimensions:                         (obs: 215731, trajectory: 1)\n",
       "Coordinates:\n",
       "    latitude                        (trajectory, obs) float64 ...\n",
       "    longitude                       (trajectory, obs) float64 ...\n",
       "    time                            (trajectory, obs) datetime64[ns] ...\n",
       "  * trajectory                      (trajectory) object '1036'\n",
       "Dimensions without coordinates: obs\n",
       "Data variables:\n",
       "    SOG                             (trajectory, obs) float64 ...\n",
       "    SOG_FILTERED_MEAN               (trajectory, obs) float64 ...\n",
       "    SOG_FILTERED_STDDEV             (trajectory, obs) float64 ...\n",
       "    SOG_FILTERED_MAX                (trajectory, obs) float64 ...\n",
       "    SOG_FILTERED_MIN                (trajectory, obs) float64 ...\n",
       "    COG                             (trajectory, obs) float64 ...\n",
       "    COG_FILTERED_MEAN               (trajectory, obs) float64 ...\n",
       "    COG_FILTERED_STDDEV             (trajectory, obs) float64 ...\n",
       "    HDG                             (trajectory, obs) float64 ...\n",
       "    HDG_FILTERED_MEAN               (trajectory, obs) float64 ...\n",
       "    HDG_FILTERED_STDDEV             (trajectory, obs) float64 ...\n",
       "    ROLL_FILTERED_MEAN              (trajectory, obs) float64 ...\n",
       "    ROLL_FILTERED_STDDEV            (trajectory, obs) float64 ...\n",
       "    ROLL_FILTERED_PEAK              (trajectory, obs) float64 ...\n",
       "    PITCH_FILTERED_MEAN             (trajectory, obs) float64 ...\n",
       "    PITCH_FILTERED_STDDEV           (trajectory, obs) float64 ...\n",
       "    PITCH_FILTERED_PEAK             (trajectory, obs) float64 ...\n",
       "    HDG_WING                        (trajectory, obs) float64 ...\n",
       "    WING_HDG_FILTERED_MEAN          (trajectory, obs) float64 ...\n",
       "    WING_HDG_FILTERED_STDDEV        (trajectory, obs) float64 ...\n",
       "    WING_ROLL_FILTERED_MEAN         (trajectory, obs) float64 ...\n",
       "    WING_ROLL_FILTERED_STDDEV       (trajectory, obs) float64 ...\n",
       "    WING_ROLL_FILTERED_PEAK         (trajectory, obs) float64 ...\n",
       "    WING_PITCH_FILTERED_MEAN        (trajectory, obs) float64 ...\n",
       "    WING_PITCH_FILTERED_STDDEV      (trajectory, obs) float64 ...\n",
       "    WING_PITCH_FILTERED_PEAK        (trajectory, obs) float64 ...\n",
       "    WING_ANGLE                      (trajectory, obs) float64 ...\n",
       "    UWND_MEAN                       (trajectory, obs) float64 ...\n",
       "    UWND_STDDEV                     (trajectory, obs) float64 ...\n",
       "    VWND_MEAN                       (trajectory, obs) float64 ...\n",
       "    VWND_STDDEV                     (trajectory, obs) float64 ...\n",
       "    WWND_MEAN                       (trajectory, obs) float64 ...\n",
       "    WWND_STDDEV                     (trajectory, obs) float64 ...\n",
       "    GUST_WND_MEAN                   (trajectory, obs) float64 ...\n",
       "    GUST_WND_STDDEV                 (trajectory, obs) float64 ...\n",
       "    WIND_HEIGHT_MEAN                (trajectory, obs) float64 ...\n",
       "    WIND_HEIGHT_STDDEV              (trajectory, obs) float64 ...\n",
       "    TEMP_AIR_MEAN                   (trajectory, obs) float64 ...\n",
       "    TEMP_AIR_STDDEV                 (trajectory, obs) float64 ...\n",
       "    RH_MEAN                         (trajectory, obs) float64 ...\n",
       "    RH_STDDEV                       (trajectory, obs) float64 ...\n",
       "    BARO_PRES_MEAN                  (trajectory, obs) float64 ...\n",
       "    BARO_PRES_STDDEV                (trajectory, obs) float64 ...\n",
       "    PAR_AIR_MEAN                    (trajectory, obs) float64 ...\n",
       "    PAR_AIR_STDDEV                  (trajectory, obs) float64 ...\n",
       "    TEMP_IR_SKY_HULL_MEAN           (trajectory, obs) float64 ...\n",
       "    TEMP_IR_SKY_HULL_STDDEV         (trajectory, obs) float64 ...\n",
       "    TEMP_IR_SEA_HULL_UNCOMP_MEAN    (trajectory, obs) float64 ...\n",
       "    TEMP_IR_SEA_HULL_UNCOMP_STDDEV  (trajectory, obs) float64 ...\n",
       "    TEMP_IR_SEA_WING_UNCOMP_MEAN    (trajectory, obs) float64 ...\n",
       "    TEMP_IR_SEA_WING_UNCOMP_STDDEV  (trajectory, obs) float64 ...\n",
       "    WAVE_DOMINANT_PERIOD            (trajectory, obs) float64 ...\n",
       "    WAVE_SIGNIFICANT_HEIGHT         (trajectory, obs) float64 ...\n",
       "    TEMP_SBE37_MEAN                 (trajectory, obs) float64 ...\n",
       "    TEMP_SBE37_STDDEV               (trajectory, obs) float64 ...\n",
       "    SAL_SBE37_MEAN                  (trajectory, obs) float64 ...\n",
       "    SAL_SBE37_STDDEV                (trajectory, obs) float64 ...\n",
       "    COND_SBE37_MEAN                 (trajectory, obs) float64 ...\n",
       "    COND_SBE37_STDDEV               (trajectory, obs) float64 ...\n",
       "    TEMP_CTD_RBR_MEAN               (trajectory, obs) float64 ...\n",
       "    TEMP_CTD_RBR_STDDEV             (trajectory, obs) float64 ...\n",
       "    SAL_RBR_MEAN                    (trajectory, obs) float64 ...\n",
       "    SAL_RBR_STDDEV                  (trajectory, obs) float64 ...\n",
       "    COND_RBR_MEAN                   (trajectory, obs) float64 ...\n",
       "    COND_RBR_STDDEV                 (trajectory, obs) float64 ...\n",
       "    O2_CONC_SBE37_MEAN              (trajectory, obs) float64 ...\n",
       "    O2_CONC_SBE37_STDDEV            (trajectory, obs) float64 ...\n",
       "    O2_SAT_SBE37_MEAN               (trajectory, obs) float64 ...\n",
       "    O2_SAT_SBE37_STDDEV             (trajectory, obs) float64 ...\n",
       "    O2_CONC_RBR_MEAN                (trajectory, obs) float64 ...\n",
       "    O2_CONC_RBR_STDDEV              (trajectory, obs) float64 ...\n",
       "    O2_SAT_RBR_MEAN                 (trajectory, obs) float64 ...\n",
       "    O2_SAT_RBR_STDDEV               (trajectory, obs) float64 ...\n",
       "    TEMP_O2_RBR_MEAN                (trajectory, obs) float64 ...\n",
       "    TEMP_O2_RBR_STDDEV              (trajectory, obs) float64 ...\n",
       "    CHLOR_WETLABS_MEAN              (trajectory, obs) float64 ...\n",
       "    CHLOR_WETLABS_STDDEV            (trajectory, obs) float64 ...\n",
       "    CHLOR_RBR_MEAN                  (trajectory, obs) float64 ...\n",
       "    CHLOR_RBR_STDDEV                (trajectory, obs) float64 ...\n",
       "Attributes:\n",
       "    title:                     Arctic MISST 2019 Mission\n",
       "    summary:                   The Saildrone unmanned surface vehicles (USVs)...\n",
       "    ncei_template_version:     NCEI_NetCDF_Trajectory_Template_v2.0\n",
       "    Conventions:               CF-1.6, ACDD-1.3\n",
       "    netcdf_version:            4.6.3\n",
       "    featureType:               trajectory\n",
       "    cdm_data_type:             Trajectory\n",
       "    standard_name_vocabulary:  CF Standard Name Table v58\n",
       "    description:               Saildrone NetCDF Format\n",
       "    creator_name:              Saildrone\n",
       "    platform:                  Saildrone\n",
       "    institution:               Saildrone\n",
       "    creator_email:             support@saildrone.com\n",
       "    creator_url:               https://saildrone.com/\n",
       "    date_created:              2019-12-03T01:15:41.913484Z\n",
       "    interval:                  60\n",
       "    time_coverage_start:       2019-05-14T23:00:00.000Z\n",
       "    time_coverage_end:         2019-10-11T18:30:00.000Z\n",
       "    time_coverage_resolution:  PT1M\n",
       "    time_coverage_duration:    P149DT19H30M\n",
       "    area:                      Bering and Chukchi Seas\n",
       "    data_mode:                 realtime\n",
       "    drone_id:                  1036\n",
       "    id:                        74829\n",
       "    naming_authority:          com.saildrone\n",
       "    uuid:                      9854504d-6241-4b9c-8964-42c82c95a1cc\n",
       "    project:                   arctic_misst_2019\n",
       "    time_in:                   minutes\n",
       "    source:                    Saildrone\n",
       "    license:                   2019 © SAILDRONE Inc.  All Rights Reserved.  T...\n",
       "    nodc_template_version:     NODC_NetCDF_Trajectory_Template_v2.0\n",
       "    wmo_id:                    4803914\n",
       "    geospatial_lat_min:        53.8464768\n",
       "    geospatial_lat_max:        75.222176\n",
       "    geospatial_lat_units:      degrees_north\n",
       "    geospatial_lon_min:        -176.2569088\n",
       "    geospatial_lon_max:        -147.8197248\n",
       "    geospatial_lon_units:      degrees_east"
      ]
     },
     "execution_count": 6,
     "metadata": {},
     "output_type": "execute_result"
    }
   ],
   "source": [
    "import xarray as xr\n",
    "file = 'F:/data/cruise_data/saildrone/2019_arctic/post_mission/saildrone-gen_5-arctic_misst_2019-sd1036-20190514T230000-20191011T183000-1_minutes-v1.1575336154680.nc'\n",
    "ds=xr.open_dataset(file)\n",
    "ds"
   ]
  },
  {
   "cell_type": "code",
   "execution_count": 3,
   "metadata": {},
   "outputs": [
    {
     "data": {
      "text/plain": [
       "[<matplotlib.lines.Line2D at 0x1eda60d4c18>]"
      ]
     },
     "execution_count": 3,
     "metadata": {},
     "output_type": "execute_result"
    },
    {
     "data": {
      "image/png": "[encoded data removed]",
      "text/plain": [
       "<Figure size 432x288 with 1 Axes>"
      ]
     },
     "metadata": {
      "needs_background": "light"
     },
     "output_type": "display_data"
    }
   ],
   "source": [
    "ds.TEMP_CTD_RBR_MEAN.plot()"
   ]
  },
  {
   "cell_type": "code",
   "execution_count": 4,
   "metadata": {},
   "outputs": [
    {
     "data": {
      "text/plain": [
       "<xarray.Dataset>\n",
       "Dimensions:           (lat: 17999, lon: 36000, time: 1)\n",
       "Coordinates:\n",
       "  * time              (time) datetime64[ns] 2004-01-01T09:00:00\n",
       "  * lat               (lat) float32 -89.99 -89.98 -89.97 ... 89.97 89.98 89.99\n",
       "  * lon               (lon) float32 -179.99 -179.98 -179.97 ... 179.99 180.0\n",
       "Data variables:\n",
       "    analysed_sst      (time, lat, lon) float32 ...\n",
       "    analysis_error    (time, lat, lon) float32 ...\n",
       "    mask              (time, lat, lon) float32 ...\n",
       "    sea_ice_fraction  (time, lat, lon) float32 ...\n",
       "Attributes:\n",
       "    Conventions:                CF-1.5\n",
       "    title:                      Daily MUR SST, Final product\n",
       "    summary:                    A merged, multi-sensor L4 Foundation SST anal...\n",
       "    references:                 http://podaac.jpl.nasa.gov/Multi-scale_Ultra-...\n",
       "    institution:                Jet Propulsion Laboratory\n",
       "    history:                    created at nominal 4-day latency; replaced nr...\n",
       "    comment:                    MUR = \"Multi-scale Ultra-high Reolution\"\n",
       "    license:                    These data are available free of charge under...\n",
       "    id:                         MUR-JPL-L4-GLOB-v04.1\n",
       "    naming_authority:           org.ghrsst\n",
       "    product_version:            04.1\n",
       "    uuid:                       27665bc0-d5fc-11e1-9b23-0800200c9a66\n",
       "    gds_version_id:             2.0\n",
       "    netcdf_version_id:          4.1\n",
       "    date_created:               20150817T065424Z\n",
       "    start_time:                 20040101T090000Z\n",
       "    stop_time:                  20040101T090000Z\n",
       "    time_coverage_start:        20031231T210000Z\n",
       "    time_coverage_end:          20040101T210000Z\n",
       "    file_quality_level:         1\n",
       "    source:                     AMSRE-REMSS, AVHRR_Pathfinder-PFV5.2-NODC_day...\n",
       "    platform:                   Aqua, DMSP, NOAA-POES, Suomi-NPP, Terra\n",
       "    sensor:                     AMSR-E, AVHRR, MODIS, SSM/I, VIIRS, in-situ\n",
       "    Metadata_Conventions:       Unidata Observation Dataset v1.0\n",
       "    metadata_link:              http://podaac.jpl.nasa.gov/ws/metadata/datase...\n",
       "    keywords:                   Oceans > Ocean Temperature > Sea Surface Temp...\n",
       "    keywords_vocabulary:        NASA Global Change Master Directory (GCMD) Sc...\n",
       "    standard_name_vocabulary:   NetCDF Climate and Forecast (CF) Metadata Con...\n",
       "    southernmost_latitude:      -90.0\n",
       "    northernmost_latitude:      90.0\n",
       "    westernmost_longitude:      -180.0\n",
       "    easternmost_longitude:      180.0\n",
       "    spatial_resolution:         0.01 degrees\n",
       "    geospatial_lat_units:       degrees north\n",
       "    geospatial_lat_resolution:  0.01 degrees\n",
       "    geospatial_lon_units:       degrees east\n",
       "    geospatial_lon_resolution:  0.01 degrees\n",
       "    acknowledgment:             Please acknowledge the use of these data with...\n",
       "    creator_name:               JPL MUR SST project\n",
       "    creator_email:              ghrsst@podaac.jpl.nasa.gov\n",
       "    creator_url:                http://mur.jpl.nasa.gov\n",
       "    project:                    NASA Making Earth Science Data Records for Us...\n",
       "    publisher_name:             GHRSST Project Office\n",
       "    publisher_url:              http://www.ghrsst.org\n",
       "    publisher_email:            ghrsst-po@nceo.ac.uk\n",
       "    processing_level:           L4\n",
       "    cdm_data_type:              grid"
      ]
     },
     "execution_count": 4,
     "metadata": {},
     "output_type": "execute_result"
    }
   ],
   "source": [
    "file = 'F:/data/sst/jpl_mur/v4.1/2004/001/20040101090000-JPL-L4_GHRSST-SSTfnd-MUR-GLOB-v02.0-fv04.1.nc'\n",
    "ds=xr.open_dataset(file)\n",
    "ds"
   ]
  },
  {
   "cell_type": "code",
   "execution_count": 7,
   "metadata": {},
   "outputs": [
    {
     "data": {
      "text/plain": [
       "'The Saildrone unmanned surface vehicles (USVs) collected data on a 150-day cruise from Dutch Harbor, Alaska within the Bering and Chukchi Seas to the ice edge and back during 15 May 2019 to 11 October 2019. Scientific objectives include collecting upper ocean temperature profiles with a full suite of ocean measurements, which could lead to significant improvements in modeling of diurnal warming. Additionally, these new data will provide additional Arctic SST observations to benefit SST algorithm development and validation, and collected additional data for studies of air- sea-ice interactions. The USVs first encountered the ice edge around 15 June 2019 and by the beginning of August 2019 low power levels due to lack of sunlight resulted in payloads being turned off or reduced sampling intervals.'"
      ]
     },
     "execution_count": 7,
     "metadata": {},
     "output_type": "execute_result"
    }
   ],
   "source": [
    "ds.attrs['summary']"
   ]
  },
  {
   "cell_type": "code",
   "execution_count": null,
   "metadata": {},
   "outputs": [],
   "source": []
  }
 ],
 "metadata": {
  "kernelspec": {
   "display_name": "Python 3",
   "language": "python",
   "name": "python3"
  },
  "language_info": {
   "codemirror_mode": {
    "name": "ipython",
    "version": 3
   },
   "file_extension": ".py",
   "mimetype": "text/x-python",
   "name": "python",
   "nbconvert_exporter": "python",
   "pygments_lexer": "ipython3",
   "version": "3.7.3"
  }
 },
 "nbformat": 4,
 "nbformat_minor": 2
}
