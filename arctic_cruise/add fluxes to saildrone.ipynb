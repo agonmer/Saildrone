{
 "cells": [
  {
   "cell_type": "code",
   "execution_count": 1,
   "metadata": {},
   "outputs": [],
   "source": [
    "%matplotlib inline\n",
    "import numpy as np\n",
    "import sys\n",
    "sys.path.append('./../../flux/')\n",
    "from coare3 import coare3\n",
    "from coare4 import coare4\n",
    "from gravity_constant import grv\n",
    "import xarray as xr\n",
    "import numpy as np\n",
    "import pandas as pd\n",
    "import matplotlib.pyplot as plt\n",
    "import seawater as sw\n",
    "import cartopy.crs as ccrs                   # import projections\n",
    "import cartopy.feature as cf                 # import features\n",
    "\n",
    "fig_dir='C:/Users/gentemann/Google Drive/f_drive/docs/projects/misst-arctic/Saildrone/'\n",
    "\n",
    "icefile='C:/Users/gentemann/Google Drive/f_drive/docs/projects/misst-arctic/Ice Present.xlsx'\n",
    "\n",
    "data_dir = 'F:/data/cruise_data/saildrone/2019_arctic/post_mission/'\n",
    "\n",
    "adir_sbe='F:/data/cruise_data/saildrone/2019_arctic/sbe56/sd-'\n",
    "\n",
    "data_dir_sbe_combined = 'F:/data/cruise_data/saildrone/2019_arctic/post_mission_combined/'\n",
    "\n",
    "data_dir_out = 'F:/data/cruise_data/saildrone/2019_arctic/post_mission_combined_fluxes/'\n",
    "\n",
    "fnames=['saildrone-gen_5-arctic_misst_2019-sd1036-20190514T230000-20191011T183000-1_minutes-v1.1575336154680-withSBE.nc',\n",
    "       'saildrone-gen_5-arctic_misst_2019-sd1037-20190514T230000-20191011T183000-1_minutes-v1.1575487464625-withSBE.nc']\n",
    "\n",
    "fnames_out=['saildrone-gen_5-arctic_misst_2019-sd1036-20190514T230000-20191011T183000-1_minutes-v1.1575336154680-withSBE_fluxes.nc',\n",
    "       'saildrone-gen_5-arctic_misst_2019-sd1037-20190514T230000-20191011T183000-1_minutes-v1.1575487464625-withSBE_fluxes.nc']\n",
    "\n",
    "jcool = 1 #ocean bulk temperature\n",
    "\n",
    "\n",
    "WS_height = 4.5  #saildrone height obs\n",
    "Ta_height = 2.3\n",
    "Rs_mean = 312   #from eyeballing 1037 data\n",
    "Rl_mean = 300  #from eyeballing 1037 data\n"
   ]
  },
  {
   "cell_type": "markdown",
   "metadata": {},
   "source": [
    "# Print out min/max to check on units"
   ]
  },
  {
   "cell_type": "code",
   "execution_count": 2,
   "metadata": {},
   "outputs": [
    {
     "name": "stdout",
     "output_type": "stream",
     "text": [
      "Frozen(SortedKeysDict({'time': 125718}))\n",
      "54.59 100.0\n",
      "652.12 1029.46\n",
      "{'standard_name': 'air_temperature', 'long_name': 'Air temperature', 'units': 'degrees_c', 'installed_date': '2019-04-10T01:04:22.555277Z', 'device_name': 'Rotronic AT/RH (0020208914)', 'serial_number': '0020208914', 'last_calibrated': '2017-05-10', 'installed_height': 2.3, 'vendor_name': 'Rotronic', 'model_name': 'HC2-S3', 'nominal_sampling_schedule': '60s on, 240s off, centered at :00', 'update_period': 1000}\n",
      "-2.76\n",
      "12.41\n",
      "{'long_name': 'sea surface depth 1-min mean', 'standard_name': 'sea_water_temperature', 'installed_height': '-0.33 m', 'serial_number': 'SBE05609153', 'model_number': '56', 'sensor_description': 'Seabird 56 Temperature Logger', 'model_name': 'SBE 56', 'product_page': 'http://www.seabird.com/sbe56-temperature-logger', 'nominal_sampling_schedule': '1 minute averages from :54 to :06 seconds', 'units': 'degrees_C', 'valid_min': -10.0, 'valid_max': 50.0}\n",
      "-1.1542999999999999\n",
      "11.359699999999998\n",
      "{'standard_name': 'eastward_wind', 'long_name': 'Eastward wind speed', 'units': 'm s-1', 'installed_date': '2019-04-10T01:00:52.030270Z', 'device_name': 'Gill Anemometer (W182210)', 'serial_number': 'W182210', 'last_calibrated': '2018-05-31', 'installed_height': 5.2, 'vendor_name': 'Gill', 'model_name': '1590-PK-020', 'model_product_page': 'http://gillinstruments.com/products/anemometer/windmaster.htm', 'nominal_sampling_schedule': '60s on, 240s off, centered at :00', 'update_period': 50}\n",
      "Frozen(SortedKeysDict({'time': 133952}))\n",
      "55.13 100.0\n",
      "992.09 1035.74\n",
      "{'standard_name': 'air_temperature', 'long_name': 'Air temperature', 'units': 'degrees_c', 'installed_date': '2019-04-09T18:21:02.735703Z', 'device_name': 'Rotronic AT/RH (0020208767)', 'serial_number': '0020208767', 'last_calibrated': '2017-05-10', 'installed_height': 2.3, 'vendor_name': 'Rotronic', 'model_name': 'HC2-S3', 'nominal_sampling_schedule': '60s on, 240s off, centered at :00', 'update_period': 1000}\n",
      "-2.97\n",
      "12.3\n",
      "{'long_name': 'sea surface depth 1-min mean', 'standard_name': 'sea_water_temperature', 'installed_height': '-0.324 m', 'serial_number': 'SBE05608196', 'model_number': '56', 'sensor_description': 'Seabird 56 Temperature Logger', 'model_name': 'SBE 56', 'product_page': 'http://www.seabird.com/sbe56-temperature-logger', 'nominal_sampling_schedule': '1 minute averages from :54 to :06 seconds', 'units': 'degrees_C', 'valid_min': -10.0, 'valid_max': 50.0}\n",
      "-1.3975\n",
      "11.260599999999998\n",
      "{'standard_name': 'eastward_wind', 'long_name': 'Eastward wind speed', 'units': 'm s-1', 'installed_date': '2019-04-10T00:46:53.168598Z', 'device_name': 'Gill Anemometer (W182203)', 'serial_number': 'W182203', 'last_calibrated': '2018-05-31', 'installed_height': 5.2, 'vendor_name': 'Gill', 'model_name': '1590-PK-020', 'model_product_page': 'http://gillinstruments.com/products/anemometer/windmaster.htm', 'nominal_sampling_schedule': '60s on, 240s off, centered at :00', 'update_period': 50}\n"
     ]
    }
   ],
   "source": [
    "#    Args:  \n",
    "#        u (float): relative wind speed (m/s) at height zu(m)\n",
    "#        t (float): bulk air temperature (degC) at height zt(m)\n",
    "#        rh (float): relative humidity (#) at height zq(m) [0-100]\n",
    "#        P (float): surface air pressure (mb) (default = 1015)\n",
    "#        ts (float): water temperature (degC) see jcool below\n",
    "#        Rs (float): downward shortwave radiation (W/m^2) (default = 150) \n",
    "#        Rl (float): downward longwave radiation (W/m^2) (default = 370)\n",
    "#        lat (float): latitude (default = +45 N)\n",
    "#        zi (float): PBL height (m) (default = 600m)\n",
    "\n",
    "for i in range(2):\n",
    "    ds = xr.open_dataset(data_dir_sbe_combined+fnames[i])\n",
    "    \n",
    "    tem=sw.dens0(ds.SAL_SBE37_MEAN,ds.TEMP_SBE37_MEAN)\n",
    "    ds['density_MEAN']=xr.DataArray(tem,dims=('time'),coords={'time':ds.time})\n",
    "    tem=sw.alpha(ds.SAL_SBE37_MEAN,ds.TEMP_SBE37_MEAN,ds.BARO_PRES_MEAN*0) #pressure =0 at surface\n",
    "    ds['alpha_MEAN']=xr.DataArray(tem,dims=('time'),coords={'time':ds.time})\n",
    "    tem=sw.beta(ds.SAL_SBE37_MEAN,ds.TEMP_SBE37_MEAN,ds.BARO_PRES_MEAN*0) #pressure =0 at surface\n",
    "    ds['beta_MEAN']=xr.DataArray(tem,dims=('time'),coords={'time':ds.time})\n",
    "    \n",
    "    #calcalate 10 m wind\n",
    "    WS_height = 5.2  #saildrone height obs\n",
    "    Ta_height = 2.4\n",
    "    Rs_mean = 312   #from eyeballing 1037 data\n",
    "    Rl_mean = 300  #from eyeballing 1037 data\n",
    "    \n",
    "    tem = ds #.isel(trajectory=i)   \n",
    "    cond = (np.isfinite(tem.wspd_MEAN) & np.isfinite(tem.TEMP_AIR_MEAN) \\\n",
    "            & np.isfinite(tem.RH_MEAN) & np.isfinite(tem.BARO_PRES_MEAN) \\\n",
    "            & np.isfinite(tem.sea_water_temperature_00_mean) \\\n",
    "            & np.isfinite(tem.lat))                                                                            \n",
    "    ds2=tem.where(cond,drop=True)\n",
    "    print(ds2.dims)\n",
    "    \n",
    "    print(ds2.RH_MEAN.min().data,ds2.RH_MEAN.max().data)\n",
    "    print(ds2.BARO_PRES_MEAN.min().data,ds2.BARO_PRES_MEAN.max().data)\n",
    "    print(ds2.TEMP_AIR_MEAN.attrs)\n",
    "    print(ds2.TEMP_AIR_MEAN.min().data)\n",
    "    print(ds2.TEMP_AIR_MEAN.max().data)\n",
    "    print(ds2.sea_water_temperature_00_mean.attrs)\n",
    "    print(ds2.sea_water_temperature_00_mean.min().data)\n",
    "    print(ds2.sea_water_temperature_00_mean.max().data)\n",
    "    print(ds2.UWND_MEAN.attrs)\n",
    " "
   ]
  },
  {
   "cell_type": "code",
   "execution_count": 3,
   "metadata": {},
   "outputs": [
    {
     "name": "stdout",
     "output_type": "stream",
     "text": [
      "Frozen(SortedKeysDict({'time': 125718}))\n",
      "t (1, 125718)\n",
      "lat (1, 125718)\n",
      "Frozen(SortedKeysDict({'time': 133952}))\n",
      "t (1, 133952)\n",
      "lat (1, 133952)\n"
     ]
    }
   ],
   "source": [
    "\n",
    "jcool = 1 #ocean bulk temperature\n",
    "\n",
    "\n",
    "for i in range(2):\n",
    "    ds = xr.open_dataset(data_dir_sbe_combined+fnames[i])\n",
    "    \n",
    "    tem=sw.dens0(ds.SAL_SBE37_MEAN,ds.TEMP_SBE37_MEAN)\n",
    "    ds['density_MEAN']=xr.DataArray(tem,dims=('time'),coords={'time':ds.time})\n",
    "    tem=sw.alpha(ds.SAL_SBE37_MEAN,ds.TEMP_SBE37_MEAN,ds.BARO_PRES_MEAN*0) #pressure =0 at surface\n",
    "    ds['alpha_MEAN']=xr.DataArray(tem,dims=('time'),coords={'time':ds.time})\n",
    "    tem=sw.beta(ds.SAL_SBE37_MEAN,ds.TEMP_SBE37_MEAN,ds.BARO_PRES_MEAN*0) #pressure =0 at surface\n",
    "    ds['beta_MEAN']=xr.DataArray(tem,dims=('time'),coords={'time':ds.time})\n",
    "    \n",
    "    tem = ds #.isel(trajectory=i)   \n",
    "    cond = (np.isfinite(tem.wspd_MEAN) & np.isfinite(tem.TEMP_AIR_MEAN) \\\n",
    "            & np.isfinite(tem.RH_MEAN) & np.isfinite(tem.BARO_PRES_MEAN) \\\n",
    "            & np.isfinite(tem.sea_water_temperature_00_mean) \\\n",
    "            & np.isfinite(tem.lat))                                                                            \n",
    "    ds2=tem.where(cond,drop=True)\n",
    "    print(ds2.dims)\n",
    "      \n",
    "    \n",
    "    inputs = {'u':ds2.wspd_MEAN,\n",
    "              't':ds2.TEMP_AIR_MEAN,\n",
    "              'rh':ds2.RH_MEAN,\n",
    "              'P':ds2.BARO_PRES_MEAN,\n",
    "              'ts':ds2.sea_water_temperature_00_mean,\n",
    "              'lat':ds2.lat,\n",
    "             'zt':Ta_height,\n",
    "             'zu':WS_height,\n",
    "             'Rl':Rl_mean,\n",
    "             'Rs':Rs_mean}\n",
    "    res = coare4(inputs)\n",
    "    ds['sensible_heat_flux_v4']=xr.DataArray(res['hsb'][0,:].data,coords=[ds2.time],dims=['time'],\n",
    "                                           attrs={'long_name':'sensible heat flux into ocean','units':'W/m^2'})\n",
    "    ds['latent_heat_flux_v4']=xr.DataArray(res['hlb'][0,:].data,coords=[ds2.time],dims=['time'],\n",
    "                                           attrs={'long_name':'latent heat flux into ocean','units':'W/m^2'})\n",
    "    ds['cool_skin_v4']=xr.DataArray(res['dter'][0,:].data,coords=[ds2.time],dims=['time'],\n",
    "                                           attrs={'long_name':'cool-skin temperature depression','units':'degC'})\n",
    "    ds['skin_thickness_v4']=xr.DataArray(res['tkt'][0,:].data,coords=[ds2.time],dims=['time'],\n",
    "                                           attrs={'long_name':'cool-skin thickness','units':'m'})\n",
    "    res = coare3(inputs)\n",
    "    ds['sensible_heat_flux_v3']=xr.DataArray(res['hsb'][0,:].data,coords=[ds2.time],dims=['time'],\n",
    "                                           attrs={'long_name':'sensible heat flux into ocean','units':'W/m^2'})\n",
    "    ds['latent_heat_flux_v3']=xr.DataArray(res['hlb'][0,:].data,coords=[ds2.time],dims=['time'],\n",
    "                                           attrs={'long_name':'latent heat flux into ocean','units':'W/m^2'})\n",
    "    ds['cool_skin_v3']=xr.DataArray(res['dter'][0,:].data,coords=[ds2.time],dims=['time'],\n",
    "                                           attrs={'long_name':'cool-skin temperature depression','units':'degC'})\n",
    "    ds['skin_thickness_v3']=xr.DataArray(res['tkt'][0,:].data,coords=[ds2.time],dims=['time'],\n",
    "                                           attrs={'long_name':'cool-skin thickness','units':'m'})\n",
    "    ds.to_netcdf(data_dir_out+fnames_out[i])"
   ]
  },
  {
   "cell_type": "code",
   "execution_count": null,
   "metadata": {},
   "outputs": [],
   "source": [
    "fnames=['saildrone-gen_5-arctic_misst_2019-sd1036-20190514T230000-20191011T183000-1_minutes-v1.1575336154680-withSBE_fluxes.nc',\n",
    "       'saildrone-gen_5-arctic_misst_2019-sd1037-20190514T230000-20191011T183000-1_minutes-v1.1575487464625-withSBE_fluxes.nc']\n",
    "ds = xr.open_dataset(data_dir_out+fnames[0])\n",
    "ds"
   ]
  },
  {
   "cell_type": "code",
   "execution_count": null,
   "metadata": {},
   "outputs": [],
   "source": [
    "(ds.sensible_heat_flux_v3-ds.sensible_heat_flux_v4).plot()"
   ]
  },
  {
   "cell_type": "code",
   "execution_count": null,
   "metadata": {},
   "outputs": [],
   "source": [
    "ds.density_MEAN.plot()"
   ]
  },
  {
   "cell_type": "code",
   "execution_count": null,
   "metadata": {},
   "outputs": [],
   "source": []
  }
 ],
 "metadata": {
  "kernelspec": {
   "display_name": "Python 3",
   "language": "python",
   "name": "python3"
  },
  "language_info": {
   "codemirror_mode": {
    "name": "ipython",
    "version": 3
   },
   "file_extension": ".py",
   "mimetype": "text/x-python",
   "name": "python",
   "nbconvert_exporter": "python",
   "pygments_lexer": "ipython3",
   "version": "3.7.6"
  }
 },
 "nbformat": 4,
 "nbformat_minor": 2
}
