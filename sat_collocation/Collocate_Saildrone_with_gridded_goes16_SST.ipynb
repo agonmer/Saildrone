{
 "cells": [
  {
   "cell_type": "markdown",
   "metadata": {},
   "source": [
    "This is the Saildrone and GOES 16 SST collocation code. \n",
    "It is made to run either on your local computer or on pythonanywhere cloud service.\n",
    "It uses opendap calls to get the data, so it is easier to run on pythonanywhere.\n",
    "The only input file it uses is the single netcdf file of all the Saildrone data."
   ]
  },
  {
   "cell_type": "code",
   "execution_count": null,
   "metadata": {},
   "outputs": [],
   "source": [
    "%matplotlib inline\n",
    "from matplotlib import style\n",
    "style.use('ggplot')\n",
    "import numpy as np\n",
    "import matplotlib.pyplot as plt\n",
    "import numpy.ma as ma\n",
    "from netCDF4 import Dataset, date2index, num2date\n",
    "from palettable import colorbrewer\n",
    "from datetime import datetime, timedelta\n",
    "from bs4 import BeautifulSoup\n",
    "import requests\n",
    "def listFD(url, ext=''):\n",
    "    page = requests.get(url).text\n",
    "    #print(page)\n",
    "    soup = BeautifulSoup(page, 'html.parser')\n",
    "    return [url + node.get('href') for node in soup.find_all('a') if (node.get('href').endswith(ext) and node.get('href').startswith('2'))]\n",
    "import datetime as dt\n",
    "from math import atan2\n",
    "import xarray as xr\n",
    "\n"
   ]
  },
  {
   "cell_type": "code",
   "execution_count": null,
   "metadata": {},
   "outputs": [],
   "source": [
    "#filename_goes_sst = 'F:/data/cruise_data/saildrone/baja-2018/goes_sst_collocation_data.npy'\n",
    "#filename_usv='F:/data/cruise_data/saildrone/baja-2018/saildrone-gen_4-baja_2018-EP-sd1002-ALL-1_min-v1.nc'\n",
    "filename_goes_sst = './goes_sst_collocation_data.npy'\n",
    "filename_usv='./saildrone-gen_4-baja_2018-EP-sd1002-ALL-1_min-v1.nc'\n"
   ]
  },
  {
   "cell_type": "code",
   "execution_count": null,
   "metadata": {},
   "outputs": [],
   "source": [
    "dataset = xr.open_dataset(filename_usv)\n",
    "ilen=(len(dataset.LAT['obs']))\n",
    "print(dataset.LAT[0,1].values*1)\n",
    "print(type(dataset))\n",
    "lats_usv=dataset.LAT[0,:].values\n",
    "lons_usv=dataset.LON[0,:].values\n",
    "date_1970 = dt.datetime(1970,1,1,0,0,0) # start date is1/1/1970\n",
    "skin=dataset.TEMP_IR_MEAN[0,:].values\n",
    "tair=dataset.TEMP_AIR_MEAN[0,:].values\n",
    "bulk1=dataset.TEMP_CTD_MEAN[0,:].values\n",
    "bulk2=dataset.TEMP_O2_MEAN[0,:].values\n",
    "uspd=dataset.UWND_MEAN[0,:].values\n",
    "vspd=dataset.VWND_MEAN[0,:].values\n",
    "wing=dataset.HDG_WING[0,:].values\n",
    "wing_ang=dataset.WING_ANGLE[0,:].values\n",
    "pitch=dataset.PITCH[0,:].values\n",
    "heading=dataset.HDG_WING[0,:].values\n",
    "yaw_heading=dataset.HDG[0,:].values\n",
    "roll=dataset.ROLL[0,:].values\n",
    "tdim=len(skin)\n",
    "tem_date=[0]*tdim #np.zeros(tdim)\n",
    "tem_dy_from=np.zeros(tdim)\n",
    "tem_lmt=np.zeros(tdim)\n",
    "wdir=np.zeros(tdim)\n",
    "print(dataset.TIME.shape)\n",
    "for i in range(0,tdim):\n",
    "    tem_dy=float(dataset.TIME[0,i].values)/86400000000000.\n",
    "    tem_dy_from[i]=float(dataset.TIME[0,i].values)/86400000000000.-float(dataset.TIME[0,0].values)/86400000000000.\n",
    "    tem_date[i]=date_1970+dt.timedelta(days=tem_dy)  #create new time array that can be queried for year etc\n",
    "    tem_lmt[i]=tem_date[i].hour+(dataset.LON[0,i].values/360.)*24.\n",
    "    if tem_lmt[i]>24:\n",
    "        tem_lmt[i]=tem_lmt[i]-24.\n",
    "    if tem_lmt[i]<0:\n",
    "        tem_lmt[i]=tem_lmt[i]+24.\n",
    "    wdir[i]=atan2(vspd[i],uspd[i])*180/3.14159\n",
    "    if i<5:\n",
    "        print(tem_date[i],wdir[i])\n",
    "        print(tem_dy_from[i])\n",
    "wspd=(uspd**2+vspd**2)**.5\n",
    "print('time:', tem_dy_from[1:5],tem_dy_from[-5:-1])\n",
    "tem_dyr=np.zeros(tdim)\n",
    "for i in range(0,tdim):\n",
    "    tem_dyr[i] = int(tem_date[i].timetuple().tm_yday)\n",
    "\n"
   ]
  },
  {
   "cell_type": "code",
   "execution_count": null,
   "metadata": {},
   "outputs": [],
   "source": [
    "print(tdim)"
   ]
  },
  {
   "cell_type": "code",
   "execution_count": null,
   "metadata": {},
   "outputs": [],
   "source": [
    "#get lat/lon from random file, it doesn't change\n",
    "file_goes='https://opendap.jpl.nasa.gov/opendap/OceanTemperature/ghrsst/data/GDS2/L3C/AMERICAS/GOES16/OSISAF/v1/2018/160/20180609070000-OSISAF-L3C_GHRSST-SSTsubskin-GOES16-ssteqc_goes16_20180609_070000-v02.0-fv01.0.nc'\n",
    "nc = Dataset(file_goes)\n",
    "lats_goes = nc.variables['lat'][:] \n",
    "lons_goes = nc.variables['lon'][:]\n",
    "nc.close()\n",
    "#initialize variables\n",
    "latli_sv=-99\n",
    "lonli_sv=-99\n",
    "ihr_sv=-99\n",
    "gsst=np.zeros(tdim)\n",
    "#get goes data collocated with usv positions and times\n",
    "for i in range(0,tdim):\n",
    "    latli = np.argmin( np.abs( lats_goes - lats_usv[i] ) )\n",
    "    lonli = np.argmin( np.abs( lons_goes - lons_usv[i] ) )\n",
    "    ihr = tem_date[i].hour\n",
    "    if (latli!=latli_sv) or (lonli_sv!=lonli) or (ihr_sv!=ihr):\n",
    "        syr=str(tem_date[i].year).zfill(4)\n",
    "        smon=str(tem_date[i].month).zfill(2)\n",
    "        sdym=str(tem_date[i].day).zfill(2)\n",
    "        shr=str(tem_date[i].hour).zfill(2)\n",
    "        sday_of_year=str(tem_date[i].timetuple().tm_yday).zfill(3)\n",
    "        if tem_date[i].hour==0:\n",
    "            d=tem_date[i]+ timedelta(days=-1) #increment day by -1 if 0 hr\n",
    "            sday_of_year=str(d.timetuple().tm_yday).zfill(3)\n",
    "        adir_goes='https://opendap.jpl.nasa.gov/opendap/OceanTemperature/ghrsst/data/GDS2/L3C/AMERICAS/GOES16/OSISAF/v1/'\n",
    "        fgoes='0000-OSISAF-L3C_GHRSST-SSTsubskin-GOES16-ssteqc_goes16_'\n",
    "        dstr=syr+smon+sdym+shr\n",
    "        dstr2=syr+smon+sdym+'_'+shr\n",
    "        file_goes=adir_goes+syr+'/'+sday_of_year+'/'+ dstr + fgoes +dstr2+'0000-v02.0-fv01.0.nc'\n",
    "        r = requests.get(file_goes)\n",
    "        if r.status_code != requests.codes.ok:\n",
    "            continue\n",
    "        nc = Dataset(file_goes)\n",
    "        gsst[i] = nc.variables['sea_surface_temperature'][ : , latli , lonli ] \n",
    "        nc.close()\n",
    "        latli_sv=latli\n",
    "        lonli_sv=lonli\n",
    "        ihr_sv=tem_date[i].hour\n",
    "        print(i,tdim,lonli, latli,ihr_sv)\n",
    "    \n",
    "\n"
   ]
  },
  {
   "cell_type": "code",
   "execution_count": null,
   "metadata": {},
   "outputs": [],
   "source": [
    "np.save(filename_goes_sst, gsst)"
   ]
  },
  {
   "cell_type": "code",
   "execution_count": null,
   "metadata": {},
   "outputs": [],
   "source": []
  },
  {
   "cell_type": "code",
   "execution_count": null,
   "metadata": {},
   "outputs": [],
   "source": []
  }
 ],
 "metadata": {
  "kernelspec": {
   "display_name": "Python 3",
   "language": "python",
   "name": "python3"
  },
  "language_info": {
   "codemirror_mode": {
    "name": "ipython",
    "version": 3
   },
   "file_extension": ".py",
   "mimetype": "text/x-python",
   "name": "python",
   "nbconvert_exporter": "python",
   "pygments_lexer": "ipython3",
   "version": "3.5.5"
  }
 },
 "nbformat": 4,
 "nbformat_minor": 1
}
