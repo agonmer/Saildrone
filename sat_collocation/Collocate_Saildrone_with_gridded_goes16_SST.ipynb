{
 "cells": [
  {
   "cell_type": "markdown",
   "metadata": {},
   "source": [
    "This is the Saildrone and GOES 16 SST collocation code. \n",
    "It is made to run either on your local computer or on pythonanywhere cloud service.\n",
    "It uses opendap calls to get the data, so it is easier to run on pythonanywhere.\n",
    "The only input file it uses is the single netcdf file of all the Saildrone data."
   ]
  },
  {
   "cell_type": "code",
   "execution_count": 1,
   "metadata": {},
   "outputs": [],
   "source": [
    "%matplotlib inline\n",
    "from matplotlib import style\n",
    "style.use('ggplot')\n",
    "import numpy as np\n",
    "import matplotlib.pyplot as plt\n",
    "import numpy.ma as ma\n",
    "from netCDF4 import Dataset, date2index, num2date\n",
    "from palettable import colorbrewer\n",
    "from datetime import datetime, timedelta\n",
    "from bs4 import BeautifulSoup\n",
    "import requests\n",
    "def listFD(url, ext=''):\n",
    "    page = requests.get(url).text\n",
    "    #print(page)\n",
    "    soup = BeautifulSoup(page, 'html.parser')\n",
    "    return [url + node.get('href') for node in soup.find_all('a') if (node.get('href').endswith(ext) and node.get('href').startswith('2'))]\n",
    "import datetime as dt\n",
    "from math import atan2\n",
    "import xarray as xr\n",
    "\n"
   ]
  },
  {
   "cell_type": "code",
   "execution_count": 2,
   "metadata": {},
   "outputs": [],
   "source": [
    "#filename_goes_sst = 'F:/data/cruise_data/saildrone/baja-2018/goes_sst_collocation_data.npy'\n",
    "#filename_usv='F:/data/cruise_data/saildrone/baja-2018/saildrone-gen_4-baja_2018-EP-sd1002-ALL-1_min-v1.nc'\n",
    "filename_goes_sst = './goes_sst_collocation_data.nc'\n",
    "#filename_usv='./saildrone-gen_4-baja_2018-EP-sd1002-ALL-1_min-v1.nc'\n",
    "filename_usv='f:/data/cruise_data/saildrone/baja-2018/saildrone-gen_4-baja_2018-sd1002-20180411T180000-20180611T055959-1_minutes-v1_withloggers.nc'\n",
    "ds_usv = xr.open_dataset(filename_usv)\n"
   ]
  },
  {
   "cell_type": "code",
   "execution_count": 6,
   "metadata": {},
   "outputs": [
    {
     "data": {
      "text/plain": [
       "<xarray.DataArray 'dayofyear' ()>\n",
       "array(101, dtype=int64)\n",
       "Coordinates:\n",
       "    trajectory  float32 1002.0\n",
       "    time        datetime64[ns] ...\n",
       "    latitude    float64 ...\n",
       "    longitude   float64 ..."
      ]
     },
     "execution_count": 6,
     "metadata": {},
     "output_type": "execute_result"
    }
   ],
   "source": [
    "ds_usv.time[0,1].dt.dayofyear"
   ]
  },
  {
   "cell_type": "code",
   "execution_count": 30,
   "metadata": {},
   "outputs": [
    {
     "data": {
      "text/plain": [
       "<xarray.DataArray 'time' ()>\n",
       "array('2018-04-11T18:01:00.000000000', dtype='datetime64[ns]')\n",
       "Coordinates:\n",
       "    trajectory  float32 1002.0\n",
       "    time        datetime64[ns] ...\n",
       "    latitude    float64 ...\n",
       "    longitude   float64 ..."
      ]
     },
     "execution_count": 30,
     "metadata": {},
     "output_type": "execute_result"
    }
   ],
   "source": [
    "ds_usv.time[0,1].dt.dayofyear\n",
    "ds_usv.time[0,1]+ np.timedelta64(days=-1) "
   ]
  },
  {
   "cell_type": "code",
   "execution_count": 31,
   "metadata": {},
   "outputs": [],
   "source": [
    "ilen=(len(ds_usv.latitude['obs']))\n",
    "lats_usv=ds_usv.latitude[0,:].values\n",
    "lons_usv=ds_usv.longitude[0,:].values\n",
    "skin=ds_usv.TEMP_IR_UNCOR_MEAN[0,:].values\n",
    "tair=ds_usv.TEMP_AIR_MEAN[0,:].values\n",
    "bulk1=ds_usv.TEMP_CTD_MEAN[0,:].values\n",
    "bulk2=ds_usv.TEMP_O2_MEAN[0,:].values\n",
    "uspd=ds_usv.UWND_MEAN[0,:].values\n",
    "vspd=ds_usv.VWND_MEAN[0,:].values\n",
    "wing=ds_usv.HDG_WING[0,:].values\n",
    "wing_ang=ds_usv.WING_ANGLE[0,:].values\n",
    "pitch=ds_usv.PITCH[0,:].values\n",
    "heading=ds_usv.HDG_WING[0,:].values\n",
    "yaw_heading=ds_usv.HDG[0,:].values\n",
    "roll=ds_usv.ROLL[0,:].values\n",
    "tdim=len(skin)\n",
    "wdir=np.zeros(tdim)\n",
    "for i in range(0,tdim):\n",
    "    wdir[i]=atan2(vspd[i],uspd[i])*180/3.14159\n",
    "wspd=(uspd**2+vspd**2)**.5"
   ]
  },
  {
   "cell_type": "code",
   "execution_count": 64,
   "metadata": {},
   "outputs": [
    {
     "name": "stdout",
     "output_type": "stream",
     "text": [
      "0 86839 252 1956 18 nan\n",
      "1 86839 251 1956 18 nan\n"
     ]
    }
   ],
   "source": [
    "#get lat/lon from random file, it doesn't change\n",
    "file_goes='https://opendap.jpl.nasa.gov/opendap/OceanTemperature/ghrsst/data/GDS2/L3C/AMERICAS/GOES16/OSISAF/v1/2018/160/20180609070000-OSISAF-L3C_GHRSST-SSTsubskin-GOES16-ssteqc_goes16_20180609_070000-v02.0-fv01.0.nc'\n",
    "ds_sat = xr.open_dataset(file_goes)\n",
    "lats_goes=ds_sat.lat\n",
    "lons_goes=ds_sat.lon\n",
    "ds_sat.close()\n",
    "#initialize variables\n",
    "latli_sv=-99\n",
    "lonli_sv=-99\n",
    "ihr_sv=-99\n",
    "col_count=0  #initialize\n",
    "gsst=np.zeros(tdim)\n",
    "gsst_num=np.zeros(tdim)\n",
    "#get goes data collocated with usv positions and times\n",
    "for i in range(0,10): #tdim):\n",
    "    latli = np.argmin( np.abs( lats_goes - lats_usv[i] ) )\n",
    "    lonli = np.argmin( np.abs( lons_goes - lons_usv[i] ) )\n",
    "    ihr = ds_usv.time[0,i].dt.hour.data\n",
    "    if (latli!=latli_sv) or (lonli_sv!=lonli) or (ihr_sv!=ihr):  #need to read in new data\n",
    "        syr=str(ds_usv.time[0,i].dt.year.data).zfill(4)\n",
    "        smon=str(ds_usv.time[0,i].dt.month.data).zfill(2)\n",
    "        sdym=str(ds_usv.time[0,i].dt.day.data).zfill(2)\n",
    "        shr=str(ds_usv.time[0,i].dt.hour.data).zfill(2)\n",
    "        sday_of_year=str(ds_usv.time[0,i].dt.dayofyear.data).zfill(3)\n",
    "        if ds_usv.time[0,i].dt.hour.data==0:\n",
    "            tem_time=ds_usv.time[0,i]+ np.timedelta64(days=-1) #increment day by -1 if 0 hr\n",
    "            sday_of_year=str(tem_time.dt.dayofyear.data).zfill(3)\n",
    "        adir_goes='https://opendap.jpl.nasa.gov/opendap/OceanTemperature/ghrsst/data/GDS2/L3C/AMERICAS/GOES16/OSISAF/v1/'\n",
    "        fgoes='0000-OSISAF-L3C_GHRSST-SSTsubskin-GOES16-ssteqc_goes16_'\n",
    "        dstr=syr+smon+sdym+shr\n",
    "        dstr2=syr+smon+sdym+'_'+shr\n",
    "        file_goes=adir_goes+syr+'/'+sday_of_year+'/'+ dstr + fgoes +dstr2+'0000-v02.0-fv01.0.nc'\n",
    "        r = requests.get(file_goes)\n",
    "        if r.status_code != requests.codes.ok:\n",
    "            continue    \n",
    "        col_count += 1\n",
    "        nc = Dataset(file_goes)\n",
    "        sat_sst = nc.variables['sea_surface_temperature'][ : , latli , lonli ] \n",
    "        if sat_sst.mask:\n",
    "            sat_sst=np.nan\n",
    "        gsst[i] = sat_sst\n",
    "        gsst_num[i] = col_count  #this is to keep track of when a new file read in or new collocation point\n",
    "        nc.close()\n",
    "        latli_sv=latli\n",
    "        lonli_sv=lonli\n",
    "        ihr_sv=ds_usv.time[0,i].dt.hour.data\n",
    "        print(i,tdim,lonli.data, latli.data,ihr_sv,gsst[i])\n",
    "    else:  #collocation is to same gsst point\n",
    "        gsst[i] = sat_sst \n",
    "        gsst_num[i] = col_count  #this is to keep track of when a new file read in or new collocation point\n"
   ]
  },
  {
   "cell_type": "code",
   "execution_count": 111,
   "metadata": {},
   "outputs": [
    {
     "data": {
      "text/plain": [
       "<xarray.DataArray (trajectory: 1, obs: 86839)>\n",
       "array([[nan, nan, nan, ...,  0.,  0.,  0.]])\n",
       "Coordinates:\n",
       "  * trajectory  (trajectory) float32 1002.0\n",
       "  * obs         (obs) int64 0 1 2 3 4 5 ... 86833 86834 86835 86836 86837 86838"
      ]
     },
     "execution_count": 111,
     "metadata": {},
     "output_type": "execute_result"
    }
   ],
   "source": [
    "#put into xarray dataset similiar in format to usv data\n",
    "gsst2=np.zeros((1,tdim))\n",
    "gsst_tem=np.zeros((1,tdim))\n",
    "gsst2[0,:]=gsst\n",
    "data_goes = xr.DataArray(gsst2, coords={'trajectory': ds_usv.trajectory,'obs': ds_usv.obs}, dims=('trajectory', 'obs'))\n",
    "gsst_tem[0,:]=gsst_num\n",
    "num_goes = xr.DataArray(gsst_tem, coords={'trajectory': ds_usv.trajectory,'obs': ds_usv.obs}, dims=('trajectory', 'obs'))\n",
    "xr_gsst = xr.Dataset({'goes_sst': data_goes, 'collocation_index': num_goes}, \n",
    "                     coords={'trajectory':ds_usv.trajectory, 'time':ds_usv.time, 'latitude':ds_usv.latitude, 'longitude':ds_usv.longitude})   \n"
   ]
  },
  {
   "cell_type": "code",
   "execution_count": 112,
   "metadata": {},
   "outputs": [
    {
     "data": {
      "text/plain": [
       "<xarray.Dataset>\n",
       "Dimensions:            (obs: 86839, trajectory: 1)\n",
       "Coordinates:\n",
       "  * obs                (obs) int64 0 1 2 3 4 5 ... 86834 86835 86836 86837 86838\n",
       "  * trajectory         (trajectory) float32 1002.0\n",
       "    latitude           (trajectory, obs) float64 37.81 37.81 ... 37.78 37.78\n",
       "    longitude          (trajectory, obs) float64 -122.4 -122.4 ... -122.3 -122.3\n",
       "    time               (trajectory, obs) datetime64[ns] 2018-04-11T18:00:00 ... 2018-06-11T05:57:00\n",
       "Data variables:\n",
       "    goes_sst           (trajectory, obs) float64 nan nan nan nan ... 0.0 0.0 0.0\n",
       "    collocation_index  (trajectory, obs) float64 1.0 2.0 2.0 2.0 ... 0.0 0.0 0.0"
      ]
     },
     "execution_count": 112,
     "metadata": {},
     "output_type": "execute_result"
    }
   ],
   "source": [
    "xr_gsst\n",
    "\n"
   ]
  },
  {
   "cell_type": "code",
   "execution_count": null,
   "metadata": {},
   "outputs": [],
   "source": [
    "#np.save(filename_goes_sst, gsst)"
   ]
  },
  {
   "cell_type": "code",
   "execution_count": null,
   "metadata": {},
   "outputs": [],
   "source": []
  },
  {
   "cell_type": "code",
   "execution_count": null,
   "metadata": {},
   "outputs": [],
   "source": []
  }
 ],
 "metadata": {
  "kernelspec": {
   "display_name": "Python 3",
   "language": "python",
   "name": "python3"
  },
  "language_info": {
   "codemirror_mode": {
    "name": "ipython",
    "version": 3
   },
   "file_extension": ".py",
   "mimetype": "text/x-python",
   "name": "python",
   "nbconvert_exporter": "python",
   "pygments_lexer": "ipython3",
   "version": "3.7.0"
  }
 },
 "nbformat": 4,
 "nbformat_minor": 1
}
