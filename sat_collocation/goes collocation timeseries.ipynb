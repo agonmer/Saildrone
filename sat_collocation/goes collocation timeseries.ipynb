{
 "cells": [
  {
   "cell_type": "code",
   "execution_count": 2,
   "metadata": {},
   "outputs": [],
   "source": [
    "%matplotlib inline\n",
    "import numpy as np\n",
    "import matplotlib.pyplot as plt\n",
    "from datetime import datetime, timedelta\n",
    "import datetime as dt\n",
    "import xarray as xr\n"
   ]
  },
  {
   "cell_type": "code",
   "execution_count": 58,
   "metadata": {},
   "outputs": [],
   "source": [
    "#filename_goes_sst = 'F:/data/cruise_data/saildrone/baja-2018/other_format_shared_data/goes_sst_collocation_data.npy'\n",
    "#gsst = np.load(filename_goes_sst)    \n",
    "filename_goes_sst = 'F:/data/cruise_data/saildrone/baja-2018/other_format_shared_data/goes_sst_collocation_data.nc'\n",
    "ds_goes = xr.open_dataset(filename_goes_sst)\n",
    "ds_goes = ds_goes.isel(trajectory=0)\n",
    "gsst=ds_goes.goes_sst\n",
    "filename_loggers_out_nc='f:/data/cruise_data/saildrone/baja-2018/saildrone-gen_4-baja_2018-sd1002-20180411T180000-20180611T055959-1_minutes-v1_withloggers.nc'\n",
    "ds=xr.open_dataset(filename_loggers_out_nc)\n",
    "ds = ds.isel(trajectory=0)\n",
    "ds_goes = ds_goes.set_index(obs=['time'])\n",
    "ds = ds.set_index(obs=['time'])\n"
   ]
  },
  {
   "cell_type": "code",
   "execution_count": 59,
   "metadata": {},
   "outputs": [],
   "source": [
    "ds['wspd'] = (ds.UWND_MEAN**2+ds.VWND_MEAN**2)**.5"
   ]
  },
  {
   "cell_type": "code",
   "execution_count": 5,
   "metadata": {},
   "outputs": [],
   "source": [
    "#skin=ds.TEMP_IR_UNCOR_MEAN[0,:].values\n",
    "#tair=ds.TEMP_AIR_MEAN[0,:].values\n",
    "#bulk1=ds.TEMP_CTD_MEAN[0,:].values\n",
    "#bulk2=ds.TEMP_O2_MEAN[0,:].values\n",
    "##uspd=ds.UWND_MEAN[0,:].values\n",
    "#vspd=ds.VWND_MEAN[0,:].values\n",
    "#wspd=(uspd**2+vspd**2)**.5\n",
    "#tdim=len(wspd)\n",
    "#tem_date=[0]*tdim\n",
    "#day_of_year=[0]*tdim\n",
    "#tem_dy_from=[0]*tdim\n",
    "#print(ds.time.shape)\n",
    "#for i in range(0,tdim):\n",
    "#    tem_dy_from[i]=float(ds.time[0,i].values)/86400000000000.-float(ds.time[0,0].values)/86400000000000.\n",
    "#    tem2=(ds.time[0,i].values-np.datetime64('1970-01-01'))/np.timedelta64(1,'s')\n",
    "#    tem3=datetime.utcfromtimestamp(tem2)\n",
    "#    day_of_year[i] = tem3.timetuple().tm_yday\n",
    "#    tem_date[i] = tem3\n",
    "print(len(tem_dy_from))\n",
    "print(len(skin-bulk1),tdim)\n",
    "print(len(gsst))\n",
    "mindy=min(tem_date)\n",
    "maxdy=max(tem_date)\n",
    "print(maxdy-mindy)\n",
    "intdy=(maxdy-mindy)/12.\n"
   ]
  },
  {
   "cell_type": "code",
   "execution_count": null,
   "metadata": {},
   "outputs": [],
   "source": []
  },
  {
   "cell_type": "code",
   "execution_count": 99,
   "metadata": {},
   "outputs": [
    {
     "name": "stdout",
     "output_type": "stream",
     "text": [
      "C:/Users/gentemann/Google Drive/f_drive/docs/papers/in_prep/2019_saildrone/figs/skinbulk_goes_TS0_10day.png\n",
      "C:/Users/gentemann/Google Drive/f_drive/docs/papers/in_prep/2019_saildrone/figs/skinbulk_goes_TS1_10day.png\n",
      "C:/Users/gentemann/Google Drive/f_drive/docs/papers/in_prep/2019_saildrone/figs/skinbulk_goes_TS2_10day.png\n",
      "C:/Users/gentemann/Google Drive/f_drive/docs/papers/in_prep/2019_saildrone/figs/skinbulk_goes_TS3_10day.png\n",
      "C:/Users/gentemann/Google Drive/f_drive/docs/papers/in_prep/2019_saildrone/figs/skinbulk_goes_TS4_10day.png\n"
     ]
    },
    {
     "data": {
      "text/plain": [
       "<Figure size 842.4x597.6 with 0 Axes>"
      ]
     },
     "metadata": {},
     "output_type": "display_data"
    }
   ],
   "source": [
    "base = dt.datetime(2018, 4, 11)\n",
    "arr = np.array([base + dt.timedelta(days=i*10) for i in range(6)])\n",
    "#print(arr)\n",
    "adir_goes='F:/data/cruise_data/saildrone/baja-2018/figs/goes_collocations/' \n",
    "adir_goes = 'C:/Users/gentemann/Google Drive/f_drive/docs/papers/in_prep/2019_saildrone/figs/'\n",
    "fig = plt.figure(figsize=(11.7,8.3))\n",
    "ax = plt.subplot(111)\n",
    "for i in range (0,len(arr)-1):\n",
    "    subset = ds.sel(obs=slice(arr[i],arr[i+1]))\n",
    "    subset_goes = ds_goes.sel(obs=slice(arr[i],arr[i+1]))\n",
    "    plt.scatter(subset.obs.values,subset.TEMP_IR_UNCOR_MEAN-subset.TEMP_CTD_MEAN, s=2, label='Skin - CTD bulk')\n",
    "    plt.scatter(subset.obs.values,subset.TEMP_IR_UNCOR_MEAN-subset.sea_water_temperature_logger1_mean, s=1, label='Skin - Logger 1 bulk')\n",
    "    plt.scatter(subset_goes.obs.values,subset_goes.goes_sst-273.15-subset.TEMP_CTD_MEAN,s=2, label='GOES - CTD bulk')\n",
    "    plt.axis([arr[i],arr[i+1], -2,2])\n",
    "    plt.xlabel('Date')\n",
    "    plt.ylabel('$\\Delta$SST (K)')\n",
    "    plt.legend()\n",
    "    fig_fname=adir_goes+'skinbulk_goes_TS' + str(i) +'_10day.png'\n",
    "    print(fig_fname)\n",
    "    plt.savefig(fig_fname, transparent=False, format='png')\n",
    "    plt.clf()\n",
    "\n"
   ]
  },
  {
   "cell_type": "code",
   "execution_count": 100,
   "metadata": {},
   "outputs": [
    {
     "data": {
      "text/plain": [
       "<xarray.Dataset>\n",
       "Dimensions:            (obs: 14401)\n",
       "Coordinates:\n",
       "  * obs                (obs) datetime64[ns] 2018-05-21 ... 2018-05-31\n",
       "    trajectory         float32 1002.0\n",
       "    latitude           (obs) float64 ...\n",
       "    longitude          (obs) float64 ...\n",
       "Data variables:\n",
       "    goes_sst           (obs) float64 0.0 0.0 0.0 0.0 0.0 ... nan nan nan nan 0.0\n",
       "    collocation_index  (obs) float64 ..."
      ]
     },
     "execution_count": 100,
     "metadata": {},
     "output_type": "execute_result"
    }
   ],
   "source": [
    "subset_goes"
   ]
  },
  {
   "cell_type": "code",
   "execution_count": null,
   "metadata": {},
   "outputs": [],
   "source": []
  },
  {
   "cell_type": "code",
   "execution_count": null,
   "metadata": {},
   "outputs": [],
   "source": [
    "\n"
   ]
  }
 ],
 "metadata": {
  "kernelspec": {
   "display_name": "Python 3",
   "language": "python",
   "name": "python3"
  },
  "language_info": {
   "codemirror_mode": {
    "name": "ipython",
    "version": 3
   },
   "file_extension": ".py",
   "mimetype": "text/x-python",
   "name": "python",
   "nbconvert_exporter": "python",
   "pygments_lexer": "ipython3",
   "version": "3.7.2"
  }
 },
 "nbformat": 4,
 "nbformat_minor": 2
}
