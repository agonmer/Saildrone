{
 "cells": [
  {
   "cell_type": "code",
   "execution_count": 1,
   "metadata": {},
   "outputs": [],
   "source": [
    "%matplotlib inline\n",
    "import numpy as np\n",
    "import matplotlib.pyplot as plt\n",
    "from datetime import datetime, timedelta\n",
    "import datetime as dt\n",
    "import xarray as xr\n"
   ]
  },
  {
   "cell_type": "code",
   "execution_count": 3,
   "metadata": {},
   "outputs": [],
   "source": [
    "filename_goes_sst = 'F:/data/cruise_data/saildrone/baja-2018/other_format_shared_data/goes_sst_collocation_data.npy'\n",
    "gsst = np.load(filename_goes_sst)    \n",
    "filename_loggers_out_nc='f:/data/cruise_data/saildrone/baja-2018/saildrone-gen_4-baja_2018-sd1002-20180411T180000-20180611T055959-1_minutes-v1_withloggers.nc'\n",
    "ds=xr.open_dataset(filename_loggers_out_nc)\n"
   ]
  },
  {
   "cell_type": "code",
   "execution_count": null,
   "metadata": {},
   "outputs": [],
   "source": []
  },
  {
   "cell_type": "code",
   "execution_count": 4,
   "metadata": {},
   "outputs": [
    {
     "name": "stdout",
     "output_type": "stream",
     "text": [
      "(1, 86839)\n"
     ]
    }
   ],
   "source": [
    "skin=ds.TEMP_IR_UNCOR_MEAN[0,:].values\n",
    "tair=ds.TEMP_AIR_MEAN[0,:].values\n",
    "bulk1=ds.TEMP_CTD_MEAN[0,:].values\n",
    "bulk2=ds.TEMP_O2_MEAN[0,:].values\n",
    "uspd=ds.UWND_MEAN[0,:].values\n",
    "vspd=ds.VWND_MEAN[0,:].values\n",
    "wspd=(uspd**2+vspd**2)**.5\n",
    "tdim=len(wspd)\n",
    "tem_date=[0]*tdim\n",
    "day_of_year=[0]*tdim\n",
    "tem_dy_from=[0]*tdim\n",
    "print(ds.time.shape)\n",
    "for i in range(0,tdim):\n",
    "    tem_dy_from[i]=float(ds.time[0,i].values)/86400000000000.-float(ds.time[0,0].values)/86400000000000.\n",
    "    tem2=(ds.time[0,i].values-np.datetime64('1970-01-01'))/np.timedelta64(1,'s')\n",
    "    tem3=datetime.utcfromtimestamp(tem2)\n",
    "    day_of_year[i] = tem3.timetuple().tm_yday\n",
    "    tem_date[i] = tem3\n"
   ]
  },
  {
   "cell_type": "code",
   "execution_count": 5,
   "metadata": {},
   "outputs": [
    {
     "name": "stdout",
     "output_type": "stream",
     "text": [
      "86839\n",
      "86839 86839\n",
      "85592\n",
      "60 days, 11:57:00\n"
     ]
    },
    {
     "ename": "ValueError",
     "evalue": "operands could not be broadcast together with shapes (85592,) (86839,) ",
     "output_type": "error",
     "traceback": [
      "\u001b[1;31m---------------------------------------------------------------------------\u001b[0m",
      "\u001b[1;31mValueError\u001b[0m                                Traceback (most recent call last)",
      "\u001b[1;32m<ipython-input-5-da885aa4efab>\u001b[0m in \u001b[0;36m<module>\u001b[1;34m\u001b[0m\n\u001b[0;32m     24\u001b[0m \u001b[1;32mfor\u001b[0m \u001b[0mi\u001b[0m \u001b[1;32min\u001b[0m \u001b[0mrange\u001b[0m\u001b[1;33m(\u001b[0m\u001b[1;36m0\u001b[0m\u001b[1;33m,\u001b[0m\u001b[1;36m12\u001b[0m\u001b[1;33m)\u001b[0m\u001b[1;33m:\u001b[0m\u001b[1;33m\u001b[0m\u001b[0m\n\u001b[0;32m     25\u001b[0m     \u001b[0mplt\u001b[0m\u001b[1;33m.\u001b[0m\u001b[0mscatter\u001b[0m\u001b[1;33m(\u001b[0m\u001b[0mtem_date\u001b[0m\u001b[1;33m,\u001b[0m\u001b[0mskin\u001b[0m\u001b[1;33m-\u001b[0m\u001b[0mbulk1\u001b[0m\u001b[1;33m,\u001b[0m\u001b[0mc\u001b[0m\u001b[1;33m=\u001b[0m\u001b[1;34m'b'\u001b[0m\u001b[1;33m,\u001b[0m \u001b[0mlabel\u001b[0m\u001b[1;33m=\u001b[0m\u001b[1;34m'Skin - Bulk'\u001b[0m\u001b[1;33m)\u001b[0m\u001b[1;33m\u001b[0m\u001b[0m\n\u001b[1;32m---> 26\u001b[1;33m     \u001b[0mplt\u001b[0m\u001b[1;33m.\u001b[0m\u001b[0mscatter\u001b[0m\u001b[1;33m(\u001b[0m\u001b[0mtem_date\u001b[0m\u001b[1;33m,\u001b[0m\u001b[0mgsst\u001b[0m\u001b[1;33m-\u001b[0m\u001b[1;36m273.15\u001b[0m\u001b[1;33m-\u001b[0m\u001b[0mbulk1\u001b[0m\u001b[1;33m,\u001b[0m\u001b[0mc\u001b[0m\u001b[1;33m=\u001b[0m\u001b[1;34m'r'\u001b[0m\u001b[1;33m,\u001b[0m \u001b[0mlabel\u001b[0m\u001b[1;33m=\u001b[0m\u001b[1;34m'GOES - Bulk'\u001b[0m\u001b[1;33m)\u001b[0m\u001b[1;33m\u001b[0m\u001b[0m\n\u001b[0m\u001b[0;32m     27\u001b[0m     \u001b[0mplt\u001b[0m\u001b[1;33m.\u001b[0m\u001b[0mxlabel\u001b[0m\u001b[1;33m(\u001b[0m\u001b[1;34m'Date'\u001b[0m\u001b[1;33m)\u001b[0m\u001b[1;33m\u001b[0m\u001b[0m\n\u001b[0;32m     28\u001b[0m     \u001b[0mplt\u001b[0m\u001b[1;33m.\u001b[0m\u001b[0mylabel\u001b[0m\u001b[1;33m(\u001b[0m\u001b[1;34m'GOES SST - T$_{ctd}$'\u001b[0m\u001b[1;33m)\u001b[0m\u001b[1;33m\u001b[0m\u001b[0m\n",
      "\u001b[1;31mValueError\u001b[0m: operands could not be broadcast together with shapes (85592,) (86839,) "
     ]
    },
    {
     "data": {
      "image/png": "[encoded data removed]",
      "text/plain": [
       "<Figure size 842.4x597.6 with 1 Axes>"
      ]
     },
     "metadata": {
      "needs_background": "light"
     },
     "output_type": "display_data"
    }
   ],
   "source": [
    "\n",
    "adir_goes='F:/data/cruise_data/saildrone/baja-2018/figs/goes_collocations/'    \n",
    "#adir_goes='./figs/goes_collocations/'    \n",
    "\n",
    "print(len(tem_dy_from))\n",
    "print(len(skin-bulk1),tdim)\n",
    "print(len(gsst))\n",
    "mindy=min(tem_date)\n",
    "maxdy=max(tem_date)\n",
    "print(maxdy-mindy)\n",
    "intdy=(maxdy-mindy)/12.\n",
    "fig = plt.figure(figsize=(11.7,8.3))\n",
    "ax = plt.subplot(111)\n",
    "#fig, ax1 = plt.subplots() #figure(2,figsize=(11.7,8.3))\n",
    "#fig, ax1 = plt.subplots() \n",
    "#plt.show()\n",
    "for i in range(0,12):\n",
    "    plt.scatter(tem_date,skin-bulk1,c='b', label='Skin - Bulk')\n",
    "    plt.scatter(tem_date,gsst-273.15-bulk1,c='r', label='GOES - Bulk')\n",
    "    plt.xlabel('Date')\n",
    "    plt.ylabel('GOES SST - T$_{ctd}$')\n",
    "    plt.ylim(-3, 2)\n",
    "    plt.xlim(mindy+i*intdy,mindy+(i+1)*intdy)\n",
    "    #plt.show()\n",
    "    #plt.set_axis_bgcolor(\"white\")\n",
    "    #plt.legend('Skin - Bulk','GOES - Bulk')\n",
    "    plt.legend()\n",
    "    fig_fname=adir_goes+'skinbulk_goes_TS' + str(i) +'.png'\n",
    "    print(fig_fname)\n",
    "    #plt.savefig(fig_fname, transparent=False, format='png')\n",
    "    plt.clf()\n"
   ]
  },
  {
   "cell_type": "code",
   "execution_count": null,
   "metadata": {},
   "outputs": [],
   "source": []
  }
 ],
 "metadata": {
  "kernelspec": {
   "display_name": "Python 3",
   "language": "python",
   "name": "python3"
  },
  "language_info": {
   "codemirror_mode": {
    "name": "ipython",
    "version": 3
   },
   "file_extension": ".py",
   "mimetype": "text/x-python",
   "name": "python",
   "nbconvert_exporter": "python",
   "pygments_lexer": "ipython3",
   "version": "3.7.0"
  }
 },
 "nbformat": 4,
 "nbformat_minor": 2
}
