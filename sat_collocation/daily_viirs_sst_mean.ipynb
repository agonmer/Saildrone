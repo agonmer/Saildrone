{
 "cells": [
  {
   "cell_type": "code",
   "execution_count": 1,
   "metadata": {
    "collapsed": true
   },
   "outputs": [],
   "source": [
    "import os\n",
    "from os.path import exists\n",
    "####################you will need to change some paths here!#####################\n",
    "#output files\n",
    "filename_out_nc='F:/data/cruise_data/saildrone/baja-2018/daily_files/sd-1002/saildrone-gen_4-baja_2018-EP-sd1002-ALL-1_min-v1.nc'\n",
    "#F:/data/cruise_data/saildrone/baja-2018/data_so_far.kml'\n",
    "#################################################################################\n",
    "import xarray as xr\n",
    "from datetime import datetime, timedelta\n",
    "from bs4 import BeautifulSoup\n",
    "import requests\n",
    "def listFD(url, ext=''):\n",
    "    page = requests.get(url).text\n",
    "    #print(page)\n",
    "    soup = BeautifulSoup(page, 'html.parser')\n",
    "    return [url + node.get('href') for node in soup.find_all('a') if (node.get('href').endswith(ext) and node.get('href').startswith('2'))]\n"
   ]
  },
  {
   "cell_type": "code",
   "execution_count": 9,
   "metadata": {
    "collapsed": false
   },
   "outputs": [
    {
     "name": "stdout",
     "output_type": "stream",
     "text": [
      "https://opendap.jpl.nasa.gov/opendap/OceanTemperature/ghrsst/data/GDS2/L3U/VIIRS_NPP/OSPO/v2.41/2018/118/20180428000000-OSPO-L3U_GHRSST-SSTsubskin-VIIRS_NPP-ACSPO_V2.41-v02.0-fv01.0.nc\n",
      "https://opendap.jpl.nasa.gov/opendap/OceanTemperature/ghrsst/data/GDS2/L3U/VIIRS_NPP/OSPO/v2.41/2018/118/20180428001000-OSPO-L3U_GHRSST-SSTsubskin-VIIRS_NPP-ACSPO_V2.41-v02.0-fv01.0.nc\n",
      "https://opendap.jpl.nasa.gov/opendap/OceanTemperature/ghrsst/data/GDS2/L3U/VIIRS_NPP/OSPO/v2.41/2018/118/20180428002000-OSPO-L3U_GHRSST-SSTsubskin-VIIRS_NPP-ACSPO_V2.41-v02.0-fv01.0.nc\n",
      "https://opendap.jpl.nasa.gov/opendap/OceanTemperature/ghrsst/data/GDS2/L3U/VIIRS_NPP/OSPO/v2.41/2018/118/20180428003000-OSPO-L3U_GHRSST-SSTsubskin-VIIRS_NPP-ACSPO_V2.41-v02.0-fv01.0.nc\n",
      "https://opendap.jpl.nasa.gov/opendap/OceanTemperature/ghrsst/data/GDS2/L3U/VIIRS_NPP/OSPO/v2.41/2018/118/20180428004000-OSPO-L3U_GHRSST-SSTsubskin-VIIRS_NPP-ACSPO_V2.41-v02.0-fv01.0.nc\n",
      "https://opendap.jpl.nasa.gov/opendap/OceanTemperature/ghrsst/data/GDS2/L3U/VIIRS_NPP/OSPO/v2.41/2018/118/20180428005000-OSPO-L3U_GHRSST-SSTsubskin-VIIRS_NPP-ACSPO_V2.41-v02.0-fv01.0.nc\n",
      "https://opendap.jpl.nasa.gov/opendap/OceanTemperature/ghrsst/data/GDS2/L3U/VIIRS_NPP/OSPO/v2.41/2018/118/20180428010000-OSPO-L3U_GHRSST-SSTsubskin-VIIRS_NPP-ACSPO_V2.41-v02.0-fv01.0.nc\n",
      "https://opendap.jpl.nasa.gov/opendap/OceanTemperature/ghrsst/data/GDS2/L3U/VIIRS_NPP/OSPO/v2.41/2018/118/20180428011000-OSPO-L3U_GHRSST-SSTsubskin-VIIRS_NPP-ACSPO_V2.41-v02.0-fv01.0.nc\n",
      "https://opendap.jpl.nasa.gov/opendap/OceanTemperature/ghrsst/data/GDS2/L3U/VIIRS_NPP/OSPO/v2.41/2018/118/20180428012000-OSPO-L3U_GHRSST-SSTsubskin-VIIRS_NPP-ACSPO_V2.41-v02.0-fv01.0.nc\n",
      "https://opendap.jpl.nasa.gov/opendap/OceanTemperature/ghrsst/data/GDS2/L3U/VIIRS_NPP/OSPO/v2.41/2018/118/20180428014000-OSPO-L3U_GHRSST-SSTsubskin-VIIRS_NPP-ACSPO_V2.41-v02.0-fv01.0.nc\n",
      "https://opendap.jpl.nasa.gov/opendap/OceanTemperature/ghrsst/data/GDS2/L3U/VIIRS_NPP/OSPO/v2.41/2018/118/20180428015000-OSPO-L3U_GHRSST-SSTsubskin-VIIRS_NPP-ACSPO_V2.41-v02.0-fv01.0.nc\n",
      "https://opendap.jpl.nasa.gov/opendap/OceanTemperature/ghrsst/data/GDS2/L3U/VIIRS_NPP/OSPO/v2.41/2018/118/20180428020000-OSPO-L3U_GHRSST-SSTsubskin-VIIRS_NPP-ACSPO_V2.41-v02.0-fv01.0.nc\n",
      "https://opendap.jpl.nasa.gov/opendap/OceanTemperature/ghrsst/data/GDS2/L3U/VIIRS_NPP/OSPO/v2.41/2018/118/20180428021000-OSPO-L3U_GHRSST-SSTsubskin-VIIRS_NPP-ACSPO_V2.41-v02.0-fv01.0.nc\n",
      "https://opendap.jpl.nasa.gov/opendap/OceanTemperature/ghrsst/data/GDS2/L3U/VIIRS_NPP/OSPO/v2.41/2018/118/20180428023000-OSPO-L3U_GHRSST-SSTsubskin-VIIRS_NPP-ACSPO_V2.41-v02.0-fv01.0.nc\n",
      "https://opendap.jpl.nasa.gov/opendap/OceanTemperature/ghrsst/data/GDS2/L3U/VIIRS_NPP/OSPO/v2.41/2018/118/20180428024000-OSPO-L3U_GHRSST-SSTsubskin-VIIRS_NPP-ACSPO_V2.41-v02.0-fv01.0.nc\n",
      "https://opendap.jpl.nasa.gov/opendap/OceanTemperature/ghrsst/data/GDS2/L3U/VIIRS_NPP/OSPO/v2.41/2018/118/20180428025000-OSPO-L3U_GHRSST-SSTsubskin-VIIRS_NPP-ACSPO_V2.41-v02.0-fv01.0.nc\n",
      "https://opendap.jpl.nasa.gov/opendap/OceanTemperature/ghrsst/data/GDS2/L3U/VIIRS_NPP/OSPO/v2.41/2018/118/20180428030000-OSPO-L3U_GHRSST-SSTsubskin-VIIRS_NPP-ACSPO_V2.41-v02.0-fv01.0.nc\n",
      "https://opendap.jpl.nasa.gov/opendap/OceanTemperature/ghrsst/data/GDS2/L3U/VIIRS_NPP/OSPO/v2.41/2018/118/20180428031000-OSPO-L3U_GHRSST-SSTsubskin-VIIRS_NPP-ACSPO_V2.41-v02.0-fv01.0.nc\n",
      "https://opendap.jpl.nasa.gov/opendap/OceanTemperature/ghrsst/data/GDS2/L3U/VIIRS_NPP/OSPO/v2.41/2018/118/20180428032000-OSPO-L3U_GHRSST-SSTsubskin-VIIRS_NPP-ACSPO_V2.41-v02.0-fv01.0.nc\n",
      "https://opendap.jpl.nasa.gov/opendap/OceanTemperature/ghrsst/data/GDS2/L3U/VIIRS_NPP/OSPO/v2.41/2018/118/20180428033000-OSPO-L3U_GHRSST-SSTsubskin-VIIRS_NPP-ACSPO_V2.41-v02.0-fv01.0.nc\n",
      "https://opendap.jpl.nasa.gov/opendap/OceanTemperature/ghrsst/data/GDS2/L3U/VIIRS_NPP/OSPO/v2.41/2018/118/20180428034000-OSPO-L3U_GHRSST-SSTsubskin-VIIRS_NPP-ACSPO_V2.41-v02.0-fv01.0.nc\n",
      "https://opendap.jpl.nasa.gov/opendap/OceanTemperature/ghrsst/data/GDS2/L3U/VIIRS_NPP/OSPO/v2.41/2018/118/20180428035000-OSPO-L3U_GHRSST-SSTsubskin-VIIRS_NPP-ACSPO_V2.41-v02.0-fv01.0.nc\n",
      "https://opendap.jpl.nasa.gov/opendap/OceanTemperature/ghrsst/data/GDS2/L3U/VIIRS_NPP/OSPO/v2.41/2018/118/20180428040000-OSPO-L3U_GHRSST-SSTsubskin-VIIRS_NPP-ACSPO_V2.41-v02.0-fv01.0.nc\n",
      "https://opendap.jpl.nasa.gov/opendap/OceanTemperature/ghrsst/data/GDS2/L3U/VIIRS_NPP/OSPO/v2.41/2018/118/20180428042000-OSPO-L3U_GHRSST-SSTsubskin-VIIRS_NPP-ACSPO_V2.41-v02.0-fv01.0.nc\n",
      "https://opendap.jpl.nasa.gov/opendap/OceanTemperature/ghrsst/data/GDS2/L3U/VIIRS_NPP/OSPO/v2.41/2018/118/20180428043000-OSPO-L3U_GHRSST-SSTsubskin-VIIRS_NPP-ACSPO_V2.41-v02.0-fv01.0.nc\n",
      "https://opendap.jpl.nasa.gov/opendap/OceanTemperature/ghrsst/data/GDS2/L3U/VIIRS_NPP/OSPO/v2.41/2018/118/20180428044000-OSPO-L3U_GHRSST-SSTsubskin-VIIRS_NPP-ACSPO_V2.41-v02.0-fv01.0.nc\n",
      "https://opendap.jpl.nasa.gov/opendap/OceanTemperature/ghrsst/data/GDS2/L3U/VIIRS_NPP/OSPO/v2.41/2018/118/20180428045000-OSPO-L3U_GHRSST-SSTsubskin-VIIRS_NPP-ACSPO_V2.41-v02.0-fv01.0.nc\n",
      "https://opendap.jpl.nasa.gov/opendap/OceanTemperature/ghrsst/data/GDS2/L3U/VIIRS_NPP/OSPO/v2.41/2018/118/20180428050000-OSPO-L3U_GHRSST-SSTsubskin-VIIRS_NPP-ACSPO_V2.41-v02.0-fv01.0.nc\n",
      "https://opendap.jpl.nasa.gov/opendap/OceanTemperature/ghrsst/data/GDS2/L3U/VIIRS_NPP/OSPO/v2.41/2018/118/20180428051000-OSPO-L3U_GHRSST-SSTsubskin-VIIRS_NPP-ACSPO_V2.41-v02.0-fv01.0.nc\n",
      "https://opendap.jpl.nasa.gov/opendap/OceanTemperature/ghrsst/data/GDS2/L3U/VIIRS_NPP/OSPO/v2.41/2018/118/20180428052000-OSPO-L3U_GHRSST-SSTsubskin-VIIRS_NPP-ACSPO_V2.41-v02.0-fv01.0.nc\n",
      "https://opendap.jpl.nasa.gov/opendap/OceanTemperature/ghrsst/data/GDS2/L3U/VIIRS_NPP/OSPO/v2.41/2018/118/20180428053000-OSPO-L3U_GHRSST-SSTsubskin-VIIRS_NPP-ACSPO_V2.41-v02.0-fv01.0.nc\n",
      "https://opendap.jpl.nasa.gov/opendap/OceanTemperature/ghrsst/data/GDS2/L3U/VIIRS_NPP/OSPO/v2.41/2018/118/20180428054000-OSPO-L3U_GHRSST-SSTsubskin-VIIRS_NPP-ACSPO_V2.41-v02.0-fv01.0.nc\n",
      "https://opendap.jpl.nasa.gov/opendap/OceanTemperature/ghrsst/data/GDS2/L3U/VIIRS_NPP/OSPO/v2.41/2018/118/20180428055000-OSPO-L3U_GHRSST-SSTsubskin-VIIRS_NPP-ACSPO_V2.41-v02.0-fv01.0.nc\n",
      "https://opendap.jpl.nasa.gov/opendap/OceanTemperature/ghrsst/data/GDS2/L3U/VIIRS_NPP/OSPO/v2.41/2018/118/20180428060000-OSPO-L3U_GHRSST-SSTsubskin-VIIRS_NPP-ACSPO_V2.41-v02.0-fv01.0.nc\n",
      "https://opendap.jpl.nasa.gov/opendap/OceanTemperature/ghrsst/data/GDS2/L3U/VIIRS_NPP/OSPO/v2.41/2018/118/20180428061000-OSPO-L3U_GHRSST-SSTsubskin-VIIRS_NPP-ACSPO_V2.41-v02.0-fv01.0.nc\n",
      "https://opendap.jpl.nasa.gov/opendap/OceanTemperature/ghrsst/data/GDS2/L3U/VIIRS_NPP/OSPO/v2.41/2018/118/20180428062000-OSPO-L3U_GHRSST-SSTsubskin-VIIRS_NPP-ACSPO_V2.41-v02.0-fv01.0.nc\n",
      "https://opendap.jpl.nasa.gov/opendap/OceanTemperature/ghrsst/data/GDS2/L3U/VIIRS_NPP/OSPO/v2.41/2018/118/20180428063000-OSPO-L3U_GHRSST-SSTsubskin-VIIRS_NPP-ACSPO_V2.41-v02.0-fv01.0.nc\n",
      "https://opendap.jpl.nasa.gov/opendap/OceanTemperature/ghrsst/data/GDS2/L3U/VIIRS_NPP/OSPO/v2.41/2018/118/20180428064000-OSPO-L3U_GHRSST-SSTsubskin-VIIRS_NPP-ACSPO_V2.41-v02.0-fv01.0.nc\n",
      "https://opendap.jpl.nasa.gov/opendap/OceanTemperature/ghrsst/data/GDS2/L3U/VIIRS_NPP/OSPO/v2.41/2018/118/20180428065000-OSPO-L3U_GHRSST-SSTsubskin-VIIRS_NPP-ACSPO_V2.41-v02.0-fv01.0.nc\n",
      "https://opendap.jpl.nasa.gov/opendap/OceanTemperature/ghrsst/data/GDS2/L3U/VIIRS_NPP/OSPO/v2.41/2018/118/20180428070000-OSPO-L3U_GHRSST-SSTsubskin-VIIRS_NPP-ACSPO_V2.41-v02.0-fv01.0.nc\n",
      "https://opendap.jpl.nasa.gov/opendap/OceanTemperature/ghrsst/data/GDS2/L3U/VIIRS_NPP/OSPO/v2.41/2018/118/20180428071000-OSPO-L3U_GHRSST-SSTsubskin-VIIRS_NPP-ACSPO_V2.41-v02.0-fv01.0.nc\n",
      "https://opendap.jpl.nasa.gov/opendap/OceanTemperature/ghrsst/data/GDS2/L3U/VIIRS_NPP/OSPO/v2.41/2018/118/20180428072000-OSPO-L3U_GHRSST-SSTsubskin-VIIRS_NPP-ACSPO_V2.41-v02.0-fv01.0.nc\n",
      "https://opendap.jpl.nasa.gov/opendap/OceanTemperature/ghrsst/data/GDS2/L3U/VIIRS_NPP/OSPO/v2.41/2018/118/20180428074000-OSPO-L3U_GHRSST-SSTsubskin-VIIRS_NPP-ACSPO_V2.41-v02.0-fv01.0.nc\n",
      "https://opendap.jpl.nasa.gov/opendap/OceanTemperature/ghrsst/data/GDS2/L3U/VIIRS_NPP/OSPO/v2.41/2018/118/20180428075000-OSPO-L3U_GHRSST-SSTsubskin-VIIRS_NPP-ACSPO_V2.41-v02.0-fv01.0.nc\n",
      "https://opendap.jpl.nasa.gov/opendap/OceanTemperature/ghrsst/data/GDS2/L3U/VIIRS_NPP/OSPO/v2.41/2018/118/20180428080000-OSPO-L3U_GHRSST-SSTsubskin-VIIRS_NPP-ACSPO_V2.41-v02.0-fv01.0.nc\n",
      "https://opendap.jpl.nasa.gov/opendap/OceanTemperature/ghrsst/data/GDS2/L3U/VIIRS_NPP/OSPO/v2.41/2018/118/20180428081000-OSPO-L3U_GHRSST-SSTsubskin-VIIRS_NPP-ACSPO_V2.41-v02.0-fv01.0.nc\n",
      "https://opendap.jpl.nasa.gov/opendap/OceanTemperature/ghrsst/data/GDS2/L3U/VIIRS_NPP/OSPO/v2.41/2018/118/20180428082000-OSPO-L3U_GHRSST-SSTsubskin-VIIRS_NPP-ACSPO_V2.41-v02.0-fv01.0.nc\n",
      "https://opendap.jpl.nasa.gov/opendap/OceanTemperature/ghrsst/data/GDS2/L3U/VIIRS_NPP/OSPO/v2.41/2018/118/20180428083000-OSPO-L3U_GHRSST-SSTsubskin-VIIRS_NPP-ACSPO_V2.41-v02.0-fv01.0.nc\n",
      "https://opendap.jpl.nasa.gov/opendap/OceanTemperature/ghrsst/data/GDS2/L3U/VIIRS_NPP/OSPO/v2.41/2018/118/20180428084000-OSPO-L3U_GHRSST-SSTsubskin-VIIRS_NPP-ACSPO_V2.41-v02.0-fv01.0.nc\n",
      "https://opendap.jpl.nasa.gov/opendap/OceanTemperature/ghrsst/data/GDS2/L3U/VIIRS_NPP/OSPO/v2.41/2018/118/20180428085000-OSPO-L3U_GHRSST-SSTsubskin-VIIRS_NPP-ACSPO_V2.41-v02.0-fv01.0.nc\n",
      "https://opendap.jpl.nasa.gov/opendap/OceanTemperature/ghrsst/data/GDS2/L3U/VIIRS_NPP/OSPO/v2.41/2018/118/20180428090000-OSPO-L3U_GHRSST-SSTsubskin-VIIRS_NPP-ACSPO_V2.41-v02.0-fv01.0.nc\n",
      "https://opendap.jpl.nasa.gov/opendap/OceanTemperature/ghrsst/data/GDS2/L3U/VIIRS_NPP/OSPO/v2.41/2018/118/20180428091000-OSPO-L3U_GHRSST-SSTsubskin-VIIRS_NPP-ACSPO_V2.41-v02.0-fv01.0.nc\n",
      "https://opendap.jpl.nasa.gov/opendap/OceanTemperature/ghrsst/data/GDS2/L3U/VIIRS_NPP/OSPO/v2.41/2018/118/20180428092000-OSPO-L3U_GHRSST-SSTsubskin-VIIRS_NPP-ACSPO_V2.41-v02.0-fv01.0.nc\n",
      "https://opendap.jpl.nasa.gov/opendap/OceanTemperature/ghrsst/data/GDS2/L3U/VIIRS_NPP/OSPO/v2.41/2018/118/20180428093000-OSPO-L3U_GHRSST-SSTsubskin-VIIRS_NPP-ACSPO_V2.41-v02.0-fv01.0.nc\n",
      "https://opendap.jpl.nasa.gov/opendap/OceanTemperature/ghrsst/data/GDS2/L3U/VIIRS_NPP/OSPO/v2.41/2018/118/20180428094000-OSPO-L3U_GHRSST-SSTsubskin-VIIRS_NPP-ACSPO_V2.41-v02.0-fv01.0.nc\n",
      "https://opendap.jpl.nasa.gov/opendap/OceanTemperature/ghrsst/data/GDS2/L3U/VIIRS_NPP/OSPO/v2.41/2018/118/20180428095000-OSPO-L3U_GHRSST-SSTsubskin-VIIRS_NPP-ACSPO_V2.41-v02.0-fv01.0.nc\n",
      "https://opendap.jpl.nasa.gov/opendap/OceanTemperature/ghrsst/data/GDS2/L3U/VIIRS_NPP/OSPO/v2.41/2018/118/20180428100000-OSPO-L3U_GHRSST-SSTsubskin-VIIRS_NPP-ACSPO_V2.41-v02.0-fv01.0.nc\n",
      "https://opendap.jpl.nasa.gov/opendap/OceanTemperature/ghrsst/data/GDS2/L3U/VIIRS_NPP/OSPO/v2.41/2018/118/20180428101000-OSPO-L3U_GHRSST-SSTsubskin-VIIRS_NPP-ACSPO_V2.41-v02.0-fv01.0.nc\n",
      "https://opendap.jpl.nasa.gov/opendap/OceanTemperature/ghrsst/data/GDS2/L3U/VIIRS_NPP/OSPO/v2.41/2018/118/20180428102000-OSPO-L3U_GHRSST-SSTsubskin-VIIRS_NPP-ACSPO_V2.41-v02.0-fv01.0.nc\n",
      "https://opendap.jpl.nasa.gov/opendap/OceanTemperature/ghrsst/data/GDS2/L3U/VIIRS_NPP/OSPO/v2.41/2018/118/20180428103000-OSPO-L3U_GHRSST-SSTsubskin-VIIRS_NPP-ACSPO_V2.41-v02.0-fv01.0.nc\n",
      "https://opendap.jpl.nasa.gov/opendap/OceanTemperature/ghrsst/data/GDS2/L3U/VIIRS_NPP/OSPO/v2.41/2018/118/20180428104000-OSPO-L3U_GHRSST-SSTsubskin-VIIRS_NPP-ACSPO_V2.41-v02.0-fv01.0.nc\n",
      "https://opendap.jpl.nasa.gov/opendap/OceanTemperature/ghrsst/data/GDS2/L3U/VIIRS_NPP/OSPO/v2.41/2018/118/20180428105000-OSPO-L3U_GHRSST-SSTsubskin-VIIRS_NPP-ACSPO_V2.41-v02.0-fv01.0.nc\n",
      "https://opendap.jpl.nasa.gov/opendap/OceanTemperature/ghrsst/data/GDS2/L3U/VIIRS_NPP/OSPO/v2.41/2018/118/20180428110000-OSPO-L3U_GHRSST-SSTsubskin-VIIRS_NPP-ACSPO_V2.41-v02.0-fv01.0.nc\n",
      "https://opendap.jpl.nasa.gov/opendap/OceanTemperature/ghrsst/data/GDS2/L3U/VIIRS_NPP/OSPO/v2.41/2018/118/20180428112000-OSPO-L3U_GHRSST-SSTsubskin-VIIRS_NPP-ACSPO_V2.41-v02.0-fv01.0.nc\n",
      "https://opendap.jpl.nasa.gov/opendap/OceanTemperature/ghrsst/data/GDS2/L3U/VIIRS_NPP/OSPO/v2.41/2018/118/20180428113000-OSPO-L3U_GHRSST-SSTsubskin-VIIRS_NPP-ACSPO_V2.41-v02.0-fv01.0.nc\n",
      "https://opendap.jpl.nasa.gov/opendap/OceanTemperature/ghrsst/data/GDS2/L3U/VIIRS_NPP/OSPO/v2.41/2018/118/20180428114000-OSPO-L3U_GHRSST-SSTsubskin-VIIRS_NPP-ACSPO_V2.41-v02.0-fv01.0.nc\n",
      "https://opendap.jpl.nasa.gov/opendap/OceanTemperature/ghrsst/data/GDS2/L3U/VIIRS_NPP/OSPO/v2.41/2018/118/20180428115000-OSPO-L3U_GHRSST-SSTsubskin-VIIRS_NPP-ACSPO_V2.41-v02.0-fv01.0.nc\n",
      "https://opendap.jpl.nasa.gov/opendap/OceanTemperature/ghrsst/data/GDS2/L3U/VIIRS_NPP/OSPO/v2.41/2018/118/20180428120000-OSPO-L3U_GHRSST-SSTsubskin-VIIRS_NPP-ACSPO_V2.41-v02.0-fv01.0.nc\n",
      "https://opendap.jpl.nasa.gov/opendap/OceanTemperature/ghrsst/data/GDS2/L3U/VIIRS_NPP/OSPO/v2.41/2018/118/20180428121000-OSPO-L3U_GHRSST-SSTsubskin-VIIRS_NPP-ACSPO_V2.41-v02.0-fv01.0.nc\n",
      "https://opendap.jpl.nasa.gov/opendap/OceanTemperature/ghrsst/data/GDS2/L3U/VIIRS_NPP/OSPO/v2.41/2018/118/20180428122000-OSPO-L3U_GHRSST-SSTsubskin-VIIRS_NPP-ACSPO_V2.41-v02.0-fv01.0.nc\n",
      "https://opendap.jpl.nasa.gov/opendap/OceanTemperature/ghrsst/data/GDS2/L3U/VIIRS_NPP/OSPO/v2.41/2018/118/20180428123000-OSPO-L3U_GHRSST-SSTsubskin-VIIRS_NPP-ACSPO_V2.41-v02.0-fv01.0.nc\n",
      "https://opendap.jpl.nasa.gov/opendap/OceanTemperature/ghrsst/data/GDS2/L3U/VIIRS_NPP/OSPO/v2.41/2018/118/20180428124000-OSPO-L3U_GHRSST-SSTsubskin-VIIRS_NPP-ACSPO_V2.41-v02.0-fv01.0.nc\n",
      "https://opendap.jpl.nasa.gov/opendap/OceanTemperature/ghrsst/data/GDS2/L3U/VIIRS_NPP/OSPO/v2.41/2018/118/20180428125000-OSPO-L3U_GHRSST-SSTsubskin-VIIRS_NPP-ACSPO_V2.41-v02.0-fv01.0.nc\n",
      "https://opendap.jpl.nasa.gov/opendap/OceanTemperature/ghrsst/data/GDS2/L3U/VIIRS_NPP/OSPO/v2.41/2018/118/20180428130000-OSPO-L3U_GHRSST-SSTsubskin-VIIRS_NPP-ACSPO_V2.41-v02.0-fv01.0.nc\n",
      "https://opendap.jpl.nasa.gov/opendap/OceanTemperature/ghrsst/data/GDS2/L3U/VIIRS_NPP/OSPO/v2.41/2018/118/20180428131000-OSPO-L3U_GHRSST-SSTsubskin-VIIRS_NPP-ACSPO_V2.41-v02.0-fv01.0.nc\n",
      "https://opendap.jpl.nasa.gov/opendap/OceanTemperature/ghrsst/data/GDS2/L3U/VIIRS_NPP/OSPO/v2.41/2018/118/20180428132000-OSPO-L3U_GHRSST-SSTsubskin-VIIRS_NPP-ACSPO_V2.41-v02.0-fv01.0.nc\n",
      "https://opendap.jpl.nasa.gov/opendap/OceanTemperature/ghrsst/data/GDS2/L3U/VIIRS_NPP/OSPO/v2.41/2018/118/20180428133000-OSPO-L3U_GHRSST-SSTsubskin-VIIRS_NPP-ACSPO_V2.41-v02.0-fv01.0.nc\n",
      "https://opendap.jpl.nasa.gov/opendap/OceanTemperature/ghrsst/data/GDS2/L3U/VIIRS_NPP/OSPO/v2.41/2018/118/20180428134000-OSPO-L3U_GHRSST-SSTsubskin-VIIRS_NPP-ACSPO_V2.41-v02.0-fv01.0.nc\n",
      "https://opendap.jpl.nasa.gov/opendap/OceanTemperature/ghrsst/data/GDS2/L3U/VIIRS_NPP/OSPO/v2.41/2018/118/20180428135000-OSPO-L3U_GHRSST-SSTsubskin-VIIRS_NPP-ACSPO_V2.41-v02.0-fv01.0.nc\n",
      "https://opendap.jpl.nasa.gov/opendap/OceanTemperature/ghrsst/data/GDS2/L3U/VIIRS_NPP/OSPO/v2.41/2018/118/20180428140000-OSPO-L3U_GHRSST-SSTsubskin-VIIRS_NPP-ACSPO_V2.41-v02.0-fv01.0.nc\n",
      "https://opendap.jpl.nasa.gov/opendap/OceanTemperature/ghrsst/data/GDS2/L3U/VIIRS_NPP/OSPO/v2.41/2018/118/20180428141000-OSPO-L3U_GHRSST-SSTsubskin-VIIRS_NPP-ACSPO_V2.41-v02.0-fv01.0.nc\n",
      "https://opendap.jpl.nasa.gov/opendap/OceanTemperature/ghrsst/data/GDS2/L3U/VIIRS_NPP/OSPO/v2.41/2018/118/20180428142000-OSPO-L3U_GHRSST-SSTsubskin-VIIRS_NPP-ACSPO_V2.41-v02.0-fv01.0.nc\n",
      "https://opendap.jpl.nasa.gov/opendap/OceanTemperature/ghrsst/data/GDS2/L3U/VIIRS_NPP/OSPO/v2.41/2018/118/20180428143000-OSPO-L3U_GHRSST-SSTsubskin-VIIRS_NPP-ACSPO_V2.41-v02.0-fv01.0.nc\n",
      "https://opendap.jpl.nasa.gov/opendap/OceanTemperature/ghrsst/data/GDS2/L3U/VIIRS_NPP/OSPO/v2.41/2018/118/20180428144000-OSPO-L3U_GHRSST-SSTsubskin-VIIRS_NPP-ACSPO_V2.41-v02.0-fv01.0.nc\n",
      "https://opendap.jpl.nasa.gov/opendap/OceanTemperature/ghrsst/data/GDS2/L3U/VIIRS_NPP/OSPO/v2.41/2018/118/20180428145000-OSPO-L3U_GHRSST-SSTsubskin-VIIRS_NPP-ACSPO_V2.41-v02.0-fv01.0.nc\n",
      "https://opendap.jpl.nasa.gov/opendap/OceanTemperature/ghrsst/data/GDS2/L3U/VIIRS_NPP/OSPO/v2.41/2018/118/20180428150000-OSPO-L3U_GHRSST-SSTsubskin-VIIRS_NPP-ACSPO_V2.41-v02.0-fv01.0.nc\n",
      "https://opendap.jpl.nasa.gov/opendap/OceanTemperature/ghrsst/data/GDS2/L3U/VIIRS_NPP/OSPO/v2.41/2018/118/20180428151000-OSPO-L3U_GHRSST-SSTsubskin-VIIRS_NPP-ACSPO_V2.41-v02.0-fv01.0.nc\n",
      "https://opendap.jpl.nasa.gov/opendap/OceanTemperature/ghrsst/data/GDS2/L3U/VIIRS_NPP/OSPO/v2.41/2018/118/20180428152000-OSPO-L3U_GHRSST-SSTsubskin-VIIRS_NPP-ACSPO_V2.41-v02.0-fv01.0.nc\n",
      "https://opendap.jpl.nasa.gov/opendap/OceanTemperature/ghrsst/data/GDS2/L3U/VIIRS_NPP/OSPO/v2.41/2018/118/20180428153000-OSPO-L3U_GHRSST-SSTsubskin-VIIRS_NPP-ACSPO_V2.41-v02.0-fv01.0.nc\n",
      "https://opendap.jpl.nasa.gov/opendap/OceanTemperature/ghrsst/data/GDS2/L3U/VIIRS_NPP/OSPO/v2.41/2018/118/20180428154000-OSPO-L3U_GHRSST-SSTsubskin-VIIRS_NPP-ACSPO_V2.41-v02.0-fv01.0.nc\n",
      "https://opendap.jpl.nasa.gov/opendap/OceanTemperature/ghrsst/data/GDS2/L3U/VIIRS_NPP/OSPO/v2.41/2018/118/20180428155000-OSPO-L3U_GHRSST-SSTsubskin-VIIRS_NPP-ACSPO_V2.41-v02.0-fv01.0.nc\n",
      "https://opendap.jpl.nasa.gov/opendap/OceanTemperature/ghrsst/data/GDS2/L3U/VIIRS_NPP/OSPO/v2.41/2018/118/20180428160000-OSPO-L3U_GHRSST-SSTsubskin-VIIRS_NPP-ACSPO_V2.41-v02.0-fv01.0.nc\n",
      "https://opendap.jpl.nasa.gov/opendap/OceanTemperature/ghrsst/data/GDS2/L3U/VIIRS_NPP/OSPO/v2.41/2018/118/20180428161000-OSPO-L3U_GHRSST-SSTsubskin-VIIRS_NPP-ACSPO_V2.41-v02.0-fv01.0.nc\n",
      "https://opendap.jpl.nasa.gov/opendap/OceanTemperature/ghrsst/data/GDS2/L3U/VIIRS_NPP/OSPO/v2.41/2018/118/20180428162000-OSPO-L3U_GHRSST-SSTsubskin-VIIRS_NPP-ACSPO_V2.41-v02.0-fv01.0.nc\n",
      "https://opendap.jpl.nasa.gov/opendap/OceanTemperature/ghrsst/data/GDS2/L3U/VIIRS_NPP/OSPO/v2.41/2018/118/20180428163000-OSPO-L3U_GHRSST-SSTsubskin-VIIRS_NPP-ACSPO_V2.41-v02.0-fv01.0.nc\n",
      "https://opendap.jpl.nasa.gov/opendap/OceanTemperature/ghrsst/data/GDS2/L3U/VIIRS_NPP/OSPO/v2.41/2018/118/20180428164000-OSPO-L3U_GHRSST-SSTsubskin-VIIRS_NPP-ACSPO_V2.41-v02.0-fv01.0.nc\n",
      "https://opendap.jpl.nasa.gov/opendap/OceanTemperature/ghrsst/data/GDS2/L3U/VIIRS_NPP/OSPO/v2.41/2018/118/20180428165000-OSPO-L3U_GHRSST-SSTsubskin-VIIRS_NPP-ACSPO_V2.41-v02.0-fv01.0.nc\n",
      "https://opendap.jpl.nasa.gov/opendap/OceanTemperature/ghrsst/data/GDS2/L3U/VIIRS_NPP/OSPO/v2.41/2018/118/20180428170000-OSPO-L3U_GHRSST-SSTsubskin-VIIRS_NPP-ACSPO_V2.41-v02.0-fv01.0.nc\n",
      "https://opendap.jpl.nasa.gov/opendap/OceanTemperature/ghrsst/data/GDS2/L3U/VIIRS_NPP/OSPO/v2.41/2018/118/20180428171000-OSPO-L3U_GHRSST-SSTsubskin-VIIRS_NPP-ACSPO_V2.41-v02.0-fv01.0.nc\n",
      "https://opendap.jpl.nasa.gov/opendap/OceanTemperature/ghrsst/data/GDS2/L3U/VIIRS_NPP/OSPO/v2.41/2018/118/20180428172000-OSPO-L3U_GHRSST-SSTsubskin-VIIRS_NPP-ACSPO_V2.41-v02.0-fv01.0.nc\n",
      "https://opendap.jpl.nasa.gov/opendap/OceanTemperature/ghrsst/data/GDS2/L3U/VIIRS_NPP/OSPO/v2.41/2018/118/20180428173000-OSPO-L3U_GHRSST-SSTsubskin-VIIRS_NPP-ACSPO_V2.41-v02.0-fv01.0.nc\n",
      "https://opendap.jpl.nasa.gov/opendap/OceanTemperature/ghrsst/data/GDS2/L3U/VIIRS_NPP/OSPO/v2.41/2018/118/20180428174000-OSPO-L3U_GHRSST-SSTsubskin-VIIRS_NPP-ACSPO_V2.41-v02.0-fv01.0.nc\n",
      "https://opendap.jpl.nasa.gov/opendap/OceanTemperature/ghrsst/data/GDS2/L3U/VIIRS_NPP/OSPO/v2.41/2018/118/20180428175000-OSPO-L3U_GHRSST-SSTsubskin-VIIRS_NPP-ACSPO_V2.41-v02.0-fv01.0.nc\n",
      "https://opendap.jpl.nasa.gov/opendap/OceanTemperature/ghrsst/data/GDS2/L3U/VIIRS_NPP/OSPO/v2.41/2018/118/20180428180000-OSPO-L3U_GHRSST-SSTsubskin-VIIRS_NPP-ACSPO_V2.41-v02.0-fv01.0.nc\n",
      "https://opendap.jpl.nasa.gov/opendap/OceanTemperature/ghrsst/data/GDS2/L3U/VIIRS_NPP/OSPO/v2.41/2018/118/20180428181000-OSPO-L3U_GHRSST-SSTsubskin-VIIRS_NPP-ACSPO_V2.41-v02.0-fv01.0.nc\n",
      "https://opendap.jpl.nasa.gov/opendap/OceanTemperature/ghrsst/data/GDS2/L3U/VIIRS_NPP/OSPO/v2.41/2018/118/20180428182000-OSPO-L3U_GHRSST-SSTsubskin-VIIRS_NPP-ACSPO_V2.41-v02.0-fv01.0.nc\n",
      "https://opendap.jpl.nasa.gov/opendap/OceanTemperature/ghrsst/data/GDS2/L3U/VIIRS_NPP/OSPO/v2.41/2018/118/20180428183000-OSPO-L3U_GHRSST-SSTsubskin-VIIRS_NPP-ACSPO_V2.41-v02.0-fv01.0.nc\n",
      "https://opendap.jpl.nasa.gov/opendap/OceanTemperature/ghrsst/data/GDS2/L3U/VIIRS_NPP/OSPO/v2.41/2018/118/20180428184000-OSPO-L3U_GHRSST-SSTsubskin-VIIRS_NPP-ACSPO_V2.41-v02.0-fv01.0.nc\n",
      "https://opendap.jpl.nasa.gov/opendap/OceanTemperature/ghrsst/data/GDS2/L3U/VIIRS_NPP/OSPO/v2.41/2018/118/20180428185000-OSPO-L3U_GHRSST-SSTsubskin-VIIRS_NPP-ACSPO_V2.41-v02.0-fv01.0.nc\n",
      "https://opendap.jpl.nasa.gov/opendap/OceanTemperature/ghrsst/data/GDS2/L3U/VIIRS_NPP/OSPO/v2.41/2018/118/20180428190000-OSPO-L3U_GHRSST-SSTsubskin-VIIRS_NPP-ACSPO_V2.41-v02.0-fv01.0.nc\n",
      "https://opendap.jpl.nasa.gov/opendap/OceanTemperature/ghrsst/data/GDS2/L3U/VIIRS_NPP/OSPO/v2.41/2018/118/20180428191000-OSPO-L3U_GHRSST-SSTsubskin-VIIRS_NPP-ACSPO_V2.41-v02.0-fv01.0.nc\n",
      "https://opendap.jpl.nasa.gov/opendap/OceanTemperature/ghrsst/data/GDS2/L3U/VIIRS_NPP/OSPO/v2.41/2018/118/20180428192000-OSPO-L3U_GHRSST-SSTsubskin-VIIRS_NPP-ACSPO_V2.41-v02.0-fv01.0.nc\n",
      "https://opendap.jpl.nasa.gov/opendap/OceanTemperature/ghrsst/data/GDS2/L3U/VIIRS_NPP/OSPO/v2.41/2018/118/20180428193000-OSPO-L3U_GHRSST-SSTsubskin-VIIRS_NPP-ACSPO_V2.41-v02.0-fv01.0.nc\n",
      "https://opendap.jpl.nasa.gov/opendap/OceanTemperature/ghrsst/data/GDS2/L3U/VIIRS_NPP/OSPO/v2.41/2018/118/20180428194000-OSPO-L3U_GHRSST-SSTsubskin-VIIRS_NPP-ACSPO_V2.41-v02.0-fv01.0.nc\n",
      "https://opendap.jpl.nasa.gov/opendap/OceanTemperature/ghrsst/data/GDS2/L3U/VIIRS_NPP/OSPO/v2.41/2018/118/20180428195000-OSPO-L3U_GHRSST-SSTsubskin-VIIRS_NPP-ACSPO_V2.41-v02.0-fv01.0.nc\n",
      "https://opendap.jpl.nasa.gov/opendap/OceanTemperature/ghrsst/data/GDS2/L3U/VIIRS_NPP/OSPO/v2.41/2018/118/20180428200000-OSPO-L3U_GHRSST-SSTsubskin-VIIRS_NPP-ACSPO_V2.41-v02.0-fv01.0.nc\n",
      "https://opendap.jpl.nasa.gov/opendap/OceanTemperature/ghrsst/data/GDS2/L3U/VIIRS_NPP/OSPO/v2.41/2018/118/20180428201000-OSPO-L3U_GHRSST-SSTsubskin-VIIRS_NPP-ACSPO_V2.41-v02.0-fv01.0.nc\n",
      "https://opendap.jpl.nasa.gov/opendap/OceanTemperature/ghrsst/data/GDS2/L3U/VIIRS_NPP/OSPO/v2.41/2018/118/20180428202000-OSPO-L3U_GHRSST-SSTsubskin-VIIRS_NPP-ACSPO_V2.41-v02.0-fv01.0.nc\n",
      "https://opendap.jpl.nasa.gov/opendap/OceanTemperature/ghrsst/data/GDS2/L3U/VIIRS_NPP/OSPO/v2.41/2018/118/20180428203000-OSPO-L3U_GHRSST-SSTsubskin-VIIRS_NPP-ACSPO_V2.41-v02.0-fv01.0.nc\n",
      "https://opendap.jpl.nasa.gov/opendap/OceanTemperature/ghrsst/data/GDS2/L3U/VIIRS_NPP/OSPO/v2.41/2018/118/20180428204000-OSPO-L3U_GHRSST-SSTsubskin-VIIRS_NPP-ACSPO_V2.41-v02.0-fv01.0.nc\n",
      "https://opendap.jpl.nasa.gov/opendap/OceanTemperature/ghrsst/data/GDS2/L3U/VIIRS_NPP/OSPO/v2.41/2018/118/20180428205000-OSPO-L3U_GHRSST-SSTsubskin-VIIRS_NPP-ACSPO_V2.41-v02.0-fv01.0.nc\n",
      "https://opendap.jpl.nasa.gov/opendap/OceanTemperature/ghrsst/data/GDS2/L3U/VIIRS_NPP/OSPO/v2.41/2018/118/20180428210000-OSPO-L3U_GHRSST-SSTsubskin-VIIRS_NPP-ACSPO_V2.41-v02.0-fv01.0.nc\n",
      "https://opendap.jpl.nasa.gov/opendap/OceanTemperature/ghrsst/data/GDS2/L3U/VIIRS_NPP/OSPO/v2.41/2018/118/20180428211000-OSPO-L3U_GHRSST-SSTsubskin-VIIRS_NPP-ACSPO_V2.41-v02.0-fv01.0.nc\n",
      "https://opendap.jpl.nasa.gov/opendap/OceanTemperature/ghrsst/data/GDS2/L3U/VIIRS_NPP/OSPO/v2.41/2018/118/20180428212000-OSPO-L3U_GHRSST-SSTsubskin-VIIRS_NPP-ACSPO_V2.41-v02.0-fv01.0.nc\n",
      "https://opendap.jpl.nasa.gov/opendap/OceanTemperature/ghrsst/data/GDS2/L3U/VIIRS_NPP/OSPO/v2.41/2018/118/20180428213000-OSPO-L3U_GHRSST-SSTsubskin-VIIRS_NPP-ACSPO_V2.41-v02.0-fv01.0.nc\n",
      "https://opendap.jpl.nasa.gov/opendap/OceanTemperature/ghrsst/data/GDS2/L3U/VIIRS_NPP/OSPO/v2.41/2018/118/20180428214000-OSPO-L3U_GHRSST-SSTsubskin-VIIRS_NPP-ACSPO_V2.41-v02.0-fv01.0.nc\n",
      "https://opendap.jpl.nasa.gov/opendap/OceanTemperature/ghrsst/data/GDS2/L3U/VIIRS_NPP/OSPO/v2.41/2018/118/20180428215000-OSPO-L3U_GHRSST-SSTsubskin-VIIRS_NPP-ACSPO_V2.41-v02.0-fv01.0.nc\n",
      "https://opendap.jpl.nasa.gov/opendap/OceanTemperature/ghrsst/data/GDS2/L3U/VIIRS_NPP/OSPO/v2.41/2018/118/20180428220000-OSPO-L3U_GHRSST-SSTsubskin-VIIRS_NPP-ACSPO_V2.41-v02.0-fv01.0.nc\n",
      "https://opendap.jpl.nasa.gov/opendap/OceanTemperature/ghrsst/data/GDS2/L3U/VIIRS_NPP/OSPO/v2.41/2018/118/20180428221000-OSPO-L3U_GHRSST-SSTsubskin-VIIRS_NPP-ACSPO_V2.41-v02.0-fv01.0.nc\n",
      "https://opendap.jpl.nasa.gov/opendap/OceanTemperature/ghrsst/data/GDS2/L3U/VIIRS_NPP/OSPO/v2.41/2018/118/20180428222000-OSPO-L3U_GHRSST-SSTsubskin-VIIRS_NPP-ACSPO_V2.41-v02.0-fv01.0.nc\n",
      "https://opendap.jpl.nasa.gov/opendap/OceanTemperature/ghrsst/data/GDS2/L3U/VIIRS_NPP/OSPO/v2.41/2018/118/20180428223000-OSPO-L3U_GHRSST-SSTsubskin-VIIRS_NPP-ACSPO_V2.41-v02.0-fv01.0.nc\n",
      "https://opendap.jpl.nasa.gov/opendap/OceanTemperature/ghrsst/data/GDS2/L3U/VIIRS_NPP/OSPO/v2.41/2018/118/20180428224000-OSPO-L3U_GHRSST-SSTsubskin-VIIRS_NPP-ACSPO_V2.41-v02.0-fv01.0.nc\n",
      "https://opendap.jpl.nasa.gov/opendap/OceanTemperature/ghrsst/data/GDS2/L3U/VIIRS_NPP/OSPO/v2.41/2018/118/20180428225000-OSPO-L3U_GHRSST-SSTsubskin-VIIRS_NPP-ACSPO_V2.41-v02.0-fv01.0.nc\n",
      "https://opendap.jpl.nasa.gov/opendap/OceanTemperature/ghrsst/data/GDS2/L3U/VIIRS_NPP/OSPO/v2.41/2018/118/20180428230000-OSPO-L3U_GHRSST-SSTsubskin-VIIRS_NPP-ACSPO_V2.41-v02.0-fv01.0.nc\n",
      "https://opendap.jpl.nasa.gov/opendap/OceanTemperature/ghrsst/data/GDS2/L3U/VIIRS_NPP/OSPO/v2.41/2018/118/20180428231000-OSPO-L3U_GHRSST-SSTsubskin-VIIRS_NPP-ACSPO_V2.41-v02.0-fv01.0.nc\n",
      "https://opendap.jpl.nasa.gov/opendap/OceanTemperature/ghrsst/data/GDS2/L3U/VIIRS_NPP/OSPO/v2.41/2018/118/20180428232000-OSPO-L3U_GHRSST-SSTsubskin-VIIRS_NPP-ACSPO_V2.41-v02.0-fv01.0.nc\n",
      "https://opendap.jpl.nasa.gov/opendap/OceanTemperature/ghrsst/data/GDS2/L3U/VIIRS_NPP/OSPO/v2.41/2018/118/20180428233000-OSPO-L3U_GHRSST-SSTsubskin-VIIRS_NPP-ACSPO_V2.41-v02.0-fv01.0.nc\n",
      "https://opendap.jpl.nasa.gov/opendap/OceanTemperature/ghrsst/data/GDS2/L3U/VIIRS_NPP/OSPO/v2.41/2018/118/20180428234000-OSPO-L3U_GHRSST-SSTsubskin-VIIRS_NPP-ACSPO_V2.41-v02.0-fv01.0.nc\n",
      "https://opendap.jpl.nasa.gov/opendap/OceanTemperature/ghrsst/data/GDS2/L3U/VIIRS_NPP/OSPO/v2.41/2018/118/20180428235000-OSPO-L3U_GHRSST-SSTsubskin-VIIRS_NPP-ACSPO_V2.41-v02.0-fv01.0.nc\n"
     ]
    }
   ],
   "source": [
    "drop_list=['quality_level','or_number_of_pixels','dt_analysis','satellite_zenith_angle','sses_bias'  ,\n",
    "           'sses_standard_deviation','wind_speed','sst_dtime','l2p_flags']\n",
    "for incr_day in range(17,18): #61):\n",
    "    d = datetime(2018,4,11) + timedelta(days=incr_day)\n",
    "    day_of_year = d.timetuple().tm_yday\n",
    "    url = 'https://opendap.jpl.nasa.gov/opendap/OceanTemperature/ghrsst/data/GDS2/L3U/VIIRS_NPP/OSPO/v2.41/' \\\n",
    "            + str(d.year) + '/' + str(day_of_year).zfill(3) + '/'\n",
    "    ext = 'nc'\n",
    "    filenames=listFD(url, ext)\n",
    "    ilen=len(filenames)\n",
    "    ds_new=[]\n",
    "    for ic in range(0,ilen):\n",
    "        file = filenames[ic]\n",
    "        print(file)\n",
    "        ds=xr.open_dataset(file,drop_variables=drop_list)\n",
    "        ds2=ds.sel(dict(lon=slice(-130,-110),lat=slice(42,23)))\n",
    "        if ds2.sea_surface_temperature.max()>10:\n",
    "            ds_new.append(ds2)\n",
    "        ds.close()\n",
    "    combined = xr.concat(ds_new, dim='time')\n",
    "    mn=combined.sea_surface_temperature.mean(dim='time')\n",
    "    mn.to_netcdf('./data/sst'+str(day_of_year)+'.nc')\n",
    "    combined.to_netcdf('./data/all_sst'+str(day_of_year)+'.nc')"
   ]
  },
  {
   "cell_type": "code",
   "execution_count": 5,
   "metadata": {
    "collapsed": false
   },
   "outputs": [],
   "source": [
    "ds=xr.open_dataset(file)"
   ]
  },
  {
   "cell_type": "code",
   "execution_count": 6,
   "metadata": {
    "collapsed": false
   },
   "outputs": [],
   "source": [
    "ds.close()"
   ]
  },
  {
   "cell_type": "code",
   "execution_count": 7,
   "metadata": {
    "collapsed": false
   },
   "outputs": [
    {
     "data": {
      "text/plain": [
       "50"
      ]
     },
     "execution_count": 7,
     "metadata": {},
     "output_type": "execute_result"
    }
   ],
   "source": [
    "\n",
    "incr_day"
   ]
  },
  {
   "cell_type": "code",
   "execution_count": null,
   "metadata": {
    "collapsed": true
   },
   "outputs": [],
   "source": []
  }
 ],
 "metadata": {
  "kernelspec": {
   "display_name": "Python 3.6",
   "language": "python",
   "name": "python3.6"
  },
  "language_info": {
   "codemirror_mode": {
    "name": "ipython",
    "version": 3
   },
   "file_extension": ".py",
   "mimetype": "text/x-python",
   "name": "python",
   "nbconvert_exporter": "python",
   "pygments_lexer": "ipython3",
   "version": "3.6.0"
  }
 },
 "nbformat": 4,
 "nbformat_minor": 0
}
