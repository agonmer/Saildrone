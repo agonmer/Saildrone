{
 "cells": [
  {
   "cell_type": "markdown",
   "metadata": {},
   "source": [
    "# This is the Saildrone and Oscar collocation code. \n"
   ]
  },
  {
   "cell_type": "code",
   "execution_count": 5,
   "metadata": {},
   "outputs": [],
   "source": [
    "import os\n",
    "import numpy as np\n",
    "import matplotlib.pyplot as plt\n",
    "import datetime as dt\n",
    "import xarray as xr\n",
    "\n",
    "def get_sat_filename(date):\n",
    "    dir_sat='F:/data/sat_data/oscar/L4/oscar_third_deg/'\n",
    "    syr = str(date.dt.year.data)\n",
    "    sat_filename =dir_sat + 'oscar_vel' + syr + '.nc'\n",
    "    exists = os.path.isfile(sat_filename)\n",
    "    return sat_filename, exists\n"
   ]
  },
  {
   "cell_type": "markdown",
   "metadata": {},
   "source": [
    "# Read in USV data\n",
    "Read in the Saildrone USV file either from a local disc or using OpenDAP.\n",
    "\n"
   ]
  },
  {
   "cell_type": "code",
   "execution_count": 9,
   "metadata": {},
   "outputs": [
    {
     "name": "stderr",
     "output_type": "stream",
     "text": [
      "C:\\Users\\gentemann\\Miniconda3\\lib\\site-packages\\xarray\\core\\nanops.py:161: RuntimeWarning: Mean of empty slice\n",
      "  return np.nanmean(a, axis=axis, dtype=dtype)\n"
     ]
    }
   ],
   "source": [
    "filename_collocation_data = 'F:/data/cruise_data/saildrone/baja-2018/ccmp_collocation_data.nc'\n",
    "#filename_usv = 'https://podaac-opendap.jpl.nasa.gov/opendap/hyrax/allData/insitu/L2/saildrone/Baja/saildrone-gen_4-baja_2018-sd1002-20180411T180000-20180611T055959-1_minutes-v1.nc'\n",
    "#filename_usv='f:/data/cruise_data/saildrone/baja-2018/saildrone-gen_4-baja_2018-sd1002-20180411T180000-20180611T055959-10_minutes-v1_withloggers_matchedadcp_v3.nc'\n",
    "filename_usv='f:/data/cruise_data/saildrone/baja-2018/saildrone-gen_4-baja_2018-sd1002-20180411T180000-20180611T055959-10_minutes-v1_withloggers_matchedadcp_v4.nc'\n",
    "ds_usv = xr.open_dataset(filename_usv)\n",
    "ds_usv.close()\n",
    "#ds_usv = ds_usv.swap_dims({'obs':'time'}).rename({'longitude':'lon','latitude':'lat'})\n",
    "ds_usv = ds_usv.sel(time=slice('2018-04-11T18:30',ds_usv.time[-1].data))  #first part of data is when USV being towed, elminiate\n",
    "ds_usv['vel_east_30m_ave']=ds_usv.vel_east.sel()\n",
    "ds_usv = ds_usv.swap_dims({'cell':'cell_depth'})\n",
    "ds_usv_tem = ds_usv.sel(cell_depth=slice(0,30)).mean('cell_depth')  #make a mean of the top 30 m\n",
    "ds_usv = ds_usv.isel(cell_depth=0)\n",
    "ds_usv['vel_east_30m']=ds_usv_tem.vel_east\n",
    "ds_usv['vel_north_30m']=ds_usv_tem.vel_north\n",
    "ds_usv['spd_30m']=np.sqrt(ds_usv.vel_east_30m**2+ds_usv.vel_north_30m**2)\n",
    "ds_usv_subset = ds_usv.copy(deep=True)\n",
    "#d_usv_subset = ds_usv.isel(cell = 0)\n",
    "#ds_usv['lon'] = ds_usv.lon.interpolate_na(dim='time',method='linear') #there are 6 nan values\n",
    "#ds_usv['lat'] = ds_usv.lat.interpolate_na(dim='time',method='linear')\n",
    "#ds_usv['wind_speed']=np.sqrt(ds_usv.UWND_MEAN**2+ds_usv.VWND_MEAN**2)\n",
    "#ds_usv['wind_dir']=np.arctan2(ds_usv.VWND_MEAN,ds_usv.UWND_MEAN)*180/np.pi\n",
    "#ds_usv_subset = ds_usv.dropna(dim='time',subset={'UWND_MEAN'})   #get rid of all the nan\n",
    "#print(ds_usv_subset.UWND_MEAN[2000:2010].values)"
   ]
  },
  {
   "cell_type": "code",
   "execution_count": 10,
   "metadata": {},
   "outputs": [],
   "source": [
    "#print(ds_usv.vel_east_30m[0].data)\n",
    "#print(ds_usv2a.vel_east[0].data)  -0.3447692\n",
    "#print(ds_usv.vel_east[0,0:13].mean().data)"
   ]
  },
  {
   "cell_type": "markdown",
   "metadata": {},
   "source": [
    "In order to use open_mfdataset you need to either provide a path or a list of filenames to input\n",
    "\n",
    "Here we use the USV cruise start and end date to read in all data for that period"
   ]
  },
  {
   "cell_type": "code",
   "execution_count": 11,
   "metadata": {},
   "outputs": [
    {
     "name": "stdout",
     "output_type": "stream",
     "text": [
      "F:/data/sat_data/oscar/L4/oscar_third_deg/oscar_vel2018.nc\n"
     ]
    }
   ],
   "source": [
    "read_date,end_date = ds_usv_subset.time.min(),ds_usv_subset.time.max()\n",
    "filelist = []\n",
    "while read_date<=(end_date+np.timedelta64(365,'D')):  #oscar files are in yearly files\n",
    "    tem_filename,exists = get_sat_filename(read_date)\n",
    "    if exists:\n",
    "        filelist.append(tem_filename)\n",
    "    read_date=read_date+np.timedelta64(365,'D')\n",
    "print(filelist[0])"
   ]
  },
  {
   "cell_type": "markdown",
   "metadata": {},
   "source": [
    "# Read in OSCAR data\n",
    "Read in data using open_mfdataset with the option coords='minimal'\n",
    "\n",
    "The dataset is printed out and you can see that rather than straight xarray data array for each of the data variables open_mfdataset using dask arrays"
   ]
  },
  {
   "cell_type": "code",
   "execution_count": 12,
   "metadata": {
    "scrolled": false
   },
   "outputs": [
    {
     "data": {
      "text/plain": [
       "<xarray.Dataset>\n",
       "Dimensions:  (lat: 481, lon: 1078, time: 72)\n",
       "Coordinates:\n",
       "  * time     (time) datetime64[ns] 2018-01-01 2018-01-06 ... 2018-12-26\n",
       "    depth    float32 15.0\n",
       "  * lat      (lat) float64 -80.0 -79.67 -79.33 -79.0 ... 79.0 79.33 79.67 80.0\n",
       "  * lon      (lon) float64 -180.0 -179.7 -179.3 -179.0 ... 179.0 179.3 179.7\n",
       "Data variables:\n",
       "    u        (time, lat, lon) float64 nan nan nan nan nan ... nan nan nan nan\n",
       "    v        (time, lat, lon) float64 nan nan nan nan nan ... nan nan nan nan\n",
       "    um       (time, lat, lon) float64 nan nan nan nan nan ... nan nan nan nan\n",
       "    vm       (time, lat, lon) float64 nan nan nan nan nan ... nan nan nan nan\n",
       "Attributes:\n",
       "    VARIABLE:       Ocean Surface Currents\n",
       "    DATATYPE:       1/72 YEAR Interval\n",
       "    DATASUBTYPE:    unfiltered\n",
       "    GEORANGE:       20 to 420 -80 to 80\n",
       "    PERIOD:         Jan.01,2018 to Dec.26,2018\n",
       "    year:           2018\n",
       "    description:    OSCAR Third Degree Sea Surface Velocity\n",
       "    CREATION_DATE:  03:39 30-Jan-2019\n",
       "    version:        2009.0\n",
       "    source:         Gary Lagerloef, ESR (lager@esr.org) and Kathleen Dohan, E...\n",
       "    contact:        Kathleen Dohan (kdohan@esr.org) or John T. Gunn (gunn@esr...\n",
       "    company:        Earth & Space Research, Seattle, WA\n",
       "    reference:      Bonjean F. and G.S.E. Lagerloef, 2002 ,Diagnostic model a...\n",
       "    note1:          Maximum Mask velocity is the geostrophic component at all...\n",
       "    note2:          Longitude extends from 20 E to 420 E to avoid a break in ..."
      ]
     },
     "execution_count": 12,
     "metadata": {},
     "output_type": "execute_result"
    }
   ],
   "source": [
    "#ds_sat = xr.open_mfdataset(filelist,coords='minimal')\n",
    "ds_sat = xr.open_dataset(filelist[0])\n",
    "ds_sat = ds_sat.isel(depth=0).drop('year').rename({'latitude':'lat'}).rename({'longitude':'lon'})\n",
    "ds_sat = ds_sat.sortby('lat').sel(lon=slice(20.0,379.00))\n",
    "ds_sat.coords['lon'] = (ds_sat.coords['lon'] + 180) % 360 - 180\n",
    "ds_sat = ds_sat.sortby('lon')\n",
    "ds_sat.close()\n",
    "ds_sat"
   ]
  },
  {
   "cell_type": "markdown",
   "metadata": {},
   "source": [
    "# Xarray interpolation won't run on chunked dimensions.  \n",
    "1. First let's subset the data to make it smaller to deal with by using the cruise lat/lons\n",
    "\n",
    "1. Now load the data into memory (de-Dask-ify) it  \n"
   ]
  },
  {
   "cell_type": "code",
   "execution_count": 13,
   "metadata": {},
   "outputs": [],
   "source": [
    "#Step 1 from above\n",
    "subset = ds_sat.sel(lon=slice(ds_usv_subset.lon.min().data,ds_usv_subset.lon.max().data),\n",
    "                    lat=slice(ds_usv_subset.lat.min().data,ds_usv_subset.lat.max().data))\n",
    "#Step 2 from above\n",
    "#subset.load()\n",
    "#now collocate with usv lat and lons\n",
    "ds_collocated = subset.interp(lat=ds_usv_subset.lat,lon=ds_usv_subset.lon,time=ds_usv_subset.time,method='linear')\n",
    "ds_collocated_nearest = subset.interp(lat=ds_usv_subset.lat,lon=ds_usv_subset.lon,time=ds_usv_subset.time,method='nearest')\n"
   ]
  },
  {
   "cell_type": "markdown",
   "metadata": {},
   "source": [
    "# A larger STD that isn't reflective of uncertainty in the observation\n",
    "The collocation above will result in multiple USV data points matched with a single satellite\n",
    "observation.    The USV is sampling every 1 min and approximately few meters, while the satellite\n",
    "is an average over a footprint that is interpolated onto a daily mean map.  While calculating the mean would results in a valid mean, the STD would be higher and consist of a component that reflects the uncertainty of the USV and the satellite and a component that reflects the natural variability in the region that is sampled by the USV\n",
    "\n",
    "Below we use the 'nearest' collocation results to identify when multiple USV data are collcated to\n",
    "a single satellite observation.\n",
    "This code goes through the data and creates averages of the USV data that match the single CCMP collocated value.\n"
   ]
  },
  {
   "cell_type": "code",
   "execution_count": 14,
   "metadata": {
    "scrolled": true
   },
   "outputs": [
    {
     "name": "stdout",
     "output_type": "stream",
     "text": [
      "12 8760\n",
      "39 8760\n",
      "46 8760\n",
      "81 8760\n",
      "133 8760\n",
      "137 8760\n",
      "217 8760\n",
      "259 8760\n",
      "292 8760\n",
      "360 8760\n",
      "372 8760\n",
      "421 8760\n",
      "459 8760\n",
      "466 8760\n",
      "589 8760\n",
      "602 8760\n",
      "633 8760\n",
      "664 8760\n",
      "676 8760\n",
      "716 8760\n",
      "759 8760\n",
      "766 8760\n",
      "794 8760\n",
      "824 8760\n",
      "827 8760\n",
      "853 8760\n",
      "874 8760\n",
      "879 8760\n",
      "911 8760\n",
      "932 8760\n",
      "956 8760\n",
      "1064 8760\n",
      "1080 8760\n",
      "1096 8760\n",
      "1121 8760\n",
      "1149 8760\n",
      "1155 8760\n",
      "1302 8760\n",
      "1332 8760\n",
      "1411 8760\n",
      "1414 8760\n",
      "1460 8760\n",
      "1523 8760\n",
      "1534 8760\n",
      "1580 8760\n",
      "1655 8760\n",
      "1671 8760\n",
      "1726 8760\n",
      "1766 8760\n",
      "1800 8760\n",
      "1866 8760\n",
      "1890 8760\n",
      "1917 8760\n",
      "1961 8760\n",
      "2011 8760\n",
      "2297 8760\n",
      "2299 8760\n",
      "2327 8760\n",
      "2401 8760\n",
      "2449 8760\n",
      "2503 8760\n",
      "2519 8760\n",
      "2520 8760\n",
      "2559 8760\n",
      "2609 8760\n",
      "2620 8760\n",
      "2735 8760\n",
      "2736 8760\n",
      "2940 8760\n",
      "2985 8760\n",
      "3010 8760\n",
      "3074 8760\n",
      "3122 8760\n",
      "3144 8760\n",
      "3155 8760\n",
      "3184 8760\n",
      "3240 8760\n",
      "3395 8760\n",
      "3539 8760\n",
      "3813 8760\n",
      "3886 8760\n",
      "3959 8760\n",
      "3960 8760\n",
      "3983 8760\n",
      "4041 8760\n",
      "4504 8760\n",
      "4614 8760\n",
      "4680 8760\n",
      "4758 8760\n",
      "4886 8760\n",
      "4993 8760\n",
      "5095 8760\n",
      "5161 8760\n",
      "5229 8760\n",
      "5338 8760\n",
      "5400 8760\n",
      "5412 8760\n",
      "5473 8760\n",
      "5556 8760\n",
      "5662 8760\n",
      "5718 8760\n",
      "5773 8760\n",
      "5784 8760\n",
      "5835 8760\n",
      "5916 8760\n",
      "6066 8760\n",
      "6118 8760\n",
      "6192 8760\n",
      "6251 8760\n",
      "6403 8760\n",
      "6442 8760\n",
      "6451 8760\n",
      "6489 8760\n",
      "6512 8760\n",
      "6550 8760\n",
      "6598 8760\n",
      "6641 8760\n",
      "6682 8760\n",
      "6709 8760\n",
      "6718 8760\n",
      "6780 8760\n",
      "6819 8760\n",
      "6847 8760\n",
      "6926 8760\n",
      "6952 8760\n",
      "6982 8760\n",
      "6983 8760\n",
      "6997 8760\n",
      "7048 8760\n",
      "7106 8760\n",
      "7157 8760\n",
      "7179 8760\n",
      "7232 8760\n",
      "7253 8760\n",
      "7363 8760\n",
      "7402 8760\n",
      "7428 8760\n",
      "7455 8760\n",
      "7482 8760\n",
      "7507 8760\n",
      "7544 8760\n",
      "7574 8760\n",
      "7623 8760\n",
      "7703 8760\n",
      "7787 8760\n",
      "7811 8760\n",
      "7856 8760\n",
      "8158 8760\n",
      "8212 8760\n",
      "8359 8760\n",
      "8381 8760\n",
      "8423 8760\n",
      "8429 8760\n",
      "8452 8760\n",
      "8485 8760\n",
      "8489 8760\n",
      "8513 8760\n",
      "8535 8760\n",
      "8540 8760\n",
      "8568 8760\n",
      "8582 8760\n",
      "8597 8760\n"
     ]
    }
   ],
   "source": [
    "ilen,index = ds_collocated_nearest.dims['time'],0\n",
    "ds_tem = ds_collocated_nearest.copy(deep=True)\n",
    "duu, duv, dlat, dlon, dut = [],[],[],[],np.empty((),dtype='datetime64')\n",
    "while index <= ilen-2:\n",
    "    index += 1\n",
    "    if np.isnan(ds_collocated_nearest.u[index]):\n",
    "        continue\n",
    "    if np.isnan(ds_tem.u[index]):\n",
    "        continue\n",
    "    print(index, ilen)\n",
    "    cond = ((ds_tem.u==ds_collocated_nearest.u[index]) \n",
    "            & (ds_tem.v==ds_collocated_nearest.v[index]))\n",
    "    notcond = np.logical_not(cond)\n",
    "    masked = ds_tem.where(cond)\n",
    "    masked_usv = ds_usv_subset.where(cond,drop=True)\n",
    "    if masked.u.sum().data==0:  #don't do if data not found\n",
    "        continue\n",
    "    duu=np.append(duu,masked_usv.vel_east_30m.mean().data)\n",
    "    duv=np.append(duv,masked_usv.vel_north_30m.mean().data)\n",
    "    dlat=np.append(dlat,masked_usv.lat.mean().data)\n",
    "    dlon=np.append(dlon,masked_usv.lon.mean().data)\n",
    "    tdif = masked_usv.time[-1].data-masked_usv.time[0].data\n",
    "    mtime=masked_usv.time[0].data+np.timedelta64(tdif/2,'ns')\n",
    "    dut=np.append(dut,mtime)\n",
    "    ds_tem=ds_tem.where(notcond,np.nan)  #masked used values by setting to nan\n",
    "dut2 = dut[1:]  #remove first data point which is a repeat from what array defined    \n",
    "ds_new=xr.Dataset(data_vars={'vel_east': ('time',duu),'vel_north':('time',duv),\n",
    "                             'lon': ('time',dlon),\n",
    "                             'lat': ('time',dlat)},\n",
    "                  coords={'time':dut2})\n",
    "ds_new.to_netcdf('F:/data/cruise_data/saildrone/baja-2018/oscar_downsampled_usv_data.nc')"
   ]
  },
  {
   "cell_type": "markdown",
   "metadata": {},
   "source": [
    "# redo the collocation\n",
    "Now, redo the collocation, using 'linear' interpolation using the averaged data.  This will interpolate the data temporally onto the USV sampling which has been averaged to the satellite data grid points"
   ]
  },
  {
   "cell_type": "code",
   "execution_count": 15,
   "metadata": {},
   "outputs": [
    {
     "data": {
      "text/plain": [
       "<xarray.Dataset>\n",
       "Dimensions:  (time: 162)\n",
       "Coordinates:\n",
       "    depth    float32 15.0\n",
       "    lat      (time) float64 37.58 37.32 37.38 36.97 ... 37.3 37.45 37.55 37.64\n",
       "    lon      (time) float64 -122.7 -122.8 -122.9 -122.7 ... -123.1 -122.9 -122.8\n",
       "  * time     (time) datetime64[ns] 2018-04-12 ... 2018-06-10T17:55:00\n",
       "Data variables:\n",
       "    u        (time) float64 0.02423 0.04211 0.04228 ... -0.05069 -0.0574\n",
       "    v        (time) float64 0.003738 -0.0401 -0.04799 ... -0.02103 -0.03263\n",
       "    um       (time) float64 0.02423 0.04211 0.04228 ... -0.05069 -0.0574\n",
       "    vm       (time) float64 0.003738 -0.0401 -0.04799 ... -0.02103 -0.03263\n",
       "Attributes:\n",
       "    VARIABLE:       Ocean Surface Currents\n",
       "    DATATYPE:       1/72 YEAR Interval\n",
       "    DATASUBTYPE:    unfiltered\n",
       "    GEORANGE:       20 to 420 -80 to 80\n",
       "    PERIOD:         Jan.01,2018 to Dec.26,2018\n",
       "    year:           2018\n",
       "    description:    OSCAR Third Degree Sea Surface Velocity\n",
       "    CREATION_DATE:  03:39 30-Jan-2019\n",
       "    version:        2009.0\n",
       "    source:         Gary Lagerloef, ESR (lager@esr.org) and Kathleen Dohan, E...\n",
       "    contact:        Kathleen Dohan (kdohan@esr.org) or John T. Gunn (gunn@esr...\n",
       "    company:        Earth & Space Research, Seattle, WA\n",
       "    reference:      Bonjean F. and G.S.E. Lagerloef, 2002 ,Diagnostic model a...\n",
       "    note1:          Maximum Mask velocity is the geostrophic component at all...\n",
       "    note2:          Longitude extends from 20 E to 420 E to avoid a break in ..."
      ]
     },
     "execution_count": 15,
     "metadata": {},
     "output_type": "execute_result"
    }
   ],
   "source": [
    "ds_collocated_averaged = subset.interp(lat=ds_new.lat,lon=ds_new.lon,time=ds_new.time,method='linear')\n",
    "ds_collocated_averaged"
   ]
  },
  {
   "cell_type": "code",
   "execution_count": 16,
   "metadata": {},
   "outputs": [],
   "source": [
    "ds_collocated_averaged.to_netcdf('F:/data/cruise_data/saildrone/baja-2018/oscar_downsampled_collocated_usv_data.nc')\n"
   ]
  },
  {
   "cell_type": "code",
   "execution_count": 17,
   "metadata": {},
   "outputs": [
    {
     "name": "stdout",
     "output_type": "stream",
     "text": [
      "mean,std dif speed [array(0.11182869), array(0.11352103)]\n",
      "mean,std dir [array(-0.40261571), array(62.62654293), 162]\n"
     ]
    }
   ],
   "source": [
    "ds_collocated_averaged['spd']=np.sqrt(ds_collocated_averaged.u**2+ds_collocated_averaged.v**2)\n",
    "ds_new['spd'] = np.sqrt(ds_new.vel_east**2+ds_new.vel_north**2)\n",
    "ds_collocated_averaged['dir']=np.arctan2(ds_collocated_averaged.v,ds_collocated_averaged.u)*180./np.pi\n",
    "ds_new['dir'] = np.arctan2(ds_new.vel_north,ds_new.vel_east)*180./np.pi\n",
    "\n",
    "usv_spd = ds_new.spd\n",
    "sat_spd = ds_collocated_averaged.spd\n",
    "usv_dir = ds_new.dir\n",
    "sat_dir = ds_collocated_averaged.dir\n",
    "dif_spd,dif_dir = usv_spd - sat_spd, usv_dir - sat_dir\n",
    "cond,cond2 = (dif_dir > 180),(dif_dir < -180)\n",
    "cond,cond2 = (dif_dir > 180),(dif_dir < -180)\n",
    "dif_dir[cond]-=360\n",
    "dif_dir[cond2]+=360\n",
    "print('mean,std dif speed',[dif_spd.mean().data,dif_spd.std().data])\n",
    "print('mean,std dir',[dif_dir.mean().data,dif_dir.std().data,dif_spd.shape[0]])\n",
    "\n"
   ]
  },
  {
   "cell_type": "code",
   "execution_count": 20,
   "metadata": {},
   "outputs": [
    {
     "data": {
      "image/png": "[encoded data removed]",
      "text/plain": [
       "<Figure size 360x288 with 1 Axes>"
      ]
     },
     "metadata": {
      "needs_background": "light"
     },
     "output_type": "display_data"
    }
   ],
   "source": [
    "fig, ax = plt.subplots(figsize=(5,4))\n",
    "ax.plot(usv_spd,dif_spd,'.')\n",
    "ax.grid(True)\n",
    "ax.set_xlabel('USV current speed (ms$^{-1}$)')\n",
    "ax.set_ylabel('USV - Sat current speed (ms$^{-1}$)')\n",
    "fig_fname='F:/data/cruise_data/saildrone/baja-2018/figs/sat_current_spd_both_bias.png'\n",
    "fig.savefig(fig_fname, transparent=False, format='png')\n"
   ]
  },
  {
   "cell_type": "code",
   "execution_count": 21,
   "metadata": {},
   "outputs": [
    {
     "data": {
      "image/png": "[encoded data removed]",
      "text/plain": [
       "<Figure size 360x288 with 1 Axes>"
      ]
     },
     "metadata": {
      "needs_background": "light"
     },
     "output_type": "display_data"
    }
   ],
   "source": [
    "fig, ax = plt.subplots(figsize=(5,4))\n",
    "ax.plot(usv_spd,dif_dir,'.')\n",
    "ax.set_xlabel('USV current speed (ms$^{-1}$)')\n",
    "ax.set_ylabel('USV - Sat current direction (deg)')\n",
    "fig_fname='F:/data/cruise_data/saildrone/baja-2018/figs/sat_current_both_bias.png'\n",
    "fig.savefig(fig_fname, transparent=False, format='png')\n"
   ]
  },
  {
   "cell_type": "code",
   "execution_count": null,
   "metadata": {},
   "outputs": [],
   "source": [
    "ds_usv_subset['cur_spd']=np.sqrt(ds_usv_subset.vel_east[:,0]**2+ds_usv_subset.vel_north[:,0]**2)\n",
    "ds_usv_6hr=ds_usv_subset.resample(time='6H').mean()\n",
    "ds_usv_6hr['cur_spd']=np.sqrt(ds_usv_6hr.vel_east[:,0]**2+ds_usv_6hr.vel_north[:,0]**2)\n",
    "\n",
    "plt.plot(ds_collocated_averaged.time,sat_spd,'.-')\n",
    "plt.plot(ds_collocated_averaged.time,usv_spd,'.-')\n",
    "plt.plot(ds_usv_6hr.time,ds_usv_6hr.cur_spd)\n",
    "plt.legend({'OSCAR','USV','USV-ave'})"
   ]
  },
  {
   "cell_type": "code",
   "execution_count": null,
   "metadata": {},
   "outputs": [],
   "source": [
    "#faster not sure why\n",
    "ilen,index = ds_collocated_nearest.dims['time'],0\n",
    "ds_tem = ds_collocated_nearest.copy(deep=True)\n",
    "duu,dvu, dlat, dlon, dut = [],[],[],[],np.empty((),dtype='datetime64')\n",
    "while index <= ilen-2:\n",
    "    index += 1\n",
    "    if np.isnan(ds_collocated_nearest.uwnd[index]):\n",
    "        continue\n",
    "    test = ds_collocated_nearest.where((ds_tem.uwnd==ds_collocated_nearest.uwnd[index])&(ds_tem.vwnd==ds_collocated_nearest.vwnd[index]))\n",
    "    test = test/test\n",
    "    if test.uwnd.sum()>0:\n",
    "        duu=np.append(duu,(ds_usv_subset.UWND_MEAN*test.uwnd).mean().data)\n",
    "        dvu=np.append(dvu,(ds_usv_subset.VWND_MEAN*test.vwnd).mean().data)\n",
    "        dlat=np.append(dlat,(ds_usv_subset.lat*test.lat).mean().data)\n",
    "        dlon=np.append(dlon,(ds_usv_subset.lon*test.lon).mean().data)\n",
    "        tdif = ds_usv_subset.time.where(test.vwnd==1).max().data-ds_usv_subset.time.where(test.vwnd==1).min().data\n",
    "        mtime=ds_usv_subset.time.where(test.vwnd==1).min().data+np.timedelta64(tdif/2,'ns')\n",
    "        dut=np.append(dut,mtime)\n",
    "        ds_tem=ds_tem.where(np.isnan(test),np.nan)  #you have used values, so set to nan\n",
    "dut2 = dut[1:]  #remove first data point which is a repeat from what array defined    \n",
    "ds_new2=xr.Dataset(data_vars={'u_usv': ('time',duu),\n",
    "                             'v_usv': ('time',dvu),\n",
    "                             'lon': ('time',dlon),\n",
    "                             'lat': ('time',dlat)},\n",
    "                  coords={'time':dut2})\n"
   ]
  },
  {
   "cell_type": "code",
   "execution_count": null,
   "metadata": {},
   "outputs": [],
   "source": [
    "#testing code above\n",
    "ds_tem = ds_collocated_nearest.copy(deep=True)\n",
    "print(ds_collocated_nearest.uwnd[1055].data)\n",
    "print(ds_collocated_nearest.uwnd[1050:1150].data)\n",
    "test = ds_collocated_nearest.where((ds_collocated_nearest.uwnd==ds_collocated_nearest.uwnd[1055])&(ds_collocated_nearest.vwnd==ds_collocated_nearest.vwnd[1055]))\n",
    "test = test/test\n",
    "print(test.uwnd[1050:1150].data)\n",
    "ds_tem=ds_tem.where(np.isnan(test),np.nan)\n",
    "print(ds_tem.uwnd[1050:1150].data)\n",
    "print((ds_usv_subset.UWND_MEAN*test.uwnd).mean())\n",
    "print((ds_usv_subset.VWND_MEAN*test.vwnd).mean())\n"
   ]
  },
  {
   "cell_type": "code",
   "execution_count": null,
   "metadata": {},
   "outputs": [],
   "source": [
    "from scipy.interpolate import griddata\n",
    "# interpolate\n",
    "points = (ds_usv_subset.lon.data,ds_usv_subset.lat.data)\n",
    "grid_in_lon,grid_in_lat = np.meshgrid(subset.lon.data,subset.lat.data)\n",
    "grid_in = (grid_in_lon,grid_in_lat)\n",
    "values = ds_usv_subset.UWND_MEAN.data\n",
    "#print(points.size)\n",
    "zi = griddata(points,values,grid_in,method='linear',fill_value=np.nan)\n",
    "zi2 = griddata(points,values/values,grid_in,method='linear',fill_value=np.nan)\n",
    "print(np.isfinite(zi).sum())"
   ]
  },
  {
   "cell_type": "code",
   "execution_count": null,
   "metadata": {},
   "outputs": [],
   "source": [
    "plt.pcolormesh(subset.lon,subset.lat,zi,vmin=-5,vmax=5)\n",
    "plt.plot(ds_usv_subset.lon,ds_usv_subset.lat,'.')\n",
    "#plt.contourf(subset.uwnd[0,:,:])"
   ]
  },
  {
   "cell_type": "code",
   "execution_count": null,
   "metadata": {},
   "outputs": [],
   "source": [
    "len(points[0])"
   ]
  },
  {
   "cell_type": "code",
   "execution_count": null,
   "metadata": {},
   "outputs": [],
   "source": [
    "from scipy.interpolate.interpnd import _ndim_coords_from_arrays\n",
    "from scipy.spatial import cKDTree\n",
    "\n",
    "THRESHOLD=1\n",
    "# Construct kd-tree, functionality copied from scipy.interpolate\n",
    "tree = cKDTree(points)\n",
    "xi = _ndim_coords_from_arrays(grid_in, ndim=len(points[0]))\n",
    "dists, indexes = tree.query(xi)\n",
    "\n",
    "# Copy original result but mask missing values with NaNs\n",
    "result3 = result2[:]\n",
    "result3[dists > THRESHOLD] = np.nan\n",
    "\n",
    "# Show\n",
    "plt.figimage(result3)\n",
    "plt.show()"
   ]
  },
  {
   "cell_type": "code",
   "execution_count": null,
   "metadata": {},
   "outputs": [],
   "source": [
    "#testing\n",
    "index=300\n",
    "ds_tem = ds_collocated_nearest.copy(deep=True)\n",
    "cond = ((ds_tem.uwnd==ds_collocated_nearest.uwnd[index]) & (ds_tem.vwnd==ds_collocated_nearest.vwnd[index]))\n",
    "notcond = ((ds_tem.uwnd!=ds_collocated_nearest.uwnd[index]) & (ds_tem.vwnd!=ds_collocated_nearest.vwnd[index]))\n",
    "masked = ds_tem.where(cond)\n",
    "masked_usv = ds_usv_subset.where(cond,drop=True)\n",
    "print(masked.uwnd.sum().data)\n",
    "#print(masked.nobs[290:310].data)\n",
    "print((masked_usv.UWND_MEAN).mean().data)\n",
    "print(ds_tem.uwnd[243:316])\n",
    "ds_tem=ds_tem.where(notcond,np.nan)  #you have used values, so set to nan\n",
    "print(ds_tem.uwnd[243:316])\n"
   ]
  },
  {
   "cell_type": "code",
   "execution_count": null,
   "metadata": {},
   "outputs": [],
   "source": []
  }
 ],
 "metadata": {
  "kernelspec": {
   "display_name": "Python 3",
   "language": "python",
   "name": "python3"
  },
  "language_info": {
   "codemirror_mode": {
    "name": "ipython",
    "version": 3
   },
   "file_extension": ".py",
   "mimetype": "text/x-python",
   "name": "python",
   "nbconvert_exporter": "python",
   "pygments_lexer": "ipython3",
   "version": "3.7.0"
  }
 },
 "nbformat": 4,
 "nbformat_minor": 1
}
