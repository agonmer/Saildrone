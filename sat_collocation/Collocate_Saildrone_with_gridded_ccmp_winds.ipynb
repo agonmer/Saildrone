{
 "cells": [
  {
   "cell_type": "markdown",
   "metadata": {},
   "source": [
    "This is the Saildrone and CCMP collocation code. \n"
   ]
  },
  {
   "cell_type": "code",
   "execution_count": 20,
   "metadata": {},
   "outputs": [],
   "source": [
    "import os\n",
    "import numpy as np\n",
    "import matplotlib.pyplot as plt\n",
    "from datetime import datetime, timedelta\n",
    "from netCDF4 import Dataset, date2index, num2date\n",
    "import datetime as dt\n",
    "from math import atan2\n",
    "import xarray as xr\n",
    "\n",
    "def get_ccmp(lyr,idyjl):\n",
    "    iexist,ds=[]\n",
    "    dir_ccmp='F:/data/sat_data/ccmp/v02.0/'\n",
    "    d = dt.datetime(2010,1,1) + dt.timedelta(days=idyjl-1)\n",
    "    day_of_year, imon, idym = d.timetuple().tm_yday, d.month, d.day\n",
    "    syr, smon, sdym, sjdy=str(lyr),str(imon),str(idym),str(idyjl)\n",
    "    fname_tem='/CCMP_Wind_Analysis_' + syr + smon.zfill(2) + sdym.zfill(2) + '_V02.0_L3.0_RSS.nc'\n",
    "    ccmp_filename = dir_ccmp + 'Y' + syr + '/M' + smon.zfill(2) + fname_tem      \n",
    "    exists = os.path.isfile(ccmp_filename)\n",
    "    if exists==False:\n",
    "        fname_tem='/CCMP_RT_Wind_Analysis_' + syr + smon.zfill(2) + sdym.zfill(2) + '_V02.0_L3.0_RSS.nc'\n",
    "        ccmp_filename = dir_ccmp + 'Y' + syr + '/M' + smon.zfill(2) + fname_tem      \n",
    "        exists = os.path.isfile(ccmp_filename)\n",
    "   # print(exists,ccmp_filename)\n",
    "    if exists:       \n",
    "        ds=xr.open_dataset(ccmp_filename,drop_variables=['nobs'])\n",
    "        ds = ds.rename({'longitude':'lon','latitude':'lat'}) #, inplace = True)  \n",
    "        ds = ds.assign_coords(lon=(((ds.lon + 180) % 360) - 180)).sortby('lon').sortby('lat')\n",
    "        #ds['spd']=np.sqrt(ds.uwnd**2+ds.vwnd**2)\n",
    "        iexist=1\n",
    "    return ds, iexist\n",
    "\n",
    "def get_ccmp_filename(date):\n",
    "    dir_ccmp='F:/data/sat_data/ccmp/v02.0/'\n",
    "#    d = dt.datetime(lyr,1,1) + dt.timedelta(days=idyjl-1)\n",
    "    lyr, idyjl, imon, idym = date.dt.year.data, date.dt.dayofyear.data, date.dt.month.data, date.dt.day.data\n",
    "    syr, smon, sdym, sjdy=str(lyr),str(imon),str(idym),str(idyjl)\n",
    "    fname_tem='/CCMP_Wind_Analysis_' + syr + smon.zfill(2) + sdym.zfill(2) + '_V02.0_L3.0_RSS.nc'\n",
    "    ccmp_filename = dir_ccmp + 'Y' + syr + '/M' + smon.zfill(2) + fname_tem      \n",
    "    exists = os.path.isfile(ccmp_filename)\n",
    "    if exists==False:\n",
    "        fname_tem='/CCMP_RT_Wind_Analysis_' + syr + smon.zfill(2) + sdym.zfill(2) + '_V02.0_L3.0_RSS.nc'\n",
    "        ccmp_filename = dir_ccmp + 'Y' + syr + '/M' + smon.zfill(2) + fname_tem      \n",
    "        exists = os.path.isfile(ccmp_filename)\n",
    "   # print(exists,ccmp_filename)\n",
    "    return ccmp_filename, exists\n"
   ]
  },
  {
   "cell_type": "code",
   "execution_count": 21,
   "metadata": {},
   "outputs": [
    {
     "name": "stdout",
     "output_type": "stream",
     "text": [
      "[3.03 3.78 4.51 3.6  3.   3.91 4.96 4.16 4.41 4.65]\n"
     ]
    }
   ],
   "source": [
    "filename_collocation_data = 'F:/data/cruise_data/saildrone/baja-2018/ccmp_collocation_data.nc'\n",
    "#filename_usv = 'https://podaac-opendap.jpl.nasa.gov/opendap/hyrax/allData/insitu/L2/saildrone/Baja/saildrone-gen_4-baja_2018-sd1002-20180411T180000-20180611T055959-1_minutes-v1.nc'\n",
    "filename_usv='f:/data/cruise_data/saildrone/baja-2018/saildrone-gen_4-baja_2018-sd1002-20180411T180000-20180611T055959-1_minutes-v1.nc'\n",
    "#filename_usv='f:/data/cruise_data/saildrone/baja-2018/old_versions/saildrone-gen_5-baja_2018-sd1002-20180411T180000-20180611T055959-1_minutes-v2.1535585233403.nc'\n",
    "ds_usv = xr.open_dataset(filename_usv)\n",
    "ds_usv.close()\n",
    "ds_usv = ds_usv.isel(trajectory=0)  \n",
    "ds_usv = ds_usv.swap_dims({'obs':'time'})\n",
    "ds_usv = ds_usv.rename({'longitude':'lon','latitude':'lat'})\n",
    "#there are 6 nan values\n",
    "ds_usv['lon'] = ds_usv.lon.interpolate_na(dim='time',method='linear')\n",
    "ds_usv['lat'] = ds_usv.lat.interpolate_na(dim='time',method='linear')\n",
    "ds_usv_subset = ds_usv.dropna(dim='time',subset={'UWND_MEAN'})   #get rid of all the nan\n",
    "print(ds_usv_subset.UWND_MEAN[2000:2010].values)"
   ]
  },
  {
   "cell_type": "code",
   "execution_count": 22,
   "metadata": {},
   "outputs": [
    {
     "name": "stdout",
     "output_type": "stream",
     "text": [
      "2018-04-11T18:00:00.000000000\n",
      "2018-04-14T18:00:00.000000000\n"
     ]
    }
   ],
   "source": [
    "start_date = ds_usv.time.min()\n",
    "end_date = ds_usv.time.max()\n",
    "date = start_date.data\n",
    "print(date)\n",
    "date = date+np.timedelta64(3,'D')\n",
    "print(date)\n"
   ]
  },
  {
   "cell_type": "code",
   "execution_count": 39,
   "metadata": {},
   "outputs": [],
   "source": [
    "#create list of ccmp filenames to input\n",
    "start_date,end_date = ds_usv.time.min(),ds_usv.time.max()\n",
    "date,filelist = start_date,[]\n",
    "while date<=(end_date+np.timedelta64(1,'D')):\n",
    "    tem_filename, exists = get_ccmp_filename(date)\n",
    "    if exists:\n",
    "        filelist.append(tem_filename)\n",
    "    date=date+np.timedelta64(1,'D')"
   ]
  },
  {
   "cell_type": "code",
   "execution_count": 37,
   "metadata": {},
   "outputs": [
    {
     "data": {
      "text/plain": [
       "<xarray.Dataset>\n",
       "Dimensions:  (lat: 628, lon: 1440, time: 248)\n",
       "Coordinates:\n",
       "  * lon      (lon) float32 -179.875 -179.625 -179.375 ... 179.625 179.875\n",
       "  * lat      (lat) float32 -78.375 -78.125 -77.875 ... 77.875 78.125 78.375\n",
       "  * time     (time) datetime64[ns] 2018-04-11 ... 2018-06-11T18:00:00\n",
       "Data variables:\n",
       "    uwnd     (time, lat, lon) float32 dask.array<shape=(248, 628, 1440), chunksize=(4, 628, 1440)>\n",
       "    vwnd     (time, lat, lon) float32 dask.array<shape=(248, 628, 1440), chunksize=(4, 628, 1440)>\n",
       "    nobs     (time, lat, lon) float32 dask.array<shape=(248, 628, 1440), chunksize=(4, 628, 1440)>\n",
       "Attributes:\n",
       "    contact:                    Remote Sensing Systems, support@remss.com\n",
       "    Conventions:                CF-1.6\n",
       "    data_structure:             grid\n",
       "    title:                      RSS CCMP_RT V2.1 derived surface winds (Level...\n",
       "    history:                    20180426T175522ZZ - netCDF generated from ori...\n",
       "    description:                RSS VAM 6-hour analyses starting from the NCE...\n",
       "    summary:                    CCMP_RT V2.1 has been created using the same ...\n",
       "    institute_id:               RSS\n",
       "    institution:                Remote Sensing Systems (RSS)\n",
       "    base_date:                  Y2018 M04 D11\n",
       "    comment:                    none\n",
       "    license:                    available for public use with proper citation\n",
       "    product_version:            v2.1\n",
       "    netcdf_version_id:          4.2\n",
       "    date_created:               20180426T175522Z\n",
       "    geospatial_lat_units:       degrees_north\n",
       "    geospatial_lat_resolution:  0.25 degrees\n",
       "    geospatial_lat_min:         -78.375 degrees\n",
       "    geospatial_lat_max:         78.375 degrees\n",
       "    geospatial_lon_units:       degrees_east\n",
       "    geospatial_lon_resolution:  0.25 degrees\n",
       "    geospatial_lon_min:         0.125 degrees\n",
       "    geospatial_lon_max:         359.875 degrees\n",
       "    creator_name:               Remote Sensing Systems\n",
       "    creator_email:              support@remss.com\n",
       "    creator_url:                http://www.remss.com/\n",
       "    project:                    RSS Cross-Calibrated Multi-Platform Ocean Sur...\n",
       "    publisher_name:             Remote Sensing Systems\n",
       "    publisher_email:            support@remss.com\n",
       "    publisher_url:              http://www.remss.com/\n",
       "    contributor_name:           Carl Mears, Joel Scott, Frank Wentz, Ross Hof...\n",
       "    contributor_role:           Co-Investigator, Software Engineer, Project L...\n",
       "    processing_level:           L3.0\n",
       "    keywords:                   surface winds, ocean winds, wind speed/wind d...\n",
       "    keywords_vocabulary:        GCMD Science Keywords\n",
       "    references:                 Hoffman et al., Journal of Atmospheric and Oc..."
      ]
     },
     "execution_count": 37,
     "metadata": {},
     "output_type": "execute_result"
    }
   ],
   "source": [
    "#ds_sat,iexist = get_ccmp(2018,102)\n",
    "#ccmp_path = 'F:/data/sat_data/ccmp/v02.0/Y2018/M04/'\n",
    "ds_sat = xr.open_mfdataset(filelist,coords='minimal')\n",
    "ds_sat = ds_sat.rename({'longitude':'lon','latitude':'lat'}) #, inplace = True)  \n",
    "ds_sat = ds_sat.assign_coords(lon=(((ds_sat.lon + 180) % 360) - 180)).sortby('lon').sortby('lat')\n",
    "ds_sat"
   ]
  },
  {
   "cell_type": "code",
   "execution_count": 44,
   "metadata": {},
   "outputs": [
    {
     "name": "stdout",
     "output_type": "stream",
     "text": [
      "-78.375 78.375 -179.875 179.875\n",
      "28.0176832 37.8174912 -125.55297279999999 -115.5226624\n"
     ]
    },
    {
     "data": {
      "text/plain": [
       "<xarray.Dataset>\n",
       "Dimensions:  (lat: 39, lon: 40, time: 248)\n",
       "Coordinates:\n",
       "  * lon      (lon) float32 -125.375 -125.125 -124.875 ... -115.875 -115.625\n",
       "  * lat      (lat) float32 28.125 28.375 28.625 28.875 ... 37.125 37.375 37.625\n",
       "  * time     (time) datetime64[ns] 2018-04-11 ... 2018-06-11T18:00:00\n",
       "Data variables:\n",
       "    uwnd     (time, lat, lon) float32 dask.array<shape=(248, 39, 40), chunksize=(248, 39, 40)>\n",
       "    vwnd     (time, lat, lon) float32 dask.array<shape=(248, 39, 40), chunksize=(248, 39, 40)>\n",
       "    nobs     (time, lat, lon) float32 dask.array<shape=(248, 39, 40), chunksize=(248, 39, 40)>\n",
       "Attributes:\n",
       "    contact:                    Remote Sensing Systems, support@remss.com\n",
       "    Conventions:                CF-1.6\n",
       "    data_structure:             grid\n",
       "    title:                      RSS CCMP_RT V2.1 derived surface winds (Level...\n",
       "    history:                    20180426T175522ZZ - netCDF generated from ori...\n",
       "    description:                RSS VAM 6-hour analyses starting from the NCE...\n",
       "    summary:                    CCMP_RT V2.1 has been created using the same ...\n",
       "    institute_id:               RSS\n",
       "    institution:                Remote Sensing Systems (RSS)\n",
       "    base_date:                  Y2018 M04 D11\n",
       "    comment:                    none\n",
       "    license:                    available for public use with proper citation\n",
       "    product_version:            v2.1\n",
       "    netcdf_version_id:          4.2\n",
       "    date_created:               20180426T175522Z\n",
       "    geospatial_lat_units:       degrees_north\n",
       "    geospatial_lat_resolution:  0.25 degrees\n",
       "    geospatial_lat_min:         -78.375 degrees\n",
       "    geospatial_lat_max:         78.375 degrees\n",
       "    geospatial_lon_units:       degrees_east\n",
       "    geospatial_lon_resolution:  0.25 degrees\n",
       "    geospatial_lon_min:         0.125 degrees\n",
       "    geospatial_lon_max:         359.875 degrees\n",
       "    creator_name:               Remote Sensing Systems\n",
       "    creator_email:              support@remss.com\n",
       "    creator_url:                http://www.remss.com/\n",
       "    project:                    RSS Cross-Calibrated Multi-Platform Ocean Sur...\n",
       "    publisher_name:             Remote Sensing Systems\n",
       "    publisher_email:            support@remss.com\n",
       "    publisher_url:              http://www.remss.com/\n",
       "    contributor_name:           Carl Mears, Joel Scott, Frank Wentz, Ross Hof...\n",
       "    contributor_role:           Co-Investigator, Software Engineer, Project L...\n",
       "    processing_level:           L3.0\n",
       "    keywords:                   surface winds, ocean winds, wind speed/wind d...\n",
       "    keywords_vocabulary:        GCMD Science Keywords\n",
       "    references:                 Hoffman et al., Journal of Atmospheric and Oc..."
      ]
     },
     "execution_count": 44,
     "metadata": {},
     "output_type": "execute_result"
    }
   ],
   "source": [
    "#make ds_sat smaller by slicing to only relevant lat/lon region\n",
    "subset = ds_sat.sel(lon=slice(ds_usv.lon.min().data,ds_usv.lon.max().data),lat=slice(ds_usv.lat.min().data,ds_usv.lat.max().data))\n",
    "#now we have a smaller dataset so make chuncks same size as array otherwise interp will throw an error\n",
    "subset_chuncked = subset.chunk({'time': 248, 'lat': 39, 'lon':40})\n",
    "subset_chuncked"
   ]
  },
  {
   "cell_type": "code",
   "execution_count": 51,
   "metadata": {},
   "outputs": [
    {
     "data": {
      "text/plain": [
       "<xarray.Dataset>\n",
       "Dimensions:     (time: 17613)\n",
       "Coordinates:\n",
       "    lat         (time) float64 37.81 37.81 37.81 37.81 ... 37.78 37.78 37.78\n",
       "    lon         (time) float64 -122.4 -122.4 -122.4 ... -122.3 -122.3 -122.3\n",
       "  * time        (time) datetime64[ns] 2018-04-11T18:00:00 ... 2018-06-11T05:34:00\n",
       "    trajectory  float32 1002.0\n",
       "Data variables:\n",
       "    uwnd        (time) float32 dask.array<shape=(17613,), chunksize=(17613,)>\n",
       "    vwnd        (time) float32 dask.array<shape=(17613,), chunksize=(17613,)>\n",
       "    nobs        (time) float32 dask.array<shape=(17613,), chunksize=(17613,)>\n",
       "Attributes:\n",
       "    contact:                    Remote Sensing Systems, support@remss.com\n",
       "    Conventions:                CF-1.6\n",
       "    data_structure:             grid\n",
       "    title:                      RSS CCMP_RT V2.1 derived surface winds (Level...\n",
       "    history:                    20180426T175522ZZ - netCDF generated from ori...\n",
       "    description:                RSS VAM 6-hour analyses starting from the NCE...\n",
       "    summary:                    CCMP_RT V2.1 has been created using the same ...\n",
       "    institute_id:               RSS\n",
       "    institution:                Remote Sensing Systems (RSS)\n",
       "    base_date:                  Y2018 M04 D11\n",
       "    comment:                    none\n",
       "    license:                    available for public use with proper citation\n",
       "    product_version:            v2.1\n",
       "    netcdf_version_id:          4.2\n",
       "    date_created:               20180426T175522Z\n",
       "    geospatial_lat_units:       degrees_north\n",
       "    geospatial_lat_resolution:  0.25 degrees\n",
       "    geospatial_lat_min:         -78.375 degrees\n",
       "    geospatial_lat_max:         78.375 degrees\n",
       "    geospatial_lon_units:       degrees_east\n",
       "    geospatial_lon_resolution:  0.25 degrees\n",
       "    geospatial_lon_min:         0.125 degrees\n",
       "    geospatial_lon_max:         359.875 degrees\n",
       "    creator_name:               Remote Sensing Systems\n",
       "    creator_email:              support@remss.com\n",
       "    creator_url:                http://www.remss.com/\n",
       "    project:                    RSS Cross-Calibrated Multi-Platform Ocean Sur...\n",
       "    publisher_name:             Remote Sensing Systems\n",
       "    publisher_email:            support@remss.com\n",
       "    publisher_url:              http://www.remss.com/\n",
       "    contributor_name:           Carl Mears, Joel Scott, Frank Wentz, Ross Hof...\n",
       "    contributor_role:           Co-Investigator, Software Engineer, Project L...\n",
       "    processing_level:           L3.0\n",
       "    keywords:                   surface winds, ocean winds, wind speed/wind d...\n",
       "    keywords_vocabulary:        GCMD Science Keywords\n",
       "    references:                 Hoffman et al., Journal of Atmospheric and Oc..."
      ]
     },
     "execution_count": 51,
     "metadata": {},
     "output_type": "execute_result"
    }
   ],
   "source": [
    "ds_sat2 = subset_chuncked.interp(lat=ds_usv_subset.lat,lon=ds_usv_subset.lon,time=ds_usv_subset.time,method='linear')\n",
    "#print(ds_sat2.uwnd.sel(time=slice('2018-04-12','2018-04-12')).values)\n",
    "ds_sat2"
   ]
  },
  {
   "cell_type": "code",
   "execution_count": 53,
   "metadata": {},
   "outputs": [
    {
     "data": {
      "text/plain": [
       "<xarray.DataArray 'uwnd' (variable: 3, time: 17613)>\n",
       "dask.array<shape=(3, 17613), dtype=float32, chunksize=(1, 17613)>\n",
       "Coordinates:\n",
       "    lat         (time) float64 37.81 37.81 37.81 37.81 ... 37.78 37.78 37.78\n",
       "    lon         (time) float64 -122.4 -122.4 -122.4 ... -122.3 -122.3 -122.3\n",
       "  * time        (time) datetime64[ns] 2018-04-11T18:00:00 ... 2018-06-11T05:34:00\n",
       "    trajectory  float32 1002.0\n",
       "  * variable    (variable) <U4 'uwnd' 'vwnd' 'nobs'\n",
       "Attributes:\n",
       "    contact:                    Remote Sensing Systems, support@remss.com\n",
       "    Conventions:                CF-1.6\n",
       "    data_structure:             grid\n",
       "    title:                      RSS CCMP_RT V2.1 derived surface winds (Level...\n",
       "    history:                    20180426T175522ZZ - netCDF generated from ori...\n",
       "    description:                RSS VAM 6-hour analyses starting from the NCE...\n",
       "    summary:                    CCMP_RT V2.1 has been created using the same ...\n",
       "    institute_id:               RSS\n",
       "    institution:                Remote Sensing Systems (RSS)\n",
       "    base_date:                  Y2018 M04 D11\n",
       "    comment:                    none\n",
       "    license:                    available for public use with proper citation\n",
       "    product_version:            v2.1\n",
       "    netcdf_version_id:          4.2\n",
       "    date_created:               20180426T175522Z\n",
       "    geospatial_lat_units:       degrees_north\n",
       "    geospatial_lat_resolution:  0.25 degrees\n",
       "    geospatial_lat_min:         -78.375 degrees\n",
       "    geospatial_lat_max:         78.375 degrees\n",
       "    geospatial_lon_units:       degrees_east\n",
       "    geospatial_lon_resolution:  0.25 degrees\n",
       "    geospatial_lon_min:         0.125 degrees\n",
       "    geospatial_lon_max:         359.875 degrees\n",
       "    creator_name:               Remote Sensing Systems\n",
       "    creator_email:              support@remss.com\n",
       "    creator_url:                http://www.remss.com/\n",
       "    project:                    RSS Cross-Calibrated Multi-Platform Ocean Sur...\n",
       "    publisher_name:             Remote Sensing Systems\n",
       "    publisher_email:            support@remss.com\n",
       "    publisher_url:              http://www.remss.com/\n",
       "    contributor_name:           Carl Mears, Joel Scott, Frank Wentz, Ross Hof...\n",
       "    contributor_role:           Co-Investigator, Software Engineer, Project L...\n",
       "    processing_level:           L3.0\n",
       "    keywords:                   surface winds, ocean winds, wind speed/wind d...\n",
       "    keywords_vocabulary:        GCMD Science Keywords\n",
       "    references:                 Hoffman et al., Journal of Atmospheric and Oc..."
      ]
     },
     "execution_count": 53,
     "metadata": {},
     "output_type": "execute_result"
    }
   ],
   "source": [
    "ds_sat_xr = ds_sat2.to_array(name='uwnd')\n",
    "ds_sat_xr"
   ]
  },
  {
   "cell_type": "code",
   "execution_count": 50,
   "metadata": {},
   "outputs": [
    {
     "data": {
      "text/plain": [
       "<xarray.DataArray ()>\n",
       "dask.array<shape=(), dtype=float64, chunksize=()>\n",
       "Coordinates:\n",
       "    trajectory  float32 1002.0"
      ]
     },
     "execution_count": 50,
     "metadata": {},
     "output_type": "execute_result"
    }
   ],
   "source": [
    "(ds_sat2.uwnd-ds_usv.UWND_MEAN).mean()"
   ]
  },
  {
   "cell_type": "code",
   "execution_count": null,
   "metadata": {},
   "outputs": [],
   "source": [
    "ds_sat2.uwnd[327]"
   ]
  },
  {
   "cell_type": "code",
   "execution_count": null,
   "metadata": {},
   "outputs": [],
   "source": []
  },
  {
   "cell_type": "code",
   "execution_count": null,
   "metadata": {},
   "outputs": [],
   "source": []
  },
  {
   "cell_type": "code",
   "execution_count": null,
   "metadata": {},
   "outputs": [],
   "source": [
    "lats_usv=ds_usv.latitude.values\n",
    "lons_usv=ds_usv.longitude.values\n",
    "skin=ds_usv.TEMP_IR_UNCOR_MEAN.values\n",
    "tair=ds_usv.TEMP_AIR_MEAN.values\n",
    "bulk1=ds_usv.TEMP_CTD_MEAN.values\n",
    "bulk2=ds_usv.TEMP_O2_MEAN.values\n",
    "uspd=ds_usv.UWND_MEAN.values\n",
    "vspd=ds_usv.VWND_MEAN.values\n",
    "wing=ds_usv.HDG_WING.values\n",
    "wing_ang=ds_usv.WING_ANGLE.values\n",
    "pitch=ds_usv.PITCH.values\n",
    "heading=ds_usv.HDG_WING.values\n",
    "yaw_heading=ds_usv.HDG.values\n",
    "roll=ds_usv.ROLL.values\n",
    "tdim=len(skin)\n",
    "wdir=np.zeros(tdim)\n",
    "for i in range(0,tdim):\n",
    "    wdir[i]=atan2(vspd[i],uspd[i])*180/3.14159\n",
    "wspd=(uspd**2+vspd**2)**.5"
   ]
  },
  {
   "cell_type": "code",
   "execution_count": null,
   "metadata": {},
   "outputs": [],
   "source": [
    "ds_sat = get_ccmp(2018,170)\n"
   ]
  },
  {
   "cell_type": "code",
   "execution_count": null,
   "metadata": {},
   "outputs": [],
   "source": [
    "#get lat/lon from random file, it doesn't change\n",
    "ds_sat = get_ccmp(2003,1)\n",
    "lats_sat = ds_sat.lat\n",
    "lons_sat = ds_sat.lon\n",
    "ds_sat.close()\n",
    "#initialize variables\n",
    "latli_sv=-99\n",
    "lonli_sv=-99\n",
    "ihr_sv=-99\n",
    "col_count=0  #initialize\n",
    "gsst=np.zeros(tdim)\n",
    "gsst_num=np.zeros(tdim)\n",
    "#get goes data collocated with usv positions and times\n",
    "for i in range(0,10): #tdim):\n",
    "    latli = np.argmin( np.abs( lats_sat - lats_usv[i] ) )\n",
    "    lonli = np.argmin( np.abs( lons_sat - lons_usv[i] ) )\n",
    "    idy = ds_usv.time[i].dt.day.data        \n",
    "    if (latli!=latli_sv) or (lonli_sv!=lonli) or (idy_sv!=idy):  #need to read in new data\n",
    "        ds_sat = get_ccmp(ds_usv.time[i].dt.year.data,ds_usv.time[i].dt.dayofyear.data)\n",
    "        col_count += 1\n",
    "        gsst[i] = sat_sst\n",
    "        gsst_num[i] = col_count  #this is to keep track of when a new file read in or new collocation point\n",
    "        nc.close()\n",
    "        latli_sv=latli\n",
    "        lonli_sv=lonli\n",
    "        ihr_sv=ds_usv.time[i].dt.hour.data\n",
    "        print(i,tdim,lonli.data, latli.data,ihr_sv,gsst[i])\n",
    "    else:  #collocation is to same gsst point\n",
    "        gsst[i] = sat_sst \n",
    "        gsst_num[i] = col_count  #this is to keep track of when a new file read in or new collocation point\n"
   ]
  },
  {
   "cell_type": "code",
   "execution_count": null,
   "metadata": {},
   "outputs": [],
   "source": [
    "#put into xarray dataset similiar in format to usv data\n",
    "gsst2=np.zeros((1,tdim))\n",
    "gsst_tem=np.zeros((1,tdim))\n",
    "gsst2[0,:]=gsst\n",
    "data_goes = xr.DataArray(gsst2, coords={'trajectory': ds_usv.trajectory,'obs': ds_usv.obs}, dims=('trajectory', 'obs'))\n",
    "gsst_tem[0,:]=gsst_num\n",
    "num_goes = xr.DataArray(gsst_tem, coords={'trajectory': ds_usv.trajectory,'obs': ds_usv.obs}, dims=('trajectory', 'obs'))\n",
    "xr_gsst = xr.Dataset({'goes_sst': data_goes, 'collocation_index': num_goes}, \n",
    "                     coords={'trajectory':ds_usv.trajectory, 'time':ds_usv.time, 'latitude':ds_usv.latitude, 'longitude':ds_usv.longitude})   \n"
   ]
  },
  {
   "cell_type": "code",
   "execution_count": null,
   "metadata": {},
   "outputs": [],
   "source": [
    "xr_gsst\n",
    "\n"
   ]
  },
  {
   "cell_type": "code",
   "execution_count": null,
   "metadata": {},
   "outputs": [],
   "source": [
    "#np.save(filename_goes_sst, gsst)"
   ]
  },
  {
   "cell_type": "code",
   "execution_count": null,
   "metadata": {},
   "outputs": [],
   "source": []
  },
  {
   "cell_type": "code",
   "execution_count": null,
   "metadata": {},
   "outputs": [],
   "source": []
  }
 ],
 "metadata": {
  "kernelspec": {
   "display_name": "Python 3",
   "language": "python",
   "name": "python3"
  },
  "language_info": {
   "codemirror_mode": {
    "name": "ipython",
    "version": 3
   },
   "file_extension": ".py",
   "mimetype": "text/x-python",
   "name": "python",
   "nbconvert_exporter": "python",
   "pygments_lexer": "ipython3",
   "version": "3.7.0"
  }
 },
 "nbformat": 4,
 "nbformat_minor": 1
}
