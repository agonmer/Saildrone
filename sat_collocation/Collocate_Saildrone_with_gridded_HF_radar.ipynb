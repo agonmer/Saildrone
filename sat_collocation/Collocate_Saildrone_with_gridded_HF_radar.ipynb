{
 "cells": [
  {
   "cell_type": "markdown",
   "metadata": {},
   "source": [
    "# This is the Saildrone and HF Radar collocation code. \n",
    "- There is a 0.5 scale problem in the comparisons, which is pretty close to the conversion between knots to m/s and I'm worried that somewhere there is a problem with the ADCP data\n"
   ]
  },
  {
   "cell_type": "code",
   "execution_count": null,
   "metadata": {},
   "outputs": [],
   "source": [
    "import os\n",
    "import numpy as np\n",
    "import matplotlib.pyplot as plt\n",
    "import datetime as dt\n",
    "import xarray as xr\n"
   ]
  },
  {
   "cell_type": "markdown",
   "metadata": {},
   "source": [
    "# Read in USV data\n",
    "Read in the Saildrone USV file either from a local disc or using OpenDAP.\n",
    "\n",
    "There are 6 NaN values in the lat/lon data arrays, interpolate across these\n",
    "\n",
    "We want to collocate with wind vectors for this example,  but the wind vectors are only every 10 minutes rather than every minute, so use .dropna to remove all values in the dataset from all dataarrays when wind vectors aren't availalbe"
   ]
  },
  {
   "cell_type": "code",
   "execution_count": null,
   "metadata": {},
   "outputs": [],
   "source": [
    "filename_usv='https://podaac-opendap.jpl.nasa.gov/opendap/allData/insitu/L2/saildrone/Baja/saildrone-gen_4-baja_2018-sd1002-adcp-20180411T175730-20180611T235730_300s-v1.nc'\n",
    "ds_usv = xr.open_dataset(filename_usv)\n",
    "ds_usv = ds_usv.swap_dims({'cell':'cell_depth'})\n",
    "ds_usv = ds_usv.isel(cell_depth=0)\n",
    "ds_usv = ds_usv.isel(trajectory=0).drop('trajectory')\n",
    "ds_usv = ds_usv.swap_dims({'obs':'time'})\n",
    "ds_usv = ds_usv.rename({'longitude':'lon','latitude':'lat'})\n",
    "ds_usv = ds_usv.sel(time=slice('2018-04-11T18:30','2018-06-10T18:00'))  #first part of data is when USV being towed, elminiate\n",
    "ds_usv2 = ds_usv.copy(deep=True)\n",
    "ds_usv_subset = ds_usv.copy(deep=True)\n",
    "ds_usv_subset2 = ds_usv2.copy(deep=True)\n",
    "ds_usv_subset['spd']=np.sqrt(ds_usv_subset.vel_east**2+ds_usv_subset.vel_north**2)\n",
    "ds_usv_subset['dir']=np.arctan2(ds_usv_subset.vel_north,ds_usv_subset.vel_east)*180/np.pi\n",
    "ds_usv_subset['ship_spd']=np.sqrt(ds_usv_subset.ship_vel_east**2+ds_usv_subset.ship_vel_north**2)\n",
    "ds_usv_subset['ship_dir']=np.arctan2(ds_usv_subset.ship_vel_north,ds_usv_subset.ship_vel_east)*180/np.pi\n",
    "ds_usv_subset\n"
   ]
  },
  {
   "cell_type": "code",
   "execution_count": null,
   "metadata": {},
   "outputs": [],
   "source": [
    "ds_usv.vel_east.attrs['units']  #just to show it says ms-1 as units"
   ]
  },
  {
   "cell_type": "markdown",
   "metadata": {},
   "source": [
    "# Read in HFradar data\n",
    "\n",
    "\n"
   ]
  },
  {
   "cell_type": "code",
   "execution_count": null,
   "metadata": {},
   "outputs": [],
   "source": [
    "#hf_filename = 'http://hfrnet-tds.ucsd.edu/thredds/dodsC/HFR/USWC/2km/hourly/RTV/HFRADAR_US_West_Coast_2km_Resolution_Hourly_RTV_best.ncd'\n",
    "hf_filename = 'http://hfrnet-tds.ucsd.edu/thredds/dodsC/HFR/USWC/6km/hourly/RTV/HFRADAR_US_West_Coast_6km_Resolution_Hourly_RTV_best.ncd'\n",
    "ds_sat = xr.open_dataset(hf_filename)\n",
    "subset = ds_sat.sel(lon=slice(ds_usv_subset.lon.min().data,ds_usv_subset.lon.max().data),\n",
    "                    lat=slice(ds_usv_subset.lat.min().data,ds_usv_subset.lat.max().data),\n",
    "                   time=slice(ds_usv_subset.time.min().data,ds_usv_subset.time.max().data))\n",
    "subset.load()  #this loads data into memory instead of leaving it lazy.  the hf radar opendap need this for some reason\n",
    "subset['spd']=np.sqrt(subset.u**2+subset.v**2)\n",
    "subset['dir']=np.arctan2(subset.v,subset.u)*180/np.pi\n",
    "#print(subset.u) #just print out to show it also says ms-1\n",
    "print(subset.u.attrs['units'])"
   ]
  },
  {
   "cell_type": "code",
   "execution_count": null,
   "metadata": {},
   "outputs": [],
   "source": [
    "#according to HF radar documentation GDOP is a measure of accuracy for HF radar vectors, but I didn't really see any \n",
    "#big changes when using it, here it is plotted but not used\n",
    "subset['GDOP']=np.sqrt(subset.DOPx**2+subset.DOPy**2)\n",
    "subset.DOPx.comment\n",
    "subset.GDOP[0,:,:].plot()"
   ]
  },
  {
   "cell_type": "code",
   "execution_count": null,
   "metadata": {},
   "outputs": [],
   "source": [
    "subset2 = subset.sel(lat=slice(35,38))\n",
    "plt.figure(num=None, figsize=(15,15)) \n",
    "plt.quiver(subset2.lon,\n",
    "           subset2.lat,subset2.u[0,:,:],\n",
    "           subset2.v[0,:,:],\n",
    "           subset2.GDOP[0,:,:],\n",
    "           scale=2, \n",
    "           scale_units='inches')"
   ]
  },
  {
   "cell_type": "markdown",
   "metadata": {},
   "source": [
    "## Plot the USV track on the HF radar data to show where the matchups occur"
   ]
  },
  {
   "cell_type": "code",
   "execution_count": null,
   "metadata": {},
   "outputs": [],
   "source": [
    "#Most of the cruise is near the coast, in a region where data\n",
    "#is supposed to be good\n",
    "f, axes = plt.subplots(1,2,figsize=(12,5))\n",
    "\n",
    "subset.v[0,:,:].plot(ax=axes[0],cmap='seismic',vmin=-.6,vmax=.6,alpha=.4)\n",
    "axes[0].scatter(ds_usv_subset.lon,ds_usv_subset.lat,c=ds_usv_subset.vel_north,cmap='seismic',vmin=-.6,vmax=.6)\n",
    "axes[0].set_ylim(31,38)\n",
    "\n",
    "subset.u[0,:,:].plot(ax=axes[1],cmap='seismic',vmin=-.6,vmax=.6,alpha=.4)\n",
    "axes[1].scatter(ds_usv_subset.lon,ds_usv_subset.lat,c=ds_usv_subset.vel_east,cmap='seismic',vmin=-.6,vmax=.6)\n",
    "axes[1].set_ylim(31,38)\n",
    "\n",
    "fig_fname='F:/data/cruise_data/saildrone/baja-2018/figs/hf_radar_coverage.png'\n",
    "plt.savefig(fig_fname, transparent=False, format='png')"
   ]
  },
  {
   "cell_type": "markdown",
   "metadata": {},
   "source": [
    "# Now collocate the HF radar data with the USV Saildrone data \n",
    "- interpolate HF data onto usv trajectory using interp"
   ]
  },
  {
   "cell_type": "code",
   "execution_count": null,
   "metadata": {},
   "outputs": [],
   "source": [
    "#now collocate with usv lat and lons\n",
    "ds_collocated = subset.interp(lat=ds_usv_subset.lat,lon=ds_usv_subset.lon,time=ds_usv_subset.time,method='linear')\n",
    "ds_collocated_nearest = subset.interp(lat=ds_usv_subset.lat,lon=ds_usv_subset.lon,time=ds_usv_subset.time,method='nearest')"
   ]
  },
  {
   "cell_type": "code",
   "execution_count": null,
   "metadata": {},
   "outputs": [],
   "source": [
    "usv1 = ds_usv_subset.sel(time=slice('2018-04-12T19','2018-04-13T08'))\n",
    "hf1 = ds_collocated_nearest.sel(time=slice('2018-04-12T19','2018-04-13T08'))\n",
    "#print(usv1.lat)\n",
    "ax1=plt.subplot(1,1,1)\n",
    "ax1.quiver(usv1.lon,usv1.lat,usv1.vel_east,usv1.vel_north)\n",
    "#ax1.quiver(usv1.lon,usv1.lat,usv1.UWND_MEAN,usv1.VWND_MEAN,color='b')\n",
    "ax1.quiver(hf1.lon,hf1.lat,hf1.u,hf1.v,color='r')\n",
    "plt.legend(['usv','HF radar'])\n",
    "fig_fname='F:/data/cruise_data/saildrone/baja-2018/figs/hf_radar_tseries_412both_bias.png'\n",
    "plt.savefig(fig_fname, transparent=False, format='png')\n"
   ]
  },
  {
   "cell_type": "code",
   "execution_count": null,
   "metadata": {},
   "outputs": [],
   "source": [
    "usv1 = ds_usv_subset.sel(time=slice('2018-04-14T02','2018-04-14T14'))\n",
    "hf1 = ds_collocated_nearest.sel(time=slice('2018-04-14T02','2018-04-14T14'))\n",
    "#print(usv1.lat)\n",
    "ax1=plt.subplot(1,1,1)\n",
    "ax1.quiver(usv1.lon,usv1.lat,usv1.vel_east,usv1.vel_north)\n",
    "#ax1.quiver(usv1.lon,usv1.lat,usv1.UWND_MEAN,usv1.VWND_MEAN,color='b')\n",
    "ax1.quiver(hf1.lon,hf1.lat,hf1.u,hf1.v,color='r')\n",
    "plt.legend(['usv','HF radar'])\n",
    "fig_fname='F:/data/cruise_data/saildrone/baja-2018/figs/hf_radar_tseries_414both_bias.png'\n",
    "plt.savefig(fig_fname, transparent=False, format='png')\n"
   ]
  },
  {
   "cell_type": "code",
   "execution_count": null,
   "metadata": {},
   "outputs": [],
   "source": [
    "#usv1['wspd']=np.sqrt(usv1.UWND_MEAN**2+usv1.VWND_MEAN**2)\n",
    "#plt.plot(usv1.wspd,usv1.spd-hf1.spd,'.')\n",
    "#plt.plot(usv1.time,usv1.wspd)"
   ]
  },
  {
   "cell_type": "code",
   "execution_count": null,
   "metadata": {},
   "outputs": [],
   "source": [
    "usv1 = ds_usv_subset.sel(time=slice('2018-04-14','2018-04-16'))\n",
    "hf1 = ds_collocated_nearest.sel(time=slice('2018-04-14','2018-04-16'))\n",
    "ax1=plt.subplot(1,1,1)\n",
    "ax1.quiver(usv1.lon,usv1.lat,usv1.vel_east,usv1.vel_north)\n",
    "ax1.quiver(hf1.lon,hf1.lat,hf1.u,hf1.v,color='r')\n",
    "plt.legend(['usv','HF radar'])\n",
    "\n",
    "fig_fname='F:/data/cruise_data/saildrone/baja-2018/figs/hf_radar_tseries_both_bias.png'\n",
    "plt.savefig(fig_fname, transparent=False, format='png')\n"
   ]
  },
  {
   "cell_type": "code",
   "execution_count": null,
   "metadata": {},
   "outputs": [],
   "source": [
    "plt.plot(usv1.time,usv1.spd)\n",
    "plt.plot(hf1.time,hf1.spd)\n",
    "plt.legend(['usv','HF radar'])\n",
    "fig_fname='F:/data/cruise_data/saildrone/baja-2018/figs/hf_radar_tseries2_both_bias.png'\n",
    "plt.savefig(fig_fname, transparent=False, format='png')"
   ]
  },
  {
   "cell_type": "code",
   "execution_count": null,
   "metadata": {},
   "outputs": [],
   "source": [
    "f, axes = plt.subplots(1,2,figsize=(12,5))\n",
    "usv1 = ds_usv_subset.where(np.isfinite(ds_collocated.spd))\n",
    "hf1 = ds_collocated_nearest.where(np.isfinite(ds_collocated.spd))\n",
    "ax1=plt.subplot(1,2, 1)\n",
    "ax1.plot(usv1.dir,hf1.u-usv1.vel_east,'.')\n",
    "ax1.set_xlabel('USV current direction')\n",
    "ax1.set_ylabel('$\\Delta$ eastward velocity')\n",
    "ax2=plt.subplot(1,2, 2)\n",
    "ax2.plot(usv1.dir,hf1.v-usv1.vel_north,'.')\n",
    "ax2.set_xlabel('USV current direction')\n",
    "ax2.set_ylabel('$\\Delta$ northward velocity')\n",
    "fig_fname='F:/data/cruise_data/saildrone/baja-2018/figs/hf_radar_tseries_both_wdir2.png'\n",
    "plt.savefig(fig_fname, transparent=False, format='png')"
   ]
  },
  {
   "cell_type": "code",
   "execution_count": null,
   "metadata": {},
   "outputs": [],
   "source": [
    "#2nd half of dataset seems much better\n",
    "usv1 = ds_usv_subset.where(np.isfinite(ds_collocated_nearest.spd))\n",
    "hf1 = ds_collocated_nearest.where(np.isfinite(ds_collocated_nearest.spd))\n",
    "plt.axhline(0)\n",
    "plt.plot(usv1.spd-hf1.spd)\n",
    "#plt.plot((usv1.TEMP_CTD_MEAN-usv1.TEMP_CTD_MEAN.mean())/(4*usv1.TEMP_CTD_MEAN.std()))\n",
    "#plt.plot(usv1.dir))\n",
    "plt.xlim(0,750)\n",
    "#plt.xlim(6900,7550)\n",
    "print('mean current diff speed all',(usv1.spd-hf1.spd).mean().data)\n",
    "print('std current diff speed all',(usv1.spd-hf1.spd).std().data)\n",
    "print('mean diff last half',(usv1.spd[400:]-hf1.spd[400:]).mean().data)\n",
    "print('std diff last half',(usv1.spd[400:]-hf1.spd[400:]).std().data)\n",
    "print('mean diff first half',(usv1.spd[:400]-hf1.spd[:400]).mean().data)\n",
    "print('std diff first half',(usv1.spd[:400]-hf1.spd[:400]).std().data)\n",
    "print(usv1.time[300].data)\n",
    "#results using collcoated file\n",
    "#mean current speed 0.3211718392967916 0.2803949\n",
    "#mean 0.05026234680304413\n",
    "#std 0.15365239101244357\n",
    "#mean 0.03216915862753498\n",
    "#std 0.12825959509881765\n",
    "#2018-04-14T02:10:00.000000000\n"
   ]
  },
  {
   "cell_type": "markdown",
   "metadata": {},
   "source": [
    "# A larger STD that isn't reflective of uncertainty in the observation\n",
    "The collocation above will result in multiple USV data points matched with a single satellite\n",
    "observation.    The USV is sampling every 1 min and approximately few meters, while the satellite\n",
    "is an average over a footprint that is interpolated onto a daily mean map.  While calculating the mean would results in a valid mean, the STD would be higher and consist of a component that reflects the uncertainty of the USV and the satellite and a component that reflects the natural variability in the region that is sampled by the USV\n",
    "\n",
    "Below we use the 'nearest' collocation results to identify when multiple USV data are collcated to\n",
    "a single satellite observation.\n",
    "This code goes through the data and creates averages of the USV data that match the single CCMP collocated value.\n",
    "This code isn't perfect, but I couldn't figure out a better way to do it without a bunch more programming.\n",
    "It looks for collocated values with the same u & v the averages all the saildrone data for that matchup.  In this way, it averages over the spatial area of that collocation.\n"
   ]
  },
  {
   "cell_type": "code",
   "execution_count": null,
   "metadata": {
    "scrolled": false
   },
   "outputs": [],
   "source": [
    "ilen,index = ds_collocated_nearest.dims['time'],0\n",
    "ds_tem = ds_collocated_nearest.copy(deep=True)\n",
    "duu, dvu, dlat, dlon, dut = [],[],[],[],np.empty((),dtype='datetime64')\n",
    "while index <= ilen-2:\n",
    "    index += 1\n",
    "    if np.isnan(ds_collocated_nearest.v[index]):\n",
    "        continue\n",
    "    if np.isnan(ds_tem.v[index]):\n",
    "        continue\n",
    "    #print(index, ilen)\n",
    "    cond = ((ds_tem.u==ds_collocated_nearest.u[index]) & (ds_tem.v==ds_collocated_nearest.v[index]))\n",
    "    notcond = np.logical_not(cond)\n",
    "    masked = ds_tem.where(cond)\n",
    "    masked_usv = ds_usv_subset.where(cond,drop=True)\n",
    "    if masked.v.sum().data==0:  #don't do if data not found\n",
    "        continue\n",
    "    duu=np.append(duu,masked_usv.vel_east.mean().data)\n",
    "    dvu=np.append(dvu,masked_usv.vel_north.mean().data)\n",
    "    dlat=np.append(dlat,masked_usv.lat.mean().data)\n",
    "    dlon=np.append(dlon,masked_usv.lon.mean().data)\n",
    "    tdif = masked_usv.time[-1].data-masked_usv.time[0].data\n",
    "    mtime=masked_usv.time[0].data+np.timedelta64(tdif/2,'ns')\n",
    "    dut=np.append(dut,mtime)\n",
    "    ds_tem=ds_tem.where(notcond,np.nan)  #masked used values by setting to nan\n",
    "dut2 = dut[1:]  #remove first data point which is a repeat from what array defined    \n",
    "ds_new=xr.Dataset(data_vars={'u_usv': ('time',duu),\n",
    "                             'v_usv': ('time',dvu),\n",
    "                             'lon': ('time',dlon),\n",
    "                             'lat': ('time',dlat)},\n",
    "                  coords={'time':dut2})\n",
    "ds_new.to_netcdf('F:/data/cruise_data/saildrone/baja-2018/hf_radar_6km_downsampled_usv_data_using_podaac_file.nc')"
   ]
  },
  {
   "cell_type": "markdown",
   "metadata": {},
   "source": [
    "# redo the collocation\n",
    "Now, redo the collocation, using 'linear' interpolation using the averaged data.  This will interpolate the data temporally onto the USV sampling which has been averaged to the satellite data grid points"
   ]
  },
  {
   "cell_type": "code",
   "execution_count": null,
   "metadata": {},
   "outputs": [],
   "source": [
    "ds_collocated_averaged = subset.interp(lat=ds_new.lat,lon=ds_new.lon,time=ds_new.time,method='linear')\n",
    "ds_collocated_averaged"
   ]
  },
  {
   "cell_type": "code",
   "execution_count": null,
   "metadata": {},
   "outputs": [],
   "source": [
    "#ds_collocated_averaged.to_netcdf('F:/data/cruise_data/saildrone/baja-2018/hf_radar_6km_downsampled_collocated_usv_data.nc')\n"
   ]
  },
  {
   "cell_type": "code",
   "execution_count": null,
   "metadata": {},
   "outputs": [],
   "source": [
    "ds_collocated_averaged['spd']=np.sqrt(ds_collocated_averaged.u**2+ds_collocated_averaged.v**2)\n",
    "ds_new['spd'] = np.sqrt(ds_new.u_usv**2+ds_new.v_usv**2)\n",
    "ds_collocated_averaged['dir']=np.arctan2(ds_collocated_averaged.v,ds_collocated_averaged.u)*180./np.pi\n",
    "ds_new['dir'] = np.arctan2(ds_new.v_usv,ds_new.u_usv)*180./np.pi\n",
    "\n",
    "usv_spd = ds_new.spd\n",
    "sat_spd = ds_collocated_averaged.spd\n",
    "usv_dir = ds_new.dir\n",
    "sat_dir = ds_collocated_averaged.dir\n",
    "dif_spd,dif_dir = usv_spd - sat_spd, usv_dir - sat_dir\n",
    "cond,cond2 = (dif_dir > 180),(dif_dir < -180)\n",
    "cond,cond2 = (dif_dir > 180),(dif_dir < -180)\n",
    "dif_dir[cond]-=360\n",
    "dif_dir[cond2]+=360\n",
    "print('mean,std dif speed',[dif_spd.mean().data,dif_spd.std().data])\n",
    "print('mean,std dir',[dif_dir.mean().data,dif_dir.std().data,dif_spd.shape[0]])\n",
    "\n",
    "#old stats using collocated file\n",
    "#mean,std dif speed [array(0.05032059), array(0.12539932)]\n",
    "#mean,std dir [array(6.55931061), array(47.02380045), 461]"
   ]
  },
  {
   "cell_type": "code",
   "execution_count": null,
   "metadata": {},
   "outputs": [],
   "source": [
    "fig, ax = plt.subplots(figsize=(5,4))\n",
    "ax.plot(usv_spd,dif_dir,'.')\n",
    "ax.set_xlabel('USV current speed (ms$^{-1}$)')\n",
    "ax.set_ylabel('USV - HF Radar direction (deg)')\n",
    "fig_fname='F:/data/cruise_data/saildrone/baja-2018/figs/hf_radar_wdir_wspd_both_bias.png'\n",
    "fig.savefig(fig_fname, transparent=False, format='png')\n"
   ]
  },
  {
   "cell_type": "code",
   "execution_count": null,
   "metadata": {},
   "outputs": [],
   "source": [
    "\n",
    "# Learn about API authentication here: https://plot.ly/python/getting-started\n",
    "# Find your api_key here: https://plot.ly/settings/api\n",
    "# MatPlotlib\n",
    "import matplotlib.pyplot as plt\n",
    "from matplotlib import pylab\n",
    "# Scientific libraries\n",
    "from numpy import arange,array,ones\n",
    "from scipy import stats\n",
    "\n",
    "usv_spd = ds_new.spd\n",
    "sat_spd = ds_collocated_averaged.spd\n",
    "usv_dir = ds_new.dir\n",
    "sat_dir = ds_collocated_averaged.dir\n",
    "dif_spd,dif_dir = usv_spd - sat_spd, usv_dir - sat_dir\n",
    "cond,cond2 = (dif_dir > 180),(dif_dir < -180)\n",
    "cond,cond2 = (dif_dir > 180),(dif_dir < -180)\n",
    "dif_dir[cond]-=360\n",
    "dif_dir[cond2]+=360\n",
    "\n",
    "usv_ucur = ds_new.u_usv\n",
    "usv_vcur = ds_new.v_usv\n",
    "sat_ucur = ds_collocated_averaged.u\n",
    "sat_vcur = ds_collocated_averaged.v\n",
    "usv_spd  = np.sqrt(usv_ucur**2 + usv_vcur**2)\n",
    "sat_spd  = np.sqrt(sat_ucur**2 + sat_vcur**2)\n",
    "\n",
    "cond = (np.isfinite(usv_spd) & np.isfinite(sat_spd))\n",
    "usv_spd = usv_spd[cond]\n",
    "sat_spd = sat_spd[cond]\n",
    "usv_dir = usv_dir[cond]\n",
    "sat_dir = sat_dir[cond]\n",
    "\n",
    "xi = usv_spd.data\n",
    "A = array([ xi, ones(sat_spd.shape[0])])\n",
    "y = sat_spd.data\n",
    "# Generated linear fit\n",
    "slope, intercept, r_value, p_value, std_err = stats.linregress(xi,y)\n",
    "line = slope*xi+intercept\n",
    "plt.plot(xi,y,'o', xi, line)\n",
    "plt.ylim(-.1,1),plt.xlim(-.1,1)\n",
    "plt.grid()\n",
    "plt.xlabel('USV speed')\n",
    "plt.ylabel('HF speed')\n",
    "print(slope,intercept,r_value,p_value,std_err)\n",
    "plt.text(0,.9,\"slope: {0} {1:.2f}\".format(\"\", slope))\n",
    "plt.text(0,.8,\"intercept: {0} {1:.2f}\".format(\"\", intercept))\n",
    "fig_fname='F:/data/cruise_data/saildrone/baja-2018/figs/hf_radar_usv_big_spd.png'\n",
    "plt.savefig(fig_fname, transparent=False, format='png')\n",
    "\n",
    "#pylab.title('Linear Fit with Matplotlib')\n",
    "#ax = plt.gca()\n",
    "#ax.set_axis_bgcolor((0.898, 0.898, 0.898))\n",
    "#fig = plt.gcf()\n",
    "#py.plot_mpl(fig, filename='linear-Fit-with-matplotlib')\n"
   ]
  },
  {
   "cell_type": "code",
   "execution_count": null,
   "metadata": {},
   "outputs": [],
   "source": [
    "f, axes = plt.subplots(1,3,figsize=(14,10))\n",
    "usv_ucur = ds_new.u_usv\n",
    "usv_vcur = ds_new.v_usv\n",
    "sat_ucur = ds_collocated_averaged.u\n",
    "sat_vcur = ds_collocated_averaged.v\n",
    "usv_spd  = np.sqrt(usv_ucur**2 + usv_vcur**2)\n",
    "sat_spd  = np.sqrt(sat_ucur**2 + sat_vcur**2)\n",
    "\n",
    "cond = (np.isfinite(usv_ucur) & np.isfinite(sat_ucur) & ( usv_vcur<.2))\n",
    "usv_ucur = usv_ucur[cond]\n",
    "sat_ucur = sat_ucur[cond]\n",
    "usv_vcur = usv_vcur[cond]\n",
    "sat_vcur = sat_vcur[cond]\n",
    "usv_spd = usv_spd[cond]\n",
    "sat_spd = sat_spd[cond]\n",
    "\n",
    "xi = usv_ucur.data\n",
    "A = array([ xi, ones(usv_ucur.shape[0])])\n",
    "y = sat_ucur.data\n",
    "# Generated linear fit\n",
    "slope, intercept, r_value, p_value, std_err = stats.linregress(xi,y)\n",
    "line = slope*xi+intercept\n",
    "plt.subplot(231)\n",
    "plt.plot(xi,y,'o', xi, line)\n",
    "plt.ylim(-.5,.5),plt.xlim(-.5,.5)\n",
    "plt.grid()\n",
    "plt.xlabel('USV vel east')\n",
    "plt.ylabel('HF vel east')\n",
    "print(slope,intercept,r_value,p_value,std_err)\n",
    "plt.text(-.4,.4,\"slope: {0} {1:.2f}\".format(\"\", slope))\n",
    "plt.text(-.4,.3,\"intercept: {0} {1:.2f}\".format(\"\", intercept))\n",
    "xi = usv_vcur.data\n",
    "A = array([ xi, ones(usv_vcur.shape[0])])\n",
    "y = sat_vcur.data\n",
    "# Generated linear fit\n",
    "slope, intercept, r_value, p_value, std_err = stats.linregress(xi,y)\n",
    "line = slope*xi+intercept\n",
    "plt.subplot(232)\n",
    "plt.plot(xi,y,'o', xi, line)\n",
    "plt.ylim(-.75,.75),plt.xlim(-.75,.75)\n",
    "plt.grid()\n",
    "plt.xlabel('USV vel north')\n",
    "plt.ylabel('HF vel north')\n",
    "print(slope,intercept,r_value,p_value,std_err)\n",
    "plt.text(-.4,.6,\"slope: {0} {1:.2f}\".format(\"\", slope))\n",
    "plt.text(-.4,.5,\"intercept: {0} {1:.2f}\".format(\"\", intercept))\n",
    "xi = usv_spd\n",
    "A = array([ xi, ones(usv_spd.shape[0])])\n",
    "y = sat_spd\n",
    "# Generated linear fit\n",
    "slope, intercept, r_value, p_value, std_err = stats.linregress(xi,y)\n",
    "line = slope*xi+intercept\n",
    "plt.subplot(233)\n",
    "plt.plot(xi,y,'o', xi, line)\n",
    "plt.ylim(-.1,1),plt.xlim(-.1,1)\n",
    "plt.grid()\n",
    "plt.xlabel('USV speed')\n",
    "plt.ylabel('HF speed')\n",
    "print(slope,intercept,r_value,p_value,std_err)\n",
    "plt.text(-.0,.8,\"slope: {0} {1:.2f}\".format(\"\", slope))\n",
    "plt.text(-.0,.7,\"intercept: {0} {1:.2f}\".format(\"\", intercept))\n",
    "fig_fname='F:/data/cruise_data/saildrone/baja-2018/figs/hf_radar_usv_u_v_spd.png'\n",
    "plt.savefig(fig_fname, transparent=False, format='png')\n"
   ]
  },
  {
   "cell_type": "code",
   "execution_count": null,
   "metadata": {},
   "outputs": [],
   "source": [
    "plt.scatter(usv_vcur,usv_vcur-sat_vcur)\n",
    "plt.grid()"
   ]
  },
  {
   "cell_type": "code",
   "execution_count": null,
   "metadata": {},
   "outputs": [],
   "source": [
    "#more plotting stuff below\n",
    "#may not work with opendap file ratehr than collocated data file\n",
    "\n",
    "#try to use 1km data just for a day\n",
    "#hf_filename = 'http://hfrnet-tds.ucsd.edu/thredds/dodsC/HFR/USWC/2km/hourly/RTV/HFRADAR_US_West_Coast_2km_Resolution_Hourly_RTV_best.ncd'\n",
    "hf_filename = 'http://hfrnet-tds.ucsd.edu/thredds/dodsC/HFR/USWC/6km/hourly/RTV/HFRADAR_US_West_Coast_6km_Resolution_Hourly_RTV_best.ncd'\n",
    "ds_sat = xr.open_dataset(hf_filename)\n",
    "subset = ds_sat.sel(lon=slice(ds_usv_subset.lon.min().data,ds_usv_subset.lon.max().data),\n",
    "                    lat=slice(32,33),\n",
    "                   time=slice('2018-04-20T01','2018-04-22T22'))\n",
    "#subset = ds_sat.sel(lon=slice(ds_usv_subset.lon.min().data,ds_usv_subset.lon.max().data),\n",
    "#                    lat=slice(ds_usv_subset.lat.min().data,ds_usv_subset.lat.max().data),\n",
    "#                   time=slice('2018-04-20T01','2018-04-22T22'))\n",
    "subset.load()  #this loads data into memory instead of leaving it lazy.  the hf radar opendap need this for some reason\n",
    "subset['spd']=np.sqrt(subset.u**2+subset.v**2)\n",
    "subset['dir']=np.arctan2(subset.v,subset.u)*180/np.pi"
   ]
  },
  {
   "cell_type": "code",
   "execution_count": null,
   "metadata": {},
   "outputs": [],
   "source": [
    "#now collocate with usv lat and lons\n",
    "ds_collocated = subset.interp(lat=ds_usv_subset.lat,lon=ds_usv_subset.lon,time=ds_usv_subset.time,method='linear')\n",
    "ds_collocated_nearest = subset.interp(lat=ds_usv_subset.lat,lon=ds_usv_subset.lon,time=ds_usv_subset.time,method='nearest')"
   ]
  },
  {
   "cell_type": "code",
   "execution_count": null,
   "metadata": {},
   "outputs": [],
   "source": [
    "usv1 = ds_usv_subset.sel(time=slice('2018-04-20T01','2018-04-20T22'))\n",
    "hf1 = ds_collocated_nearest.sel(time=slice('2018-04-20T01','2018-04-20T22'))\n",
    "#print(usv1.lat)\n",
    "ax1=plt.subplot(1,1,1)\n",
    "ax1.quiver(usv1.lon,usv1.lat,usv1.vel_east,usv1.vel_north)\n",
    "ax1.quiver(usv1.lon,usv1.lat,usv1.UWND_MEAN,usv1.VWND_MEAN,color='b')\n",
    "ax1.quiver(hf1.lon,hf1.lat,hf1.u,hf1.v,color='r')\n",
    "fig_fname='F:/data/cruise_data/saildrone/baja-2018/figs/hf_radar_tseries_420_1kmboth_bias.png'\n",
    "plt.savefig(fig_fname, transparent=False, format='png')\n"
   ]
  },
  {
   "cell_type": "code",
   "execution_count": null,
   "metadata": {},
   "outputs": [],
   "source": [
    "subset.spd[0,:,:].plot()\n",
    "plt.plot(usv1.lon,usv1.lat,'r.')"
   ]
  },
  {
   "cell_type": "code",
   "execution_count": null,
   "metadata": {},
   "outputs": [],
   "source": [
    "hf1"
   ]
  },
  {
   "cell_type": "code",
   "execution_count": null,
   "metadata": {},
   "outputs": [],
   "source": [
    "ds_usv2['spd']=np.sqrt(ds_usv2.vel_east**2+ds_usv2.vel_north**2)\n",
    "for i in range(1,8000,50):\n",
    "    plt.plot(ds_usv2.spd[i,0:20]-ds_usv2.spd[i,20],ds_usv2.cell_depth[0:20])\n",
    "\n"
   ]
  },
  {
   "cell_type": "code",
   "execution_count": null,
   "metadata": {},
   "outputs": [],
   "source": [
    "plt.plot(np.sqrt(ds_usv2.UWND_MEAN**2+ds_usv2.VWND_MEAN**2),ds_usv2.spd[:,0],'.')"
   ]
  },
  {
   "cell_type": "code",
   "execution_count": null,
   "metadata": {},
   "outputs": [],
   "source": [
    "usv1 = ds_usv_subset.sel(time=slice('2018-04-20T13','2018-04-20T15'))\n",
    "#usv2 = usv1.where(usv1.ROLL>10)\n",
    "usv1['droll']=usv1.ROLL.diff(dim='time')\n",
    "usv2 = usv1.where(np.abs(usv1.droll>1))\n",
    "#hf1 = ds_collocated_nearest.sel(time=slice('2018-04-20T00','2018-04-20T22'))\n",
    "#print(usv1.lat)\n",
    "ax1=plt.subplot(1,1,1)\n",
    "ax1.quiver(usv1.lon,usv1.lat,usv1.vel_east,usv1.vel_north)\n",
    "ax1.quiver(usv2.lon,usv2.lat,usv2.vel_east,usv2.vel_north,color='r')\n",
    "#ax1.quiver(usv1.lon.where(usv1.ROLL>15),usv1.lat.where(usv1.ROLL>15),usv1.vel_east.where(usv1.ROLL>15),usv1.vel_north.where(usv1.ROLL>15),'r')\n",
    "#ax1.quiver(usv1.lon,usv1.lat,usv1.UWND_MEAN,usv1.VWND_MEAN,color='b')\n",
    "#ax1.quiver(hf1.lon,hf1.lat,hf1.u,hf1.v,color='r')\n",
    "fig_fname='F:/data/cruise_data/saildrone/baja-2018/figs/hf_radar_tseries_420both_bias.png'\n",
    "plt.savefig(fig_fname, transparent=False, format='png')\n",
    "#usv2#the direction is turning as it moves around grid, in 12 hours it rotates almost 180 degrees\n",
    "usv1 = ds_usv_subset.sel(time=slice('2018-04-20T05','2018-04-20T15'))\n",
    "hf1 = ds_collocated_nearest.sel(time=slice('2018-04-20T00','2018-04-20T22'))\n",
    "#print(usv1.lat)\n",
    "ax1=plt.subplot(1,1,1)\n",
    "#usv1.roll\n",
    "#usv1['droll']=usv1.ROLL[:-1]-usv1.ROLL[1:]\n",
    "#usv1['droll']=usv1.ROLL.diff(dim='time')\n",
    "#ax1.plot(usv1.ROLL.diff(dim='time'),'r')\n",
    "#ax1.plot(usv1.ROLL,'b')\n",
    "usv1['dir2']=usv1.dir.copy(deep=True)\n",
    "usv1['dir2'] = np.mod(usv1['dir2'],360)\n",
    "ax1.plot(usv1.time.dt.hour,usv1.dir2,'g.')\n",
    "#ax1.plot(usv1.ROLL.where(usv1.ROLL>15),'r')\n",
    "#ax1.quiver(usv1.lon,usv1.lat,usv1.UWND_MEAN,usv1.VWND_MEAN,color='b')\n",
    "#ax1.quiver(hf1.lon,hf1.lat,hf1.u,hf1.v,color='r')\n",
    "#fig_fname='F:/data/cruise_data/saildrone/baja-2018/figs/hf_radar_tseries_420both_bias.png'\n",
    "#plt.savefig(fig_fname, transparent=False, format='png')\n",
    "\n"
   ]
  }
 ],
 "metadata": {
  "kernelspec": {
   "display_name": "Python 3",
   "language": "python",
   "name": "python3"
  },
  "language_info": {
   "codemirror_mode": {
    "name": "ipython",
    "version": 3
   },
   "file_extension": ".py",
   "mimetype": "text/x-python",
   "name": "python",
   "nbconvert_exporter": "python",
   "pygments_lexer": "ipython3",
   "version": "3.7.1"
  }
 },
 "nbformat": 4,
 "nbformat_minor": 1
}
