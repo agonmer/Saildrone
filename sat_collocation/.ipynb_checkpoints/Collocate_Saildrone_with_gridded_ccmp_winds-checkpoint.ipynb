{
 "cells": [
  {
   "cell_type": "markdown",
   "metadata": {},
   "source": [
    "# This is the Saildrone and CCMP collocation code. \n"
   ]
  },
  {
   "cell_type": "code",
   "execution_count": 56,
   "metadata": {},
   "outputs": [],
   "source": [
    "import os\n",
    "import numpy as np\n",
    "import matplotlib.pyplot as plt\n",
    "import datetime as dt\n",
    "import xarray as xr\n",
    "\n",
    "def get_ccmp_filename(date):\n",
    "    dir_ccmp='F:/data/sat_data/ccmp/v02.0/'\n",
    "    syr, smon, sdym = str(date.dt.year.data), str(date.dt.month.data).zfill(2), str(date.dt.day.data).zfill(2)\n",
    "    ccmp_filename =dir_ccmp + 'Y' + syr + '/M' + smon + '/CCMP_Wind_Analysis_' + syr + smon + sdym + '_V02.0_L3.0_RSS.nc'\n",
    "    exists = os.path.isfile(ccmp_filename)\n",
    "    if exists==False:\n",
    "        ccmp_filename =dir_ccmp + 'Y' + syr + '/M' + smon + '/CCMP_RT_Wind_Analysis_' + syr + smon + sdym + '_V02.0_L3.0_RSS.nc'\n",
    "        exists = os.path.isfile(ccmp_filename)\n",
    "    return ccmp_filename, exists\n"
   ]
  },
  {
   "cell_type": "markdown",
   "metadata": {},
   "source": [
    "# Read in USV data\n",
    "Read in the Saildrone USV file either from a local disc or using OpenDAP.\n",
    "\n",
    "There are 6 NaN values in the lat/lon data arrays, interpolate across these\n",
    "\n",
    "We want to collocate with wind vectors for this example,  but the wind vectors are only every 10 minutes rather than every minute, so use .dropna to remove all values in the dataset from all dataarrays when wind vectors aren't availalbe"
   ]
  },
  {
   "cell_type": "code",
   "execution_count": 93,
   "metadata": {},
   "outputs": [],
   "source": [
    "filename_collocation_data = 'F:/data/cruise_data/saildrone/baja-2018/ccmp_collocation_data.nc'\n",
    "#filename_usv = 'https://podaac-opendap.jpl.nasa.gov/opendap/hyrax/allData/insitu/L2/saildrone/Baja/saildrone-gen_4-baja_2018-sd1002-20180411T180000-20180611T055959-1_minutes-v1.nc'\n",
    "filename_usv='f:/data/cruise_data/saildrone/baja-2018/saildrone-gen_4-baja_2018-sd1002-20180411T180000-20180611T055959-1_minutes-v1.nc'\n",
    "ds_usv = xr.open_dataset(filename_usv)\n",
    "ds_usv.close()\n",
    "ds_usv = ds_usv.isel(trajectory=0).swap_dims({'obs':'time'}).rename({'longitude':'lon','latitude':'lat'})\n",
    "ds_usv = ds_usv.sel(time=slice('2018-04-11T18:30',ds_usv.time[-1].data))  #first part of data is when USV being towed, elminiate\n",
    "ds_usv['lon'] = ds_usv.lon.interpolate_na(dim='time',method='linear') #there are 6 nan values\n",
    "ds_usv['lat'] = ds_usv.lat.interpolate_na(dim='time',method='linear')\n",
    "ds_usv['wind_speed']=np.sqrt(ds_usv.UWND_MEAN**2+ds_usv.VWND_MEAN**2)\n",
    "ds_usv['wind_dir']=np.arctan2(ds_usv.VWND_MEAN,ds_usv.UWND_MEAN)*180/np.pi\n",
    "ds_usv_subset = ds_usv.dropna(dim='time',subset={'UWND_MEAN'})   #get rid of all the nan\n",
    "#print(ds_usv_subset.UWND_MEAN[2000:2010].values)"
   ]
  },
  {
   "cell_type": "markdown",
   "metadata": {},
   "source": [
    "In order to use open_mfdataset you need to either provide a path or a list of filenames to input\n",
    "\n",
    "Here we use the USV cruise start and end date to read in all CCMP wind vector data for that period"
   ]
  },
  {
   "cell_type": "code",
   "execution_count": 95,
   "metadata": {},
   "outputs": [],
   "source": [
    "read_date,end_date = ds_usv_subset.time.min(),ds_usv_subset.time.max()\n",
    "filelist = []\n",
    "while read_date<=(end_date+np.timedelta64(1,'D')):\n",
    "    tem_filename, exists = get_ccmp_filename(read_date)\n",
    "    if exists:\n",
    "        filelist.append(tem_filename)\n",
    "    read_date=read_date+np.timedelta64(1,'D')\n",
    "#print(filelist)"
   ]
  },
  {
   "cell_type": "markdown",
   "metadata": {},
   "source": [
    "# Read in CCMP data\n",
    "Read in data using open_mfdataset with the option coords='minimal'\n",
    "\n",
    "CCMP data uses long names for lat/lon so change that and then chage coordinate system to -180 to 180 from 0 to 360\n",
    "\n",
    "The dataset is printed out and you can see that rather than straight xarray data array for each of the data variables open_mfdataset using dask arrays"
   ]
  },
  {
   "cell_type": "code",
   "execution_count": 96,
   "metadata": {},
   "outputs": [
    {
     "data": {
      "text/plain": [
       "<xarray.Dataset>\n",
       "Dimensions:  (lat: 628, lon: 1440, time: 248)\n",
       "Coordinates:\n",
       "  * lon      (lon) float32 -179.875 -179.625 -179.375 ... 179.625 179.875\n",
       "  * lat      (lat) float32 -78.375 -78.125 -77.875 ... 77.875 78.125 78.375\n",
       "  * time     (time) datetime64[ns] 2018-04-11 ... 2018-06-11T18:00:00\n",
       "Data variables:\n",
       "    uwnd     (time, lat, lon) float32 dask.array<shape=(248, 628, 1440), chunksize=(4, 628, 1440)>\n",
       "    vwnd     (time, lat, lon) float32 dask.array<shape=(248, 628, 1440), chunksize=(4, 628, 1440)>\n",
       "    nobs     (time, lat, lon) float32 dask.array<shape=(248, 628, 1440), chunksize=(4, 628, 1440)>\n",
       "Attributes:\n",
       "    contact:                    Remote Sensing Systems, support@remss.com\n",
       "    Conventions:                CF-1.6\n",
       "    data_structure:             grid\n",
       "    title:                      RSS CCMP_RT V2.1 derived surface winds (Level...\n",
       "    history:                    20180426T175522ZZ - netCDF generated from ori...\n",
       "    description:                RSS VAM 6-hour analyses starting from the NCE...\n",
       "    summary:                    CCMP_RT V2.1 has been created using the same ...\n",
       "    institute_id:               RSS\n",
       "    institution:                Remote Sensing Systems (RSS)\n",
       "    base_date:                  Y2018 M04 D11\n",
       "    comment:                    none\n",
       "    license:                    available for public use with proper citation\n",
       "    product_version:            v2.1\n",
       "    netcdf_version_id:          4.2\n",
       "    date_created:               20180426T175522Z\n",
       "    geospatial_lat_units:       degrees_north\n",
       "    geospatial_lat_resolution:  0.25 degrees\n",
       "    geospatial_lat_min:         -78.375 degrees\n",
       "    geospatial_lat_max:         78.375 degrees\n",
       "    geospatial_lon_units:       degrees_east\n",
       "    geospatial_lon_resolution:  0.25 degrees\n",
       "    geospatial_lon_min:         0.125 degrees\n",
       "    geospatial_lon_max:         359.875 degrees\n",
       "    creator_name:               Remote Sensing Systems\n",
       "    creator_email:              support@remss.com\n",
       "    creator_url:                http://www.remss.com/\n",
       "    project:                    RSS Cross-Calibrated Multi-Platform Ocean Sur...\n",
       "    publisher_name:             Remote Sensing Systems\n",
       "    publisher_email:            support@remss.com\n",
       "    publisher_url:              http://www.remss.com/\n",
       "    contributor_name:           Carl Mears, Joel Scott, Frank Wentz, Ross Hof...\n",
       "    contributor_role:           Co-Investigator, Software Engineer, Project L...\n",
       "    processing_level:           L3.0\n",
       "    keywords:                   surface winds, ocean winds, wind speed/wind d...\n",
       "    keywords_vocabulary:        GCMD Science Keywords\n",
       "    references:                 Hoffman et al., Journal of Atmospheric and Oc..."
      ]
     },
     "execution_count": 96,
     "metadata": {},
     "output_type": "execute_result"
    }
   ],
   "source": [
    "ds_sat = xr.open_mfdataset(filelist,coords='minimal')\n",
    "ds_sat = ds_sat.rename({'longitude':'lon','latitude':'lat'}) \n",
    "ds_sat = ds_sat.assign_coords(lon=(((ds_sat.lon + 180) % 360) - 180)).sortby('lon').sortby('lat')\n",
    "ds_sat"
   ]
  },
  {
   "cell_type": "markdown",
   "metadata": {},
   "source": [
    "# Xarray interpolation won't run on chunked dimensions.  \n",
    "1. First let's subset the data to make it smaller to deal with by using the cruise lat/lons\n",
    "\n",
    "1. Now load the data into memory (de-Dask-ify) it  \n"
   ]
  },
  {
   "cell_type": "code",
   "execution_count": 120,
   "metadata": {},
   "outputs": [],
   "source": [
    "#Step 1 from above\n",
    "subset = ds_sat.sel(lon=slice(ds_usv_subset.lon.min().data,ds_usv_subset.lon.max().data),\n",
    "                    lat=slice(ds_usv_subset.lat.min().data,ds_usv_subset.lat.max().data))\n",
    "#Step 2 from above\n",
    "subset.load()\n",
    "#now collocate with usv lat and lons\n",
    "ds_collocated = subset.interp(lat=ds_usv_subset.lat,lon=ds_usv_subset.lon,time=ds_usv_subset.time,method='linear')\n",
    "ds_collocated_nearest = subset.interp(lat=ds_usv_subset.lat,lon=ds_usv_subset.lon,time=ds_usv_subset.time,method='nearest')\n"
   ]
  },
  {
   "cell_type": "code",
   "execution_count": 122,
   "metadata": {},
   "outputs": [],
   "source": [
    "ds_collocated['wind_speed']=np.sqrt(ds_collocated.uwnd**2+ds_collocated.vwnd**2)\n",
    "ds_collocated['wind_dir']=np.arctan2(ds_collocated.vwnd,ds_collocated.uwnd)*180/np.pi\n",
    "ds_collocated_nearest['wind_speed']=np.sqrt(ds_collocated_nearest.uwnd**2+ds_collocated_nearest.vwnd**2)\n",
    "ds_collocated_nearest['wind_dir']=np.arctan2(ds_collocated_nearest.vwnd,ds_collocated_nearest.uwnd)*180/np.pi\n"
   ]
  },
  {
   "cell_type": "code",
   "execution_count": 123,
   "metadata": {},
   "outputs": [
    {
     "name": "stdout",
     "output_type": "stream",
     "text": [
      "0.37051029014680004 1.2468181788782442\n",
      "0.2685331528101884 1.3024641997015562\n",
      "-0.11747975811767804 1.215405797635441\n"
     ]
    }
   ],
   "source": [
    "print((ds_collocated.uwnd-ds_usv_subset.UWND_MEAN).mean().data,(ds_collocated.uwnd-ds_usv_subset.UWND_MEAN).std().data)\n",
    "print((ds_collocated.vwnd-ds_usv_subset.VWND_MEAN).mean().data,(ds_collocated.vwnd-ds_usv_subset.VWND_MEAN).std().data)\n",
    "print((ds_collocated.wind_speed-ds_usv_subset.wind_speed).mean().data,(ds_collocated.wind_speed-ds_usv_subset.wind_speed).std().data)\n"
   ]
  },
  {
   "cell_type": "code",
   "execution_count": 124,
   "metadata": {},
   "outputs": [
    {
     "data": {
      "text/plain": [
       "(array([736799., 736806., 736813., 736815., 736822., 736829., 736836.,\n",
       "        736843., 736846., 736853.]), <a list of 10 Text xticklabel objects>)"
      ]
     },
     "execution_count": 124,
     "metadata": {},
     "output_type": "execute_result"
    },
    {
     "data": {
      "image/png": "[encoded data removed]",
      "text/plain": [
       "<Figure size 432x288 with 1 Axes>"
      ]
     },
     "metadata": {
      "needs_background": "light"
     },
     "output_type": "display_data"
    }
   ],
   "source": [
    "plt.plot(ds_collocated.time,ds_collocated.wind_speed-ds_usv_subset.wind_speed,'.-')\n",
    "plt.xticks(rotation='vertical')"
   ]
  },
  {
   "cell_type": "code",
   "execution_count": 125,
   "metadata": {},
   "outputs": [
    {
     "data": {
      "text/plain": [
       "(array([736799., 736806., 736813., 736815., 736822., 736829., 736836.,\n",
       "        736843., 736846., 736853.]), <a list of 10 Text xticklabel objects>)"
      ]
     },
     "execution_count": 125,
     "metadata": {},
     "output_type": "execute_result"
    },
    {
     "data": {
      "image/png": "[encoded data removed]",
      "text/plain": [
       "<Figure size 432x288 with 1 Axes>"
      ]
     },
     "metadata": {
      "needs_background": "light"
     },
     "output_type": "display_data"
    }
   ],
   "source": [
    "plt.plot(ds_collocated_nearest.time,ds_collocated_nearest.wind_speed-ds_usv_subset.wind_speed,'.-')\n",
    "plt.xticks(rotation='vertical')"
   ]
  },
  {
   "cell_type": "code",
   "execution_count": null,
   "metadata": {},
   "outputs": [],
   "source": [
    "#the idea here is that the USV data is being collocated repeatedly to the same CCMP data\n",
    "#rather than just interpolate the CCMP data onto the USV data, use nearest to interpolate the nearest CCMP value\n",
    "#now you can tell where the repeated data points are being collocated and this code\n",
    "#goes through the data and creates averages of the USV data that match the single CCMP collocated value\n",
    "ilen,index = ds_collocated_nearest.dims['time'],0\n",
    "ds_tem = ds_collocated_nearest.copy(deep=True)\n",
    "dus, duu, dvs, dvu, dut = [],[],[],[],[]\n",
    "while index < ilen:\n",
    "    if np.isnan(ds_collocated_nearest.uwnd[index]):\n",
    "        continue\n",
    "    test = ds_collocated_nearest.where((ds_tem.uwnd==ds_collocated_nearest.uwnd[index])&(ds_tem.vwnd==ds_collocated_nearest.vwnd[index]))\n",
    "    test = test/test\n",
    "    if test.uwnd.sum()>0:\n",
    "        np.append(dus,ds_collocated_nearest.uwnd[index])\n",
    "        np.append(duu,(ds_usv_subset.UWND_MEAN*test.uwnd).mean().data)\n",
    "        np.append(dvs,ds_collocated_nearest.vwnd[index])\n",
    "        np.append(dvs,(ds_usv_subset.VWND_MEAN*test.vwnd()).mean().data)\n",
    "        np.append(dut,ds_collocated_nearest.time[index])\n",
    "        ds_tem=ds_tem.where(np.isnan(test),np.nan)  #you have used values, so set to nan\n",
    "    index += 1\n",
    "    \n"
   ]
  },
  {
   "cell_type": "code",
   "execution_count": 157,
   "metadata": {},
   "outputs": [
    {
     "name": "stdout",
     "output_type": "stream",
     "text": [
      "4.1270547\n",
      "[2.315238  2.315238  2.315238  2.315238  4.554842  4.1270547 4.1270547\n",
      " 4.1270547 4.1270547 4.1270547 4.1270547 4.1270547 4.1270547 4.1270547\n",
      " 4.1270547 4.1270547 4.1270547 4.1270547 4.1270547 4.1270547 4.1270547\n",
      " 4.1270547 4.1270547 4.1270547 4.1270547 4.1270547 4.1270547 4.1270547\n",
      " 4.1270547 4.1270547 4.1270547 4.1270547 4.1270547 4.1270547 4.1270547\n",
      " 4.1270547 4.1270547 4.1270547 4.1270547 4.1270547 4.1270547 4.1270547\n",
      " 4.1270547 4.1270547 4.1270547 4.1270547 4.1270547 4.1270547 4.1270547\n",
      " 4.1270547 4.1270547 4.1270547 4.1270547 4.1270547 4.1270547 4.1270547\n",
      " 4.1270547 4.1270547 4.1270547 4.1270547 4.1270547 4.1270547 4.1270547\n",
      " 4.1270547 4.1270547 4.1270547 4.1270547 4.1270547 4.1270547 4.1270547\n",
      " 4.1270547 4.1270547 4.1270547 4.1270547 4.1270547 4.1270547 5.490702\n",
      " 5.490702  5.490702  5.490702  5.490702  5.490702  5.490702  5.490702\n",
      " 5.490702  5.490702  5.490702  5.490702  5.490702  5.147055  5.147055\n",
      " 5.147055  5.147055  5.147055  5.147055  5.147055  5.147055  5.147055\n",
      " 5.147055  5.147055 ]\n",
      "[nan nan nan nan nan  1.  1.  1.  1.  1.  1.  1.  1.  1.  1.  1.  1.  1.\n",
      "  1.  1.  1.  1.  1.  1.  1.  1.  1.  1.  1.  1.  1.  1.  1.  1.  1.  1.\n",
      "  1.  1.  1.  1.  1.  1.  1.  1.  1.  1.  1.  1.  1.  1.  1.  1.  1.  1.\n",
      "  1.  1.  1.  1.  1.  1.  1.  1.  1.  1.  1.  1.  1.  1.  1.  1.  1.  1.\n",
      "  1.  1.  1.  1. nan nan nan nan nan nan nan nan nan nan nan nan nan nan\n",
      " nan nan nan nan nan nan nan nan nan nan]\n",
      "[2.315238 2.315238 2.315238 2.315238 4.554842      nan      nan      nan\n",
      "      nan      nan      nan      nan      nan      nan      nan      nan\n",
      "      nan      nan      nan      nan      nan      nan      nan      nan\n",
      "      nan      nan      nan      nan      nan      nan      nan      nan\n",
      "      nan      nan      nan      nan      nan      nan      nan      nan\n",
      "      nan      nan      nan      nan      nan      nan      nan      nan\n",
      "      nan      nan      nan      nan      nan      nan      nan      nan\n",
      "      nan      nan      nan      nan      nan      nan      nan      nan\n",
      "      nan      nan      nan      nan      nan      nan      nan      nan\n",
      "      nan      nan      nan      nan 5.490702 5.490702 5.490702 5.490702\n",
      " 5.490702 5.490702 5.490702 5.490702 5.490702 5.490702 5.490702 5.490702\n",
      " 5.490702 5.147055 5.147055 5.147055 5.147055 5.147055 5.147055 5.147055\n",
      " 5.147055 5.147055 5.147055 5.147055]\n",
      "<xarray.DataArray ()>\n",
      "array(4.185915)\n",
      "Coordinates:\n",
      "    trajectory  float32 1002.0\n",
      "<xarray.DataArray ()>\n",
      "array(-5.827606)\n",
      "Coordinates:\n",
      "    trajectory  float32 1002.0\n"
     ]
    }
   ],
   "source": [
    "#testing code above\n",
    "ds_tem = ds_collocated_nearest.copy(deep=True)\n",
    "print(ds_collocated_nearest.uwnd[1055].data)\n",
    "print(ds_collocated_nearest.uwnd[1050:1150].data)\n",
    "test = ds_collocated_nearest.where((ds_collocated_nearest.uwnd==ds_collocated_nearest.uwnd[1055])&(ds_collocated_nearest.vwnd==ds_collocated_nearest.vwnd[1055]))\n",
    "test = test/test\n",
    "print(test.uwnd[1050:1150].data)\n",
    "ds_tem=ds_tem.where(np.isnan(test),np.nan)\n",
    "print(ds_tem.uwnd[1050:1150].data)\n",
    "print((ds_usv_subset.UWND_MEAN*test.uwnd).mean())\n",
    "print((ds_usv_subset.VWND_MEAN*test.vwnd).mean())\n"
   ]
  },
  {
   "cell_type": "code",
   "execution_count": 105,
   "metadata": {},
   "outputs": [
    {
     "data": {
      "text/plain": [
       "<xarray.Dataset>\n",
       "Dimensions:               (time: 17583)\n",
       "Coordinates:\n",
       "    trajectory            float32 1002.0\n",
       "  * time                  (time) datetime64[ns] 2018-04-11T18:30:00 ... 2018-06-11T05:34:00\n",
       "    lat                   (time) float64 37.82 37.82 37.82 ... 37.78 37.78 37.78\n",
       "    lon                   (time) float64 -122.5 -122.5 -122.5 ... -122.3 -122.3\n",
       "Data variables:\n",
       "    SOG                   (time) float64 ...\n",
       "    COG                   (time) float64 ...\n",
       "    HDG                   (time) float64 ...\n",
       "    HDG_WING              (time) float64 ...\n",
       "    ROLL                  (time) float64 ...\n",
       "    PITCH                 (time) float64 ...\n",
       "    WING_ANGLE            (time) float64 ...\n",
       "    BARO_PRES_MEAN        (time) float64 ...\n",
       "    BARO_PRES_STDDEV      (time) float64 ...\n",
       "    TEMP_AIR_MEAN         (time) float64 ...\n",
       "    TEMP_AIR_STDDEV       (time) float64 ...\n",
       "    RH_MEAN               (time) float64 ...\n",
       "    RH_STDDEV             (time) float64 ...\n",
       "    TEMP_IR_UNCOR_MEAN    (time) float64 ...\n",
       "    TEMP_IR_UNCOR_STDDEV  (time) float64 ...\n",
       "    UWND_MEAN             (time) float64 3.55 3.1 2.61 3.28 ... 2.64 3.17 2.83\n",
       "    UWND_STDDEV           (time) float64 ...\n",
       "    VWND_MEAN             (time) float64 2.19 3.0 2.95 3.06 ... -0.03 -0.36 0.67\n",
       "    VWND_STDDEV           (time) float64 ...\n",
       "    WWND_MEAN             (time) float64 ...\n",
       "    WWND_STDDEV           (time) float64 ...\n",
       "    GUST_WND_MEAN         (time) float64 ...\n",
       "    GUST_WND_STDDEV       (time) float64 ...\n",
       "    TEMP_CTD_MEAN         (time) float64 ...\n",
       "    TEMP_CTD_STDDEV       (time) float64 ...\n",
       "    COND_MEAN             (time) float64 ...\n",
       "    COND_STDDEV           (time) float64 ...\n",
       "    SAL_MEAN              (time) float64 ...\n",
       "    SAL_STDDEV            (time) float64 ...\n",
       "    O2_CONC_UNCOR_MEAN    (time) float64 ...\n",
       "    O2_CONC_UNCOR_STDDEV  (time) float64 ...\n",
       "    O2_SAT_MEAN           (time) float64 ...\n",
       "    O2_SAT_STDDEV         (time) float64 ...\n",
       "    TEMP_O2_MEAN          (time) float64 ...\n",
       "    TEMP_O2_STDDEV        (time) float64 ...\n",
       "    CHLOR_MEAN            (time) float64 ...\n",
       "    CHLOR_STDDEV          (time) float64 ...\n",
       "    CDOM_MEAN             (time) float64 ...\n",
       "    CDOM_STDDEV           (time) float64 ...\n",
       "    BKSCT_RED_MEAN        (time) float64 ...\n",
       "    BKSCT_RED_STDDEV      (time) float64 ...\n",
       "    wind_speed            (time) float64 4.171 4.314 3.939 ... 2.64 3.19 2.908\n",
       "    wind_dir              (time) float64 31.67 44.06 48.5 ... -6.479 13.32\n",
       "Attributes:\n",
       "    title:                     Baja 2018 Near-Real-Time Mission Data\n",
       "    ncei_template_version:     NCEI_NetCDF_Trajectory_Template_v2.0\n",
       "    Conventions:               CF-1.6, ACDD-1.3\n",
       "    netcdf_version:            4.4.1.1\n",
       "    featureType:               trajectory\n",
       "    cdm_data_type:             Trajectory\n",
       "    standard_name_vocabulary:  CF Standard Name Table v58\n",
       "    description:               Saildrone NetCDF Format\n",
       "    creator_name:              Saildrone\n",
       "    platform:                  Saildrone\n",
       "    institution:               Saildrone\n",
       "    creator_email:             support@saildrone.com\n",
       "    creator_url:               http://saildrone.com/\n",
       "    date_created:              2018-08-29T21:02:49.774718Z\n",
       "    interval:                  60.0\n",
       "    time_coverage_resolution:  PT1M\n",
       "    time_coverage_start:       2018-04-11T18:00:00.000000Z\n",
       "    time_coverage_end:         2018-06-11T05:59:59.000000Z\n",
       "    time_coverage_duration:    P60DT11H59M59S\n",
       "    data_mode:                 realtime\n",
       "    drone_id:                  1002\n",
       "    id:                        3860\n",
       "    naming_authority:          com.saildrone\n",
       "    uuid:                      b98a9a81-d9f0-4751-aad6-8ea5b8cea963\n",
       "    geospatial_lat_min:        28.0176832\n",
       "    geospatial_lat_max:        37.8174912\n",
       "    geospatial_lat_units:      degrees_north\n",
       "    geospatial_lon_min:        -125.55297279999999\n",
       "    geospatial_lon_max:        -115.5226624\n",
       "    geospatial_lon_units:      degrees_east\n",
       "    area:                      Baja California Coast\n",
       "    project:                   baja_2018\n",
       "    product_version:           1\n",
       "    summary:                   The Saildrone unmanned surface vehicle (USV) c..."
      ]
     },
     "execution_count": 105,
     "metadata": {},
     "output_type": "execute_result"
    }
   ],
   "source": [
    "ds_usv_subset"
   ]
  },
  {
   "cell_type": "code",
   "execution_count": 110,
   "metadata": {},
   "outputs": [
    {
     "name": "stdout",
     "output_type": "stream",
     "text": [
      "<xarray.DataArray 'lon' (lon: 5)>\n",
      "array([-179.875, -179.625, -179.375, -179.125, -178.875], dtype=float32)\n",
      "Coordinates:\n",
      "  * lon      (lon) float32 -179.875 -179.625 -179.375 -179.125 -178.875\n",
      "<xarray.DataArray 'lon' ()>\n",
      "array(0.25, dtype=float32)\n",
      "<xarray.DataArray 'lat' (lat: 5)>\n",
      "array([-78.375, -78.125, -77.875, -77.625, -77.375], dtype=float32)\n",
      "Coordinates:\n",
      "  * lat      (lat) float32 -78.375 -78.125 -77.875 -77.625 -77.375\n",
      "Attributes:\n",
      "    units:                degrees_north\n",
      "    axis:                 Y\n",
      "    long_name:            latitude\n",
      "    standard_name:        latitude\n",
      "    actual_range:         [-78.35  78.35]\n",
      "    valid_min:            -90.0\n",
      "    valid_max:            90.0\n",
      "    fill_value:           -9999.0\n",
      "    _CoordinateAxisType:  Lat\n",
      "    coordinate_defines:   center\n",
      "<xarray.DataArray 'lat' ()>\n",
      "array(0.25, dtype=float32)\n"
     ]
    }
   ],
   "source": [
    "print(ds_sat.lon[0:5])\n",
    "print(ds_sat.lon[1]-ds_sat.lon[0])\n",
    "print(ds_sat.lat[0:5])\n",
    "print(ds_sat.lat[1]-ds_sat.lat[0])"
   ]
  },
  {
   "cell_type": "code",
   "execution_count": 113,
   "metadata": {},
   "outputs": [],
   "source": [
    "ds_usv_subset_test = ds_usv_subset.copy(deep=True)\n",
    "ds_usv_subset_test['lon']=((np.round((ds_usv_subset.lon+179.875)/.25+1)-1)*.25)-179.875\n",
    "ds_usv_subset_test['lat']=((np.round((ds_usv_subset.lat+78.375)/.25+1)-1)*.25)-78.375"
   ]
  },
  {
   "cell_type": "code",
   "execution_count": 115,
   "metadata": {},
   "outputs": [
    {
     "data": {
      "text/plain": [
       "[<matplotlib.lines.Line2D at 0x1f685ac8>]"
      ]
     },
     "execution_count": 115,
     "metadata": {},
     "output_type": "execute_result"
    },
    {
     "data": {
      "image/png": "[encoded data removed]",
      "text/plain": [
       "<Figure size 432x288 with 1 Axes>"
      ]
     },
     "metadata": {
      "needs_background": "light"
     },
     "output_type": "display_data"
    }
   ],
   "source": [
    "plt.plot(ds_usv_subset.lon[0:500],ds_usv_subset.lat[0:500],'.-')\n",
    "plt.plot(ds_usv_subset_test.lon[0:500],ds_usv_subset_test.lat[0:500],'.')"
   ]
  },
  {
   "cell_type": "code",
   "execution_count": 119,
   "metadata": {},
   "outputs": [
    {
     "ename": "ValueError",
     "evalue": "dimensions ['lon'] do not exist",
     "output_type": "error",
     "traceback": [
      "\u001b[1;31m---------------------------------------------------------------------------\u001b[0m",
      "\u001b[1;31mValueError\u001b[0m                                Traceback (most recent call last)",
      "\u001b[1;32m<ipython-input-119-7ee6c52bc30b>\u001b[0m in \u001b[0;36m<module>\u001b[1;34m\u001b[0m\n\u001b[1;32m----> 1\u001b[1;33m \u001b[0mtest\u001b[0m \u001b[1;33m=\u001b[0m \u001b[0mds_usv_subset\u001b[0m\u001b[1;33m.\u001b[0m\u001b[0minterp\u001b[0m\u001b[1;33m(\u001b[0m\u001b[0mlon\u001b[0m \u001b[1;33m=\u001b[0m \u001b[0mds_usv_subset_test\u001b[0m\u001b[1;33m.\u001b[0m\u001b[0mlon\u001b[0m\u001b[1;33m)\u001b[0m \u001b[1;31m#,lat = ds_usv_subset_test.lat)\u001b[0m\u001b[1;33m\u001b[0m\u001b[0m\n\u001b[0m",
      "\u001b[1;32m~\\Miniconda3\\lib\\site-packages\\xarray\\core\\dataset.py\u001b[0m in \u001b[0;36minterp\u001b[1;34m(self, coords, method, assume_sorted, kwargs, **coords_kwargs)\u001b[0m\n\u001b[0;32m   1959\u001b[0m \u001b[1;33m\u001b[0m\u001b[0m\n\u001b[0;32m   1960\u001b[0m         \u001b[0mcoords\u001b[0m \u001b[1;33m=\u001b[0m \u001b[0meither_dict_or_kwargs\u001b[0m\u001b[1;33m(\u001b[0m\u001b[0mcoords\u001b[0m\u001b[1;33m,\u001b[0m \u001b[0mcoords_kwargs\u001b[0m\u001b[1;33m,\u001b[0m \u001b[1;34m'interp'\u001b[0m\u001b[1;33m)\u001b[0m\u001b[1;33m\u001b[0m\u001b[0m\n\u001b[1;32m-> 1961\u001b[1;33m         \u001b[0mindexers\u001b[0m \u001b[1;33m=\u001b[0m \u001b[0mOrderedDict\u001b[0m\u001b[1;33m(\u001b[0m\u001b[0mself\u001b[0m\u001b[1;33m.\u001b[0m\u001b[0m_validate_indexers\u001b[0m\u001b[1;33m(\u001b[0m\u001b[0mcoords\u001b[0m\u001b[1;33m)\u001b[0m\u001b[1;33m)\u001b[0m\u001b[1;33m\u001b[0m\u001b[0m\n\u001b[0m\u001b[0;32m   1962\u001b[0m \u001b[1;33m\u001b[0m\u001b[0m\n\u001b[0;32m   1963\u001b[0m         \u001b[0mobj\u001b[0m \u001b[1;33m=\u001b[0m \u001b[0mself\u001b[0m \u001b[1;32mif\u001b[0m \u001b[0massume_sorted\u001b[0m \u001b[1;32melse\u001b[0m \u001b[0mself\u001b[0m\u001b[1;33m.\u001b[0m\u001b[0msortby\u001b[0m\u001b[1;33m(\u001b[0m\u001b[1;33m[\u001b[0m\u001b[0mk\u001b[0m \u001b[1;32mfor\u001b[0m \u001b[0mk\u001b[0m \u001b[1;32min\u001b[0m \u001b[0mcoords\u001b[0m\u001b[1;33m]\u001b[0m\u001b[1;33m)\u001b[0m\u001b[1;33m\u001b[0m\u001b[0m\n",
      "\u001b[1;32m~\\Miniconda3\\lib\\site-packages\\xarray\\core\\dataset.py\u001b[0m in \u001b[0;36m_validate_indexers\u001b[1;34m(self, indexers)\u001b[0m\n\u001b[0;32m   1407\u001b[0m         \u001b[0minvalid\u001b[0m \u001b[1;33m=\u001b[0m \u001b[1;33m[\u001b[0m\u001b[0mk\u001b[0m \u001b[1;32mfor\u001b[0m \u001b[0mk\u001b[0m \u001b[1;32min\u001b[0m \u001b[0mindexers\u001b[0m \u001b[1;32mif\u001b[0m \u001b[0mk\u001b[0m \u001b[1;32mnot\u001b[0m \u001b[1;32min\u001b[0m \u001b[0mself\u001b[0m\u001b[1;33m.\u001b[0m\u001b[0mdims\u001b[0m\u001b[1;33m]\u001b[0m\u001b[1;33m\u001b[0m\u001b[0m\n\u001b[0;32m   1408\u001b[0m         \u001b[1;32mif\u001b[0m \u001b[0minvalid\u001b[0m\u001b[1;33m:\u001b[0m\u001b[1;33m\u001b[0m\u001b[0m\n\u001b[1;32m-> 1409\u001b[1;33m             \u001b[1;32mraise\u001b[0m \u001b[0mValueError\u001b[0m\u001b[1;33m(\u001b[0m\u001b[1;34m\"dimensions %r do not exist\"\u001b[0m \u001b[1;33m%\u001b[0m \u001b[0minvalid\u001b[0m\u001b[1;33m)\u001b[0m\u001b[1;33m\u001b[0m\u001b[0m\n\u001b[0m\u001b[0;32m   1410\u001b[0m \u001b[1;33m\u001b[0m\u001b[0m\n\u001b[0;32m   1411\u001b[0m         \u001b[1;31m# all indexers should be int, slice, np.ndarrays, or Variable\u001b[0m\u001b[1;33m\u001b[0m\u001b[1;33m\u001b[0m\u001b[0m\n",
      "\u001b[1;31mValueError\u001b[0m: dimensions ['lon'] do not exist"
     ]
    }
   ],
   "source": [
    "test = ds_usv_subset.interp(lon = ds_usv_subset_test.lon) #,lat = ds_usv_subset_test.lat)"
   ]
  },
  {
   "cell_type": "code",
   "execution_count": null,
   "metadata": {},
   "outputs": [],
   "source": [
    "lats_usv=ds_usv.latitude.values\n",
    "lons_usv=ds_usv.longitude.values\n",
    "skin=ds_usv.TEMP_IR_UNCOR_MEAN.values\n",
    "tair=ds_usv.TEMP_AIR_MEAN.values\n",
    "bulk1=ds_usv.TEMP_CTD_MEAN.values\n",
    "bulk2=ds_usv.TEMP_O2_MEAN.values\n",
    "uspd=ds_usv.UWND_MEAN.values\n",
    "vspd=ds_usv.VWND_MEAN.values\n",
    "wing=ds_usv.HDG_WING.values\n",
    "wing_ang=ds_usv.WING_ANGLE.values\n",
    "pitch=ds_usv.PITCH.values\n",
    "heading=ds_usv.HDG_WING.values\n",
    "yaw_heading=ds_usv.HDG.values\n",
    "roll=ds_usv.ROLL.values\n",
    "tdim=len(skin)\n",
    "wdir=np.zeros(tdim)\n",
    "for i in range(0,tdim):\n",
    "    wdir[i]=atan2(vspd[i],uspd[i])*180/3.14159\n",
    "wspd=(uspd**2+vspd**2)**.5"
   ]
  },
  {
   "cell_type": "code",
   "execution_count": null,
   "metadata": {},
   "outputs": [],
   "source": [
    "ds_sat = get_ccmp(2018,170)\n"
   ]
  },
  {
   "cell_type": "code",
   "execution_count": null,
   "metadata": {},
   "outputs": [],
   "source": [
    "#get lat/lon from random file, it doesn't change\n",
    "ds_sat = get_ccmp(2003,1)\n",
    "lats_sat = ds_sat.lat\n",
    "lons_sat = ds_sat.lon\n",
    "ds_sat.close()\n",
    "#initialize variables\n",
    "latli_sv=-99\n",
    "lonli_sv=-99\n",
    "ihr_sv=-99\n",
    "col_count=0  #initialize\n",
    "gsst=np.zeros(tdim)\n",
    "gsst_num=np.zeros(tdim)\n",
    "#get goes data collocated with usv positions and times\n",
    "for i in range(0,10): #tdim):\n",
    "    latli = np.argmin( np.abs( lats_sat - lats_usv[i] ) )\n",
    "    lonli = np.argmin( np.abs( lons_sat - lons_usv[i] ) )\n",
    "    idy = ds_usv.time[i].dt.day.data        \n",
    "    if (latli!=latli_sv) or (lonli_sv!=lonli) or (idy_sv!=idy):  #need to read in new data\n",
    "        ds_sat = get_ccmp(ds_usv.time[i].dt.year.data,ds_usv.time[i].dt.dayofyear.data)\n",
    "        col_count += 1\n",
    "        gsst[i] = sat_sst\n",
    "        gsst_num[i] = col_count  #this is to keep track of when a new file read in or new collocation point\n",
    "        nc.close()\n",
    "        latli_sv=latli\n",
    "        lonli_sv=lonli\n",
    "        ihr_sv=ds_usv.time[i].dt.hour.data\n",
    "        print(i,tdim,lonli.data, latli.data,ihr_sv,gsst[i])\n",
    "    else:  #collocation is to same gsst point\n",
    "        gsst[i] = sat_sst \n",
    "        gsst_num[i] = col_count  #this is to keep track of when a new file read in or new collocation point\n"
   ]
  },
  {
   "cell_type": "code",
   "execution_count": null,
   "metadata": {},
   "outputs": [],
   "source": [
    "#put into xarray dataset similiar in format to usv data\n",
    "gsst2=np.zeros((1,tdim))\n",
    "gsst_tem=np.zeros((1,tdim))\n",
    "gsst2[0,:]=gsst\n",
    "data_goes = xr.DataArray(gsst2, coords={'trajectory': ds_usv.trajectory,'obs': ds_usv.obs}, dims=('trajectory', 'obs'))\n",
    "gsst_tem[0,:]=gsst_num\n",
    "num_goes = xr.DataArray(gsst_tem, coords={'trajectory': ds_usv.trajectory,'obs': ds_usv.obs}, dims=('trajectory', 'obs'))\n",
    "xr_gsst = xr.Dataset({'goes_sst': data_goes, 'collocation_index': num_goes}, \n",
    "                     coords={'trajectory':ds_usv.trajectory, 'time':ds_usv.time, 'latitude':ds_usv.latitude, 'longitude':ds_usv.longitude})   \n"
   ]
  },
  {
   "cell_type": "code",
   "execution_count": null,
   "metadata": {},
   "outputs": [],
   "source": [
    "xr_gsst\n",
    "\n"
   ]
  },
  {
   "cell_type": "code",
   "execution_count": null,
   "metadata": {},
   "outputs": [],
   "source": [
    "#np.save(filename_goes_sst, gsst)"
   ]
  },
  {
   "cell_type": "code",
   "execution_count": 116,
   "metadata": {},
   "outputs": [
    {
     "data": {
      "text/plain": [
       "'F:/data/sat_data/ccmp/v02.0/Y2018/M04/CCMP_RT_Wind_Analysis_20180411_V02.0_L3.0_RSS.nc'"
      ]
     },
     "execution_count": 116,
     "metadata": {},
     "output_type": "execute_result"
    }
   ],
   "source": []
  },
  {
   "cell_type": "code",
   "execution_count": null,
   "metadata": {},
   "outputs": [],
   "source": []
  }
 ],
 "metadata": {
  "kernelspec": {
   "display_name": "Python 3",
   "language": "python",
   "name": "python3"
  },
  "language_info": {
   "codemirror_mode": {
    "name": "ipython",
    "version": 3
   },
   "file_extension": ".py",
   "mimetype": "text/x-python",
   "name": "python",
   "nbconvert_exporter": "python",
   "pygments_lexer": "ipython3",
   "version": "3.7.0"
  }
 },
 "nbformat": 4,
 "nbformat_minor": 1
}
