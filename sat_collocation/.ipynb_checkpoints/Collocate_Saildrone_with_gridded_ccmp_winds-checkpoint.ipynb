{
 "cells": [
  {
   "cell_type": "markdown",
   "metadata": {},
   "source": [
    "This is the Saildrone and CCMP collocation code. \n"
   ]
  },
  {
   "cell_type": "code",
   "execution_count": 20,
   "metadata": {},
   "outputs": [],
   "source": [
    "import os\n",
    "import numpy as np\n",
    "import matplotlib.pyplot as plt\n",
    "from datetime import datetime, timedelta\n",
    "from netCDF4 import Dataset, date2index, num2date\n",
    "import datetime as dt\n",
    "from math import atan2\n",
    "import xarray as xr\n",
    "\n",
    "def get_ccmp(lyr,idyjl):\n",
    "    iexist,ds=[]\n",
    "    dir_ccmp='F:/data/sat_data/ccmp/v02.0/'\n",
    "    d = dt.datetime(2010,1,1) + dt.timedelta(days=idyjl-1)\n",
    "    day_of_year, imon, idym = d.timetuple().tm_yday, d.month, d.day\n",
    "    syr, smon, sdym, sjdy=str(lyr),str(imon),str(idym),str(idyjl)\n",
    "    fname_tem='/CCMP_Wind_Analysis_' + syr + smon.zfill(2) + sdym.zfill(2) + '_V02.0_L3.0_RSS.nc'\n",
    "    ccmp_filename = dir_ccmp + 'Y' + syr + '/M' + smon.zfill(2) + fname_tem      \n",
    "    exists = os.path.isfile(ccmp_filename)\n",
    "    if exists==False:\n",
    "        fname_tem='/CCMP_RT_Wind_Analysis_' + syr + smon.zfill(2) + sdym.zfill(2) + '_V02.0_L3.0_RSS.nc'\n",
    "        ccmp_filename = dir_ccmp + 'Y' + syr + '/M' + smon.zfill(2) + fname_tem      \n",
    "        exists = os.path.isfile(ccmp_filename)\n",
    "   # print(exists,ccmp_filename)\n",
    "    if exists:       \n",
    "        ds=xr.open_dataset(ccmp_filename,drop_variables=['nobs'])\n",
    "        ds = ds.rename({'longitude':'lon','latitude':'lat'}) #, inplace = True)  \n",
    "        ds = ds.assign_coords(lon=(((ds.lon + 180) % 360) - 180)).sortby('lon').sortby('lat')\n",
    "        #ds['spd']=np.sqrt(ds.uwnd**2+ds.vwnd**2)\n",
    "        iexist=1\n",
    "    return ds, iexist\n",
    "\n",
    "def get_ccmp_filename(date):\n",
    "    dir_ccmp='F:/data/sat_data/ccmp/v02.0/'\n",
    "#    d = dt.datetime(lyr,1,1) + dt.timedelta(days=idyjl-1)\n",
    "    lyr, idyjl, imon, idym = date.dt.year.data, date.dt.dayofyear.data, date.dt.month.data, date.dt.day.data\n",
    "    syr, smon, sdym, sjdy=str(lyr),str(imon),str(idym),str(idyjl)\n",
    "    fname_tem='/CCMP_Wind_Analysis_' + syr + smon.zfill(2) + sdym.zfill(2) + '_V02.0_L3.0_RSS.nc'\n",
    "    ccmp_filename = dir_ccmp + 'Y' + syr + '/M' + smon.zfill(2) + fname_tem      \n",
    "    exists = os.path.isfile(ccmp_filename)\n",
    "    if exists==False:\n",
    "        fname_tem='/CCMP_RT_Wind_Analysis_' + syr + smon.zfill(2) + sdym.zfill(2) + '_V02.0_L3.0_RSS.nc'\n",
    "        ccmp_filename = dir_ccmp + 'Y' + syr + '/M' + smon.zfill(2) + fname_tem      \n",
    "        exists = os.path.isfile(ccmp_filename)\n",
    "   # print(exists,ccmp_filename)\n",
    "    return ccmp_filename, exists\n"
   ]
  },
  {
   "cell_type": "code",
   "execution_count": 21,
   "metadata": {},
   "outputs": [
    {
     "name": "stdout",
     "output_type": "stream",
     "text": [
      "[3.03 3.78 4.51 3.6  3.   3.91 4.96 4.16 4.41 4.65]\n"
     ]
    }
   ],
   "source": [
    "filename_collocation_data = 'F:/data/cruise_data/saildrone/baja-2018/ccmp_collocation_data.nc'\n",
    "#filename_usv = 'https://podaac-opendap.jpl.nasa.gov/opendap/hyrax/allData/insitu/L2/saildrone/Baja/saildrone-gen_4-baja_2018-sd1002-20180411T180000-20180611T055959-1_minutes-v1.nc'\n",
    "filename_usv='f:/data/cruise_data/saildrone/baja-2018/saildrone-gen_4-baja_2018-sd1002-20180411T180000-20180611T055959-1_minutes-v1.nc'\n",
    "#filename_usv='f:/data/cruise_data/saildrone/baja-2018/old_versions/saildrone-gen_5-baja_2018-sd1002-20180411T180000-20180611T055959-1_minutes-v2.1535585233403.nc'\n",
    "ds_usv = xr.open_dataset(filename_usv)\n",
    "ds_usv.close()\n",
    "ds_usv = ds_usv.isel(trajectory=0)  \n",
    "ds_usv = ds_usv.swap_dims({'obs':'time'})\n",
    "ds_usv = ds_usv.rename({'longitude':'lon','latitude':'lat'})\n",
    "#there are 6 nan values\n",
    "ds_usv['lon'] = ds_usv.lon.interpolate_na(dim='time',method='linear')\n",
    "ds_usv['lat'] = ds_usv.lat.interpolate_na(dim='time',method='linear')\n",
    "ds_usv_subset = ds_usv.dropna(dim='time',subset={'UWND_MEAN'})   #get rid of all the nan\n",
    "print(ds_usv_subset.UWND_MEAN[2000:2010].values)"
   ]
  },
  {
   "cell_type": "code",
   "execution_count": 22,
   "metadata": {},
   "outputs": [
    {
     "name": "stdout",
     "output_type": "stream",
     "text": [
      "2018-04-11T18:00:00.000000000\n",
      "2018-04-14T18:00:00.000000000\n"
     ]
    }
   ],
   "source": [
    "start_date = ds_usv.time.min()\n",
    "end_date = ds_usv.time.max()\n",
    "date = start_date.data\n",
    "print(date)\n",
    "date = date+np.timedelta64(3,'D')\n",
    "print(date)\n"
   ]
  },
  {
   "cell_type": "code",
   "execution_count": 39,
   "metadata": {},
   "outputs": [],
   "source": [
    "#create list of ccmp filenames to input\n",
    "start_date,end_date = ds_usv.time.min(),ds_usv.time.max()\n",
    "date,filelist = start_date,[]\n",
    "while date<=(end_date+np.timedelta64(1,'D')):\n",
    "    tem_filename, exists = get_ccmp_filename(date)\n",
    "    if exists:\n",
    "        filelist.append(tem_filename)\n",
    "    date=date+np.timedelta64(1,'D')"
   ]
  },
  {
   "cell_type": "code",
   "execution_count": 37,
   "metadata": {},
   "outputs": [
    {
     "data": {
      "text/plain": [
       "<xarray.Dataset>\n",
       "Dimensions:  (lat: 628, lon: 1440, time: 248)\n",
       "Coordinates:\n",
       "  * lon      (lon) float32 -179.875 -179.625 -179.375 ... 179.625 179.875\n",
       "  * lat      (lat) float32 -78.375 -78.125 -77.875 ... 77.875 78.125 78.375\n",
       "  * time     (time) datetime64[ns] 2018-04-11 ... 2018-06-11T18:00:00\n",
       "Data variables:\n",
       "    uwnd     (time, lat, lon) float32 dask.array<shape=(248, 628, 1440), chunksize=(4, 628, 1440)>\n",
       "    vwnd     (time, lat, lon) float32 dask.array<shape=(248, 628, 1440), chunksize=(4, 628, 1440)>\n",
       "    nobs     (time, lat, lon) float32 dask.array<shape=(248, 628, 1440), chunksize=(4, 628, 1440)>\n",
       "Attributes:\n",
       "    contact:                    Remote Sensing Systems, support@remss.com\n",
       "    Conventions:                CF-1.6\n",
       "    data_structure:             grid\n",
       "    title:                      RSS CCMP_RT V2.1 derived surface winds (Level...\n",
       "    history:                    20180426T175522ZZ - netCDF generated from ori...\n",
       "    description:                RSS VAM 6-hour analyses starting from the NCE...\n",
       "    summary:                    CCMP_RT V2.1 has been created using the same ...\n",
       "    institute_id:               RSS\n",
       "    institution:                Remote Sensing Systems (RSS)\n",
       "    base_date:                  Y2018 M04 D11\n",
       "    comment:                    none\n",
       "    license:                    available for public use with proper citation\n",
       "    product_version:            v2.1\n",
       "    netcdf_version_id:          4.2\n",
       "    date_created:               20180426T175522Z\n",
       "    geospatial_lat_units:       degrees_north\n",
       "    geospatial_lat_resolution:  0.25 degrees\n",
       "    geospatial_lat_min:         -78.375 degrees\n",
       "    geospatial_lat_max:         78.375 degrees\n",
       "    geospatial_lon_units:       degrees_east\n",
       "    geospatial_lon_resolution:  0.25 degrees\n",
       "    geospatial_lon_min:         0.125 degrees\n",
       "    geospatial_lon_max:         359.875 degrees\n",
       "    creator_name:               Remote Sensing Systems\n",
       "    creator_email:              support@remss.com\n",
       "    creator_url:                http://www.remss.com/\n",
       "    project:                    RSS Cross-Calibrated Multi-Platform Ocean Sur...\n",
       "    publisher_name:             Remote Sensing Systems\n",
       "    publisher_email:            support@remss.com\n",
       "    publisher_url:              http://www.remss.com/\n",
       "    contributor_name:           Carl Mears, Joel Scott, Frank Wentz, Ross Hof...\n",
       "    contributor_role:           Co-Investigator, Software Engineer, Project L...\n",
       "    processing_level:           L3.0\n",
       "    keywords:                   surface winds, ocean winds, wind speed/wind d...\n",
       "    keywords_vocabulary:        GCMD Science Keywords\n",
       "    references:                 Hoffman et al., Journal of Atmospheric and Oc..."
      ]
     },
     "execution_count": 37,
     "metadata": {},
     "output_type": "execute_result"
    }
   ],
   "source": [
    "#ds_sat,iexist = get_ccmp(2018,102)\n",
    "#ccmp_path = 'F:/data/sat_data/ccmp/v02.0/Y2018/M04/'\n",
    "ds_sat = xr.open_mfdataset(filelist,coords='minimal')\n",
    "ds_sat = ds_sat.rename({'longitude':'lon','latitude':'lat'}) #, inplace = True)  \n",
    "ds_sat = ds_sat.assign_coords(lon=(((ds_sat.lon + 180) % 360) - 180)).sortby('lon').sortby('lat')\n",
    "ds_sat"
   ]
  },
  {
   "cell_type": "code",
   "execution_count": 44,
   "metadata": {},
   "outputs": [
    {
     "name": "stdout",
     "output_type": "stream",
     "text": [
      "-78.375 78.375 -179.875 179.875\n",
      "28.0176832 37.8174912 -125.55297279999999 -115.5226624\n"
     ]
    },
    {
     "data": {
      "text/plain": [
       "<xarray.Dataset>\n",
       "Dimensions:  (lat: 39, lon: 40, time: 248)\n",
       "Coordinates:\n",
       "  * lon      (lon) float32 -125.375 -125.125 -124.875 ... -115.875 -115.625\n",
       "  * lat      (lat) float32 28.125 28.375 28.625 28.875 ... 37.125 37.375 37.625\n",
       "  * time     (time) datetime64[ns] 2018-04-11 ... 2018-06-11T18:00:00\n",
       "Data variables:\n",
       "    uwnd     (time, lat, lon) float32 dask.array<shape=(248, 39, 40), chunksize=(248, 39, 40)>\n",
       "    vwnd     (time, lat, lon) float32 dask.array<shape=(248, 39, 40), chunksize=(248, 39, 40)>\n",
       "    nobs     (time, lat, lon) float32 dask.array<shape=(248, 39, 40), chunksize=(248, 39, 40)>\n",
       "Attributes:\n",
       "    contact:                    Remote Sensing Systems, support@remss.com\n",
       "    Conventions:                CF-1.6\n",
       "    data_structure:             grid\n",
       "    title:                      RSS CCMP_RT V2.1 derived surface winds (Level...\n",
       "    history:                    20180426T175522ZZ - netCDF generated from ori...\n",
       "    description:                RSS VAM 6-hour analyses starting from the NCE...\n",
       "    summary:                    CCMP_RT V2.1 has been created using the same ...\n",
       "    institute_id:               RSS\n",
       "    institution:                Remote Sensing Systems (RSS)\n",
       "    base_date:                  Y2018 M04 D11\n",
       "    comment:                    none\n",
       "    license:                    available for public use with proper citation\n",
       "    product_version:            v2.1\n",
       "    netcdf_version_id:          4.2\n",
       "    date_created:               20180426T175522Z\n",
       "    geospatial_lat_units:       degrees_north\n",
       "    geospatial_lat_resolution:  0.25 degrees\n",
       "    geospatial_lat_min:         -78.375 degrees\n",
       "    geospatial_lat_max:         78.375 degrees\n",
       "    geospatial_lon_units:       degrees_east\n",
       "    geospatial_lon_resolution:  0.25 degrees\n",
       "    geospatial_lon_min:         0.125 degrees\n",
       "    geospatial_lon_max:         359.875 degrees\n",
       "    creator_name:               Remote Sensing Systems\n",
       "    creator_email:              support@remss.com\n",
       "    creator_url:                http://www.remss.com/\n",
       "    project:                    RSS Cross-Calibrated Multi-Platform Ocean Sur...\n",
       "    publisher_name:             Remote Sensing Systems\n",
       "    publisher_email:            support@remss.com\n",
       "    publisher_url:              http://www.remss.com/\n",
       "    contributor_name:           Carl Mears, Joel Scott, Frank Wentz, Ross Hof...\n",
       "    contributor_role:           Co-Investigator, Software Engineer, Project L...\n",
       "    processing_level:           L3.0\n",
       "    keywords:                   surface winds, ocean winds, wind speed/wind d...\n",
       "    keywords_vocabulary:        GCMD Science Keywords\n",
       "    references:                 Hoffman et al., Journal of Atmospheric and Oc..."
      ]
     },
     "execution_count": 44,
     "metadata": {},
     "output_type": "execute_result"
    }
   ],
   "source": [
    "#make ds_sat smaller by slicing to only relevant lat/lon region\n",
    "subset = ds_sat.sel(lon=slice(ds_usv.lon.min().data,ds_usv.lon.max().data),lat=slice(ds_usv.lat.min().data,ds_usv.lat.max().data))\n",
    "#now we have a smaller dataset so make chuncks same size as array otherwise interp will throw an error\n",
    "subset_chuncked = subset.chunk({'time': 248, 'lat': 39, 'lon':40})\n",
    "subset_chuncked"
   ]
  },
  {
   "cell_type": "code",
   "execution_count": 46,
   "metadata": {},
   "outputs": [
    {
     "name": "stdout",
     "output_type": "stream",
     "text": [
      "[2.47800975 2.52098679 2.56492515 2.61038711 2.65600381 2.70284454\n",
      " 2.750491   2.79913695 2.84870673 2.89903824 2.95012484 3.00218788\n",
      " 3.05503613 3.10901008 3.16373036 3.21932887 3.27572489 3.33224163\n",
      " 3.39284822 3.45352873 3.51539416 3.57804369 3.64143158 3.70529539\n",
      " 3.76998048 3.83520089 3.90111185 3.96751856 4.03442673 4.10177449\n",
      " 4.16955736 4.2378042  4.30645918 4.37538993 4.44460081 4.51443576\n",
      " 4.58458572 4.65491025 4.72534956 4.79595952 4.8669023  4.93816942\n",
      " 5.00934385 5.08065799 5.15191231 5.22326053 5.29497313 5.36705581\n",
      " 5.43926763 5.51182732 5.58475426 5.6584099  5.73215435 5.80550461\n",
      " 5.87807921 5.95097077 6.02514732 6.09900948 6.172196   6.2445449\n",
      " 6.31345624 6.3856035  6.45511301 6.52343959 6.59100334 6.65665592\n",
      " 6.72036125 6.78502603 6.84162463 6.9065657  6.97331349 7.03173923\n",
      " 7.08271968 7.04990325 7.02799995 6.99721077 6.96492177 6.9381179\n",
      " 6.92032998 6.90319109 6.8851684  6.86677347 6.84829628 6.82989503\n",
      " 6.81173273 6.79388059 6.77523146 6.75663999 6.7380312  6.72038381\n",
      " 6.7025732  6.68594293 6.66879534 6.6518969  6.63590862 6.61948005\n",
      " 6.60303263 6.58614898 6.57015278 6.55626649 6.54275129 6.52937546\n",
      " 6.51539556 6.50047859 6.48563846 6.47077567 6.45750758 6.44577296\n",
      " 6.43418836 6.42227157 6.40970413 6.39773275 6.38559747 6.37377847\n",
      " 6.36070515 6.34316037 6.3157743  6.30178806 6.29077983 6.27925479\n",
      " 6.26651308 6.2548126  6.24393512 6.21831093 6.19338891 6.16952303\n",
      " 6.14606242 6.12392023 6.10160329 6.07873748 6.05686903 6.03439888\n",
      " 6.01177989 5.98903922 5.96650218 5.95795832 5.95057121 5.94308668\n",
      " 5.9346251  5.92526    5.91530759 5.90546041 5.89573865 5.88659353\n",
      " 5.87907443 5.87509379 5.87142714 5.8676203  5.86430115 5.86050189\n",
      " 5.85394215 5.83668992 5.81975342 5.80380131 5.79015423 5.78204978\n",
      " 5.77817446 5.77366623 5.76798784 5.76036389 5.75334314 5.7469908\n",
      " 5.74050239 5.73335632 5.72052981 5.70951065 5.69890869 5.68864185\n",
      " 5.67884957 5.66946899 5.66042788 5.65172395 5.64384441 5.63658051\n",
      " 5.6299362  5.62573382 5.62210637 5.61813214 5.61381897 5.6094429\n",
      " 5.60489681 5.60046056 5.59554872 5.59029464 5.58469603 5.57863423\n",
      " 5.5726675  5.56657554 5.55828516 5.54818048 5.53851259 5.52843692\n",
      " 5.52308235 5.51975513 5.5171235  5.51450319 5.51169789 5.50853406\n",
      " 5.50560848 5.50363802 5.50230733 5.50196726 5.50237254 5.5037666\n",
      " 5.50540262 5.50852475 5.51113661 5.51478574 5.51868603 5.52318254\n",
      " 5.5280335  5.53467766 5.54099756 5.54819326 5.55585924 5.5642561\n",
      " 5.57316461 5.6034619  5.63464658 5.66485858 5.69666029 5.72895524\n",
      " 5.7601636  5.79288637 5.82562025 5.85841952 5.89095599 5.92411171\n",
      " 5.95756804 5.9919393  6.02685539 6.06165632 6.09670664 6.1305097\n",
      " 6.16582114 6.20173525 6.23742378 6.27462196 6.31165226 6.34861617\n",
      " 6.38538288 6.4222732  6.45977211 6.49581016 6.5323302  6.56935477\n",
      " 6.59144985 6.60625611 6.62188847 6.63894246 6.6568843  6.67515611\n",
      " 6.69319787 6.71140479 6.72509736 6.72838832 6.73411869 6.73791327\n",
      " 6.74294944 6.74598268 6.7583594  6.79306434 6.8121977  6.83273698\n",
      " 6.86866418 6.90303768 6.91757038 6.96859661 7.01948574 7.06871301\n",
      " 7.118563   7.15461625 7.17339893 7.19237882 7.21042432 7.22224405\n",
      " 7.22131195 7.22038037 7.2204503  7.22004246 7.22011553 7.24892292\n",
      " 7.27277722 7.30475018 7.32144891 7.35527692 7.3676066  7.41505519]\n"
     ]
    }
   ],
   "source": [
    "ds_sat2 = subset_chuncked.interp(lat=ds_usv_subset.lat,lon=ds_usv_subset.lon,time=ds_usv_subset.time,method='linear')\n",
    "#print(ds_sat2.uwnd.sel(time=slice('2018-04-12','2018-04-12')).values)"
   ]
  },
  {
   "cell_type": "code",
   "execution_count": null,
   "metadata": {},
   "outputs": [],
   "source": [
    "ds_usv_subset.UWND_MEAN[324]"
   ]
  },
  {
   "cell_type": "code",
   "execution_count": null,
   "metadata": {},
   "outputs": [],
   "source": [
    "ds_sat2.uwnd[327]"
   ]
  },
  {
   "cell_type": "code",
   "execution_count": null,
   "metadata": {},
   "outputs": [],
   "source": [
    "ds_sat2.uwnd[0]"
   ]
  },
  {
   "cell_type": "code",
   "execution_count": null,
   "metadata": {},
   "outputs": [],
   "source": [
    "ds_usv.time[0].dt.dayofyear\n",
    "ds_usv.time[0]+ np.timedelta64(days=-1) "
   ]
  },
  {
   "cell_type": "code",
   "execution_count": null,
   "metadata": {},
   "outputs": [],
   "source": [
    "lats_usv=ds_usv.latitude.values\n",
    "lons_usv=ds_usv.longitude.values\n",
    "skin=ds_usv.TEMP_IR_UNCOR_MEAN.values\n",
    "tair=ds_usv.TEMP_AIR_MEAN.values\n",
    "bulk1=ds_usv.TEMP_CTD_MEAN.values\n",
    "bulk2=ds_usv.TEMP_O2_MEAN.values\n",
    "uspd=ds_usv.UWND_MEAN.values\n",
    "vspd=ds_usv.VWND_MEAN.values\n",
    "wing=ds_usv.HDG_WING.values\n",
    "wing_ang=ds_usv.WING_ANGLE.values\n",
    "pitch=ds_usv.PITCH.values\n",
    "heading=ds_usv.HDG_WING.values\n",
    "yaw_heading=ds_usv.HDG.values\n",
    "roll=ds_usv.ROLL.values\n",
    "tdim=len(skin)\n",
    "wdir=np.zeros(tdim)\n",
    "for i in range(0,tdim):\n",
    "    wdir[i]=atan2(vspd[i],uspd[i])*180/3.14159\n",
    "wspd=(uspd**2+vspd**2)**.5"
   ]
  },
  {
   "cell_type": "code",
   "execution_count": null,
   "metadata": {},
   "outputs": [],
   "source": [
    "ds_sat = get_ccmp(2018,170)\n"
   ]
  },
  {
   "cell_type": "code",
   "execution_count": null,
   "metadata": {},
   "outputs": [],
   "source": [
    "#get lat/lon from random file, it doesn't change\n",
    "ds_sat = get_ccmp(2003,1)\n",
    "lats_sat = ds_sat.lat\n",
    "lons_sat = ds_sat.lon\n",
    "ds_sat.close()\n",
    "#initialize variables\n",
    "latli_sv=-99\n",
    "lonli_sv=-99\n",
    "ihr_sv=-99\n",
    "col_count=0  #initialize\n",
    "gsst=np.zeros(tdim)\n",
    "gsst_num=np.zeros(tdim)\n",
    "#get goes data collocated with usv positions and times\n",
    "for i in range(0,10): #tdim):\n",
    "    latli = np.argmin( np.abs( lats_sat - lats_usv[i] ) )\n",
    "    lonli = np.argmin( np.abs( lons_sat - lons_usv[i] ) )\n",
    "    idy = ds_usv.time[i].dt.day.data        \n",
    "    if (latli!=latli_sv) or (lonli_sv!=lonli) or (idy_sv!=idy):  #need to read in new data\n",
    "        ds_sat = get_ccmp(ds_usv.time[i].dt.year.data,ds_usv.time[i].dt.dayofyear.data)\n",
    "        col_count += 1\n",
    "        gsst[i] = sat_sst\n",
    "        gsst_num[i] = col_count  #this is to keep track of when a new file read in or new collocation point\n",
    "        nc.close()\n",
    "        latli_sv=latli\n",
    "        lonli_sv=lonli\n",
    "        ihr_sv=ds_usv.time[i].dt.hour.data\n",
    "        print(i,tdim,lonli.data, latli.data,ihr_sv,gsst[i])\n",
    "    else:  #collocation is to same gsst point\n",
    "        gsst[i] = sat_sst \n",
    "        gsst_num[i] = col_count  #this is to keep track of when a new file read in or new collocation point\n"
   ]
  },
  {
   "cell_type": "code",
   "execution_count": null,
   "metadata": {},
   "outputs": [],
   "source": [
    "#put into xarray dataset similiar in format to usv data\n",
    "gsst2=np.zeros((1,tdim))\n",
    "gsst_tem=np.zeros((1,tdim))\n",
    "gsst2[0,:]=gsst\n",
    "data_goes = xr.DataArray(gsst2, coords={'trajectory': ds_usv.trajectory,'obs': ds_usv.obs}, dims=('trajectory', 'obs'))\n",
    "gsst_tem[0,:]=gsst_num\n",
    "num_goes = xr.DataArray(gsst_tem, coords={'trajectory': ds_usv.trajectory,'obs': ds_usv.obs}, dims=('trajectory', 'obs'))\n",
    "xr_gsst = xr.Dataset({'goes_sst': data_goes, 'collocation_index': num_goes}, \n",
    "                     coords={'trajectory':ds_usv.trajectory, 'time':ds_usv.time, 'latitude':ds_usv.latitude, 'longitude':ds_usv.longitude})   \n"
   ]
  },
  {
   "cell_type": "code",
   "execution_count": null,
   "metadata": {},
   "outputs": [],
   "source": [
    "xr_gsst\n",
    "\n"
   ]
  },
  {
   "cell_type": "code",
   "execution_count": null,
   "metadata": {},
   "outputs": [],
   "source": [
    "#np.save(filename_goes_sst, gsst)"
   ]
  },
  {
   "cell_type": "code",
   "execution_count": null,
   "metadata": {},
   "outputs": [],
   "source": []
  },
  {
   "cell_type": "code",
   "execution_count": null,
   "metadata": {},
   "outputs": [],
   "source": []
  }
 ],
 "metadata": {
  "kernelspec": {
   "display_name": "Python 3",
   "language": "python",
   "name": "python3"
  },
  "language_info": {
   "codemirror_mode": {
    "name": "ipython",
    "version": 3
   },
   "file_extension": ".py",
   "mimetype": "text/x-python",
   "name": "python",
   "nbconvert_exporter": "python",
   "pygments_lexer": "ipython3",
   "version": "3.7.0"
  }
 },
 "nbformat": 4,
 "nbformat_minor": 1
}
