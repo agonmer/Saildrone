{
 "cells": [
  {
   "cell_type": "markdown",
   "metadata": {},
   "source": [
    "# This is the Saildrone and MUR global 1 km sea surface temperature collocation code. \n"
   ]
  },
  {
   "cell_type": "code",
   "execution_count": 147,
   "metadata": {},
   "outputs": [],
   "source": [
    "import os\n",
    "import numpy as np\n",
    "import matplotlib.pyplot as plt\n",
    "import datetime as dt\n",
    "import xarray as xr\n",
    "\n",
    "def get_sat_filename(date):\n",
    "    dir_sat='F:/data/sst/jpl_mur/v4.1/'\n",
    "    syr, smon, sdym, sjdy = str(date.dt.year.data), str(date.dt.month.data).zfill(2), str(date.dt.day.data).zfill(2), str(date.dt.dayofyear.data).zfill(2)\n",
    "    sat_filename = dir_sat + syr + '/'+ sjdy + '/' + syr + smon + sdym + '090000-JPL-L4_GHRSST-SSTfnd-MUR-GLOB-v02.0-fv04.1.nc'\n",
    "    exists = os.path.isfile(sat_filename)\n",
    "    return sat_filename, exists\n",
    "\n",
    "def robust_std(ds):\n",
    "    MAD = np.nanmedian(ds)\n",
    "    std_robust = MAD * 1.482602218505602"
   ]
  },
  {
   "cell_type": "markdown",
   "metadata": {},
   "source": [
    "# Read in USV data\n",
    "Read in the Saildrone USV file either from a local disc or using OpenDAP.\n",
    "\n",
    "There are 6 NaN values in the lat/lon data arrays, interpolate across these\n",
    "\n",
    "We want to collocate with wind vectors for this example,  but the wind vectors are only every 10 minutes rather than every minute, so use .dropna to remove all values in the dataset from all dataarrays when wind vectors aren't availalbe"
   ]
  },
  {
   "cell_type": "code",
   "execution_count": 148,
   "metadata": {},
   "outputs": [],
   "source": [
    "filename_collocation_data = 'F:/data/cruise_data/saildrone/baja-2018/ccmp_collocation_data.nc'\n",
    "#filename_usv = 'https://podaac-opendap.jpl.nasa.gov/opendap/hyrax/allData/insitu/L2/saildrone/Baja/saildrone-gen_4-baja_2018-sd1002-20180411T180000-20180611T055959-1_minutes-v1.nc'\n",
    "filename_usv='f:/data/cruise_data/saildrone/baja-2018/saildrone-gen_4-baja_2018-sd1002-20180411T180000-20180611T055959-1_minutes-v1.nc'\n",
    "ds_usv = xr.open_dataset(filename_usv)\n",
    "ds_usv.close()\n",
    "ds_usv = ds_usv.isel(trajectory=0).swap_dims({'obs':'time'}).rename({'longitude':'lon','latitude':'lat'})\n",
    "ds_usv = ds_usv.sel(time=slice('2018-04-12T02','2018-06-10T18')) #get rid of last part and first part where USV being towed\n",
    "ds_usv['lon'] = ds_usv.lon.interpolate_na(dim='time',method='linear') #there are 6 nan values\n",
    "ds_usv['lat'] = ds_usv.lat.interpolate_na(dim='time',method='linear')\n",
    "ds_usv['wind_speed']=np.sqrt(ds_usv.UWND_MEAN**2+ds_usv.VWND_MEAN**2)\n",
    "ds_usv['wind_dir']=np.arctan2(ds_usv.VWND_MEAN,ds_usv.UWND_MEAN)*180/np.pi\n",
    "ds_usv_subset = ds_usv.copy(deep=True)\n",
    "ds_usv_subset = ds_usv_subset.where(np.logical_not((ds_usv.time.dt.hour>12)&(ds_usv.wind_speed<7.5)))\n",
    "ds_usv_subset = ds_usv_subset.where(np.logical_not((ds_usv.time.dt.hour<6)&(ds_usv.wind_speed<7.5)))\n",
    "ds_usv_subset = ds_usv_subset.where(np.logical_not((ds_usv.time>np.datetime64('2018-05-24T12')) & (ds_usv.time<np.datetime64('2018-05-26T12'))))\n",
    "#ds_usv_subset = ds_usv.dropna(dim='time',subset={'UWND_MEAN'})   #get rid of all the nan\n",
    "#print(ds_usv_subset.UWND_MEAN[2000:2010].values)"
   ]
  },
  {
   "cell_type": "markdown",
   "metadata": {},
   "source": [
    "In order to use open_mfdataset you need to either provide a path or a list of filenames to input\n",
    "\n",
    "Here we use the USV cruise start and end date to read in all data for that period"
   ]
  },
  {
   "cell_type": "code",
   "execution_count": 149,
   "metadata": {},
   "outputs": [
    {
     "name": "stdout",
     "output_type": "stream",
     "text": [
      "F:/data/sst/jpl_mur/v4.1/2018/102/20180412090000-JPL-L4_GHRSST-SSTfnd-MUR-GLOB-v02.0-fv04.1.nc\n"
     ]
    }
   ],
   "source": [
    "read_date,end_date = ds_usv_subset.time.min(),ds_usv_subset.time.max()\n",
    "filelist = []\n",
    "while read_date<=(end_date+np.timedelta64(1,'D')):\n",
    "    tem_filename,exists = get_sat_filename(read_date)\n",
    "    if exists:\n",
    "        filelist.append(tem_filename)\n",
    "    read_date=read_date+np.timedelta64(1,'D')\n",
    "print(filelist[0])"
   ]
  },
  {
   "cell_type": "markdown",
   "metadata": {},
   "source": [
    "# Read in MUR data\n",
    "Read in data using open_mfdataset with the option coords='minimal'\n",
    "\n",
    "The dataset is printed out and you can see that rather than straight xarray data array for each of the data variables open_mfdataset using dask arrays"
   ]
  },
  {
   "cell_type": "code",
   "execution_count": 150,
   "metadata": {
    "scrolled": true
   },
   "outputs": [
    {
     "data": {
      "text/plain": [
       "<xarray.Dataset>\n",
       "Dimensions:           (lat: 17999, lon: 36000, time: 61)\n",
       "Coordinates:\n",
       "  * lat               (lat) float32 -89.99 -89.98 -89.97 ... 89.97 89.98 89.99\n",
       "  * lon               (lon) float32 -179.99 -179.98 -179.97 ... 179.99 180.0\n",
       "  * time              (time) datetime64[ns] 2018-04-12T09:00:00 ... 2018-06-11T09:00:00\n",
       "Data variables:\n",
       "    analysed_sst      (time, lat, lon) float32 dask.array<shape=(61, 17999, 36000), chunksize=(1, 17999, 36000)>\n",
       "    analysis_error    (time, lat, lon) float32 dask.array<shape=(61, 17999, 36000), chunksize=(1, 17999, 36000)>\n",
       "    mask              (time, lat, lon) float32 dask.array<shape=(61, 17999, 36000), chunksize=(1, 17999, 36000)>\n",
       "    sea_ice_fraction  (time, lat, lon) float32 dask.array<shape=(61, 17999, 36000), chunksize=(1, 17999, 36000)>\n",
       "    dt_1km_data       (time, lat, lon) timedelta64[ns] dask.array<shape=(61, 17999, 36000), chunksize=(1, 17999, 36000)>\n",
       "Attributes:\n",
       "    Conventions:                CF-1.5\n",
       "    title:                      Daily MUR SST, Final product\n",
       "    summary:                    A merged, multi-sensor L4 Foundation SST anal...\n",
       "    references:                 http://podaac.jpl.nasa.gov/Multi-scale_Ultra-...\n",
       "    institution:                Jet Propulsion Laboratory\n",
       "    history:                    created at nominal 4-day latency; replaced nr...\n",
       "    comment:                    MUR = \"Multi-scale Ultra-high Reolution\"\n",
       "    license:                    These data are available free of charge under...\n",
       "    id:                         MUR-JPL-L4-GLOB-v04.1\n",
       "    naming_authority:           org.ghrsst\n",
       "    product_version:            04.1\n",
       "    uuid:                       27665bc0-d5fc-11e1-9b23-0800200c9a66\n",
       "    gds_version_id:             2.0\n",
       "    netcdf_version_id:          4.1\n",
       "    date_created:               20180519T022756Z\n",
       "    start_time:                 20180412T090000Z\n",
       "    stop_time:                  20180412T090000Z\n",
       "    time_coverage_start:        20180411T210000Z\n",
       "    time_coverage_end:          20180412T210000Z\n",
       "    file_quality_level:         1\n",
       "    source:                     MODIS_T-JPL, MODIS_A-JPL, AMSR2-REMSS, AVHRR1...\n",
       "    platform:                   Terra, Aqua, GCOM-W, NOAA-19, MetOp-A, Buoys/...\n",
       "    sensor:                     MODIS, AMSR2, AVHRR, in-situ\n",
       "    Metadata_Conventions:       Unidata Observation Dataset v1.0\n",
       "    metadata_link:              http://podaac.jpl.nasa.gov/ws/metadata/datase...\n",
       "    keywords:                   Oceans > Ocean Temperature > Sea Surface Temp...\n",
       "    keywords_vocabulary:        NASA Global Change Master Directory (GCMD) Sc...\n",
       "    standard_name_vocabulary:   NetCDF Climate and Forecast (CF) Metadata Con...\n",
       "    southernmost_latitude:      -90.0\n",
       "    northernmost_latitude:      90.0\n",
       "    westernmost_longitude:      -180.0\n",
       "    easternmost_longitude:      180.0\n",
       "    spatial_resolution:         0.01 degrees\n",
       "    geospatial_lat_units:       degrees north\n",
       "    geospatial_lat_resolution:  0.01 degrees\n",
       "    geospatial_lon_units:       degrees east\n",
       "    geospatial_lon_resolution:  0.01 degrees\n",
       "    acknowledgment:             Please acknowledge the use of these data with...\n",
       "    creator_name:               JPL MUR SST project\n",
       "    creator_email:              ghrsst@podaac.jpl.nasa.gov\n",
       "    creator_url:                http://mur.jpl.nasa.gov\n",
       "    project:                    NASA Making Earth Science Data Records for Us...\n",
       "    publisher_name:             GHRSST Project Office\n",
       "    publisher_url:              http://www.ghrsst.org\n",
       "    publisher_email:            ghrsst-po@nceo.ac.uk\n",
       "    processing_level:           L4\n",
       "    cdm_data_type:              grid"
      ]
     },
     "execution_count": 150,
     "metadata": {},
     "output_type": "execute_result"
    }
   ],
   "source": [
    "ds_sat = xr.open_mfdataset(filelist,coords='minimal')\n",
    "ds_sat"
   ]
  },
  {
   "cell_type": "markdown",
   "metadata": {},
   "source": [
    "# Xarray interpolation won't run on chunked dimensions.  \n",
    "1. First let's subset the data to make it smaller to deal with by using the cruise lat/lons\n",
    "\n",
    "1. Now load the data into memory (de-Dask-ify) it  \n"
   ]
  },
  {
   "cell_type": "code",
   "execution_count": 151,
   "metadata": {},
   "outputs": [
    {
     "name": "stdout",
     "output_type": "stream",
     "text": [
      "min max lat lon: -125.55297279999999 -115.5226624 28.0176832 37.6797408\n"
     ]
    },
    {
     "data": {
      "text/plain": [
       "<xarray.Dataset>\n",
       "Dimensions:           (lat: 966, lon: 1003, time: 61)\n",
       "Coordinates:\n",
       "  * lat               (lat) float32 28.02 28.03 28.04 ... 37.65 37.66 37.67\n",
       "  * lon               (lon) float32 -125.55 -125.54 -125.53 ... -115.54 -115.53\n",
       "  * time              (time) datetime64[ns] 2018-04-12T09:00:00 ... 2018-06-11T09:00:00\n",
       "Data variables:\n",
       "    analysed_sst      (time, lat, lon) float32 291.72998 291.722 ... nan nan\n",
       "    analysis_error    (time, lat, lon) float32 0.39 0.39 0.39 ... nan nan nan\n",
       "    mask              (time, lat, lon) float32 1.0 1.0 1.0 1.0 ... 2.0 2.0 2.0\n",
       "    sea_ice_fraction  (time, lat, lon) float32 nan nan nan nan ... nan nan nan\n",
       "    dt_1km_data       (time, lat, lon) timedelta64[ns] 2 days 02:00:00 ... NaT\n",
       "Attributes:\n",
       "    Conventions:                CF-1.5\n",
       "    title:                      Daily MUR SST, Final product\n",
       "    summary:                    A merged, multi-sensor L4 Foundation SST anal...\n",
       "    references:                 http://podaac.jpl.nasa.gov/Multi-scale_Ultra-...\n",
       "    institution:                Jet Propulsion Laboratory\n",
       "    history:                    created at nominal 4-day latency; replaced nr...\n",
       "    comment:                    MUR = \"Multi-scale Ultra-high Reolution\"\n",
       "    license:                    These data are available free of charge under...\n",
       "    id:                         MUR-JPL-L4-GLOB-v04.1\n",
       "    naming_authority:           org.ghrsst\n",
       "    product_version:            04.1\n",
       "    uuid:                       27665bc0-d5fc-11e1-9b23-0800200c9a66\n",
       "    gds_version_id:             2.0\n",
       "    netcdf_version_id:          4.1\n",
       "    date_created:               20180519T022756Z\n",
       "    start_time:                 20180412T090000Z\n",
       "    stop_time:                  20180412T090000Z\n",
       "    time_coverage_start:        20180411T210000Z\n",
       "    time_coverage_end:          20180412T210000Z\n",
       "    file_quality_level:         1\n",
       "    source:                     MODIS_T-JPL, MODIS_A-JPL, AMSR2-REMSS, AVHRR1...\n",
       "    platform:                   Terra, Aqua, GCOM-W, NOAA-19, MetOp-A, Buoys/...\n",
       "    sensor:                     MODIS, AMSR2, AVHRR, in-situ\n",
       "    Metadata_Conventions:       Unidata Observation Dataset v1.0\n",
       "    metadata_link:              http://podaac.jpl.nasa.gov/ws/metadata/datase...\n",
       "    keywords:                   Oceans > Ocean Temperature > Sea Surface Temp...\n",
       "    keywords_vocabulary:        NASA Global Change Master Directory (GCMD) Sc...\n",
       "    standard_name_vocabulary:   NetCDF Climate and Forecast (CF) Metadata Con...\n",
       "    southernmost_latitude:      -90.0\n",
       "    northernmost_latitude:      90.0\n",
       "    westernmost_longitude:      -180.0\n",
       "    easternmost_longitude:      180.0\n",
       "    spatial_resolution:         0.01 degrees\n",
       "    geospatial_lat_units:       degrees north\n",
       "    geospatial_lat_resolution:  0.01 degrees\n",
       "    geospatial_lon_units:       degrees east\n",
       "    geospatial_lon_resolution:  0.01 degrees\n",
       "    acknowledgment:             Please acknowledge the use of these data with...\n",
       "    creator_name:               JPL MUR SST project\n",
       "    creator_email:              ghrsst@podaac.jpl.nasa.gov\n",
       "    creator_url:                http://mur.jpl.nasa.gov\n",
       "    project:                    NASA Making Earth Science Data Records for Us...\n",
       "    publisher_name:             GHRSST Project Office\n",
       "    publisher_url:              http://www.ghrsst.org\n",
       "    publisher_email:            ghrsst-po@nceo.ac.uk\n",
       "    processing_level:           L4\n",
       "    cdm_data_type:              grid"
      ]
     },
     "execution_count": 151,
     "metadata": {},
     "output_type": "execute_result"
    }
   ],
   "source": [
    "#Step 1 from above\n",
    "print('min max lat lon:', ds_usv_subset.lon.min().data,ds_usv_subset.lon.max().data,ds_usv_subset.lat.min().data,ds_usv_subset.lat.max().data)\n",
    "subset = ds_sat.sel(lon=slice(ds_usv_subset.lon.min().data,ds_usv_subset.lon.max().data),\n",
    "                    lat=slice(ds_usv_subset.lat.min().data,ds_usv_subset.lat.max().data))\n",
    "#Step 2 from above\n",
    "subset.load()"
   ]
  },
  {
   "cell_type": "markdown",
   "metadata": {},
   "source": [
    "# Collocate USV data with MUR data\n",
    "There are different options when you interpolate.  First, let's just do a linear interpolation"
   ]
  },
  {
   "cell_type": "code",
   "execution_count": 152,
   "metadata": {},
   "outputs": [],
   "source": [
    "\n",
    "ds_collocated = subset.interp(lat=ds_usv_subset.lat,lon=ds_usv_subset.lon,time=ds_usv_subset.time,method='linear')\n"
   ]
  },
  {
   "cell_type": "markdown",
   "metadata": {},
   "source": [
    "# Collocate USV data with MUR data\n",
    "There are different options when you interpolate.  First, let's just do a nearest point rather than interpolate the data"
   ]
  },
  {
   "cell_type": "code",
   "execution_count": 153,
   "metadata": {},
   "outputs": [],
   "source": [
    "ds_collocated_nearest = subset.interp(lat=ds_usv_subset.lat,lon=ds_usv_subset.lon,time=ds_usv_subset.time,method='nearest')\n"
   ]
  },
  {
   "cell_type": "markdown",
   "metadata": {},
   "source": [
    "# A larger STD that isn't reflective of uncertainty in the observation\n",
    "The collocation above will result in multiple USV data points matched with a single satellite\n",
    "observation.    The USV is sampling every 1 min and approximately few meters, while the satellite\n",
    "is an average over a footprint that is interpolated onto a daily mean map.  While calculating the mean would results in a valid mean, the STD would be higher and consist of a component that reflects the uncertainty of the USV and the satellite and a component that reflects the natural variability in the region that is sampled by the USV\n",
    "\n",
    "Below we use the 'nearest' collocation results to identify when multiple USV data are collcated to\n",
    "a single satellite observation.\n",
    "This code goes through the data and creates averages of the USV data that match the single CCMP collocated value.\n"
   ]
  },
  {
   "cell_type": "code",
   "execution_count": null,
   "metadata": {
    "scrolled": true
   },
   "outputs": [
    {
     "name": "stdout",
     "output_type": "stream",
     "text": [
      "420 2018-04-12T09:00:00.000000000 60 nanoseconds\n",
      "422 2018-04-12T09:02:00.000000000 540 nanoseconds\n",
      "432 2018-04-12T09:12:00.000000000 480 nanoseconds\n",
      "441 2018-04-12T09:21:00.000000000 360 nanoseconds\n",
      "448 2018-04-12T09:28:00.000000000 120 nanoseconds\n",
      "451 2018-04-12T09:31:00.000000000 480 nanoseconds\n",
      "460 2018-04-12T09:40:00.000000000 240 nanoseconds\n",
      "465 2018-04-12T09:45:00.000000000 480 nanoseconds\n",
      "474 2018-04-12T09:54:00.000000000 540 nanoseconds\n",
      "484 2018-04-12T10:04:00.000000000 480 nanoseconds\n",
      "493 2018-04-12T10:13:00.000000000 0 nanoseconds\n"
     ]
    },
    {
     "name": "stderr",
     "output_type": "stream",
     "text": [
      "C:\\Users\\gentemann\\Miniconda3\\envs\\satenv\\lib\\site-packages\\xarray\\core\\nanops.py:159: RuntimeWarning: Mean of empty slice\n",
      "  return np.nanmean(a, axis=axis, dtype=dtype)\n"
     ]
    },
    {
     "name": "stdout",
     "output_type": "stream",
     "text": [
      "494 2018-04-12T10:14:00.000000000 420 nanoseconds\n",
      "502 2018-04-12T10:22:00.000000000 240 nanoseconds\n",
      "507 2018-04-12T10:27:00.000000000 240 nanoseconds\n",
      "512 2018-04-12T10:32:00.000000000 600 nanoseconds\n",
      "523 2018-04-12T10:43:00.000000000 0 nanoseconds\n",
      "524 2018-04-12T10:44:00.000000000 540 nanoseconds\n"
     ]
    },
    {
     "name": "stderr",
     "output_type": "stream",
     "text": [
      "C:\\Users\\gentemann\\Miniconda3\\envs\\satenv\\lib\\site-packages\\xarray\\core\\nanops.py:159: RuntimeWarning: Mean of empty slice\n",
      "  return np.nanmean(a, axis=axis, dtype=dtype)\n"
     ]
    },
    {
     "name": "stdout",
     "output_type": "stream",
     "text": [
      "534 2018-04-12T10:54:00.000000000 600 nanoseconds\n",
      "545 2018-04-12T11:05:00.000000000 0 nanoseconds\n",
      "546 2018-04-12T11:06:00.000000000 720 nanoseconds\n",
      "559 2018-04-12T11:19:00.000000000 600 nanoseconds\n",
      "570 2018-04-12T11:30:00.000000000 1380 nanoseconds\n"
     ]
    },
    {
     "name": "stderr",
     "output_type": "stream",
     "text": [
      "C:\\Users\\gentemann\\Miniconda3\\envs\\satenv\\lib\\site-packages\\xarray\\core\\nanops.py:159: RuntimeWarning: Mean of empty slice\n",
      "  return np.nanmean(a, axis=axis, dtype=dtype)\n"
     ]
    },
    {
     "name": "stdout",
     "output_type": "stream",
     "text": [
      "582 2018-04-12T11:42:00.000000000 0 nanoseconds\n",
      "594 2018-04-12T11:54:00.000000000 600 nanoseconds\n",
      "605 2018-04-12T12:05:00.000000000 540 nanoseconds\n",
      "615 2018-04-12T12:15:00.000000000 540 nanoseconds\n",
      "625 2018-04-12T12:25:00.000000000 660 nanoseconds\n",
      "637 2018-04-12T12:37:00.000000000 600 nanoseconds\n"
     ]
    },
    {
     "name": "stderr",
     "output_type": "stream",
     "text": [
      "C:\\Users\\gentemann\\Miniconda3\\envs\\satenv\\lib\\site-packages\\xarray\\core\\nanops.py:159: RuntimeWarning: Mean of empty slice\n",
      "  return np.nanmean(a, axis=axis, dtype=dtype)\n",
      "C:\\Users\\gentemann\\Miniconda3\\envs\\satenv\\lib\\site-packages\\xarray\\core\\nanops.py:159: RuntimeWarning: Mean of empty slice\n",
      "  return np.nanmean(a, axis=axis, dtype=dtype)\n"
     ]
    },
    {
     "name": "stdout",
     "output_type": "stream",
     "text": [
      "648 2018-04-12T12:48:00.000000000 0 nanoseconds\n",
      "649 2018-04-12T12:49:00.000000000 720 nanoseconds\n",
      "662 2018-04-12T13:02:00.000000000 600 nanoseconds\n",
      "669 2018-04-12T13:09:00.000000000 0 nanoseconds\n",
      "673 2018-04-12T13:13:00.000000000 720 nanoseconds\n",
      "686 2018-04-12T13:26:00.000000000 840 nanoseconds\n",
      "701 2018-04-12T13:41:00.000000000 56520 nanoseconds\n",
      "729 2018-04-12T14:09:00.000000000 55500 nanoseconds\n"
     ]
    },
    {
     "name": "stderr",
     "output_type": "stream",
     "text": [
      "C:\\Users\\gentemann\\Miniconda3\\envs\\satenv\\lib\\site-packages\\xarray\\core\\nanops.py:159: RuntimeWarning: Mean of empty slice\n",
      "  return np.nanmean(a, axis=axis, dtype=dtype)\n",
      "C:\\Users\\gentemann\\Miniconda3\\envs\\satenv\\lib\\site-packages\\xarray\\core\\nanops.py:159: RuntimeWarning: Mean of empty slice\n",
      "  return np.nanmean(a, axis=axis, dtype=dtype)\n",
      "C:\\Users\\gentemann\\Miniconda3\\envs\\satenv\\lib\\site-packages\\xarray\\core\\nanops.py:159: RuntimeWarning: Mean of empty slice\n",
      "  return np.nanmean(a, axis=axis, dtype=dtype)\n",
      "C:\\Users\\gentemann\\Miniconda3\\envs\\satenv\\lib\\site-packages\\xarray\\core\\nanops.py:159: RuntimeWarning: Mean of empty slice\n",
      "  return np.nanmean(a, axis=axis, dtype=dtype)\n",
      "C:\\Users\\gentemann\\Miniconda3\\envs\\satenv\\lib\\site-packages\\xarray\\core\\nanops.py:159: RuntimeWarning: Mean of empty slice\n",
      "  return np.nanmean(a, axis=axis, dtype=dtype)\n",
      "C:\\Users\\gentemann\\Miniconda3\\envs\\satenv\\lib\\site-packages\\xarray\\core\\nanops.py:159: RuntimeWarning: Mean of empty slice\n",
      "  return np.nanmean(a, axis=axis, dtype=dtype)\n",
      "C:\\Users\\gentemann\\Miniconda3\\envs\\satenv\\lib\\site-packages\\xarray\\core\\nanops.py:159: RuntimeWarning: Mean of empty slice\n",
      "  return np.nanmean(a, axis=axis, dtype=dtype)\n",
      "C:\\Users\\gentemann\\Miniconda3\\envs\\satenv\\lib\\site-packages\\xarray\\core\\nanops.py:159: RuntimeWarning: Mean of empty slice\n",
      "  return np.nanmean(a, axis=axis, dtype=dtype)\n",
      "C:\\Users\\gentemann\\Miniconda3\\envs\\satenv\\lib\\site-packages\\xarray\\core\\nanops.py:159: RuntimeWarning: Mean of empty slice\n",
      "  return np.nanmean(a, axis=axis, dtype=dtype)\n",
      "C:\\Users\\gentemann\\Miniconda3\\envs\\satenv\\lib\\site-packages\\xarray\\core\\nanops.py:159: RuntimeWarning: Mean of empty slice\n",
      "  return np.nanmean(a, axis=axis, dtype=dtype)\n"
     ]
    },
    {
     "name": "stdout",
     "output_type": "stream",
     "text": [
      "1112 2018-04-12T20:32:00.000000000 47400 nanoseconds\n",
      "1123 2018-04-12T20:43:00.000000000 47280 nanoseconds\n",
      "1731 2018-04-13T06:51:00.000000000 34140 nanoseconds\n"
     ]
    },
    {
     "name": "stderr",
     "output_type": "stream",
     "text": [
      "C:\\Users\\gentemann\\Miniconda3\\envs\\satenv\\lib\\site-packages\\xarray\\core\\nanops.py:159: RuntimeWarning: Mean of empty slice\n",
      "  return np.nanmean(a, axis=axis, dtype=dtype)\n",
      "C:\\Users\\gentemann\\Miniconda3\\envs\\satenv\\lib\\site-packages\\xarray\\core\\nanops.py:159: RuntimeWarning: Mean of empty slice\n",
      "  return np.nanmean(a, axis=axis, dtype=dtype)\n",
      "C:\\Users\\gentemann\\Miniconda3\\envs\\satenv\\lib\\site-packages\\xarray\\core\\nanops.py:159: RuntimeWarning: Mean of empty slice\n",
      "  return np.nanmean(a, axis=axis, dtype=dtype)\n",
      "C:\\Users\\gentemann\\Miniconda3\\envs\\satenv\\lib\\site-packages\\xarray\\core\\nanops.py:159: RuntimeWarning: Mean of empty slice\n",
      "  return np.nanmean(a, axis=axis, dtype=dtype)\n",
      "C:\\Users\\gentemann\\Miniconda3\\envs\\satenv\\lib\\site-packages\\xarray\\core\\nanops.py:159: RuntimeWarning: Mean of empty slice\n",
      "  return np.nanmean(a, axis=axis, dtype=dtype)\n"
     ]
    },
    {
     "name": "stdout",
     "output_type": "stream",
     "text": [
      "2007 2018-04-13T11:27:00.000000000 1260 nanoseconds\n",
      "2029 2018-04-13T11:49:00.000000000 0 nanoseconds\n",
      "2030 2018-04-13T11:50:00.000000000 660 nanoseconds\n",
      "2042 2018-04-13T12:02:00.000000000 0 nanoseconds\n"
     ]
    },
    {
     "name": "stderr",
     "output_type": "stream",
     "text": [
      "C:\\Users\\gentemann\\Miniconda3\\envs\\satenv\\lib\\site-packages\\xarray\\core\\nanops.py:159: RuntimeWarning: Mean of empty slice\n",
      "  return np.nanmean(a, axis=axis, dtype=dtype)\n",
      "C:\\Users\\gentemann\\Miniconda3\\envs\\satenv\\lib\\site-packages\\xarray\\core\\nanops.py:159: RuntimeWarning: Mean of empty slice\n",
      "  return np.nanmean(a, axis=axis, dtype=dtype)\n",
      "C:\\Users\\gentemann\\Miniconda3\\envs\\satenv\\lib\\site-packages\\xarray\\core\\nanops.py:159: RuntimeWarning: Mean of empty slice\n",
      "  return np.nanmean(a, axis=axis, dtype=dtype)\n"
     ]
    },
    {
     "name": "stdout",
     "output_type": "stream",
     "text": [
      "2043 2018-04-13T12:03:00.000000000 720 nanoseconds\n",
      "2056 2018-04-13T12:16:00.000000000 0 nanoseconds\n",
      "2057 2018-04-13T12:17:00.000000000 660 nanoseconds\n",
      "2069 2018-04-13T12:29:00.000000000 360 nanoseconds\n",
      "2076 2018-04-13T12:36:00.000000000 180 nanoseconds\n",
      "2080 2018-04-13T12:40:00.000000000 660 nanoseconds\n"
     ]
    },
    {
     "name": "stderr",
     "output_type": "stream",
     "text": [
      "C:\\Users\\gentemann\\Miniconda3\\envs\\satenv\\lib\\site-packages\\xarray\\core\\nanops.py:159: RuntimeWarning: Mean of empty slice\n",
      "  return np.nanmean(a, axis=axis, dtype=dtype)\n",
      "C:\\Users\\gentemann\\Miniconda3\\envs\\satenv\\lib\\site-packages\\xarray\\core\\nanops.py:159: RuntimeWarning: Mean of empty slice\n",
      "  return np.nanmean(a, axis=axis, dtype=dtype)\n",
      "C:\\Users\\gentemann\\Miniconda3\\envs\\satenv\\lib\\site-packages\\xarray\\core\\nanops.py:159: RuntimeWarning: Mean of empty slice\n",
      "  return np.nanmean(a, axis=axis, dtype=dtype)\n"
     ]
    },
    {
     "name": "stdout",
     "output_type": "stream",
     "text": [
      "2092 2018-04-13T12:52:00.000000000 60 nanoseconds\n",
      "2094 2018-04-13T12:54:00.000000000 540 nanoseconds\n",
      "2104 2018-04-13T13:04:00.000000000 480 nanoseconds\n",
      "2113 2018-04-13T13:13:00.000000000 120 nanoseconds\n",
      "2116 2018-04-13T13:16:00.000000000 720 nanoseconds\n",
      "2129 2018-04-13T13:29:00.000000000 0 nanoseconds\n",
      "2130 2018-04-13T13:30:00.000000000 780 nanoseconds\n",
      "2144 2018-04-13T13:44:00.000000000 0 nanoseconds\n",
      "2145 2018-04-13T13:45:00.000000000 720 nanoseconds\n",
      "2158"
     ]
    },
    {
     "name": "stderr",
     "output_type": "stream",
     "text": [
      "C:\\Users\\gentemann\\Miniconda3\\envs\\satenv\\lib\\site-packages\\xarray\\core\\nanops.py:159: RuntimeWarning: Mean of empty slice\n",
      "  return np.nanmean(a, axis=axis, dtype=dtype)\n",
      "C:\\Users\\gentemann\\Miniconda3\\envs\\satenv\\lib\\site-packages\\xarray\\core\\nanops.py:159: RuntimeWarning: Mean of empty slice\n",
      "  return np.nanmean(a, axis=axis, dtype=dtype)\n"
     ]
    },
    {
     "name": "stdout",
     "output_type": "stream",
     "text": [
      " 2018-04-13T13:58:00.000000000 720 nanoseconds\n",
      "2171 2018-04-13T14:11:00.000000000 600 nanoseconds\n",
      "2182 2018-04-13T14:22:00.000000000 600 nanoseconds\n",
      "2193 2018-04-13T14:33:00.000000000 840 nanoseconds\n",
      "2208 2018-04-13T14:48:00.000000000 120 nanoseconds\n",
      "2211 2018-04-13T14:51:00.000000000 600 nanoseconds\n",
      "2222 2018-04-13T15:02:00.000000000 120 nanoseconds\n",
      "2225 2018-04-13T15:05:00.000000000 600 nanoseconds\n",
      "2236 2018-04-13T15:16:00.000000000 240 nanoseconds\n",
      "2241 2018-04-13T15:21:00.000000000 660 nanoseconds\n"
     ]
    },
    {
     "name": "stderr",
     "output_type": "stream",
     "text": [
      "C:\\Users\\gentemann\\Miniconda3\\envs\\satenv\\lib\\site-packages\\xarray\\core\\nanops.py:159: RuntimeWarning: Mean of empty slice\n",
      "  return np.nanmean(a, axis=axis, dtype=dtype)\n",
      "C:\\Users\\gentemann\\Miniconda3\\envs\\satenv\\lib\\site-packages\\xarray\\core\\nanops.py:159: RuntimeWarning: Mean of empty slice\n",
      "  return np.nanmean(a, axis=axis, dtype=dtype)\n",
      "C:\\Users\\gentemann\\Miniconda3\\envs\\satenv\\lib\\site-packages\\xarray\\core\\nanops.py:159: RuntimeWarning: Mean of empty slice\n",
      "  return np.nanmean(a, axis=axis, dtype=dtype)\n"
     ]
    },
    {
     "name": "stdout",
     "output_type": "stream",
     "text": [
      "2253 2018-04-13T15:33:00.000000000 420 nanoseconds\n",
      "2261 2018-04-13T15:41:00.000000000 540 nanoseconds\n",
      "2271 2018-04-13T15:51:00.000000000 2580 nanoseconds\n",
      "2301 2018-04-13T16:21:00.000000000 120 nanoseconds\n"
     ]
    },
    {
     "name": "stderr",
     "output_type": "stream",
     "text": [
      "C:\\Users\\gentemann\\Miniconda3\\envs\\satenv\\lib\\site-packages\\xarray\\core\\nanops.py:159: RuntimeWarning: Mean of empty slice\n",
      "  return np.nanmean(a, axis=axis, dtype=dtype)\n",
      "C:\\Users\\gentemann\\Miniconda3\\envs\\satenv\\lib\\site-packages\\xarray\\core\\nanops.py:159: RuntimeWarning: Mean of empty slice\n",
      "  return np.nanmean(a, axis=axis, dtype=dtype)\n"
     ]
    },
    {
     "name": "stdout",
     "output_type": "stream",
     "text": [
      "2315 2018-04-13T16:35:00.000000000 0 nanoseconds\n",
      "2316 2018-04-13T16:36:00.000000000 720 nanoseconds\n",
      "2329 2018-04-13T16:49:00.000000000 660 nanoseconds\n",
      "2341 2018-04-13T17:01:00.000000000 0 nanoseconds\n",
      "2342 2018-04-13T17:02:00.000000000 540 nanoseconds\n",
      "2352 2018-04-13T17:12:00.000000000 180 nanoseconds\n",
      "2356 2018-04-13T17:16:00.000000000 300 nanoseconds\n",
      "2362 2018-04-13T17:22:00.000000000 480 nanoseconds\n",
      "2371 2018-04-13T17:31:00.000000000 420 nanoseconds\n",
      "2379 2018-04-13T17:39:00.000000000 300 nanoseconds\n",
      "2385 2018-04-13T17:45:00.000000000 420 nanoseconds\n",
      "2393 2018-04-13T17:53:00.000000000 420 nanoseconds\n",
      "2401 2018-04-13T18:01:00.000000000 420 nanoseconds\n",
      "2409 2018-04-13T18:09:00.000000000 420 nanoseconds\n",
      "2417 2018-04-13T18:17:00.000000000 420 nanoseconds\n",
      "2425 2018-04-13T18:25:00.000000000 420 nanoseconds\n",
      "2433 2018-04-13T18:33:00.000000000 120 nanoseconds\n",
      "2436 2018-04-13T18:36:00.000000000 360 nanoseconds\n",
      "2443 2018-04-13T18:43:00.000000000 120 nanoseconds\n",
      "2446 2018-04-13T18:46:00.000000000 180 nanoseconds\n",
      "2450 2018-04-13T18:50:00.000000000 300 nanoseconds\n",
      "2456 2018-04-13T18:56:00.000000000 240 nanoseconds\n",
      "2461 2018-04-13T19:01:00.000000000 60 nanoseconds\n"
     ]
    },
    {
     "name": "stderr",
     "output_type": "stream",
     "text": [
      "C:\\Users\\gentemann\\Miniconda3\\envs\\satenv\\lib\\site-packages\\xarray\\core\\nanops.py:159: RuntimeWarning: Mean of empty slice\n",
      "  return np.nanmean(a, axis=axis, dtype=dtype)\n",
      "C:\\Users\\gentemann\\Miniconda3\\envs\\satenv\\lib\\site-packages\\xarray\\core\\nanops.py:159: RuntimeWarning: Mean of empty slice\n",
      "  return np.nanmean(a, axis=axis, dtype=dtype)\n"
     ]
    },
    {
     "name": "stdout",
     "output_type": "stream",
     "text": [
      "2463 2018-04-13T19:03:00.000000000 300 nanoseconds\n",
      "2469 2018-04-13T19:09:00.000000000 360 nanoseconds\n",
      "2476 2018-04-13T19:16:00.000000000 300 nanoseconds\n",
      "2482 2018-04-13T19:22:00.000000000 180 nanoseconds\n",
      "2486 2018-04-13T19:26:00.000000000 0 nanoseconds\n",
      "2487 2018-04-13T19:27:00.000000000 240 nanoseconds\n",
      "2492 2018-04-13T19:32:00.000000000 360 nanoseconds\n"
     ]
    },
    {
     "name": "stderr",
     "output_type": "stream",
     "text": [
      "C:\\Users\\gentemann\\Miniconda3\\envs\\satenv\\lib\\site-packages\\xarray\\core\\nanops.py:159: RuntimeWarning: Mean of empty slice\n",
      "  return np.nanmean(a, axis=axis, dtype=dtype)\n"
     ]
    },
    {
     "name": "stdout",
     "output_type": "stream",
     "text": [
      "2499 2018-04-13T19:39:00.000000000 300 nanoseconds\n",
      "2505 2018-04-13T19:45:00.000000000 300 nanoseconds\n",
      "2511 2018-04-13T19:51:00.000000000 360 nanoseconds\n",
      "2518 2018-04-13T19:58:00.000000000 240 nanoseconds\n",
      "2523 2018-04-13T20:03:00.000000000 19620 nanoseconds\n"
     ]
    },
    {
     "name": "stderr",
     "output_type": "stream",
     "text": [
      "C:\\Users\\gentemann\\Miniconda3\\envs\\satenv\\lib\\site-packages\\xarray\\core\\nanops.py:159: RuntimeWarning: Mean of empty slice\n",
      "  return np.nanmean(a, axis=axis, dtype=dtype)\n",
      "C:\\Users\\gentemann\\Miniconda3\\envs\\satenv\\lib\\site-packages\\xarray\\core\\nanops.py:159: RuntimeWarning: Mean of empty slice\n",
      "  return np.nanmean(a, axis=axis, dtype=dtype)\n",
      "C:\\Users\\gentemann\\Miniconda3\\envs\\satenv\\lib\\site-packages\\xarray\\core\\nanops.py:159: RuntimeWarning: Mean of empty slice\n",
      "  return np.nanmean(a, axis=axis, dtype=dtype)\n",
      "C:\\Users\\gentemann\\Miniconda3\\envs\\satenv\\lib\\site-packages\\xarray\\core\\nanops.py:159: RuntimeWarning: Mean of empty slice\n",
      "  return np.nanmean(a, axis=axis, dtype=dtype)\n",
      "C:\\Users\\gentemann\\Miniconda3\\envs\\satenv\\lib\\site-packages\\xarray\\core\\nanops.py:159: RuntimeWarning: Mean of empty slice\n",
      "  return np.nanmean(a, axis=axis, dtype=dtype)\n"
     ]
    },
    {
     "name": "stdout",
     "output_type": "stream",
     "text": [
      "2693 2018-04-13T22:53:00.000000000 240 nanoseconds\n",
      "2706 2018-04-13T23:06:00.000000000 60 nanoseconds\n",
      "2728 2018-04-13T23:28:00.000000000 540 nanoseconds\n",
      "2738 2018-04-13T23:38:00.000000000 480 nanoseconds\n",
      "2747 2018-04-13T23:47:00.000000000 300 nanoseconds\n",
      "2748"
     ]
    },
    {
     "name": "stderr",
     "output_type": "stream",
     "text": [
      "C:\\Users\\gentemann\\Miniconda3\\envs\\satenv\\lib\\site-packages\\xarray\\core\\nanops.py:159: RuntimeWarning: Mean of empty slice\n",
      "  return np.nanmean(a, axis=axis, dtype=dtype)\n",
      "C:\\Users\\gentemann\\Miniconda3\\envs\\satenv\\lib\\site-packages\\xarray\\core\\nanops.py:159: RuntimeWarning: Mean of empty slice\n",
      "  return np.nanmean(a, axis=axis, dtype=dtype)\n"
     ]
    },
    {
     "name": "stdout",
     "output_type": "stream",
     "text": [
      " 2018-04-13T23:48:00.000000000 420 nanoseconds\n",
      "2756 2018-04-13T23:56:00.000000000 540 nanoseconds\n",
      "2766 2018-04-14T00:06:00.000000000 180 nanoseconds\n",
      "2770 2018-04-14T00:10:00.000000000 240 nanoseconds\n",
      "2775 2018-04-14T00:15:00.000000000 420 nanoseconds\n",
      "2783"
     ]
    },
    {
     "name": "stderr",
     "output_type": "stream",
     "text": [
      "C:\\Users\\gentemann\\Miniconda3\\envs\\satenv\\lib\\site-packages\\xarray\\core\\nanops.py:159: RuntimeWarning: Mean of empty slice\n",
      "  return np.nanmean(a, axis=axis, dtype=dtype)\n"
     ]
    },
    {
     "name": "stdout",
     "output_type": "stream",
     "text": [
      " 2018-04-14T00:23:00.000000000 420 nanoseconds\n",
      "2791 2018-04-14T00:31:00.000000000 420 nanoseconds\n",
      "2799 2018-04-14T00:39:00.000000000 360 nanoseconds\n",
      "2806 2018-04-14T00:46:00.000000000 360 nanoseconds\n",
      "2813 2018-04-14T00:53:00.000000000 360 nanoseconds\n",
      "2820 2018-04-14T01:00:00.000000000 360 nanoseconds\n",
      "2827 2018-04-14T01:07:00.000000000 420 nanoseconds\n",
      "2851 2018-04-14T01:31:00.000000000 420 nanoseconds\n",
      "2859 2018-04-14T01:39:00.000000000 420 nanoseconds\n",
      "2867 2018-04-14T01:47:00.000000000 420 nanoseconds\n",
      "2875 2018-04-14T01:55:00.000000000 660 nanoseconds\n",
      "2887 2018-04-14T02:07:00.000000000 39960 nanoseconds\n",
      "2890 2018-04-14T02:10:00.000000000 40800 nanoseconds\n",
      "2900 2018-04-14T02:20:00.000000000 41040 nanoseconds\n",
      "2912 2018-04-14T02:32:00.000000000 41160 nanoseconds\n",
      "2980 2018-04-14T03:40:00.000000000 33480 nanoseconds\n",
      "2997 2018-04-14T03:57:00.000000000 32880 nanoseconds\n"
     ]
    },
    {
     "name": "stderr",
     "output_type": "stream",
     "text": [
      "C:\\Users\\gentemann\\Miniconda3\\envs\\satenv\\lib\\site-packages\\xarray\\core\\nanops.py:159: RuntimeWarning: Mean of empty slice\n",
      "  return np.nanmean(a, axis=axis, dtype=dtype)\n",
      "C:\\Users\\gentemann\\Miniconda3\\envs\\satenv\\lib\\site-packages\\xarray\\core\\nanops.py:159: RuntimeWarning: Mean of empty slice\n",
      "  return np.nanmean(a, axis=axis, dtype=dtype)\n",
      "C:\\Users\\gentemann\\Miniconda3\\envs\\satenv\\lib\\site-packages\\xarray\\core\\nanops.py:159: RuntimeWarning: Mean of empty slice\n",
      "  return np.nanmean(a, axis=axis, dtype=dtype)\n"
     ]
    },
    {
     "name": "stdout",
     "output_type": "stream",
     "text": [
      "3599 2018-04-14T13:59:00.000000000 480 nanoseconds\n",
      "3608 2018-04-14T14:08:00.000000000 540 nanoseconds\n",
      "3618 2018-04-14T14:18:00.000000000 420 nanoseconds\n",
      "3626 2018-04-14T14:26:00.000000000 420 nanoseconds\n",
      "3634 2018-04-14T14:34:00.000000000 420 nanoseconds\n",
      "3642 2018-04-14T14:42:00.000000000 420 nanoseconds\n",
      "3650 2018-04-14T14:50:00.000000000 360 nanoseconds\n",
      "3657 2018-04-14T14:57:00.000000000 360 nanoseconds\n",
      "3664 2018-04-14T15:04:00.000000000 420 nanoseconds\n",
      "3672 2018-04-14T15:12:00.000000000 360 nanoseconds\n",
      "3679 2018-04-14T15:19:00.000000000 420 nanoseconds\n",
      "3687 2018-04-14T15:27:00.000000000 420 nanoseconds\n"
     ]
    },
    {
     "name": "stderr",
     "output_type": "stream",
     "text": [
      "C:\\Users\\gentemann\\Miniconda3\\envs\\satenv\\lib\\site-packages\\xarray\\core\\nanops.py:159: RuntimeWarning: Mean of empty slice\n",
      "  return np.nanmean(a, axis=axis, dtype=dtype)\n",
      "C:\\Users\\gentemann\\Miniconda3\\envs\\satenv\\lib\\site-packages\\xarray\\core\\nanops.py:159: RuntimeWarning: Mean of empty slice\n",
      "  return np.nanmean(a, axis=axis, dtype=dtype)\n"
     ]
    },
    {
     "name": "stdout",
     "output_type": "stream",
     "text": [
      "3695 2018-04-14T15:35:00.000000000 600 nanoseconds\n",
      "3706 2018-04-14T15:46:00.000000000 180 nanoseconds\n",
      "3710 2018-04-14T15:50:00.000000000 420 nanoseconds\n",
      "3718 2018-04-14T15:58:00.000000000 720 nanoseconds\n",
      "3731 2018-04-14T16:11:00.000000000 960 nanoseconds\n",
      "3748 2018-04-14T16:28:00.000000000 960 nanoseconds\n"
     ]
    },
    {
     "name": "stderr",
     "output_type": "stream",
     "text": [
      "C:\\Users\\gentemann\\Miniconda3\\envs\\satenv\\lib\\site-packages\\xarray\\core\\nanops.py:159: RuntimeWarning: Mean of empty slice\n",
      "  return np.nanmean(a, axis=axis, dtype=dtype)\n",
      "C:\\Users\\gentemann\\Miniconda3\\envs\\satenv\\lib\\site-packages\\xarray\\core\\nanops.py:159: RuntimeWarning: Mean of empty slice\n",
      "  return np.nanmean(a, axis=axis, dtype=dtype)\n",
      "C:\\Users\\gentemann\\Miniconda3\\envs\\satenv\\lib\\site-packages\\xarray\\core\\nanops.py:159: RuntimeWarning: Mean of empty slice\n",
      "  return np.nanmean(a, axis=axis, dtype=dtype)\n",
      "C:\\Users\\gentemann\\Miniconda3\\envs\\satenv\\lib\\site-packages\\xarray\\core\\nanops.py:159: RuntimeWarning: Mean of empty slice\n",
      "  return np.nanmean(a, axis=axis, dtype=dtype)\n",
      "C:\\Users\\gentemann\\Miniconda3\\envs\\satenv\\lib\\site-packages\\xarray\\core\\nanops.py:159: RuntimeWarning: Mean of empty slice\n",
      "  return np.nanmean(a, axis=axis, dtype=dtype)\n",
      "C:\\Users\\gentemann\\Miniconda3\\envs\\satenv\\lib\\site-packages\\xarray\\core\\nanops.py:159: RuntimeWarning: Mean of empty slice\n",
      "  return np.nanmean(a, axis=axis, dtype=dtype)\n"
     ]
    },
    {
     "name": "stdout",
     "output_type": "stream",
     "text": [
      "3765 2018-04-14T16:45:00.000000000 1020 nanoseconds\n",
      "3783 2018-04-14T17:03:00.000000000 780 nanoseconds\n",
      "3797 2018-04-14T17:17:00.000000000 60 nanoseconds\n",
      "3799 2018-04-14T17:19:00.000000000 540 nanoseconds\n",
      "3809 2018-04-14T17:29:00.000000000 780 nanoseconds\n",
      "3823 2018-04-14T17:43:00.000000000 840 nanoseconds\n"
     ]
    },
    {
     "name": "stderr",
     "output_type": "stream",
     "text": [
      "C:\\Users\\gentemann\\Miniconda3\\envs\\satenv\\lib\\site-packages\\xarray\\core\\nanops.py:159: RuntimeWarning: Mean of empty slice\n",
      "  return np.nanmean(a, axis=axis, dtype=dtype)\n",
      "C:\\Users\\gentemann\\Miniconda3\\envs\\satenv\\lib\\site-packages\\xarray\\core\\nanops.py:159: RuntimeWarning: Mean of empty slice\n",
      "  return np.nanmean(a, axis=axis, dtype=dtype)\n",
      "C:\\Users\\gentemann\\Miniconda3\\envs\\satenv\\lib\\site-packages\\xarray\\core\\nanops.py:159: RuntimeWarning: Mean of empty slice\n",
      "  return np.nanmean(a, axis=axis, dtype=dtype)\n",
      "C:\\Users\\gentemann\\Miniconda3\\envs\\satenv\\lib\\site-packages\\xarray\\core\\nanops.py:159: RuntimeWarning: Mean of empty slice\n",
      "  return np.nanmean(a, axis=axis, dtype=dtype)\n",
      "C:\\Users\\gentemann\\Miniconda3\\envs\\satenv\\lib\\site-packages\\xarray\\core\\nanops.py:159: RuntimeWarning: Mean of empty slice\n",
      "  return np.nanmean(a, axis=axis, dtype=dtype)\n",
      "C:\\Users\\gentemann\\Miniconda3\\envs\\satenv\\lib\\site-packages\\xarray\\core\\nanops.py:159: RuntimeWarning: Mean of empty slice\n",
      "  return np.nanmean(a, axis=axis, dtype=dtype)\n",
      "C:\\Users\\gentemann\\Miniconda3\\envs\\satenv\\lib\\site-packages\\xarray\\core\\nanops.py:159: RuntimeWarning: Mean of empty slice\n",
      "  return np.nanmean(a, axis=axis, dtype=dtype)\n"
     ]
    },
    {
     "name": "stdout",
     "output_type": "stream",
     "text": [
      "3838 2018-04-14T17:58:00.000000000 1860 nanoseconds\n",
      "3853 2018-04-14T18:13:00.000000000 1560 nanoseconds\n",
      "3880 2018-04-14T18:40:00.000000000 600 nanoseconds\n",
      "3891 2018-04-14T18:51:00.000000000 420 nanoseconds\n",
      "3899 2018-04-14T18:59:00.000000000 120 nanoseconds\n",
      "3902 2018-04-14T19:02:00.000000000 780 nanoseconds\n"
     ]
    },
    {
     "name": "stderr",
     "output_type": "stream",
     "text": [
      "C:\\Users\\gentemann\\Miniconda3\\envs\\satenv\\lib\\site-packages\\xarray\\core\\nanops.py:159: RuntimeWarning: Mean of empty slice\n",
      "  return np.nanmean(a, axis=axis, dtype=dtype)\n"
     ]
    },
    {
     "name": "stdout",
     "output_type": "stream",
     "text": [
      "3916 2018-04-14T19:16:00.000000000 120 nanoseconds\n",
      "3919 2018-04-14T19:19:00.000000000 240 nanoseconds\n",
      "3924 2018-04-14T19:24:00.000000000 420 nanoseconds\n",
      "3932 2018-04-14T19:32:00.000000000 420 nanoseconds\n",
      "3940 2018-04-14T19:40:00.000000000 480 nanoseconds\n",
      "3949 2018-04-14T19:49:00.000000000 360 nanoseconds\n",
      "3956 2018-04-14T19:56:00.000000000 480 nanoseconds\n",
      "3965 2018-04-14T20:05:00.000000000 660 nanoseconds\n",
      "3977 2018-04-14T20:17:00.000000000 660 nanoseconds\n",
      "3989 2018-04-14T20:29:00.000000000 600 nanoseconds\n",
      "4000 2018-04-14T20:40:00.000000000 660 nanoseconds\n",
      "4012 2018-04-14T20:52:00.000000000 59340 nanoseconds\n"
     ]
    },
    {
     "name": "stderr",
     "output_type": "stream",
     "text": [
      "C:\\Users\\gentemann\\Miniconda3\\envs\\satenv\\lib\\site-packages\\xarray\\core\\nanops.py:159: RuntimeWarning: Mean of empty slice\n",
      "  return np.nanmean(a, axis=axis, dtype=dtype)\n",
      "C:\\Users\\gentemann\\Miniconda3\\envs\\satenv\\lib\\site-packages\\xarray\\core\\nanops.py:159: RuntimeWarning: Mean of empty slice\n",
      "  return np.nanmean(a, axis=axis, dtype=dtype)\n",
      "C:\\Users\\gentemann\\Miniconda3\\envs\\satenv\\lib\\site-packages\\xarray\\core\\nanops.py:159: RuntimeWarning: Mean of empty slice\n",
      "  return np.nanmean(a, axis=axis, dtype=dtype)\n",
      "C:\\Users\\gentemann\\Miniconda3\\envs\\satenv\\lib\\site-packages\\xarray\\core\\nanops.py:159: RuntimeWarning: Mean of empty slice\n",
      "  return np.nanmean(a, axis=axis, dtype=dtype)\n",
      "C:\\Users\\gentemann\\Miniconda3\\envs\\satenv\\lib\\site-packages\\xarray\\core\\nanops.py:159: RuntimeWarning: Mean of empty slice\n",
      "  return np.nanmean(a, axis=axis, dtype=dtype)\n"
     ]
    }
   ],
   "source": [
    "ilen,index = ds_collocated_nearest.dims['time'],0\n",
    "ds_tem = ds_collocated_nearest.copy(deep=True)\n",
    "duu, duv1, duv2, dlat, dlon, dut = [],[],[],[],[],np.empty((),dtype='datetime64')\n",
    "while index <= ilen-2:\n",
    "    index += 1\n",
    "    if np.isnan(ds_collocated_nearest.analysed_sst[index]):\n",
    "        continue\n",
    "    if np.isnan(ds_tem.analysed_sst[index]):\n",
    "        continue\n",
    "   # print(index, ilen)\n",
    "    iend = index + 1000\n",
    "    if iend > ilen-1:\n",
    "        iend = ilen-1\n",
    "    ds_tem_subset = ds_tem.analysed_sst[index:iend]\n",
    "    ds_usv_subset2sst = ds_usv_subset.TEMP_CTD_MEAN[index:iend]\n",
    "    ds_usv_subset2uwnd = ds_usv_subset.UWND_MEAN[index:iend]\n",
    "    ds_usv_subset2vwnd = ds_usv_subset.VWND_MEAN[index:iend]\n",
    "    ds_usv_subset2lat = ds_usv_subset.lat[index:iend]\n",
    "    ds_usv_subset2lon = ds_usv_subset.lon[index:iend]\n",
    "    ds_usv_subset2time = ds_usv_subset.time[index:iend]\n",
    "    cond = ((ds_tem_subset==ds_collocated_nearest.analysed_sst[index]))\n",
    "    notcond = np.logical_not(cond)\n",
    "    #cond = ((ds_tem.analysed_sst==ds_collocated_nearest.analysed_sst[index]))\n",
    "    #notcond = np.logical_not(cond)\n",
    "    masked = ds_tem_subset.where(cond)\n",
    "    if cond.sum().data==0:  #don't do if data not found\n",
    "        continue\n",
    "    if cond.sum().data>800:\n",
    "        print(cond.sum().data,index,ds_tem.time[index].data)\n",
    "    masked_usvsst = ds_usv_subset2sst.where(cond,drop=True)\n",
    "    masked_usvuwnd = ds_usv_subset2uwnd.where(cond,drop=True)\n",
    "    masked_usvvwnd = ds_usv_subset2vwnd.where(cond,drop=True)\n",
    "    masked_usvlat = ds_usv_subset2lat.where(cond,drop=True)\n",
    "    masked_usvlon = ds_usv_subset2lon.where(cond,drop=True)\n",
    "    masked_usvtime = ds_usv_subset2time.where(cond,drop=True)\n",
    "    duu=np.append(duu,masked_usvsst.mean().data)\n",
    "    duv1=np.append(duv1,masked_usvuwnd.mean().data)\n",
    "    duv2=np.append(duv2,masked_usvvwnd.mean().data)\n",
    "    dlat=np.append(dlat,masked_usvlat.mean().data)\n",
    "    dlon=np.append(dlon,masked_usvlon.mean().data)\n",
    "    tdif = masked_usvtime[-1].data-masked_usvtime[0].data\n",
    "    mtime=masked_usvtime[0].data+np.timedelta64(tdif/2,'ns')\n",
    "    if mtime>dut.max():\n",
    "        print(index,masked_usvtime[0].data,(masked_usvtime[-1].data-masked_usvtime[0].data)/1e9)\n",
    "    dut=np.append(dut,mtime)\n",
    "    ds_tem.analysed_sst[index:iend]=ds_tem.analysed_sst.where(notcond)\n",
    "#    ds_tem=ds_tem.where(notcond,np.nan)  #masked used values by setting to nan\n",
    "dut2 = dut[1:]  #remove first data point which is a repeat from what array defined    \n",
    "ds_new=xr.Dataset(data_vars={'sst_usv': ('time',duu),'uwnd_usv': ('time',duv1),'vwnd_usv': ('time',duv2),\n",
    "                             'lon': ('time',dlon),\n",
    "                             'lat': ('time',dlat)},\n",
    "                  coords={'time':dut2})\n",
    "ds_new.to_netcdf('F:/data/cruise_data/saildrone/baja-2018/mur_downsampled_usv_data2.nc')"
   ]
  },
  {
   "cell_type": "code",
   "execution_count": 180,
   "metadata": {},
   "outputs": [
    {
     "data": {
      "text/plain": [
       "<xarray.Dataset>\n",
       "Dimensions:   (time: 5934)\n",
       "Coordinates:\n",
       "  * time      (time) datetime64[ns] 2018-04-12T09:00:30 ... 2018-06-10T18:42:30\n",
       "Data variables:\n",
       "    sst_usv   (time) float64 11.65 11.58 11.6 11.58 ... 9.896 9.99 10.01 10.41\n",
       "    uwnd_usv  (time) float64 5.54 5.285 5.285 5.42 6.25 ... 5.4 5.68 6.24 nan\n",
       "    vwnd_usv  (time) float64 -7.65 -7.17 -7.765 -6.74 ... -6.565 -6.94 -6.92 nan\n",
       "    lon       (time) float64 -122.8 -122.8 -122.8 ... -122.7 -122.7 -122.7\n",
       "    lat       (time) float64 37.18 37.17 37.16 37.15 ... 37.66 37.66 37.67 37.67"
      ]
     },
     "execution_count": 180,
     "metadata": {},
     "output_type": "execute_result"
    }
   ],
   "source": [
    "ds_new"
   ]
  },
  {
   "cell_type": "markdown",
   "metadata": {},
   "source": [
    "# redo the collocation\n",
    "Now, redo the collocation, using 'linear' interpolation using the averaged data.  This will interpolate the data temporally onto the USV sampling which has been averaged to the satellite data grid points"
   ]
  },
  {
   "cell_type": "code",
   "execution_count": 166,
   "metadata": {},
   "outputs": [],
   "source": [
    " #for i in range(600,650):\n",
    " #       print(ds_collocated_nearest.lat[i].data,ds_collocated_nearest.analysed_sst[i].data)"
   ]
  },
  {
   "cell_type": "code",
   "execution_count": 168,
   "metadata": {},
   "outputs": [
    {
     "data": {
      "text/plain": [
       "<xarray.Dataset>\n",
       "Dimensions:   (time: 5631)\n",
       "Coordinates:\n",
       "  * time      (time) datetime64[ns] 2018-04-12T09:00:30 ... 2018-06-10T18:42:30\n",
       "Data variables:\n",
       "    sst_usv   (time) float64 11.65 11.58 11.6 11.58 ... 9.896 9.99 10.01 10.41\n",
       "    uwnd_usv  (time) float64 5.54 5.285 5.285 5.42 6.25 ... 5.4 5.68 6.24 nan\n",
       "    vwnd_usv  (time) float64 -7.65 -7.17 -7.765 -6.74 ... -6.565 -6.94 -6.92 nan\n",
       "    lon       (time) float64 -122.8 -122.8 -122.8 ... -122.7 -122.7 -122.7\n",
       "    lat       (time) float64 37.18 37.17 37.16 37.15 ... 37.66 37.66 37.67 37.67"
      ]
     },
     "execution_count": 168,
     "metadata": {},
     "output_type": "execute_result"
    }
   ],
   "source": [
    "#5442 with 3000 points in check\n",
    "#5631 with 2000 points in check\n",
    "#5934 with 1000 points in check\n",
    "ds_new"
   ]
  },
  {
   "cell_type": "code",
   "execution_count": 160,
   "metadata": {},
   "outputs": [
    {
     "data": {
      "text/plain": [
       "<xarray.DataArray 'lon' ()>\n",
       "array(-42.18631)"
      ]
     },
     "execution_count": 160,
     "metadata": {},
     "output_type": "execute_result"
    }
   ],
   "source": [
    "#(ds_new.lat[0]-ds_new.lat[80])*111\n",
    "#(ds_new.lon[0]-ds_new.lon[80])*111\n",
    "#for i in range(0,100):\n",
    "#    print(ds_new.time[i].data,ds_new.lat[i].data,ds_new.lon[i].data)"
   ]
  },
  {
   "cell_type": "code",
   "execution_count": 15,
   "metadata": {},
   "outputs": [
    {
     "data": {
      "text/plain": [
       "<xarray.Dataset>\n",
       "Dimensions:           (time: 5934)\n",
       "Coordinates:\n",
       "    lat               (time) float64 37.18 37.17 37.16 ... 37.66 37.67 37.67\n",
       "    lon               (time) float64 -122.8 -122.8 -122.8 ... -122.7 -122.7\n",
       "  * time              (time) datetime64[ns] 2018-04-12T09:00:30 ... 2018-06-10T18:42:30\n",
       "Data variables:\n",
       "    analysed_sst      (time) float64 285.1 285.1 285.1 ... 285.1 285.1 285.1\n",
       "    analysis_error    (time) float64 0.38 0.38 0.38 0.38 ... 0.39 0.39 0.39 0.39\n",
       "    mask              (time) float64 1.0 1.0 1.0 1.0 1.0 ... 1.0 1.0 1.0 1.0 1.0\n",
       "    sea_ice_fraction  (time) float64 nan nan nan nan nan ... nan nan nan nan nan\n",
       "Attributes:\n",
       "    Conventions:                CF-1.5\n",
       "    title:                      Daily MUR SST, Final product\n",
       "    summary:                    A merged, multi-sensor L4 Foundation SST anal...\n",
       "    references:                 http://podaac.jpl.nasa.gov/Multi-scale_Ultra-...\n",
       "    institution:                Jet Propulsion Laboratory\n",
       "    history:                    created at nominal 4-day latency; replaced nr...\n",
       "    comment:                    MUR = \"Multi-scale Ultra-high Reolution\"\n",
       "    license:                    These data are available free of charge under...\n",
       "    id:                         MUR-JPL-L4-GLOB-v04.1\n",
       "    naming_authority:           org.ghrsst\n",
       "    product_version:            04.1\n",
       "    uuid:                       27665bc0-d5fc-11e1-9b23-0800200c9a66\n",
       "    gds_version_id:             2.0\n",
       "    netcdf_version_id:          4.1\n",
       "    date_created:               20180519T022756Z\n",
       "    start_time:                 20180412T090000Z\n",
       "    stop_time:                  20180412T090000Z\n",
       "    time_coverage_start:        20180411T210000Z\n",
       "    time_coverage_end:          20180412T210000Z\n",
       "    file_quality_level:         1\n",
       "    source:                     MODIS_T-JPL, MODIS_A-JPL, AMSR2-REMSS, AVHRR1...\n",
       "    platform:                   Terra, Aqua, GCOM-W, NOAA-19, MetOp-A, Buoys/...\n",
       "    sensor:                     MODIS, AMSR2, AVHRR, in-situ\n",
       "    Metadata_Conventions:       Unidata Observation Dataset v1.0\n",
       "    metadata_link:              http://podaac.jpl.nasa.gov/ws/metadata/datase...\n",
       "    keywords:                   Oceans > Ocean Temperature > Sea Surface Temp...\n",
       "    keywords_vocabulary:        NASA Global Change Master Directory (GCMD) Sc...\n",
       "    standard_name_vocabulary:   NetCDF Climate and Forecast (CF) Metadata Con...\n",
       "    southernmost_latitude:      -90.0\n",
       "    northernmost_latitude:      90.0\n",
       "    westernmost_longitude:      -180.0\n",
       "    easternmost_longitude:      180.0\n",
       "    spatial_resolution:         0.01 degrees\n",
       "    geospatial_lat_units:       degrees north\n",
       "    geospatial_lat_resolution:  0.01 degrees\n",
       "    geospatial_lon_units:       degrees east\n",
       "    geospatial_lon_resolution:  0.01 degrees\n",
       "    acknowledgment:             Please acknowledge the use of these data with...\n",
       "    creator_name:               JPL MUR SST project\n",
       "    creator_email:              ghrsst@podaac.jpl.nasa.gov\n",
       "    creator_url:                http://mur.jpl.nasa.gov\n",
       "    project:                    NASA Making Earth Science Data Records for Us...\n",
       "    publisher_name:             GHRSST Project Office\n",
       "    publisher_url:              http://www.ghrsst.org\n",
       "    publisher_email:            ghrsst-po@nceo.ac.uk\n",
       "    processing_level:           L4\n",
       "    cdm_data_type:              grid"
      ]
     },
     "execution_count": 15,
     "metadata": {},
     "output_type": "execute_result"
    }
   ],
   "source": [
    "ds_collocated_averaged = subset.interp(lat=ds_new.lat,lon=ds_new.lon,time=ds_new.time,method='linear')\n",
    "ds_collocated_averaged"
   ]
  },
  {
   "cell_type": "code",
   "execution_count": 17,
   "metadata": {},
   "outputs": [],
   "source": [
    "ds_collocated_averaged.to_netcdf('F:/data/cruise_data/saildrone/baja-2018/mur_downsampled_collocated_usv_data2.nc')\n",
    "ds_new.to_netcdf('F:/data/cruise_data/saildrone/baja-2018/mur_downsampled_usv_data2.nc')\n"
   ]
  },
  {
   "cell_type": "code",
   "execution_count": 18,
   "metadata": {},
   "outputs": [
    {
     "data": {
      "text/plain": [
       "<xarray.Dataset>\n",
       "Dimensions:           (time: 5934)\n",
       "Coordinates:\n",
       "    lat               (time) float64 37.18 37.17 37.16 ... 37.66 37.67 37.67\n",
       "    lon               (time) float64 -122.8 -122.8 -122.8 ... -122.7 -122.7\n",
       "  * time              (time) datetime64[ns] 2018-04-12T09:00:30 ... 2018-06-10T18:42:30\n",
       "Data variables:\n",
       "    analysed_sst      (time) float64 285.1 285.1 285.1 ... 285.1 285.1 285.1\n",
       "    analysis_error    (time) float64 0.38 0.38 0.38 0.38 ... 0.39 0.39 0.39 0.39\n",
       "    mask              (time) float64 1.0 1.0 1.0 1.0 1.0 ... 1.0 1.0 1.0 1.0 1.0\n",
       "    sea_ice_fraction  (time) float64 nan nan nan nan nan ... nan nan nan nan nan\n",
       "Attributes:\n",
       "    Conventions:                CF-1.5\n",
       "    title:                      Daily MUR SST, Final product\n",
       "    summary:                    A merged, multi-sensor L4 Foundation SST anal...\n",
       "    references:                 http://podaac.jpl.nasa.gov/Multi-scale_Ultra-...\n",
       "    institution:                Jet Propulsion Laboratory\n",
       "    history:                    created at nominal 4-day latency; replaced nr...\n",
       "    comment:                    MUR = \"Multi-scale Ultra-high Reolution\"\n",
       "    license:                    These data are available free of charge under...\n",
       "    id:                         MUR-JPL-L4-GLOB-v04.1\n",
       "    naming_authority:           org.ghrsst\n",
       "    product_version:            04.1\n",
       "    uuid:                       27665bc0-d5fc-11e1-9b23-0800200c9a66\n",
       "    gds_version_id:             2.0\n",
       "    netcdf_version_id:          4.1\n",
       "    date_created:               20180519T022756Z\n",
       "    start_time:                 20180412T090000Z\n",
       "    stop_time:                  20180412T090000Z\n",
       "    time_coverage_start:        20180411T210000Z\n",
       "    time_coverage_end:          20180412T210000Z\n",
       "    file_quality_level:         1\n",
       "    source:                     MODIS_T-JPL, MODIS_A-JPL, AMSR2-REMSS, AVHRR1...\n",
       "    platform:                   Terra, Aqua, GCOM-W, NOAA-19, MetOp-A, Buoys/...\n",
       "    sensor:                     MODIS, AMSR2, AVHRR, in-situ\n",
       "    Metadata_Conventions:       Unidata Observation Dataset v1.0\n",
       "    metadata_link:              http://podaac.jpl.nasa.gov/ws/metadata/datase...\n",
       "    keywords:                   Oceans > Ocean Temperature > Sea Surface Temp...\n",
       "    keywords_vocabulary:        NASA Global Change Master Directory (GCMD) Sc...\n",
       "    standard_name_vocabulary:   NetCDF Climate and Forecast (CF) Metadata Con...\n",
       "    southernmost_latitude:      -90.0\n",
       "    northernmost_latitude:      90.0\n",
       "    westernmost_longitude:      -180.0\n",
       "    easternmost_longitude:      180.0\n",
       "    spatial_resolution:         0.01 degrees\n",
       "    geospatial_lat_units:       degrees north\n",
       "    geospatial_lat_resolution:  0.01 degrees\n",
       "    geospatial_lon_units:       degrees east\n",
       "    geospatial_lon_resolution:  0.01 degrees\n",
       "    acknowledgment:             Please acknowledge the use of these data with...\n",
       "    creator_name:               JPL MUR SST project\n",
       "    creator_email:              ghrsst@podaac.jpl.nasa.gov\n",
       "    creator_url:                http://mur.jpl.nasa.gov\n",
       "    project:                    NASA Making Earth Science Data Records for Us...\n",
       "    publisher_name:             GHRSST Project Office\n",
       "    publisher_url:              http://www.ghrsst.org\n",
       "    publisher_email:            ghrsst-po@nceo.ac.uk\n",
       "    processing_level:           L4\n",
       "    cdm_data_type:              grid"
      ]
     },
     "execution_count": 18,
     "metadata": {},
     "output_type": "execute_result"
    }
   ],
   "source": [
    "ds_collocated_averaged"
   ]
  },
  {
   "cell_type": "code",
   "execution_count": 3,
   "metadata": {},
   "outputs": [],
   "source": [
    "ds_collocated_averaged = xr.open_dataset('F:/data/cruise_data/saildrone/baja-2018/mur_downsampled_collocated_usv_data2.nc')\n",
    "ds_collocated_averaged.close()\n",
    "ds_new = xr.open_dataset('F:/data/cruise_data/saildrone/baja-2018/mur_downsampled_usv_data2.nc')\n",
    "ds_new.close()"
   ]
  },
  {
   "cell_type": "code",
   "execution_count": 5,
   "metadata": {},
   "outputs": [
    {
     "data": {
      "text/plain": [
       "<xarray.Dataset>\n",
       "Dimensions:   (time: 5934)\n",
       "Coordinates:\n",
       "  * time      (time) datetime64[ns] 2018-04-12T09:00:30 ... 2018-06-10T18:42:30\n",
       "Data variables:\n",
       "    sst_usv   (time) float64 ...\n",
       "    uwnd_usv  (time) float64 ...\n",
       "    vwnd_usv  (time) float64 ...\n",
       "    lon       (time) float64 ...\n",
       "    lat       (time) float64 ..."
      ]
     },
     "execution_count": 5,
     "metadata": {},
     "output_type": "execute_result"
    }
   ],
   "source": [
    "ds_collocated_averaged\n",
    "ds_new"
   ]
  },
  {
   "cell_type": "markdown",
   "metadata": {},
   "source": [
    "There are different ways to select data using an Xarray dataset.\n",
    "- The easiest ways are to use .isel or .sel\n",
    "- .isel selects by integer\n",
    "- .sel selects by label\n",
    "\n",
    "A note of caution, if you are using .isel it is better to rename your data variable.  If you run the block of code that selects the data more than once, using .sel it would still have the same result, while using .isel would apply the selection again"
   ]
  },
  {
   "cell_type": "code",
   "execution_count": null,
   "metadata": {
    "scrolled": false
   },
   "outputs": [],
   "source": []
  },
  {
   "cell_type": "code",
   "execution_count": 31,
   "metadata": {},
   "outputs": [
    {
     "name": "stdout",
     "output_type": "stream",
     "text": [
      "[array(0.32083045), array(0.29255116), 0.9770688032904439, array(0.40609115), 0.3422730102426266, array(0.40458592), 5833]\n"
     ]
    }
   ],
   "source": [
    "\n",
    "#sat_sst = ds_collocated_averaged.analysed_sst[:-19]-273.15\n",
    "#usv_sst = ds_new.sst_usv[:-19]\n",
    "\n",
    "sat_sst = ds_collocated_averaged.analysed_sst[:-19]-273.15\n",
    "usv_sst = ds_new.sst_usv[:-19]\n",
    "cond = np.isfinite(usv_sst)\n",
    "sat_sst = sat_sst[cond]\n",
    "usv_sst = usv_sst[cond]\n",
    "dif_sst = sat_sst-usv_sst\n",
    "\n",
    "ds_new['spd']=np.sqrt(ds_new.uwnd_usv**2+ds_new.vwnd_usv**2)\n",
    "usv_spd = ds_new.spd[:-19]\n",
    "#dif_sst = (sat_sst - usv_sst).dropna(dim='time')\n",
    "#std_robust = np.nanmedian(dif_sst) * 1.482602218505602\n",
    "#print('mean,std,rstd, dif ',[dif_sst.mean().data,dif_sst.std().data,std_robust,dif_sst.shape[0]])\n",
    "usv_spd = usv_spd[cond]\n",
    "\n",
    "sdif = (sat_sst-usv_sst).dropna('time')\n",
    "sdifcor = np.corrcoef(sat_sst,usv_sst)[0,1]\n",
    "std_robust = np.nanmedian(np.abs(sdif - np.nanmedian(sdif))) * 1.482602218505602\n",
    "ilen = sdif.shape[0]\n",
    "print([sdif.mean().data,sdif.median().data,sdifcor,sdif.std().data,std_robust,\n",
    "                    np.abs(sdif).mean().data,sdif.shape[0]])\n",
    "\n"
   ]
  },
  {
   "cell_type": "code",
   "execution_count": 136,
   "metadata": {},
   "outputs": [
    {
     "name": "stdout",
     "output_type": "stream",
     "text": [
      "[array(0.32083045), array(0.29255116), 0.9770688032904439, array(0.40609115), 0.3422730102426266, array(0.40458592), 5833]\n"
     ]
    }
   ],
   "source": [
    "#playign around\n",
    "import pytz\n",
    "time = ds_new['time'].to_index()\n",
    "time_utc = time.tz_localize(pytz.UTC)\n",
    "au_tz = pytz.timezone('Etc/GMT+8')\n",
    "sat_sst = ds_collocated_averaged.analysed_sst[:-19]-273.15\n",
    "usv_sst = ds_new.sst_usv[:-19]\n",
    "ds_new['time_local'] = time_utc.tz_convert(au_tz)\n",
    "usv_spd = ds_new.spd[:-19]\n",
    "sat_local_hr = ds_new.local_time.dt.hour[:-19]\n",
    "cond = np.isfinite(usv_sst)\n",
    "sat_sst = sat_sst[cond]\n",
    "usv_sst = usv_sst[cond]\n",
    "dif_sst = sat_sst-usv_sst\n",
    "usv_spd = usv_spd[cond]\n",
    "sat_local_hr = sat_local_hr[cond]\n",
    "\n",
    "#now remove low wind\n",
    "cond = usv_spd>2\n",
    "\n",
    "sdif = (sat_sst-usv_sst).dropna('time')\n",
    "sdifcor = np.corrcoef(sat_sst,usv_sst)[0,1]\n",
    "std_robust = np.nanmedian(np.abs(sdif - np.nanmedian(sdif))) * 1.482602218505602\n",
    "ilen = sdif.shape[0]\n",
    "print([sdif.mean().data,sdif.median().data,sdifcor,sdif.std().data,std_robust,\n",
    "                    np.abs(sdif).mean().data,sdif.shape[0]])\n"
   ]
  },
  {
   "cell_type": "code",
   "execution_count": 135,
   "metadata": {},
   "outputs": [
    {
     "data": {
      "text/plain": [
       "<xarray.DataArray 'hour' (time: 5915)>\n",
       "array([2, 2, 2, ..., 9, 9, 9], dtype=int64)\n",
       "Coordinates:\n",
       "  * time     (time) datetime64[ns] 2018-04-12T09:00:30 ... 2018-06-10T16:35:30"
      ]
     },
     "execution_count": 135,
     "metadata": {},
     "output_type": "execute_result"
    }
   ],
   "source": [
    "ds_new.local_time.dt.hour[:-19]"
   ]
  },
  {
   "cell_type": "code",
   "execution_count": 34,
   "metadata": {},
   "outputs": [
    {
     "ename": "ValueError",
     "evalue": "x and y must have same first dimension, but have shapes (5833,) and (5915,)",
     "output_type": "error",
     "traceback": [
      "\u001b[1;31m---------------------------------------------------------------------------\u001b[0m",
      "\u001b[1;31mValueError\u001b[0m                                Traceback (most recent call last)",
      "\u001b[1;32m<ipython-input-34-e110107ee951>\u001b[0m in \u001b[0;36m<module>\u001b[1;34m\u001b[0m\n\u001b[0;32m      1\u001b[0m \u001b[1;33m\u001b[0m\u001b[0m\n\u001b[1;32m----> 2\u001b[1;33m \u001b[0mplt\u001b[0m\u001b[1;33m.\u001b[0m\u001b[0mplot\u001b[0m\u001b[1;33m(\u001b[0m\u001b[0musv_spd\u001b[0m\u001b[1;33m,\u001b[0m\u001b[0mdif_sst\u001b[0m\u001b[1;33m,\u001b[0m\u001b[1;34m'.'\u001b[0m\u001b[1;33m)\u001b[0m\u001b[1;33m\u001b[0m\u001b[1;33m\u001b[0m\u001b[0m\n\u001b[0m\u001b[0;32m      3\u001b[0m \u001b[0mplt\u001b[0m\u001b[1;33m.\u001b[0m\u001b[0mxlabel\u001b[0m\u001b[1;33m(\u001b[0m\u001b[1;34m'USV wind speed (ms$^{-1}$)'\u001b[0m\u001b[1;33m)\u001b[0m\u001b[1;33m\u001b[0m\u001b[1;33m\u001b[0m\u001b[0m\n\u001b[0;32m      4\u001b[0m \u001b[0mplt\u001b[0m\u001b[1;33m.\u001b[0m\u001b[0mylabel\u001b[0m\u001b[1;33m(\u001b[0m\u001b[1;34m'USV - Sat SST (K)'\u001b[0m\u001b[1;33m)\u001b[0m\u001b[1;33m\u001b[0m\u001b[1;33m\u001b[0m\u001b[0m\n\u001b[0;32m      5\u001b[0m \u001b[1;31m#sat_sst = ds_collocated_averaged.analysed_sst[:-19]-273.15\u001b[0m\u001b[1;33m\u001b[0m\u001b[1;33m\u001b[0m\u001b[1;33m\u001b[0m\u001b[0m\n",
      "\u001b[1;32m~\\Miniconda3\\envs\\satenv\\lib\\site-packages\\matplotlib\\pyplot.py\u001b[0m in \u001b[0;36mplot\u001b[1;34m(scalex, scaley, data, *args, **kwargs)\u001b[0m\n\u001b[0;32m   2809\u001b[0m     return gca().plot(\n\u001b[0;32m   2810\u001b[0m         *args, scalex=scalex, scaley=scaley, **({\"data\": data} if data\n\u001b[1;32m-> 2811\u001b[1;33m         is not None else {}), **kwargs)\n\u001b[0m\u001b[0;32m   2812\u001b[0m \u001b[1;33m\u001b[0m\u001b[0m\n\u001b[0;32m   2813\u001b[0m \u001b[1;33m\u001b[0m\u001b[0m\n",
      "\u001b[1;32m~\\Miniconda3\\envs\\satenv\\lib\\site-packages\\matplotlib\\__init__.py\u001b[0m in \u001b[0;36minner\u001b[1;34m(ax, data, *args, **kwargs)\u001b[0m\n\u001b[0;32m   1808\u001b[0m                         \u001b[1;34m\"the Matplotlib list!)\"\u001b[0m \u001b[1;33m%\u001b[0m \u001b[1;33m(\u001b[0m\u001b[0mlabel_namer\u001b[0m\u001b[1;33m,\u001b[0m \u001b[0mfunc\u001b[0m\u001b[1;33m.\u001b[0m\u001b[0m__name__\u001b[0m\u001b[1;33m)\u001b[0m\u001b[1;33m,\u001b[0m\u001b[1;33m\u001b[0m\u001b[1;33m\u001b[0m\u001b[0m\n\u001b[0;32m   1809\u001b[0m                         RuntimeWarning, stacklevel=2)\n\u001b[1;32m-> 1810\u001b[1;33m             \u001b[1;32mreturn\u001b[0m \u001b[0mfunc\u001b[0m\u001b[1;33m(\u001b[0m\u001b[0max\u001b[0m\u001b[1;33m,\u001b[0m \u001b[1;33m*\u001b[0m\u001b[0margs\u001b[0m\u001b[1;33m,\u001b[0m \u001b[1;33m**\u001b[0m\u001b[0mkwargs\u001b[0m\u001b[1;33m)\u001b[0m\u001b[1;33m\u001b[0m\u001b[1;33m\u001b[0m\u001b[0m\n\u001b[0m\u001b[0;32m   1811\u001b[0m \u001b[1;33m\u001b[0m\u001b[0m\n\u001b[0;32m   1812\u001b[0m         inner.__doc__ = _add_data_doc(inner.__doc__,\n",
      "\u001b[1;32m~\\Miniconda3\\envs\\satenv\\lib\\site-packages\\matplotlib\\axes\\_axes.py\u001b[0m in \u001b[0;36mplot\u001b[1;34m(self, scalex, scaley, *args, **kwargs)\u001b[0m\n\u001b[0;32m   1609\u001b[0m         \u001b[0mkwargs\u001b[0m \u001b[1;33m=\u001b[0m \u001b[0mcbook\u001b[0m\u001b[1;33m.\u001b[0m\u001b[0mnormalize_kwargs\u001b[0m\u001b[1;33m(\u001b[0m\u001b[0mkwargs\u001b[0m\u001b[1;33m,\u001b[0m \u001b[0mmlines\u001b[0m\u001b[1;33m.\u001b[0m\u001b[0mLine2D\u001b[0m\u001b[1;33m.\u001b[0m\u001b[0m_alias_map\u001b[0m\u001b[1;33m)\u001b[0m\u001b[1;33m\u001b[0m\u001b[1;33m\u001b[0m\u001b[0m\n\u001b[0;32m   1610\u001b[0m \u001b[1;33m\u001b[0m\u001b[0m\n\u001b[1;32m-> 1611\u001b[1;33m         \u001b[1;32mfor\u001b[0m \u001b[0mline\u001b[0m \u001b[1;32min\u001b[0m \u001b[0mself\u001b[0m\u001b[1;33m.\u001b[0m\u001b[0m_get_lines\u001b[0m\u001b[1;33m(\u001b[0m\u001b[1;33m*\u001b[0m\u001b[0margs\u001b[0m\u001b[1;33m,\u001b[0m \u001b[1;33m**\u001b[0m\u001b[0mkwargs\u001b[0m\u001b[1;33m)\u001b[0m\u001b[1;33m:\u001b[0m\u001b[1;33m\u001b[0m\u001b[1;33m\u001b[0m\u001b[0m\n\u001b[0m\u001b[0;32m   1612\u001b[0m             \u001b[0mself\u001b[0m\u001b[1;33m.\u001b[0m\u001b[0madd_line\u001b[0m\u001b[1;33m(\u001b[0m\u001b[0mline\u001b[0m\u001b[1;33m)\u001b[0m\u001b[1;33m\u001b[0m\u001b[1;33m\u001b[0m\u001b[0m\n\u001b[0;32m   1613\u001b[0m             \u001b[0mlines\u001b[0m\u001b[1;33m.\u001b[0m\u001b[0mappend\u001b[0m\u001b[1;33m(\u001b[0m\u001b[0mline\u001b[0m\u001b[1;33m)\u001b[0m\u001b[1;33m\u001b[0m\u001b[1;33m\u001b[0m\u001b[0m\n",
      "\u001b[1;32m~\\Miniconda3\\envs\\satenv\\lib\\site-packages\\matplotlib\\axes\\_base.py\u001b[0m in \u001b[0;36m_grab_next_args\u001b[1;34m(self, *args, **kwargs)\u001b[0m\n\u001b[0;32m    391\u001b[0m                 \u001b[0mthis\u001b[0m \u001b[1;33m+=\u001b[0m \u001b[0margs\u001b[0m\u001b[1;33m[\u001b[0m\u001b[1;36m0\u001b[0m\u001b[1;33m]\u001b[0m\u001b[1;33m,\u001b[0m\u001b[1;33m\u001b[0m\u001b[1;33m\u001b[0m\u001b[0m\n\u001b[0;32m    392\u001b[0m                 \u001b[0margs\u001b[0m \u001b[1;33m=\u001b[0m \u001b[0margs\u001b[0m\u001b[1;33m[\u001b[0m\u001b[1;36m1\u001b[0m\u001b[1;33m:\u001b[0m\u001b[1;33m]\u001b[0m\u001b[1;33m\u001b[0m\u001b[1;33m\u001b[0m\u001b[0m\n\u001b[1;32m--> 393\u001b[1;33m             \u001b[1;32myield\u001b[0m \u001b[1;32mfrom\u001b[0m \u001b[0mself\u001b[0m\u001b[1;33m.\u001b[0m\u001b[0m_plot_args\u001b[0m\u001b[1;33m(\u001b[0m\u001b[0mthis\u001b[0m\u001b[1;33m,\u001b[0m \u001b[0mkwargs\u001b[0m\u001b[1;33m)\u001b[0m\u001b[1;33m\u001b[0m\u001b[1;33m\u001b[0m\u001b[0m\n\u001b[0m\u001b[0;32m    394\u001b[0m \u001b[1;33m\u001b[0m\u001b[0m\n\u001b[0;32m    395\u001b[0m \u001b[1;33m\u001b[0m\u001b[0m\n",
      "\u001b[1;32m~\\Miniconda3\\envs\\satenv\\lib\\site-packages\\matplotlib\\axes\\_base.py\u001b[0m in \u001b[0;36m_plot_args\u001b[1;34m(self, tup, kwargs)\u001b[0m\n\u001b[0;32m    368\u001b[0m             \u001b[0mx\u001b[0m\u001b[1;33m,\u001b[0m \u001b[0my\u001b[0m \u001b[1;33m=\u001b[0m \u001b[0mindex_of\u001b[0m\u001b[1;33m(\u001b[0m\u001b[0mtup\u001b[0m\u001b[1;33m[\u001b[0m\u001b[1;33m-\u001b[0m\u001b[1;36m1\u001b[0m\u001b[1;33m]\u001b[0m\u001b[1;33m)\u001b[0m\u001b[1;33m\u001b[0m\u001b[1;33m\u001b[0m\u001b[0m\n\u001b[0;32m    369\u001b[0m \u001b[1;33m\u001b[0m\u001b[0m\n\u001b[1;32m--> 370\u001b[1;33m         \u001b[0mx\u001b[0m\u001b[1;33m,\u001b[0m \u001b[0my\u001b[0m \u001b[1;33m=\u001b[0m \u001b[0mself\u001b[0m\u001b[1;33m.\u001b[0m\u001b[0m_xy_from_xy\u001b[0m\u001b[1;33m(\u001b[0m\u001b[0mx\u001b[0m\u001b[1;33m,\u001b[0m \u001b[0my\u001b[0m\u001b[1;33m)\u001b[0m\u001b[1;33m\u001b[0m\u001b[1;33m\u001b[0m\u001b[0m\n\u001b[0m\u001b[0;32m    371\u001b[0m \u001b[1;33m\u001b[0m\u001b[0m\n\u001b[0;32m    372\u001b[0m         \u001b[1;32mif\u001b[0m \u001b[0mself\u001b[0m\u001b[1;33m.\u001b[0m\u001b[0mcommand\u001b[0m \u001b[1;33m==\u001b[0m \u001b[1;34m'plot'\u001b[0m\u001b[1;33m:\u001b[0m\u001b[1;33m\u001b[0m\u001b[1;33m\u001b[0m\u001b[0m\n",
      "\u001b[1;32m~\\Miniconda3\\envs\\satenv\\lib\\site-packages\\matplotlib\\axes\\_base.py\u001b[0m in \u001b[0;36m_xy_from_xy\u001b[1;34m(self, x, y)\u001b[0m\n\u001b[0;32m    229\u001b[0m         \u001b[1;32mif\u001b[0m \u001b[0mx\u001b[0m\u001b[1;33m.\u001b[0m\u001b[0mshape\u001b[0m\u001b[1;33m[\u001b[0m\u001b[1;36m0\u001b[0m\u001b[1;33m]\u001b[0m \u001b[1;33m!=\u001b[0m \u001b[0my\u001b[0m\u001b[1;33m.\u001b[0m\u001b[0mshape\u001b[0m\u001b[1;33m[\u001b[0m\u001b[1;36m0\u001b[0m\u001b[1;33m]\u001b[0m\u001b[1;33m:\u001b[0m\u001b[1;33m\u001b[0m\u001b[1;33m\u001b[0m\u001b[0m\n\u001b[0;32m    230\u001b[0m             raise ValueError(\"x and y must have same first dimension, but \"\n\u001b[1;32m--> 231\u001b[1;33m                              \"have shapes {} and {}\".format(x.shape, y.shape))\n\u001b[0m\u001b[0;32m    232\u001b[0m         \u001b[1;32mif\u001b[0m \u001b[0mx\u001b[0m\u001b[1;33m.\u001b[0m\u001b[0mndim\u001b[0m \u001b[1;33m>\u001b[0m \u001b[1;36m2\u001b[0m \u001b[1;32mor\u001b[0m \u001b[0my\u001b[0m\u001b[1;33m.\u001b[0m\u001b[0mndim\u001b[0m \u001b[1;33m>\u001b[0m \u001b[1;36m2\u001b[0m\u001b[1;33m:\u001b[0m\u001b[1;33m\u001b[0m\u001b[1;33m\u001b[0m\u001b[0m\n\u001b[0;32m    233\u001b[0m             raise ValueError(\"x and y can be no greater than 2-D, but have \"\n",
      "\u001b[1;31mValueError\u001b[0m: x and y must have same first dimension, but have shapes (5833,) and (5915,)"
     ]
    },
    {
     "data": {
      "image/png": "[encoded data removed]",
      "text/plain": [
       "<Figure size 432x288 with 1 Axes>"
      ]
     },
     "metadata": {
      "needs_background": "light"
     },
     "output_type": "display_data"
    }
   ],
   "source": [
    "\n",
    "plt.plot(usv_spd,dif_sst,'.')\n",
    "plt.xlabel('USV wind speed (ms$^{-1}$)')\n",
    "plt.ylabel('USV - Sat SST (K)')\n",
    "#sat_sst = ds_collocated_averaged.analysed_sst[:-19]-273.15\n",
    "#usv_sst = ds_new.sst_usv[:-19]\n",
    "#dif_sst = sat_sst - usv_sst\n",
    "cond = usv_spd>2\n",
    "dif_sst = dif_sst[cond] #.where(cond).dropna('time')\n",
    "std_robust = np.nanmedian(dif_sst) * 1.482602218505602\n",
    "print('no low wind mean,std,rstd, dif ',[dif_sst.mean().data,dif_sst.std().data,std_robust,sum(cond).data])"
   ]
  },
  {
   "cell_type": "code",
   "execution_count": null,
   "metadata": {},
   "outputs": [],
   "source": [
    "plt.plot(usv_sst,dif_sst,'.')\n",
    "plt.xlabel('USV  SST (K)')\n",
    "plt.ylabel('USV - Sat SST (K)')"
   ]
  },
  {
   "cell_type": "code",
   "execution_count": null,
   "metadata": {},
   "outputs": [],
   "source": [
    "import cartopy.crs as ccrs\n",
    "import matplotlib.pyplot as plt\n",
    "ax = plt.axes(projection=ccrs.PlateCarree())\n",
    "ax.coastlines()\n",
    "ax.plt()\n"
   ]
  },
  {
   "cell_type": "code",
   "execution_count": null,
   "metadata": {},
   "outputs": [],
   "source": [
    "fig, ax = plt.subplots(figsize=(5,4))\n",
    "ax.plot(sat_sst,sat_sst-usv_sst,'.')\n",
    "ax.set_xlabel('USV wind speed (ms$^{-1}$)')\n",
    "ax.set_ylabel('USV - Sat wind direction (deg)')\n",
    "fig_fname='F:/data/cruise_data/saildrone/baja-2018/figs/sat_sst_both_bias.png'\n",
    "fig.savefig(fig_fname, transparent=False, format='png')\n"
   ]
  },
  {
   "cell_type": "code",
   "execution_count": null,
   "metadata": {},
   "outputs": [],
   "source": [
    "plt.plot(dif_sst[:-19],'.')"
   ]
  },
  {
   "cell_type": "code",
   "execution_count": null,
   "metadata": {},
   "outputs": [],
   "source": [
    "subset.analysed_sst[0,:,:].plot()"
   ]
  },
  {
   "cell_type": "code",
   "execution_count": null,
   "metadata": {},
   "outputs": [],
   "source": [
    "subset.analysed_sst.mean({'lat','lon'}).plot()"
   ]
  },
  {
   "cell_type": "code",
   "execution_count": null,
   "metadata": {},
   "outputs": [],
   "source": [
    "subset.analysed_sst.mean({'time'}).plot()"
   ]
  },
  {
   "cell_type": "code",
   "execution_count": null,
   "metadata": {},
   "outputs": [],
   "source": [
    "subset.analysed_sst.std({'time'}).plot()"
   ]
  },
  {
   "cell_type": "code",
   "execution_count": null,
   "metadata": {},
   "outputs": [],
   "source": []
  }
 ],
 "metadata": {
  "kernelspec": {
   "display_name": "Python 3",
   "language": "python",
   "name": "python3"
  },
  "language_info": {
   "codemirror_mode": {
    "name": "ipython",
    "version": 3
   },
   "file_extension": ".py",
   "mimetype": "text/x-python",
   "name": "python",
   "nbconvert_exporter": "python",
   "pygments_lexer": "ipython3",
   "version": "3.7.1"
  }
 },
 "nbformat": 4,
 "nbformat_minor": 1
}
