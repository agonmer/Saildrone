{
 "cells": [
  {
   "cell_type": "markdown",
   "metadata": {},
   "source": [
    "This is the Saildrone and GOES 16 SST collocation code. \n",
    "It is made to run either on your local computer or on pythonanywhere cloud service.\n",
    "It uses opendap calls to get the data, so it is easier to run on pythonanywhere.\n",
    "The only input file it uses is the single netcdf file of all the Saildrone data."
   ]
  },
  {
   "cell_type": "code",
   "execution_count": 28,
   "metadata": {},
   "outputs": [],
   "source": [
    "%matplotlib inline\n",
    "from matplotlib import style\n",
    "style.use('ggplot')\n",
    "import numpy as np\n",
    "import matplotlib.pyplot as plt\n",
    "import numpy.ma as ma\n",
    "from netCDF4 import Dataset, date2index, num2date\n",
    "from palettable import colorbrewer\n",
    "from datetime import datetime, timedelta\n",
    "from bs4 import BeautifulSoup\n",
    "import requests\n",
    "def listFD(url, ext=''):\n",
    "    page = requests.get(url).text\n",
    "    #print(page)\n",
    "    soup = BeautifulSoup(page, 'html.parser')\n",
    "    return [url + node.get('href') for node in soup.find_all('a') if (node.get('href').endswith(ext) and node.get('href').startswith('2'))]\n",
    "import datetime as dt\n",
    "from math import atan2\n",
    "import xarray as xr\n",
    "\n"
   ]
  },
  {
   "cell_type": "code",
   "execution_count": 29,
   "metadata": {},
   "outputs": [],
   "source": [
    "#filename_goes_sst = 'F:/data/cruise_data/saildrone/baja-2018/goes_sst_collocation_data.npy'\n",
    "#filename_usv='F:/data/cruise_data/saildrone/baja-2018/saildrone-gen_4-baja_2018-EP-sd1002-ALL-1_min-v1.nc'\n",
    "filename_goes_sst = './goes_sst_collocation_data.nc'\n",
    "#filename_usv='./saildrone-gen_4-baja_2018-EP-sd1002-ALL-1_min-v1.nc'\n",
    "filename_usv='f:/data/cruise_data/saildrone/baja-2018/saildrone-gen_4-baja_2018-sd1002-20180411T180000-20180611T055959-1_minutes-v1_withloggers.nc'\n",
    "ds_usv = xr.open_dataset(filename_usv)\n"
   ]
  },
  {
   "cell_type": "code",
   "execution_count": 30,
   "metadata": {},
   "outputs": [
    {
     "data": {
      "text/plain": [
       "<xarray.DataArray 'time' ()>\n",
       "array('2018-04-11T18:01:00.000000000', dtype='datetime64[ns]')\n",
       "Coordinates:\n",
       "    trajectory  float32 1002.0\n",
       "    time        datetime64[ns] ...\n",
       "    latitude    float64 ...\n",
       "    longitude   float64 ..."
      ]
     },
     "execution_count": 30,
     "metadata": {},
     "output_type": "execute_result"
    }
   ],
   "source": [
    "ds_usv.time[0,1].dt.dayofyear\n",
    "ds_usv.time[0,1]+ np.timedelta64(days=-1) "
   ]
  },
  {
   "cell_type": "code",
   "execution_count": null,
   "metadata": {},
   "outputs": [],
   "source": []
  },
  {
   "cell_type": "code",
   "execution_count": 31,
   "metadata": {},
   "outputs": [],
   "source": [
    "ilen=(len(ds_usv.latitude['obs']))\n",
    "lats_usv=ds_usv.latitude[0,:].values\n",
    "lons_usv=ds_usv.longitude[0,:].values\n",
    "skin=ds_usv.TEMP_IR_UNCOR_MEAN[0,:].values\n",
    "tair=ds_usv.TEMP_AIR_MEAN[0,:].values\n",
    "bulk1=ds_usv.TEMP_CTD_MEAN[0,:].values\n",
    "bulk2=ds_usv.TEMP_O2_MEAN[0,:].values\n",
    "uspd=ds_usv.UWND_MEAN[0,:].values\n",
    "vspd=ds_usv.VWND_MEAN[0,:].values\n",
    "wing=ds_usv.HDG_WING[0,:].values\n",
    "wing_ang=ds_usv.WING_ANGLE[0,:].values\n",
    "pitch=ds_usv.PITCH[0,:].values\n",
    "heading=ds_usv.HDG_WING[0,:].values\n",
    "yaw_heading=ds_usv.HDG[0,:].values\n",
    "roll=ds_usv.ROLL[0,:].values\n",
    "tdim=len(skin)\n",
    "wdir=np.zeros(tdim)\n",
    "for i in range(0,tdim):\n",
    "    wdir[i]=atan2(vspd[i],uspd[i])*180/3.14159\n",
    "wspd=(uspd**2+vspd**2)**.5\n",
    "\n"
   ]
  },
  {
   "cell_type": "code",
   "execution_count": 37,
   "metadata": {},
   "outputs": [
    {
     "name": "stdout",
     "output_type": "stream",
     "text": [
      "<xarray.DataArray 'lat' (lat: 2400)>\n",
      "array([-59.975, -59.925, -59.875, ...,  59.875,  59.925,  59.975],\n",
      "      dtype=float32)\n",
      "Coordinates:\n",
      "  * lat      (lat) float32 -59.975 -59.925 -59.875 ... 59.875 59.925 59.975\n",
      "Attributes:\n",
      "    long_name:      latitude\n",
      "    standard_name:  latitude\n",
      "    axis:           Y\n",
      "    units:          degrees_north\n",
      "    valid_min:      -90.0\n",
      "    valid_max:      90.0\n",
      "    comment:        geographical coordinates, WGS84 projection\n",
      "<xarray.DataArray 'lat' ()>\n",
      "array(-59.975, dtype=float32)\n",
      "Coordinates:\n",
      "    lat      float32 -59.975\n",
      "Attributes:\n",
      "    long_name:      latitude\n",
      "    standard_name:  latitude\n",
      "    axis:           Y\n",
      "    units:          degrees_north\n",
      "    valid_min:      -90.0\n",
      "    valid_max:      90.0\n",
      "    comment:        geographical coordinates, WGS84 projection\n",
      "<xarray.Dataset>\n",
      "Dimensions:                    (lat: 2400, lon: 2400, time: 1)\n",
      "Coordinates:\n",
      "  * time                       (time) datetime64[ns] 2018-06-09T07:00:00\n",
      "  * lat                        (lat) float32 -59.975 -59.925 ... 59.925 59.975\n",
      "  * lon                        (lon) float32 -134.975 -134.925 ... -15.025\n",
      "Data variables:\n",
      "    sea_surface_temperature    (time, lat, lon) float32 ...\n",
      "    sst_dtime                  (time, lat, lon) timedelta64[ns] ...\n",
      "    sses_bias                  (time, lat, lon) float32 ...\n",
      "    sses_standard_deviation    (time, lat, lon) float32 ...\n",
      "    dt_analysis                (time, lat, lon) float32 ...\n",
      "    wind_speed                 (time, lat, lon) float32 ...\n",
      "    sea_ice_fraction           (time, lat, lon) float32 ...\n",
      "    aerosol_dynamic_indicator  (time, lat, lon) float32 ...\n",
      "    adi_dtime_from_sst         (time, lat, lon) float32 ...\n",
      "    sources_of_adi             (time, lat, lon) float32 ...\n",
      "    l2p_flags                  (time, lat, lon) int32 ...\n",
      "    quality_level              (time, lat, lon) float32 ...\n",
      "    satellite_zenith_angle     (time, lat, lon) float32 ...\n",
      "    solar_zenith_angle         (time, lat, lon) float32 ...\n",
      "    or_latitude                (time, lat, lon) float32 ...\n",
      "    or_longitude               (time, lat, lon) float32 ...\n",
      "Attributes:\n",
      "    Conventions:                     CF-1.4\n",
      "    title:                           Sea Surface Temperature\n",
      "    summary:                         The L3C product derived from GOES16/ABI ...\n",
      "    references:                      Geostationary Sea Surface Temperature Pr...\n",
      "    institution:                     OSISAF\n",
      "    history:                         METEO-FRANCE/CMS SAFOS processor\n",
      "    comment:                         \n",
      "    license:                         All intellectual property rights of the ...\n",
      "    id:                              GOES16-OSISAF-L3C-v1.0\n",
      "    naming_authority:                org.ghrsst\n",
      "    product_version:                 1.0\n",
      "    gds_version_id:                  2.0\n",
      "    spatial_resolution:              0.05 degree\n",
      "    northernmost_latitude:           60.0\n",
      "    southernmost_latitude:           -60.0\n",
      "    easternmost_longitude:           -15.0\n",
      "    westernmost_longitude:           -135.0\n",
      "    source:                          GOES_ABI\n",
      "    platform:                        GOES16\n",
      "    sensor:                          GOES_ABI\n",
      "    Metadata_Conventions:            Unidata Dataset Discovery v1.0\n",
      "    metadata_link:                   N/A\n",
      "    keywords:                        Oceans > Ocean Temperature > Sea Surface...\n",
      "    keywords_vocabulary:             NASA Global Change Master Directory (GCM...\n",
      "    standard_name_vocabulary:        NetCDF Climate and Forecast (CF) Metadat...\n",
      "    geospatial_lat_units:            degrees_north\n",
      "    geospatial_lat_resolution:       0.05\n",
      "    geospatial_lon_units:            degrees_east\n",
      "    geospatial_lon_resolution:       0.05\n",
      "    acknowledgment:                  In case SAF data (pre-operational or ope...\n",
      "    creator_name:                    O&SI SAF\n",
      "    creator_email:                   osi-saf.helpdesk@meteo.fr\n",
      "    creator_url:                     http://www.osi-saf.org\n",
      "    project:                         Group for High Resolution Sea Surface Te...\n",
      "    publisher_name:                  The GHRSST Project Office\n",
      "    publisher_url:                   http://www.ghrsst.org\n",
      "    publisher_email:                 ghrsst-po@nceo.ac.uk\n",
      "    processing_level:                L3C\n",
      "    cdm_data_type:                   grid\n",
      "    date_created:                    20180609T090633Z\n",
      "    file_quality_level:              2\n",
      "    start_time:                      20180609T063000Z\n",
      "    time_coverage_start:             20180609T063000Z\n",
      "    stop_time:                       20180609T073000Z\n",
      "    time_coverage_end:               20180609T073000Z\n",
      "    uuid:                            793E702C-6BC4-11E8-B4C4-0024E836CC1A\n",
      "    netcdf_version_id:               4.3.2\n",
      "    DODS_EXTRA.Unlimited_Dimension:  time\n"
     ]
    }
   ],
   "source": [
    "#print(tdim)\n",
    "#file_goes='https://opendap.jpl.nasa.gov/opendap/OceanTemperature/ghrsst/data/GDS2/L3C/AMERICAS/GOES16/OSISAF/v1/2018/160/20180609070000-OSISAF-L3C_GHRSST-SSTsubskin-GOES16-ssteqc_goes16_20180609_070000-v02.0-fv01.0.nc'\n",
    "#nc = Dataset(file_goes)\n",
    "#lats_goes = nc.variables['lat'][:] \n",
    "#lons_goes = nc.variables['lon'][:]\n",
    "#nc.close()\n",
    "print(lats_goes)\n",
    "print(lats_goes[0])\n",
    "print(ds_sat)"
   ]
  },
  {
   "cell_type": "code",
   "execution_count": 61,
   "metadata": {},
   "outputs": [
    {
     "name": "stderr",
     "output_type": "stream",
     "text": [
      "C:\\Users\\gentemann\\Miniconda3\\lib\\site-packages\\ipykernel_launcher.py:39: UserWarning: Warning: converting a masked element to nan.\n"
     ]
    },
    {
     "name": "stdout",
     "output_type": "stream",
     "text": [
      "0 86839 252 1956 18 nan\n",
      "1 86839 251 1956 18 nan\n"
     ]
    },
    {
     "name": "stderr",
     "output_type": "stream",
     "text": [
      "C:\\Users\\gentemann\\Miniconda3\\lib\\site-packages\\ipykernel_launcher.py:39: UserWarning: Warning: converting a masked element to nan.\n",
      "C:\\Users\\gentemann\\Miniconda3\\lib\\site-packages\\ipykernel_launcher.py:47: UserWarning: Warning: converting a masked element to nan.\n",
      "C:\\Users\\gentemann\\Miniconda3\\lib\\site-packages\\ipykernel_launcher.py:47: UserWarning: Warning: converting a masked element to nan.\n",
      "C:\\Users\\gentemann\\Miniconda3\\lib\\site-packages\\ipykernel_launcher.py:47: UserWarning: Warning: converting a masked element to nan.\n",
      "C:\\Users\\gentemann\\Miniconda3\\lib\\site-packages\\ipykernel_launcher.py:47: UserWarning: Warning: converting a masked element to nan.\n",
      "C:\\Users\\gentemann\\Miniconda3\\lib\\site-packages\\ipykernel_launcher.py:47: UserWarning: Warning: converting a masked element to nan.\n",
      "C:\\Users\\gentemann\\Miniconda3\\lib\\site-packages\\ipykernel_launcher.py:47: UserWarning: Warning: converting a masked element to nan.\n",
      "C:\\Users\\gentemann\\Miniconda3\\lib\\site-packages\\ipykernel_launcher.py:47: UserWarning: Warning: converting a masked element to nan.\n",
      "C:\\Users\\gentemann\\Miniconda3\\lib\\site-packages\\ipykernel_launcher.py:47: UserWarning: Warning: converting a masked element to nan.\n"
     ]
    }
   ],
   "source": [
    "#get lat/lon from random file, it doesn't change\n",
    "file_goes='https://opendap.jpl.nasa.gov/opendap/OceanTemperature/ghrsst/data/GDS2/L3C/AMERICAS/GOES16/OSISAF/v1/2018/160/20180609070000-OSISAF-L3C_GHRSST-SSTsubskin-GOES16-ssteqc_goes16_20180609_070000-v02.0-fv01.0.nc'\n",
    "ds_sat = xr.open_dataset(file_goes)\n",
    "lats_goes=ds_sat.lat\n",
    "lons_goes=ds_sat.lon\n",
    "ds_sat.close()\n",
    "#initialize variables\n",
    "latli_sv=-99\n",
    "lonli_sv=-99\n",
    "ihr_sv=-99\n",
    "col_count=0  #initialize\n",
    "gsst=np.zeros(tdim)\n",
    "gsst_num=np.zeros(tdim)\n",
    "#get goes data collocated with usv positions and times\n",
    "for i in range(0,10): #tdim):\n",
    "    latli = np.argmin( np.abs( lats_goes - lats_usv[i] ) )\n",
    "    lonli = np.argmin( np.abs( lons_goes - lons_usv[i] ) )\n",
    "    ihr = ds_usv.time[0,i].dt.hour.data\n",
    "    if (latli!=latli_sv) or (lonli_sv!=lonli) or (ihr_sv!=ihr):  #need to read in new data\n",
    "        syr=str(ds_usv.time[0,i].dt.year.data).zfill(4)\n",
    "        smon=str(ds_usv.time[0,i].dt.month.data).zfill(2)\n",
    "        sdym=str(ds_usv.time[0,i].dt.day.data).zfill(2)\n",
    "        shr=str(ds_usv.time[0,i].dt.hour.data).zfill(2)\n",
    "        sday_of_year=str(ds_usv.time[0,i].dt.dayofyear.data).zfill(3)\n",
    "        if ds_usv.time[0,i].dt.hour.data==0:\n",
    "            tem_time=ds_usv.time[0,i]+ np.timedelta64(days=-1) #increment day by -1 if 0 hr\n",
    "            sday_of_year=str(tem_time.dt.dayofyear.data).zfill(3)\n",
    "        adir_goes='https://opendap.jpl.nasa.gov/opendap/OceanTemperature/ghrsst/data/GDS2/L3C/AMERICAS/GOES16/OSISAF/v1/'\n",
    "        fgoes='0000-OSISAF-L3C_GHRSST-SSTsubskin-GOES16-ssteqc_goes16_'\n",
    "        dstr=syr+smon+sdym+shr\n",
    "        dstr2=syr+smon+sdym+'_'+shr\n",
    "        file_goes=adir_goes+syr+'/'+sday_of_year+'/'+ dstr + fgoes +dstr2+'0000-v02.0-fv01.0.nc'\n",
    "        r = requests.get(file_goes)\n",
    "        if r.status_code != requests.codes.ok:\n",
    "            continue    \n",
    "        col_count += 1\n",
    "        nc = Dataset(file_goes)\n",
    "        sat_sst = nc.variables['sea_surface_temperature'][ : , latli , lonli ] \n",
    "        gsst[i] = sat_sst\n",
    "        gsst_num[i] = col_count  #this is to keep track of when a new file read in or new collocation point\n",
    "        nc.close()\n",
    "        latli_sv=latli\n",
    "        lonli_sv=lonli\n",
    "        ihr_sv=ds_usv.time[0,i].dt.hour.data\n",
    "        print(i,tdim,lonli.data, latli.data,ihr_sv,gsst[i])\n",
    "    else:  #collocation is to same gsst point\n",
    "        gsst[i] = sat_sst \n",
    "        gsst_num[i] = col_count  #this is to keep track of when a new file read in or new collocation point\n"
   ]
  },
  {
   "cell_type": "code",
   "execution_count": 56,
   "metadata": {},
   "outputs": [
    {
     "data": {
      "text/plain": [
       "array([nan, nan,  0.,  0.,  0.,  0.,  0.,  0.,  0.,  0.])"
      ]
     },
     "execution_count": 56,
     "metadata": {},
     "output_type": "execute_result"
    }
   ],
   "source": [
    "gsst[0:10]"
   ]
  },
  {
   "cell_type": "code",
   "execution_count": null,
   "metadata": {},
   "outputs": [],
   "source": [
    "np.save(filename_goes_sst, gsst)"
   ]
  },
  {
   "cell_type": "code",
   "execution_count": null,
   "metadata": {},
   "outputs": [],
   "source": []
  },
  {
   "cell_type": "code",
   "execution_count": null,
   "metadata": {},
   "outputs": [],
   "source": []
  }
 ],
 "metadata": {
  "kernelspec": {
   "display_name": "Python 3",
   "language": "python",
   "name": "python3"
  },
  "language_info": {
   "codemirror_mode": {
    "name": "ipython",
    "version": 3
   },
   "file_extension": ".py",
   "mimetype": "text/x-python",
   "name": "python",
   "nbconvert_exporter": "python",
   "pygments_lexer": "ipython3",
   "version": "3.7.0"
  }
 },
 "nbformat": 4,
 "nbformat_minor": 1
}
