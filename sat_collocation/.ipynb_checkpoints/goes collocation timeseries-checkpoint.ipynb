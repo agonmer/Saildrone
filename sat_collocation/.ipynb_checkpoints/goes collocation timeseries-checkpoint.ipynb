{
 "cells": [
  {
   "cell_type": "code",
   "execution_count": 1,
   "metadata": {},
   "outputs": [],
   "source": [
    "%matplotlib inline\n",
    "import numpy as np\n",
    "import matplotlib.pyplot as plt\n",
    "from datetime import datetime, timedelta\n",
    "import datetime as dt\n",
    "import xarray as xr\n"
   ]
  },
  {
   "cell_type": "code",
   "execution_count": 6,
   "metadata": {},
   "outputs": [],
   "source": [
    "#filename_goes_sst = 'F:/data/cruise_data/saildrone/baja-2018/other_format_shared_data/goes_sst_collocation_data.npy'\n",
    "#gsst = np.load(filename_goes_sst)    \n",
    "filename_goes_sst = 'F:/data/cruise_data/saildrone/baja-2018/other_format_shared_data/goes_sst_collocation_data.nc'\n",
    "ds_goes = xr.open_dataset(filename_goes_sst)\n",
    "gsst=ds_goes.goes_sst\n",
    "filename_loggers_out_nc='f:/data/cruise_data/saildrone/baja-2018/saildrone-gen_4-baja_2018-sd1002-20180411T180000-20180611T055959-1_minutes-v1_withloggers.nc'\n",
    "ds=xr.open_dataset(filename_loggers_out_nc)\n"
   ]
  },
  {
   "cell_type": "code",
   "execution_count": null,
   "metadata": {},
   "outputs": [],
   "source": []
  },
  {
   "cell_type": "code",
   "execution_count": 7,
   "metadata": {},
   "outputs": [],
   "source": [
    "skin=ds.TEMP_IR_UNCOR_MEAN[0,:].values\n",
    "tair=ds.TEMP_AIR_MEAN[0,:].values\n",
    "bulk1=ds.TEMP_CTD_MEAN[0,:].values\n",
    "bulk2=ds.TEMP_O2_MEAN[0,:].values\n",
    "uspd=ds.UWND_MEAN[0,:].values\n",
    "vspd=ds.VWND_MEAN[0,:].values\n",
    "wspd=(uspd**2+vspd**2)**.5\n",
    "tdim=len(wspd)\n",
    "#tem_date=[0]*tdim\n",
    "#day_of_year=[0]*tdim\n",
    "#tem_dy_from=[0]*tdim\n",
    "#print(ds.time.shape)\n",
    "#for i in range(0,tdim):\n",
    "#    tem_dy_from[i]=float(ds.time[0,i].values)/86400000000000.-float(ds.time[0,0].values)/86400000000000.\n",
    "#    tem2=(ds.time[0,i].values-np.datetime64('1970-01-01'))/np.timedelta64(1,'s')\n",
    "#    tem3=datetime.utcfromtimestamp(tem2)\n",
    "#    day_of_year[i] = tem3.timetuple().tm_yday\n",
    "#    tem_date[i] = tem3\n"
   ]
  },
  {
   "cell_type": "code",
   "execution_count": null,
   "metadata": {},
   "outputs": [
    {
     "name": "stdout",
     "output_type": "stream",
     "text": [
      "86839\n",
      "86839 86839\n",
      "1\n",
      "60 days, 11:57:00\n"
     ]
    }
   ],
   "source": [
    "\n",
    "adir_goes='F:/data/cruise_data/saildrone/baja-2018/figs/goes_collocations/'    \n",
    "#adir_goes='./figs/goes_collocations/'    \n",
    "\n",
    "print(len(tem_dy_from))\n",
    "print(len(skin-bulk1),tdim)\n",
    "print(len(gsst))\n",
    "mindy=min(tem_date)\n",
    "maxdy=max(tem_date)\n",
    "print(maxdy-mindy)\n",
    "intdy=(maxdy-mindy)/12.\n",
    "fig = plt.figure(figsize=(11.7,8.3))\n",
    "ax = plt.subplot(111)\n",
    "#fig, ax1 = plt.subplots() #figure(2,figsize=(11.7,8.3))\n",
    "#fig, ax1 = plt.subplots() \n",
    "#plt.show()\n",
    "tem_date=ds.time\n",
    "for i in range(0,12):\n",
    "    plt.scatter(tem_date,skin-bulk1,c='b', label='Skin - Bulk')\n",
    "    plt.scatter(tem_date,gsst-273.15-bulk1,c='r', label='GOES - Bulk')\n",
    "    plt.xlabel('Date')\n",
    "    plt.ylabel('GOES SST - T$_{ctd}$')\n",
    "    plt.ylim(-3, 2)\n",
    "    plt.xlim(mindy+i*intdy,mindy+(i+1)*intdy)\n",
    "    #plt.show()\n",
    "    #plt.set_axis_bgcolor(\"white\")\n",
    "    #plt.legend('Skin - Bulk','GOES - Bulk')\n",
    "    plt.legend()\n",
    "    fig_fname=adir_goes+'skinbulk_goes_TS' + str(i) +'.png'\n",
    "    print(fig_fname)\n",
    "    #plt.savefig(fig_fname, transparent=False, format='png')\n",
    "    plt.clf()\n"
   ]
  },
  {
   "cell_type": "code",
   "execution_count": null,
   "metadata": {},
   "outputs": [],
   "source": []
  }
 ],
 "metadata": {
  "kernelspec": {
   "display_name": "Python 3",
   "language": "python",
   "name": "python3"
  },
  "language_info": {
   "codemirror_mode": {
    "name": "ipython",
    "version": 3
   },
   "file_extension": ".py",
   "mimetype": "text/x-python",
   "name": "python",
   "nbconvert_exporter": "python",
   "pygments_lexer": "ipython3",
   "version": "3.7.0"
  }
 },
 "nbformat": 4,
 "nbformat_minor": 2
}
