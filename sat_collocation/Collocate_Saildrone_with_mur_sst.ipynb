{
 "cells": [
  {
   "cell_type": "markdown",
   "metadata": {},
   "source": [
    "# This is the Saildrone and MUR collocation code. \n"
   ]
  },
  {
   "cell_type": "code",
   "execution_count": 110,
   "metadata": {},
   "outputs": [],
   "source": [
    "import os\n",
    "import numpy as np\n",
    "import matplotlib.pyplot as plt\n",
    "import datetime as dt\n",
    "import xarray as xr\n",
    "\n",
    "def get_sat_filename(date):\n",
    "    dir_sat='F:/data/sst/jpl_mur/v4.1/'\n",
    "    syr, smon, sdym, sjdy = str(date.dt.year.data), str(date.dt.month.data).zfill(2), str(date.dt.day.data).zfill(2), str(date.dt.dayofyear.data).zfill(2)\n",
    "    sat_filename =dir_sat + syr + '/'+ sjdy + '/' + syr + smon + sdym + '090000-JPL-L4_GHRSST-SSTfnd-MUR-GLOB-v02.0-fv04.1.nc'\n",
    "    exists = os.path.isfile(sat_filename)\n",
    "    return sat_filename, exists\n"
   ]
  },
  {
   "cell_type": "markdown",
   "metadata": {},
   "source": [
    "# Read in USV data\n",
    "Read in the Saildrone USV file either from a local disc or using OpenDAP.\n",
    "\n",
    "There are 6 NaN values in the lat/lon data arrays, interpolate across these\n",
    "\n",
    "We want to collocate with wind vectors for this example,  but the wind vectors are only every 10 minutes rather than every minute, so use .dropna to remove all values in the dataset from all dataarrays when wind vectors aren't availalbe"
   ]
  },
  {
   "cell_type": "code",
   "execution_count": 116,
   "metadata": {},
   "outputs": [],
   "source": [
    "filename_collocation_data = 'F:/data/cruise_data/saildrone/baja-2018/ccmp_collocation_data.nc'\n",
    "#filename_usv = 'https://podaac-opendap.jpl.nasa.gov/opendap/hyrax/allData/insitu/L2/saildrone/Baja/saildrone-gen_4-baja_2018-sd1002-20180411T180000-20180611T055959-1_minutes-v1.nc'\n",
    "filename_usv='f:/data/cruise_data/saildrone/baja-2018/saildrone-gen_4-baja_2018-sd1002-20180411T180000-20180611T055959-1_minutes-v1.nc'\n",
    "ds_usv = xr.open_dataset(filename_usv)\n",
    "ds_usv.close()\n",
    "ds_usv = ds_usv.isel(trajectory=0).swap_dims({'obs':'time'}).rename({'longitude':'lon','latitude':'lat'})\n",
    "ds_usv = ds_usv.sel(time=slice('2018-04-11T18:30',ds_usv.time[-1].data))  #first part of data is when USV being towed, elminiate\n",
    "ds_usv['lon'] = ds_usv.lon.interpolate_na(dim='time',method='linear') #there are 6 nan values\n",
    "ds_usv['lat'] = ds_usv.lat.interpolate_na(dim='time',method='linear')\n",
    "ds_usv['wind_speed']=np.sqrt(ds_usv.UWND_MEAN**2+ds_usv.VWND_MEAN**2)\n",
    "ds_usv['wind_dir']=np.arctan2(ds_usv.VWND_MEAN,ds_usv.UWND_MEAN)*180/np.pi\n",
    "ds_usv_subset = ds_usv.copy(deep=True)\n",
    "#ds_usv_subset = ds_usv.dropna(dim='time',subset={'UWND_MEAN'})   #get rid of all the nan\n",
    "#print(ds_usv_subset.UWND_MEAN[2000:2010].values)"
   ]
  },
  {
   "cell_type": "markdown",
   "metadata": {},
   "source": [
    "In order to use open_mfdataset you need to either provide a path or a list of filenames to input\n",
    "\n",
    "Here we use the USV cruise start and end date to read in all data for that period"
   ]
  },
  {
   "cell_type": "code",
   "execution_count": 112,
   "metadata": {},
   "outputs": [
    {
     "name": "stdout",
     "output_type": "stream",
     "text": [
      "F:/data/sst/jpl_mur/v4.1/2018/101/20180411090000-JPL-L4_GHRSST-SSTfnd-MUR-GLOB-v02.0-fv04.1.nc\n"
     ]
    }
   ],
   "source": [
    "read_date,end_date = ds_usv_subset.time.min(),ds_usv_subset.time.max()\n",
    "filelist = []\n",
    "while read_date<=(end_date+np.timedelta64(1,'D')):\n",
    "    tem_filename,exists = get_sat_filename(read_date)\n",
    "    if exists:\n",
    "        filelist.append(tem_filename)\n",
    "    read_date=read_date+np.timedelta64(1,'D')\n",
    "print(filelist[0])"
   ]
  },
  {
   "cell_type": "markdown",
   "metadata": {},
   "source": [
    "# Read in MUR data\n",
    "Read in data using open_mfdataset with the option coords='minimal'\n",
    "\n",
    "The dataset is printed out and you can see that rather than straight xarray data array for each of the data variables open_mfdataset using dask arrays"
   ]
  },
  {
   "cell_type": "code",
   "execution_count": 113,
   "metadata": {
    "scrolled": true
   },
   "outputs": [
    {
     "data": {
      "text/plain": [
       "<xarray.Dataset>\n",
       "Dimensions:           (lat: 17999, lon: 36000, time: 62)\n",
       "Coordinates:\n",
       "  * lat               (lat) float32 -89.99 -89.98 -89.97 ... 89.97 89.98 89.99\n",
       "  * lon               (lon) float32 -179.99 -179.98 -179.97 ... 179.99 180.0\n",
       "  * time              (time) datetime64[ns] 2018-04-11T09:00:00 ... 2018-06-11T09:00:00\n",
       "Data variables:\n",
       "    analysed_sst      (time, lat, lon) float32 dask.array<shape=(62, 17999, 36000), chunksize=(1, 17999, 36000)>\n",
       "    analysis_error    (time, lat, lon) float32 dask.array<shape=(62, 17999, 36000), chunksize=(1, 17999, 36000)>\n",
       "    mask              (time, lat, lon) float32 dask.array<shape=(62, 17999, 36000), chunksize=(1, 17999, 36000)>\n",
       "    sea_ice_fraction  (time, lat, lon) float32 dask.array<shape=(62, 17999, 36000), chunksize=(1, 17999, 36000)>\n",
       "    dt_1km_data       (time, lat, lon) timedelta64[ns] dask.array<shape=(62, 17999, 36000), chunksize=(1, 17999, 36000)>\n",
       "Attributes:\n",
       "    Conventions:                CF-1.5\n",
       "    title:                      Daily MUR SST, Final product\n",
       "    summary:                    A merged, multi-sensor L4 Foundation SST anal...\n",
       "    references:                 http://podaac.jpl.nasa.gov/Multi-scale_Ultra-...\n",
       "    institution:                Jet Propulsion Laboratory\n",
       "    history:                    created at nominal 4-day latency; replaced nr...\n",
       "    comment:                    MUR = \"Multi-scale Ultra-high Reolution\"\n",
       "    license:                    These data are available free of charge under...\n",
       "    id:                         MUR-JPL-L4-GLOB-v04.1\n",
       "    naming_authority:           org.ghrsst\n",
       "    product_version:            04.1\n",
       "    uuid:                       27665bc0-d5fc-11e1-9b23-0800200c9a66\n",
       "    gds_version_id:             2.0\n",
       "    netcdf_version_id:          4.1\n",
       "    date_created:               20180519T013315Z\n",
       "    start_time:                 20180411T090000Z\n",
       "    stop_time:                  20180411T090000Z\n",
       "    time_coverage_start:        20180410T210000Z\n",
       "    time_coverage_end:          20180411T210000Z\n",
       "    file_quality_level:         1\n",
       "    source:                     MODIS_T-JPL, MODIS_A-JPL, AMSR2-REMSS, AVHRR1...\n",
       "    platform:                   Terra, Aqua, GCOM-W, NOAA-19, MetOp-A, Buoys/...\n",
       "    sensor:                     MODIS, AMSR2, AVHRR, in-situ\n",
       "    Metadata_Conventions:       Unidata Observation Dataset v1.0\n",
       "    metadata_link:              http://podaac.jpl.nasa.gov/ws/metadata/datase...\n",
       "    keywords:                   Oceans > Ocean Temperature > Sea Surface Temp...\n",
       "    keywords_vocabulary:        NASA Global Change Master Directory (GCMD) Sc...\n",
       "    standard_name_vocabulary:   NetCDF Climate and Forecast (CF) Metadata Con...\n",
       "    southernmost_latitude:      -90.0\n",
       "    northernmost_latitude:      90.0\n",
       "    westernmost_longitude:      -180.0\n",
       "    easternmost_longitude:      180.0\n",
       "    spatial_resolution:         0.01 degrees\n",
       "    geospatial_lat_units:       degrees north\n",
       "    geospatial_lat_resolution:  0.01 degrees\n",
       "    geospatial_lon_units:       degrees east\n",
       "    geospatial_lon_resolution:  0.01 degrees\n",
       "    acknowledgment:             Please acknowledge the use of these data with...\n",
       "    creator_name:               JPL MUR SST project\n",
       "    creator_email:              ghrsst@podaac.jpl.nasa.gov\n",
       "    creator_url:                http://mur.jpl.nasa.gov\n",
       "    project:                    NASA Making Earth Science Data Records for Us...\n",
       "    publisher_name:             GHRSST Project Office\n",
       "    publisher_url:              http://www.ghrsst.org\n",
       "    publisher_email:            ghrsst-po@nceo.ac.uk\n",
       "    processing_level:           L4\n",
       "    cdm_data_type:              grid"
      ]
     },
     "execution_count": 113,
     "metadata": {},
     "output_type": "execute_result"
    }
   ],
   "source": [
    "ds_sat = xr.open_mfdataset(filelist,coords='minimal')\n",
    "ds_sat"
   ]
  },
  {
   "cell_type": "markdown",
   "metadata": {},
   "source": [
    "# Xarray interpolation won't run on chunked dimensions.  \n",
    "1. First let's subset the data to make it smaller to deal with by using the cruise lat/lons\n",
    "\n",
    "1. Now load the data into memory (de-Dask-ify) it  \n"
   ]
  },
  {
   "cell_type": "code",
   "execution_count": 117,
   "metadata": {},
   "outputs": [],
   "source": [
    "#Step 1 from above\n",
    "subset = ds_sat.sel(lon=slice(ds_usv_subset.lon.min().data,ds_usv_subset.lon.max().data),\n",
    "                    lat=slice(ds_usv_subset.lat.min().data,ds_usv_subset.lat.max().data))\n",
    "#Step 2 from above\n",
    "subset.load()\n",
    "#now collocate with usv lat and lons\n",
    "ds_collocated = subset.interp(lat=ds_usv_subset.lat,lon=ds_usv_subset.lon,time=ds_usv_subset.time,method='linear')\n",
    "ds_collocated_nearest = subset.interp(lat=ds_usv_subset.lat,lon=ds_usv_subset.lon,time=ds_usv_subset.time,method='nearest')\n"
   ]
  },
  {
   "cell_type": "markdown",
   "metadata": {},
   "source": [
    "# A larger STD that isn't reflective of uncertainty in the observation\n",
    "The collocation above will result in multiple USV data points matched with a single satellite\n",
    "observation.    The USV is sampling every 1 min and approximately few meters, while the satellite\n",
    "is an average over a footprint that is interpolated onto a daily mean map.  While calculating the mean would results in a valid mean, the STD would be higher and consist of a component that reflects the uncertainty of the USV and the satellite and a component that reflects the natural variability in the region that is sampled by the USV\n",
    "\n",
    "Below we use the 'nearest' collocation results to identify when multiple USV data are collcated to\n",
    "a single satellite observation.\n",
    "This code goes through the data and creates averages of the USV data that match the single CCMP collocated value.\n"
   ]
  },
  {
   "cell_type": "code",
   "execution_count": 118,
   "metadata": {},
   "outputs": [
    {
     "data": {
      "text/plain": [
       "17583"
      ]
     },
     "execution_count": 118,
     "metadata": {},
     "output_type": "execute_result"
    }
   ],
   "source": [
    "ds_tem.dims['time']"
   ]
  },
  {
   "cell_type": "code",
   "execution_count": 108,
   "metadata": {},
   "outputs": [
    {
     "name": "stdout",
     "output_type": "stream",
     "text": [
      "[ True  True False False False]\n",
      "[286.109 286.109 286.11  286.11  286.047]\n",
      "[    nan     nan 286.11  286.11  286.047]\n"
     ]
    }
   ],
   "source": [
    "index=302\n",
    "ds_tem = ds_collocated_nearest.copy(deep=True)\n",
    "ds_tem_subset = ds_tem.analysed_sst[index:index+1000]\n",
    "cond = ((ds_tem_subset==ds_collocated_nearest.analysed_sst[index]))\n",
    "notcond = np.logical_not(cond)\n",
    "#cond = np.append(np.full(index,True),cond)\n",
    "#cond = np.append(cond,np.full(ilen-index-1000,True))\n",
    "#cond.shape\n",
    "print(cond[0:5].data)\n",
    "print(ds_tem.analysed_sst[index:index+5].data)\n",
    "ds_tem.analysed_sst[index:index+1000]=ds_tem.analysed_sst.where(notcond)\n",
    "print(ds_tem.analysed_sst[index:index+5].data)"
   ]
  },
  {
   "cell_type": "code",
   "execution_count": 75,
   "metadata": {},
   "outputs": [
    {
     "name": "stdout",
     "output_type": "stream",
     "text": [
      "[286.13498 286.14398 286.109   286.109   286.11    286.11    286.047\n",
      " 286.038   286.038   286.02798]\n",
      "[12 12 12 12 12 12 12 12 12 12]\n",
      "[False False False False False False False False False False]\n",
      "True\n"
     ]
    }
   ],
   "source": [
    "print(ds_collocated_nearest.analysed_sst[300:310].data)\n",
    "print(ds_collocated_nearest.time.dt.day[300:310].data)\n",
    "index=302\n",
    "ilen = ds_tem.dims['time']\n",
    "#cond = ((ds_tem.analysed_sst[index:index+1000]==ds_collocated_nearest.analysed_sst[index]) \n",
    "#            & (ds_tem.time.dt.day[index:index+1000]==ds_collocated_nearest.time.dt.day[index])\n",
    "#            & (ds_tem.time.dt.hour[index:index+1000]==ds_collocated_nearest.time.dt.hour[index]))\n",
    "cond = ((ds_tem.analysed_sst[index:index+1000]==ds_collocated_nearest.analysed_sst[index])) \n",
    "#cond = np.append(np.full(index,True),cond)\n",
    "#cond = np.append(cond,np.full(ilen-index-1000,True))\n",
    "print(cond[index:index+10].data)\n",
    "print(np.logical_not(cond[index+10]).data)\n",
    "masked_usv = ds_usv_subset.where(cond,drop=True)\n"
   ]
  },
  {
   "cell_type": "code",
   "execution_count": 109,
   "metadata": {},
   "outputs": [],
   "source": [
    "#ds_collocated_nearest\n",
    "#print(ds_collocated_nearest.uwnd[244:315].data)\n",
    "#print(masked_usv.UWND_MEAN[244:315].data)\n",
    "#print(masked_usv.UWND_MEAN[244:315].mean().data)\n",
    "#print(masked_usv.time.min().data)\n",
    "#print(masked_usv.time.max().data)\n",
    "#print(masked_usv.lon.min().data)\n",
    "#print(masked_usv.lon.max().data)\n",
    "#print(masked_usv.time[0].data,masked_usv.time[-1].data)"
   ]
  },
  {
   "cell_type": "code",
   "execution_count": null,
   "metadata": {
    "scrolled": true
   },
   "outputs": [
    {
     "name": "stdout",
     "output_type": "stream",
     "text": [
      "23 86809\n",
      "25 86809\n",
      "31 86809\n",
      "34 86809\n",
      "38 86809\n",
      "46 86809\n",
      "56 86809\n",
      "60 86809\n",
      "67 86809\n",
      "72 86809\n",
      "82 86809\n",
      "83 86809\n",
      "92 86809\n",
      "100 86809\n",
      "113 86809\n",
      "115 86809\n",
      "123 86809\n",
      "132 86809\n",
      "140 86809\n",
      "141 86809\n",
      "149 86809\n",
      "151 86809\n",
      "160 86809\n",
      "171 86809\n",
      "183 86809\n",
      "215 86809\n",
      "216 86809\n",
      "244 86809\n",
      "250 86809\n",
      "255 86809\n",
      "266 86809\n",
      "276 86809\n",
      "292 86809\n",
      "298 86809\n",
      "302 86809\n",
      "312 86809\n",
      "321 86809\n",
      "330 86809\n",
      "338 86809\n",
      "347 86809\n",
      "351 86809\n",
      "355 86809\n",
      "364 86809\n"
     ]
    },
    {
     "name": "stderr",
     "output_type": "stream",
     "text": [
      "C:\\Users\\gentemann\\Miniconda3\\lib\\site-packages\\xarray\\core\\nanops.py:161: RuntimeWarning: Mean of empty slice\n",
      "  return np.nanmean(a, axis=axis, dtype=dtype)\n"
     ]
    },
    {
     "name": "stdout",
     "output_type": "stream",
     "text": [
      "374 86809\n",
      "380 86809\n",
      "388 86809\n",
      "397 86809\n",
      "405 86809\n",
      "413 86809\n",
      "424 86809\n",
      "435 86809\n",
      "446 86809\n",
      "447 86809\n",
      "457 86809\n",
      "459 86809\n"
     ]
    },
    {
     "name": "stderr",
     "output_type": "stream",
     "text": [
      "C:\\Users\\gentemann\\Miniconda3\\lib\\site-packages\\xarray\\core\\nanops.py:161: RuntimeWarning: Mean of empty slice\n",
      "  return np.nanmean(a, axis=axis, dtype=dtype)\n",
      "C:\\Users\\gentemann\\Miniconda3\\lib\\site-packages\\xarray\\core\\nanops.py:161: RuntimeWarning: Mean of empty slice\n",
      "  return np.nanmean(a, axis=axis, dtype=dtype)\n"
     ]
    },
    {
     "name": "stdout",
     "output_type": "stream",
     "text": [
      "467 86809\n",
      "472 86809\n",
      "478 86809\n",
      "486 86809\n",
      "489 86809\n"
     ]
    },
    {
     "name": "stderr",
     "output_type": "stream",
     "text": [
      "C:\\Users\\gentemann\\Miniconda3\\lib\\site-packages\\xarray\\core\\nanops.py:161: RuntimeWarning: Mean of empty slice\n",
      "  return np.nanmean(a, axis=axis, dtype=dtype)\n"
     ]
    },
    {
     "name": "stdout",
     "output_type": "stream",
     "text": [
      "500 86809\n",
      "501 86809\n",
      "511 86809\n",
      "517 86809\n",
      "522 86809\n",
      "534 86809\n",
      "546 86809\n",
      "554 86809\n",
      "560 86809\n",
      "572 86809\n",
      "574 86809\n"
     ]
    },
    {
     "name": "stderr",
     "output_type": "stream",
     "text": [
      "C:\\Users\\gentemann\\Miniconda3\\lib\\site-packages\\xarray\\core\\nanops.py:161: RuntimeWarning: Mean of empty slice\n",
      "  return np.nanmean(a, axis=axis, dtype=dtype)\n",
      "C:\\Users\\gentemann\\Miniconda3\\lib\\site-packages\\xarray\\core\\nanops.py:161: RuntimeWarning: Mean of empty slice\n",
      "  return np.nanmean(a, axis=axis, dtype=dtype)\n"
     ]
    },
    {
     "name": "stdout",
     "output_type": "stream",
     "text": [
      "583 86809\n",
      "592 86809\n",
      "594 86809\n",
      "608 86809\n",
      "611 86809\n",
      "623 86809\n",
      "636 86809\n",
      "639 86809\n",
      "647 86809\n",
      "655 86809\n",
      "661 86809\n"
     ]
    },
    {
     "name": "stderr",
     "output_type": "stream",
     "text": [
      "C:\\Users\\gentemann\\Miniconda3\\lib\\site-packages\\xarray\\core\\nanops.py:161: RuntimeWarning: Mean of empty slice\n",
      "  return np.nanmean(a, axis=axis, dtype=dtype)\n"
     ]
    },
    {
     "name": "stdout",
     "output_type": "stream",
     "text": [
      "668 86809\n",
      "677 86809\n",
      "684 86809\n",
      "691 86809\n",
      "702 86809\n",
      "708 86809\n",
      "720 86809\n",
      "725 86809\n",
      "730 86809\n",
      "740 86809\n",
      "750 86809\n",
      "756 86809\n",
      "769 86809\n",
      "781 86809\n",
      "787 86809\n",
      "796 86809\n",
      "804 86809\n",
      "810 86809\n",
      "812 86809\n",
      "820 86809\n",
      "828 86809\n",
      "836 86809\n",
      "845 86809\n",
      "846 86809\n",
      "855 86809\n",
      "864 86809\n",
      "872 86809\n",
      "882 86809\n",
      "898 86809\n",
      "901 86809\n",
      "910 86809\n",
      "915 86809\n",
      "924 86809\n",
      "934 86809\n",
      "943 86809\n",
      "944 86809\n"
     ]
    },
    {
     "name": "stderr",
     "output_type": "stream",
     "text": [
      "C:\\Users\\gentemann\\Miniconda3\\lib\\site-packages\\xarray\\core\\nanops.py:161: RuntimeWarning: Mean of empty slice\n",
      "  return np.nanmean(a, axis=axis, dtype=dtype)\n",
      "C:\\Users\\gentemann\\Miniconda3\\lib\\site-packages\\xarray\\core\\nanops.py:161: RuntimeWarning: Mean of empty slice\n",
      "  return np.nanmean(a, axis=axis, dtype=dtype)\n"
     ]
    },
    {
     "name": "stdout",
     "output_type": "stream",
     "text": [
      "952 86809\n",
      "957 86809\n",
      "973 86809\n",
      "974 86809\n",
      "984 86809\n",
      "995 86809\n",
      "996 86809\n",
      "1009 86809\n",
      "1020 86809\n",
      "1032 86809\n",
      "1044 86809\n"
     ]
    },
    {
     "name": "stderr",
     "output_type": "stream",
     "text": [
      "C:\\Users\\gentemann\\Miniconda3\\lib\\site-packages\\xarray\\core\\nanops.py:161: RuntimeWarning: Mean of empty slice\n",
      "  return np.nanmean(a, axis=axis, dtype=dtype)\n"
     ]
    },
    {
     "name": "stdout",
     "output_type": "stream",
     "text": [
      "1055 86809\n",
      "1065 86809\n",
      "1075 86809\n",
      "1087 86809\n",
      "1098 86809\n",
      "1099 86809\n"
     ]
    },
    {
     "name": "stderr",
     "output_type": "stream",
     "text": [
      "C:\\Users\\gentemann\\Miniconda3\\lib\\site-packages\\xarray\\core\\nanops.py:161: RuntimeWarning: Mean of empty slice\n",
      "  return np.nanmean(a, axis=axis, dtype=dtype)\n",
      "C:\\Users\\gentemann\\Miniconda3\\lib\\site-packages\\xarray\\core\\nanops.py:161: RuntimeWarning: Mean of empty slice\n",
      "  return np.nanmean(a, axis=axis, dtype=dtype)\n"
     ]
    },
    {
     "name": "stdout",
     "output_type": "stream",
     "text": [
      "1119 86809\n",
      "1123 86809\n",
      "1136 86809\n",
      "1151 86809\n",
      "1155 86809\n",
      "1167 86809\n",
      "1179 86809\n",
      "1189 86809\n",
      "1198 86809\n",
      "1208 86809\n",
      "1217 86809\n",
      "1227 86809\n",
      "1236 86809\n",
      "1246 86809\n",
      "1257 86809\n",
      "1267 86809\n",
      "1278 86809\n",
      "1293 86809\n",
      "1298 86809\n",
      "1308 86809\n",
      "1319 86809\n",
      "1330 86809\n",
      "1339 86809\n",
      "1341 86809\n",
      "1351 86809\n",
      "1361 86809\n",
      "1371 86809\n",
      "1393 86809\n",
      "1396 86809\n",
      "1404 86809\n",
      "1414 86809\n",
      "1434 86809\n",
      "1444 86809\n",
      "1454 86809\n",
      "1455 86809\n"
     ]
    },
    {
     "name": "stderr",
     "output_type": "stream",
     "text": [
      "C:\\Users\\gentemann\\Miniconda3\\lib\\site-packages\\xarray\\core\\nanops.py:161: RuntimeWarning: Mean of empty slice\n",
      "  return np.nanmean(a, axis=axis, dtype=dtype)\n"
     ]
    },
    {
     "name": "stdout",
     "output_type": "stream",
     "text": [
      "1464 86809\n",
      "1473 86809\n",
      "1482 86809\n",
      "1492 86809\n",
      "1502 86809\n",
      "1512 86809\n",
      "1520 86809\n",
      "1530 86809\n",
      "1539 86809\n",
      "1562 86809\n",
      "1573 86809\n",
      "1586 86809\n",
      "1591 86809\n",
      "1602 86809\n",
      "1611 86809\n",
      "1619 86809\n",
      "1628 86809\n",
      "1632 86809\n",
      "1633 86809\n",
      "1648 86809\n",
      "1650 86809\n",
      "1667 86809\n",
      "1674 86809\n",
      "2181 86809\n",
      "2199 86809\n",
      "2213 86809\n",
      "2221 86809\n",
      "2230 86809\n",
      "2232 86809\n",
      "2238 86809\n",
      "2246 86809\n",
      "2247 86809\n",
      "2258 86809\n",
      "2261 86809\n",
      "2266 86809\n"
     ]
    },
    {
     "name": "stderr",
     "output_type": "stream",
     "text": [
      "C:\\Users\\gentemann\\Miniconda3\\lib\\site-packages\\xarray\\core\\nanops.py:161: RuntimeWarning: Mean of empty slice\n",
      "  return np.nanmean(a, axis=axis, dtype=dtype)\n"
     ]
    },
    {
     "name": "stdout",
     "output_type": "stream",
     "text": [
      "2274 86809\n",
      "2283 86809\n",
      "2293 86809\n",
      "2301 86809\n",
      "2306 86809\n",
      "2310 86809\n",
      "2318 86809\n"
     ]
    },
    {
     "name": "stderr",
     "output_type": "stream",
     "text": [
      "C:\\Users\\gentemann\\Miniconda3\\lib\\site-packages\\xarray\\core\\nanops.py:161: RuntimeWarning: Mean of empty slice\n",
      "  return np.nanmean(a, axis=axis, dtype=dtype)\n",
      "C:\\Users\\gentemann\\Miniconda3\\lib\\site-packages\\xarray\\core\\nanops.py:161: RuntimeWarning: Mean of empty slice\n",
      "  return np.nanmean(a, axis=axis, dtype=dtype)\n"
     ]
    },
    {
     "name": "stdout",
     "output_type": "stream",
     "text": [
      "2320 86809\n",
      "2330 86809\n",
      "2341 86809\n",
      "2362 86809\n",
      "2364 86809\n"
     ]
    },
    {
     "name": "stderr",
     "output_type": "stream",
     "text": [
      "C:\\Users\\gentemann\\Miniconda3\\lib\\site-packages\\xarray\\core\\nanops.py:161: RuntimeWarning: Mean of empty slice\n",
      "  return np.nanmean(a, axis=axis, dtype=dtype)\n"
     ]
    },
    {
     "name": "stdout",
     "output_type": "stream",
     "text": [
      "2374 86809\n",
      "2375 86809\n",
      "2384 86809\n",
      "2408 86809\n",
      "2412 86809\n",
      "2420 86809\n",
      "2431 86809\n",
      "2435 86809\n",
      "2445 86809\n",
      "2455 86809\n"
     ]
    },
    {
     "name": "stderr",
     "output_type": "stream",
     "text": [
      "C:\\Users\\gentemann\\Miniconda3\\lib\\site-packages\\xarray\\core\\nanops.py:161: RuntimeWarning: Mean of empty slice\n",
      "  return np.nanmean(a, axis=axis, dtype=dtype)\n",
      "C:\\Users\\gentemann\\Miniconda3\\lib\\site-packages\\xarray\\core\\nanops.py:161: RuntimeWarning: Mean of empty slice\n",
      "  return np.nanmean(a, axis=axis, dtype=dtype)\n"
     ]
    },
    {
     "name": "stdout",
     "output_type": "stream",
     "text": [
      "2457 86809\n",
      "2466 86809\n",
      "2479 86809\n",
      "2480 86809\n",
      "2492 86809\n",
      "2493 86809\n"
     ]
    },
    {
     "name": "stderr",
     "output_type": "stream",
     "text": [
      "C:\\Users\\gentemann\\Miniconda3\\lib\\site-packages\\xarray\\core\\nanops.py:161: RuntimeWarning: Mean of empty slice\n",
      "  return np.nanmean(a, axis=axis, dtype=dtype)\n",
      "C:\\Users\\gentemann\\Miniconda3\\lib\\site-packages\\xarray\\core\\nanops.py:161: RuntimeWarning: Mean of empty slice\n",
      "  return np.nanmean(a, axis=axis, dtype=dtype)\n",
      "C:\\Users\\gentemann\\Miniconda3\\lib\\site-packages\\xarray\\core\\nanops.py:161: RuntimeWarning: Mean of empty slice\n",
      "  return np.nanmean(a, axis=axis, dtype=dtype)\n"
     ]
    },
    {
     "name": "stdout",
     "output_type": "stream",
     "text": [
      "2506 86809\n",
      "2507 86809\n",
      "2519 86809\n",
      "2526 86809\n",
      "2530 86809\n",
      "2542 86809\n",
      "2544 86809\n"
     ]
    },
    {
     "name": "stderr",
     "output_type": "stream",
     "text": [
      "C:\\Users\\gentemann\\Miniconda3\\lib\\site-packages\\xarray\\core\\nanops.py:161: RuntimeWarning: Mean of empty slice\n",
      "  return np.nanmean(a, axis=axis, dtype=dtype)\n",
      "C:\\Users\\gentemann\\Miniconda3\\lib\\site-packages\\xarray\\core\\nanops.py:161: RuntimeWarning: Mean of empty slice\n",
      "  return np.nanmean(a, axis=axis, dtype=dtype)\n"
     ]
    },
    {
     "name": "stdout",
     "output_type": "stream",
     "text": [
      "2554 86809\n",
      "2563 86809\n",
      "2566 86809\n",
      "2579 86809\n",
      "2580 86809\n",
      "2594 86809\n",
      "2595 86809\n"
     ]
    },
    {
     "name": "stderr",
     "output_type": "stream",
     "text": [
      "C:\\Users\\gentemann\\Miniconda3\\lib\\site-packages\\xarray\\core\\nanops.py:161: RuntimeWarning: Mean of empty slice\n",
      "  return np.nanmean(a, axis=axis, dtype=dtype)\n",
      "C:\\Users\\gentemann\\Miniconda3\\lib\\site-packages\\xarray\\core\\nanops.py:161: RuntimeWarning: Mean of empty slice\n",
      "  return np.nanmean(a, axis=axis, dtype=dtype)\n"
     ]
    },
    {
     "name": "stdout",
     "output_type": "stream",
     "text": [
      "2608 86809\n",
      "2609 86809\n",
      "2621 86809\n",
      "2632 86809\n",
      "2643 86809\n",
      "2644 86809\n",
      "2658 86809\n",
      "2661 86809\n",
      "2672 86809\n"
     ]
    },
    {
     "name": "stderr",
     "output_type": "stream",
     "text": [
      "C:\\Users\\gentemann\\Miniconda3\\lib\\site-packages\\xarray\\core\\nanops.py:161: RuntimeWarning: Mean of empty slice\n",
      "  return np.nanmean(a, axis=axis, dtype=dtype)\n"
     ]
    },
    {
     "name": "stdout",
     "output_type": "stream",
     "text": [
      "2675 86809\n",
      "2686 86809\n",
      "2691 86809\n",
      "2703 86809\n",
      "2711 86809\n",
      "2721 86809\n",
      "2724 86809\n",
      "2736 86809\n",
      "2751 86809\n",
      "2765 86809\n"
     ]
    },
    {
     "name": "stderr",
     "output_type": "stream",
     "text": [
      "C:\\Users\\gentemann\\Miniconda3\\lib\\site-packages\\xarray\\core\\nanops.py:161: RuntimeWarning: Mean of empty slice\n",
      "  return np.nanmean(a, axis=axis, dtype=dtype)\n"
     ]
    },
    {
     "name": "stdout",
     "output_type": "stream",
     "text": [
      "2766 86809\n",
      "2779 86809\n",
      "2791 86809\n",
      "2792 86809\n",
      "2802"
     ]
    },
    {
     "name": "stderr",
     "output_type": "stream",
     "text": [
      "C:\\Users\\gentemann\\Miniconda3\\lib\\site-packages\\xarray\\core\\nanops.py:161: RuntimeWarning: Mean of empty slice\n",
      "  return np.nanmean(a, axis=axis, dtype=dtype)\n"
     ]
    },
    {
     "name": "stdout",
     "output_type": "stream",
     "text": [
      " 86809\n",
      "2806 86809\n",
      "2812 86809\n",
      "2821 86809\n",
      "2829 86809\n",
      "2835 86809\n",
      "2843 86809\n",
      "2851 86809\n",
      "2859 86809\n",
      "2867 86809\n",
      "2875 86809\n",
      "2883 86809\n",
      "2886 86809\n",
      "2893 86809\n",
      "2896 86809\n",
      "2900 86809\n",
      "2906 86809\n",
      "2911 86809\n",
      "2913 86809\n",
      "2919 86809\n"
     ]
    },
    {
     "name": "stderr",
     "output_type": "stream",
     "text": [
      "C:\\Users\\gentemann\\Miniconda3\\lib\\site-packages\\xarray\\core\\nanops.py:161: RuntimeWarning: Mean of empty slice\n",
      "  return np.nanmean(a, axis=axis, dtype=dtype)\n",
      "C:\\Users\\gentemann\\Miniconda3\\lib\\site-packages\\xarray\\core\\nanops.py:161: RuntimeWarning: Mean of empty slice\n",
      "  return np.nanmean(a, axis=axis, dtype=dtype)\n"
     ]
    },
    {
     "name": "stdout",
     "output_type": "stream",
     "text": [
      "2926 86809\n",
      "2932 86809\n",
      "2936 86809\n",
      "2937 86809\n",
      "2942 86809\n",
      "2949 86809\n",
      "2955 86809\n"
     ]
    },
    {
     "name": "stderr",
     "output_type": "stream",
     "text": [
      "C:\\Users\\gentemann\\Miniconda3\\lib\\site-packages\\xarray\\core\\nanops.py:161: RuntimeWarning: Mean of empty slice\n",
      "  return np.nanmean(a, axis=axis, dtype=dtype)\n"
     ]
    },
    {
     "name": "stdout",
     "output_type": "stream",
     "text": [
      "2961 86809\n",
      "2968 86809\n",
      "2973 86809\n",
      "2974 86809\n",
      "2981 86809\n",
      "2987 86809\n",
      "2993 86809\n",
      "2994 86809\n",
      "3000 86809\n"
     ]
    },
    {
     "name": "stderr",
     "output_type": "stream",
     "text": [
      "C:\\Users\\gentemann\\Miniconda3\\lib\\site-packages\\xarray\\core\\nanops.py:161: RuntimeWarning: Mean of empty slice\n",
      "  return np.nanmean(a, axis=axis, dtype=dtype)\n",
      "C:\\Users\\gentemann\\Miniconda3\\lib\\site-packages\\xarray\\core\\nanops.py:161: RuntimeWarning: Mean of empty slice\n",
      "  return np.nanmean(a, axis=axis, dtype=dtype)\n"
     ]
    },
    {
     "name": "stdout",
     "output_type": "stream",
     "text": [
      "3007 86809\n",
      "3010 86809\n",
      "3013 86809\n",
      "3020 86809\n",
      "3026 86809\n",
      "3028 86809\n",
      "3031 86809\n",
      "3034 86809\n",
      "3035 86809\n",
      "3036 86809\n",
      "3049 86809\n"
     ]
    },
    {
     "name": "stderr",
     "output_type": "stream",
     "text": [
      "C:\\Users\\gentemann\\Miniconda3\\lib\\site-packages\\xarray\\core\\nanops.py:161: RuntimeWarning: Mean of empty slice\n",
      "  return np.nanmean(a, axis=axis, dtype=dtype)\n"
     ]
    },
    {
     "name": "stdout",
     "output_type": "stream",
     "text": [
      "3051 86809\n",
      "3058 86809\n",
      "3067 86809\n",
      "3075 86809\n",
      "3084 86809\n",
      "3094 86809\n",
      "3102 86809\n"
     ]
    },
    {
     "name": "stderr",
     "output_type": "stream",
     "text": [
      "C:\\Users\\gentemann\\Miniconda3\\lib\\site-packages\\xarray\\core\\nanops.py:161: RuntimeWarning: Mean of empty slice\n",
      "  return np.nanmean(a, axis=axis, dtype=dtype)\n",
      "C:\\Users\\gentemann\\Miniconda3\\lib\\site-packages\\xarray\\core\\nanops.py:161: RuntimeWarning: Mean of empty slice\n",
      "  return np.nanmean(a, axis=axis, dtype=dtype)\n"
     ]
    },
    {
     "name": "stdout",
     "output_type": "stream",
     "text": [
      "3110 86809\n",
      "3111 86809\n",
      "3120 86809\n",
      "3126 86809\n",
      "3129 86809\n",
      "3143 86809\n",
      "3156 86809\n"
     ]
    },
    {
     "name": "stderr",
     "output_type": "stream",
     "text": [
      "C:\\Users\\gentemann\\Miniconda3\\lib\\site-packages\\xarray\\core\\nanops.py:161: RuntimeWarning: Mean of empty slice\n",
      "  return np.nanmean(a, axis=axis, dtype=dtype)\n",
      "C:\\Users\\gentemann\\Miniconda3\\lib\\site-packages\\xarray\\core\\nanops.py:161: RuntimeWarning: Mean of empty slice\n",
      "  return np.nanmean(a, axis=axis, dtype=dtype)\n"
     ]
    },
    {
     "name": "stdout",
     "output_type": "stream",
     "text": [
      "3178 86809\n",
      "3188 86809\n",
      "3197 86809\n",
      "3198 86809\n",
      "3206 86809\n",
      "3216 86809\n"
     ]
    },
    {
     "name": "stderr",
     "output_type": "stream",
     "text": [
      "C:\\Users\\gentemann\\Miniconda3\\lib\\site-packages\\xarray\\core\\nanops.py:161: RuntimeWarning: Mean of empty slice\n",
      "  return np.nanmean(a, axis=axis, dtype=dtype)\n"
     ]
    },
    {
     "name": "stdout",
     "output_type": "stream",
     "text": [
      "3220 86809\n",
      "3225 86809\n",
      "3233 86809\n",
      "3241 86809\n",
      "3249 86809\n",
      "3256 86809\n",
      "3263 86809\n",
      "3270 86809\n",
      "3277 86809\n",
      "3301 86809\n",
      "3309 86809\n",
      "3317 86809\n",
      "3325 86809\n",
      "3337 86809\n",
      "3340 86809\n",
      "3350 86809\n",
      "3352 86809\n",
      "3362 86809\n",
      "3371 86809\n",
      "3378 86809\n",
      "3386 86809\n",
      "3393 86809\n",
      "3411 86809\n",
      "3417 86809\n",
      "3430 86809\n",
      "3435 86809\n",
      "3447 86809\n",
      "4049 86809\n",
      "4058 86809\n",
      "4068 86809\n",
      "4076 86809\n",
      "4084 86809\n",
      "4092 86809\n",
      "4100 86809\n",
      "4107 86809\n",
      "4114 86809\n",
      "4122 86809\n",
      "4129 86809\n",
      "4137 86809\n",
      "4145 86809\n",
      "4156 86809\n",
      "4160 86809\n",
      "4168 86809\n",
      "4181 86809\n"
     ]
    },
    {
     "name": "stderr",
     "output_type": "stream",
     "text": [
      "C:\\Users\\gentemann\\Miniconda3\\lib\\site-packages\\xarray\\core\\nanops.py:161: RuntimeWarning: Mean of empty slice\n",
      "  return np.nanmean(a, axis=axis, dtype=dtype)\n"
     ]
    },
    {
     "name": "stdout",
     "output_type": "stream",
     "text": [
      "4198 86809\n",
      "4215 86809\n",
      "4233 86809\n",
      "4247 86809\n",
      "4249 86809\n"
     ]
    },
    {
     "name": "stderr",
     "output_type": "stream",
     "text": [
      "C:\\Users\\gentemann\\Miniconda3\\lib\\site-packages\\xarray\\core\\nanops.py:161: RuntimeWarning: Mean of empty slice\n",
      "  return np.nanmean(a, axis=axis, dtype=dtype)\n"
     ]
    },
    {
     "name": "stdout",
     "output_type": "stream",
     "text": [
      "4259 86809\n",
      "4273 86809\n",
      "4288 86809\n",
      "4303 86809\n",
      "4330 86809\n",
      "4341 86809\n",
      "4349 86809\n",
      "4352 86809\n",
      "4366 86809\n",
      "4369 86809\n",
      "4374 86809\n",
      "4382 86809\n",
      "4390 86809\n"
     ]
    },
    {
     "name": "stderr",
     "output_type": "stream",
     "text": [
      "C:\\Users\\gentemann\\Miniconda3\\lib\\site-packages\\xarray\\core\\nanops.py:161: RuntimeWarning: Mean of empty slice\n",
      "  return np.nanmean(a, axis=axis, dtype=dtype)\n"
     ]
    },
    {
     "name": "stdout",
     "output_type": "stream",
     "text": [
      "4399 86809\n",
      "4406 86809\n",
      "4415 86809\n",
      "4427 86809\n",
      "4439 86809\n",
      "4450 86809\n",
      "4462 86809\n",
      "4474 86809\n",
      "4486 86809\n",
      "4501 86809\n",
      "4510 86809\n",
      "4512 86809\n",
      "4518 86809\n",
      "4527 86809\n",
      "4535 86809\n",
      "4542 86809\n",
      "4551 86809\n",
      "4562 86809\n",
      "4563 86809\n",
      "4572 86809\n"
     ]
    },
    {
     "name": "stderr",
     "output_type": "stream",
     "text": [
      "C:\\Users\\gentemann\\Miniconda3\\lib\\site-packages\\xarray\\core\\nanops.py:161: RuntimeWarning: Mean of empty slice\n",
      "  return np.nanmean(a, axis=axis, dtype=dtype)\n",
      "C:\\Users\\gentemann\\Miniconda3\\lib\\site-packages\\xarray\\core\\nanops.py:161: RuntimeWarning: Mean of empty slice\n",
      "  return np.nanmean(a, axis=axis, dtype=dtype)\n"
     ]
    },
    {
     "name": "stdout",
     "output_type": "stream",
     "text": [
      "4583 86809\n",
      "4593 86809\n",
      "4602 86809\n",
      "4612 86809\n",
      "4615 86809\n",
      "4620 86809\n",
      "4629 86809\n",
      "4638 86809\n",
      "4641 86809\n",
      "4651 86809\n",
      "4652 86809\n",
      "4658 86809\n",
      "4664 86809\n",
      "4671 86809\n",
      "4678 86809\n",
      "4679 86809\n",
      "4691 86809\n"
     ]
    },
    {
     "name": "stderr",
     "output_type": "stream",
     "text": [
      "C:\\Users\\gentemann\\Miniconda3\\lib\\site-packages\\xarray\\core\\nanops.py:161: RuntimeWarning: Mean of empty slice\n",
      "  return np.nanmean(a, axis=axis, dtype=dtype)\n",
      "C:\\Users\\gentemann\\Miniconda3\\lib\\site-packages\\xarray\\core\\nanops.py:161: RuntimeWarning: Mean of empty slice\n",
      "  return np.nanmean(a, axis=axis, dtype=dtype)\n"
     ]
    },
    {
     "name": "stdout",
     "output_type": "stream",
     "text": [
      "4697 86809\n",
      "4705 86809\n",
      "4713 86809\n",
      "4715 86809\n",
      "4722 86809\n",
      "4730 86809\n"
     ]
    },
    {
     "name": "stderr",
     "output_type": "stream",
     "text": [
      "C:\\Users\\gentemann\\Miniconda3\\lib\\site-packages\\xarray\\core\\nanops.py:161: RuntimeWarning: Mean of empty slice\n",
      "  return np.nanmean(a, axis=axis, dtype=dtype)\n"
     ]
    },
    {
     "name": "stdout",
     "output_type": "stream",
     "text": [
      "4738 86809\n",
      "4744 86809\n",
      "4746 86809\n",
      "4754 86809\n",
      "4762 86809\n",
      "4768 86809\n",
      "4776 86809\n",
      "4779 86809\n",
      "4783 86809\n",
      "4791 86809\n",
      "4799 86809\n",
      "4800 86809\n",
      "4807 86809\n",
      "4815 86809\n"
     ]
    },
    {
     "name": "stderr",
     "output_type": "stream",
     "text": [
      "C:\\Users\\gentemann\\Miniconda3\\lib\\site-packages\\xarray\\core\\nanops.py:161: RuntimeWarning: Mean of empty slice\n",
      "  return np.nanmean(a, axis=axis, dtype=dtype)\n",
      "C:\\Users\\gentemann\\Miniconda3\\lib\\site-packages\\xarray\\core\\nanops.py:161: RuntimeWarning: Mean of empty slice\n",
      "  return np.nanmean(a, axis=axis, dtype=dtype)\n"
     ]
    },
    {
     "name": "stdout",
     "output_type": "stream",
     "text": [
      "4818 86809\n",
      "4823 86809\n",
      "4833 86809\n",
      "4834 86809\n",
      "4841 86809\n",
      "4849 86809\n",
      "4857 86809\n"
     ]
    },
    {
     "name": "stderr",
     "output_type": "stream",
     "text": [
      "C:\\Users\\gentemann\\Miniconda3\\lib\\site-packages\\xarray\\core\\nanops.py:161: RuntimeWarning: Mean of empty slice\n",
      "  return np.nanmean(a, axis=axis, dtype=dtype)\n"
     ]
    },
    {
     "name": "stdout",
     "output_type": "stream",
     "text": [
      "4864 86809\n",
      "4872 86809\n",
      "4874 86809\n",
      "4881 86809\n",
      "4889 86809\n",
      "4899 86809\n"
     ]
    },
    {
     "name": "stderr",
     "output_type": "stream",
     "text": [
      "C:\\Users\\gentemann\\Miniconda3\\lib\\site-packages\\xarray\\core\\nanops.py:161: RuntimeWarning: Mean of empty slice\n",
      "  return np.nanmean(a, axis=axis, dtype=dtype)\n",
      "C:\\Users\\gentemann\\Miniconda3\\lib\\site-packages\\xarray\\core\\nanops.py:161: RuntimeWarning: Mean of empty slice\n",
      "  return np.nanmean(a, axis=axis, dtype=dtype)\n"
     ]
    },
    {
     "name": "stdout",
     "output_type": "stream",
     "text": [
      "4907 86809\n",
      "4908 86809\n",
      "4917 86809\n",
      "4927 86809\n",
      "4929 86809\n",
      "4937 86809\n",
      "4947 86809\n",
      "4948 86809\n",
      "4958 86809\n",
      "4970 86809\n",
      "4985 86809\n",
      "4997 86809\n"
     ]
    },
    {
     "name": "stderr",
     "output_type": "stream",
     "text": [
      "C:\\Users\\gentemann\\Miniconda3\\lib\\site-packages\\xarray\\core\\nanops.py:161: RuntimeWarning: Mean of empty slice\n",
      "  return np.nanmean(a, axis=axis, dtype=dtype)\n"
     ]
    },
    {
     "name": "stdout",
     "output_type": "stream",
     "text": [
      "5007 86809\n",
      "5018 86809\n",
      "5031 86809\n",
      "5045 86809\n",
      "5058 86809\n",
      "5070 86809\n",
      "5092 86809\n",
      "5106 86809\n",
      "5125 86809\n",
      "5146 86809\n",
      "5169 86809\n",
      "5171 86809\n",
      "5200 86809\n",
      "5227 86809\n",
      "5243 86809\n",
      "5257 86809\n",
      "5272 86809\n",
      "5301 86809\n",
      "5303 86809\n",
      "5317 86809\n"
     ]
    },
    {
     "name": "stderr",
     "output_type": "stream",
     "text": [
      "C:\\Users\\gentemann\\Miniconda3\\lib\\site-packages\\xarray\\core\\nanops.py:161: RuntimeWarning: Mean of empty slice\n",
      "  return np.nanmean(a, axis=axis, dtype=dtype)\n"
     ]
    },
    {
     "name": "stdout",
     "output_type": "stream",
     "text": [
      "5333 86809\n",
      "5348 86809\n",
      "5360 86809\n",
      "5396 86809\n",
      "5403 86809\n",
      "5486 86809\n",
      "5533 86809\n",
      "5542 86809\n",
      "5553 86809\n",
      "5562 86809\n",
      "5574 86809\n",
      "5603 86809\n",
      "5635 86809\n",
      "5911 86809\n",
      "5969 86809\n",
      "6028 86809\n",
      "6035 86809\n",
      "6051 86809\n",
      "6077 86809\n",
      "6091 86809\n"
     ]
    },
    {
     "name": "stderr",
     "output_type": "stream",
     "text": [
      "C:\\Users\\gentemann\\Miniconda3\\lib\\site-packages\\xarray\\core\\nanops.py:161: RuntimeWarning: Mean of empty slice\n",
      "  return np.nanmean(a, axis=axis, dtype=dtype)\n",
      "C:\\Users\\gentemann\\Miniconda3\\lib\\site-packages\\xarray\\core\\nanops.py:161: RuntimeWarning: Mean of empty slice\n",
      "  return np.nanmean(a, axis=axis, dtype=dtype)\n"
     ]
    },
    {
     "name": "stdout",
     "output_type": "stream",
     "text": [
      "6095 86809\n",
      "6105 86809\n",
      "6113 86809\n",
      "6118 86809\n",
      "6133 86809\n",
      "6134 86809\n",
      "6147 86809\n",
      "6154 86809\n",
      "6160 86809\n",
      "6170 86809\n",
      "6172 86809\n",
      "6185 86809\n",
      "6189 86809\n",
      "6198 86809\n",
      "6208 86809\n",
      "6212 86809\n",
      "6224 86809\n"
     ]
    },
    {
     "name": "stderr",
     "output_type": "stream",
     "text": [
      "C:\\Users\\gentemann\\Miniconda3\\lib\\site-packages\\xarray\\core\\nanops.py:161: RuntimeWarning: Mean of empty slice\n",
      "  return np.nanmean(a, axis=axis, dtype=dtype)\n",
      "C:\\Users\\gentemann\\Miniconda3\\lib\\site-packages\\xarray\\core\\nanops.py:161: RuntimeWarning: Mean of empty slice\n",
      "  return np.nanmean(a, axis=axis, dtype=dtype)\n"
     ]
    },
    {
     "name": "stdout",
     "output_type": "stream",
     "text": [
      "6225 86809\n",
      "6235 86809\n",
      "6241 86809\n",
      "6246 86809\n",
      "6256 86809\n",
      "6257 86809\n",
      "6269 86809\n",
      "6272 86809\n",
      "6280 86809\n",
      "6288 86809\n",
      "6292 86809\n",
      "6305 86809\n",
      "6307 86809\n",
      "6320 86809\n",
      "6328 86809\n",
      "6335 86809\n",
      "6351 86809\n",
      "6370 86809\n",
      "6377 86809\n",
      "6388 86809\n",
      "6404 86809\n",
      "6408 86809\n",
      "6429 86809\n",
      "6434 86809\n",
      "6448 86809\n",
      "6455 86809\n",
      "6459 86809\n",
      "6469 86809\n",
      "6470 86809\n",
      "6479 86809\n",
      "6485 86809\n",
      "6491 86809\n",
      "6504 86809\n",
      "6514 86809\n",
      "6517 86809\n",
      "6523 86809\n",
      "6531 86809\n",
      "6533 86809\n",
      "6545 86809\n",
      "6548 86809\n",
      "6557 86809\n"
     ]
    },
    {
     "name": "stderr",
     "output_type": "stream",
     "text": [
      "C:\\Users\\gentemann\\Miniconda3\\lib\\site-packages\\xarray\\core\\nanops.py:161: RuntimeWarning: Mean of empty slice\n",
      "  return np.nanmean(a, axis=axis, dtype=dtype)\n"
     ]
    },
    {
     "name": "stdout",
     "output_type": "stream",
     "text": [
      "6564 86809\n",
      "6567 86809\n",
      "6577 86809\n",
      "6579 86809\n",
      "6588 86809\n",
      "6595 86809\n",
      "6601 86809\n"
     ]
    },
    {
     "name": "stderr",
     "output_type": "stream",
     "text": [
      "C:\\Users\\gentemann\\Miniconda3\\lib\\site-packages\\xarray\\core\\nanops.py:161: RuntimeWarning: Mean of empty slice\n",
      "  return np.nanmean(a, axis=axis, dtype=dtype)\n"
     ]
    },
    {
     "name": "stdout",
     "output_type": "stream",
     "text": [
      "6614 86809\n",
      "6628 86809\n",
      "6634 86809\n",
      "6642 86809\n",
      "6650 86809\n",
      "6652 86809\n",
      "6667 86809\n",
      "6683 86809\n",
      "6694 86809\n",
      "6697 86809\n",
      "6710 86809\n",
      "6712 86809\n",
      "6723 86809\n",
      "6729 86809\n",
      "6735 86809\n",
      "6746 86809\n",
      "6747 86809\n",
      "6759 86809\n"
     ]
    },
    {
     "name": "stderr",
     "output_type": "stream",
     "text": [
      "C:\\Users\\gentemann\\Miniconda3\\lib\\site-packages\\xarray\\core\\nanops.py:161: RuntimeWarning: Mean of empty slice\n",
      "  return np.nanmean(a, axis=axis, dtype=dtype)\n"
     ]
    },
    {
     "name": "stdout",
     "output_type": "stream",
     "text": [
      "6762 86809\n",
      "6778 86809\n",
      "6782 86809\n",
      "6795 86809\n",
      "6809 86809\n",
      "6813 86809\n",
      "6833 86809\n",
      "6838 86809\n",
      "6852 86809\n",
      "6870 86809\n",
      "6877 86809\n"
     ]
    },
    {
     "name": "stderr",
     "output_type": "stream",
     "text": [
      "C:\\Users\\gentemann\\Miniconda3\\lib\\site-packages\\xarray\\core\\nanops.py:161: RuntimeWarning: Mean of empty slice\n",
      "  return np.nanmean(a, axis=axis, dtype=dtype)\n",
      "C:\\Users\\gentemann\\Miniconda3\\lib\\site-packages\\xarray\\core\\nanops.py:161: RuntimeWarning: Mean of empty slice\n",
      "  return np.nanmean(a, axis=axis, dtype=dtype)\n"
     ]
    },
    {
     "name": "stdout",
     "output_type": "stream",
     "text": [
      "6884 86809\n",
      "6891 86809\n",
      "6894 86809\n",
      "6910 86809\n",
      "6912 86809\n",
      "6930 86809\n",
      "6939 86809\n",
      "6945 86809\n",
      "6953 86809\n",
      "6956 86809\n",
      "6968 86809\n",
      "6969 86809\n",
      "6980 86809\n"
     ]
    },
    {
     "name": "stderr",
     "output_type": "stream",
     "text": [
      "C:\\Users\\gentemann\\Miniconda3\\lib\\site-packages\\xarray\\core\\nanops.py:161: RuntimeWarning: Mean of empty slice\n",
      "  return np.nanmean(a, axis=axis, dtype=dtype)\n",
      "C:\\Users\\gentemann\\Miniconda3\\lib\\site-packages\\xarray\\core\\nanops.py:161: RuntimeWarning: Mean of empty slice\n",
      "  return np.nanmean(a, axis=axis, dtype=dtype)\n"
     ]
    },
    {
     "name": "stdout",
     "output_type": "stream",
     "text": [
      "6985 86809\n",
      "6992 86809\n",
      "7001 86809\n",
      "7004 86809\n",
      "7015 86809\n",
      "7016 86809\n",
      "7026 86809\n"
     ]
    },
    {
     "name": "stderr",
     "output_type": "stream",
     "text": [
      "C:\\Users\\gentemann\\Miniconda3\\lib\\site-packages\\xarray\\core\\nanops.py:161: RuntimeWarning: Mean of empty slice\n",
      "  return np.nanmean(a, axis=axis, dtype=dtype)\n"
     ]
    },
    {
     "name": "stdout",
     "output_type": "stream",
     "text": [
      "7030 86809\n",
      "7037 86809\n",
      "7045 86809\n",
      "7049 86809\n",
      "7060 86809\n",
      "7072 86809\n",
      "7076 86809\n",
      "7084 86809\n",
      "7092 86809\n",
      "7096 86809\n",
      "7109 86809\n",
      "7110 86809\n"
     ]
    },
    {
     "name": "stderr",
     "output_type": "stream",
     "text": [
      "C:\\Users\\gentemann\\Miniconda3\\lib\\site-packages\\xarray\\core\\nanops.py:161: RuntimeWarning: Mean of empty slice\n",
      "  return np.nanmean(a, axis=axis, dtype=dtype)\n"
     ]
    },
    {
     "name": "stdout",
     "output_type": "stream",
     "text": [
      "7122 86809\n",
      "7126 86809\n",
      "7138 86809\n",
      "7149 86809\n",
      "7158 86809\n",
      "7174 86809\n",
      "7176 86809\n",
      "7190 86809\n",
      "7205 86809\n",
      "7212 86809\n",
      "7221 86809\n",
      "7245 86809\n"
     ]
    },
    {
     "name": "stderr",
     "output_type": "stream",
     "text": [
      "C:\\Users\\gentemann\\Miniconda3\\lib\\site-packages\\xarray\\core\\nanops.py:161: RuntimeWarning: Mean of empty slice\n",
      "  return np.nanmean(a, axis=axis, dtype=dtype)\n"
     ]
    },
    {
     "name": "stdout",
     "output_type": "stream",
     "text": [
      "7249 86809\n",
      "7256 86809\n",
      "7268 86809\n",
      "7275 86809\n",
      "7290 86809\n",
      "7306 86809\n",
      "7311 86809\n",
      "7320 86809\n",
      "7329 86809\n",
      "7333 86809\n",
      "7346 86809\n",
      "7351 86809\n",
      "7357 86809\n",
      "7368 86809\n",
      "7371 86809\n",
      "7378 86809\n",
      "7388 86809\n",
      "7392 86809\n",
      "7398 86809\n",
      "7408 86809\n",
      "7413 86809\n",
      "7417 86809\n",
      "7427 86809\n",
      "7436 86809\n",
      "7445 86809\n",
      "7455 86809\n",
      "7464 86809\n",
      "7473 86809\n"
     ]
    },
    {
     "name": "stderr",
     "output_type": "stream",
     "text": [
      "C:\\Users\\gentemann\\Miniconda3\\lib\\site-packages\\xarray\\core\\nanops.py:161: RuntimeWarning: Mean of empty slice\n",
      "  return np.nanmean(a, axis=axis, dtype=dtype)\n"
     ]
    },
    {
     "name": "stdout",
     "output_type": "stream",
     "text": [
      "7474 86809\n",
      "7482 86809\n",
      "7491 86809\n",
      "7505 86809\n",
      "7509 86809\n",
      "7518 86809\n",
      "7524 86809\n",
      "7526 86809\n",
      "7536 86809\n",
      "7544 86809\n",
      "7545 86809\n",
      "7555 86809\n",
      "7565 86809\n"
     ]
    },
    {
     "name": "stderr",
     "output_type": "stream",
     "text": [
      "C:\\Users\\gentemann\\Miniconda3\\lib\\site-packages\\xarray\\core\\nanops.py:161: RuntimeWarning: Mean of empty slice\n",
      "  return np.nanmean(a, axis=axis, dtype=dtype)\n"
     ]
    },
    {
     "name": "stdout",
     "output_type": "stream",
     "text": [
      "7575 86809\n",
      "7583 86809\n",
      "7592 86809\n",
      "7600 86809\n",
      "7609 86809\n",
      "7617 86809\n"
     ]
    },
    {
     "name": "stderr",
     "output_type": "stream",
     "text": [
      "C:\\Users\\gentemann\\Miniconda3\\lib\\site-packages\\xarray\\core\\nanops.py:161: RuntimeWarning: Mean of empty slice\n",
      "  return np.nanmean(a, axis=axis, dtype=dtype)\n"
     ]
    },
    {
     "name": "stdout",
     "output_type": "stream",
     "text": [
      "7620 86809\n",
      "7626 86809\n",
      "7645 86809\n",
      "7671 86809\n",
      "7680 86809\n",
      "7690 86809\n",
      "7699 86809\n",
      "7709 86809\n",
      "7712 86809\n",
      "7721 86809\n",
      "7729 86809\n",
      "7737 86809\n",
      "7740 86809\n",
      "7746 86809\n",
      "7754 86809\n",
      "7762 86809\n",
      "7769 86809\n"
     ]
    },
    {
     "name": "stderr",
     "output_type": "stream",
     "text": [
      "C:\\Users\\gentemann\\Miniconda3\\lib\\site-packages\\xarray\\core\\nanops.py:161: RuntimeWarning: Mean of empty slice\n",
      "  return np.nanmean(a, axis=axis, dtype=dtype)\n"
     ]
    },
    {
     "name": "stdout",
     "output_type": "stream",
     "text": [
      "7777 86809\n",
      "7795 86809\n",
      "7796 86809\n",
      "7803 86809\n",
      "7812 86809\n",
      "7822 86809\n",
      "7831 86809\n",
      "7841 86809\n",
      "7845 86809\n",
      "7850 86809\n",
      "7860 86809\n",
      "7870 86809\n"
     ]
    },
    {
     "name": "stderr",
     "output_type": "stream",
     "text": [
      "C:\\Users\\gentemann\\Miniconda3\\lib\\site-packages\\xarray\\core\\nanops.py:161: RuntimeWarning: Mean of empty slice\n",
      "  return np.nanmean(a, axis=axis, dtype=dtype)\n"
     ]
    },
    {
     "name": "stdout",
     "output_type": "stream",
     "text": [
      "7880 86809\n",
      "7882 86809\n",
      "7889 86809\n",
      "7901 86809\n",
      "7911 86809\n",
      "7912 86809\n",
      "7919 86809\n"
     ]
    },
    {
     "name": "stderr",
     "output_type": "stream",
     "text": [
      "C:\\Users\\gentemann\\Miniconda3\\lib\\site-packages\\xarray\\core\\nanops.py:161: RuntimeWarning: Mean of empty slice\n",
      "  return np.nanmean(a, axis=axis, dtype=dtype)\n"
     ]
    },
    {
     "name": "stdout",
     "output_type": "stream",
     "text": [
      "7940 86809\n",
      "7945 86809\n",
      "7951 86809\n",
      "7961 86809\n",
      "7972 86809\n",
      "7975 86809\n"
     ]
    },
    {
     "name": "stderr",
     "output_type": "stream",
     "text": [
      "C:\\Users\\gentemann\\Miniconda3\\lib\\site-packages\\xarray\\core\\nanops.py:161: RuntimeWarning: Mean of empty slice\n",
      "  return np.nanmean(a, axis=axis, dtype=dtype)\n",
      "C:\\Users\\gentemann\\Miniconda3\\lib\\site-packages\\xarray\\core\\nanops.py:161: RuntimeWarning: Mean of empty slice\n",
      "  return np.nanmean(a, axis=axis, dtype=dtype)\n"
     ]
    },
    {
     "name": "stdout",
     "output_type": "stream",
     "text": [
      "7982 86809\n",
      "8000 86809\n",
      "8004 86809\n",
      "8020 86809\n",
      "8027 86809\n",
      "8030 86809\n",
      "8040 86809\n",
      "8047 86809\n",
      "8050 86809\n",
      "8061 86809\n",
      "8066 86809\n",
      "8073 86809\n"
     ]
    },
    {
     "name": "stderr",
     "output_type": "stream",
     "text": [
      "C:\\Users\\gentemann\\Miniconda3\\lib\\site-packages\\xarray\\core\\nanops.py:161: RuntimeWarning: Mean of empty slice\n",
      "  return np.nanmean(a, axis=axis, dtype=dtype)\n"
     ]
    },
    {
     "name": "stdout",
     "output_type": "stream",
     "text": [
      "8084 86809\n",
      "8085 86809\n",
      "8097 86809\n",
      "8104 86809\n",
      "8108 86809\n",
      "8119 86809\n",
      "8130 86809\n",
      "8139 86809\n",
      "8158 86809\n",
      "8165 86809\n",
      "8176 86809\n",
      "8179 86809\n",
      "8186 86809\n",
      "8197 86809\n",
      "8198 86809\n",
      "8208 86809\n",
      "8218 86809\n",
      "8229 86809\n",
      "8238 86809\n"
     ]
    },
    {
     "name": "stderr",
     "output_type": "stream",
     "text": [
      "C:\\Users\\gentemann\\Miniconda3\\lib\\site-packages\\xarray\\core\\nanops.py:161: RuntimeWarning: Mean of empty slice\n",
      "  return np.nanmean(a, axis=axis, dtype=dtype)\n",
      "C:\\Users\\gentemann\\Miniconda3\\lib\\site-packages\\xarray\\core\\nanops.py:161: RuntimeWarning: Mean of empty slice\n",
      "  return np.nanmean(a, axis=axis, dtype=dtype)\n",
      "C:\\Users\\gentemann\\Miniconda3\\lib\\site-packages\\xarray\\core\\nanops.py:161: RuntimeWarning: Mean of empty slice\n",
      "  return np.nanmean(a, axis=axis, dtype=dtype)\n"
     ]
    },
    {
     "name": "stdout",
     "output_type": "stream",
     "text": [
      "8240 86809\n",
      "8250 86809\n",
      "8258 86809\n",
      "8260 86809\n",
      "8270 86809\n",
      "8274 86809\n"
     ]
    },
    {
     "name": "stderr",
     "output_type": "stream",
     "text": [
      "C:\\Users\\gentemann\\Miniconda3\\lib\\site-packages\\xarray\\core\\nanops.py:161: RuntimeWarning: Mean of empty slice\n",
      "  return np.nanmean(a, axis=axis, dtype=dtype)\n"
     ]
    },
    {
     "name": "stdout",
     "output_type": "stream",
     "text": [
      "8279 86809\n",
      "8288 86809\n",
      "8292 86809\n",
      "8297 86809\n",
      "8307 86809\n",
      "8315 86809\n",
      "8321 86809\n",
      "8334 86809\n",
      "8335 86809\n",
      "8344 86809\n",
      "8350 86809\n",
      "8353 86809\n"
     ]
    },
    {
     "name": "stderr",
     "output_type": "stream",
     "text": [
      "C:\\Users\\gentemann\\Miniconda3\\lib\\site-packages\\xarray\\core\\nanops.py:161: RuntimeWarning: Mean of empty slice\n",
      "  return np.nanmean(a, axis=axis, dtype=dtype)\n",
      "C:\\Users\\gentemann\\Miniconda3\\lib\\site-packages\\xarray\\core\\nanops.py:161: RuntimeWarning: Mean of empty slice\n",
      "  return np.nanmean(a, axis=axis, dtype=dtype)\n"
     ]
    },
    {
     "name": "stdout",
     "output_type": "stream",
     "text": [
      "8363 86809\n",
      "8365 86809\n",
      "8372 86809\n",
      "8379 86809\n",
      "8382 86809\n",
      "8391 86809\n",
      "8393 86809\n",
      "8400 86809\n"
     ]
    },
    {
     "name": "stderr",
     "output_type": "stream",
     "text": [
      "C:\\Users\\gentemann\\Miniconda3\\lib\\site-packages\\xarray\\core\\nanops.py:161: RuntimeWarning: Mean of empty slice\n",
      "  return np.nanmean(a, axis=axis, dtype=dtype)\n",
      "C:\\Users\\gentemann\\Miniconda3\\lib\\site-packages\\xarray\\core\\nanops.py:161: RuntimeWarning: Mean of empty slice\n",
      "  return np.nanmean(a, axis=axis, dtype=dtype)\n"
     ]
    },
    {
     "name": "stdout",
     "output_type": "stream",
     "text": [
      "8409 86809\n",
      "8410 86809\n",
      "8421 86809\n",
      "8443 86809\n",
      "8454 86809\n",
      "8461 86809\n"
     ]
    },
    {
     "name": "stderr",
     "output_type": "stream",
     "text": [
      "C:\\Users\\gentemann\\Miniconda3\\lib\\site-packages\\xarray\\core\\nanops.py:161: RuntimeWarning: Mean of empty slice\n",
      "  return np.nanmean(a, axis=axis, dtype=dtype)\n"
     ]
    },
    {
     "name": "stdout",
     "output_type": "stream",
     "text": [
      "8466 86809\n",
      "8477 86809\n",
      "8488 86809\n",
      "8496 86809\n"
     ]
    },
    {
     "name": "stderr",
     "output_type": "stream",
     "text": [
      "C:\\Users\\gentemann\\Miniconda3\\lib\\site-packages\\xarray\\core\\nanops.py:161: RuntimeWarning: Mean of empty slice\n",
      "  return np.nanmean(a, axis=axis, dtype=dtype)\n",
      "C:\\Users\\gentemann\\Miniconda3\\lib\\site-packages\\xarray\\core\\nanops.py:161: RuntimeWarning: Mean of empty slice\n",
      "  return np.nanmean(a, axis=axis, dtype=dtype)\n"
     ]
    },
    {
     "name": "stdout",
     "output_type": "stream",
     "text": [
      "8499 86809\n",
      "8509 86809\n",
      "8514 86809\n",
      "8520 86809\n",
      "8529 86809\n"
     ]
    },
    {
     "name": "stderr",
     "output_type": "stream",
     "text": [
      "C:\\Users\\gentemann\\Miniconda3\\lib\\site-packages\\xarray\\core\\nanops.py:161: RuntimeWarning: Mean of empty slice\n",
      "  return np.nanmean(a, axis=axis, dtype=dtype)\n",
      "C:\\Users\\gentemann\\Miniconda3\\lib\\site-packages\\xarray\\core\\nanops.py:161: RuntimeWarning: Mean of empty slice\n",
      "  return np.nanmean(a, axis=axis, dtype=dtype)\n"
     ]
    },
    {
     "name": "stdout",
     "output_type": "stream",
     "text": [
      "8530 86809\n",
      "8539 86809\n",
      "8547 86809\n",
      "8549 86809\n",
      "8568 86809\n",
      "8577 86809\n"
     ]
    },
    {
     "name": "stderr",
     "output_type": "stream",
     "text": [
      "C:\\Users\\gentemann\\Miniconda3\\lib\\site-packages\\xarray\\core\\nanops.py:161: RuntimeWarning: Mean of empty slice\n",
      "  return np.nanmean(a, axis=axis, dtype=dtype)\n",
      "C:\\Users\\gentemann\\Miniconda3\\lib\\site-packages\\xarray\\core\\nanops.py:161: RuntimeWarning: Mean of empty slice\n",
      "  return np.nanmean(a, axis=axis, dtype=dtype)\n"
     ]
    },
    {
     "name": "stdout",
     "output_type": "stream",
     "text": [
      "8578 86809\n",
      "8587 86809\n",
      "8592 86809\n",
      "8595 86809\n",
      "8604 86809\n",
      "8606 86809\n",
      "8613 86809\n",
      "8621 86809\n",
      "8625 86809\n",
      "8629 86809\n",
      "8637 86809\n",
      "8640 86809\n",
      "8644 86809\n"
     ]
    },
    {
     "name": "stderr",
     "output_type": "stream",
     "text": [
      "C:\\Users\\gentemann\\Miniconda3\\lib\\site-packages\\xarray\\core\\nanops.py:161: RuntimeWarning: Mean of empty slice\n",
      "  return np.nanmean(a, axis=axis, dtype=dtype)\n",
      "C:\\Users\\gentemann\\Miniconda3\\lib\\site-packages\\xarray\\core\\nanops.py:161: RuntimeWarning: Mean of empty slice\n",
      "  return np.nanmean(a, axis=axis, dtype=dtype)\n",
      "C:\\Users\\gentemann\\Miniconda3\\lib\\site-packages\\xarray\\core\\nanops.py:161: RuntimeWarning: Mean of empty slice\n",
      "  return np.nanmean(a, axis=axis, dtype=dtype)\n"
     ]
    },
    {
     "name": "stdout",
     "output_type": "stream",
     "text": [
      "8651 86809\n",
      "8658 86809\n",
      "8659 86809\n",
      "8667 86809\n",
      "8674 86809\n",
      "8683 86809\n",
      "8690 86809\n"
     ]
    },
    {
     "name": "stderr",
     "output_type": "stream",
     "text": [
      "C:\\Users\\gentemann\\Miniconda3\\lib\\site-packages\\xarray\\core\\nanops.py:161: RuntimeWarning: Mean of empty slice\n",
      "  return np.nanmean(a, axis=axis, dtype=dtype)\n"
     ]
    },
    {
     "name": "stdout",
     "output_type": "stream",
     "text": [
      "8691 86809\n",
      "8698 86809\n",
      "8705 86809\n",
      "8719 86809\n",
      "8725 86809\n",
      "8732 86809\n",
      "8733 86809\n",
      "8739 86809\n",
      "8746 86809\n",
      "8748 86809\n"
     ]
    },
    {
     "name": "stderr",
     "output_type": "stream",
     "text": [
      "C:\\Users\\gentemann\\Miniconda3\\lib\\site-packages\\xarray\\core\\nanops.py:161: RuntimeWarning: Mean of empty slice\n",
      "  return np.nanmean(a, axis=axis, dtype=dtype)\n",
      "C:\\Users\\gentemann\\Miniconda3\\lib\\site-packages\\xarray\\core\\nanops.py:161: RuntimeWarning: Mean of empty slice\n",
      "  return np.nanmean(a, axis=axis, dtype=dtype)\n"
     ]
    },
    {
     "name": "stdout",
     "output_type": "stream",
     "text": [
      "8752 86809\n",
      "8762 86809\n",
      "8766 86809\n",
      "8779 86809\n",
      "8781 86809\n",
      "8785 86809\n"
     ]
    },
    {
     "name": "stderr",
     "output_type": "stream",
     "text": [
      "C:\\Users\\gentemann\\Miniconda3\\lib\\site-packages\\xarray\\core\\nanops.py:161: RuntimeWarning: Mean of empty slice\n",
      "  return np.nanmean(a, axis=axis, dtype=dtype)\n",
      "C:\\Users\\gentemann\\Miniconda3\\lib\\site-packages\\xarray\\core\\nanops.py:161: RuntimeWarning: Mean of empty slice\n",
      "  return np.nanmean(a, axis=axis, dtype=dtype)\n"
     ]
    },
    {
     "name": "stdout",
     "output_type": "stream",
     "text": [
      "8791 86809\n",
      "8792 86809\n",
      "8798 86809\n",
      "8802 86809\n",
      "8811 86809\n",
      "8820 86809\n",
      "8823 86809\n",
      "8830 86809\n",
      "8836 86809\n",
      "8837 86809\n",
      "8843 86809\n",
      "8849 86809\n",
      "8855 86809\n"
     ]
    },
    {
     "name": "stderr",
     "output_type": "stream",
     "text": [
      "C:\\Users\\gentemann\\Miniconda3\\lib\\site-packages\\xarray\\core\\nanops.py:161: RuntimeWarning: Mean of empty slice\n",
      "  return np.nanmean(a, axis=axis, dtype=dtype)\n"
     ]
    },
    {
     "name": "stdout",
     "output_type": "stream",
     "text": [
      "8856 86809\n",
      "8862 86809\n",
      "8868 86809\n",
      "8874 86809\n",
      "8875 86809\n",
      "8887 86809\n"
     ]
    },
    {
     "name": "stderr",
     "output_type": "stream",
     "text": [
      "C:\\Users\\gentemann\\Miniconda3\\lib\\site-packages\\xarray\\core\\nanops.py:161: RuntimeWarning: Mean of empty slice\n",
      "  return np.nanmean(a, axis=axis, dtype=dtype)\n"
     ]
    },
    {
     "name": "stdout",
     "output_type": "stream",
     "text": [
      "8896 86809\n",
      "8904 86809\n",
      "8919 86809\n",
      "8926 86809\n",
      "8932 86809\n",
      "8938 86809\n",
      "8943 86809\n",
      "8944 86809\n",
      "8950 86809\n",
      "8957 86809\n",
      "8960 86809\n",
      "8963 86809\n",
      "8969 86809\n",
      "8975 86809\n"
     ]
    },
    {
     "name": "stderr",
     "output_type": "stream",
     "text": [
      "C:\\Users\\gentemann\\Miniconda3\\lib\\site-packages\\xarray\\core\\nanops.py:161: RuntimeWarning: Mean of empty slice\n",
      "  return np.nanmean(a, axis=axis, dtype=dtype)\n",
      "C:\\Users\\gentemann\\Miniconda3\\lib\\site-packages\\xarray\\core\\nanops.py:161: RuntimeWarning: Mean of empty slice\n",
      "  return np.nanmean(a, axis=axis, dtype=dtype)\n"
     ]
    },
    {
     "name": "stdout",
     "output_type": "stream",
     "text": [
      "8977 86809\n",
      "8981 86809\n",
      "8987 86809\n",
      "8992 86809\n",
      "8994 86809\n",
      "8998 86809\n"
     ]
    },
    {
     "name": "stderr",
     "output_type": "stream",
     "text": [
      "C:\\Users\\gentemann\\Miniconda3\\lib\\site-packages\\xarray\\core\\nanops.py:161: RuntimeWarning: Mean of empty slice\n",
      "  return np.nanmean(a, axis=axis, dtype=dtype)\n"
     ]
    },
    {
     "name": "stdout",
     "output_type": "stream",
     "text": [
      "9005 86809\n",
      "9012 86809\n",
      "9017 86809\n",
      "9028 86809\n",
      "9030 86809\n",
      "9036 86809\n"
     ]
    },
    {
     "name": "stderr",
     "output_type": "stream",
     "text": [
      "C:\\Users\\gentemann\\Miniconda3\\lib\\site-packages\\xarray\\core\\nanops.py:161: RuntimeWarning: Mean of empty slice\n",
      "  return np.nanmean(a, axis=axis, dtype=dtype)\n"
     ]
    },
    {
     "name": "stdout",
     "output_type": "stream",
     "text": [
      "9043 86809\n",
      "9048 86809\n",
      "9055 86809\n",
      "9057 86809\n",
      "9062 86809\n",
      "9067 86809\n",
      "9075 86809\n",
      "9082 86809\n",
      "9089 86809\n",
      "9090 86809\n",
      "9096 86809\n",
      "9103 86809\n",
      "9104 86809\n",
      "9119 86809\n"
     ]
    },
    {
     "name": "stderr",
     "output_type": "stream",
     "text": [
      "C:\\Users\\gentemann\\Miniconda3\\lib\\site-packages\\xarray\\core\\nanops.py:161: RuntimeWarning: Mean of empty slice\n",
      "  return np.nanmean(a, axis=axis, dtype=dtype)\n",
      "C:\\Users\\gentemann\\Miniconda3\\lib\\site-packages\\xarray\\core\\nanops.py:161: RuntimeWarning: Mean of empty slice\n",
      "  return np.nanmean(a, axis=axis, dtype=dtype)\n"
     ]
    },
    {
     "name": "stdout",
     "output_type": "stream",
     "text": [
      "9126 86809\n",
      "9133 86809\n",
      "9138 86809\n",
      "9140 86809\n",
      "9147 86809\n"
     ]
    },
    {
     "name": "stderr",
     "output_type": "stream",
     "text": [
      "C:\\Users\\gentemann\\Miniconda3\\lib\\site-packages\\xarray\\core\\nanops.py:161: RuntimeWarning: Mean of empty slice\n",
      "  return np.nanmean(a, axis=axis, dtype=dtype)\n"
     ]
    },
    {
     "name": "stdout",
     "output_type": "stream",
     "text": [
      "9155 86809\n",
      "9157 86809\n",
      "9163 86809\n",
      "9173 86809\n",
      "9181 86809\n",
      "9189 86809\n",
      "9197 86809\n",
      "9205 86809\n",
      "9213 86809\n",
      "9217 86809\n",
      "9221 86809\n",
      "9228 86809\n",
      "9236 86809\n",
      "9243 86809\n",
      "9250 86809\n",
      "9257 86809\n",
      "9264 86809\n",
      "9272 86809\n",
      "9276 86809\n",
      "9280 86809\n",
      "9289 86809\n",
      "9296 86809\n",
      "9298 86809\n",
      "9306 86809\n"
     ]
    },
    {
     "name": "stderr",
     "output_type": "stream",
     "text": [
      "C:\\Users\\gentemann\\Miniconda3\\lib\\site-packages\\xarray\\core\\nanops.py:161: RuntimeWarning: Mean of empty slice\n",
      "  return np.nanmean(a, axis=axis, dtype=dtype)\n",
      "C:\\Users\\gentemann\\Miniconda3\\lib\\site-packages\\xarray\\core\\nanops.py:161: RuntimeWarning: Mean of empty slice\n",
      "  return np.nanmean(a, axis=axis, dtype=dtype)\n"
     ]
    },
    {
     "name": "stdout",
     "output_type": "stream",
     "text": [
      "9315 86809\n",
      "9316 86809\n",
      "9323 86809\n",
      "9331 86809\n",
      "9337 86809\n",
      "9340 86809\n"
     ]
    },
    {
     "name": "stderr",
     "output_type": "stream",
     "text": [
      "C:\\Users\\gentemann\\Miniconda3\\lib\\site-packages\\xarray\\core\\nanops.py:161: RuntimeWarning: Mean of empty slice\n",
      "  return np.nanmean(a, axis=axis, dtype=dtype)\n",
      "C:\\Users\\gentemann\\Miniconda3\\lib\\site-packages\\xarray\\core\\nanops.py:161: RuntimeWarning: Mean of empty slice\n",
      "  return np.nanmean(a, axis=axis, dtype=dtype)\n"
     ]
    },
    {
     "name": "stdout",
     "output_type": "stream",
     "text": [
      "9348 86809\n",
      "9360 86809\n",
      "9365 86809\n",
      "9374 86809\n",
      "9381 86809\n",
      "9383 86809\n",
      "9392 86809\n",
      "9401 86809\n",
      "9402 86809\n",
      "9420 86809\n",
      "9423 86809\n",
      "9430 86809\n",
      "9441 86809\n"
     ]
    },
    {
     "name": "stderr",
     "output_type": "stream",
     "text": [
      "C:\\Users\\gentemann\\Miniconda3\\lib\\site-packages\\xarray\\core\\nanops.py:161: RuntimeWarning: Mean of empty slice\n",
      "  return np.nanmean(a, axis=axis, dtype=dtype)\n"
     ]
    },
    {
     "name": "stdout",
     "output_type": "stream",
     "text": [
      "9447 86809\n",
      "9451 86809\n",
      "9462 86809\n",
      "9473 86809\n",
      "9484 86809\n",
      "9495 86809\n",
      "9501 86809\n",
      "9506 86809\n",
      "9517 86809\n",
      "9528 86809\n",
      "9532 86809\n",
      "9539 86809\n",
      "9551 86809\n",
      "9563 86809\n",
      "9574 86809\n",
      "9586 86809\n",
      "9596 86809\n",
      "9597 86809\n",
      "9608 86809\n",
      "9629 86809\n",
      "9649 86809\n"
     ]
    },
    {
     "name": "stderr",
     "output_type": "stream",
     "text": [
      "C:\\Users\\gentemann\\Miniconda3\\lib\\site-packages\\xarray\\core\\nanops.py:161: RuntimeWarning: Mean of empty slice\n",
      "  return np.nanmean(a, axis=axis, dtype=dtype)\n"
     ]
    },
    {
     "name": "stdout",
     "output_type": "stream",
     "text": [
      "9659 86809\n",
      "9669 86809\n",
      "9678 86809\n",
      "9679 86809\n",
      "9689 86809\n"
     ]
    },
    {
     "name": "stderr",
     "output_type": "stream",
     "text": [
      "C:\\Users\\gentemann\\Miniconda3\\lib\\site-packages\\xarray\\core\\nanops.py:161: RuntimeWarning: Mean of empty slice\n",
      "  return np.nanmean(a, axis=axis, dtype=dtype)\n",
      "C:\\Users\\gentemann\\Miniconda3\\lib\\site-packages\\xarray\\core\\nanops.py:161: RuntimeWarning: Mean of empty slice\n",
      "  return np.nanmean(a, axis=axis, dtype=dtype)\n"
     ]
    },
    {
     "name": "stdout",
     "output_type": "stream",
     "text": [
      "9709 86809\n",
      "9710 86809\n",
      "9719 86809\n",
      "9733 86809\n",
      "9748 86809\n",
      "9761 86809\n",
      "9773 86809\n",
      "9784 86809\n",
      "9794 86809\n",
      "9804 86809\n",
      "9813 86809\n",
      "9822 86809\n",
      "9831 86809\n",
      "9841 86809\n",
      "9851 86809\n",
      "9858 86809\n",
      "9860 86809\n",
      "9869 86809\n",
      "9879 86809\n"
     ]
    },
    {
     "name": "stderr",
     "output_type": "stream",
     "text": [
      "C:\\Users\\gentemann\\Miniconda3\\lib\\site-packages\\xarray\\core\\nanops.py:161: RuntimeWarning: Mean of empty slice\n",
      "  return np.nanmean(a, axis=axis, dtype=dtype)\n"
     ]
    },
    {
     "name": "stdout",
     "output_type": "stream",
     "text": [
      "9889 86809\n",
      "9899 86809\n",
      "9911 86809\n",
      "9921 86809\n",
      "9940 86809\n",
      "9947 86809\n",
      "9957 86809\n",
      "9967 86809\n",
      "9970 86809\n",
      "9983 86809\n",
      "9995 86809\n",
      "10007 86809\n"
     ]
    },
    {
     "name": "stderr",
     "output_type": "stream",
     "text": [
      "C:\\Users\\gentemann\\Miniconda3\\lib\\site-packages\\xarray\\core\\nanops.py:161: RuntimeWarning: Mean of empty slice\n",
      "  return np.nanmean(a, axis=axis, dtype=dtype)\n"
     ]
    },
    {
     "name": "stdout",
     "output_type": "stream",
     "text": [
      "10036 86809\n",
      "10056 86809\n"
     ]
    },
    {
     "name": "stderr",
     "output_type": "stream",
     "text": [
      "C:\\Users\\gentemann\\Miniconda3\\lib\\site-packages\\xarray\\core\\nanops.py:161: RuntimeWarning: Mean of empty slice\n",
      "  return np.nanmean(a, axis=axis, dtype=dtype)\n"
     ]
    },
    {
     "name": "stdout",
     "output_type": "stream",
     "text": [
      "10231 86809\n",
      "10239 86809\n",
      "10245 86809\n",
      "10253 86809\n",
      "10261 86809\n",
      "10270 86809\n",
      "10280 86809\n",
      "10291 86809\n",
      "10301 86809\n",
      "10311 86809\n",
      "10318 86809\n",
      "10326 86809\n",
      "10333 86809\n",
      "10337 86809\n",
      "10347 86809\n",
      "10648 86809\n",
      "10658 86809\n",
      "10667 86809\n",
      "10677 86809\n",
      "10696 86809\n",
      "10716 86809\n"
     ]
    },
    {
     "name": "stderr",
     "output_type": "stream",
     "text": [
      "C:\\Users\\gentemann\\Miniconda3\\lib\\site-packages\\xarray\\core\\nanops.py:161: RuntimeWarning: Mean of empty slice\n",
      "  return np.nanmean(a, axis=axis, dtype=dtype)\n"
     ]
    },
    {
     "name": "stdout",
     "output_type": "stream",
     "text": [
      "10719 86809\n",
      "10726 86809\n",
      "10736 86809\n",
      "10746 86809\n",
      "10755 86809\n",
      "10757 86809\n",
      "10765 86809\n",
      "10772 86809\n",
      "10774 86809\n",
      "10779 86809\n",
      "10783 86809\n",
      "10793 86809\n",
      "10802 86809\n"
     ]
    },
    {
     "name": "stderr",
     "output_type": "stream",
     "text": [
      "C:\\Users\\gentemann\\Miniconda3\\lib\\site-packages\\xarray\\core\\nanops.py:161: RuntimeWarning: Mean of empty slice\n",
      "  return np.nanmean(a, axis=axis, dtype=dtype)\n"
     ]
    },
    {
     "name": "stdout",
     "output_type": "stream",
     "text": [
      "10812 86809\n",
      "10822 86809\n",
      "10832 86809\n",
      "10842 86809\n",
      "10851 86809\n",
      "10861 86809\n",
      "10867 86809\n",
      "10881 86809\n",
      "10892 86809\n",
      "10904 86809\n",
      "10909 86809\n",
      "10916 86809\n",
      "10925 86809\n",
      "10935 86809\n",
      "10944 86809\n",
      "10949 86809\n",
      "10954 86809\n",
      "10962 86809\n",
      "10971 86809\n",
      "10979 86809\n",
      "10987 86809\n",
      "10995 86809\n",
      "11004 86809\n",
      "11015 86809\n",
      "11025 86809\n",
      "11035 86809\n",
      "11045 86809\n",
      "11055 86809\n",
      "11065 86809\n",
      "11074 86809\n",
      "11078 86809\n",
      "11085 86809\n",
      "11095 86809\n",
      "11106 86809\n",
      "11118 86809\n",
      "11130 86809\n",
      "11144 86809\n",
      "11148 86809\n",
      "11156 86809\n",
      "11169 86809\n",
      "11182 86809\n",
      "11187 86809\n",
      "11200 86809\n",
      "11211 86809\n",
      "11228 86809\n",
      "11233 86809\n",
      "11239 86809\n",
      "11244 86809\n",
      "11251 86809\n",
      "11258 86809\n",
      "11265 86809\n",
      "11272 86809\n",
      "11279 86809\n",
      "11286 86809\n",
      "11293 86809\n",
      "11299 86809\n",
      "11306 86809\n",
      "11313 86809\n",
      "11323 86809\n",
      "11334 86809\n",
      "11337 86809\n",
      "11344 86809\n",
      "11351 86809\n",
      "11358 86809\n",
      "11365 86809\n",
      "11372 86809\n",
      "11379 86809\n",
      "11386 86809\n",
      "11393 86809\n",
      "11399 86809\n",
      "11400 86809\n",
      "11407 86809\n"
     ]
    },
    {
     "name": "stderr",
     "output_type": "stream",
     "text": [
      "C:\\Users\\gentemann\\Miniconda3\\lib\\site-packages\\xarray\\core\\nanops.py:161: RuntimeWarning: Mean of empty slice\n",
      "  return np.nanmean(a, axis=axis, dtype=dtype)\n"
     ]
    },
    {
     "name": "stdout",
     "output_type": "stream",
     "text": [
      "11415 86809\n",
      "11421 86809\n",
      "11428 86809\n",
      "11436 86809\n",
      "11443 86809\n",
      "11450 86809\n",
      "11457 86809\n",
      "11465 86809\n",
      "11474 86809\n",
      "11482 86809\n",
      "11490 86809\n",
      "11499 86809\n",
      "11507 86809\n",
      "11516 86809\n",
      "11524 86809\n",
      "11534 86809\n",
      "11543 86809\n",
      "11551 86809\n",
      "11554 86809\n",
      "11559 86809\n",
      "11568 86809\n",
      "11576 86809\n"
     ]
    },
    {
     "name": "stderr",
     "output_type": "stream",
     "text": [
      "C:\\Users\\gentemann\\Miniconda3\\lib\\site-packages\\xarray\\core\\nanops.py:161: RuntimeWarning: Mean of empty slice\n",
      "  return np.nanmean(a, axis=axis, dtype=dtype)\n"
     ]
    },
    {
     "name": "stdout",
     "output_type": "stream",
     "text": [
      "11584 86809\n",
      "11592 86809\n",
      "11600 86809\n",
      "11609 86809\n",
      "11617 86809\n",
      "11625 86809\n",
      "11634 86809\n",
      "11641 86809\n",
      "11650 86809\n",
      "11667 86809\n",
      "11671 86809\n",
      "11675 86809\n"
     ]
    },
    {
     "name": "stderr",
     "output_type": "stream",
     "text": [
      "C:\\Users\\gentemann\\Miniconda3\\lib\\site-packages\\xarray\\core\\nanops.py:161: RuntimeWarning: Mean of empty slice\n",
      "  return np.nanmean(a, axis=axis, dtype=dtype)\n"
     ]
    },
    {
     "name": "stdout",
     "output_type": "stream",
     "text": [
      "11684 86809\n",
      "11692 86809\n",
      "11693 86809\n",
      "11708 86809\n",
      "11717 86809\n",
      "11725 86809\n",
      "11734 86809\n",
      "11751 86809\n",
      "11760 86809\n",
      "11768 86809\n",
      "11776 86809\n",
      "11784 86809\n",
      "11792 86809\n",
      "11806 86809\n",
      "11808 86809\n",
      "11815 86809\n",
      "11831 86809\n",
      "11847 86809\n",
      "11853 86809\n"
     ]
    },
    {
     "name": "stderr",
     "output_type": "stream",
     "text": [
      "C:\\Users\\gentemann\\Miniconda3\\lib\\site-packages\\xarray\\core\\nanops.py:161: RuntimeWarning: Mean of empty slice\n",
      "  return np.nanmean(a, axis=axis, dtype=dtype)\n"
     ]
    },
    {
     "name": "stdout",
     "output_type": "stream",
     "text": [
      "11860 86809\n",
      "11867 86809\n",
      "11880 86809\n",
      "11887 86809\n",
      "11901 86809\n",
      "11908 86809\n",
      "11916 86809\n",
      "11923 86809\n",
      "11936 86809\n",
      "11944 86809\n",
      "12000 86809\n",
      "12283 86809\n",
      "12386 86809\n",
      "12400 86809\n",
      "12453 86809\n",
      "12627 86809\n",
      "12784 86809\n"
     ]
    },
    {
     "name": "stderr",
     "output_type": "stream",
     "text": [
      "C:\\Users\\gentemann\\Miniconda3\\lib\\site-packages\\xarray\\core\\nanops.py:161: RuntimeWarning: Mean of empty slice\n",
      "  return np.nanmean(a, axis=axis, dtype=dtype)\n"
     ]
    },
    {
     "name": "stdout",
     "output_type": "stream",
     "text": [
      "12804 86809\n",
      "12834 86809\n",
      "12880 86809\n",
      "12944 86809\n",
      "13015 86809\n",
      "13044 86809\n",
      "13066 86809\n",
      "13106 86809\n",
      "13111 86809\n",
      "13136 86809\n",
      "13139 86809\n",
      "13161 86809\n",
      "13181 86809\n"
     ]
    },
    {
     "name": "stderr",
     "output_type": "stream",
     "text": [
      "C:\\Users\\gentemann\\Miniconda3\\lib\\site-packages\\xarray\\core\\nanops.py:161: RuntimeWarning: Mean of empty slice\n",
      "  return np.nanmean(a, axis=axis, dtype=dtype)\n",
      "C:\\Users\\gentemann\\Miniconda3\\lib\\site-packages\\xarray\\core\\nanops.py:161: RuntimeWarning: Mean of empty slice\n",
      "  return np.nanmean(a, axis=axis, dtype=dtype)\n"
     ]
    },
    {
     "name": "stdout",
     "output_type": "stream",
     "text": [
      "13183 86809\n",
      "13196 86809\n",
      "13201 86809\n",
      "13212 86809\n",
      "13220 86809\n",
      "13229 86809\n",
      "13239 86809\n",
      "13245 86809\n",
      "13259 86809\n",
      "13262 86809\n",
      "13276 86809\n",
      "13277 86809\n",
      "13291 86809\n",
      "13294 86809\n",
      "13314 86809\n",
      "13320 86809\n",
      "13330 86809\n"
     ]
    },
    {
     "name": "stderr",
     "output_type": "stream",
     "text": [
      "C:\\Users\\gentemann\\Miniconda3\\lib\\site-packages\\xarray\\core\\nanops.py:161: RuntimeWarning: Mean of empty slice\n",
      "  return np.nanmean(a, axis=axis, dtype=dtype)\n",
      "C:\\Users\\gentemann\\Miniconda3\\lib\\site-packages\\xarray\\core\\nanops.py:161: RuntimeWarning: Mean of empty slice\n",
      "  return np.nanmean(a, axis=axis, dtype=dtype)\n"
     ]
    },
    {
     "name": "stdout",
     "output_type": "stream",
     "text": [
      "13345 86809\n",
      "13347 86809\n",
      "13359 86809\n",
      "13369 86809\n",
      "13374 86809\n",
      "13389 86809\n",
      "13396 86809\n",
      "13404 86809\n",
      "13417 86809\n",
      "13429 86809\n",
      "13440 86809\n",
      "13443 86809\n",
      "13452 86809\n",
      "13465 86809\n",
      "13478 86809\n",
      "13491 86809\n",
      "13503 86809\n",
      "13516 86809\n",
      "13528 86809\n",
      "13538 86809\n",
      "13551 86809\n",
      "13558 86809\n",
      "13566 86809\n",
      "13598 86809\n",
      "13612 86809\n",
      "13616 86809\n",
      "13651 86809\n",
      "13656 86809\n",
      "13669 86809\n",
      "13688 86809\n",
      "13690 86809\n",
      "13707 86809\n",
      "13722 86809\n",
      "13725 86809\n",
      "13747 86809\n"
     ]
    },
    {
     "name": "stderr",
     "output_type": "stream",
     "text": [
      "C:\\Users\\gentemann\\Miniconda3\\lib\\site-packages\\xarray\\core\\nanops.py:161: RuntimeWarning: Mean of empty slice\n",
      "  return np.nanmean(a, axis=axis, dtype=dtype)\n"
     ]
    },
    {
     "name": "stdout",
     "output_type": "stream",
     "text": [
      "13758 86809\n",
      "13770 86809\n",
      "13791 86809\n",
      "13811 86809\n",
      "13814 86809\n",
      "13836 86809\n",
      "13849 86809\n",
      "13866 86809\n",
      "13900 86809\n",
      "13917 86809\n",
      "13935 86809\n",
      "13942 86809\n",
      "13953 86809\n",
      "13973 86809\n",
      "13993 86809\n",
      "14008 86809\n",
      "14012 86809\n",
      "14033 86809\n",
      "14042 86809\n",
      "14056 86809\n",
      "14080 86809\n",
      "14099 86809\n",
      "14152 86809\n",
      "14155 86809\n",
      "14183 86809\n"
     ]
    },
    {
     "name": "stderr",
     "output_type": "stream",
     "text": [
      "C:\\Users\\gentemann\\Miniconda3\\lib\\site-packages\\xarray\\core\\nanops.py:161: RuntimeWarning: Mean of empty slice\n",
      "  return np.nanmean(a, axis=axis, dtype=dtype)\n"
     ]
    },
    {
     "name": "stdout",
     "output_type": "stream",
     "text": [
      "14192 86809\n",
      "14206 86809\n",
      "14227 86809\n",
      "14238 86809\n",
      "14275 86809\n",
      "14289 86809\n",
      "14307 86809\n",
      "14323 86809\n",
      "14339 86809\n",
      "14355 86809\n"
     ]
    },
    {
     "name": "stderr",
     "output_type": "stream",
     "text": [
      "C:\\Users\\gentemann\\Miniconda3\\lib\\site-packages\\xarray\\core\\nanops.py:161: RuntimeWarning: Mean of empty slice\n",
      "  return np.nanmean(a, axis=axis, dtype=dtype)\n"
     ]
    },
    {
     "name": "stdout",
     "output_type": "stream",
     "text": [
      "14370 86809\n",
      "14384 86809\n",
      "14399 86809\n",
      "14410 86809\n",
      "14412 86809\n",
      "14425 86809\n",
      "14436 86809\n",
      "14438 86809\n",
      "14453 86809\n",
      "14462 86809\n",
      "14468 86809\n"
     ]
    },
    {
     "name": "stderr",
     "output_type": "stream",
     "text": [
      "C:\\Users\\gentemann\\Miniconda3\\lib\\site-packages\\xarray\\core\\nanops.py:161: RuntimeWarning: Mean of empty slice\n",
      "  return np.nanmean(a, axis=axis, dtype=dtype)\n"
     ]
    },
    {
     "name": "stdout",
     "output_type": "stream",
     "text": [
      "14490 86809\n",
      "14514 86809\n",
      "14518 86809\n",
      "14527 86809\n",
      "14540 86809\n",
      "14542 86809\n",
      "14565 86809\n",
      "14578 86809\n",
      "14592 86809\n",
      "14594 86809\n",
      "14605 86809\n",
      "14620 86809\n",
      "14628 86809\n",
      "14636 86809\n",
      "14656 86809\n",
      "14662 86809\n",
      "14686 86809\n",
      "14690 86809\n",
      "14701 86809\n",
      "14717 86809\n"
     ]
    },
    {
     "name": "stderr",
     "output_type": "stream",
     "text": [
      "C:\\Users\\gentemann\\Miniconda3\\lib\\site-packages\\xarray\\core\\nanops.py:161: RuntimeWarning: Mean of empty slice\n",
      "  return np.nanmean(a, axis=axis, dtype=dtype)\n",
      "C:\\Users\\gentemann\\Miniconda3\\lib\\site-packages\\xarray\\core\\nanops.py:161: RuntimeWarning: Mean of empty slice\n",
      "  return np.nanmean(a, axis=axis, dtype=dtype)\n"
     ]
    },
    {
     "name": "stdout",
     "output_type": "stream",
     "text": [
      "14720 86809\n",
      "14733 86809\n",
      "14761 86809\n",
      "14763 86809\n",
      "14807 86809\n",
      "14821 86809\n",
      "14848 86809\n",
      "14862 86809\n",
      "14877 86809\n",
      "14885 86809\n",
      "14894 86809\n",
      "14910 86809\n",
      "14915 86809\n",
      "14940 86809\n",
      "14952 86809\n",
      "14954 86809\n"
     ]
    },
    {
     "name": "stderr",
     "output_type": "stream",
     "text": [
      "C:\\Users\\gentemann\\Miniconda3\\lib\\site-packages\\xarray\\core\\nanops.py:161: RuntimeWarning: Mean of empty slice\n",
      "  return np.nanmean(a, axis=axis, dtype=dtype)\n"
     ]
    },
    {
     "name": "stdout",
     "output_type": "stream",
     "text": [
      "14967 86809\n",
      "14994 86809\n",
      "15020 86809\n",
      "15035 86809\n",
      "15048 86809\n",
      "15062 86809\n",
      "15108 86809\n",
      "15116 86809\n",
      "15133 86809\n",
      "15142 86809\n",
      "15166 86809\n",
      "15185 86809\n",
      "15205 86809\n",
      "15229 86809\n",
      "15238 86809\n",
      "15260 86809\n",
      "15285 86809\n",
      "15339 86809\n",
      "15353 86809\n",
      "15368 86809\n",
      "15383 86809\n",
      "15398 86809\n",
      "15413 86809\n",
      "15424 86809\n",
      "15441 86809\n",
      "15459 86809\n",
      "15474 86809\n",
      "15487 86809\n",
      "15501 86809\n",
      "15515 86809\n",
      "15531 86809\n",
      "15548 86809\n",
      "15563 86809\n",
      "15576 86809\n",
      "15604 86809\n",
      "15622 86809\n",
      "15637 86809\n",
      "15655 86809\n",
      "15671 86809\n",
      "15693 86809\n",
      "15711 86809\n",
      "15731 86809\n",
      "15752 86809\n"
     ]
    },
    {
     "name": "stderr",
     "output_type": "stream",
     "text": [
      "C:\\Users\\gentemann\\Miniconda3\\lib\\site-packages\\xarray\\core\\nanops.py:161: RuntimeWarning: Mean of empty slice\n",
      "  return np.nanmean(a, axis=axis, dtype=dtype)\n"
     ]
    },
    {
     "name": "stdout",
     "output_type": "stream",
     "text": [
      "15771 86809\n",
      "15776 86809\n",
      "15787 86809\n",
      "15802 86809\n",
      "15811 86809\n",
      "15819 86809\n",
      "15834 86809\n",
      "15842 86809\n",
      "15846 86809\n",
      "15858 86809\n",
      "15868 86809\n",
      "15870 86809\n",
      "15882 86809\n",
      "15894 86809\n"
     ]
    },
    {
     "name": "stderr",
     "output_type": "stream",
     "text": [
      "C:\\Users\\gentemann\\Miniconda3\\lib\\site-packages\\xarray\\core\\nanops.py:161: RuntimeWarning: Mean of empty slice\n",
      "  return np.nanmean(a, axis=axis, dtype=dtype)\n",
      "C:\\Users\\gentemann\\Miniconda3\\lib\\site-packages\\xarray\\core\\nanops.py:161: RuntimeWarning: Mean of empty slice\n",
      "  return np.nanmean(a, axis=axis, dtype=dtype)\n"
     ]
    },
    {
     "name": "stdout",
     "output_type": "stream",
     "text": [
      "15905 86809\n",
      "15916 86809\n",
      "15917 86809\n",
      "15926 86809\n",
      "15936 86809\n",
      "15938 86809\n",
      "15947 86809\n",
      "15959 86809\n"
     ]
    },
    {
     "name": "stderr",
     "output_type": "stream",
     "text": [
      "C:\\Users\\gentemann\\Miniconda3\\lib\\site-packages\\xarray\\core\\nanops.py:161: RuntimeWarning: Mean of empty slice\n",
      "  return np.nanmean(a, axis=axis, dtype=dtype)\n"
     ]
    },
    {
     "name": "stdout",
     "output_type": "stream",
     "text": [
      "15963 86809\n",
      "15971 86809\n",
      "15982 86809\n",
      "15987 86809\n",
      "15991 86809\n",
      "15994 86809\n",
      "16006 86809\n",
      "16012 86809\n"
     ]
    },
    {
     "name": "stderr",
     "output_type": "stream",
     "text": [
      "C:\\Users\\gentemann\\Miniconda3\\lib\\site-packages\\xarray\\core\\nanops.py:161: RuntimeWarning: Mean of empty slice\n",
      "  return np.nanmean(a, axis=axis, dtype=dtype)\n",
      "C:\\Users\\gentemann\\Miniconda3\\lib\\site-packages\\xarray\\core\\nanops.py:161: RuntimeWarning: Mean of empty slice\n",
      "  return np.nanmean(a, axis=axis, dtype=dtype)\n"
     ]
    },
    {
     "name": "stdout",
     "output_type": "stream",
     "text": [
      "16019 86809\n",
      "16032 86809\n",
      "16043 86809\n",
      "16045 86809\n",
      "16058 86809\n",
      "16070 86809\n",
      "16083 86809\n",
      "16098 86809\n",
      "16112 86809\n",
      "16127 86809\n",
      "16141 86809\n",
      "16156 86809\n",
      "16185 86809\n",
      "16201 86809\n",
      "16222 86809\n",
      "16230 86809\n",
      "16247 86809\n",
      "16267 86809\n",
      "16288 86809\n",
      "16289 86809\n",
      "16330 86809\n",
      "16359 86809\n"
     ]
    },
    {
     "name": "stderr",
     "output_type": "stream",
     "text": [
      "C:\\Users\\gentemann\\Miniconda3\\lib\\site-packages\\xarray\\core\\nanops.py:161: RuntimeWarning: Mean of empty slice\n",
      "  return np.nanmean(a, axis=axis, dtype=dtype)\n"
     ]
    },
    {
     "name": "stdout",
     "output_type": "stream",
     "text": [
      "16396 86809\n",
      "16414 86809\n",
      "16433 86809\n",
      "16461 86809\n",
      "16464 86809\n",
      "16487 86809\n"
     ]
    },
    {
     "name": "stderr",
     "output_type": "stream",
     "text": [
      "C:\\Users\\gentemann\\Miniconda3\\lib\\site-packages\\xarray\\core\\nanops.py:161: RuntimeWarning: Mean of empty slice\n",
      "  return np.nanmean(a, axis=axis, dtype=dtype)\n"
     ]
    },
    {
     "name": "stdout",
     "output_type": "stream",
     "text": [
      "16528 86809\n",
      "16549 86809\n",
      "16570 86809\n",
      "16593 86809\n",
      "16615 86809\n",
      "16638 86809\n",
      "16663 86809\n",
      "16688 86809\n",
      "16690 86809\n"
     ]
    },
    {
     "name": "stderr",
     "output_type": "stream",
     "text": [
      "C:\\Users\\gentemann\\Miniconda3\\lib\\site-packages\\xarray\\core\\nanops.py:161: RuntimeWarning: Mean of empty slice\n",
      "  return np.nanmean(a, axis=axis, dtype=dtype)\n",
      "C:\\Users\\gentemann\\Miniconda3\\lib\\site-packages\\xarray\\core\\nanops.py:161: RuntimeWarning: Mean of empty slice\n",
      "  return np.nanmean(a, axis=axis, dtype=dtype)\n"
     ]
    },
    {
     "name": "stdout",
     "output_type": "stream",
     "text": [
      "16710 86809\n",
      "16719 86809\n",
      "16729 86809\n",
      "16746 86809\n",
      "16749 86809\n",
      "16767 86809\n",
      "16769 86809\n",
      "16786 86809\n",
      "16802 86809\n",
      "16804 86809\n",
      "16820 86809\n"
     ]
    },
    {
     "name": "stderr",
     "output_type": "stream",
     "text": [
      "C:\\Users\\gentemann\\Miniconda3\\lib\\site-packages\\xarray\\core\\nanops.py:161: RuntimeWarning: Mean of empty slice\n",
      "  return np.nanmean(a, axis=axis, dtype=dtype)\n",
      "C:\\Users\\gentemann\\Miniconda3\\lib\\site-packages\\xarray\\core\\nanops.py:161: RuntimeWarning: Mean of empty slice\n",
      "  return np.nanmean(a, axis=axis, dtype=dtype)\n"
     ]
    },
    {
     "name": "stdout",
     "output_type": "stream",
     "text": [
      "16839 86809\n",
      "16857 86809\n",
      "16877 86809\n",
      "16891 86809\n",
      "16897 86809\n",
      "16920 86809\n",
      "16948 86809\n",
      "16981 86809\n",
      "16995 86809\n",
      "17008 86809\n",
      "17032 86809\n",
      "17040 86809\n",
      "17057 86809\n",
      "17077 86809\n",
      "17081 86809\n",
      "17103 86809\n",
      "17119 86809\n",
      "17124 86809\n",
      "17145 86809\n",
      "17160 86809\n",
      "17164 86809\n",
      "17182 86809\n",
      "17202 86809\n",
      "17213 86809\n",
      "17226 86809\n",
      "17239 86809\n",
      "17252 86809\n",
      "17254 86809\n"
     ]
    },
    {
     "name": "stderr",
     "output_type": "stream",
     "text": [
      "C:\\Users\\gentemann\\Miniconda3\\lib\\site-packages\\xarray\\core\\nanops.py:161: RuntimeWarning: Mean of empty slice\n",
      "  return np.nanmean(a, axis=axis, dtype=dtype)\n"
     ]
    },
    {
     "name": "stdout",
     "output_type": "stream",
     "text": [
      "17265 86809\n",
      "17278 86809\n",
      "17292 86809\n",
      "17307 86809\n",
      "17322 86809\n",
      "17331 86809\n",
      "17354 86809\n",
      "17358 86809\n",
      "17374 86809\n",
      "17394 86809\n",
      "17397 86809\n",
      "17411 86809\n",
      "17426 86809\n",
      "17431 86809\n",
      "17443 86809\n",
      "17453 86809\n",
      "17457 86809\n"
     ]
    },
    {
     "name": "stderr",
     "output_type": "stream",
     "text": [
      "C:\\Users\\gentemann\\Miniconda3\\lib\\site-packages\\xarray\\core\\nanops.py:161: RuntimeWarning: Mean of empty slice\n",
      "  return np.nanmean(a, axis=axis, dtype=dtype)\n"
     ]
    },
    {
     "name": "stdout",
     "output_type": "stream",
     "text": [
      "17483 86809\n",
      "17495 86809\n",
      "17500 86809\n",
      "17507 86809\n",
      "17518 86809\n",
      "17522 86809\n",
      "17530 86809\n",
      "17544 86809\n",
      "17545 86809\n",
      "17557 86809\n"
     ]
    },
    {
     "name": "stderr",
     "output_type": "stream",
     "text": [
      "C:\\Users\\gentemann\\Miniconda3\\lib\\site-packages\\xarray\\core\\nanops.py:161: RuntimeWarning: Mean of empty slice\n",
      "  return np.nanmean(a, axis=axis, dtype=dtype)\n",
      "C:\\Users\\gentemann\\Miniconda3\\lib\\site-packages\\xarray\\core\\nanops.py:161: RuntimeWarning: Mean of empty slice\n",
      "  return np.nanmean(a, axis=axis, dtype=dtype)\n"
     ]
    },
    {
     "name": "stdout",
     "output_type": "stream",
     "text": [
      "17568 86809\n",
      "17570 86809\n",
      "17583 86809\n",
      "17597 86809\n",
      "17601 86809\n",
      "17610 86809\n",
      "17625 86809\n",
      "17639 86809\n",
      "17651 86809\n",
      "17665 86809\n",
      "17680 86809\n",
      "17693 86809\n",
      "17707 86809\n",
      "17720 86809\n",
      "17734 86809\n",
      "17749 86809\n",
      "17763 86809\n",
      "17777 86809\n",
      "17790 86809\n",
      "17808 86809\n",
      "17812 86809\n",
      "17828 86809\n",
      "17842 86809\n",
      "17845 86809\n",
      "17865 86809\n"
     ]
    },
    {
     "name": "stderr",
     "output_type": "stream",
     "text": [
      "C:\\Users\\gentemann\\Miniconda3\\lib\\site-packages\\xarray\\core\\nanops.py:161: RuntimeWarning: Mean of empty slice\n",
      "  return np.nanmean(a, axis=axis, dtype=dtype)\n",
      "C:\\Users\\gentemann\\Miniconda3\\lib\\site-packages\\xarray\\core\\nanops.py:161: RuntimeWarning: Mean of empty slice\n",
      "  return np.nanmean(a, axis=axis, dtype=dtype)\n"
     ]
    },
    {
     "name": "stdout",
     "output_type": "stream",
     "text": [
      "17881 86809\n",
      "17884 86809\n",
      "17906 86809\n",
      "17926 86809\n",
      "17947 86809\n",
      "17967 86809\n",
      "17985 86809\n",
      "18005 86809\n",
      "18017 86809\n",
      "18033 86809\n",
      "18050 86809\n",
      "18067 86809\n",
      "18084 86809\n",
      "18101 86809\n",
      "18136 86809\n",
      "18153 86809\n",
      "18170 86809\n",
      "18183 86809\n",
      "18200 86809\n",
      "18234 86809\n",
      "18248 86809\n",
      "18262 86809\n",
      "18337 86809\n",
      "18359 86809\n",
      "18393 86809\n",
      "18406 86809\n",
      "18444 86809\n",
      "18461 86809\n",
      "18478 86809\n",
      "18542 86809\n",
      "18551 86809\n",
      "18561 86809\n",
      "18587 86809\n",
      "18604 86809\n",
      "18614 86809\n",
      "18625 86809\n",
      "18640 86809\n",
      "18646 86809\n",
      "18666 86809\n",
      "18667 86809\n",
      "18685 86809\n"
     ]
    },
    {
     "name": "stderr",
     "output_type": "stream",
     "text": [
      "C:\\Users\\gentemann\\Miniconda3\\lib\\site-packages\\xarray\\core\\nanops.py:161: RuntimeWarning: Mean of empty slice\n",
      "  return np.nanmean(a, axis=axis, dtype=dtype)\n"
     ]
    },
    {
     "name": "stdout",
     "output_type": "stream",
     "text": [
      "18698 86809\n",
      "18701 86809\n",
      "18715 86809\n",
      "18727 86809\n",
      "18730 86809\n",
      "18749 86809\n",
      "18753 86809\n"
     ]
    },
    {
     "name": "stderr",
     "output_type": "stream",
     "text": [
      "C:\\Users\\gentemann\\Miniconda3\\lib\\site-packages\\xarray\\core\\nanops.py:161: RuntimeWarning: Mean of empty slice\n",
      "  return np.nanmean(a, axis=axis, dtype=dtype)\n"
     ]
    },
    {
     "name": "stdout",
     "output_type": "stream",
     "text": [
      "18780 86809\n",
      "18799 86809\n",
      "18804 86809\n",
      "18817 86809\n",
      "18833 86809\n",
      "18839 86809\n",
      "18861 86809\n",
      "18869 86809\n",
      "18876 86809\n",
      "18892 86809\n",
      "18907 86809\n",
      "18923 86809\n"
     ]
    },
    {
     "name": "stderr",
     "output_type": "stream",
     "text": [
      "C:\\Users\\gentemann\\Miniconda3\\lib\\site-packages\\xarray\\core\\nanops.py:161: RuntimeWarning: Mean of empty slice\n",
      "  return np.nanmean(a, axis=axis, dtype=dtype)\n"
     ]
    },
    {
     "name": "stdout",
     "output_type": "stream",
     "text": [
      "18925 86809\n",
      "18942 86809\n",
      "18958 86809\n",
      "18972 86809\n",
      "18986 86809\n",
      "18999 86809\n",
      "19011 86809\n",
      "19023 86809\n",
      "19036 86809\n",
      "19048 86809\n",
      "19059 86809\n",
      "19084 86809\n",
      "19092 86809\n",
      "19095 86809\n"
     ]
    },
    {
     "name": "stderr",
     "output_type": "stream",
     "text": [
      "C:\\Users\\gentemann\\Miniconda3\\lib\\site-packages\\xarray\\core\\nanops.py:161: RuntimeWarning: Mean of empty slice\n",
      "  return np.nanmean(a, axis=axis, dtype=dtype)\n",
      "C:\\Users\\gentemann\\Miniconda3\\lib\\site-packages\\xarray\\core\\nanops.py:161: RuntimeWarning: Mean of empty slice\n",
      "  return np.nanmean(a, axis=axis, dtype=dtype)\n"
     ]
    },
    {
     "name": "stdout",
     "output_type": "stream",
     "text": [
      "19107 86809\n",
      "19114 86809\n",
      "19119 86809\n",
      "19131 86809\n",
      "19133 86809\n",
      "19144 86809\n",
      "19150 86809\n",
      "19157 86809\n",
      "19166 86809\n",
      "19171 86809\n",
      "19181 86809\n",
      "19185 86809\n",
      "19195 86809\n"
     ]
    },
    {
     "name": "stderr",
     "output_type": "stream",
     "text": [
      "C:\\Users\\gentemann\\Miniconda3\\lib\\site-packages\\xarray\\core\\nanops.py:161: RuntimeWarning: Mean of empty slice\n",
      "  return np.nanmean(a, axis=axis, dtype=dtype)\n"
     ]
    },
    {
     "name": "stdout",
     "output_type": "stream",
     "text": [
      "19199 86809\n",
      "19210 86809\n",
      "19215 86809\n",
      "19227 86809\n",
      "19232 86809\n",
      "19246 86809\n",
      "19249 86809\n"
     ]
    },
    {
     "name": "stderr",
     "output_type": "stream",
     "text": [
      "C:\\Users\\gentemann\\Miniconda3\\lib\\site-packages\\xarray\\core\\nanops.py:161: RuntimeWarning: Mean of empty slice\n",
      "  return np.nanmean(a, axis=axis, dtype=dtype)\n"
     ]
    },
    {
     "name": "stdout",
     "output_type": "stream",
     "text": [
      "19264 86809\n",
      "19268 86809\n",
      "19286 86809\n",
      "19306 86809\n",
      "19321 86809\n",
      "19337 86809\n",
      "19353 86809\n",
      "19355 86809\n",
      "19368 86809\n",
      "19384 86809\n",
      "19400 86809\n"
     ]
    },
    {
     "name": "stderr",
     "output_type": "stream",
     "text": [
      "C:\\Users\\gentemann\\Miniconda3\\lib\\site-packages\\xarray\\core\\nanops.py:161: RuntimeWarning: Mean of empty slice\n",
      "  return np.nanmean(a, axis=axis, dtype=dtype)\n"
     ]
    },
    {
     "name": "stdout",
     "output_type": "stream",
     "text": [
      "19405 86809\n",
      "19414 86809\n",
      "19428 86809\n",
      "19440 86809\n",
      "19453 86809\n",
      "19467 86809\n",
      "19479 86809\n",
      "19490 86809\n",
      "19501 86809\n",
      "19511 86809\n",
      "19521 86809\n",
      "19532 86809\n",
      "19533 86809\n"
     ]
    },
    {
     "name": "stderr",
     "output_type": "stream",
     "text": [
      "C:\\Users\\gentemann\\Miniconda3\\lib\\site-packages\\xarray\\core\\nanops.py:161: RuntimeWarning: Mean of empty slice\n",
      "  return np.nanmean(a, axis=axis, dtype=dtype)\n"
     ]
    },
    {
     "name": "stdout",
     "output_type": "stream",
     "text": [
      "19545 86809\n",
      "19558 86809\n",
      "19570 86809\n",
      "19595 86809\n",
      "19610 86809\n",
      "19611 86809\n",
      "19625 86809\n",
      "19639 86809\n",
      "19652 86809\n",
      "19665 86809\n",
      "19679 86809\n",
      "19693 86809\n",
      "19721 86809\n",
      "19722 86809\n",
      "19733 86809\n",
      "19747 86809\n",
      "19761 86809\n",
      "19774 86809\n"
     ]
    },
    {
     "name": "stderr",
     "output_type": "stream",
     "text": [
      "C:\\Users\\gentemann\\Miniconda3\\lib\\site-packages\\xarray\\core\\nanops.py:161: RuntimeWarning: Mean of empty slice\n",
      "  return np.nanmean(a, axis=axis, dtype=dtype)\n"
     ]
    },
    {
     "name": "stdout",
     "output_type": "stream",
     "text": [
      "19789 86809\n",
      "19801 86809\n",
      "19814 86809\n",
      "19826 86809\n",
      "19839 86809\n",
      "19851 86809\n",
      "19865 86809\n",
      "19879 86809\n",
      "19894 86809\n",
      "19910 86809\n",
      "19923 86809\n",
      "19927 86809\n",
      "19943 86809\n",
      "19959 86809\n",
      "19976 86809\n",
      "19992 86809\n",
      "19993 86809\n",
      "20007 86809\n",
      "20023 86809\n"
     ]
    },
    {
     "name": "stderr",
     "output_type": "stream",
     "text": [
      "C:\\Users\\gentemann\\Miniconda3\\lib\\site-packages\\xarray\\core\\nanops.py:161: RuntimeWarning: Mean of empty slice\n",
      "  return np.nanmean(a, axis=axis, dtype=dtype)\n"
     ]
    },
    {
     "name": "stdout",
     "output_type": "stream",
     "text": [
      "20038 86809\n",
      "20052 86809\n",
      "20072 86809\n",
      "20073 86809\n",
      "20087 86809\n",
      "20102 86809\n"
     ]
    },
    {
     "name": "stderr",
     "output_type": "stream",
     "text": [
      "C:\\Users\\gentemann\\Miniconda3\\lib\\site-packages\\xarray\\core\\nanops.py:161: RuntimeWarning: Mean of empty slice\n",
      "  return np.nanmean(a, axis=axis, dtype=dtype)\n"
     ]
    },
    {
     "name": "stdout",
     "output_type": "stream",
     "text": [
      "20107 86809\n",
      "20118 86809\n",
      "20137 86809\n",
      "20165 86809\n",
      "20179 86809\n",
      "20192 86809\n",
      "20247 86809\n",
      "20260 86809\n",
      "20272 86809\n",
      "20298 86809\n",
      "20310 86809\n",
      "20311 86809\n",
      "20322 86809\n",
      "20327 86809\n",
      "20334 86809\n",
      "20335 86809\n",
      "20347 86809\n",
      "20361 86809\n",
      "20374 86809\n",
      "20388 86809\n",
      "20456 86809\n",
      "20466 86809\n",
      "20504 86809\n",
      "20517 86809\n",
      "20518 86809\n",
      "20547 86809\n"
     ]
    },
    {
     "name": "stderr",
     "output_type": "stream",
     "text": [
      "C:\\Users\\gentemann\\Miniconda3\\lib\\site-packages\\xarray\\core\\nanops.py:161: RuntimeWarning: Mean of empty slice\n",
      "  return np.nanmean(a, axis=axis, dtype=dtype)\n"
     ]
    },
    {
     "name": "stdout",
     "output_type": "stream",
     "text": [
      "20577 86809\n",
      "20593 86809\n",
      "20608 86809\n",
      "20623 86809\n",
      "20638 86809\n",
      "20652 86809\n"
     ]
    },
    {
     "name": "stderr",
     "output_type": "stream",
     "text": [
      "C:\\Users\\gentemann\\Miniconda3\\lib\\site-packages\\xarray\\core\\nanops.py:161: RuntimeWarning: Mean of empty slice\n",
      "  return np.nanmean(a, axis=axis, dtype=dtype)\n"
     ]
    },
    {
     "name": "stdout",
     "output_type": "stream",
     "text": [
      "20665 86809\n",
      "20678 86809\n",
      "20691 86809\n",
      "20704 86809\n",
      "20716 86809\n",
      "20727 86809\n"
     ]
    },
    {
     "name": "stderr",
     "output_type": "stream",
     "text": [
      "C:\\Users\\gentemann\\Miniconda3\\lib\\site-packages\\xarray\\core\\nanops.py:161: RuntimeWarning: Mean of empty slice\n",
      "  return np.nanmean(a, axis=axis, dtype=dtype)\n"
     ]
    },
    {
     "name": "stdout",
     "output_type": "stream",
     "text": [
      "20729 86809\n",
      "20742 86809\n",
      "20757 86809\n",
      "20775 86809\n",
      "20784 86809\n",
      "20793 86809\n",
      "20803 86809\n",
      "20828 86809\n",
      "20832 86809\n",
      "20836 86809\n",
      "20844 86809\n",
      "20852 86809\n",
      "20860 86809\n",
      "20868 86809\n",
      "20877 86809\n",
      "20886 86809\n",
      "20894 86809\n",
      "20903 86809\n",
      "20912 86809\n",
      "20919 86809\n",
      "20921 86809\n",
      "20930 86809\n",
      "20938 86809\n",
      "20947 86809\n",
      "20955 86809\n",
      "20964 86809\n",
      "20973 86809\n",
      "20981 86809\n",
      "20990 86809\n",
      "20999 86809\n",
      "21009 86809\n",
      "21017 86809\n",
      "21027 86809\n",
      "21036 86809\n",
      "21045 86809\n",
      "21055 86809\n",
      "21064 86809\n",
      "21074 86809\n",
      "21084 86809\n",
      "21095 86809\n",
      "21105 86809\n",
      "21114 86809\n",
      "21124 86809\n",
      "21133 86809\n",
      "21135 86809\n",
      "21142 86809\n",
      "21151 86809\n"
     ]
    },
    {
     "name": "stderr",
     "output_type": "stream",
     "text": [
      "C:\\Users\\gentemann\\Miniconda3\\lib\\site-packages\\xarray\\core\\nanops.py:161: RuntimeWarning: Mean of empty slice\n",
      "  return np.nanmean(a, axis=axis, dtype=dtype)\n"
     ]
    },
    {
     "name": "stdout",
     "output_type": "stream",
     "text": [
      "21159 86809\n",
      "21168 86809\n",
      "21177 86809\n",
      "21186 86809\n",
      "21197 86809\n",
      "21206 86809\n",
      "21216 86809\n",
      "21225 86809\n",
      "21232 86809\n",
      "21235 86809\n",
      "21245 86809\n",
      "21255 86809\n",
      "21265 86809\n",
      "21276 86809\n",
      "21285 86809\n"
     ]
    },
    {
     "name": "stderr",
     "output_type": "stream",
     "text": [
      "C:\\Users\\gentemann\\Miniconda3\\lib\\site-packages\\xarray\\core\\nanops.py:161: RuntimeWarning: Mean of empty slice\n",
      "  return np.nanmean(a, axis=axis, dtype=dtype)\n"
     ]
    },
    {
     "name": "stdout",
     "output_type": "stream",
     "text": [
      "21294 86809\n",
      "21303 86809\n",
      "21312 86809\n",
      "21321 86809\n",
      "21331 86809\n",
      "21341 86809\n",
      "21352 86809\n"
     ]
    },
    {
     "name": "stderr",
     "output_type": "stream",
     "text": [
      "C:\\Users\\gentemann\\Miniconda3\\lib\\site-packages\\xarray\\core\\nanops.py:161: RuntimeWarning: Mean of empty slice\n",
      "  return np.nanmean(a, axis=axis, dtype=dtype)\n"
     ]
    },
    {
     "name": "stdout",
     "output_type": "stream",
     "text": [
      "21353 86809\n",
      "21363 86809\n",
      "21373 86809\n",
      "21384 86809\n",
      "21395 86809\n",
      "21406 86809\n",
      "21415 86809\n",
      "21426 86809\n",
      "21436 86809\n",
      "21447 86809\n",
      "21457 86809\n",
      "21468 86809\n",
      "21480 86809\n",
      "21491 86809\n",
      "21501 86809\n",
      "21512 86809\n",
      "21520 86809\n",
      "21522 86809\n",
      "21531 86809\n",
      "21541 86809\n",
      "21550 86809\n",
      "21560 86809\n",
      "21569 86809\n",
      "21578 86809\n",
      "21588 86809\n",
      "21600 86809\n",
      "21610 86809\n",
      "21621 86809\n",
      "21692 86809\n",
      "21695 86809\n"
     ]
    },
    {
     "name": "stderr",
     "output_type": "stream",
     "text": [
      "C:\\Users\\gentemann\\Miniconda3\\lib\\site-packages\\xarray\\core\\nanops.py:161: RuntimeWarning: Mean of empty slice\n",
      "  return np.nanmean(a, axis=axis, dtype=dtype)\n"
     ]
    },
    {
     "name": "stdout",
     "output_type": "stream",
     "text": [
      "21751 86809\n",
      "21756 86809\n",
      "21766 86809\n",
      "21777 86809\n",
      "21788 86809\n",
      "21798 86809\n",
      "21841 86809\n",
      "21852 86809\n",
      "21873 86809\n",
      "21884 86809\n",
      "21906 86809\n",
      "21917 86809\n",
      "21928 86809\n",
      "21939 86809\n",
      "21949 86809\n",
      "21960 86809\n",
      "21972 86809\n",
      "21987 86809\n",
      "22000 86809\n",
      "22014 86809\n",
      "22043 86809\n",
      "22055 86809\n",
      "22067 86809\n",
      "22081 86809\n",
      "22095 86809\n",
      "22110 86809\n",
      "22126 86809\n",
      "22140 86809\n",
      "22155 86809\n",
      "22183 86809\n",
      "22220 86809\n",
      "22232 86809\n",
      "22244 86809\n",
      "22255 86809\n",
      "22268 86809\n",
      "22281 86809\n",
      "22293 86809\n",
      "22322 86809\n",
      "22337 86809\n",
      "22353 86809\n",
      "22370 86809\n",
      "22408 86809\n",
      "22420 86809\n",
      "22435 86809\n",
      "22448 86809\n",
      "22460 86809\n",
      "22474 86809\n",
      "22485 86809\n",
      "22494 86809\n",
      "22503 86809\n",
      "22513 86809\n",
      "22522 86809\n",
      "22531 86809\n",
      "22539 86809\n",
      "22548 86809\n",
      "22557 86809\n",
      "22566 86809\n",
      "22575 86809\n",
      "22582 86809\n",
      "22589 86809\n",
      "22598 86809\n",
      "22606 86809\n",
      "22615 86809\n",
      "22623 86809\n",
      "22632 86809\n",
      "22641 86809\n",
      "22648 86809\n",
      "22656 86809\n",
      "22664 86809\n",
      "22671 86809\n",
      "22679 86809\n",
      "22687 86809\n",
      "22695 86809\n",
      "22703 86809\n",
      "22711 86809\n",
      "22719 86809\n",
      "22741 86809\n",
      "22749 86809\n",
      "22756 86809\n",
      "22763 86809\n",
      "22771 86809\n",
      "22778 86809\n",
      "22786 86809\n",
      "22793 86809\n",
      "22802 86809\n",
      "22809 86809\n",
      "22817 86809\n",
      "22824 86809\n",
      "22832 86809\n",
      "22839 86809\n",
      "22847 86809\n",
      "22854 86809\n",
      "22862 86809\n",
      "22869 86809\n",
      "22876 86809\n",
      "22883 86809\n",
      "22890 86809\n",
      "22898 86809\n",
      "22907 86809\n"
     ]
    },
    {
     "name": "stderr",
     "output_type": "stream",
     "text": [
      "C:\\Users\\gentemann\\Miniconda3\\lib\\site-packages\\xarray\\core\\nanops.py:161: RuntimeWarning: Mean of empty slice\n",
      "  return np.nanmean(a, axis=axis, dtype=dtype)\n",
      "C:\\Users\\gentemann\\Miniconda3\\lib\\site-packages\\xarray\\core\\nanops.py:161: RuntimeWarning: Mean of empty slice\n",
      "  return np.nanmean(a, axis=axis, dtype=dtype)\n"
     ]
    },
    {
     "name": "stdout",
     "output_type": "stream",
     "text": [
      "22913 86809\n",
      "22919 86809\n",
      "22930 86809\n",
      "22938 86809\n",
      "22940 86809\n",
      "22950 86809\n",
      "22960 86809\n",
      "22963 86809\n",
      "22969 86809\n",
      "22978 86809\n",
      "22986 86809\n",
      "22987 86809\n",
      "22996 86809\n",
      "23004 86809\n",
      "23007 86809\n",
      "23012 86809\n"
     ]
    },
    {
     "name": "stderr",
     "output_type": "stream",
     "text": [
      "C:\\Users\\gentemann\\Miniconda3\\lib\\site-packages\\xarray\\core\\nanops.py:161: RuntimeWarning: Mean of empty slice\n",
      "  return np.nanmean(a, axis=axis, dtype=dtype)\n"
     ]
    },
    {
     "name": "stdout",
     "output_type": "stream",
     "text": [
      "23020 86809\n",
      "23028 86809\n",
      "23037 86809\n",
      "23046 86809\n",
      "23053 86809\n",
      "23055 86809\n"
     ]
    },
    {
     "name": "stderr",
     "output_type": "stream",
     "text": [
      "C:\\Users\\gentemann\\Miniconda3\\lib\\site-packages\\xarray\\core\\nanops.py:161: RuntimeWarning: Mean of empty slice\n",
      "  return np.nanmean(a, axis=axis, dtype=dtype)\n"
     ]
    },
    {
     "name": "stdout",
     "output_type": "stream",
     "text": [
      "23064 86809\n",
      "23073 86809\n",
      "23082 86809\n",
      "23091 86809\n",
      "23100 86809\n",
      "23103 86809\n",
      "23108 86809\n",
      "23116 86809\n",
      "23125 86809\n",
      "23127 86809\n",
      "23133 86809\n",
      "23149 86809\n",
      "23151 86809\n",
      "23158 86809\n",
      "23166 86809\n",
      "23175 86809\n",
      "23176 86809\n",
      "23184 86809\n",
      "23191 86809\n",
      "23192 86809\n",
      "23201 86809\n",
      "23210 86809\n",
      "23218 86809\n",
      "23228 86809\n",
      "23236 86809\n"
     ]
    },
    {
     "name": "stderr",
     "output_type": "stream",
     "text": [
      "C:\\Users\\gentemann\\Miniconda3\\lib\\site-packages\\xarray\\core\\nanops.py:161: RuntimeWarning: Mean of empty slice\n",
      "  return np.nanmean(a, axis=axis, dtype=dtype)\n"
     ]
    },
    {
     "name": "stdout",
     "output_type": "stream",
     "text": [
      "23245 86809\n",
      "23255 86809\n",
      "23264 86809\n",
      "23274 86809\n",
      "23284 86809\n",
      "23293 86809\n",
      "23302 86809\n",
      "23312 86809\n",
      "23313 86809\n",
      "23322 86809\n",
      "23332 86809\n",
      "23343 86809\n",
      "23354 86809\n"
     ]
    },
    {
     "name": "stderr",
     "output_type": "stream",
     "text": [
      "C:\\Users\\gentemann\\Miniconda3\\lib\\site-packages\\xarray\\core\\nanops.py:161: RuntimeWarning: Mean of empty slice\n",
      "  return np.nanmean(a, axis=axis, dtype=dtype)\n",
      "C:\\Users\\gentemann\\Miniconda3\\lib\\site-packages\\xarray\\core\\nanops.py:161: RuntimeWarning: Mean of empty slice\n",
      "  return np.nanmean(a, axis=axis, dtype=dtype)\n"
     ]
    },
    {
     "name": "stdout",
     "output_type": "stream",
     "text": [
      "23363 86809\n",
      "23374 86809\n",
      "23376 86809\n",
      "23384 86809\n",
      "23392 86809\n",
      "23400 86809\n",
      "23401 86809\n",
      "23408 86809\n",
      "23415 86809\n",
      "23423 86809\n",
      "23424 86809\n",
      "23430 86809\n",
      "23438 86809\n"
     ]
    },
    {
     "name": "stderr",
     "output_type": "stream",
     "text": [
      "C:\\Users\\gentemann\\Miniconda3\\lib\\site-packages\\xarray\\core\\nanops.py:161: RuntimeWarning: Mean of empty slice\n",
      "  return np.nanmean(a, axis=axis, dtype=dtype)\n",
      "C:\\Users\\gentemann\\Miniconda3\\lib\\site-packages\\xarray\\core\\nanops.py:161: RuntimeWarning: Mean of empty slice\n",
      "  return np.nanmean(a, axis=axis, dtype=dtype)\n"
     ]
    },
    {
     "name": "stdout",
     "output_type": "stream",
     "text": [
      "23444 86809\n",
      "23445 86809\n",
      "23452 86809\n",
      "23459 86809\n",
      "23466 86809\n",
      "23467 86809\n",
      "23474 86809\n",
      "23481 86809\n"
     ]
    },
    {
     "name": "stderr",
     "output_type": "stream",
     "text": [
      "C:\\Users\\gentemann\\Miniconda3\\lib\\site-packages\\xarray\\core\\nanops.py:161: RuntimeWarning: Mean of empty slice\n",
      "  return np.nanmean(a, axis=axis, dtype=dtype)\n"
     ]
    },
    {
     "name": "stdout",
     "output_type": "stream",
     "text": [
      "23488 86809\n",
      "23496 86809\n",
      "23504 86809\n",
      "23511 86809\n",
      "23519 86809\n",
      "23527 86809\n",
      "23535 86809\n",
      "23544 86809\n",
      "23552 86809\n",
      "23561 86809\n",
      "23563 86809\n",
      "23569 86809\n",
      "23578 86809\n"
     ]
    },
    {
     "name": "stderr",
     "output_type": "stream",
     "text": [
      "C:\\Users\\gentemann\\Miniconda3\\lib\\site-packages\\xarray\\core\\nanops.py:161: RuntimeWarning: Mean of empty slice\n",
      "  return np.nanmean(a, axis=axis, dtype=dtype)\n"
     ]
    },
    {
     "name": "stdout",
     "output_type": "stream",
     "text": [
      "23587 86809\n",
      "23591 86809\n",
      "23596 86809\n",
      "23605 86809\n",
      "23615 86809\n",
      "23621 86809\n",
      "23624 86809\n",
      "23633 86809\n",
      "23642 86809\n",
      "23651 86809\n",
      "23652 86809\n",
      "23661 86809\n",
      "23670 86809\n",
      "23680 86809\n"
     ]
    },
    {
     "name": "stderr",
     "output_type": "stream",
     "text": [
      "C:\\Users\\gentemann\\Miniconda3\\lib\\site-packages\\xarray\\core\\nanops.py:161: RuntimeWarning: Mean of empty slice\n",
      "  return np.nanmean(a, axis=axis, dtype=dtype)\n"
     ]
    },
    {
     "name": "stdout",
     "output_type": "stream",
     "text": [
      "23685 86809\n",
      "23689 86809\n",
      "23716 86809\n",
      "23725 86809\n",
      "23734 86809\n",
      "23743 86809\n",
      "23751 86809\n"
     ]
    },
    {
     "name": "stderr",
     "output_type": "stream",
     "text": [
      "C:\\Users\\gentemann\\Miniconda3\\lib\\site-packages\\xarray\\core\\nanops.py:161: RuntimeWarning: Mean of empty slice\n",
      "  return np.nanmean(a, axis=axis, dtype=dtype)\n"
     ]
    },
    {
     "name": "stdout",
     "output_type": "stream",
     "text": [
      "23779 86809\n",
      "23788 86809\n",
      "23798 86809\n",
      "23807 86809\n",
      "23816 86809\n",
      "23825 86809\n",
      "23834 86809\n",
      "23842 86809\n",
      "23851 86809\n",
      "23859 86809\n",
      "23868 86809\n",
      "23875 86809\n",
      "23883 86809\n"
     ]
    },
    {
     "name": "stderr",
     "output_type": "stream",
     "text": [
      "C:\\Users\\gentemann\\Miniconda3\\lib\\site-packages\\xarray\\core\\nanops.py:161: RuntimeWarning: Mean of empty slice\n",
      "  return np.nanmean(a, axis=axis, dtype=dtype)\n"
     ]
    },
    {
     "name": "stdout",
     "output_type": "stream",
     "text": [
      "23891 86809\n",
      "23899 86809\n",
      "23907 86809\n",
      "23914 86809\n",
      "23922 86809\n",
      "23930 86809\n",
      "23937 86809\n",
      "23951 86809\n",
      "23952 86809\n",
      "23959 86809\n",
      "23967 86809\n",
      "23974 86809\n",
      "23982 86809\n"
     ]
    },
    {
     "name": "stderr",
     "output_type": "stream",
     "text": [
      "C:\\Users\\gentemann\\Miniconda3\\lib\\site-packages\\xarray\\core\\nanops.py:161: RuntimeWarning: Mean of empty slice\n",
      "  return np.nanmean(a, axis=axis, dtype=dtype)\n"
     ]
    },
    {
     "name": "stdout",
     "output_type": "stream",
     "text": [
      "23990 86809\n",
      "23997 86809\n",
      "24005 86809\n",
      "24013 86809\n",
      "24028 86809\n",
      "24031 86809\n",
      "24035"
     ]
    },
    {
     "name": "stderr",
     "output_type": "stream",
     "text": [
      "C:\\Users\\gentemann\\Miniconda3\\lib\\site-packages\\xarray\\core\\nanops.py:161: RuntimeWarning: Mean of empty slice\n",
      "  return np.nanmean(a, axis=axis, dtype=dtype)\n"
     ]
    },
    {
     "name": "stdout",
     "output_type": "stream",
     "text": [
      " 86809\n",
      "24043 86809\n",
      "24051 86809\n",
      "24059 86809\n",
      "24067 86809\n",
      "24076 86809\n",
      "24084 86809\n",
      "24092 86809\n",
      "24099 86809\n",
      "24114 86809\n",
      "24123 86809\n",
      "24133 86809\n",
      "24142 86809\n",
      "24159 86809\n",
      "24168 86809\n",
      "24177 86809\n",
      "24186 86809\n",
      "24196 86809\n",
      "24214 86809\n"
     ]
    },
    {
     "name": "stderr",
     "output_type": "stream",
     "text": [
      "C:\\Users\\gentemann\\Miniconda3\\lib\\site-packages\\xarray\\core\\nanops.py:161: RuntimeWarning: Mean of empty slice\n",
      "  return np.nanmean(a, axis=axis, dtype=dtype)\n"
     ]
    },
    {
     "name": "stdout",
     "output_type": "stream",
     "text": [
      "24222 86809\n",
      "24231 86809\n",
      "24239 86809\n",
      "24247 86809\n",
      "24263 86809\n",
      "24268 86809\n",
      "24271 86809\n",
      "24279 86809\n",
      "24287 86809\n",
      "24295 86809\n",
      "24304 86809\n",
      "24329 86809\n",
      "24338 86809\n",
      "24346 86809\n",
      "24349 86809\n",
      "24370 86809\n",
      "24378 86809\n",
      "24386 86809\n",
      "24394 86809\n",
      "24412 86809\n",
      "24426 86809\n"
     ]
    },
    {
     "name": "stderr",
     "output_type": "stream",
     "text": [
      "C:\\Users\\gentemann\\Miniconda3\\lib\\site-packages\\xarray\\core\\nanops.py:161: RuntimeWarning: Mean of empty slice\n",
      "  return np.nanmean(a, axis=axis, dtype=dtype)\n"
     ]
    },
    {
     "name": "stdout",
     "output_type": "stream",
     "text": [
      "24438 86809\n",
      "24446 86809\n",
      "24461 86809\n",
      "24472 86809\n",
      "24487 86809\n",
      "24494 86809\n",
      "24505 86809\n",
      "24513 86809\n",
      "24519 86809\n",
      "24525 86809\n",
      "24537 86809\n",
      "24548 86809\n",
      "24561 86809\n",
      "24577 86809\n",
      "24586 86809\n",
      "24595 86809\n",
      "24604 86809\n",
      "24613 86809\n",
      "24622 86809\n",
      "24632 86809\n",
      "24651 86809\n",
      "24660 86809\n",
      "24669 86809\n",
      "24688 86809\n",
      "24697 86809\n",
      "24706 86809\n",
      "24716 86809\n",
      "24735 86809\n",
      "24744 86809\n",
      "24763 86809\n",
      "24773 86809\n",
      "24782 86809\n",
      "24792 86809\n",
      "24801 86809\n",
      "24811 86809\n",
      "24827 86809\n",
      "24831 86809\n",
      "24841 86809\n",
      "24852 86809\n",
      "24875 86809\n",
      "24886 86809\n",
      "24897 86809\n",
      "24908 86809\n",
      "24919 86809\n",
      "24930 86809\n",
      "24935 86809\n",
      "24941 86809\n",
      "24952 86809\n",
      "24963 86809\n",
      "24974 86809\n",
      "24984 86809\n",
      "24995 86809\n",
      "25005 86809\n",
      "25015 86809\n",
      "25019 86809\n",
      "25025 86809\n",
      "25035 86809\n",
      "25045 86809\n",
      "25055 86809\n",
      "25066 86809\n",
      "25077 86809\n",
      "25087 86809\n",
      "25097 86809\n",
      "25107 86809\n",
      "25116 86809\n",
      "25126 86809\n",
      "25136 86809\n",
      "25157 86809\n",
      "25180 86809\n",
      "25197 86809\n",
      "25205 86809\n"
     ]
    },
    {
     "name": "stderr",
     "output_type": "stream",
     "text": [
      "C:\\Users\\gentemann\\Miniconda3\\lib\\site-packages\\xarray\\core\\nanops.py:161: RuntimeWarning: Mean of empty slice\n",
      "  return np.nanmean(a, axis=axis, dtype=dtype)\n"
     ]
    },
    {
     "name": "stdout",
     "output_type": "stream",
     "text": [
      "25223 86809\n",
      "25236 86809\n",
      "25250 86809\n",
      "25259 86809\n",
      "25264 86809\n",
      "25278 86809\n",
      "25287 86809\n",
      "25291 86809\n",
      "25304 86809\n",
      "25315 86809\n",
      "25316 86809\n",
      "25329 86809\n",
      "25341 86809\n"
     ]
    },
    {
     "name": "stderr",
     "output_type": "stream",
     "text": [
      "C:\\Users\\gentemann\\Miniconda3\\lib\\site-packages\\xarray\\core\\nanops.py:161: RuntimeWarning: Mean of empty slice\n",
      "  return np.nanmean(a, axis=axis, dtype=dtype)\n"
     ]
    },
    {
     "name": "stdout",
     "output_type": "stream",
     "text": [
      "25344 86809\n",
      "25355 86809\n",
      "25367 86809\n",
      "25372 86809\n",
      "25380 86809\n",
      "25392 86809\n",
      "25399 86809\n",
      "25405 86809\n",
      "25418 86809\n",
      "25428 86809\n",
      "25431 86809\n",
      "25444 86809\n",
      "25456 86809\n",
      "25457 86809\n"
     ]
    },
    {
     "name": "stderr",
     "output_type": "stream",
     "text": [
      "C:\\Users\\gentemann\\Miniconda3\\lib\\site-packages\\xarray\\core\\nanops.py:161: RuntimeWarning: Mean of empty slice\n",
      "  return np.nanmean(a, axis=axis, dtype=dtype)\n"
     ]
    },
    {
     "name": "stdout",
     "output_type": "stream",
     "text": [
      "25469 86809\n",
      "25485 86809\n",
      "25492 86809\n",
      "25504 86809\n",
      "25513 86809\n",
      "25516 86809\n",
      "25528 86809\n",
      "25540 86809\n",
      "25543 86809\n",
      "25565 86809\n",
      "25578 86809\n",
      "25591 86809\n",
      "25602 86809\n"
     ]
    },
    {
     "name": "stderr",
     "output_type": "stream",
     "text": [
      "C:\\Users\\gentemann\\Miniconda3\\lib\\site-packages\\xarray\\core\\nanops.py:161: RuntimeWarning: Mean of empty slice\n",
      "  return np.nanmean(a, axis=axis, dtype=dtype)\n"
     ]
    },
    {
     "name": "stdout",
     "output_type": "stream",
     "text": [
      "25615 86809\n",
      "25628 86809\n",
      "25637 86809\n",
      "25640 86809\n",
      "25665 86809\n",
      "25677 86809\n",
      "25689 86809\n",
      "25713 86809\n",
      "25725 86809\n",
      "25734 86809\n",
      "25738 86809\n",
      "25750 86809\n",
      "25762 86809\n"
     ]
    },
    {
     "name": "stderr",
     "output_type": "stream",
     "text": [
      "C:\\Users\\gentemann\\Miniconda3\\lib\\site-packages\\xarray\\core\\nanops.py:161: RuntimeWarning: Mean of empty slice\n",
      "  return np.nanmean(a, axis=axis, dtype=dtype)\n"
     ]
    },
    {
     "name": "stdout",
     "output_type": "stream",
     "text": [
      "25765 86809\n",
      "25785 86809\n",
      "25797 86809\n",
      "25808 86809\n",
      "25819 86809\n",
      "25830 86809\n",
      "25841 86809\n",
      "25852 86809\n",
      "25857 86809\n",
      "25874 86809\n",
      "25886 86809\n"
     ]
    },
    {
     "name": "stderr",
     "output_type": "stream",
     "text": [
      "C:\\Users\\gentemann\\Miniconda3\\lib\\site-packages\\xarray\\core\\nanops.py:161: RuntimeWarning: Mean of empty slice\n",
      "  return np.nanmean(a, axis=axis, dtype=dtype)\n"
     ]
    },
    {
     "name": "stdout",
     "output_type": "stream",
     "text": [
      "25887 86809\n",
      "25897 86809\n",
      "25909 86809\n",
      "25936 86809\n",
      "25950 86809\n",
      "25962 86809\n",
      "25963 86809\n",
      "25989 86809\n",
      "26034 86809\n",
      "26053 86809\n",
      "26056 86809\n",
      "26071 86809\n",
      "26075 86809\n",
      "26095 86809\n",
      "26110 86809\n",
      "26114 86809\n",
      "26131 86809\n",
      "26151 86809\n",
      "26170 86809\n",
      "26196 86809\n",
      "26214 86809\n",
      "26230 86809\n",
      "26244 86809\n",
      "26257 86809\n",
      "26264 86809\n",
      "26271 86809\n",
      "26285 86809\n",
      "26298 86809\n",
      "26300 86809\n",
      "26310 86809\n",
      "26323 86809\n",
      "26333 86809\n"
     ]
    },
    {
     "name": "stderr",
     "output_type": "stream",
     "text": [
      "C:\\Users\\gentemann\\Miniconda3\\lib\\site-packages\\xarray\\core\\nanops.py:161: RuntimeWarning: Mean of empty slice\n",
      "  return np.nanmean(a, axis=axis, dtype=dtype)\n"
     ]
    },
    {
     "name": "stdout",
     "output_type": "stream",
     "text": [
      "26336 86809\n",
      "26348 86809\n",
      "26359 86809\n",
      "26363 86809\n",
      "26372 86809\n",
      "26384 86809\n",
      "26395 86809\n",
      "26407 86809\n",
      "26418 86809\n",
      "26427 86809\n",
      "26429 86809\n",
      "26441 86809\n"
     ]
    },
    {
     "name": "stderr",
     "output_type": "stream",
     "text": [
      "C:\\Users\\gentemann\\Miniconda3\\lib\\site-packages\\xarray\\core\\nanops.py:161: RuntimeWarning: Mean of empty slice\n",
      "  return np.nanmean(a, axis=axis, dtype=dtype)\n"
     ]
    },
    {
     "name": "stdout",
     "output_type": "stream",
     "text": [
      "26454 86809\n",
      "26462 86809\n",
      "26466 86809\n",
      "26478 86809\n",
      "26491 86809\n",
      "26498 86809\n",
      "26504 86809\n",
      "26517 86809\n",
      "26529 86809\n",
      "26537 86809\n",
      "26542 86809\n",
      "26557 86809\n",
      "26571 86809\n",
      "26584 86809\n",
      "26586 86809\n",
      "26646 86809\n",
      "26661 86809\n",
      "26728 86809\n",
      "26799 86809\n",
      "26823 86809\n",
      "26859 86809\n",
      "26865 86809\n",
      "26871 86809\n",
      "26883 86809\n",
      "26906 86809\n",
      "26918 86809\n",
      "26924 86809\n",
      "26930 86809\n",
      "26941 86809\n",
      "26951 86809\n",
      "26962 86809\n",
      "26972 86809\n",
      "26979 86809\n",
      "26984 86809\n",
      "27005 86809\n",
      "27027 86809\n",
      "27034 86809\n",
      "27037 86809\n",
      "27059 86809\n",
      "27070 86809\n",
      "27081 86809\n",
      "27087 86809\n",
      "27093 86809\n",
      "27104 86809\n",
      "27116 86809\n",
      "27128 86809\n",
      "27140 86809\n",
      "27143 86809\n",
      "27164 86809\n",
      "27176 86809\n",
      "27189 86809\n",
      "27203 86809\n",
      "27206 86809\n",
      "27224 86809\n",
      "27246 86809\n",
      "27259 86809\n",
      "27273 86809\n",
      "27285 86809\n",
      "27288 86809\n",
      "27297 86809\n",
      "27309 86809\n",
      "27319 86809\n",
      "27331 86809\n",
      "27342 86809\n",
      "27348 86809\n",
      "27366 86809\n",
      "27403 86809\n",
      "27415 86809\n",
      "27416 86809\n",
      "27428 86809\n",
      "27442 86809\n",
      "27456 86809\n",
      "27468 86809\n",
      "27479 86809\n",
      "27511 86809\n",
      "27517 86809\n",
      "27531 86809\n",
      "27533 86809\n",
      "27548 86809\n",
      "27552 86809\n",
      "27573 86809\n",
      "27605 86809\n",
      "27633 86809\n",
      "27636 86809\n",
      "27646 86809\n",
      "27655 86809\n",
      "27669 86809\n",
      "27671 86809\n",
      "27690 86809\n",
      "27707 86809\n",
      "27712 86809\n",
      "27721 86809\n",
      "27765 86809\n",
      "27769 86809\n",
      "27796 86809\n",
      "27821 86809\n",
      "27849 86809\n",
      "27860 86809\n",
      "27877 86809\n",
      "27897 86809\n",
      "27898 86809\n",
      "27914 86809\n",
      "27938 86809\n"
     ]
    },
    {
     "name": "stderr",
     "output_type": "stream",
     "text": [
      "C:\\Users\\gentemann\\Miniconda3\\lib\\site-packages\\xarray\\core\\nanops.py:161: RuntimeWarning: Mean of empty slice\n",
      "  return np.nanmean(a, axis=axis, dtype=dtype)\n",
      "C:\\Users\\gentemann\\Miniconda3\\lib\\site-packages\\xarray\\core\\nanops.py:161: RuntimeWarning: Mean of empty slice\n",
      "  return np.nanmean(a, axis=axis, dtype=dtype)\n"
     ]
    },
    {
     "name": "stdout",
     "output_type": "stream",
     "text": [
      "27951 86809\n",
      "27956 86809\n",
      "27957 86809\n",
      "27976 86809\n",
      "27983 86809\n",
      "27996 86809\n",
      "28016 86809\n",
      "28021 86809\n",
      "28038 86809\n",
      "28046 86809\n",
      "28059 86809\n",
      "28064 86809\n",
      "28125 86809\n",
      "28137 86809\n",
      "28143 86809\n",
      "28149 86809\n",
      "28162 86809\n",
      "28176 86809\n",
      "28182 86809\n",
      "28189 86809\n",
      "28201 86809\n",
      "28215 86809\n",
      "28222 86809\n",
      "28229 86809\n",
      "28246 86809\n",
      "28269 86809\n",
      "28281 86809\n",
      "28322 86809\n",
      "28360 86809\n",
      "28400 86809\n",
      "28418 86809\n",
      "28435 86809\n",
      "28445 86809\n",
      "28460 86809\n",
      "28482 86809\n",
      "28502 86809\n",
      "28503 86809\n",
      "28521 86809\n",
      "28538 86809\n",
      "28548 86809\n",
      "28553 86809\n"
     ]
    },
    {
     "name": "stderr",
     "output_type": "stream",
     "text": [
      "C:\\Users\\gentemann\\Miniconda3\\lib\\site-packages\\xarray\\core\\nanops.py:161: RuntimeWarning: Mean of empty slice\n",
      "  return np.nanmean(a, axis=axis, dtype=dtype)\n"
     ]
    },
    {
     "name": "stdout",
     "output_type": "stream",
     "text": [
      "28569 86809\n",
      "28595 86809\n",
      "28600 86809\n",
      "28617 86809\n",
      "28634 86809\n",
      "28639 86809\n",
      "28649 86809\n",
      "28663 86809\n",
      "28669 86809\n",
      "28680 86809\n",
      "28699 86809\n",
      "28701 86809\n",
      "28713 86809\n",
      "28755 86809\n",
      "28882 86809\n",
      "28903 86809\n",
      "28913 86809\n",
      "28922 86809\n",
      "28940 86809\n",
      "28951 86809\n",
      "28959 86809\n",
      "28977 86809\n",
      "28993 86809\n",
      "29011 86809\n",
      "29027 86809\n",
      "29043 86809\n",
      "29045 86809\n",
      "29054 86809\n",
      "29065 86809\n",
      "29076 86809\n"
     ]
    },
    {
     "name": "stderr",
     "output_type": "stream",
     "text": [
      "C:\\Users\\gentemann\\Miniconda3\\lib\\site-packages\\xarray\\core\\nanops.py:161: RuntimeWarning: Mean of empty slice\n",
      "  return np.nanmean(a, axis=axis, dtype=dtype)\n"
     ]
    },
    {
     "name": "stdout",
     "output_type": "stream",
     "text": [
      "29086 86809\n",
      "29097 86809\n",
      "29099 86809\n",
      "29107 86809\n",
      "29118 86809\n",
      "29130 86809\n",
      "29144 86809\n",
      "29157 86809\n",
      "29172 86809\n",
      "29186 86809\n",
      "29201 86809\n",
      "29215 86809\n",
      "29228 86809\n",
      "29234 86809\n",
      "29240 86809\n",
      "29252 86809\n",
      "29277 86809\n",
      "29289 86809\n",
      "29300 86809\n",
      "29306 86809\n",
      "29312 86809\n",
      "29324 86809\n",
      "29336 86809\n",
      "29348 86809\n",
      "29359 86809\n",
      "29372 86809\n",
      "29384 86809\n",
      "29395 86809\n",
      "29402 86809\n",
      "29407 86809\n",
      "29420 86809\n",
      "29433 86809\n",
      "29446 86809\n",
      "29459 86809\n",
      "29485 86809\n",
      "29487 86809\n",
      "29499 86809\n",
      "29513 86809\n",
      "29528 86809\n",
      "29543 86809\n",
      "29557 86809\n",
      "29572 86809\n",
      "29613 86809\n",
      "29627 86809\n",
      "29641 86809\n",
      "29671 86809\n"
     ]
    },
    {
     "name": "stderr",
     "output_type": "stream",
     "text": [
      "C:\\Users\\gentemann\\Miniconda3\\lib\\site-packages\\xarray\\core\\nanops.py:161: RuntimeWarning: Mean of empty slice\n",
      "  return np.nanmean(a, axis=axis, dtype=dtype)\n"
     ]
    },
    {
     "name": "stdout",
     "output_type": "stream",
     "text": [
      "29674 86809\n",
      "29686 86809\n",
      "29701 86809\n",
      "29743 86809\n",
      "29758 86809\n",
      "29775 86809\n",
      "29790 86809\n",
      "29806 86809\n",
      "29821 86809\n",
      "29838 86809\n",
      "29854 86809\n",
      "29869 86809\n",
      "29885 86809\n",
      "29889 86809\n",
      "29904 86809\n",
      "29920 86809\n",
      "29936 86809\n",
      "29948 86809\n",
      "29960 86809\n",
      "29974 86809\n",
      "30018 86809\n",
      "30024 86809\n",
      "30040 86809\n",
      "30060 86809\n",
      "30088 86809\n",
      "30098 86809\n",
      "30108 86809\n",
      "30150 86809\n",
      "30170 86809\n",
      "30193 86809\n",
      "30219 86809\n",
      "30243 86809\n",
      "30251 86809\n",
      "30267 86809\n",
      "30288 86809\n",
      "30309 86809\n",
      "30318 86809\n",
      "30331 86809\n",
      "30355 86809\n",
      "30364 86809\n",
      "30380 86809\n",
      "30391 86809\n",
      "30410 86809\n",
      "30417 86809\n",
      "30440 86809\n",
      "30468 86809\n",
      "30510 86809\n",
      "30517 86809\n",
      "30562 86809\n",
      "30594 86809\n",
      "30622 86809\n",
      "30645 86809\n",
      "30665 86809\n",
      "30682 86809\n",
      "30699 86809\n",
      "30717 86809\n",
      "30733 86809\n",
      "30750 86809\n",
      "30782 86809\n",
      "30799 86809\n",
      "30809 86809\n",
      "30830 86809\n",
      "30845 86809\n",
      "30861 86809\n",
      "30877 86809\n",
      "30908 86809\n",
      "30923 86809\n",
      "30938 86809\n",
      "30955 86809\n",
      "30973 86809\n",
      "30992 86809\n",
      "31010 86809\n",
      "31011 86809\n",
      "31027 86809\n",
      "31042 86809\n",
      "31057 86809\n",
      "31074 86809\n",
      "31090 86809\n",
      "31108 86809\n",
      "31123 86809\n",
      "31138 86809\n",
      "31153 86809\n",
      "31200 86809\n",
      "31201 86809\n",
      "31216 86809\n",
      "31232 86809\n",
      "31247 86809\n",
      "31261 86809\n",
      "31276 86809\n",
      "31292 86809\n",
      "31307 86809\n",
      "31321 86809\n",
      "31336 86809\n",
      "31350 86809\n",
      "31364 86809\n",
      "31378 86809\n",
      "31392 86809\n",
      "31404 86809\n",
      "31419 86809\n",
      "31434 86809\n",
      "31447 86809\n",
      "31460 86809\n",
      "31474 86809\n",
      "31486 86809\n",
      "31498 86809\n",
      "31510 86809\n",
      "31521 86809\n",
      "31532 86809\n",
      "31543 86809\n",
      "31545 86809\n",
      "31554 86809\n",
      "31565 86809\n",
      "31576 86809\n",
      "31586 86809\n",
      "31596 86809\n"
     ]
    },
    {
     "name": "stderr",
     "output_type": "stream",
     "text": [
      "C:\\Users\\gentemann\\Miniconda3\\lib\\site-packages\\xarray\\core\\nanops.py:161: RuntimeWarning: Mean of empty slice\n",
      "  return np.nanmean(a, axis=axis, dtype=dtype)\n"
     ]
    },
    {
     "name": "stdout",
     "output_type": "stream",
     "text": [
      "31616 86809\n",
      "31626 86809\n",
      "31636 86809\n",
      "31645 86809\n",
      "31655 86809\n",
      "31661 86809\n",
      "31665 86809\n"
     ]
    },
    {
     "name": "stderr",
     "output_type": "stream",
     "text": [
      "C:\\Users\\gentemann\\Miniconda3\\lib\\site-packages\\xarray\\core\\nanops.py:161: RuntimeWarning: Mean of empty slice\n",
      "  return np.nanmean(a, axis=axis, dtype=dtype)\n"
     ]
    },
    {
     "name": "stdout",
     "output_type": "stream",
     "text": [
      "31674 86809\n",
      "31683 86809\n",
      "31692 86809\n",
      "31702 86809\n",
      "31711 86809\n",
      "31720 86809\n",
      "31729 86809\n",
      "31740 86809\n",
      "31751 86809\n",
      "31762 86809\n",
      "31773 86809\n",
      "31774 86809\n",
      "31784 86809\n",
      "31797 86809\n",
      "31816 86809\n",
      "31821 86809\n",
      "31827 86809\n",
      "31831 86809\n",
      "31836 86809\n",
      "31845 86809\n",
      "31854 86809\n",
      "31862 86809\n",
      "31872 86809\n",
      "31889 86809\n",
      "31890 86809\n",
      "31899 86809\n",
      "31908 86809\n",
      "31917 86809\n",
      "31927 86809\n",
      "31936 86809\n",
      "31944 86809\n"
     ]
    },
    {
     "name": "stderr",
     "output_type": "stream",
     "text": [
      "C:\\Users\\gentemann\\Miniconda3\\lib\\site-packages\\xarray\\core\\nanops.py:161: RuntimeWarning: Mean of empty slice\n",
      "  return np.nanmean(a, axis=axis, dtype=dtype)\n"
     ]
    },
    {
     "name": "stdout",
     "output_type": "stream",
     "text": [
      "31953 86809\n",
      "31971 86809\n",
      "31979 86809\n",
      "31989 86809\n",
      "31998 86809\n",
      "32007 86809\n",
      "32013 86809\n",
      "32016 86809\n",
      "32042 86809\n",
      "32051 86809\n",
      "32059 86809\n",
      "32060 86809\n",
      "32068 86809\n",
      "32085 86809\n",
      "32093 86809\n",
      "32102 86809\n",
      "32106 86809\n",
      "32126 86809\n",
      "32135 86809\n",
      "32143 86809\n"
     ]
    },
    {
     "name": "stderr",
     "output_type": "stream",
     "text": [
      "C:\\Users\\gentemann\\Miniconda3\\lib\\site-packages\\xarray\\core\\nanops.py:161: RuntimeWarning: Mean of empty slice\n",
      "  return np.nanmean(a, axis=axis, dtype=dtype)\n"
     ]
    },
    {
     "name": "stdout",
     "output_type": "stream",
     "text": [
      "32151 86809\n",
      "32159 86809\n",
      "32161 86809\n",
      "32168 86809\n",
      "32177 86809\n",
      "32187 86809\n",
      "32198 86809\n",
      "32201 86809\n",
      "32210 86809\n",
      "32232 86809\n",
      "32243 86809\n",
      "32255 86809\n",
      "32290 86809\n",
      "32302 86809\n",
      "32319 86809\n",
      "32327 86809\n",
      "32339 86809\n",
      "32350 86809\n",
      "32356 86809\n",
      "32362 86809\n",
      "32375 86809\n",
      "32386 86809\n",
      "32401 86809\n"
     ]
    },
    {
     "name": "stderr",
     "output_type": "stream",
     "text": [
      "C:\\Users\\gentemann\\Miniconda3\\lib\\site-packages\\xarray\\core\\nanops.py:161: RuntimeWarning: Mean of empty slice\n",
      "  return np.nanmean(a, axis=axis, dtype=dtype)\n"
     ]
    },
    {
     "name": "stdout",
     "output_type": "stream",
     "text": [
      "32436 86809\n",
      "32456 86809\n",
      "32464 86809\n",
      "32493 86809\n",
      "32520 86809\n",
      "32533 86809\n",
      "32547 86809\n",
      "32562 86809\n",
      "32578 86809\n",
      "32593 86809\n",
      "32614 86809\n",
      "32624 86809\n",
      "32636 86809\n",
      "32660 86809\n",
      "32666 86809\n",
      "32692 86809\n",
      "32707 86809\n",
      "32742 86809\n",
      "32760 86809\n",
      "32782 86809\n",
      "32805 86809\n",
      "32813 86809\n",
      "32845 86809\n",
      "32849 86809\n",
      "32860 86809\n",
      "32872 86809\n",
      "32883 86809\n",
      "32894 86809\n",
      "32906 86809\n",
      "32908 86809\n",
      "32917 86809\n",
      "32941 86809\n",
      "32953 86809\n",
      "32965 86809\n",
      "32978 86809\n"
     ]
    },
    {
     "name": "stderr",
     "output_type": "stream",
     "text": [
      "C:\\Users\\gentemann\\Miniconda3\\lib\\site-packages\\xarray\\core\\nanops.py:161: RuntimeWarning: Mean of empty slice\n",
      "  return np.nanmean(a, axis=axis, dtype=dtype)\n"
     ]
    },
    {
     "name": "stdout",
     "output_type": "stream",
     "text": [
      "32991 86809\n",
      "33002 86809\n",
      "33014 86809\n",
      "33054 86809\n",
      "33068 86809\n",
      "33146 86809\n",
      "33177 86809\n",
      "33186 86809\n",
      "33248 86809\n",
      "33271 86809\n",
      "33277 86809\n",
      "33278 86809\n",
      "33303 86809\n",
      "33327 86809\n",
      "33329 86809\n"
     ]
    },
    {
     "name": "stderr",
     "output_type": "stream",
     "text": [
      "C:\\Users\\gentemann\\Miniconda3\\lib\\site-packages\\xarray\\core\\nanops.py:161: RuntimeWarning: Mean of empty slice\n",
      "  return np.nanmean(a, axis=axis, dtype=dtype)\n",
      "C:\\Users\\gentemann\\Miniconda3\\lib\\site-packages\\xarray\\core\\nanops.py:161: RuntimeWarning: Mean of empty slice\n",
      "  return np.nanmean(a, axis=axis, dtype=dtype)\n"
     ]
    },
    {
     "name": "stdout",
     "output_type": "stream",
     "text": [
      "33353 86809\n",
      "33383 86809\n",
      "33396 86809\n",
      "33524 86809\n",
      "33538 86809\n",
      "33561 86809\n",
      "33564 86809\n",
      "33592 86809\n",
      "33593 86809\n"
     ]
    },
    {
     "name": "stderr",
     "output_type": "stream",
     "text": [
      "C:\\Users\\gentemann\\Miniconda3\\lib\\site-packages\\xarray\\core\\nanops.py:161: RuntimeWarning: Mean of empty slice\n",
      "  return np.nanmean(a, axis=axis, dtype=dtype)\n"
     ]
    },
    {
     "name": "stdout",
     "output_type": "stream",
     "text": [
      "33682 86809\n",
      "33705 86809\n",
      "33751 86809\n",
      "33775 86809\n",
      "33793 86809\n",
      "33799 86809\n",
      "33827 86809\n",
      "33854 86809\n",
      "33879 86809\n",
      "33892 86809\n",
      "33903 86809\n",
      "33925 86809\n",
      "33947 86809\n",
      "33968 86809\n",
      "33986 86809\n",
      "33990 86809\n",
      "34002 86809\n",
      "34019 86809\n",
      "34035 86809\n",
      "34051 86809\n"
     ]
    },
    {
     "name": "stderr",
     "output_type": "stream",
     "text": [
      "C:\\Users\\gentemann\\Miniconda3\\lib\\site-packages\\xarray\\core\\nanops.py:161: RuntimeWarning: Mean of empty slice\n",
      "  return np.nanmean(a, axis=axis, dtype=dtype)\n"
     ]
    },
    {
     "name": "stdout",
     "output_type": "stream",
     "text": [
      "34069 86809\n",
      "34085 86809\n",
      "34101 86809\n",
      "34119 86809\n",
      "34132 86809\n",
      "34137 86809\n",
      "34154 86809\n",
      "34172 86809\n",
      "34208 86809\n",
      "34244 86809\n",
      "34263 86809\n",
      "34283 86809\n",
      "34303 86809\n",
      "34322 86809\n",
      "34341 86809\n",
      "34361 86809\n",
      "34378 86809\n",
      "34395 86809\n",
      "34409 86809\n",
      "34413 86809\n",
      "34471 86809\n",
      "34488 86809\n",
      "34505 86809\n",
      "34518 86809\n",
      "34523 86809\n",
      "34540 86809\n",
      "34557 86809\n",
      "34574 86809\n",
      "34611 86809\n",
      "34625 86809\n",
      "34631 86809\n",
      "34650 86809\n",
      "34672 86809\n",
      "34686 86809\n",
      "34697 86809\n",
      "34711 86809\n",
      "34723 86809\n",
      "34761 86809\n",
      "34765 86809\n"
     ]
    },
    {
     "name": "stderr",
     "output_type": "stream",
     "text": [
      "C:\\Users\\gentemann\\Miniconda3\\lib\\site-packages\\xarray\\core\\nanops.py:161: RuntimeWarning: Mean of empty slice\n",
      "  return np.nanmean(a, axis=axis, dtype=dtype)\n"
     ]
    },
    {
     "name": "stdout",
     "output_type": "stream",
     "text": [
      "34822 86809\n",
      "34831 86809\n",
      "34898 86809\n",
      "34982 86809\n",
      "35109 86809\n",
      "35156 86809\n",
      "35220 86809\n",
      "35293 86809\n",
      "35312 86809\n",
      "35609 86809\n",
      "35645 86809\n",
      "35671 86809\n",
      "35676 86809\n",
      "35699 86809\n",
      "35722 86809\n",
      "35753 86809\n",
      "35794 86809\n",
      "35835 86809\n",
      "35854 86809\n",
      "36032 86809\n",
      "36042 86809\n",
      "36106 86809\n",
      "36115 86809\n",
      "36151 86809\n",
      "36164 86809\n",
      "36207 86809\n",
      "36210 86809\n"
     ]
    },
    {
     "name": "stderr",
     "output_type": "stream",
     "text": [
      "C:\\Users\\gentemann\\Miniconda3\\lib\\site-packages\\xarray\\core\\nanops.py:161: RuntimeWarning: Mean of empty slice\n",
      "  return np.nanmean(a, axis=axis, dtype=dtype)\n"
     ]
    },
    {
     "name": "stdout",
     "output_type": "stream",
     "text": [
      "36237 86809\n",
      "36269 86809\n",
      "36300 86809\n",
      "36315 86809\n",
      "36326 86809\n",
      "36350 86809\n",
      "36365 86809\n",
      "36386 86809\n",
      "36418 86809\n",
      "36421 86809\n",
      "36453 86809\n",
      "36481 86809\n",
      "36510 86809\n",
      "36511 86809\n",
      "36537 86809\n",
      "36563 86809\n",
      "36589 86809\n",
      "36590 86809\n",
      "36616 86809\n",
      "36639 86809\n",
      "36665 86809\n",
      "36675 86809\n",
      "36694 86809\n",
      "36763 86809\n",
      "36780 86809\n",
      "36846 86809\n",
      "36868 86809\n",
      "36916 86809\n",
      "37026 86809\n",
      "37061 86809\n",
      "37082 86809\n",
      "37137 86809\n",
      "37161 86809\n",
      "37184 86809\n",
      "37223 86809\n",
      "37249 86809\n",
      "37261 86809\n",
      "37294 86809\n",
      "37329 86809\n",
      "37341 86809\n",
      "37361 86809\n",
      "37390 86809\n",
      "37418 86809\n",
      "37445 86809\n",
      "37469 86809\n",
      "37493 86809\n",
      "37500 86809\n",
      "37516 86809\n",
      "37539 86809\n",
      "37561 86809\n",
      "37583 86809\n",
      "37591 86809\n",
      "37607 86809\n",
      "37665 86809\n",
      "37697 86809\n",
      "37705 86809\n",
      "37736 86809\n",
      "37742 86809\n",
      "37777 86809\n",
      "37815 86809\n",
      "37822 86809\n",
      "37855 86809\n",
      "37881 86809\n",
      "37901 86809\n",
      "37926 86809\n",
      "37953 86809\n",
      "37966 86809\n",
      "38002 86809\n",
      "38010 86809\n",
      "38045 86809\n",
      "38064 86809\n",
      "38102 86809\n",
      "38121 86809\n",
      "38161 86809\n",
      "38166 86809\n",
      "38208 86809\n",
      "38226 86809\n",
      "38251 86809\n",
      "38290 86809\n",
      "38293 86809\n",
      "38325 86809\n",
      "38359 86809\n",
      "38362 86809\n",
      "38394 86809\n",
      "38414 86809\n",
      "38429 86809\n",
      "38460 86809\n",
      "38497 86809\n",
      "38498 86809\n",
      "38530 86809\n",
      "38534 86809\n"
     ]
    },
    {
     "name": "stderr",
     "output_type": "stream",
     "text": [
      "C:\\Users\\gentemann\\Miniconda3\\lib\\site-packages\\xarray\\core\\nanops.py:161: RuntimeWarning: Mean of empty slice\n",
      "  return np.nanmean(a, axis=axis, dtype=dtype)\n"
     ]
    },
    {
     "name": "stdout",
     "output_type": "stream",
     "text": [
      "38567 86809\n",
      "38572 86809\n",
      "38600 86809\n",
      "38609 86809\n",
      "38626 86809\n",
      "38658 86809\n",
      "38663 86809\n",
      "38686 86809\n",
      "38736 86809\n",
      "38747 86809\n",
      "38861 86809\n",
      "38891 86809\n",
      "38999 86809\n",
      "39023 86809\n",
      "39031 86809\n",
      "39033 86809\n",
      "39048 86809\n",
      "39074 86809\n",
      "39086 86809\n",
      "39101 86809\n",
      "39128 86809\n",
      "39137 86809\n",
      "39156 86809\n",
      "39184 86809\n",
      "39189 86809\n",
      "39210 86809\n",
      "39231 86809\n",
      "39234 86809\n",
      "39258 86809\n",
      "39282 86809\n",
      "39392 86809\n",
      "39411 86809\n"
     ]
    },
    {
     "name": "stderr",
     "output_type": "stream",
     "text": [
      "C:\\Users\\gentemann\\Miniconda3\\lib\\site-packages\\xarray\\core\\nanops.py:161: RuntimeWarning: Mean of empty slice\n",
      "  return np.nanmean(a, axis=axis, dtype=dtype)\n"
     ]
    },
    {
     "name": "stdout",
     "output_type": "stream",
     "text": [
      "39432 86809\n",
      "39474 86809\n",
      "39496 86809\n",
      "39517 86809\n",
      "39537 86809\n",
      "39545 86809\n",
      "39559 86809\n",
      "39581 86809\n",
      "39606 86809\n",
      "39623 86809\n",
      "39629 86809\n",
      "39651 86809\n",
      "39674 86809\n",
      "39697 86809\n",
      "39702 86809\n",
      "39720 86809\n",
      "39742 86809\n",
      "39753 86809\n",
      "39785 86809\n",
      "39808 86809\n",
      "39830 86809\n",
      "39836 86809\n",
      "39850 86809\n",
      "39870 86809\n",
      "39872 86809\n",
      "39909 86809\n",
      "39949 86809\n",
      "39952 86809\n",
      "39969 86809\n",
      "39989 86809\n",
      "39996 86809\n",
      "40010 86809\n",
      "40030 86809\n",
      "40039 86809\n",
      "40051 86809\n",
      "40073 86809\n",
      "40088 86809\n",
      "40094 86809\n",
      "40116 86809\n",
      "40139 86809\n",
      "40142 86809\n",
      "40164 86809\n",
      "40195 86809\n",
      "40215 86809\n",
      "40241 86809\n",
      "40243 86809\n",
      "40264 86809\n",
      "40287 86809\n",
      "40291 86809\n"
     ]
    },
    {
     "name": "stderr",
     "output_type": "stream",
     "text": [
      "C:\\Users\\gentemann\\Miniconda3\\lib\\site-packages\\xarray\\core\\nanops.py:161: RuntimeWarning: Mean of empty slice\n",
      "  return np.nanmean(a, axis=axis, dtype=dtype)\n"
     ]
    },
    {
     "name": "stdout",
     "output_type": "stream",
     "text": [
      "40310 86809\n",
      "40335 86809\n",
      "40345 86809\n",
      "40361 86809\n",
      "40388 86809\n",
      "40394 86809\n",
      "40415 86809\n",
      "40442 86809\n",
      "40445 86809\n",
      "40471 86809\n"
     ]
    },
    {
     "name": "stderr",
     "output_type": "stream",
     "text": [
      "C:\\Users\\gentemann\\Miniconda3\\lib\\site-packages\\xarray\\core\\nanops.py:161: RuntimeWarning: Mean of empty slice\n",
      "  return np.nanmean(a, axis=axis, dtype=dtype)\n"
     ]
    },
    {
     "name": "stdout",
     "output_type": "stream",
     "text": [
      "40479 86809\n",
      "40493 86809\n",
      "40506 86809\n",
      "40530 86809\n",
      "40539 86809\n",
      "40555 86809\n",
      "40578 86809\n",
      "40580 86809\n",
      "40601 86809\n"
     ]
    },
    {
     "name": "stderr",
     "output_type": "stream",
     "text": [
      "C:\\Users\\gentemann\\Miniconda3\\lib\\site-packages\\xarray\\core\\nanops.py:161: RuntimeWarning: Mean of empty slice\n",
      "  return np.nanmean(a, axis=axis, dtype=dtype)\n",
      "C:\\Users\\gentemann\\Miniconda3\\lib\\site-packages\\xarray\\core\\nanops.py:161: RuntimeWarning: Mean of empty slice\n",
      "  return np.nanmean(a, axis=axis, dtype=dtype)\n"
     ]
    },
    {
     "name": "stdout",
     "output_type": "stream",
     "text": [
      "40623 86809\n",
      "40625 86809\n",
      "40649 86809\n",
      "40669 86809\n",
      "40681 86809\n",
      "40711 86809\n",
      "40716 86809\n",
      "40738 86809\n",
      "40760 86809\n",
      "40762 86809\n",
      "40781 86809\n",
      "40805 86809\n",
      "40806 86809\n",
      "40827 86809\n",
      "40843 86809\n",
      "40846 86809\n",
      "40883 86809\n",
      "40929 86809\n",
      "40983 86809\n",
      "41008 86809\n",
      "41025 86809\n",
      "41029 86809\n",
      "41067 86809\n",
      "41073 86809\n",
      "41118 86809\n",
      "41120 86809\n",
      "41139 86809\n",
      "41181 86809\n",
      "41185 86809\n"
     ]
    },
    {
     "name": "stderr",
     "output_type": "stream",
     "text": [
      "C:\\Users\\gentemann\\Miniconda3\\lib\\site-packages\\xarray\\core\\nanops.py:161: RuntimeWarning: Mean of empty slice\n",
      "  return np.nanmean(a, axis=axis, dtype=dtype)\n"
     ]
    },
    {
     "name": "stdout",
     "output_type": "stream",
     "text": [
      "41256 86809\n",
      "41426 86809\n",
      "41445 86809\n",
      "41628 86809\n",
      "41658 86809\n",
      "41661 86809\n",
      "41678 86809\n",
      "41694 86809\n",
      "41712 86809\n",
      "41728 86809\n",
      "41730 86809\n",
      "41746 86809\n",
      "41763 86809\n"
     ]
    },
    {
     "name": "stderr",
     "output_type": "stream",
     "text": [
      "C:\\Users\\gentemann\\Miniconda3\\lib\\site-packages\\xarray\\core\\nanops.py:161: RuntimeWarning: Mean of empty slice\n",
      "  return np.nanmean(a, axis=axis, dtype=dtype)\n"
     ]
    },
    {
     "name": "stdout",
     "output_type": "stream",
     "text": [
      "41780 86809\n",
      "41797 86809\n",
      "41804 86809\n",
      "41815 86809\n",
      "41833 86809\n",
      "41849 86809\n",
      "41866 86809\n",
      "41883 86809\n",
      "41899 86809\n",
      "41915 86809\n",
      "41932 86809\n",
      "41947 86809\n",
      "41964 86809\n",
      "41981 86809\n",
      "41998 86809\n",
      "42084 86809\n",
      "42141 86809\n",
      "42160 86809\n",
      "42178 86809\n",
      "42190 86809\n",
      "42261 86809\n",
      "42282 86809\n",
      "42301 86809\n",
      "42309 86809\n",
      "42319 86809\n",
      "42337 86809\n",
      "42352 86809\n",
      "42367 86809\n",
      "42385 86809\n",
      "42387 86809\n",
      "42404 86809\n",
      "42442 86809\n",
      "42460 86809\n",
      "42479 86809\n",
      "42499 86809\n",
      "42507 86809\n",
      "42520 86809\n",
      "42565 86809\n",
      "42678 86809\n",
      "42682 86809\n",
      "42693 86809\n",
      "42732 86809\n",
      "42756 86809\n",
      "42761 86809\n",
      "42817 86809\n",
      "42874 86809\n",
      "42892 86809\n",
      "42899 86809\n",
      "42910 86809\n",
      "42933 86809\n",
      "42955 86809\n",
      "42972 86809\n",
      "42978 86809\n",
      "43007 86809\n",
      "43035 86809\n",
      "43069 86809\n",
      "43103 86809\n",
      "43136 86809\n",
      "43140 86809\n",
      "43168 86809\n",
      "43197 86809\n"
     ]
    },
    {
     "name": "stderr",
     "output_type": "stream",
     "text": [
      "C:\\Users\\gentemann\\Miniconda3\\lib\\site-packages\\xarray\\core\\nanops.py:161: RuntimeWarning: Mean of empty slice\n",
      "  return np.nanmean(a, axis=axis, dtype=dtype)\n"
     ]
    },
    {
     "name": "stdout",
     "output_type": "stream",
     "text": [
      "43233 86809\n",
      "43257 86809\n",
      "43267 86809\n",
      "43340 86809\n",
      "43351 86809\n",
      "43375 86809\n",
      "43392 86809\n",
      "43447 86809\n",
      "43494 86809\n",
      "43523 86809\n",
      "43578 86809\n",
      "43599 86809\n",
      "43632 86809\n",
      "43686 86809\n",
      "43796 86809\n",
      "43851 86809\n",
      "43853 86809\n",
      "43904 86809\n"
     ]
    },
    {
     "name": "stderr",
     "output_type": "stream",
     "text": [
      "C:\\Users\\gentemann\\Miniconda3\\lib\\site-packages\\xarray\\core\\nanops.py:161: RuntimeWarning: Mean of empty slice\n",
      "  return np.nanmean(a, axis=axis, dtype=dtype)\n"
     ]
    },
    {
     "name": "stdout",
     "output_type": "stream",
     "text": [
      "43952 86809\n",
      "44046 86809\n",
      "44090 86809\n",
      "44142 86809\n",
      "44205 86809\n",
      "44227 86809\n",
      "44259 86809\n",
      "44329 86809\n",
      "44392 86809\n",
      "44493 86809\n",
      "44603 86809\n",
      "44647 86809\n",
      "44685 86809\n",
      "44742 86809\n",
      "44760 86809\n",
      "44791 86809\n",
      "44818 86809\n",
      "44832 86809\n",
      "44874 86809\n",
      "44918 86809\n",
      "44924 86809\n",
      "45017 86809\n",
      "45053 86809\n",
      "45125 86809\n",
      "45168 86809\n",
      "45217 86809\n",
      "45249 86809\n",
      "45261 86809\n",
      "45321 86809\n",
      "45381 86809\n",
      "45441 86809\n",
      "45507 86809\n",
      "45577 86809\n",
      "45594 86809\n",
      "45664 86809\n",
      "45716 86809\n",
      "45724 86809\n",
      "45768 86809\n",
      "45834 86809\n",
      "45836 86809\n",
      "45878 86809\n",
      "45922 86809\n",
      "45977 86809\n",
      "46022 86809\n",
      "46033 86809\n",
      "46101 86809\n",
      "46182 86809\n",
      "46231 86809\n",
      "46279 86809\n",
      "46314 86809\n",
      "46396 86809\n",
      "46400 86809\n",
      "46452 86809\n",
      "46496 86809\n",
      "46531 86809\n",
      "46639 86809\n",
      "46731 86809\n",
      "46780 86809\n",
      "46857 86809\n",
      "46886 86809\n",
      "46929 86809\n",
      "47031 86809\n",
      "47188 86809\n",
      "47231 86809\n",
      "47269 86809\n",
      "47297 86809\n",
      "47321 86809\n",
      "47348 86809\n",
      "47398 86809\n",
      "47423 86809\n",
      "47447 86809\n",
      "47497 86809\n",
      "47544 86809\n",
      "47568 86809\n",
      "47580 86809\n",
      "47593 86809\n",
      "47625 86809\n",
      "47655 86809\n",
      "47671 86809\n",
      "47683 86809\n",
      "47722 86809\n",
      "47763 86809\n",
      "47791 86809\n",
      "47799 86809\n",
      "47835 86809\n",
      "47876 86809\n",
      "47940 86809\n",
      "47967 86809\n",
      "48004 86809\n",
      "48040 86809\n",
      "48075 86809\n",
      "48117 86809\n",
      "48156 86809\n"
     ]
    },
    {
     "name": "stderr",
     "output_type": "stream",
     "text": [
      "C:\\Users\\gentemann\\Miniconda3\\lib\\site-packages\\xarray\\core\\nanops.py:161: RuntimeWarning: Mean of empty slice\n",
      "  return np.nanmean(a, axis=axis, dtype=dtype)\n"
     ]
    },
    {
     "name": "stdout",
     "output_type": "stream",
     "text": [
      "48189 86809\n",
      "48231 86809\n",
      "48254 86809\n"
     ]
    }
   ],
   "source": [
    "ilen,index = ds_collocated_nearest.dims['time'],0\n",
    "ds_tem = ds_collocated_nearest.copy(deep=True)\n",
    "duu, duv1, duv2, dlat, dlon, dut = [],[],[],[],[],np.empty((),dtype='datetime64')\n",
    "while index <= ilen-2:\n",
    "    index += 1\n",
    "    if np.isnan(ds_collocated_nearest.analysed_sst[index]):\n",
    "        continue\n",
    "    if np.isnan(ds_tem.analysed_sst[index]):\n",
    "        continue\n",
    "    print(index, ilen)\n",
    "    \n",
    "    ds_tem_subset = ds_tem.analysed_sst[index:index+1000]\n",
    "    ds_usv_subset2sst = ds_usv_subset.TEMP_CTD_MEAN[index:index+1000]\n",
    "    ds_usv_subset2uwnd = ds_usv_subset.UWND_MEAN[index:index+1000]\n",
    "    ds_usv_subset2vwnd = ds_usv_subset.VWND_MEAN[index:index+1000]\n",
    "    ds_usv_subset2lat = ds_usv_subset.lat[index:index+1000]\n",
    "    ds_usv_subset2lon = ds_usv_subset.lon[index:index+1000]\n",
    "    ds_usv_subset2time = ds_usv_subset.time[index:index+1000]\n",
    "    cond = ((ds_tem_subset==ds_collocated_nearest.analysed_sst[index]))\n",
    "    notcond = np.logical_not(cond)\n",
    "    #cond = ((ds_tem.analysed_sst==ds_collocated_nearest.analysed_sst[index]))\n",
    "    #notcond = np.logical_not(cond)\n",
    "    masked = ds_tem_subset.where(cond)\n",
    "    if masked.sum().data==0:  #don't do if data not found\n",
    "        continue\n",
    "    masked_usvsst = ds_usv_subset2sst.where(cond,drop=True)\n",
    "    masked_usvuwnd = ds_usv_subset2uwnd.where(cond,drop=True)\n",
    "    masked_usvvwnd = ds_usv_subset2vwnd.where(cond,drop=True)\n",
    "    masked_usvlat = ds_usv_subset2lat.where(cond,drop=True)\n",
    "    masked_usvlon = ds_usv_subset2lon.where(cond,drop=True)\n",
    "    masked_usvtime = ds_usv_subset2time.where(cond,drop=True)\n",
    "    duu=np.append(duu,masked_usvsst.mean().data)\n",
    "    duv1=np.append(duu,masked_usvuwnd.mean().data)\n",
    "    duv2=np.append(duu,masked_usvvwnd.mean().data)\n",
    "    dlat=np.append(dlat,masked_usvlat.mean().data)\n",
    "    dlon=np.append(dlon,masked_usvlon.mean().data)\n",
    "    tdif = masked_usvtime[-1].data-masked_usvtime[0].data\n",
    "    mtime=masked_usvtime[0].data+np.timedelta64(tdif/2,'ns')\n",
    "    dut=np.append(dut,mtime)\n",
    "    \n",
    "    ds_tem.analysed_sst[index:index+1000]=ds_tem.analysed_sst.where(notcond)\n",
    "#    ds_tem=ds_tem.where(notcond,np.nan)  #masked used values by setting to nan\n",
    "dut2 = dut[1:]  #remove first data point which is a repeat from what array defined    \n",
    "ds_new=xr.Dataset(data_vars={'sst_usv': ('time',duu),'uwnd_usv': ('time',duv1),'vwnd_usv': ('time',duv2),\n",
    "                             'lon': ('time',dlon),\n",
    "                             'lat': ('time',dlat)},\n",
    "                  coords={'time':dut2})\n",
    "ds_new.to_netcdf('F:/data/cruise_data/saildrone/baja-2018/mur_downsampled_usv_data2.nc')"
   ]
  },
  {
   "cell_type": "markdown",
   "metadata": {},
   "source": [
    "# redo the collocation\n",
    "Now, redo the collocation, using 'linear' interpolation using the averaged data.  This will interpolate the data temporally onto the USV sampling which has been averaged to the satellite data grid points"
   ]
  },
  {
   "cell_type": "code",
   "execution_count": 78,
   "metadata": {},
   "outputs": [
    {
     "data": {
      "text/plain": [
       "<xarray.Dataset>\n",
       "Dimensions:           (time: 7586)\n",
       "Coordinates:\n",
       "    lat               (time) float64 37.81 37.81 37.81 ... 37.79 37.78 37.78\n",
       "    lon               (time) float64 -122.5 -122.5 -122.5 ... -122.3 -122.3\n",
       "  * time              (time) datetime64[ns] 2018-04-11T18:53:30 ... 2018-06-10T23:55:00\n",
       "Data variables:\n",
       "    analysed_sst      (time) float64 286.3 286.3 286.3 ... 285.0 285.0 285.0\n",
       "    analysis_error    (time) float64 0.3899 0.3886 0.3873 0.3865 ... 0.4 0.4 0.4\n",
       "    mask              (time) float64 1.0 1.0 1.0 1.0 1.0 ... 1.0 1.0 1.0 1.0\n",
       "    sea_ice_fraction  (time) float64 nan nan nan nan nan ... nan nan nan nan nan\n",
       "Attributes:\n",
       "    Conventions:                CF-1.5\n",
       "    title:                      Daily MUR SST, Final product\n",
       "    summary:                    A merged, multi-sensor L4 Foundation SST anal...\n",
       "    references:                 http://podaac.jpl.nasa.gov/Multi-scale_Ultra-...\n",
       "    institution:                Jet Propulsion Laboratory\n",
       "    history:                    created at nominal 4-day latency; replaced nr...\n",
       "    comment:                    MUR = \"Multi-scale Ultra-high Reolution\"\n",
       "    license:                    These data are available free of charge under...\n",
       "    id:                         MUR-JPL-L4-GLOB-v04.1\n",
       "    naming_authority:           org.ghrsst\n",
       "    product_version:            04.1\n",
       "    uuid:                       27665bc0-d5fc-11e1-9b23-0800200c9a66\n",
       "    gds_version_id:             2.0\n",
       "    netcdf_version_id:          4.1\n",
       "    date_created:               20180519T013315Z\n",
       "    start_time:                 20180411T090000Z\n",
       "    stop_time:                  20180411T090000Z\n",
       "    time_coverage_start:        20180410T210000Z\n",
       "    time_coverage_end:          20180411T210000Z\n",
       "    file_quality_level:         1\n",
       "    source:                     MODIS_T-JPL, MODIS_A-JPL, AMSR2-REMSS, AVHRR1...\n",
       "    platform:                   Terra, Aqua, GCOM-W, NOAA-19, MetOp-A, Buoys/...\n",
       "    sensor:                     MODIS, AMSR2, AVHRR, in-situ\n",
       "    Metadata_Conventions:       Unidata Observation Dataset v1.0\n",
       "    metadata_link:              http://podaac.jpl.nasa.gov/ws/metadata/datase...\n",
       "    keywords:                   Oceans > Ocean Temperature > Sea Surface Temp...\n",
       "    keywords_vocabulary:        NASA Global Change Master Directory (GCMD) Sc...\n",
       "    standard_name_vocabulary:   NetCDF Climate and Forecast (CF) Metadata Con...\n",
       "    southernmost_latitude:      -90.0\n",
       "    northernmost_latitude:      90.0\n",
       "    westernmost_longitude:      -180.0\n",
       "    easternmost_longitude:      180.0\n",
       "    spatial_resolution:         0.01 degrees\n",
       "    geospatial_lat_units:       degrees north\n",
       "    geospatial_lat_resolution:  0.01 degrees\n",
       "    geospatial_lon_units:       degrees east\n",
       "    geospatial_lon_resolution:  0.01 degrees\n",
       "    acknowledgment:             Please acknowledge the use of these data with...\n",
       "    creator_name:               JPL MUR SST project\n",
       "    creator_email:              ghrsst@podaac.jpl.nasa.gov\n",
       "    creator_url:                http://mur.jpl.nasa.gov\n",
       "    project:                    NASA Making Earth Science Data Records for Us...\n",
       "    publisher_name:             GHRSST Project Office\n",
       "    publisher_url:              http://www.ghrsst.org\n",
       "    publisher_email:            ghrsst-po@nceo.ac.uk\n",
       "    processing_level:           L4\n",
       "    cdm_data_type:              grid"
      ]
     },
     "execution_count": 78,
     "metadata": {},
     "output_type": "execute_result"
    }
   ],
   "source": [
    "ds_collocated_averaged = subset.interp(lat=ds_new.lat,lon=ds_new.lon,time=ds_new.time,method='linear')\n",
    "ds_collocated_averaged"
   ]
  },
  {
   "cell_type": "code",
   "execution_count": 79,
   "metadata": {},
   "outputs": [],
   "source": [
    "ds_collocated_averaged.to_netcdf('F:/data/cruise_data/saildrone/baja-2018/mur_downsampled_collocated_usv_data.nc')\n"
   ]
  },
  {
   "cell_type": "code",
   "execution_count": 95,
   "metadata": {},
   "outputs": [
    {
     "name": "stdout",
     "output_type": "stream",
     "text": [
      "mean,std dif  [array(0.31406652), array(0.4278085), 7567]\n"
     ]
    }
   ],
   "source": [
    "sat_sst = ds_collocated_averaged.analysed_sst[:-19]-273.15\n",
    "usv_sst = ds_new.sst_usv[:-19]\n",
    "ds_new['spd']=np.sqrt(ds_new.uwnd**2+ds_new.vwnd**2)\n",
    "dif_sst = sat_sst - usv_sst\n",
    "print('mean,std dif ',[dif_sst.mean().data,dif_sst.std().data,dif_sst.shape[0]])\n",
    "\n",
    "sat_sst = ds_collocated_averaged.analysed_sst[:-19]-273.15\n",
    "usv_sst = ds_new.sst_usv[:-19]\n",
    "dif_sst = sat_sst - usv_sst\n",
    "dif_sst = dif_sst.where(ds_new.spd>2)\n",
    "print('no low wind mean,std dif ',[dif_sst.mean().data,dif_sst.std().data,dif_sst.shape[0]])\n",
    "\n"
   ]
  },
  {
   "cell_type": "code",
   "execution_count": null,
   "metadata": {},
   "outputs": [],
   "source": [
    "##########end"
   ]
  },
  {
   "cell_type": "code",
   "execution_count": 96,
   "metadata": {},
   "outputs": [
    {
     "data": {
      "image/png": "[encoded data removed]",
      "text/plain": [
       "<Figure size 360x288 with 1 Axes>"
      ]
     },
     "metadata": {
      "needs_background": "light"
     },
     "output_type": "display_data"
    }
   ],
   "source": [
    "fig, ax = plt.subplots(figsize=(5,4))\n",
    "ax.plot(sat_sst,sat_sst-usv_sst,'.')\n",
    "ax.set_xlabel('USV wind speed (ms$^{-1}$)')\n",
    "ax.set_ylabel('USV - Sat wind direction (deg)')\n",
    "fig_fname='F:/data/cruise_data/saildrone/baja-2018/figs/sat_sst_both_bias.png'\n",
    "fig.savefig(fig_fname, transparent=False, format='png')\n"
   ]
  },
  {
   "cell_type": "code",
   "execution_count": 94,
   "metadata": {},
   "outputs": [
    {
     "data": {
      "text/plain": [
       "[<matplotlib.lines.Line2D at 0xc146320>]"
      ]
     },
     "execution_count": 94,
     "metadata": {},
     "output_type": "execute_result"
    },
    {
     "data": {
      "image/png": "[encoded data removed]",
      "text/plain": [
       "<Figure size 432x288 with 1 Axes>"
      ]
     },
     "metadata": {
      "needs_background": "light"
     },
     "output_type": "display_data"
    }
   ],
   "source": [
    "plt.plot(dif_sst[:-19],'.')"
   ]
  },
  {
   "cell_type": "code",
   "execution_count": null,
   "metadata": {},
   "outputs": [],
   "source": [
    "#faster not sure why\n",
    "ilen,index = ds_collocated_nearest.dims['time'],0\n",
    "ds_tem = ds_collocated_nearest.copy(deep=True)\n",
    "duu,dvu, dlat, dlon, dut = [],[],[],[],np.empty((),dtype='datetime64')\n",
    "while index <= ilen-2:\n",
    "    index += 1\n",
    "    if np.isnan(ds_collocated_nearest.uwnd[index]):\n",
    "        continue\n",
    "    test = ds_collocated_nearest.where((ds_tem.uwnd==ds_collocated_nearest.uwnd[index])&(ds_tem.vwnd==ds_collocated_nearest.vwnd[index]))\n",
    "    test = test/test\n",
    "    if test.uwnd.sum()>0:\n",
    "        duu=np.append(duu,(ds_usv_subset.UWND_MEAN*test.uwnd).mean().data)\n",
    "        dvu=np.append(dvu,(ds_usv_subset.VWND_MEAN*test.vwnd).mean().data)\n",
    "        dlat=np.append(dlat,(ds_usv_subset.lat*test.lat).mean().data)\n",
    "        dlon=np.append(dlon,(ds_usv_subset.lon*test.lon).mean().data)\n",
    "        tdif = ds_usv_subset.time.where(test.vwnd==1).max().data-ds_usv_subset.time.where(test.vwnd==1).min().data\n",
    "        mtime=ds_usv_subset.time.where(test.vwnd==1).min().data+np.timedelta64(tdif/2,'ns')\n",
    "        dut=np.append(dut,mtime)\n",
    "        ds_tem=ds_tem.where(np.isnan(test),np.nan)  #you have used values, so set to nan\n",
    "dut2 = dut[1:]  #remove first data point which is a repeat from what array defined    \n",
    "ds_new2=xr.Dataset(data_vars={'u_usv': ('time',duu),\n",
    "                             'v_usv': ('time',dvu),\n",
    "                             'lon': ('time',dlon),\n",
    "                             'lat': ('time',dlat)},\n",
    "                  coords={'time':dut2})\n"
   ]
  },
  {
   "cell_type": "code",
   "execution_count": null,
   "metadata": {},
   "outputs": [],
   "source": [
    "#testing code above\n",
    "ds_tem = ds_collocated_nearest.copy(deep=True)\n",
    "print(ds_collocated_nearest.uwnd[1055].data)\n",
    "print(ds_collocated_nearest.uwnd[1050:1150].data)\n",
    "test = ds_collocated_nearest.where((ds_collocated_nearest.uwnd==ds_collocated_nearest.uwnd[1055])&(ds_collocated_nearest.vwnd==ds_collocated_nearest.vwnd[1055]))\n",
    "test = test/test\n",
    "print(test.uwnd[1050:1150].data)\n",
    "ds_tem=ds_tem.where(np.isnan(test),np.nan)\n",
    "print(ds_tem.uwnd[1050:1150].data)\n",
    "print((ds_usv_subset.UWND_MEAN*test.uwnd).mean())\n",
    "print((ds_usv_subset.VWND_MEAN*test.vwnd).mean())\n"
   ]
  },
  {
   "cell_type": "code",
   "execution_count": null,
   "metadata": {},
   "outputs": [],
   "source": [
    "from scipy.interpolate import griddata\n",
    "# interpolate\n",
    "points = (ds_usv_subset.lon.data,ds_usv_subset.lat.data)\n",
    "grid_in_lon,grid_in_lat = np.meshgrid(subset.lon.data,subset.lat.data)\n",
    "grid_in = (grid_in_lon,grid_in_lat)\n",
    "values = ds_usv_subset.UWND_MEAN.data\n",
    "#print(points.size)\n",
    "zi = griddata(points,values,grid_in,method='linear',fill_value=np.nan)\n",
    "zi2 = griddata(points,values/values,grid_in,method='linear',fill_value=np.nan)\n",
    "print(np.isfinite(zi).sum())"
   ]
  },
  {
   "cell_type": "code",
   "execution_count": null,
   "metadata": {},
   "outputs": [],
   "source": [
    "plt.pcolormesh(subset.lon,subset.lat,zi,vmin=-5,vmax=5)\n",
    "plt.plot(ds_usv_subset.lon,ds_usv_subset.lat,'.')\n",
    "#plt.contourf(subset.uwnd[0,:,:])"
   ]
  },
  {
   "cell_type": "code",
   "execution_count": null,
   "metadata": {},
   "outputs": [],
   "source": [
    "len(points[0])"
   ]
  },
  {
   "cell_type": "code",
   "execution_count": null,
   "metadata": {},
   "outputs": [],
   "source": [
    "from scipy.interpolate.interpnd import _ndim_coords_from_arrays\n",
    "from scipy.spatial import cKDTree\n",
    "\n",
    "THRESHOLD=1\n",
    "# Construct kd-tree, functionality copied from scipy.interpolate\n",
    "tree = cKDTree(points)\n",
    "xi = _ndim_coords_from_arrays(grid_in, ndim=len(points[0]))\n",
    "dists, indexes = tree.query(xi)\n",
    "\n",
    "# Copy original result but mask missing values with NaNs\n",
    "result3 = result2[:]\n",
    "result3[dists > THRESHOLD] = np.nan\n",
    "\n",
    "# Show\n",
    "plt.figimage(result3)\n",
    "plt.show()"
   ]
  },
  {
   "cell_type": "code",
   "execution_count": null,
   "metadata": {},
   "outputs": [],
   "source": [
    "#testing\n",
    "index=300\n",
    "ds_tem = ds_collocated_nearest.copy(deep=True)\n",
    "cond = ((ds_tem.uwnd==ds_collocated_nearest.uwnd[index]) & (ds_tem.vwnd==ds_collocated_nearest.vwnd[index]))\n",
    "notcond = ((ds_tem.uwnd!=ds_collocated_nearest.uwnd[index]) & (ds_tem.vwnd!=ds_collocated_nearest.vwnd[index]))\n",
    "masked = ds_tem.where(cond)\n",
    "masked_usv = ds_usv_subset.where(cond,drop=True)\n",
    "print(masked.uwnd.sum().data)\n",
    "#print(masked.nobs[290:310].data)\n",
    "print((masked_usv.UWND_MEAN).mean().data)\n",
    "print(ds_tem.uwnd[243:316])\n",
    "ds_tem=ds_tem.where(notcond,np.nan)  #you have used values, so set to nan\n",
    "print(ds_tem.uwnd[243:316])\n"
   ]
  },
  {
   "cell_type": "code",
   "execution_count": null,
   "metadata": {},
   "outputs": [],
   "source": [
    "ilen,index = ds_collocated_nearest.dims['time'],0\n",
    "ds_tem = ds_collocated_nearest.copy(deep=True)\n",
    "duu, duv1, duv2, dlat, dlon, dut = [],[],[],[],[],np.empty((),dtype='datetime64')\n",
    "while index <= ilen-2:\n",
    "    index += 1\n",
    "    if np.isnan(ds_collocated_nearest.analysed_sst[index]):\n",
    "        continue\n",
    "    if np.isnan(ds_tem.analysed_sst[index]):\n",
    "        continue\n",
    "    print(index, ilen)\n",
    "    cond = ((ds_tem.analysed_sst==ds_collocated_nearest.analysed_sst[index]) \n",
    "            & (ds_tem.time.dt.day==ds_collocated_nearest.time.dt.day[index])\n",
    "            & (ds_tem.time.dt.hour==ds_collocated_nearest.time.dt.hour[index]))\n",
    "    notcond = np.logical_not(cond)\n",
    "    masked = ds_tem.where(cond)\n",
    "    masked_usv = ds_usv_subset.where(cond,drop=True)\n",
    "    if masked.analysed_sst.sum().data==0:  #don't do if data not found\n",
    "        continue\n",
    "    duu=np.append(duu,masked_usv.TEMP_CTD_MEAN.mean().data)\n",
    "    duv1=np.append(duu,masked_usv.UWND_MEAN.mean().data)\n",
    "    duv2=np.append(duu,masked_usv.VWND_MEAN.mean().data)\n",
    "    dlat=np.append(dlat,masked_usv.lat.mean().data)\n",
    "    dlon=np.append(dlon,masked_usv.lon.mean().data)\n",
    "    tdif = masked_usv.time[-1].data-masked_usv.time[0].data\n",
    "    mtime=masked_usv.time[0].data+np.timedelta64(tdif/2,'ns')\n",
    "    dut=np.append(dut,mtime)\n",
    "    ds_tem=ds_tem.where(notcond,np.nan)  #masked used values by setting to nan\n",
    "dut2 = dut[1:]  #remove first data point which is a repeat from what array defined    \n",
    "ds_new=xr.Dataset(data_vars={'sst_usv': ('time',duu),'uwnd_usv': ('time',duv1),'vwnd_usv': ('time',duv2),\n",
    "                             'lon': ('time',dlon),\n",
    "                             'lat': ('time',dlat)},\n",
    "                  coords={'time':dut2})\n",
    "ds_new.to_netcdf('F:/data/cruise_data/saildrone/baja-2018/mur_downsampled_usv_data.nc')"
   ]
  }
 ],
 "metadata": {
  "kernelspec": {
   "display_name": "Python 3",
   "language": "python",
   "name": "python3"
  },
  "language_info": {
   "codemirror_mode": {
    "name": "ipython",
    "version": 3
   },
   "file_extension": ".py",
   "mimetype": "text/x-python",
   "name": "python",
   "nbconvert_exporter": "python",
   "pygments_lexer": "ipython3",
   "version": "3.7.0"
  }
 },
 "nbformat": 4,
 "nbformat_minor": 1
}
