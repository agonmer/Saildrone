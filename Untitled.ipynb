{
 "cells": [
  {
   "cell_type": "code",
   "execution_count": null,
   "metadata": {},
   "outputs": [],
   "source": [
    "dataset_tem2['TEMP_CTD_MEAN'] = dataset_tem['TEMP_CTD_MEAN'].astype(np.float32,copy=False)\n",
    "attrs = dataset.TEMP_CTD_MEAN.attrs.copy()\n",
    "dataset_tem2.TEMP_CTD_MEAN.attrs=attrs\n",
    "dataset_tem2['LAT'] = dataset_tem['LAT'].astype(np.float32,copy=False)\n",
    "attrs = dataset.LAT.attrs.copy()\n",
    "dataset_tem2.LAT.attrs=attrs\n",
    "dataset_tem2['LON'] = dataset_tem['LON'].astype(np.float32,copy=False)\n",
    "attrs = dataset.LON.attrs.copy()\n",
    "dataset_tem2.LON.attrs=attrs\n",
    "dataset_tem2['TEMP_CTD_MEAN'] = dataset_tem['TEMP_CTD_MEAN'].astype(np.float32,copy=False)\n",
    "attrs = dataset.TEMP_CTD_MEAN.attrs.copy()\n",
    "dataset_tem2.TEMP_CTD_MEAN.attrs=attrs\n",
    "dataset_tem2['COG'] = dataset_tem['COG'].astype(np.float32,copy=False)\n",
    "attrs = dataset.COG.attrs.copy()\n",
    "dataset_tem2.COG.attrs=attrs\n",
    "dataset_tem2['HDG'] = dataset_tem['HDG'].astype(np.float32,copy=False)\n",
    "attrs = dataset.HDG.attrs.copy()\n",
    "dataset_tem2.HDG.attrs=attrs\n",
    "dataset_tem2['ROLL'] = dataset_tem['ROLL'].astype(np.float32,copy=False)\n",
    "attrs = dataset.ROLL.attrs.copy()\n",
    "dataset_tem2.ROLL.attrs=attrs\n",
    "dataset_tem2['PITCH'] = dataset_tem['PITCH'].astype(np.float32,copy=False)\n",
    "attrs = dataset.PITCH.attrs.copy()\n",
    "dataset_tem2.PITCH.attrs=attrs\n",
    "dataset_tem2['SOG'] = dataset_tem['SOG'].astype(np.float32,copy=False)\n",
    "attrs = dataset.SOG.attrs.copy()\n",
    "dataset_tem2.SOG.attrs=attrs\n",
    "dataset_tem2['TEMP_CTD_STDDEV'] = dataset_tem['TEMP_CTD_STDDEV'].astype(np.float32,copy=False)\n",
    "attrs = dataset.TEMP_CTD_STDDEV.attrs.copy()\n",
    "dataset_tem2.TEMP_CTD_STDDEV.attrs=attrs\n",
    "dataset_tem2['wind_speed'] = dataset_tem['wind_speed'].astype(np.float32,copy=False)\n",
    "attrs = dataset.wind_speed.attrs.copy()\n",
    "dataset_tem2.wind_speed.attrs=attrs\n",
    "dataset_tem2['wind_direction'] = dataset_tem['wind_direction'].astype(np.float32,copy=False)\n",
    "attrs = dataset.wind_direction.attrs.copy()\n",
    "dataset_tem2.wind_direction.attrs=attrs\n",
    "dataset_tem2['TIME'] = dataset_tem['TIME'].astype(np.float32,copy=False)\n",
    "attrs = dataset.TIME.attrs.copy()\n",
    "dataset_tem2.TIME.attrs=attrs"
   ]
  }
 ],
 "metadata": {
  "kernelspec": {
   "display_name": "Python 3",
   "language": "python",
   "name": "python3"
  },
  "language_info": {
   "codemirror_mode": {
    "name": "ipython",
    "version": 3
   },
   "file_extension": ".py",
   "mimetype": "text/x-python",
   "name": "python",
   "nbconvert_exporter": "python",
   "pygments_lexer": "ipython3",
   "version": "3.5.5"
  }
 },
 "nbformat": 4,
 "nbformat_minor": 2
}
