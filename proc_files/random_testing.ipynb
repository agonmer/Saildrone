{
 "cells": [
  {
   "cell_type": "code",
   "execution_count": 3,
   "metadata": {},
   "outputs": [
    {
     "data": {
      "text/plain": [
       "<xarray.Dataset>\n",
       "Dimensions:                         (obs: 13708, trajectory: 1)\n",
       "Coordinates:\n",
       "  * trajectory                      (trajectory) int32 -2147483647\n",
       "Dimensions without coordinates: obs\n",
       "Data variables:\n",
       "    time                            (trajectory, obs) datetime64[ns] ...\n",
       "    lat                             (trajectory, obs) float32 ...\n",
       "    lon                             (trajectory, obs) float32 ...\n",
       "    power_batt_curr                 (trajectory, obs) float32 ...\n",
       "    atrh_at_filtered                (trajectory, obs) float32 ...\n",
       "    ctd_temperature_filtered        (trajectory, obs) float32 ...\n",
       "    do2_temperature_filtered        (trajectory, obs) float32 ...\n",
       "    ir_thermo_temperature_filtered  (trajectory, obs) float32 ...\n",
       "    par_air_filtered                (trajectory, obs) float32 ...\n",
       "    wind_direction_filtered         (trajectory, obs) float32 ...\n",
       "    wind_speed_filtered             (trajectory, obs) float32 ...\n",
       "Attributes:\n",
       "    Conventions:               CF-1.6\n",
       "    Metadata_Conventions:      Unidata Dataset Discovery v1.0\n",
       "    featureType:               trajectory\n",
       "    cdm_data_type:             Trajectory\n",
       "    nodc_template_version:     NODC_NetCDF_Trajectory_Template_v0.9\n",
       "    standard_name_vocabulary:  CF-1.6\n",
       "    geospatial_lat_min:        53.84345\n",
       "    geospatial_lat_max:        63.85474\n",
       "    geospatial_lat_units:      degrees_north\n",
       "    geospatial_lon_min:        -175.2981\n",
       "    geospatial_lon_max:        -163.9863\n",
       "    geospatial_lon_units:      degrees_east\n",
       "    time_coverage_start:       2015-04-23T02:10:00UTC\n",
       "    time_coverage_end:         2015-07-28T21:30:00UTC"
      ]
     },
     "execution_count": 3,
     "metadata": {},
     "output_type": "execute_result"
    }
   ],
   "source": [
    "import os\n",
    "import numpy as np\n",
    "import pandas as pd\n",
    "from datetime import datetime, timedelta\n",
    "import datetime as dt\n",
    "import xarray as xr\n",
    "from math import atan2, log\n",
    "\n",
    "filename='F:/data/cruise_data/saildrone/bering-2015-2016/sd-126_2015_bering_sea_sst_2015-04-21_to_2015-07-30_10min_intervals.nc'\n",
    "ds=xr.open_dataset(filename)\n",
    "ds\n"
   ]
  },
  {
   "cell_type": "code",
   "execution_count": null,
   "metadata": {},
   "outputs": [],
   "source": []
  }
 ],
 "metadata": {
  "kernelspec": {
   "display_name": "Python 3",
   "language": "python",
   "name": "python3"
  },
  "language_info": {
   "codemirror_mode": {
    "name": "ipython",
    "version": 3
   },
   "file_extension": ".py",
   "mimetype": "text/x-python",
   "name": "python",
   "nbconvert_exporter": "python",
   "pygments_lexer": "ipython3",
   "version": "3.5.5"
  }
 },
 "nbformat": 4,
 "nbformat_minor": 2
}
