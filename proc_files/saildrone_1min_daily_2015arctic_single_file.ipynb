{
 "cells": [
  {
   "cell_type": "code",
   "execution_count": 3,
   "metadata": {},
   "outputs": [],
   "source": [
    "import xarray as xr\n",
    "import numpy as np"
   ]
  },
  {
   "cell_type": "code",
   "execution_count": 5,
   "metadata": {},
   "outputs": [],
   "source": [
    "for lyr in range(2015,2017):\n",
    "    adir_usv = 'F:/data/cruise_data/saildrone/noaa_arctic/PMEL_'+str(lyr)+'/'\n",
    "    iusv_list = [126,128]\n",
    "    for iusv in iusv_list:\n",
    "        project_string = 'PMEL_Arctic_'+str(lyr)+str(iusv)    \n",
    "        filename = adir_usv + 'sd-'+str(iusv) + '/' + '*.nc'\n",
    "        fileout = adir_usv + 'PMEL_Arctic_'+str(lyr)+'_sd'+str(iusv)+'-ALL-1_min-v1.nc'\n",
    "        ds = xr.open_mfdataset(filename,combine='nested',concat_dim='obs')\n",
    "        ds.attrs['project']=project_string\n",
    "        for v in ds:\n",
    "            ds = ds.rename({v:v.upper()})\n",
    "        ds = ds.rename({'TIME':'time','LAT':'latitude','LON':'longitude','TRAJECTORY':'trajectory'})\n",
    "        ds['UWND_MEAN']=-ds.WIND_SPEED_MEAN*0.514444*np.sin(ds.WIND_DIRECTION_MEAN*np.pi/180.)\n",
    "        ds['VWND_MEAN']=-ds.WIND_SPEED_MEAN*0.514444*np.cos(ds.WIND_DIRECTION_MEAN*np.pi/180.)\n",
    "        ds.UWND_MEAN.attrs['units']='m s-1'\n",
    "        ds.VWND_MEAN.attrs['units']='m s-1'\n",
    "        ds = ds.rename({'SAL_MEAN':'SAL_CTD_MEAN'})\n",
    "    #    ds = xr.open_mfdataset(filename,coords='minimal', concat_dim='obs',combine='by_coords')\n",
    "    #    ds = ds.isel(trajectory=0).rename({'latitude':'lat','longitude':'lon'}).swap_dims({'obs':'time'})\n",
    "        ds.close()\n",
    "        ds.to_netcdf(fileout)\n"
   ]
  },
  {
   "cell_type": "code",
   "execution_count": null,
   "metadata": {},
   "outputs": [],
   "source": [
    "i=1058\n",
    "print(ds.UWND_MEAN[i].data,ds.VWND_MEAN[i].data,ds.WIND_SPEED_MEAN[i].data,ds.WIND_DIRECTION_MEAN[i].data)"
   ]
  },
  {
   "cell_type": "code",
   "execution_count": null,
   "metadata": {},
   "outputs": [],
   "source": [
    "iusv=126\n",
    "file = adir_usv + 'atomic_2020_sd'+str(iusv)+'-ALL-1_min-v1.nc'\n",
    "ds = xr.open_dataset(file)\n",
    "ds.close\n",
    "ds"
   ]
  },
  {
   "cell_type": "code",
   "execution_count": null,
   "metadata": {},
   "outputs": [],
   "source": []
  }
 ],
 "metadata": {
  "kernelspec": {
   "display_name": "Python 3",
   "language": "python",
   "name": "python3"
  },
  "language_info": {
   "codemirror_mode": {
    "name": "ipython",
    "version": 3
   },
   "file_extension": ".py",
   "mimetype": "text/x-python",
   "name": "python",
   "nbconvert_exporter": "python",
   "pygments_lexer": "ipython3",
   "version": "3.7.6"
  }
 },
 "nbformat": 4,
 "nbformat_minor": 2
}
