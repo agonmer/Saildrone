{
 "cells": [
  {
   "cell_type": "code",
   "execution_count": null,
   "metadata": {},
   "outputs": [],
   "source": [
    "import xarray as xr\n",
    "import numpy as np"
   ]
  },
  {
   "cell_type": "code",
   "execution_count": null,
   "metadata": {},
   "outputs": [],
   "source": [
    "adir_usv2 = 'C:/Users/gentemann/Google Drive/public/2019_saildrone/'\n",
    "adir_usv = 'F:/data/cruise_data/saildrone/noaa_arctic/west_coast/'\n",
    "iusv_list = np.arange(1024,1029)"
   ]
  },
  {
   "cell_type": "code",
   "execution_count": null,
   "metadata": {},
   "outputs": [],
   "source": [
    "iusv_list = np.arange(1025,1027) #1029)\n",
    "for iusv in iusv_list:\n",
    "    filename = adir_usv + str(iusv) + '/' + '*.nc'\n",
    "    fileout = adir_usv + 'wcoast_2018_sd'+str(iusv)+'-ALL-1_min-v1.nc'\n",
    "    fileout2 = adir_usv2 + 'wcoast_2018_sd'+str(iusv)+'-ALL-1_min-v1.nc'\n",
    "    ds = xr.open_mfdataset(filename,coords='minimal', concat_dim='obs')\n",
    "    ds = ds.isel(trajectory=0).rename({'latitude':'lat','longitude':'lon'}).swap_dims({'obs':'time'})\n",
    "    ds.close()\n",
    "    ds.to_netcdf(fileout)\n",
    "    ds.to_netcdf(fileout2)"
   ]
  },
  {
   "cell_type": "code",
   "execution_count": null,
   "metadata": {},
   "outputs": [],
   "source": [
    "iusv_list = np.arange(1024,1029)\n",
    "for iusv in iusv_list:\n",
    "    file = adir_usv2 + 'wcoast_2018_sd'+str(iusv)+'-ALL-1_min-v1.nc'\n",
    "#file = 'F:/data/cruise_data/saildrone/noaa_arctic/west_coast/1028/saildrone-gen_5-west_coast_survey_2018-sd1028-20180628T060000-20180628T115959-1_minutes-v2.1533753325983.nc'\n",
    "    ds = xr.open_dataset(file)\n",
    "    ds = ds.isel(trajectory=0).rename({'latitude':'lat','longitude':'lon'}).swap_dims({'obs':'time'})\n",
    "    ds"
   ]
  },
  {
   "cell_type": "code",
   "execution_count": null,
   "metadata": {},
   "outputs": [],
   "source": [
    "iusv_list = np.arange(1024,1029)\n",
    "for iusv in iusv_list:\n",
    "    filename = adir_usv2 + 'wcoast_2018_sd'+str(iusv)+'-ALL-1_min-v1.nc'\n",
    "    ds_usv = xr.open_dataset(filename)\n",
    "    subset = ds_usv.sel(time=slice('2018-07-01','2018-09-15'))\n",
    "    #ds_usv.time.plot()\n",
    "#ds_day = ds_usv.sel(time=slice(usv_day-np.timedelta64(1,'D'),usv_day+np.timedelta64(1,'D')))\n"
   ]
  },
  {
   "cell_type": "code",
   "execution_count": null,
   "metadata": {},
   "outputs": [],
   "source": [
    "iusv"
   ]
  },
  {
   "cell_type": "code",
   "execution_count": null,
   "metadata": {},
   "outputs": [],
   "source": [
    "ds_usv.time[0:-3]-ds_usv.time[0]"
   ]
  },
  {
   "cell_type": "code",
   "execution_count": null,
   "metadata": {},
   "outputs": [],
   "source": [
    "(ds_usv.time[0:158000]-ds_usv.time[1:158001]).plot()"
   ]
  },
  {
   "cell_type": "code",
   "execution_count": null,
   "metadata": {},
   "outputs": [],
   "source": [
    "print(ds_usv.time[158000:158100])"
   ]
  },
  {
   "cell_type": "code",
   "execution_count": null,
   "metadata": {},
   "outputs": [],
   "source": [
    "ds = xr.open_dataset('F:/data/cruise_data/saildrone/noaa_arctic/west_coast/1024/saildrone-gen_5-west_coast_survey_2018-sd1024-20181016T000000-20181016T015959-1_minutes-v2.1539657008060.nc')"
   ]
  },
  {
   "cell_type": "code",
   "execution_count": null,
   "metadata": {},
   "outputs": [],
   "source": [
    "ds.time"
   ]
  },
  {
   "cell_type": "code",
   "execution_count": null,
   "metadata": {},
   "outputs": [],
   "source": []
  }
 ],
 "metadata": {
  "kernelspec": {
   "display_name": "Python 3",
   "language": "python",
   "name": "python3"
  },
  "language_info": {
   "codemirror_mode": {
    "name": "ipython",
    "version": 3
   },
   "file_extension": ".py",
   "mimetype": "text/x-python",
   "name": "python",
   "nbconvert_exporter": "python",
   "pygments_lexer": "ipython3",
   "version": "3.7.3"
  }
 },
 "nbformat": 4,
 "nbformat_minor": 2
}
