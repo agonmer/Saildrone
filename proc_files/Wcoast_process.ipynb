{
 "cells": [
  {
   "cell_type": "code",
   "execution_count": 1,
   "metadata": {},
   "outputs": [],
   "source": [
    "import xarray as xr\n",
    "import numpy as np"
   ]
  },
  {
   "cell_type": "code",
   "execution_count": 2,
   "metadata": {},
   "outputs": [],
   "source": [
    "adir_usv2 = 'C:/Users/gentemann/Google Drive/public/2019_saildrone/'\n",
    "adir_usv = 'F:/data/cruise_data/saildrone/noaa_arctic/west_coast/'\n",
    "iusv_list = np.arange(1024,1029)"
   ]
  },
  {
   "cell_type": "code",
   "execution_count": null,
   "metadata": {},
   "outputs": [],
   "source": [
    "iusv_list = np.arange(1025,1027) #1029)\n",
    "for iusv in iusv_list:\n",
    "    filename = adir_usv + str(iusv) + '/' + '*.nc'\n",
    "    fileout = adir_usv + 'wcoast_2018_sd'+str(iusv)+'-ALL-1_min-v1.nc'\n",
    "    fileout2 = adir_usv2 + 'wcoast_2018_sd'+str(iusv)+'-ALL-1_min-v1.nc'\n",
    "    ds = xr.open_mfdataset(filename,coords='minimal', concat_dim='obs')\n",
    "    ds = ds.isel(trajectory=0).rename({'latitude':'lat','longitude':'lon'}).swap_dims({'obs':'time'})\n",
    "    ds.close()\n",
    "    ds.to_netcdf(fileout)\n",
    "    ds.to_netcdf(fileout2)"
   ]
  },
  {
   "cell_type": "code",
   "execution_count": 4,
   "metadata": {},
   "outputs": [],
   "source": [
    "iusv_list = np.arange(1024,1029)\n",
    "for iusv in iusv_list:\n",
    "    file = adir_usv2 + 'wcoast_2018_sd'+str(iusv)+'-ALL-1_min-v1.nc'\n",
    "#file = 'F:/data/cruise_data/saildrone/noaa_arctic/west_coast/1028/saildrone-gen_5-west_coast_survey_2018-sd1028-20180628T060000-20180628T115959-1_minutes-v2.1533753325983.nc'\n",
    "    ds = xr.open_dataset(file)\n",
    "   # ds = ds.isel(trajectory=0).rename({'latitude':'lat','longitude':'lon'}).swap_dims({'obs':'time'})\n",
    "    ds"
   ]
  },
  {
   "cell_type": "code",
   "execution_count": 49,
   "metadata": {},
   "outputs": [
    {
     "ename": "KeyError",
     "evalue": "\"cannot represent labeled-based slice indexer for dimension 'time' with a slice over integer positions; the index is unsorted or non-unique\"",
     "output_type": "error",
     "traceback": [
      "\u001b[1;31m---------------------------------------------------------------------------\u001b[0m",
      "\u001b[1;31mKeyError\u001b[0m                                  Traceback (most recent call last)",
      "\u001b[1;32m<ipython-input-49-d5c0bb853d01>\u001b[0m in \u001b[0;36m<module>\u001b[1;34m\u001b[0m\n\u001b[0;32m      3\u001b[0m     \u001b[0mfilename\u001b[0m \u001b[1;33m=\u001b[0m \u001b[0madir_usv2\u001b[0m \u001b[1;33m+\u001b[0m \u001b[1;34m'wcoast_2018_sd'\u001b[0m\u001b[1;33m+\u001b[0m\u001b[0mstr\u001b[0m\u001b[1;33m(\u001b[0m\u001b[0miusv\u001b[0m\u001b[1;33m)\u001b[0m\u001b[1;33m+\u001b[0m\u001b[1;34m'-ALL-1_min-v1.nc'\u001b[0m\u001b[1;33m\u001b[0m\u001b[1;33m\u001b[0m\u001b[0m\n\u001b[0;32m      4\u001b[0m     \u001b[0mds_usv\u001b[0m \u001b[1;33m=\u001b[0m \u001b[0mxr\u001b[0m\u001b[1;33m.\u001b[0m\u001b[0mopen_dataset\u001b[0m\u001b[1;33m(\u001b[0m\u001b[0mfilename\u001b[0m\u001b[1;33m)\u001b[0m\u001b[1;33m\u001b[0m\u001b[1;33m\u001b[0m\u001b[0m\n\u001b[1;32m----> 5\u001b[1;33m     \u001b[0msubset\u001b[0m \u001b[1;33m=\u001b[0m \u001b[0mds_usv\u001b[0m\u001b[1;33m.\u001b[0m\u001b[0msel\u001b[0m\u001b[1;33m(\u001b[0m\u001b[0mtime\u001b[0m\u001b[1;33m=\u001b[0m\u001b[0mslice\u001b[0m\u001b[1;33m(\u001b[0m\u001b[1;34m'2018-07-01'\u001b[0m\u001b[1;33m,\u001b[0m\u001b[1;34m'2018-09-15'\u001b[0m\u001b[1;33m)\u001b[0m\u001b[1;33m)\u001b[0m\u001b[1;33m\u001b[0m\u001b[1;33m\u001b[0m\u001b[0m\n\u001b[0m\u001b[0;32m      6\u001b[0m     \u001b[1;31m#ds_usv.time.plot()\u001b[0m\u001b[1;33m\u001b[0m\u001b[1;33m\u001b[0m\u001b[1;33m\u001b[0m\u001b[0m\n\u001b[0;32m      7\u001b[0m \u001b[1;31m#ds_day = ds_usv.sel(time=slice(usv_day-np.timedelta64(1,'D'),usv_day+np.timedelta64(1,'D')))\u001b[0m\u001b[1;33m\u001b[0m\u001b[1;33m\u001b[0m\u001b[1;33m\u001b[0m\u001b[0m\n",
      "\u001b[1;32m~\\Miniconda3\\envs\\satenv\\lib\\site-packages\\xarray\\core\\dataset.py\u001b[0m in \u001b[0;36msel\u001b[1;34m(self, indexers, method, tolerance, drop, **indexers_kwargs)\u001b[0m\n\u001b[0;32m   1729\u001b[0m         \u001b[0mindexers\u001b[0m \u001b[1;33m=\u001b[0m \u001b[0meither_dict_or_kwargs\u001b[0m\u001b[1;33m(\u001b[0m\u001b[0mindexers\u001b[0m\u001b[1;33m,\u001b[0m \u001b[0mindexers_kwargs\u001b[0m\u001b[1;33m,\u001b[0m \u001b[1;34m'sel'\u001b[0m\u001b[1;33m)\u001b[0m\u001b[1;33m\u001b[0m\u001b[1;33m\u001b[0m\u001b[0m\n\u001b[0;32m   1730\u001b[0m         pos_indexers, new_indexes = remap_label_indexers(\n\u001b[1;32m-> 1731\u001b[1;33m             self, indexers=indexers, method=method, tolerance=tolerance)\n\u001b[0m\u001b[0;32m   1732\u001b[0m         \u001b[0mresult\u001b[0m \u001b[1;33m=\u001b[0m \u001b[0mself\u001b[0m\u001b[1;33m.\u001b[0m\u001b[0misel\u001b[0m\u001b[1;33m(\u001b[0m\u001b[0mindexers\u001b[0m\u001b[1;33m=\u001b[0m\u001b[0mpos_indexers\u001b[0m\u001b[1;33m,\u001b[0m \u001b[0mdrop\u001b[0m\u001b[1;33m=\u001b[0m\u001b[0mdrop\u001b[0m\u001b[1;33m)\u001b[0m\u001b[1;33m\u001b[0m\u001b[1;33m\u001b[0m\u001b[0m\n\u001b[0;32m   1733\u001b[0m         \u001b[1;32mreturn\u001b[0m \u001b[0mresult\u001b[0m\u001b[1;33m.\u001b[0m\u001b[0m_overwrite_indexes\u001b[0m\u001b[1;33m(\u001b[0m\u001b[0mnew_indexes\u001b[0m\u001b[1;33m)\u001b[0m\u001b[1;33m\u001b[0m\u001b[1;33m\u001b[0m\u001b[0m\n",
      "\u001b[1;32m~\\Miniconda3\\envs\\satenv\\lib\\site-packages\\xarray\\core\\coordinates.py\u001b[0m in \u001b[0;36mremap_label_indexers\u001b[1;34m(obj, indexers, method, tolerance, **indexers_kwargs)\u001b[0m\n\u001b[0;32m    315\u001b[0m \u001b[1;33m\u001b[0m\u001b[0m\n\u001b[0;32m    316\u001b[0m     pos_indexers, new_indexes = indexing.remap_label_indexers(\n\u001b[1;32m--> 317\u001b[1;33m         \u001b[0mobj\u001b[0m\u001b[1;33m,\u001b[0m \u001b[0mv_indexers\u001b[0m\u001b[1;33m,\u001b[0m \u001b[0mmethod\u001b[0m\u001b[1;33m=\u001b[0m\u001b[0mmethod\u001b[0m\u001b[1;33m,\u001b[0m \u001b[0mtolerance\u001b[0m\u001b[1;33m=\u001b[0m\u001b[0mtolerance\u001b[0m\u001b[1;33m\u001b[0m\u001b[1;33m\u001b[0m\u001b[0m\n\u001b[0m\u001b[0;32m    318\u001b[0m     )\n\u001b[0;32m    319\u001b[0m     \u001b[1;31m# attach indexer's coordinate to pos_indexers\u001b[0m\u001b[1;33m\u001b[0m\u001b[1;33m\u001b[0m\u001b[1;33m\u001b[0m\u001b[0m\n",
      "\u001b[1;32m~\\Miniconda3\\envs\\satenv\\lib\\site-packages\\xarray\\core\\indexing.py\u001b[0m in \u001b[0;36mremap_label_indexers\u001b[1;34m(data_obj, indexers, method, tolerance)\u001b[0m\n\u001b[0;32m    250\u001b[0m         \u001b[1;32melse\u001b[0m\u001b[1;33m:\u001b[0m\u001b[1;33m\u001b[0m\u001b[1;33m\u001b[0m\u001b[0m\n\u001b[0;32m    251\u001b[0m             idxr, new_idx = convert_label_indexer(index, label,\n\u001b[1;32m--> 252\u001b[1;33m                                                   dim, method, tolerance)\n\u001b[0m\u001b[0;32m    253\u001b[0m             \u001b[0mpos_indexers\u001b[0m\u001b[1;33m[\u001b[0m\u001b[0mdim\u001b[0m\u001b[1;33m]\u001b[0m \u001b[1;33m=\u001b[0m \u001b[0midxr\u001b[0m\u001b[1;33m\u001b[0m\u001b[1;33m\u001b[0m\u001b[0m\n\u001b[0;32m    254\u001b[0m             \u001b[1;32mif\u001b[0m \u001b[0mnew_idx\u001b[0m \u001b[1;32mis\u001b[0m \u001b[1;32mnot\u001b[0m \u001b[1;32mNone\u001b[0m\u001b[1;33m:\u001b[0m\u001b[1;33m\u001b[0m\u001b[1;33m\u001b[0m\u001b[0m\n",
      "\u001b[1;32m~\\Miniconda3\\envs\\satenv\\lib\\site-packages\\xarray\\core\\indexing.py\u001b[0m in \u001b[0;36mconvert_label_indexer\u001b[1;34m(index, label, index_name, method, tolerance)\u001b[0m\n\u001b[0;32m    141\u001b[0m             raise KeyError('cannot represent labeled-based slice indexer for '\n\u001b[0;32m    142\u001b[0m                            \u001b[1;34m'dimension %r with a slice over integer positions; '\u001b[0m\u001b[1;33m\u001b[0m\u001b[1;33m\u001b[0m\u001b[0m\n\u001b[1;32m--> 143\u001b[1;33m                            'the index is unsorted or non-unique' % index_name)\n\u001b[0m\u001b[0;32m    144\u001b[0m \u001b[1;33m\u001b[0m\u001b[0m\n\u001b[0;32m    145\u001b[0m     \u001b[1;32melif\u001b[0m \u001b[0mis_dict_like\u001b[0m\u001b[1;33m(\u001b[0m\u001b[0mlabel\u001b[0m\u001b[1;33m)\u001b[0m\u001b[1;33m:\u001b[0m\u001b[1;33m\u001b[0m\u001b[1;33m\u001b[0m\u001b[0m\n",
      "\u001b[1;31mKeyError\u001b[0m: \"cannot represent labeled-based slice indexer for dimension 'time' with a slice over integer positions; the index is unsorted or non-unique\""
     ]
    }
   ],
   "source": [
    "iusv_list = np.arange(1024,1029)\n",
    "for iusv in iusv_list:\n",
    "    filename = adir_usv2 + 'wcoast_2018_sd'+str(iusv)+'-ALL-1_min-v1.nc'\n",
    "    ds_usv = xr.open_dataset(filename)\n",
    "    subset = ds_usv.sel(time=slice('2018-07-01','2018-09-15'))\n",
    "    #ds_usv.time.plot()\n",
    "#ds_day = ds_usv.sel(time=slice(usv_day-np.timedelta64(1,'D'),usv_day+np.timedelta64(1,'D')))\n"
   ]
  },
  {
   "cell_type": "code",
   "execution_count": 75,
   "metadata": {},
   "outputs": [
    {
     "data": {
      "text/plain": [
       "1025"
      ]
     },
     "execution_count": 75,
     "metadata": {},
     "output_type": "execute_result"
    }
   ],
   "source": [
    "iusv"
   ]
  },
  {
   "cell_type": "code",
   "execution_count": 27,
   "metadata": {},
   "outputs": [
    {
     "data": {
      "text/plain": [
       "<xarray.DataArray 'time' (time: 177942)>\n",
       "array([                0,       60000000000,      120000000000, ...,\n",
       "       11498040000000000, 11498100000000000, 11498160000000000],\n",
       "      dtype='timedelta64[ns]')\n",
       "Coordinates:\n",
       "    trajectory  float32 1024.0\n",
       "  * time        (time) datetime64[ns] 2018-07-17T18:00:00 ... 2018-11-27T19:56:00"
      ]
     },
     "execution_count": 27,
     "metadata": {},
     "output_type": "execute_result"
    }
   ],
   "source": [
    "ds_usv.time[0:-3]-ds_usv.time[0]"
   ]
  },
  {
   "cell_type": "code",
   "execution_count": 69,
   "metadata": {},
   "outputs": [
    {
     "data": {
      "text/plain": [
       "[<matplotlib.lines.Line2D at 0x2683819bfd0>]"
      ]
     },
     "execution_count": 69,
     "metadata": {},
     "output_type": "execute_result"
    },
    {
     "data": {
      "image/png": "[encoded data removed]",
      "text/plain": [
       "<Figure size 432x288 with 1 Axes>"
      ]
     },
     "metadata": {
      "needs_background": "light"
     },
     "output_type": "display_data"
    }
   ],
   "source": [
    "(ds_usv.time[0:158000]-ds_usv.time[1:158001]).plot()"
   ]
  },
  {
   "cell_type": "code",
   "execution_count": 71,
   "metadata": {},
   "outputs": [
    {
     "name": "stdout",
     "output_type": "stream",
     "text": [
      "<xarray.DataArray 'time' (time: 100)>\n",
      "array(['2018-10-15T21:36:00.000000000', '2018-10-15T21:37:00.000000000',\n",
      "       '2018-10-15T21:38:00.000000000', '2018-10-15T21:39:00.000000000',\n",
      "       '2018-10-15T21:40:00.000000000', '2018-10-15T21:41:00.000000000',\n",
      "       '2018-10-15T21:42:00.000000000', '2018-10-15T21:43:00.000000000',\n",
      "       '2018-10-15T21:44:00.000000000', '2018-10-15T21:45:00.000000000',\n",
      "       '2018-10-15T21:46:00.000000000', '2018-10-15T21:47:00.000000000',\n",
      "       '2018-10-15T21:48:00.000000000', '2018-10-15T21:49:00.000000000',\n",
      "       '2018-10-15T21:50:00.000000000', '2018-10-15T21:51:00.000000000',\n",
      "       '2018-10-15T21:52:00.000000000', '2018-10-15T21:53:00.000000000',\n",
      "       '2018-10-15T21:54:00.000000000', '2018-10-15T21:55:00.000000000',\n",
      "       '2018-10-15T21:56:00.000000000', '2018-10-15T21:57:00.000000000',\n",
      "       '2018-10-15T21:58:00.000000000', '2018-10-15T21:59:00.000000000',\n",
      "       '2018-10-16T00:01:00.000000000', '2018-10-16T00:06:00.000000000',\n",
      "       '2018-10-16T00:11:00.000000000', '2018-10-16T00:21:00.000000000',\n",
      "       '2018-10-16T00:31:00.000000000', '2018-10-16T00:36:00.000000000',\n",
      "       '2018-10-16T00:41:00.000000000', '2018-10-16T00:51:00.000000000',\n",
      "       '2018-10-16T01:00:00.000000000', '2018-10-16T01:01:00.000000000',\n",
      "       '2018-10-16T01:02:00.000000000', '2018-10-16T01:03:00.000000000',\n",
      "       '2018-10-16T01:04:00.000000000', '2018-10-16T01:05:00.000000000',\n",
      "       '2018-10-16T01:06:00.000000000', '2018-10-16T01:07:00.000000000',\n",
      "       '2018-10-16T01:08:00.000000000', '2018-10-16T01:09:00.000000000',\n",
      "       '2018-10-16T01:10:00.000000000', '2018-10-16T01:11:00.000000000',\n",
      "       '2018-10-16T01:12:00.000000000', '2018-10-16T01:13:00.000000000',\n",
      "       '2018-10-16T01:14:00.000000000', '2018-10-16T01:15:00.000000000',\n",
      "       '2018-10-16T01:16:00.000000000', '2018-10-16T01:17:00.000000000',\n",
      "       '2018-10-16T01:18:00.000000000', '2018-10-16T01:19:00.000000000',\n",
      "       '2018-10-16T01:20:00.000000000', '2018-10-16T01:21:00.000000000',\n",
      "       '2018-10-16T01:22:00.000000000', '2018-10-16T01:23:00.000000000',\n",
      "       '2018-10-16T01:24:00.000000000', '2018-10-16T01:25:00.000000000',\n",
      "       '2018-10-16T01:26:00.000000000', '2018-10-16T01:27:00.000000000',\n",
      "       '2018-10-16T01:28:00.000000000', '2018-10-16T01:29:00.000000000',\n",
      "       '2018-10-16T01:30:00.000000000', '2018-10-16T01:31:00.000000000',\n",
      "       '2018-10-16T01:32:00.000000000', '2018-10-16T01:33:00.000000000',\n",
      "       '2018-10-16T01:34:00.000000000', '2018-10-16T01:35:00.000000000',\n",
      "       '2018-10-16T01:36:00.000000000', '2018-10-16T01:37:00.000000000',\n",
      "       '2018-10-16T01:38:00.000000000', '2018-10-16T01:39:00.000000000',\n",
      "       '2018-10-16T01:40:00.000000000', '2018-10-16T01:41:00.000000000',\n",
      "       '2018-10-16T01:42:00.000000000', '2018-10-16T01:43:00.000000000',\n",
      "       '2018-10-16T01:44:00.000000000', '2018-10-16T01:45:00.000000000',\n",
      "       '2018-10-16T01:46:00.000000000', '2018-10-16T01:47:00.000000000',\n",
      "       '2018-10-16T01:48:00.000000000', '2018-10-16T01:49:00.000000000',\n",
      "       '2018-10-16T01:50:00.000000000', '2018-10-16T01:51:00.000000000',\n",
      "       '2018-10-16T01:52:00.000000000', '2018-10-16T01:53:00.000000000',\n",
      "       '2018-10-16T01:54:00.000000000', '2018-10-16T01:55:00.000000000',\n",
      "       '2018-10-16T01:56:00.000000000', '2018-10-16T01:57:00.000000000',\n",
      "       '2018-10-16T01:58:00.000000000', '2018-10-16T01:59:00.000000000',\n",
      "       '2018-10-16T00:01:00.000000000', '2018-10-16T00:06:00.000000000',\n",
      "       '2018-10-16T00:11:00.000000000', '2018-10-16T00:21:00.000000000',\n",
      "       '2018-10-16T00:31:00.000000000', '2018-10-16T00:36:00.000000000',\n",
      "       '2018-10-16T00:41:00.000000000', '2018-10-16T00:51:00.000000000'],\n",
      "      dtype='datetime64[ns]')\n",
      "Coordinates:\n",
      "    trajectory  float32 ...\n",
      "  * time        (time) datetime64[ns] 2018-10-15T21:36:00 ... 2018-10-16T00:51:00\n",
      "    lat         (time) float64 ...\n",
      "    lon         (time) float64 ...\n",
      "Attributes:\n",
      "    standard_name:  time\n",
      "    long_name:      time in seconds\n",
      "    axis:           T\n"
     ]
    }
   ],
   "source": [
    "print(ds_usv.time[158000:158100])"
   ]
  },
  {
   "cell_type": "code",
   "execution_count": 73,
   "metadata": {},
   "outputs": [],
   "source": [
    "ds = xr.open_dataset('F:/data/cruise_data/saildrone/noaa_arctic/west_coast/1024/saildrone-gen_5-west_coast_survey_2018-sd1024-20181016T000000-20181016T015959-1_minutes-v2.1539657008060.nc')"
   ]
  },
  {
   "cell_type": "code",
   "execution_count": 74,
   "metadata": {},
   "outputs": [
    {
     "data": {
      "text/plain": [
       "<xarray.DataArray 'time' (trajectory: 1, obs: 66)>\n",
       "array([['2018-10-16T00:07:00.000000000', '2018-10-16T00:17:00.000000000',\n",
       "        '2018-10-16T00:27:00.000000000', '2018-10-16T00:37:00.000000000',\n",
       "        '2018-10-16T00:47:00.000000000', '2018-10-16T00:57:00.000000000',\n",
       "        '2018-10-16T01:00:00.000000000', '2018-10-16T01:01:00.000000000',\n",
       "        '2018-10-16T01:02:00.000000000', '2018-10-16T01:03:00.000000000',\n",
       "        '2018-10-16T01:04:00.000000000', '2018-10-16T01:05:00.000000000',\n",
       "        '2018-10-16T01:06:00.000000000', '2018-10-16T01:07:00.000000000',\n",
       "        '2018-10-16T01:08:00.000000000', '2018-10-16T01:09:00.000000000',\n",
       "        '2018-10-16T01:10:00.000000000', '2018-10-16T01:11:00.000000000',\n",
       "        '2018-10-16T01:12:00.000000000', '2018-10-16T01:13:00.000000000',\n",
       "        '2018-10-16T01:14:00.000000000', '2018-10-16T01:15:00.000000000',\n",
       "        '2018-10-16T01:16:00.000000000', '2018-10-16T01:17:00.000000000',\n",
       "        '2018-10-16T01:18:00.000000000', '2018-10-16T01:19:00.000000000',\n",
       "        '2018-10-16T01:20:00.000000000', '2018-10-16T01:21:00.000000000',\n",
       "        '2018-10-16T01:22:00.000000000', '2018-10-16T01:23:00.000000000',\n",
       "        '2018-10-16T01:24:00.000000000', '2018-10-16T01:25:00.000000000',\n",
       "        '2018-10-16T01:26:00.000000000', '2018-10-16T01:27:00.000000000',\n",
       "        '2018-10-16T01:28:00.000000000', '2018-10-16T01:29:00.000000000',\n",
       "        '2018-10-16T01:30:00.000000000', '2018-10-16T01:31:00.000000000',\n",
       "        '2018-10-16T01:32:00.000000000', '2018-10-16T01:33:00.000000000',\n",
       "        '2018-10-16T01:34:00.000000000', '2018-10-16T01:35:00.000000000',\n",
       "        '2018-10-16T01:36:00.000000000', '2018-10-16T01:37:00.000000000',\n",
       "        '2018-10-16T01:38:00.000000000', '2018-10-16T01:39:00.000000000',\n",
       "        '2018-10-16T01:40:00.000000000', '2018-10-16T01:41:00.000000000',\n",
       "        '2018-10-16T01:42:00.000000000', '2018-10-16T01:43:00.000000000',\n",
       "        '2018-10-16T01:44:00.000000000', '2018-10-16T01:45:00.000000000',\n",
       "        '2018-10-16T01:46:00.000000000', '2018-10-16T01:47:00.000000000',\n",
       "        '2018-10-16T01:48:00.000000000', '2018-10-16T01:49:00.000000000',\n",
       "        '2018-10-16T01:50:00.000000000', '2018-10-16T01:51:00.000000000',\n",
       "        '2018-10-16T01:52:00.000000000', '2018-10-16T01:53:00.000000000',\n",
       "        '2018-10-16T01:54:00.000000000', '2018-10-16T01:55:00.000000000',\n",
       "        '2018-10-16T01:56:00.000000000', '2018-10-16T01:57:00.000000000',\n",
       "        '2018-10-16T01:58:00.000000000', '2018-10-16T01:59:00.000000000']],\n",
       "      dtype='datetime64[ns]')\n",
       "Coordinates:\n",
       "  * trajectory  (trajectory) float32 1024.0\n",
       "    time        (trajectory, obs) datetime64[ns] 2018-10-16T00:07:00 ... 2018-10-16T01:59:00\n",
       "    latitude    (trajectory, obs) float64 ...\n",
       "    longitude   (trajectory, obs) float64 ...\n",
       "Dimensions without coordinates: obs\n",
       "Attributes:\n",
       "    standard_name:  time\n",
       "    long_name:      time in seconds\n",
       "    axis:           T"
      ]
     },
     "execution_count": 74,
     "metadata": {},
     "output_type": "execute_result"
    }
   ],
   "source": [
    "ds.time"
   ]
  },
  {
   "cell_type": "code",
   "execution_count": null,
   "metadata": {},
   "outputs": [],
   "source": []
  }
 ],
 "metadata": {
  "kernelspec": {
   "display_name": "Python 3",
   "language": "python",
   "name": "python3"
  },
  "language_info": {
   "codemirror_mode": {
    "name": "ipython",
    "version": 3
   },
   "file_extension": ".py",
   "mimetype": "text/x-python",
   "name": "python",
   "nbconvert_exporter": "python",
   "pygments_lexer": "ipython3",
   "version": "3.7.1"
  }
 },
 "nbformat": 4,
 "nbformat_minor": 2
}
