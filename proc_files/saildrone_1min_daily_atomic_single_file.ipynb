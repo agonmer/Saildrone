{
 "cells": [
  {
   "cell_type": "code",
   "execution_count": 1,
   "metadata": {},
   "outputs": [],
   "source": [
    "import datetime as dt\n",
    "import xarray as xr\n",
    "from datetime import datetime\n",
    "import numpy as np\n",
    "\n",
    "adir_usv = 'F:/data/cruise_data/saildrone/2020_atomic/daily_files/'"
   ]
  },
  {
   "cell_type": "code",
   "execution_count": null,
   "metadata": {},
   "outputs": [],
   "source": [
    "iusv_list = [1026,1060,1061]\n",
    "for iusv in iusv_list:\n",
    "    filename = adir_usv + 'sd-'+str(iusv) + '/' + '*.nc'\n",
    "    fileout = adir_usv + 'atomic_2020_sd'+str(iusv)+'-ALL-1_min-v1.nc'\n",
    "    ds = xr.open_mfdataset(filename,combine='nested',concat_dim='obs')\n",
    "#    ds = xr.open_mfdataset(filename,coords='minimal', concat_dim='obs',combine='by_coords')\n",
    "#    ds = ds.isel(trajectory=0).rename({'latitude':'lat','longitude':'lon'}).swap_dims({'obs':'time'})\n",
    "    ds.close()\n",
    "    ds.to_netcdf(fileout)\n"
   ]
  },
  {
   "cell_type": "code",
   "execution_count": null,
   "metadata": {},
   "outputs": [],
   "source": []
  }
 ],
 "metadata": {
  "kernelspec": {
   "display_name": "Python 3",
   "language": "python",
   "name": "python3"
  },
  "language_info": {
   "codemirror_mode": {
    "name": "ipython",
    "version": 3
   },
   "file_extension": ".py",
   "mimetype": "text/x-python",
   "name": "python",
   "nbconvert_exporter": "python",
   "pygments_lexer": "ipython3",
   "version": "3.7.6"
  }
 },
 "nbformat": 4,
 "nbformat_minor": 2
}
