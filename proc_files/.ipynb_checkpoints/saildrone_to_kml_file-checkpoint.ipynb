{
 "cells": [
  {
   "cell_type": "code",
   "execution_count": null,
   "metadata": {},
   "outputs": [],
   "source": [
    "import csv\n",
    "import simplekml\n",
    "import xarray as xr\n",
    "filename_nc='f:/data/cruise_data/saildrone/baja-2018/daily_files/sd-1002/all_data_with_loggers.nc'\n",
    "\n",
    "dataset_decodetime=xr.open_dataset(temp_out)\n",
    "#inputfile = csv.reader(open('foo.csv','r'))\n",
    "kml=simplekml.Kml()\n",
    "ls = kml.newlinestring(name=\"Saildrone path\")\n",
    "ilen=len(lats)\n",
    "#inputfile.next()\n",
    "#for row in inputfile:\n",
    "for i in range(0,ilen): \n",
    "    #print([(lons[i],lats[i])])\n",
    "    ls.coords.addcoordinates([(lons[i],lats[i])]) #<-- IMPORTANT! Longitude first, Latitude second.\n",
    "kml.save('F:/data/cruise_data/saildrone/baja-2018/Saildrone_line.kml');"
   ]
  }
 ],
 "metadata": {
  "kernelspec": {
   "display_name": "Python 3",
   "language": "python",
   "name": "python3"
  },
  "language_info": {
   "codemirror_mode": {
    "name": "ipython",
    "version": 3
   },
   "file_extension": ".py",
   "mimetype": "text/x-python",
   "name": "python",
   "nbconvert_exporter": "python",
   "pygments_lexer": "ipython3",
   "version": "3.5.5"
  }
 },
 "nbformat": 4,
 "nbformat_minor": 2
}
