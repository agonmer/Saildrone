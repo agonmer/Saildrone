{
 "cells": [
  {
   "cell_type": "code",
   "execution_count": 3,
   "metadata": {},
   "outputs": [],
   "source": [
    "import xarray as xr\n",
    "import numpy as np"
   ]
  },
  {
   "cell_type": "code",
   "execution_count": 12,
   "metadata": {},
   "outputs": [],
   "source": [
    "adir_usv2 = 'C:/Users/gentemann/Google Drive/public/2019_saildrone/'\n",
    "adir_usv = 'F:/data/cruise_data/saildrone/noaa_arctic/west_coast/'\n",
    "iusv_list = np.arange(1024,1029)"
   ]
  },
  {
   "cell_type": "code",
   "execution_count": 14,
   "metadata": {},
   "outputs": [],
   "source": [
    "iusv_list = np.arange(1024,1029)\n",
    "for iusv in iusv_list:\n",
    "    filename = adir_usv + str(iusv) + '/' + '*.nc'\n",
    "    fileout = adir_usv + 'wcoast_2018_sd'+str(iusv)+'-ALL-1_min-v1.nc'\n",
    "    fileout2 = adir_usv2 + 'wcoast_2018_sd'+str(iusv)+'-ALL-1_min-v1.nc'\n",
    "    ds = xr.open_mfdataset(filename,coords='minimal', concat_dim='obs')\n",
    "    ds = ds.isel(trajectory=0).rename({'latitude':'lat','longitude':'lon'}).swap_dims({'obs':'time'})\n",
    "    ds.close()\n",
    "    ds.to_netcdf(fileout)\n",
    "    ds.to_netcdf(fileout2)"
   ]
  },
  {
   "cell_type": "code",
   "execution_count": 10,
   "metadata": {},
   "outputs": [
    {
     "data": {
      "text/plain": [
       "<xarray.Dataset>\n",
       "Dimensions:                        (time: 360)\n",
       "Coordinates:\n",
       "    trajectory                     float32 1028.0\n",
       "    lat                            (time) float64 ...\n",
       "    lon                            (time) float64 ...\n",
       "  * time                           (time) datetime64[ns] 2018-06-28T06:00:00 ... 2018-06-28T11:59:00\n",
       "Data variables:\n",
       "    SOG                            (time) float64 ...\n",
       "    COG                            (time) float64 ...\n",
       "    HDG                            (time) float64 ...\n",
       "    HDG_WING                       (time) float64 ...\n",
       "    ROLL                           (time) float64 ...\n",
       "    PITCH                          (time) float64 ...\n",
       "    WING_ANGLE                     (time) float64 ...\n",
       "    BARO_PRES_MEAN                 (time) float64 ...\n",
       "    BARO_PRES_STDDEV               (time) float64 ...\n",
       "    TEMP_AIR_MEAN                  (time) float64 ...\n",
       "    TEMP_AIR_STDDEV                (time) float64 ...\n",
       "    RH_MEAN                        (time) float64 ...\n",
       "    RH_STDDEV                      (time) float64 ...\n",
       "    PAR_AIR_MEAN                   (time) float64 ...\n",
       "    PAR_AIR_STDDEV                 (time) float64 ...\n",
       "    TEMP_IR_UNCOR_MEAN             (time) float64 ...\n",
       "    TEMP_IR_UNCOR_STDDEV           (time) float64 ...\n",
       "    UWND_MEAN                      (time) float64 ...\n",
       "    UWND_STDDEV                    (time) float64 ...\n",
       "    VWND_MEAN                      (time) float64 ...\n",
       "    VWND_STDDEV                    (time) float64 ...\n",
       "    WWND_MEAN                      (time) float64 ...\n",
       "    WWND_STDDEV                    (time) float64 ...\n",
       "    GUST_WND_MEAN                  (time) float64 ...\n",
       "    GUST_WND_STDDEV                (time) float64 ...\n",
       "    TEMP_CTD_MEAN                  (time) float64 ...\n",
       "    TEMP_CTD_STDDEV                (time) float64 ...\n",
       "    COND_MEAN                      (time) float64 ...\n",
       "    COND_STDDEV                    (time) float64 ...\n",
       "    SAL_MEAN                       (time) float64 ...\n",
       "    SAL_STDDEV                     (time) float64 ...\n",
       "    O2_RBR_CONC_MEAN               (time) float64 ...\n",
       "    O2_RBR_CONC_STDDEV             (time) float64 ...\n",
       "    O2_RBR_SAT_MEAN                (time) float64 ...\n",
       "    O2_RBR_SAT_STDDEV              (time) float64 ...\n",
       "    TEMP_O2_RBR_MEAN               (time) float64 ...\n",
       "    TEMP_O2_RBR_STDDEV             (time) float64 ...\n",
       "    O2_AANDERAA_CONC_UNCOR_MEAN    (time) float64 ...\n",
       "    O2_AANDERAA_CONC_UNCOR_STDDEV  (time) float64 ...\n",
       "    O2_AANDERAA_SAT_MEAN           (time) float64 ...\n",
       "    O2_AANDERAA_SAT_STDDEV         (time) float64 ...\n",
       "    TEMP_O2_AANDERAA_MEAN          (time) float64 ...\n",
       "    TEMP_O2_AANDERAA_STDDEV        (time) float64 ...\n",
       "    CHLOR_MEAN                     (time) float64 ...\n",
       "    CHLOR_STDDEV                   (time) float64 ...\n",
       "Attributes:\n",
       "    Conventions:               CF-1.6\n",
       "    netcdf_version:            4\n",
       "    Metadata_Conventions:      Unidata Dataset Discovery v1.3\n",
       "    featureType:               trajectory\n",
       "    cdm_data_type:             Trajectory\n",
       "    nodc_template_version:     NODC_NetCDF_Trajectory_Template_v2.0\n",
       "    standard_name_vocabulary:  CF-1.6, ACDD-1.3P\n",
       "    description:               Saildrone NetCDF format\n",
       "    creator_name:              Saildrone\n",
       "    platform:                  Saildrone\n",
       "    institution:               Saildrone\n",
       "    creator_email:             support@saildrone.com\n",
       "    creator_url:               http://saildrone.com/\n",
       "    date_created:              2018-08-08T18:34:59.050884Z\n",
       "    area:                      unassigned\n",
       "    title:                     west_coast_survey_2018_sd1028_2018-06-28T06:00...\n",
       "    summary:                   None\n",
       "    data_mode:                 realtime\n",
       "    drone_id:                  1028\n",
       "    request_id:                2154\n",
       "    interval:                  60.0\n",
       "    project:                   west_coast_survey_2018\n",
       "    geospatial_lat_min:        48.353068799999996\n",
       "    geospatial_lat_max:        48.4280032\n",
       "    geospatial_lat_units:      degrees_north\n",
       "    geospatial_lon_min:        -125.64037119999999\n",
       "    geospatial_lon_max:        -125.5561728\n",
       "    geospatial_lon_units:      degrees_east\n",
       "    time_coverage_start:       1530165600.0\n",
       "    time_coverage_end:         1530187140.0"
      ]
     },
     "execution_count": 10,
     "metadata": {},
     "output_type": "execute_result"
    }
   ],
   "source": [
    "file = 'F:/data/cruise_data/saildrone/noaa_arctic/west_coast/1028/saildrone-gen_5-west_coast_survey_2018-sd1028-20180628T060000-20180628T115959-1_minutes-v2.1533753325983.nc'\n",
    "ds = xr.open_dataset(file)\n",
    "ds = ds.isel(trajectory=0).rename({'latitude':'lat','longitude':'lon'}).swap_dims({'obs':'time'})\n",
    "ds"
   ]
  },
  {
   "cell_type": "code",
   "execution_count": null,
   "metadata": {},
   "outputs": [],
   "source": [
    "iusv=1028\n",
    "filename = adir_usv + str(iusv) + '/' + '*.nc'\n",
    "ds = xr.open_dataset(filename)\n"
   ]
  },
  {
   "cell_type": "code",
   "execution_count": null,
   "metadata": {},
   "outputs": [],
   "source": []
  }
 ],
 "metadata": {
  "kernelspec": {
   "display_name": "Python 3",
   "language": "python",
   "name": "python3"
  },
  "language_info": {
   "codemirror_mode": {
    "name": "ipython",
    "version": 3
   },
   "file_extension": ".py",
   "mimetype": "text/x-python",
   "name": "python",
   "nbconvert_exporter": "python",
   "pygments_lexer": "ipython3",
   "version": "3.7.1"
  }
 },
 "nbformat": 4,
 "nbformat_minor": 2
}
