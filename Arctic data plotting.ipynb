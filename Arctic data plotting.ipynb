{
 "cells": [
  {
   "cell_type": "code",
   "execution_count": null,
   "metadata": {},
   "outputs": [],
   "source": [
    "import xarray as xr\n",
    "import numpy as np\n",
    "import pandas as pd\n",
    "import matplotlib.pyplot as plt\n",
    "import seawater as sw\n",
    "\n",
    "fig_dir='C:/Users/gentemann/Google Drive/f_drive/docs/projects/saildrone/Arctic/'\n"
   ]
  },
  {
   "cell_type": "code",
   "execution_count": null,
   "metadata": {},
   "outputs": [],
   "source": [
    "icefile='C:/Users/gentemann/Google Drive/f_drive/docs/projects/misst-arctic/Ice Present.xlsx'\n",
    "ds = pd.read_excel(icefile, sheet_name='data',index_col=0)\n",
    "ds_ice = ds.to_xarray()"
   ]
  },
  {
   "cell_type": "code",
   "execution_count": null,
   "metadata": {},
   "outputs": [],
   "source": [
    "ds_ice"
   ]
  },
  {
   "cell_type": "code",
   "execution_count": null,
   "metadata": {},
   "outputs": [],
   "source": [
    "adir = 'F:/data/cruise_data/saildrone/2019_arctic/daily_files/'\n",
    "list_usv=[1033,1034,1035,1036,1037]\n",
    "for iusv in list_usv:\n",
    "    file = adir + 'arctic_2019_sd'+str(iusv)+'-NRT-1_min-v1.nc'\n",
    "    ds = xr.open_dataset(file)\n",
    "    if iusv==1033:\n",
    "        ds = ds.sel(time=slice('2019-05-14T1800','2019-10-22'))\n",
    "        ds2=ds\n",
    "    if iusv==1034:\n",
    "        ds = ds.sel(time=slice('2019-05-14T1830','2019-10-22'))\n",
    "        ds['WIND_MEASUREMENT_HEIGHT_MEAN']=ds['TEMP_AIR_MEAN']*np.nan\n",
    "        ds['WIND_MEASUREMENT_HEIGHT_STDDEV']=ds['TEMP_AIR_MEAN']*np.nan\n",
    "        ds2=xr.concat([ds2,ds],dim='trajectory')\n",
    "    if iusv==1035:\n",
    "        ds = ds.sel(time=slice('2019-05-14T2230','2019-10-22'))\n",
    "        ds['WIND_HEIGHT_MEAN']=ds['TEMP_AIR_MEAN']*np.nan\n",
    "        ds['WIND_HEIGHT_STDDEV']=ds['TEMP_AIR_MEAN']*np.nan\n",
    "        ds2=xr.concat([ds2,ds],dim='trajectory')\n",
    "    if iusv==1036:\n",
    "        ds = ds.sel(time=slice('2019-05-14T2300','2019-10-22'))\n",
    "        ds['LW_IRRAD_MEAN']=ds['TEMP_AIR_MEAN']*np.nan\n",
    "        ds['LW_IRRAD_STDDEV']=ds['TEMP_AIR_MEAN']*np.nan\n",
    "        ds['SW_IRRAD_TOTAL_MEAN']=ds['TEMP_AIR_MEAN']*np.nan\n",
    "        ds['SW_IRRAD_TOTAL_STDDEV']=ds['TEMP_AIR_MEAN']*np.nan\n",
    "        ds['SW_IRRAD_DIFFUSE_MEAN']=ds['TEMP_AIR_MEAN']*np.nan\n",
    "        ds['SW_IRRAD_DIFFUSE_STDDEV']=ds['TEMP_AIR_MEAN']*np.nan\n",
    "        ds['O2_CONC_AANDERAA_MEAN']=ds['TEMP_AIR_MEAN']*np.nan\n",
    "        ds['O2_CONC_AANDERAA_STDDEV']=ds['TEMP_AIR_MEAN']*np.nan\n",
    "        ds['O2_SAT_AANDERAA_MEAN']=ds['TEMP_AIR_MEAN']*np.nan\n",
    "        ds['O2_SAT_AANDERAA_STDDEV']=ds['TEMP_AIR_MEAN']*np.nan\n",
    "        ds['TEMP_O2_AANDERAA_MEAN']=ds['TEMP_AIR_MEAN']*np.nan\n",
    "        ds['TEMP_O2_AANDERAA_STDDEV']=ds['TEMP_AIR_MEAN']*np.nan\n",
    "        ds['O2_TC_PHASE_AANDERAA_MEAN']=ds['TEMP_AIR_MEAN']*np.nan\n",
    "        ds['O2_TC_PHASE_AANDERAA_STDDEV']=ds['TEMP_AIR_MEAN']*np.nan\n",
    "        ds['SW_UNMASKED_IRRAD_6DET_MEAN']=ds['TEMP_AIR_MEAN']*np.nan\n",
    "        ds['SW_UNMASKED_IRRAD_6DET_STDDEV']=ds['TEMP_AIR_MEAN']*np.nan\n",
    "        ds['SW_UNMASKED_IRRAD_CENTER_MEAN']=ds['TEMP_AIR_MEAN']*np.nan\n",
    "        ds['SW_UNMASKED_IRRAD_CENTER_STDDEV']=ds['TEMP_AIR_MEAN']*np.nan\n",
    "        ds['LW_IRRAD_MEAN']=ds['TEMP_AIR_MEAN']*np.nan\n",
    "        ds['LW_IRRAD_STDDEV']=ds['TEMP_AIR_MEAN']*np.nan\n",
    "        ds['WIND_MEASUREMENT_HEIGHT_MEAN']=ds['TEMP_AIR_MEAN']*np.nan\n",
    "        ds['WIND_MEASUREMENT_HEIGHT_STDDEV']=ds['TEMP_AIR_MEAN']*np.nan\n",
    "        ds2=xr.concat([ds2,ds],dim='trajectory')\n",
    "    if iusv==1037:\n",
    "        ds = ds.sel(time=slice('2019-05-14T2250','2019-10-22'))\n",
    "        ds['LW_IRRAD_MEAN']=ds['TEMP_AIR_MEAN']*np.nan\n",
    "        ds['LW_IRRAD_STDDEV']=ds['TEMP_AIR_MEAN']*np.nan\n",
    "        ds['SW_IRRAD_TOTAL_MEAN']=ds['TEMP_AIR_MEAN']*np.nan\n",
    "        ds['SW_IRRAD_TOTAL_STDDEV']=ds['TEMP_AIR_MEAN']*np.nan\n",
    "        ds['SW_IRRAD_DIFFUSE_MEAN']=ds['TEMP_AIR_MEAN']*np.nan\n",
    "        ds['SW_IRRAD_DIFFUSE_STDDEV']=ds['TEMP_AIR_MEAN']*np.nan\n",
    "        ds['O2_CONC_AANDERAA_MEAN']=ds['TEMP_AIR_MEAN']*np.nan\n",
    "        ds['O2_CONC_AANDERAA_STDDEV']=ds['TEMP_AIR_MEAN']*np.nan\n",
    "        ds['O2_SAT_AANDERAA_MEAN']=ds['TEMP_AIR_MEAN']*np.nan\n",
    "        ds['O2_SAT_AANDERAA_STDDEV']=ds['TEMP_AIR_MEAN']*np.nan\n",
    "        ds['TEMP_O2_AANDERAA_MEAN']=ds['TEMP_AIR_MEAN']*np.nan\n",
    "        ds['TEMP_O2_AANDERAA_STDDEV']=ds['TEMP_AIR_MEAN']*np.nan\n",
    "        ds['O2_TC_PHASE_AANDERAA_MEAN']=ds['TEMP_AIR_MEAN']*np.nan\n",
    "        ds['O2_TC_PHASE_AANDERAA_STDDEV']=ds['TEMP_AIR_MEAN']*np.nan\n",
    "        ds['SW_UNMASKED_IRRAD_6DET_MEAN']=ds['TEMP_AIR_MEAN']*np.nan\n",
    "        ds['SW_UNMASKED_IRRAD_6DET_STDDEV']=ds['TEMP_AIR_MEAN']*np.nan\n",
    "        ds['SW_UNMASKED_IRRAD_CENTER_MEAN']=ds['TEMP_AIR_MEAN']*np.nan\n",
    "        ds['SW_UNMASKED_IRRAD_CENTER_STDDEV']=ds['TEMP_AIR_MEAN']*np.nan\n",
    "        ds['LW_IRRAD_MEAN']=ds['TEMP_AIR_MEAN']*np.nan\n",
    "        ds['LW_IRRAD_STDDEV']=ds['TEMP_AIR_MEAN']*np.nan\n",
    "        ds['WIND_MEASUREMENT_HEIGHT_MEAN']=ds['TEMP_AIR_MEAN']*np.nan\n",
    "        ds['WIND_MEASUREMENT_HEIGHT_STDDEV']=ds['TEMP_AIR_MEAN']*np.nan\n",
    "        ds2=xr.concat([ds2,ds],dim='trajectory')\n"
   ]
  },
  {
   "cell_type": "code",
   "execution_count": null,
   "metadata": {},
   "outputs": [],
   "source": [
    "print(ds2.lat.min().data,ds2.lat.max().data)\n",
    "print(ds2.lon.min().data,ds2.lon.max().data)"
   ]
  },
  {
   "cell_type": "code",
   "execution_count": null,
   "metadata": {},
   "outputs": [],
   "source": [
    "import cartopy.crs as ccrs                   # import projections\n",
    "import cartopy.feature as cf                 # import features\n",
    "fig = plt.figure(figsize=(8,12))\n",
    "ax = plt.axes(projection = ccrs.NorthPolarStereo(central_longitude=180.0))  # create a set of axes with Mercator projection\n",
    "for i in range(5):\n",
    "    im=ax.scatter(ds2.lon[i,:],ds2.lat[i,:],c=ds2.TEMP_SBE37_MEAN[i,:],s=.15,transform=ccrs.PlateCarree(),label=ds2.trajectory[i].data)\n",
    "ax.coastlines(resolution='10m')                \n",
    "ax.set_extent([-180,-160,50,77])\n",
    "ax.legend()\n",
    "cax = fig.add_axes([0.45, 0.17, 0.3, 0.02])\n",
    "cbar = fig.colorbar(im,cax=cax, orientation='horizontal')\n",
    "cbar.set_label('SST ($^\\deg$C)')\n",
    "fig.savefig(fig_dir+'figs/map_all_data.png')"
   ]
  },
  {
   "cell_type": "code",
   "execution_count": null,
   "metadata": {},
   "outputs": [],
   "source": [
    "adir = 'F:/data/cruise_data/saildrone/2019_arctic/daily_files/'\n",
    "list_usv=[1034,1035,1036,1037]\n",
    "fig, axs = plt.subplots(4,figsize=(10,10))\n",
    "for iusv in list_usv:\n",
    "    file = adir + 'arctic_2019_sd'+str(iusv)+'-NRT-1_min-v1.nc'\n",
    "    ds = xr.open_dataset(file)\n",
    "#get rid of data at the beginning of each file where instruments not in water\n",
    "    if iusv==1033:\n",
    "        ds = ds.sel(time=slice('2019-05-14T1800','2019-10-22'))\n",
    "    if iusv==1034:\n",
    "        ds = ds.sel(time=slice('2019-05-14T1830','2019-10-22'))\n",
    "    if iusv==1035:\n",
    "        ds = ds.sel(time=slice('2019-05-14T2230','2019-10-22'))\n",
    "    if iusv==1036:\n",
    "        ds = ds.sel(time=slice('2019-05-14T2300','2019-10-22'))\n",
    "    if iusv==1037:\n",
    "        ds = ds.sel(time=slice('2019-05-14T2250','2019-10-22'))\n",
    "#get rid of bad salinity values\n",
    "    ds = ds.where(ds.SAL_RBR_MEAN>20)\n",
    "    ds = ds.where(ds.SAL_SBE37_MEAN>20)\n",
    "#remove ice regions where salinity variability high\n",
    "    ice = ds_ice.sel(usv=iusv)\n",
    "    sdif=ds.SAL_SBE37_MEAN-ds.SAL_RBR_MEAN\n",
    "    sdif2 = sdif.copy(deep=True)\n",
    "    ind=sdif*0\n",
    "    for i in range(ice.usv.size):\n",
    "        cond = (sdif.time>ice.start_time[i]) & (sdif.time<ice.stop_time[i])\n",
    "        sdif2[cond]=np.nan\n",
    "    sdif.plot(ax=axs[iusv-1034])\n",
    "    sdif2.plot(ax=axs[iusv-1034],color='r')            \n",
    "    strusv.append(str(iusv))\n",
    "    print(iusv,sdif.mean().data,sdif.std().data)\n",
    "#plt.legend(strusv)\n",
    "fig.savefig(fig_dir+'figs/map_sal_ice_data.png')"
   ]
  },
  {
   "cell_type": "code",
   "execution_count": null,
   "metadata": {},
   "outputs": [],
   "source": [
    "#1034\n",
    "iusv=1034\n",
    "file = adir + 'arctic_2019_sd'+str(iusv)+'-NRT-1_min-v1.nc'\n",
    "ds = xr.open_dataset(file)\n",
    "fig,axs=plt.subplots(2)\n",
    "sdif=ds.SAL_SBE37_MEAN-ds.SAL_RBR_MEAN\n",
    "sdif.sel(time=slice('2019-06-10T0845','2019-07-30T16')).plot(ax=axs[0])\n",
    "ds.SAL_SBE37_MEAN.sel(time=slice('2019-06-10T0845','2019-07-30T16')).plot(ax=axs[1],label='SBE')\n",
    "ds.SAL_RBR_MEAN.sel(time=slice('2019-06-10T0845','2019-07-30T16')).plot(ax=axs[1],label='RBR')\n",
    "axs[1].legend()\n",
    "axs[1].set_ylim(20,35)\n",
    "axs[0].set_ylim(-5,1)\n",
    "axs[0].get_xaxis().set_ticks([])\n",
    "#1035\n",
    "#sdif.sel(time=slice('2019-06-14T0845','2019-06-14T16')).plot()\n",
    "#sdif.sel(time=slice('2019-06-21T07','2019-06-21T13')).plot()\n",
    "#sdif.sel(time=slice('2019-06-25T0445','2019-06-25T10')).plot()\n",
    "#sdif.sel(time=slice('2019-06-26T20','2019-06-26T22')).plot()\n",
    "#sdif.sel(time=slice('2019-08-6T18','2019-08-07T06')).plot()\n",
    "#sdif.sel(time=slice('2019-08-9T02','2019-08-09T08')).plot()\n",
    "#sdif.sel(time=slice('2019-08-10T05','2019-08-10T15')).plot()\n",
    "#sdif.sel(time=slice('2019-08-11T07','2019-08-11T0930')).plot()\n",
    "#sdif.sel(time=slice('2019-08-20T1030','2019-08-20T14')).plot()\n",
    "#sdif.sel(time=slice('2019-08-22T2230','2019-08-24T05')).plot()\n",
    "#1036\n",
    "#sdif.sel(time=slice('2019-06-17T06','2019-06-17T21')).plot()\n",
    "#sdif.sel(time=slice('2019-06-22T17','2019-06-22T22')).plot()\n",
    "#sdif.sel(time=slice('2019-06-23T00','2019-06-23T08')).plot()\n",
    "#sdif.sel(time=slice('2019-07-18T00','2019-07-18T01')).plot()\n",
    "#sdif.sel(time=slice('2019-08-06T20','2019-08-07T02')).plot()\n",
    "#sdif.sel(time=slice('2019-08-08T06','2019-08-10T04')).plot()\n",
    "#sdif.sel(time=slice('2019-07-07','2019-07-11T12')).plot() #super calm period RBR appears to be bad\n",
    "\n"
   ]
  },
  {
   "cell_type": "code",
   "execution_count": null,
   "metadata": {},
   "outputs": [],
   "source": [
    "ds"
   ]
  },
  {
   "cell_type": "code",
   "execution_count": null,
   "metadata": {},
   "outputs": [],
   "source": [
    "adir = 'F:/data/cruise_data/saildrone/2019_arctic/daily_files/'\n",
    "strusv=[]\n",
    "for iusv in range(1033,1038):\n",
    "    file = adir + 'arctic_2019_sd'+str(iusv)+'-NRT-1_min-v1.nc'\n",
    "    ds = xr.open_dataset(file)\n",
    "    ds['spd']=np.sqrt(ds.UWND_MEAN**2+ds.VWND_MEAN**2)\n",
    "    #ds = ds.where(ds.SA_CTD_RBR_MEAN>20)\n",
    "    #ds = ds.where(ds.TEMP_SBE37_MEAN>20)\n",
    "    ds2 = ds.isel(time=slice(250,-1))\n",
    "    sdif=ds2.TEMP_SBE37_MEAN-ds2.TEMP_CTD_RBR_MEAN\n",
    "    ax=sdif.plot()\n",
    "    strusv.append(str(iusv))\n",
    "    print(iusv,sdif.mean().data,sdif.std().data)\n",
    "plt.legend(strusv)\n",
    "plt.ylabel('$\\Delta$ SST (K)')"
   ]
  },
  {
   "cell_type": "code",
   "execution_count": null,
   "metadata": {},
   "outputs": [],
   "source": [
    "iusv=1033\n",
    "file = adir + 'arctic_2019_sd'+str(iusv)+'-NRT-1_min-v1.nc'\n",
    "ds = xr.open_dataset(file)\n",
    "ds['spd']=np.sqrt(ds.UWND_MEAN**2+ds.VWND_MEAN**2)\n",
    "#ds = ds.where(ds.SA_CTD_RBR_MEAN>20)\n",
    "#ds = ds.where(ds.TEMP_SBE37_MEAN>20)\n",
    "ds2 = ds.isel(time=slice(250,-1))\n",
    "sdif=ds2.TEMP_SBE37_MEAN-ds2.TEMP_CTD_RBR_MEAN\n"
   ]
  },
  {
   "cell_type": "code",
   "execution_count": null,
   "metadata": {},
   "outputs": [],
   "source": [
    "ds2 = ds.sel(time=slice('2019-08-05','2019-08-30'))\n",
    "sdif=ds2.TEMP_SBE37_MEAN-ds2.TEMP_CTD_RBR_MEAN\n",
    "sdif.plot()"
   ]
  },
  {
   "cell_type": "code",
   "execution_count": null,
   "metadata": {},
   "outputs": [],
   "source": [
    "#Δρ=α*ΔT+βΔS\n",
    "#α=0.2 #kg m-3 c-1\n",
    "#β=1 #km m-3 psu-1\n",
    "s, t, p = 40, 10, 4000\n",
    "sw.alpha(s,t,p,pt=True)  #salinity psu, temperature deg C, pressure db, pt true if potential\n",
    "sw.beta(s,t,p,pt=True)  #salinity psu, temperature deg C, pressure db, pt true if potential\n",
    "sw.aonb(s,t,p,pt=True)\n",
    "sw.dens0(s,t)"
   ]
  },
  {
   "cell_type": "code",
   "execution_count": null,
   "metadata": {},
   "outputs": [],
   "source": [
    "iusv=1033\n",
    "file = adir + 'arctic_2019_sd'+str(iusv)+'-NRT-1_min-v1.nc'\n",
    "ds = xr.open_dataset(file)\n",
    "ds.close()\n",
    "tem=sw.dens0(ds.SAL_SBE37_MEAN,ds.TEMP_SBE37_MEAN)\n",
    "ds['density']=xr.DataArray(tem,dims='time',coords={'time':ds.time})\n",
    "tem=sw.alpha(ds.SAL_SBE37_MEAN,ds.TEMP_SBE37_MEAN,ds.BARO_PRES_MEAN*0) #pressure =0 at surface\n",
    "ds['alpha']=xr.DataArray(tem,dims='time',coords={'time':ds.time})\n",
    "tem=sw.beta(ds.SAL_SBE37_MEAN,ds.TEMP_SBE37_MEAN,ds.BARO_PRES_MEAN*0) #pressure =0 at surface\n",
    "ds['beta']=xr.DataArray(tem,dims='time',coords={'time':ds.time})\n",
    "from geopy.distance import vincenty\n",
    "temdata=[]\n",
    "for i in range(ds.lat.size-1):\n",
    "    if np.all(np.isfinite([ds.lat[i:i+2].data,ds.lon[i:i+2].data])):\n",
    "        coords_1 = (ds.lat[i], ds.lon[i])  #cpr sample location\n",
    "        coords_2 = (ds.lat[i+1], ds.lon[i+1])  #eddy location\n",
    "        tem = geopy.distance.distance(coords_1, coords_2).km\n",
    "        temdata.append(tem)\n",
    "    else:\n",
    "        temdata.append(np.nan)\n",
    "temdata.append(tem)\n",
    "ds['dist_km']=xr.DataArray(temdata,dims='time',coords={'time':ds.time})\n"
   ]
  },
  {
   "cell_type": "code",
   "execution_count": null,
   "metadata": {},
   "outputs": [],
   "source": [
    "plt.hist(ds.dist_km*1000,np.arange(0,150,1))"
   ]
  },
  {
   "cell_type": "code",
   "execution_count": null,
   "metadata": {},
   "outputs": [],
   "source": [
    "iusv=1033\n",
    "file = adir + 'arctic_2019_sd'+str(iusv)+'-NRT-1_min-v1.nc'\n",
    "ds = xr.open_dataset(file)\n",
    "ds.close()\n",
    "ds"
   ]
  },
  {
   "cell_type": "code",
   "execution_count": null,
   "metadata": {},
   "outputs": [],
   "source": [
    "ds.SAL_RBR_MEAN[-20000:].plot()"
   ]
  },
  {
   "cell_type": "code",
   "execution_count": null,
   "metadata": {},
   "outputs": [],
   "source": [
    "ds.SOG[1000:1100].plot()\n",
    "#print(ds.time[1350].data)"
   ]
  },
  {
   "cell_type": "code",
   "execution_count": null,
   "metadata": {},
   "outputs": [],
   "source": [
    "import geopy\n",
    "arclen_temp"
   ]
  },
  {
   "cell_type": "code",
   "execution_count": null,
   "metadata": {},
   "outputs": [],
   "source": []
  },
  {
   "cell_type": "code",
   "execution_count": null,
   "metadata": {},
   "outputs": [],
   "source": []
  },
  {
   "cell_type": "code",
   "execution_count": null,
   "metadata": {},
   "outputs": [],
   "source": [
    "plt.scatter(ds.spd,ds.WAVE_SIGNIFICANT_HEIGHT)"
   ]
  },
  {
   "cell_type": "code",
   "execution_count": null,
   "metadata": {},
   "outputs": [],
   "source": [
    "plt.scatter(ds.spd,ds.WAVE_DOMINANT_PERIOD)"
   ]
  },
  {
   "cell_type": "code",
   "execution_count": null,
   "metadata": {},
   "outputs": [],
   "source": [
    "subset=ds.where(ds.WAVE_DOMINANT_PERIOD>20,drop=True)\n",
    "subset.WAVE_DOMINANT_PERIOD.plot(marker='.')"
   ]
  },
  {
   "cell_type": "code",
   "execution_count": null,
   "metadata": {},
   "outputs": [],
   "source": []
  },
  {
   "cell_type": "code",
   "execution_count": null,
   "metadata": {},
   "outputs": [],
   "source": [
    "print(subset.time.data)"
   ]
  },
  {
   "cell_type": "code",
   "execution_count": null,
   "metadata": {},
   "outputs": [],
   "source": [
    "(ds.TEMP_IR_SEA_WING_UNCOMP_MEAN-ds.TEMP_SBE37_MEAN).sel(time=slice('2019-07-10','2019-07-21')).plot()"
   ]
  },
  {
   "cell_type": "code",
   "execution_count": null,
   "metadata": {},
   "outputs": [],
   "source": [
    "(.96*ds.TEMP_IR_SEA_HULL_UNCOMP_MEAN+0.04*ds.TEMP_IR_SKY_HULL_MEAN).plot()\n",
    "ds.TEMP_SBE37_MEAN.plot(color='r')"
   ]
  },
  {
   "cell_type": "code",
   "execution_count": null,
   "metadata": {},
   "outputs": [],
   "source": [
    "ds=ds.isel(time=slice(200,-1))"
   ]
  },
  {
   "cell_type": "code",
   "execution_count": null,
   "metadata": {},
   "outputs": [],
   "source": [
    "#ds.TEMP_IR_SEA_HULL_UNCOMP_MEAN.plot(color='k')\n",
    "ds2 = ds.sel(time=slice('2019-05-15','2019-06-16'))\n",
    "skin=.99*ds2.TEMP_IR_SEA_WING_UNCOMP_MEAN-.01*ds2.TEMP_IR_SKY_HULL_MEAN\n",
    "#(.98*ds2.TEMP_IR_SEA_WING_UNCOMP_MEAN-.02*ds2.TEMP_IR_SKY_HULL_MEAN).plot(color='b')\n",
    "skin.plot(color='b')\n",
    "ds2.TEMP_SBE37_MEAN.plot(color='r')\n",
    "#0.04*(ds2.TEMP_IR_SKY_HULL_MEAN).plot()"
   ]
  },
  {
   "cell_type": "code",
   "execution_count": null,
   "metadata": {},
   "outputs": [],
   "source": [
    "skin=.99*ds2.TEMP_IR_SEA_WING_UNCOMP_MEAN-.01*ds2.TEMP_IR_SKY_HULL_MEAN\n",
    "print((skin-ds2.TEMP_SBE37_MEAN).std().data)\n",
    "skin=ds2.TEMP_IR_SEA_WING_UNCOMP_MEAN\n",
    "print((skin-ds2.TEMP_SBE37_MEAN).std().data)"
   ]
  },
  {
   "cell_type": "code",
   "execution_count": null,
   "metadata": {},
   "outputs": [],
   "source": [
    "subset=ds.sel(time=slice('2019-06-16','2019-06-25'))\n",
    "subset.SOG.plot(marker='.')"
   ]
  },
  {
   "cell_type": "code",
   "execution_count": null,
   "metadata": {},
   "outputs": [],
   "source": []
  },
  {
   "cell_type": "code",
   "execution_count": null,
   "metadata": {},
   "outputs": [],
   "source": [
    "subset = ds.where(np.isfinite(ds.WAVE_SIGNIFICANT_HEIGHT),drop=True)\n",
    "subset.WAVE_SIGNIFICANT_HEIGHT.plot()"
   ]
  },
  {
   "cell_type": "code",
   "execution_count": null,
   "metadata": {},
   "outputs": [],
   "source": []
  },
  {
   "cell_type": "code",
   "execution_count": null,
   "metadata": {},
   "outputs": [],
   "source": [
    "import numpy as np\n",
    "from sklearn.linear_model import LinearRegression\n",
    "#cond = np.isfinite(ds.TEMP_IR_SEA_HULL_UNCOMP_MEAN) # & np.isfinite(ds.TEMP_IR_SKY_HULL_MEAN) & np.isfinite(ds.TEMP_SBE37_MEAN)\n",
    "#ds2=ds[cond]\n",
    "ds2 = ds.where(np.isfinite(ds.TEMP_IR_SEA_HULL_UNCOMP_MEAN))\n",
    "ds2 = ds2.where(np.isfinite(ds.TEMP_IR_SKY_HULL_MEAN))\n",
    "ds2 = ds2.where(np.isfinite(ds.TEMP_SBE37_MEAN))\n"
   ]
  },
  {
   "cell_type": "code",
   "execution_count": null,
   "metadata": {},
   "outputs": [],
   "source": [
    "X = [ds2.TEMP_IR_SEA_HULL_UNCOMP_MEAN, ds2.TEMP_IR_SKY_HULL_MEAN]\n",
    "# y = 1 * x_0 + 2 * x_1 + 3\n",
    "y = ds2.TEMP_SBE37_MEAN\n",
    "reg = LinearRegression().fit(X, y)\n",
    "print(reg.score(X, y))\n",
    "print(reg.coef_)\n",
    "print(reg.intercept_) "
   ]
  },
  {
   "cell_type": "code",
   "execution_count": null,
   "metadata": {},
   "outputs": [],
   "source": [
    "import matplotlib.pyplot as plt\n",
    "import numpy as np\n",
    "from sklearn import datasets, linear_model\n",
    "from sklearn.metrics import mean_squared_error, r2_score\n",
    "\n",
    "# Load the diabetes dataset\n",
    "#diabetes = datasets.load_diabetes()\n",
    "\n",
    "\n",
    "# Use only one feature\n",
    "diabetes_X = diabetes.data[:, np.newaxis, 2]\n",
    "\n",
    "# Split the data into training/testing sets\n",
    "diabetes_X_train = diabetes_X[:-20]\n",
    "diabetes_X_test = diabetes_X[-20:]\n",
    "\n",
    "# Split the targets into training/testing sets\n",
    "diabetes_y_train = diabetes.target[:-20]\n",
    "diabetes_y_test = diabetes.target[-20:]\n",
    "\n",
    "# Create linear regression object\n",
    "regr = linear_model.LinearRegression()\n",
    "\n",
    "# Train the model using the training sets\n",
    "regr.fit(diabetes_X_train, diabetes_y_train)\n",
    "\n",
    "# Make predictions using the testing set\n",
    "diabetes_y_pred = regr.predict(diabetes_X_test)\n",
    "\n",
    "# The coefficients\n",
    "print('Coefficients: \\n', regr.coef_)\n",
    "# The mean squared error\n",
    "print(\"Mean squared error: %.2f\"\n",
    "      % mean_squared_error(diabetes_y_test, diabetes_y_pred))\n",
    "# Explained variance score: 1 is perfect prediction\n",
    "print('Variance score: %.2f' % r2_score(diabetes_y_test, diabetes_y_pred))\n",
    "\n",
    "# Plot outputs\n",
    "plt.scatter(diabetes_X_test, diabetes_y_test,  color='black')\n",
    "plt.plot(diabetes_X_test, diabetes_y_pred, color='blue', linewidth=3)\n",
    "\n",
    "plt.xticks(())\n",
    "plt.yticks(())\n",
    "\n",
    "plt.show()"
   ]
  },
  {
   "cell_type": "code",
   "execution_count": null,
   "metadata": {},
   "outputs": [],
   "source": [
    "file = 'F:/data/clim_data/icoads/ICOADS_R3.0.1_2019-06.nc'\n",
    "ds=xr.open_dataset(file)\n",
    "ds"
   ]
  },
  {
   "cell_type": "code",
   "execution_count": null,
   "metadata": {},
   "outputs": [],
   "source": [
    "subset = ds.where(ds.lat>70,drop=True)\n",
    "plt.plot(subset.lon,subset.lat,marker='.')"
   ]
  },
  {
   "cell_type": "code",
   "execution_count": null,
   "metadata": {},
   "outputs": [],
   "source": []
  }
 ],
 "metadata": {
  "kernelspec": {
   "display_name": "Python 3",
   "language": "python",
   "name": "python3"
  },
  "language_info": {
   "codemirror_mode": {
    "name": "ipython",
    "version": 3
   },
   "file_extension": ".py",
   "mimetype": "text/x-python",
   "name": "python",
   "nbconvert_exporter": "python",
   "pygments_lexer": "ipython3",
   "version": "3.7.3"
  }
 },
 "nbformat": 4,
 "nbformat_minor": 2
}
