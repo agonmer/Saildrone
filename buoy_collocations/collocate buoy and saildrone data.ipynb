{
 "cells": [
  {
   "cell_type": "markdown",
   "metadata": {},
   "source": [
    "# Hourly and 10-min buoy data collocation with Saildrone data for validation\n",
    "\n",
    "This is the code that collocations the Saildrone and buoy data for validation\n",
    "First there is some reampling of the Saildrone data to match to averaging done by buoys\n",
    "Buoy sample 10 min averages with the time at the end of the average\n"
   ]
  },
  {
   "cell_type": "code",
   "execution_count": 1,
   "metadata": {},
   "outputs": [],
   "source": [
    "import xarray as xr\n",
    "import pandas as pd\n",
    "import matplotlib.pyplot as plt\n",
    "import numpy as np\n",
    "from math import atan2, log, pi, sin, cos\n",
    "import datetime as dt"
   ]
  },
  {
   "cell_type": "markdown",
   "metadata": {},
   "source": [
    "Read in Saildrone data and resample to match buoy averaging\n",
    "- 10 min = time at end of 10 min ave\n",
    "- hour = last 8 minutes of hour included"
   ]
  },
  {
   "cell_type": "code",
   "execution_count": 2,
   "metadata": {},
   "outputs": [],
   "source": [
    "def read_saildrone(filename_usv):\n",
    "    #filename_usv='F:/data/cruise_data/saildrone/baja-2018/saildrone-gen_4-baja_2018-EP-sd1002-ALL-1_min-v1.nc'\n",
    "    ds_usv=xr.open_dataset(filename_usv)\n",
    "    ds_usv.close()\n",
    "    ds_usv = ds_usv.sel(trajectory=1002)\n",
    "    ilen_usv=(len(ds_usv.latitude['obs']))\n",
    "    ds_usv=ds_usv.rename({'latitude':'lat','longitude':'lon'})\n",
    "#used to create a whole new dataset to switch obs to time but found swap dim command\n",
    "    ds_usv=ds_usv.swap_dims({'obs':'time'})\n",
    "    #WS_height=int(ds_usv.UWND_MEAN.installed_height)\n",
    "    \n",
    "    lon = ds_usv.lon\n",
    "    lat = ds_usv.lat\n",
    "    del ds_usv['lon']\n",
    "    del ds_usv['lat']\n",
    "    ds_usv['lon'] = ('time', lon)\n",
    "    ds_usv['lat'] = ('time', lat)   \n",
    "    \n",
    "    #usv is at 4.5 m, buoys are at 5m.  leave alone rather than changing to 10m wind\n",
    "    #ds_usv['UWND_MEAN'] = (ds_usv.UWND_MEAN*log(10./1e-4))/log(WS_height/1e-4)\n",
    "    #ds_usv['VWND_MEAN'] = (ds_usv.VWND_MEAN*log(10./1e-4))/log(WS_height/1e-4)\n",
    "    #make 10 min averages with time at end of average like buoy data\n",
    "    ds_usv_10min = ds_usv.resample(time='10min', skipna=True, closed='right', label='right').mean('time') \n",
    "\n",
    "    #this calculates hourly data that only uses the last 8 minutes of each hour for the average\n",
    "    sub = ds_usv.copy(deep=True)\n",
    "    pt = pd.to_datetime(sub.time.data)\n",
    "    pmin=pt.minute\n",
    "    tem=sub.where(pmin>=52)  #data average should be only use min 52  to :60 \n",
    "    ds_usv_1hr = tem.resample(time='1h', skipna=True, label='right').mean()\n",
    "    return ds_usv_10min,ds_usv_1hr\n",
    " "
   ]
  },
  {
   "cell_type": "markdown",
   "metadata": {},
   "source": [
    "Read in buoy data.  There are redundant sensors so you have to check the quality of the values and use the best quality only"
   ]
  },
  {
   "cell_type": "code",
   "execution_count": 3,
   "metadata": {},
   "outputs": [],
   "source": [
    "def get_buoy_data(ibuoy):\n",
    "    if ibuoy==0:\n",
    "        sbuoy_id,sdep=['46011','D5']\n",
    "    if ibuoy==1:\n",
    "        sbuoy_id,sdep=['46012','D5']\n",
    "    if ibuoy==2:\n",
    "        sbuoy_id,sdep=['46042','D4']\n",
    "    if ibuoy==3:\n",
    "        sbuoy_id,sdep=['46086','D5']\n",
    "    if ibuoy==4:\n",
    "        sbuoy_id,sdep=['46028','D6']       \n",
    "    if ibuoy==5:\n",
    "        sbuoy_id,sdep=['46047','D6']\n",
    "\n",
    "    fname='F:/data/cruise_data/saildrone/baja-2018/buoy_data/NDBC_'+sbuoy_id+'_201804_'+sdep+'_v0010min_xrformat.nc'\n",
    "    xr_buoy10=xr.open_dataset(fname)\n",
    "    fname='F:/data/cruise_data/saildrone/baja-2018/buoy_data/NDBC_'+sbuoy_id+'_201805_'+sdep+'_v0010min_xrformat.nc'\n",
    "    tem=xr.open_dataset(fname)\n",
    "    xr_buoy10 = xr.concat([xr_buoy10, tem],'time')\n",
    "    fname='F:/data/cruise_data/saildrone/baja-2018/buoy_data/NDBC_'+sbuoy_id+'_201806_'+sdep+'_v0010min_xrformat.nc'\n",
    "    tem=xr.open_dataset(fname)\n",
    "    xr_buoy10 = xr.concat([xr_buoy10, tem],'time')\n",
    "    btime10=xr_buoy10.time\n",
    "    \n",
    "#read in hourly buoy data   \n",
    "    fname='F:/data/cruise_data/saildrone/baja-2018/buoy_data/NDBC_'+sbuoy_id+'_201804_'+sdep+'_v00hrly_xrformat.nc'\n",
    "    xr_buoy=xr.open_dataset(fname)\n",
    "    fname='F:/data/cruise_data/saildrone/baja-2018/buoy_data/NDBC_'+sbuoy_id+'_201805_'+sdep+'_v00hrly_xrformat.nc'\n",
    "    tem=xr.open_dataset(fname)\n",
    "    xr_buoy = xr.concat([xr_buoy, tem],'time')\n",
    "    fname='F:/data/cruise_data/saildrone/baja-2018/buoy_data/NDBC_'+sbuoy_id+'_201806_'+sdep+'_v00hrly_xrformat.nc'\n",
    "    tem=xr.open_dataset(fname)\n",
    "    xr_buoy = xr.concat([xr_buoy, tem],'time')\n",
    "    time=xr_buoy.time\n",
    "    \n",
    "    xr_buoy['air_pres1']=xr_buoy.air_pres1/100.\n",
    "    xr_buoy['air_pres2']=xr_buoy.air_pres2/100.\n",
    "    xr_buoy['air_pres_sea_level1']=xr_buoy.air_pres_sea_level1/100.\n",
    "    xr_buoy['air_pres_sea_level2']=xr_buoy.air_pres_sea_level2/100.\n",
    "    \n",
    "    #caluclate the best SST using quality flags then use these to calculate u and v\n",
    "    xr_buoy['sst_best']=xr_buoy['sst1'].copy(deep=True)\n",
    "    xr_buoy['sstqc_best']=xr_buoy['sst1qc'].copy(deep=True)\n",
    "    xr_buoy['sst_best']=xr_buoy.sst2.where((xr_buoy.sst1qc!=0) & (xr_buoy.sst2qc==0),other=xr_buoy.sst_best)\n",
    "    xr_buoy['sstqc_best']=xr_buoy.sst2qc.where((xr_buoy.sst1qc!=0) & (xr_buoy.sst2qc==0),other=xr_buoy.sstqc_best)\n",
    "\n",
    "    #caluclate the best AIR using quality flags then use these to calculate u and v\n",
    "    xr_buoy['air_best']=xr_buoy['air1'].copy(deep=True)\n",
    "    xr_buoy['airqc_best']=xr_buoy['air1qc'].copy(deep=True)\n",
    "    xr_buoy['air_best']=xr_buoy.air2.where((xr_buoy.air1qc!=0) & (xr_buoy.air2qc==0),other=xr_buoy.air_best)\n",
    "    xr_buoy['airqc_best']=xr_buoy.air2qc.where((xr_buoy.air1qc!=0) & (xr_buoy.air2qc==0),other=xr_buoy.airqc_best) \n",
    "\n",
    "    #caluclate the best AIR using quality flags then use these to calculate u and v\n",
    "    xr_buoy['air_pres_best']=xr_buoy['air_pres1'].copy(deep=True)\n",
    "    xr_buoy['air_presqc_best']=xr_buoy['air_pres1qc'].copy(deep=True)\n",
    "    xr_buoy['air_pres_best']=xr_buoy.air_pres2.where((xr_buoy.air_pres1qc!=0) & (xr_buoy.air_pres2qc==0),other=xr_buoy.air_pres_best)\n",
    "    xr_buoy['air_presqc_best']=xr_buoy.air_pres2qc.where((xr_buoy.air_pres1qc!=0) & (xr_buoy.air_pres2qc==0),other=xr_buoy.air_presqc_best) \n",
    "\n",
    "    #caluclate the best AIR using quality flags then use these to calculate u and v\n",
    "    xr_buoy['air_pres_sea_level_best']=xr_buoy['air_pres_sea_level1'].copy(deep=True)\n",
    "    xr_buoy['air_pres_sea_levelqc_best']=xr_buoy['air_pres_sea_level1qc'].copy(deep=True)\n",
    "    xr_buoy['air_pres_sea_level_best']=xr_buoy.air_pres_sea_level2.where((xr_buoy.air_pres_sea_level1qc!=0) & (xr_buoy.air_pres_sea_level2qc==0),other=xr_buoy.air_pres_sea_level_best)\n",
    "    xr_buoy['air_pres_sea_levelqc_best']=xr_buoy.air_pres_sea_level2qc.where((xr_buoy.air_pres_sea_level1qc!=0) & (xr_buoy.air_pres_sea_level2qc==0),other=xr_buoy.air_pres_sea_levelqc_best) \n",
    "\n",
    "    #caluclate the best wind speed and dirction using quality flags then use these to calculate u and v\n",
    "    xr_buoy['wnd_best']=xr_buoy['wnd1'].copy(deep=True)\n",
    "    xr_buoy['wdir_best']=xr_buoy['wdir1'].copy(deep=True)\n",
    "    xr_buoy['wdirqc_best']=xr_buoy['wdir1qc'].copy(deep=True)\n",
    "    xr_buoy['wnd_best']=xr_buoy.wnd2.where((xr_buoy.wdir1qc!=0) & (xr_buoy.wdir2qc==0),other=xr_buoy.wnd_best)\n",
    "    xr_buoy['wnd_best']=xr_buoy.wnd3.where((xr_buoy.wdir1qc!=0) & (xr_buoy.wdir3qc==0),other=xr_buoy.wnd_best)\n",
    "    xr_buoy['wnd_best']=xr_buoy.wnd4.where((xr_buoy.wdir1qc!=0) & (xr_buoy.wdir4qc==0),other=xr_buoy.wnd_best)\n",
    "    xr_buoy['wdir_best']=xr_buoy.wdir2.where((xr_buoy.wdir1qc!=0) & (xr_buoy.wdir2qc==0),other=xr_buoy.wdir_best)\n",
    "    xr_buoy['wdir_best']=xr_buoy.wdir3.where((xr_buoy.wdir1qc!=0) & (xr_buoy.wdir3qc==0),other=xr_buoy.wdir_best)\n",
    "    xr_buoy['wdir_best']=xr_buoy.wdir4.where((xr_buoy.wdir1qc!=0) & (xr_buoy.wdir4qc==0),other=xr_buoy.wdir_best)\n",
    "    xr_buoy['wdirqc_best']=xr_buoy.wdir2qc.where((xr_buoy.wdir1qc!=0) & (xr_buoy.wdir2qc==0),other=xr_buoy.wdirqc_best)\n",
    "    xr_buoy['wdirqc_best']=xr_buoy.wdir3qc.where((xr_buoy.wdir1qc!=0) & (xr_buoy.wdir3qc==0),other=xr_buoy.wdirqc_best)\n",
    "    xr_buoy['wdirqc_best']=xr_buoy.wdir4qc.where((xr_buoy.wdir1qc!=0) & (xr_buoy.wdir4qc==0),other=xr_buoy.wdirqc_best)\n",
    "    #now caluclate the wind vectors & adjust from met convention\n",
    "    xr_buoy['wnd_best']=xr_buoy.wnd_best.where(xr_buoy.wdirqc_best==0)\n",
    "    xr_buoy['wdir_best']=xr_buoy.wdir_best.where(xr_buoy.wdirqc_best==0)\n",
    "    xr_buoy['uwnd_best']=-1*xr_buoy.wnd_best*np.sin((xr_buoy.wdir_best)*pi/180.) #met conv is deg clock from true north, wind from\n",
    "    xr_buoy['vwnd_best']=-1*xr_buoy.wnd_best*np.cos((xr_buoy.wdir_best)*pi/180.)\n",
    "    #caluclate the best wind speed and dirction using quality flags then use these to calculate u and v\n",
    "    xr_buoy10['wnd_best']=xr_buoy10['wnd1'].copy(deep=True)\n",
    "    xr_buoy10['wdir_best']=xr_buoy10['wdir1'].copy(deep=True)\n",
    "    xr_buoy10['wdirqc_best']=xr_buoy10['wdir1qc'].copy(deep=True)\n",
    "    xr_buoy10['wnd_best']=xr_buoy10.wnd2.where((xr_buoy10.wdir1qc!=0) & (xr_buoy10.wdir2qc==0),other=xr_buoy10.wnd_best)\n",
    "    xr_buoy10['wnd_best']=xr_buoy10.wnd3.where((xr_buoy10.wdir1qc!=0) & (xr_buoy10.wdir3qc==0),other=xr_buoy10.wnd_best)\n",
    "    xr_buoy10['wnd_best']=xr_buoy10.wnd4.where((xr_buoy10.wdir1qc!=0) & (xr_buoy10.wdir4qc==0),other=xr_buoy10.wnd_best)\n",
    "    xr_buoy10['wdir_best']=xr_buoy10.wdir2.where((xr_buoy10.wdir1qc!=0) & (xr_buoy10.wdir2qc==0),other=xr_buoy10.wdir_best)\n",
    "    xr_buoy10['wdir_best']=xr_buoy10.wdir3.where((xr_buoy10.wdir1qc!=0) & (xr_buoy10.wdir3qc==0),other=xr_buoy10.wdir_best)\n",
    "    xr_buoy10['wdir_best']=xr_buoy10.wdir4.where((xr_buoy10.wdir1qc!=0) & (xr_buoy10.wdir4qc==0),other=xr_buoy10.wdir_best)\n",
    "    xr_buoy10['wdirqc_best']=xr_buoy10.wdir2qc.where((xr_buoy10.wdir1qc!=0) & (xr_buoy10.wdir2qc==0),other=xr_buoy10.wdirqc_best)\n",
    "    xr_buoy10['wdirqc_best']=xr_buoy10.wdir3qc.where((xr_buoy10.wdir1qc!=0) & (xr_buoy10.wdir3qc==0),other=xr_buoy10.wdirqc_best)\n",
    "    xr_buoy10['wdirqc_best']=xr_buoy10.wdir4qc.where((xr_buoy10.wdir1qc!=0) & (xr_buoy10.wdir4qc==0),other=xr_buoy10.wdirqc_best)\n",
    "    #now caluclate the wind vectors & adjust from met convention\n",
    "    xr_buoy10['wnd_best']=xr_buoy10.wnd_best.where(xr_buoy10.wdirqc_best==0)\n",
    "    xr_buoy10['wdir_best']=xr_buoy10.wdir_best.where(xr_buoy10.wdirqc_best==0)\n",
    "    xr_buoy10['uwnd_best']=-1*xr_buoy10.wnd_best*np.sin((xr_buoy10.wdir_best)*pi/180.) #met conv is deg clock from true north, wind from\n",
    "    xr_buoy10['vwnd_best']=-1*xr_buoy10.wnd_best*np.cos((xr_buoy10.wdir_best)*pi/180.)\n",
    "\n",
    "    cond = xr_buoy.lat > 90\n",
    "    xr_buoy.lat[cond]=np.nan\n",
    "    cond = xr_buoy.lon > 90\n",
    "    xr_buoy.lon[cond]=np.nan   \n",
    "    cond = xr_buoy10.lat > 90\n",
    "    xr_buoy10.lat[cond]=np.nan\n",
    "    cond = xr_buoy10.lon > 90\n",
    "    xr_buoy10.lon[cond]=np.nan   \n",
    "    \n",
    "    return xr_buoy,xr_buoy10,sbuoy_id\n",
    "\n",
    "def get_buoy_data_all():\n",
    "    for ibuoy in range(0,6):\n",
    "        xr_buoy,xr_buoy10,sbuoy_id = get_buoy_data(ibuoy)\n",
    "        if ibuoy>0:\n",
    "            xr_buoy2 = xr.concat([xr_buoy2, xr_buoy], dim='time')\n",
    "            xr_buoy102 = xr.concat([xr_buoy102, xr_buoy10], dim='time')\n",
    "            sbuoy_id2 = sbuoy_id2+sbuoy_id\n",
    "        if ibuoy==0:\n",
    "            xr_buoy2 = xr_buoy.copy(deep=True)\n",
    "            xr_buoy102 = xr_buoy10.copy(deep=True)\n",
    "            sbuoy_id2 = sbuoy_id\n",
    "    return xr_buoy2,xr_buoy102,sbuoy_id2"
   ]
  },
  {
   "cell_type": "code",
   "execution_count": 4,
   "metadata": {},
   "outputs": [
    {
     "name": "stderr",
     "output_type": "stream",
     "text": [
      "C:\\Users\\gentemann\\Miniconda3\\envs\\satenv\\lib\\site-packages\\xarray\\core\\nanops.py:159: RuntimeWarning: Mean of empty slice\n",
      "  return np.nanmean(a, axis=axis, dtype=dtype)\n",
      "C:\\Users\\gentemann\\Miniconda3\\envs\\satenv\\lib\\site-packages\\xarray\\core\\nanops.py:159: RuntimeWarning: Mean of empty slice\n",
      "  return np.nanmean(a, axis=axis, dtype=dtype)\n"
     ]
    }
   ],
   "source": [
    "#read in saildrone data and average to 10 min and 60 min\n",
    "filename_usv='F:/data/cruise_data/saildrone/baja-2018/saildrone-gen_4-baja_2018-sd1002-20180411T180000-20180611T055959-1_minutes-v1.nc'\n",
    "ds_usv_10min,ds_usv_1hr = read_saildrone(filename_usv)\n"
   ]
  },
  {
   "cell_type": "code",
   "execution_count": 11,
   "metadata": {},
   "outputs": [
    {
     "name": "stderr",
     "output_type": "stream",
     "text": [
      "C:\\Users\\gentemann\\Miniconda3\\envs\\satenv\\lib\\site-packages\\xarray\\core\\nanops.py:159: RuntimeWarning: Mean of empty slice\n",
      "  return np.nanmean(a, axis=axis, dtype=dtype)\n",
      "C:\\Users\\gentemann\\Miniconda3\\envs\\satenv\\lib\\site-packages\\xarray\\core\\nanops.py:159: RuntimeWarning: Mean of empty slice\n",
      "  return np.nanmean(a, axis=axis, dtype=dtype)\n"
     ]
    },
    {
     "data": {
      "image/png": "[encoded data removed]",
      "text/plain": [
       "<Figure size 720x288 with 2 Axes>"
      ]
     },
     "metadata": {
      "needs_background": "light"
     },
     "output_type": "display_data"
    }
   ],
   "source": [
    "#make figure showing problem at low winds\n",
    "sv_data=np.zeros((7,16))\n",
    "fig, (ax1, ax2) = plt.subplots(1,2,figsize=(10,4))\n",
    "for ibuoy in range(0,6):\n",
    "    if ibuoy<=6:\n",
    "        xr_buoy,xr_buoy10,sbuoy_id = get_buoy_data(ibuoy) \n",
    "    else:\n",
    "        xr_buoy,xr_buoy10,sbuoy_id = get_buoy_data_all()     \n",
    "    btime=xr_buoy.time\n",
    "    btime10=xr_buoy10.time\n",
    "\n",
    "    #interpolate USV onto buoy \n",
    "    ilen_usv=(len(ds_usv_10min.TEMP_CTD_MEAN['time']))\n",
    "    #filled=ds_usv.interpolate_na(dim='time') #fill nan by interpolating\n",
    "    ds_usv10=ds_usv_10min.interp(time=btime10,method='nearest')\n",
    "    ds_usvhr=ds_usv_1hr.interp(time=btime,method='nearest')\n",
    "    \n",
    "    dwin=.05\n",
    "    dist=((ds_usvhr.lat-xr_buoy.lat)**2+(ds_usvhr.lon-xr_buoy.lon)**2)**.5\n",
    "    cond,cond2 = (dist < dwin),((dist < dwin) & np.isfinite(ds_usvhr.UWND_MEAN) & np.isfinite(xr_buoy.wnd_best))\n",
    "    subset_usv=ds_usvhr.where(cond,drop=True)\n",
    "    subset_buoy=xr_buoy.where(cond,drop=True) #[cond]\n",
    "    subset_usv_nonan=ds_usvhr.where(cond2,drop=True)\n",
    "    subset_buoy_nonan=xr_buoy.where(cond2,drop=True) #[cond]\n",
    "    dist=((ds_usv10.lat-xr_buoy10.lat)**2+(ds_usv10.lon-xr_buoy10.lon)**2)**.5\n",
    "    cond,cond2 = (dist < dwin),((dist < dwin) & np.isfinite(ds_usv10.UWND_MEAN) & np.isfinite(xr_buoy10.wnd_best))\n",
    "#    cond = (dist < dwin)\n",
    "    subset_usv10=ds_usv10.where(cond,drop=True)\n",
    "    subset_buoy10=xr_buoy10.where(cond,drop=True) #[cond]\n",
    "    subset_usv10_nonan=ds_usv10.where(cond2,drop=True)\n",
    "    subset_buoy10_nonan=xr_buoy10.where(cond2,drop=True) #[cond]\n",
    "\n",
    "    usv_spd = np.sqrt(subset_usv10_nonan.UWND_MEAN**2+subset_usv10_nonan.VWND_MEAN**2)\n",
    "    buoy_spd = np.sqrt(subset_buoy10_nonan.uwnd_best**2+subset_buoy10_nonan.vwnd_best**2)\n",
    "    usv_dir = np.arctan2(subset_usv10_nonan.VWND_MEAN,subset_usv10_nonan.UWND_MEAN)*180/pi\n",
    "    buoy_dir = np.arctan2(subset_buoy10_nonan.vwnd_best,subset_buoy10_nonan.uwnd_best)*180/pi\n",
    "    dif_spd,dif_dir = usv_spd - buoy_spd, usv_dir - buoy_dir\n",
    "    cond,cond2 = (dif_dir > 180),(dif_dir < -180)\n",
    "    cond,cond2 = (dif_dir > 180),(dif_dir < -180)\n",
    "    dif_dir[cond]-=360\n",
    "    dif_dir[cond2]+=360\n",
    "    sv_data[ibuoy,11:13]=[dif_spd.mean().data,dif_spd.std().data]\n",
    "    sv_data[ibuoy,13:16]=[dif_dir.mean().data,dif_dir.std().data,dif_spd.shape[0]]\n",
    "    if dif_spd.shape[0]<1:\n",
    "        continue\n",
    "    ax1.plot(usv_spd,dif_dir,'.')\n",
    "    ax1.legend({'46011','46012','46042','46086'})\n",
    "    ax1.set_xlabel('USV wind speed (ms$^{-1}$)')\n",
    "    ax1.set_ylabel('USV - buoy wind direction (deg)')\n",
    "\n",
    "    ax2.plot(usv_spd,dif_spd,'.')\n",
    "    #ax2.legend({'46011','46012','46042','46086'})\n",
    "    ax2.set_xlabel('USV wind speed (ms$^{-1}$)')\n",
    "    ax2.set_ylabel('USV - buoy wind speed (ms$^{-1}$)')\n",
    "\n",
    "    fig_fname='F:/data/cruise_data/saildrone/baja-2018/figs/buoy_figures/buoy_wdir_wspd_both_bias.png'\n",
    "    fig.savefig(fig_fname, transparent=False, format='png')\n"
   ]
  },
  {
   "cell_type": "code",
   "execution_count": 12,
   "metadata": {
    "scrolled": true
   },
   "outputs": [
    {
     "name": "stdout",
     "output_type": "stream",
     "text": [
      "46011\n",
      "air:\n",
      "wnd_spd: 0.5796751750716057 0.550762217166917\n",
      "wnd_dir: -8.455760052008017 6.054220769073242\n",
      "wnd_spd: 0.43802061739089193 0.4884668741390496 112\n",
      "wnd_dir: -8.387297786026002 4.510242006318751 112\n",
      "46012\n",
      "air:\n",
      "wnd_spd: 0.2676712266897088 0.48021890841000214\n",
      "wnd_dir: -4.1147644003549715 5.7931691051089516\n",
      "wnd_spd: 0.43253294865004044 0.4461407081008814 13\n",
      "wnd_dir: -4.574647350059222 3.048717053735349 13\n",
      "46042\n",
      "air:\n",
      "wnd_spd: 0.007607228424881203 0.6070742465068544\n",
      "wnd_dir: -4.099836363937348 5.454487861924322\n",
      "wnd_spd: 0.27937490782058105 0.45199758619700975 74\n",
      "wnd_dir: -3.203778881477334 4.002068549174379 74\n",
      "46086\n",
      "air:\n",
      "wnd_spd: 0.5137476113516829 0.6650909140964625\n",
      "wnd_dir: -7.4073913287659074 8.676409886635783\n",
      "wnd_spd: 0.22239477617111253 0.5644384112943903 108\n",
      "wnd_dir: -6.3747887075684595 7.491961142253666 79\n",
      "46028\n",
      "air:\n",
      "wnd_spd: nan nan\n",
      "wnd_dir: nan nan\n",
      "wnd_spd: nan nan 0\n",
      "wnd_dir: nan nan 0\n"
     ]
    },
    {
     "name": "stderr",
     "output_type": "stream",
     "text": [
      "C:\\Users\\gentemann\\Miniconda3\\envs\\satenv\\lib\\site-packages\\xarray\\core\\nanops.py:159: RuntimeWarning: Mean of empty slice\n",
      "  return np.nanmean(a, axis=axis, dtype=dtype)\n",
      "C:\\Users\\gentemann\\Miniconda3\\envs\\satenv\\lib\\site-packages\\numpy\\lib\\function_base.py:392: RuntimeWarning: Mean of empty slice.\n",
      "  avg = a.mean(axis)\n",
      "C:\\Users\\gentemann\\Miniconda3\\envs\\satenv\\lib\\site-packages\\numpy\\core\\_methods.py:78: RuntimeWarning: invalid value encountered in true_divide\n",
      "  ret, rcount, out=ret, casting='unsafe', subok=False)\n",
      "C:\\Users\\gentemann\\Miniconda3\\envs\\satenv\\lib\\site-packages\\numpy\\lib\\function_base.py:2522: RuntimeWarning: Degrees of freedom <= 0 for slice\n",
      "  c = cov(x, y, rowvar)\n",
      "C:\\Users\\gentemann\\Miniconda3\\envs\\satenv\\lib\\site-packages\\numpy\\lib\\function_base.py:2451: RuntimeWarning: divide by zero encountered in true_divide\n",
      "  c *= np.true_divide(1, fact)\n",
      "C:\\Users\\gentemann\\Miniconda3\\envs\\satenv\\lib\\site-packages\\numpy\\lib\\function_base.py:2451: RuntimeWarning: invalid value encountered in multiply\n",
      "  c *= np.true_divide(1, fact)\n",
      "C:\\Users\\gentemann\\Miniconda3\\envs\\satenv\\lib\\site-packages\\numpy\\lib\\nanfunctions.py:1076: RuntimeWarning: Mean of empty slice\n",
      "  return np.nanmean(a, axis, out=out, keepdims=keepdims)\n",
      "C:\\Users\\gentemann\\Miniconda3\\envs\\satenv\\lib\\site-packages\\xarray\\core\\nanops.py:159: RuntimeWarning: Mean of empty slice\n",
      "  return np.nanmean(a, axis=axis, dtype=dtype)\n",
      "C:\\Users\\gentemann\\Miniconda3\\envs\\satenv\\lib\\site-packages\\numpy\\lib\\function_base.py:392: RuntimeWarning: Mean of empty slice.\n",
      "  avg = a.mean(axis)\n",
      "C:\\Users\\gentemann\\Miniconda3\\envs\\satenv\\lib\\site-packages\\numpy\\core\\_methods.py:78: RuntimeWarning: invalid value encountered in true_divide\n",
      "  ret, rcount, out=ret, casting='unsafe', subok=False)\n",
      "C:\\Users\\gentemann\\Miniconda3\\envs\\satenv\\lib\\site-packages\\numpy\\lib\\function_base.py:2522: RuntimeWarning: Degrees of freedom <= 0 for slice\n",
      "  c = cov(x, y, rowvar)\n",
      "C:\\Users\\gentemann\\Miniconda3\\envs\\satenv\\lib\\site-packages\\numpy\\lib\\function_base.py:2451: RuntimeWarning: divide by zero encountered in true_divide\n",
      "  c *= np.true_divide(1, fact)\n",
      "C:\\Users\\gentemann\\Miniconda3\\envs\\satenv\\lib\\site-packages\\numpy\\lib\\function_base.py:2451: RuntimeWarning: invalid value encountered in multiply\n",
      "  c *= np.true_divide(1, fact)\n",
      "C:\\Users\\gentemann\\Miniconda3\\envs\\satenv\\lib\\site-packages\\numpy\\lib\\nanfunctions.py:1076: RuntimeWarning: Mean of empty slice\n",
      "  return np.nanmean(a, axis, out=out, keepdims=keepdims)\n"
     ]
    },
    {
     "name": "stdout",
     "output_type": "stream",
     "text": [
      "46047\n",
      "air:\n",
      "wnd_spd: nan nan\n",
      "wnd_dir: nan nan\n",
      "wnd_spd: nan nan 0\n",
      "wnd_dir: nan nan 0\n"
     ]
    },
    {
     "name": "stderr",
     "output_type": "stream",
     "text": [
      "C:\\Users\\gentemann\\Miniconda3\\envs\\satenv\\lib\\site-packages\\xarray\\core\\nanops.py:159: RuntimeWarning: Mean of empty slice\n",
      "  return np.nanmean(a, axis=axis, dtype=dtype)\n",
      "C:\\Users\\gentemann\\Miniconda3\\envs\\satenv\\lib\\site-packages\\numpy\\lib\\function_base.py:392: RuntimeWarning: Mean of empty slice.\n",
      "  avg = a.mean(axis)\n",
      "C:\\Users\\gentemann\\Miniconda3\\envs\\satenv\\lib\\site-packages\\numpy\\core\\_methods.py:78: RuntimeWarning: invalid value encountered in true_divide\n",
      "  ret, rcount, out=ret, casting='unsafe', subok=False)\n",
      "C:\\Users\\gentemann\\Miniconda3\\envs\\satenv\\lib\\site-packages\\numpy\\lib\\function_base.py:2522: RuntimeWarning: Degrees of freedom <= 0 for slice\n",
      "  c = cov(x, y, rowvar)\n",
      "C:\\Users\\gentemann\\Miniconda3\\envs\\satenv\\lib\\site-packages\\numpy\\lib\\function_base.py:2451: RuntimeWarning: divide by zero encountered in true_divide\n",
      "  c *= np.true_divide(1, fact)\n",
      "C:\\Users\\gentemann\\Miniconda3\\envs\\satenv\\lib\\site-packages\\numpy\\lib\\function_base.py:2451: RuntimeWarning: invalid value encountered in multiply\n",
      "  c *= np.true_divide(1, fact)\n",
      "C:\\Users\\gentemann\\Miniconda3\\envs\\satenv\\lib\\site-packages\\numpy\\lib\\nanfunctions.py:1076: RuntimeWarning: Mean of empty slice\n",
      "  return np.nanmean(a, axis, out=out, keepdims=keepdims)\n",
      "C:\\Users\\gentemann\\Miniconda3\\envs\\satenv\\lib\\site-packages\\xarray\\core\\nanops.py:159: RuntimeWarning: Mean of empty slice\n",
      "  return np.nanmean(a, axis=axis, dtype=dtype)\n",
      "C:\\Users\\gentemann\\Miniconda3\\envs\\satenv\\lib\\site-packages\\numpy\\lib\\function_base.py:392: RuntimeWarning: Mean of empty slice.\n",
      "  avg = a.mean(axis)\n",
      "C:\\Users\\gentemann\\Miniconda3\\envs\\satenv\\lib\\site-packages\\numpy\\core\\_methods.py:78: RuntimeWarning: invalid value encountered in true_divide\n",
      "  ret, rcount, out=ret, casting='unsafe', subok=False)\n",
      "C:\\Users\\gentemann\\Miniconda3\\envs\\satenv\\lib\\site-packages\\numpy\\lib\\function_base.py:2522: RuntimeWarning: Degrees of freedom <= 0 for slice\n",
      "  c = cov(x, y, rowvar)\n",
      "C:\\Users\\gentemann\\Miniconda3\\envs\\satenv\\lib\\site-packages\\numpy\\lib\\function_base.py:2451: RuntimeWarning: divide by zero encountered in true_divide\n",
      "  c *= np.true_divide(1, fact)\n",
      "C:\\Users\\gentemann\\Miniconda3\\envs\\satenv\\lib\\site-packages\\numpy\\lib\\function_base.py:2451: RuntimeWarning: invalid value encountered in multiply\n",
      "  c *= np.true_divide(1, fact)\n",
      "C:\\Users\\gentemann\\Miniconda3\\envs\\satenv\\lib\\site-packages\\numpy\\lib\\nanfunctions.py:1076: RuntimeWarning: Mean of empty slice\n",
      "  return np.nanmean(a, axis, out=out, keepdims=keepdims)\n"
     ]
    },
    {
     "name": "stdout",
     "output_type": "stream",
     "text": [
      "460114601246042460864602846047\n",
      "air:\n",
      "wnd_spd: 0.40183695679987824 0.6483804417684487\n",
      "wnd_dir: -6.776232548808608 6.987847918821713\n",
      "wnd_spd: 0.32369256184180323 0.515898242422118 307\n",
      "wnd_dir: -6.257322707600407 5.769750305862853 278\n"
     ]
    }
   ],
   "source": [
    "sv_data=np.zeros((7,7))\n",
    "sv_data2=np.zeros((7,7))\n",
    "sv_data3=np.zeros((7,7))\n",
    "sv_data4=np.zeros((7,7))\n",
    "sv_data5=np.zeros((7,7))\n",
    "sv_data6=np.zeros((7,7))\n",
    "sv_data7=np.zeros((7,7))\n",
    "for ibuoy in range(0,7):\n",
    "\n",
    "    if ibuoy<=5:\n",
    "        xr_buoy,xr_buoy10,sbuoy_id = get_buoy_data(ibuoy) \n",
    "    else:\n",
    "        xr_buoy,xr_buoy10,sbuoy_id = get_buoy_data_all()     \n",
    "      \n",
    "    #print(xr_buoy.air_pres1[0:5])\n",
    "    #fname='F:/data/cruise_data/saildrone/baja-2018/buoy_data/NDBC_46011_201804_D5_v00hrly_xrformat.nc'\n",
    "    #xr_buoy=xr.open_dataset(fname)\n",
    "    btime=xr_buoy.time\n",
    "    btime10=xr_buoy10.time\n",
    "\n",
    "    #interpolate USV onto buoy \n",
    "    ilen_usv=(len(ds_usv_10min.TEMP_CTD_MEAN['time']))\n",
    "    #filled=ds_usv.interpolate_na(dim='time') #fill nan by interpolating\n",
    "    ds_usv10=ds_usv_10min.interp(time=btime10,method='nearest')\n",
    "    ds_usvhr=ds_usv_1hr.interp(time=btime,method='nearest')\n",
    "    ds_usv10['wspd']=np.sqrt(ds_usv10.UWND_MEAN**2+ds_usv10.VWND_MEAN**2)\n",
    "    ds_usvhr['wspd']=np.sqrt(ds_usvhr.UWND_MEAN**2+ds_usvhr.VWND_MEAN**2)\n",
    "    \n",
    "    dwin=.05\n",
    "    bair=xr_buoy.air1\n",
    "    dist=((ds_usvhr.lat-xr_buoy.lat)**2+(ds_usvhr.lon-xr_buoy.lon)**2)**.5\n",
    "    cond,cond2 = (dist < dwin),((dist < dwin) & np.isfinite(ds_usvhr.UWND_MEAN) & np.isfinite(xr_buoy.wnd_best))\n",
    "    cond3 = ((dist < dwin) & np.isfinite(ds_usvhr.UWND_MEAN) & np.isfinite(xr_buoy.wnd_best) & (ds_usvhr.wspd>3.5))\n",
    "    subset_usv=ds_usvhr.where(cond,drop=True)\n",
    "    subset_buoy=xr_buoy.where(cond,drop=True) #[cond]\n",
    "    subset_usv_nonan=ds_usvhr.where(cond2,drop=True)\n",
    "    subset_buoy_nonan=xr_buoy.where(cond2,drop=True) #[cond]\n",
    "    subset_usv_nonan_nolow=ds_usvhr.where(cond3,drop=True)\n",
    "    subset_buoy_nonan_nolow=xr_buoy.where(cond3,drop=True) #[cond]\n",
    "\n",
    "    dist=((ds_usv10.lat-xr_buoy10.lat)**2+(ds_usv10.lon-xr_buoy10.lon)**2)**.5\n",
    "    cond,cond2 = (dist < dwin),((dist < dwin) & np.isfinite(ds_usv10.UWND_MEAN) & np.isfinite(xr_buoy10.wnd_best))\n",
    "    cond3 = ((dist < dwin) & np.isfinite(ds_usv10.UWND_MEAN) & np.isfinite(xr_buoy10.wnd_best) & (ds_usv10.wspd>3.5))\n",
    "    subset_usv10=ds_usv10.where(cond,drop=True)\n",
    "    subset_buoy10=xr_buoy10.where(cond,drop=True) #[cond]\n",
    "    subset_usv10_nonan=ds_usv10.where(cond2,drop=True)\n",
    "    subset_buoy10_nonan=xr_buoy10.where(cond2,drop=True) #[cond]\n",
    "    subset_usv10_nonan_nolow=ds_usv10.where(cond3,drop=True)\n",
    "    subset_buoy10_nonan_nolow=xr_buoy10.where(cond3,drop=True) #[cond]\n",
    "\n",
    "    print(sbuoy_id) #,subset_usv.shape)\n",
    "    sdif = (subset_usv.TEMP_CTD_MEAN-subset_buoy.sst_best+273.15).dropna('time')\n",
    "    sdifcor = np.corrcoef(subset_usv.TEMP_CTD_MEAN,subset_buoy.sst_best-273.15)[0,1]\n",
    "    std_robust = np.nanmedian(np.abs(sdif - np.nanmedian(sdif))) * 1.482602218505602\n",
    "    ilen = sdif.shape[0]\n",
    "    sv_data[ibuoy,0:7]=[sdif.mean().data,sdif.median().data,sdifcor,sdif.std().data,std_robust,\n",
    "                        np.abs(sdif).mean().data,sdif.shape[0]]\n",
    "\n",
    "    sdif = (subset_usv.TEMP_AIR_MEAN-subset_buoy.air_best+273.15).dropna('time')\n",
    "    sdifcor = np.corrcoef(subset_usv.TEMP_AIR_MEAN,subset_buoy.air_best-273.15)[0,1]\n",
    "    std_robust = np.nanmedian(np.abs(sdif - np.nanmedian(sdif))) * 1.482602218505602\n",
    "    print('air:') #,(sdif).mean().data,(sdif).std().data,sdif.shape[0])\n",
    "    sv_data2[ibuoy,0:7]=[sdif.mean().data,sdif.median().data,sdifcor,sdif.std().data,std_robust,\n",
    "                        np.abs(sdif).mean().data,sdif.shape[0]]\n",
    "\n",
    "    sdif = (subset_usv.BARO_PRES_MEAN-subset_buoy.air_pres_best).dropna('time')\n",
    "    sdifcor = np.corrcoef(subset_usv.BARO_PRES_MEAN,subset_buoy.air_pres_best)[0,1]\n",
    "    std_robust = np.nanmedian(np.abs(sdif - np.nanmedian(sdif))) * 1.482602218505602\n",
    "    sv_data3[ibuoy,0:7]=[sdif.mean().data,sdif.median().data,sdifcor,sdif.std().data,std_robust,\n",
    "                        np.abs(sdif).mean().data,sdif.shape[0]]\n",
    "   \n",
    "    usv_spd = np.sqrt(subset_usv_nonan.UWND_MEAN**2+subset_usv_nonan.VWND_MEAN**2)\n",
    "    buoy_spd = np.sqrt(subset_buoy_nonan.uwnd_best**2+subset_buoy_nonan.vwnd_best**2)\n",
    "    usv_dir = np.arctan2(subset_usv_nonan_nolow.VWND_MEAN,subset_usv_nonan_nolow.UWND_MEAN)*180/pi\n",
    "    buoy_dir = np.arctan2(subset_buoy_nonan_nolow.vwnd_best,subset_buoy_nonan_nolow.uwnd_best)*180/pi\n",
    "    dif_spd,dif_dir = usv_spd - buoy_spd, usv_dir - buoy_dir\n",
    "    cond,cond2 = (dif_dir > 180),(dif_dir < -180)\n",
    "    dif_dir[cond]-=360\n",
    "    dif_dir[cond2]+=360\n",
    "    print('wnd_spd:',dif_spd.mean().data,dif_spd.std().data)\n",
    "    print('wnd_dir:',dif_dir.mean().data,dif_dir.std().data)\n",
    "    sdifcor = np.corrcoef(usv_spd,buoy_spd)[0,1]\n",
    "    std_robust = np.nanmedian(np.abs(dif_spd - np.nanmedian(dif_spd))) * 1.482602218505602\n",
    "    sdif = dif_spd\n",
    "    sv_data4[ibuoy,0:7]=[sdif.mean().data,sdif.median().data,sdifcor,sdif.std().data,std_robust,\n",
    "                        np.abs(sdif).mean().data,sdif.shape[0]]   \n",
    "    sdifcor = np.corrcoef(usv_dir,buoy_dir)[0,1]\n",
    "    std_robust = np.nanmedian(np.abs(dif_dir - np.nanmedian(dif_dir))) * 1.482602218505602   \n",
    "    sdif = dif_dir\n",
    "    sv_data5[ibuoy,0:7]=[sdif.mean().data,sdif.median().data,sdifcor,sdif.std().data,std_robust,\n",
    "                        np.abs(sdif).mean().data,sdif.shape[0]]\n",
    "\n",
    "    usv_spd = np.sqrt(subset_usv10_nonan.UWND_MEAN**2+subset_usv10_nonan.VWND_MEAN**2)\n",
    "    buoy_spd = np.sqrt(subset_buoy10_nonan.uwnd_best**2+subset_buoy10_nonan.vwnd_best**2)\n",
    "    usv_dir = np.arctan2(subset_usv10_nonan_nolow.VWND_MEAN,subset_usv10_nonan_nolow.UWND_MEAN)*180/pi\n",
    "    buoy_dir = np.arctan2(subset_buoy10_nonan_nolow.vwnd_best,subset_buoy10_nonan_nolow.uwnd_best)*180/pi\n",
    "    dif_spd,dif_dir = usv_spd - buoy_spd, usv_dir - buoy_dir\n",
    "    cond,cond2 = (dif_dir > 180),(dif_dir < -180)\n",
    "    dif_dir[cond]-=360\n",
    "    dif_dir[cond2]+=360\n",
    "    print('wnd_spd:',dif_spd.mean().data,dif_spd.std().data,dif_spd.shape[0])\n",
    "    print('wnd_dir:',dif_dir.mean().data,dif_dir.std().data,dif_dir.shape[0])\n",
    "    sdifcor = np.corrcoef(usv_spd,buoy_spd)[0,1]\n",
    "    std_robust = np.nanmedian(np.abs(dif_spd - np.nanmedian(dif_spd))) * 1.482602218505602\n",
    "    sdif = dif_spd\n",
    "    sv_data6[ibuoy,0:7]=[sdif.mean().data,sdif.median().data,sdifcor,sdif.std().data,std_robust,\n",
    "                        np.abs(sdif).mean().data,sdif.shape[0]]   \n",
    "    sdifcor = np.corrcoef(usv_dir,buoy_dir)[0,1]\n",
    "    std_robust = np.nanmedian(np.abs(dif_dir - np.nanmedian(dif_dir))) * 1.482602218505602   \n",
    "    sdif = dif_dir\n",
    "    sv_data7[ibuoy,0:7]=[sdif.mean().data,sdif.median().data,sdifcor,sdif.std().data,std_robust,\n",
    "                        np.abs(sdif).mean().data,sdif.shape[0]]   \n",
    "\n",
    "    \n"
   ]
  },
  {
   "cell_type": "code",
   "execution_count": 18,
   "metadata": {},
   "outputs": [
    {
     "name": "stdout",
     "output_type": "stream",
     "text": [
      "[array(-13.31), array(-16.12), 0.6108978190688388, array(6.29), 0.340998510256484, array(13.47), 87]\n"
     ]
    }
   ],
   "source": [
    "sdif = (subset_usv.BARO_PRES_MEAN-subset_buoy.air_pres_best).dropna('time')\n",
    "sdifcor = np.corrcoef(subset_usv.BARO_PRES_MEAN,subset_buoy.air_pres_best)[0,1]\n",
    "std_robust = np.nanmedian(np.abs(sdif - np.nanmedian(sdif))) * 1.482602218505602\n",
    "print([sdif.mean().data,sdif.median().data,sdifcor,sdif.std().data,std_robust,\n",
    "                    np.abs(sdif).mean().data,sdif.shape[0]])\n"
   ]
  },
  {
   "cell_type": "code",
   "execution_count": 28,
   "metadata": {},
   "outputs": [
    {
     "name": "stdout",
     "output_type": "stream",
     "text": [
      "0.23000000000013188\n",
      "6.294095090085523\n"
     ]
    },
    {
     "data": {
      "image/png": "[encoded data removed]",
      "text/plain": [
       "<Figure size 432x288 with 1 Axes>"
      ]
     },
     "metadata": {
      "needs_background": "light"
     },
     "output_type": "display_data"
    }
   ],
   "source": [
    "plt.plot(np.abs(sdif - np.nanmedian(sdif)))\n",
    "print(np.nanmedian(np.abs(sdif - np.nanmedian(sdif))))\n",
    "print(sdif.std().data)\n",
    "#this is explaining why the STD is larger than the robust STD \n",
    "#robust STD uses median which removes the spikes since there aren't many of them\n"
   ]
  },
  {
   "cell_type": "code",
   "execution_count": 21,
   "metadata": {},
   "outputs": [
    {
     "data": {
      "text/plain": [
       "[<matplotlib.lines.Line2D at 0x17a10d92cc0>]"
      ]
     },
     "execution_count": 21,
     "metadata": {},
     "output_type": "execute_result"
    },
    {
     "data": {
      "image/png": "[encoded data removed]",
      "text/plain": [
       "<Figure size 432x288 with 1 Axes>"
      ]
     },
     "metadata": {
      "needs_background": "light"
     },
     "output_type": "display_data"
    }
   ],
   "source": [
    "#this shows that the pressure sensor sometimes goes back to the right observation!  odd.\n",
    "plt.plot(subset_usv.BARO_PRES_MEAN,'.')\n",
    "plt.plot(subset_buoy.air_pres_best,'.')"
   ]
  },
  {
   "cell_type": "code",
   "execution_count": 24,
   "metadata": {},
   "outputs": [
    {
     "data": {
      "text/plain": [
       "[<matplotlib.lines.Line2D at 0x17a13dafdd8>]"
      ]
     },
     "execution_count": 24,
     "metadata": {},
     "output_type": "execute_result"
    },
    {
     "data": {
      "image/png": "[encoded data removed]",
      "text/plain": [
       "<Figure size 432x288 with 1 Axes>"
      ]
     },
     "metadata": {
      "needs_background": "light"
     },
     "output_type": "display_data"
    }
   ],
   "source": [
    "plt.plot(ds_usv_10min.BARO_PRES_MEAN[1000:2000])"
   ]
  },
  {
   "cell_type": "code",
   "execution_count": 16,
   "metadata": {
    "scrolled": true
   },
   "outputs": [
    {
     "name": "stdout",
     "output_type": "stream",
     "text": [
      "[0.20 0.14 0.77 0.19 0.13 0.22 19.00]\n",
      "[-0.14 -0.14 1.00 0.01 0.01 0.14 2.00]\n",
      "[-0.02 -0.03 0.84 0.06 0.04 0.05 13.00]\n",
      "[-0.06 -0.05 0.93 0.05 0.04 0.06 18.00]\n",
      "[-0.03 -0.04 0.91 0.31 0.29 0.24 22.00]\n",
      "[-0.19 -0.19 0.76 0.08 0.08 0.19 13.00]\n",
      "[-0.01 -0.03 0.99 0.22 0.16 0.16 87.00]\n",
      "[0.23 0.23 0.80 0.13 0.21 0.23 19.00]\n",
      "[-0.01 -0.01 1.00 0.04 0.06 0.04 2.00]\n",
      "[-0.00 -0.03 0.90 0.07 0.09 0.06 13.00]\n",
      "[-0.02 -0.02 0.98 0.07 0.07 0.06 18.00]\n",
      "[-0.17 -0.20 0.95 0.12 0.14 0.18 22.00]\n",
      "[0.04 0.05 0.94 0.06 0.07 0.07 13.00]\n",
      "[0.01 0.00 0.98 0.17 0.12 0.13 87.00]\n",
      "[-13.67 -16.20 0.39 6.09 0.28 13.79 19.00]\n",
      "[-15.68 -15.68 1.00 0.12 0.18 15.68 2.00]\n",
      "[-12.02 -15.84 0.03 7.06 0.19 12.42 13.00]\n",
      "[-13.73 -16.46 0.23 6.20 0.20 13.77 18.00]\n",
      "[-13.87 -16.12 0.59 5.67 0.16 13.98 22.00]\n",
      "[-12.16 -15.94 0.20 6.96 0.15 12.41 13.00]\n",
      "[-13.31 -16.12 0.61 6.29 0.34 13.47 87.00]\n",
      "[0.58 0.48 0.91 0.55 0.64 0.60 19.00]\n",
      "[0.27 0.27 -1.00 0.48 0.71 0.48 2.00]\n",
      "[0.01 0.18 0.88 0.61 0.38 0.47 13.00]\n",
      "[0.51 0.50 0.97 0.67 0.69 0.72 18.00]\n",
      "[nan nan nan nan nan nan 0.00]\n",
      "[nan nan nan nan nan nan 0.00]\n",
      "[0.40 0.40 0.97 0.65 0.61 0.61 52.00]\n",
      "[-8.46 -8.36 0.80 6.05 2.77 8.75 19.00]\n",
      "[-4.11 -4.11 -1.00 5.79 8.59 5.79 2.00]\n",
      "[-4.10 -4.82 0.75 5.45 4.45 5.95 13.00]\n",
      "[-7.41 -8.73 0.92 8.68 7.45 9.32 13.00]\n",
      "[nan nan nan nan nan nan 0.00]\n",
      "[nan nan nan nan nan nan 0.00]\n",
      "[-6.78 -7.43 0.92 6.99 4.67 8.01 47.00]\n",
      "[0.44 0.41 0.93 0.49 0.44 0.52 112.00]\n",
      "[0.43 0.23 0.78 0.45 0.52 0.48 13.00]\n",
      "[0.28 0.30 0.91 0.45 0.51 0.45 74.00]\n",
      "[0.22 0.13 0.98 0.56 0.58 0.47 108.00]\n",
      "[nan nan nan nan nan nan 0.00]\n",
      "[nan nan nan nan nan nan 0.00]\n",
      "[0.32 0.30 0.98 0.52 0.54 0.49 307.00]\n",
      "[-8.39 -8.47 0.89 4.51 3.36 8.73 112.00]\n",
      "[-4.57 -4.11 0.78 3.05 4.36 4.64 13.00]\n",
      "[-3.20 -3.37 0.84 4.00 4.33 4.14 74.00]\n",
      "[-6.37 -6.95 0.96 7.49 7.22 7.91 79.00]\n",
      "[nan nan nan nan nan nan 0.00]\n",
      "[nan nan nan nan nan nan 0.00]\n",
      "[-6.26 -6.59 0.95 5.77 5.32 7.08 278.00]\n"
     ]
    }
   ],
   "source": [
    "float_formatter = lambda x: \"%.2f\" % x\n",
    "np.set_printoptions(formatter={'float_kind':float_formatter})\n",
    "for i in range(7):\n",
    "    print(sv_data[i,:])\n",
    "for i in range(0,7):\n",
    "    print(sv_data2[i,:])\n",
    "for i in range(0,7):\n",
    "    print(sv_data3[i,:])\n",
    "for i in range(0,7):\n",
    "    print(sv_data4[i,:])\n",
    "for i in range(0,7):\n",
    "    print(sv_data5[i,:])\n",
    "for i in range(0,7):\n",
    "    print(sv_data6[i,:])\n",
    "for i in range(0,7):\n",
    "    print(sv_data7[i,:])\n",
    "    "
   ]
  },
  {
   "cell_type": "code",
   "execution_count": 164,
   "metadata": {},
   "outputs": [
    {
     "ename": "NameError",
     "evalue": "name 'ds_usv' is not defined",
     "output_type": "error",
     "traceback": [
      "\u001b[1;31m---------------------------------------------------------------------------\u001b[0m",
      "\u001b[1;31mNameError\u001b[0m                                 Traceback (most recent call last)",
      "\u001b[1;32m<ipython-input-164-6a8e0cdeac08>\u001b[0m in \u001b[0;36m<module>\u001b[1;34m\u001b[0m\n\u001b[0;32m     56\u001b[0m     \u001b[0mxmin\u001b[0m\u001b[1;33m,\u001b[0m \u001b[0mxmax\u001b[0m \u001b[1;33m=\u001b[0m \u001b[0max1\u001b[0m\u001b[1;33m.\u001b[0m\u001b[0mget_xlim\u001b[0m\u001b[1;33m(\u001b[0m\u001b[1;33m)\u001b[0m\u001b[1;33m\u001b[0m\u001b[1;33m\u001b[0m\u001b[0m\n\u001b[0;32m     57\u001b[0m \u001b[1;31m#    print(xmin,xmax,ymin,ymax)\u001b[0m\u001b[1;33m\u001b[0m\u001b[1;33m\u001b[0m\u001b[1;33m\u001b[0m\u001b[0m\n\u001b[1;32m---> 58\u001b[1;33m     \u001b[0max2\u001b[0m\u001b[1;33m.\u001b[0m\u001b[0mscatter\u001b[0m\u001b[1;33m(\u001b[0m\u001b[0mds_usv\u001b[0m\u001b[1;33m.\u001b[0m\u001b[0mlon\u001b[0m\u001b[1;33m[\u001b[0m\u001b[1;36m0\u001b[0m\u001b[1;33m:\u001b[0m\u001b[1;33m:\u001b[0m\u001b[1;36m60\u001b[0m\u001b[1;33m]\u001b[0m\u001b[1;33m,\u001b[0m\u001b[0mds_usv\u001b[0m\u001b[1;33m.\u001b[0m\u001b[0mlat\u001b[0m\u001b[1;33m[\u001b[0m\u001b[1;36m0\u001b[0m\u001b[1;33m:\u001b[0m\u001b[1;33m:\u001b[0m\u001b[1;36m60\u001b[0m\u001b[1;33m]\u001b[0m\u001b[1;33m,\u001b[0m \u001b[0mc\u001b[0m\u001b[1;33m=\u001b[0m\u001b[0mds_usv\u001b[0m\u001b[1;33m.\u001b[0m\u001b[0mTEMP_CTD_MEAN\u001b[0m\u001b[1;33m[\u001b[0m\u001b[1;36m0\u001b[0m\u001b[1;33m:\u001b[0m\u001b[1;33m:\u001b[0m\u001b[1;36m60\u001b[0m\u001b[1;33m]\u001b[0m\u001b[1;33m,\u001b[0m\u001b[0ms\u001b[0m\u001b[1;33m=\u001b[0m\u001b[1;36m5\u001b[0m\u001b[1;33m,\u001b[0m\u001b[0mmarker\u001b[0m \u001b[1;33m=\u001b[0m \u001b[1;34m\"o\"\u001b[0m\u001b[1;33m)\u001b[0m\u001b[1;33m\u001b[0m\u001b[1;33m\u001b[0m\u001b[0m\n\u001b[0m\u001b[0;32m     59\u001b[0m     \u001b[0max2\u001b[0m\u001b[1;33m.\u001b[0m\u001b[0mscatter\u001b[0m\u001b[1;33m(\u001b[0m\u001b[0mxr_buoy\u001b[0m\u001b[1;33m.\u001b[0m\u001b[0mlon\u001b[0m\u001b[1;33m[\u001b[0m\u001b[1;36m0\u001b[0m\u001b[1;33m:\u001b[0m\u001b[1;33m:\u001b[0m\u001b[1;36m60\u001b[0m\u001b[1;33m]\u001b[0m\u001b[1;33m,\u001b[0m\u001b[0mxr_buoy\u001b[0m\u001b[1;33m.\u001b[0m\u001b[0mlat\u001b[0m\u001b[1;33m[\u001b[0m\u001b[1;36m0\u001b[0m\u001b[1;33m:\u001b[0m\u001b[1;33m:\u001b[0m\u001b[1;36m60\u001b[0m\u001b[1;33m]\u001b[0m\u001b[1;33m,\u001b[0m \u001b[0mc\u001b[0m\u001b[1;33m=\u001b[0m\u001b[0mxr_buoy\u001b[0m\u001b[1;33m.\u001b[0m\u001b[0msst_best\u001b[0m\u001b[1;33m[\u001b[0m\u001b[1;36m0\u001b[0m\u001b[1;33m:\u001b[0m\u001b[1;33m:\u001b[0m\u001b[1;36m60\u001b[0m\u001b[1;33m]\u001b[0m\u001b[1;33m,\u001b[0m\u001b[0ms\u001b[0m\u001b[1;33m=\u001b[0m\u001b[1;36m5\u001b[0m\u001b[1;33m,\u001b[0m\u001b[0mmarker\u001b[0m\u001b[1;33m=\u001b[0m\u001b[1;34m\"D\"\u001b[0m\u001b[1;33m)\u001b[0m\u001b[1;33m\u001b[0m\u001b[1;33m\u001b[0m\u001b[0m\n\u001b[0;32m     60\u001b[0m     \u001b[0max2\u001b[0m\u001b[1;33m.\u001b[0m\u001b[0mquiver\u001b[0m\u001b[1;33m(\u001b[0m\u001b[0mds_usv\u001b[0m\u001b[1;33m.\u001b[0m\u001b[0mlon\u001b[0m\u001b[1;33m[\u001b[0m\u001b[1;36m0\u001b[0m\u001b[1;33m:\u001b[0m\u001b[1;33m:\u001b[0m\u001b[1;36m60\u001b[0m\u001b[1;33m]\u001b[0m\u001b[1;33m,\u001b[0m\u001b[0mds_usv\u001b[0m\u001b[1;33m.\u001b[0m\u001b[0mlat\u001b[0m\u001b[1;33m[\u001b[0m\u001b[1;36m0\u001b[0m\u001b[1;33m:\u001b[0m\u001b[1;33m:\u001b[0m\u001b[1;36m60\u001b[0m\u001b[1;33m]\u001b[0m\u001b[1;33m,\u001b[0m\u001b[0mds_usv\u001b[0m\u001b[1;33m.\u001b[0m\u001b[0mUWND_MEAN\u001b[0m\u001b[1;33m[\u001b[0m\u001b[1;36m0\u001b[0m\u001b[1;33m:\u001b[0m\u001b[1;33m:\u001b[0m\u001b[1;36m60\u001b[0m\u001b[1;33m]\u001b[0m\u001b[1;33m,\u001b[0m\u001b[0mds_usv\u001b[0m\u001b[1;33m.\u001b[0m\u001b[0mVWND_MEAN\u001b[0m\u001b[1;33m[\u001b[0m\u001b[1;36m0\u001b[0m\u001b[1;33m:\u001b[0m\u001b[1;33m:\u001b[0m\u001b[1;36m60\u001b[0m\u001b[1;33m]\u001b[0m\u001b[1;33m,\u001b[0m\u001b[0mcolor\u001b[0m\u001b[1;33m=\u001b[0m\u001b[1;34m'k'\u001b[0m\u001b[1;33m)\u001b[0m\u001b[1;33m\u001b[0m\u001b[1;33m\u001b[0m\u001b[0m\n",
      "\u001b[1;31mNameError\u001b[0m: name 'ds_usv' is not defined"
     ]
    },
    {
     "data": {
      "image/png": "[encoded data removed]",
      "text/plain": [
       "<Figure size 432x288 with 2 Axes>"
      ]
     },
     "metadata": {
      "needs_background": "light"
     },
     "output_type": "display_data"
    },
    {
     "data": {
      "image/png": "[encoded data removed]",
      "text/plain": [
       "<Figure size 432x288 with 2 Axes>"
      ]
     },
     "metadata": {
      "needs_background": "light"
     },
     "output_type": "display_data"
    }
   ],
   "source": [
    "#plot buoy and saildrone data\n",
    "\n",
    "fig, (ax1, ax2) = plt.subplots(1,2)\n",
    "\n",
    "for ibuoy in range(0,6):\n",
    "\n",
    "    xr_buoy,xr_buoy10,sbuoy_id = get_buoy_data(ibuoy)\n",
    "      \n",
    "    btime=xr_buoy.time\n",
    "    btime10=xr_buoy10.time\n",
    "    #interpolate USV onto buoy \n",
    "    ilen_usv=(len(ds_usv_10min.TEMP_CTD_MEAN['time']))\n",
    "    #filled=ds_usv.interpolate_na(dim='time') #fill nan by interpolating\n",
    "    ds_usv10=ds_usv_10min.interp(time=btime10,method='nearest')\n",
    "    ds_usvhr=ds_usv_1hr.interp(time=btime,method='nearest')\n",
    "    ds_usv10['wspd']=np.sqrt(ds_usv10.UWND_MEAN**2+ds_usv10.VWND_MEAN**2)\n",
    "    ds_usvhr['wspd']=np.sqrt(ds_usvhr.UWND_MEAN**2+ds_usvhr.VWND_MEAN**2)\n",
    "\n",
    "        \n",
    "        #print(xr_buoy.air_pres1[0:5])\n",
    "    #fname='F:/data/cruise_data/saildrone/baja-2018/buoy_data/NDBC_46011_201804_D5_v00hrly_xrformat.nc'\n",
    "    #xr_buoy=xr.open_dataset(fname)\n",
    "#    cond = xr_buoy.lat > 90\n",
    "#    xr_buoy.lat[cond]=np.nan\n",
    "##    cond = xr_buoy.lon > 90\n",
    "##    xr_buoy.lon[cond]=np.nan\n",
    " #   blat=xr_buoy.lat.mean()\n",
    " #   blon=xr_buoy.lon.mean()\n",
    " #   btime=xr_buoy.time\n",
    "\n",
    "    #interpolate USV onto buoy \n",
    "  #  ilen_usv=(len(ds_usv_1hr.TEMP_CTD_MEAN['time']))\n",
    "    #filled=ds_usv.interpolate_na(dim='time') #fill nan by interpolating\n",
    "  #  ds_usv10=ds_usv_10min.interp(time=btime10,method='nearest')\n",
    "  #  ds_usvhr=ds_usv_1hr.interp(time=btime,method='nearest')\n",
    "    \n",
    "    fig, (ax1, ax2) = plt.subplots(1,2)\n",
    "\n",
    "\n",
    "    dwin=.05\n",
    "    dist=((ds_usvhr.lat-xr_buoy.lat)**2+(ds_usvhr.lon-xr_buoy.lon)**2)**.5\n",
    "    cond = (dist < dwin)\n",
    "    subset_usv=ds_usvhr.where(cond,drop=True)\n",
    "    subset_buoy=xr_buoy.where(cond,drop=True) #[cond]\n",
    "    dist=((ds_usv10.lat-xr_buoy10.lat)**2+(ds_usv10.lon-xr_buoy10.lon)**2)**.5\n",
    "    cond = (dist < dwin)\n",
    "    subset_usv10=ds_usv10.where(cond,drop=True)\n",
    "    subset_buoy10=xr_buoy10.where(cond,drop=True) #[cond]\n",
    "\n",
    "    ax1.scatter(subset_usv10.lon,subset_usv10.lat, c=subset_usv10.TEMP_CTD_MEAN,s=5,marker = \"o\")\n",
    "    ax1.scatter(subset_buoy.lon,subset_buoy.lat, c=subset_buoy.sst_best,s=5,marker=\"D\")\n",
    "    ax1.quiver(subset_usv10.lon,subset_usv10.lat,subset_usv10.UWND_MEAN,subset_usv10.VWND_MEAN,color='k')\n",
    "    ax1.quiver(subset_buoy10.lon,subset_buoy10.lat,subset_buoy10.uwnd_best,subset_buoy10.vwnd_best,color='r')\n",
    "    ax1.legend(['USV','buoy'])\n",
    "    ymin, ymax = ax1.get_ylim()\n",
    "    xmin, xmax = ax1.get_xlim()\n",
    "#    print(xmin,xmax,ymin,ymax)\n",
    "    ax2.scatter(ds_usv.lon[0::60],ds_usv.lat[0::60], c=ds_usv.TEMP_CTD_MEAN[0::60],s=5,marker = \"o\")\n",
    "    ax2.scatter(xr_buoy.lon[0::60],xr_buoy.lat[0::60], c=xr_buoy.sst_best[0::60],s=5,marker=\"D\")\n",
    "    ax2.quiver(ds_usv.lon[0::60],ds_usv.lat[0::60],ds_usv.UWND_MEAN[0::60],ds_usv.VWND_MEAN[0::60],color='k')\n",
    "    ax2.quiver(xr_buoy.lon[0::60],xr_buoy.lat[0::60],xr_buoy.uwnd_best[0::60],xr_buoy.vwnd_best[0::60],color='r')\n",
    "    ax2.legend(['USV','buoy'])\n",
    "    ax2.set_ylim(ymin,ymax)\n",
    "    ax2.set_xlim(xmin,xmax)\n",
    "    \n",
    "    #ax2.plot(subset_usv10.time,subset_usv10.TEMP_CTD_MEAN-273.15,'.')\n",
    "    #ax2.plot(subset_buoy.time,subset_buoy.best_sst)\n",
    " #   ax2.set_xlim(tstart_buffer,tend_buffer)\n",
    " #   ax2.set_ylim(11,14.5)\n",
    "    # rotate and align the tick labels so they look better\n",
    "    fig.autofmt_xdate()\n",
    "    fig_fname='F:/data/cruise_data/saildrone/baja-2018/figs/buoy_figures/buoy_loc_image'+sbuoy_id+'_test.png'\n",
    "    fig.savefig(fig_fname, transparent=False, format='png')\n",
    "    plt.clf()\n",
    "\n"
   ]
  },
  {
   "cell_type": "code",
   "execution_count": null,
   "metadata": {},
   "outputs": [],
   "source": []
  },
  {
   "cell_type": "code",
   "execution_count": 546,
   "metadata": {},
   "outputs": [
    {
     "data": {
      "text/plain": [
       "<Figure size 432x288 with 0 Axes>"
      ]
     },
     "metadata": {},
     "output_type": "display_data"
    },
    {
     "data": {
      "text/plain": [
       "<Figure size 432x288 with 0 Axes>"
      ]
     },
     "metadata": {},
     "output_type": "display_data"
    },
    {
     "data": {
      "text/plain": [
       "<Figure size 432x288 with 0 Axes>"
      ]
     },
     "metadata": {},
     "output_type": "display_data"
    },
    {
     "data": {
      "text/plain": [
       "<Figure size 432x288 with 0 Axes>"
      ]
     },
     "metadata": {},
     "output_type": "display_data"
    },
    {
     "data": {
      "text/plain": [
       "<Figure size 432x288 with 0 Axes>"
      ]
     },
     "metadata": {},
     "output_type": "display_data"
    },
    {
     "data": {
      "text/plain": [
       "<Figure size 432x288 with 0 Axes>"
      ]
     },
     "metadata": {},
     "output_type": "display_data"
    },
    {
     "data": {
      "text/plain": [
       "<Figure size 432x288 with 0 Axes>"
      ]
     },
     "metadata": {},
     "output_type": "display_data"
    },
    {
     "data": {
      "text/plain": [
       "<Figure size 432x288 with 0 Axes>"
      ]
     },
     "metadata": {},
     "output_type": "display_data"
    },
    {
     "data": {
      "text/plain": [
       "<Figure size 432x288 with 0 Axes>"
      ]
     },
     "metadata": {},
     "output_type": "display_data"
    },
    {
     "data": {
      "text/plain": [
       "<Figure size 432x288 with 0 Axes>"
      ]
     },
     "metadata": {},
     "output_type": "display_data"
    },
    {
     "data": {
      "text/plain": [
       "<Figure size 432x288 with 0 Axes>"
      ]
     },
     "metadata": {},
     "output_type": "display_data"
    },
    {
     "data": {
      "text/plain": [
       "<Figure size 432x288 with 0 Axes>"
      ]
     },
     "metadata": {},
     "output_type": "display_data"
    },
    {
     "data": {
      "text/plain": [
       "<Figure size 432x288 with 0 Axes>"
      ]
     },
     "metadata": {},
     "output_type": "display_data"
    }
   ],
   "source": [
    "#plot buoy and saildrone data all on one figure\n",
    "\n",
    "fig, ax0 = plt.subplots(1,6)\n",
    "\n",
    "for ibuoy in range(0,6):\n",
    "\n",
    "    xr_buoy,xr_buoy10,sbuoy_id = get_buoy_data(ibuoy)\n",
    "      \n",
    "    #print(xr_buoy.air_pres1[0:5])\n",
    "    #fname='F:/data/cruise_data/saildrone/baja-2018/buoy_data/NDBC_46011_201804_D5_v00hrly_xrformat.nc'\n",
    "    #xr_buoy=xr.open_dataset(fname)\n",
    "    cond = xr_buoy.lat > 90\n",
    "    xr_buoy.lat[cond]=np.nan\n",
    "    cond = xr_buoy.lon > 90\n",
    "    xr_buoy.lon[cond]=np.nan\n",
    "    blat=xr_buoy.lat.mean()\n",
    "    blon=xr_buoy.lon.mean()\n",
    "    btime=xr_buoy.time\n",
    "      \n",
    "    dwin=.05\n",
    "    subset=ds_usv.copy(deep=True) #sel(time=slice(time_start1,time_end1))\n",
    "    lat_usv=subset.lat\n",
    "    lon_usv=subset.lon\n",
    "    time_usv=subset.time\n",
    "    sst_usv=subset.TEMP_CTD_MEAN\n",
    "\n",
    "    meets_condition = (lat_usv>blat-dwin) & (lat_usv<blat+dwin) & (lon_usv>blon-dwin) & (lon_usv<blon+dwin) #& time_usv<dt.datetime('2018-04-20')\n",
    "    if (lon_usv[meets_condition].shape[0]==0):\n",
    "        continue\n",
    "    ax1.scatter(lon_usv[meets_condition],lat_usv[meets_condition], c=sst_usv[meets_condition], s=5)\n",
    "    ax1.plot(xr_buoy.lon.sel(time=slice(tstart_buffer,tend_buffer)),xr_buoy.lat.sel(time=slice(tstart_buffer,tend_buffer)),'r.')\n",
    "    ax1.legend(['Buoy','USV'])\n",
    "    ax2.plot(subset.time[meets_condition],subset.TEMP_CTD_MEAN[meets_condition]-273.15,'.')\n",
    "    ax2.plot(xr_buoy.time,xr_buoy.sst1-273.15)\n",
    "    ax2.set_xlim(tstart_buffer,tend_buffer)\n",
    "    ax2.set_ylim(11,14.5)\n",
    "    # rotate and align the tick labels so they look better\n",
    "    fig.autofmt_xdate()\n",
    "    fig_fname='F:/data/cruise_data/saildrone/baja-2018/figs/buoy_figures/buoy_loc_image'+sbuoy_id+'_.png'\n",
    "    fig.savefig(fig_fname, transparent=False, format='png')\n",
    "    plt.clf()\n",
    "\n",
    "    dwin=.02\n",
    "    meets_condition = (lat_usv>blat-dwin) & (lat_usv<blat+dwin) & (lon_usv>blon-dwin) & (lon_usv<blon+dwin) #& time_usv<dt.datetime('2018-04-20')\n",
    "    fig, (ax1, ax2) = plt.subplots(1,2)\n",
    "    if (lon_usv[meets_condition].shape[0]==0):\n",
    "        continue\n",
    "    ax1.scatter(lon_usv[meets_condition],lat_usv[meets_condition], c=sst_usv[meets_condition], s=5)\n",
    "    ax1.plot(xr_buoy.lon.sel(time=slice(tstart_buffer,tend_buffer)),xr_buoy.lat.sel(time=slice(tstart_buffer,tend_buffer)),'r.')\n",
    "    ax1.legend(['Buoy','USV'])\n",
    "    ax2.plot(subset.time[meets_condition],subset.TEMP_CTD_MEAN[meets_condition]-273.15,'.')\n",
    "    ax2.plot(xr_buoy.time,xr_buoy.sst1-273.15)\n",
    "    ax2.set_xlim(tstart_buffer,tend_buffer)\n",
    "    ax2.set_ylim(11,14.5)\n",
    "    # rotate and align the tick labels so they look better\n",
    "    fig.autofmt_xdate()\n",
    "    fig_fname='F:/data/cruise_data/saildrone/baja-2018/figs/buoy_figures/buoy_loc_image'+sbuoy_id+'_02km.png'\n",
    "    fig.savefig(fig_fname, transparent=False, format='png')\n",
    "    plt.clf()\n",
    "\n",
    "    #now i only use part of buoy location that is for this time\n",
    "    dwin=.01\n",
    "#        blon_subset=xr_buoy.lon.sel(time=slice(time_start1,time_end1)).mean()\n",
    "#        blat_subset=xr_buoy.lat.sel(time=slice(time_start1,time_end1)).mean()\n",
    "    meets_condition = (lat_usv>blat-dwin) & (lat_usv<blat+dwin) & (lon_usv>blon-dwin) & (lon_usv<blon+dwin) #& time_usv<dt.datetime('2018-04-20')\n",
    "#        meets_condition = (lat_usv>blat_subset-dwin) & (lat_usv<blat_subset+dwin) & (lon_usv>blon_subset-dwin) & (lon_usv<blon_subset+dwin) #& time_usv<dt.datetime('2018-04-20')\n",
    "    fig, (ax1, ax2) = plt.subplots(1,2)\n",
    "    if (lon_usv[meets_condition].shape[0]==0):\n",
    "        continue\n",
    "    ax1.scatter(lon_usv[meets_condition],lat_usv[meets_condition], c=sst_usv[meets_condition], s=5)\n",
    "    ax1.plot(xr_buoy.lon.sel(time=slice(time_start1,time_end1)),xr_buoy.lat.sel(time=slice(time_start1,time_end1)),'r.')\n",
    "    ax1.legend(['Buoy','USV'])\n",
    "    ax2.plot(subset.time[meets_condition],subset.TEMP_CTD_MEAN[meets_condition]-273.15,'.')\n",
    "    ax2.plot(xr_buoy.time,xr_buoy.sst1-273.15)\n",
    "    ax2.set_xlim(time_start1,time_end1)\n",
    "    ax2.set_ylim(11,14.5)\n",
    "    # rotate and align the tick labels so they look better\n",
    "    fig.autofmt_xdate()\n",
    "    fig_fname='F:/data/cruise_data/saildrone/baja-2018/figs/buoy_figures/buoy_loc_image'+sbuoy_id+'_01km.png'\n",
    "    fig.savefig(fig_fname, transparent=False, format='png')\n",
    "    plt.clf()\n"
   ]
  },
  {
   "cell_type": "code",
   "execution_count": null,
   "metadata": {},
   "outputs": [],
   "source": []
  },
  {
   "cell_type": "code",
   "execution_count": null,
   "metadata": {},
   "outputs": [],
   "source": [
    "#####old\n",
    "filename_usv='F:/data/cruise_data/saildrone/baja-2018/saildrone-gen_4-baja_2018-sd1002-20180411T180000-20180611T055959-1_minutes-v1.nc'\n",
    "#ds_usv_tem=xr.open_dataset(filename_usv)\n",
    "ds_usv = read_saildrone(filename_usv)\n",
    "ilen_usv=(len(ds_usv.TEMP_CTD_MEAN['time']))\n",
    "filled=ds_usv.interpolate_na(dim='time') #fill nan by interpolating\n",
    "#move lat and lon into variables so that they don't disappear when interpolating\n",
    "lon = ds_usv.lon\n",
    "lat = ds_usv.lat\n",
    "del ds_usv['lon']\n",
    "del ds_usv['lat']\n",
    "ds_usv['lon'] = ('time', lon)\n",
    "ds_usv['lat'] = ('time', lat)\n",
    "ds_usv10=filled.interp(time=btime10)\n",
    "ds_usvhr=filled.interp(time=btime)\n",
    "\n",
    "#this take the average from min: 01 to :10 and assigns it :10\n",
    "#use this for the wind comparisons since they are 10 min ave\n",
    "subset = ds_usv.sel(time=slice('2018-04-10','2018-04-13'))\n",
    "ds_usv_10min = ds_usv.resample(time='10min', skipna=True, closed='right', label='right').mean('time') \n",
    "\n",
    "#this calculates hourly data that only uses the last 8 minutes of each hour for the average\n",
    "#use this for the hourly data comparisons\n",
    "sub = ds_usv.copy(deep=True)\n",
    "pt = pd.to_datetime(sub.time.data)\n",
    "pmin=pt.minute\n",
    "tem=sub.where(pmin>=52)  #data average should be only use min 52  to :60 \n",
    "ds_usv_1hr = tem.resample(time='1h', skipna=True, label='right').mean()\n"
   ]
  },
  {
   "cell_type": "code",
   "execution_count": null,
   "metadata": {},
   "outputs": [],
   "source": [
    "filename_usv='F:/data/cruise_data/saildrone/baja-2018/saildrone-gen_4-baja_2018-sd1002-20180411T180000-20180611T055959-1_minutes-v1.nc'\n",
    "ds_usv = read_saildrone(filename_usv)\n",
    "#ds_usv.close()\n",
    "ilen_usv=(len(ds_usv.TEMP_CTD_MEAN['time']))\n",
    "filled=ds_usv.interpolate_na(dim='time') #fill nan by interpolating\n",
    "#ds_usv10=filled.interp(time=btime10)\n",
    "#ds_usvhr=filled.interp(time=btime)\n",
    "#ds_usv10=filled.resample(time='10Min').mean()  #this code creates 10 averages\n",
    "#ds_usvhr=filled.resample(time='1H').mean()   #this code creates hourly averages\n",
    "#this take the average from min: 01 to :10 and assigns it :10\n",
    "ds_usv_10min = ds_usv.resample(time='10min', skipna=True, closed='right', label='right').mean('time') \n",
    "\n",
    "#this calculates hourly data that only uses the last 8 minutes of each hour for the average\n",
    "sub = ds_usv.copy(deep=True)\n",
    "pt = pd.to_datetime(sub.time.data)\n",
    "pmin=pt.minute\n",
    "tem=sub.where(pmin>=52)  #data average should be only use min 52  to :60 \n",
    "ds_usv_1hr = tem.resample(time='1h', skipna=True, label='right').mean()\n",
    "\n",
    "#dates_usv64=ds_usv.time[0,:].values\n",
    "#dates_usv=pd.to_datetime(dates_usv64, unit='ns')  #new way to caluclate the time array"
   ]
  },
  {
   "cell_type": "code",
   "execution_count": null,
   "metadata": {},
   "outputs": [],
   "source": [
    "#ds=xr.open_dataset(filename_usv)\n",
    "#ds = ds.sel(trajectory=1002)\n",
    "#ds=ds.rename({'latitude':'lat','longitude':'lon'})\n",
    "#ds=ds.swap_dims({'obs':'time'})\n",
    "#print(ds)\n",
    "#print(ds.time[0:10])\n",
    "#print(xr_buoy.wnd_best[0:2])\n",
    "for i in range(1,2):\n",
    "    print(i,xr_buoy.time[i].data,xr_buoy.wnd_best[i].data)\n",
    "print('10min')\n",
    "for i in range(0,15):\n",
    "    print(i,xr_buoy10.time[i].data,xr_buoy10.wnd_best[i].data)\n",
    "print(xr_buoy10.wnd_best[6:12].mean().data)\n",
    "\n",
    "subset = ds_usv.sel(time=slice('2018-04-10','2018-04-13'))\n",
    "\n",
    "xftem=subset.UWND_MEAN\n",
    "pt = pd.to_datetime(xftem.time.data)\n",
    "pmin=pt.minute\n",
    "tem=xftem[(pmin >=52)]  #data average should be only use min 52  to :60 \n",
    "new_hr = tem.resample(time='1h').mean()\n",
    "for i in range(0,1):\n",
    "    print(new_hr.time[i].data,new_hr[i].data)\n",
    "print(xftem[52:60].mean().data)    \n",
    "\n",
    "#xftem=subset.UWND_MEAN\n",
    "sub = subset.copy(deep=True)\n",
    "pt = pd.to_datetime(sub.time.data)\n",
    "pmin=pt.minute\n",
    "#sub['mask']=pmin\n",
    "tem=sub.where(pmin>=52)  #data average should be only use min 52  to :60 \n",
    "new_hr = tem.resample(time='1h', label='right').mean()\n",
    "\n",
    "#print(new_hr)\n",
    "for i in range(0,1):\n",
    "    print(new_hr.time[i].data,new_hr.UWND_MEAN[i].data)\n",
    "#print('min')\n",
    "#for i in range(0,60):\n",
    "#    print(i,xftem.time[i].data,xftem[i].data)\n",
    "print(subset.UWND_MEAN[52:60].mean().data)    "
   ]
  },
  {
   "cell_type": "code",
   "execution_count": null,
   "metadata": {},
   "outputs": [],
   "source": [
    "#read in high resolution wind buoy data (10 minute)\n",
    "sbuoy_id='46011'\n",
    "sdep='D5'\n",
    "fname='F:/data/cruise_data/saildrone/baja-2018/buoy_data/NDBC_'+sbuoy_id+'_201804_'+sdep+'_v0010min_xrformat.nc'\n",
    "xr_buoy10=xr.open_dataset(fname)\n",
    "fname='F:/data/cruise_data/saildrone/baja-2018/buoy_data/NDBC_'+sbuoy_id+'_201805_'+sdep+'_v0010min_xrformat.nc'\n",
    "tem=xr.open_dataset(fname)\n",
    "xr_buoy10 = xr.concat([xr_buoy10, tem],'time')\n",
    "fname='F:/data/cruise_data/saildrone/baja-2018/buoy_data/NDBC_'+sbuoy_id+'_201806_'+sdep+'_v0010min_xrformat.nc'\n",
    "tem=xr.open_dataset(fname)\n",
    "xr_buoy10 = xr.concat([xr_buoy10, tem],'time')\n",
    "btime10=xr_buoy10.time#read in hourly buoy data\n",
    "fname='F:/data/cruise_data/saildrone/baja-2018/buoy_data/NDBC_'+sbuoy_id+'_201804_'+sdep+'_v00hrly_xrformat.nc'\n",
    "xr_buoy=xr.open_dataset(fname)\n",
    "fname='F:/data/cruise_data/saildrone/baja-2018/buoy_data/NDBC_'+sbuoy_id+'_201805_'+sdep+'_v00hrly_xrformat.nc'\n",
    "tem=xr.open_dataset(fname)\n",
    "xr_buoy = xr.concat([xr_buoy, tem],'time')\n",
    "fname='F:/data/cruise_data/saildrone/baja-2018/buoy_data/NDBC_'+sbuoy_id+'_201806_'+sdep+'_v00hrly_xrformat.nc'\n",
    "tem=xr.open_dataset(fname)\n",
    "xr_buoy = xr.concat([xr_buoy, tem],'time')\n",
    "time=xr_buoy.time\n",
    "#fname='F:/data/cruise_data/saildrone/baja-2018/buoy_data/NDBC_46011_201804_D5_v00hrly_xrformat.nc'\n",
    "#xr_buoy=xr.open_dataset(fname)\n",
    "cond = xr_buoy.lat > 90\n",
    "xr_buoy.lat[cond]=np.nan\n",
    "cond = xr_buoy.lon > 90\n",
    "xr_buoy.lon[cond]=np.nan\n",
    "blat=xr_buoy.lat.mean()\n",
    "blon=xr_buoy.lon.mean()\n",
    "btime=xr_buoy.time\n"
   ]
  },
  {
   "cell_type": "code",
   "execution_count": null,
   "metadata": {},
   "outputs": [],
   "source": [
    "    dwin=.02\n",
    "    meets_condition = (lat_usv>blat-dwin) & (lat_usv<blat+dwin) & (lon_usv>blon-dwin) & (lon_usv<blon+dwin) #& time_usv<dt.datetime('2018-04-20')\n",
    "    fig, (ax1, ax2) = plt.subplots(1,2)\n",
    "    if (lon_usv[meets_condition].shape[0]==0):\n",
    "        continue\n",
    "    ax1.scatter(lon_usv[meets_condition],lat_usv[meets_condition], c=sst_usv[meets_condition], s=5)\n",
    "    ax1.plot(xr_buoy.lon.sel(time=slice(tstart_buffer,tend_buffer)),xr_buoy.lat.sel(time=slice(tstart_buffer,tend_buffer)),'r.')\n",
    "    ax1.legend(['Buoy','USV'])\n",
    "    ax2.plot(subset.time[meets_condition],subset.TEMP_CTD_MEAN[meets_condition]-273.15,'.')\n",
    "    ax2.plot(xr_buoy.time,xr_buoy.sst1-273.15)\n",
    "    ax2.set_xlim(tstart_buffer,tend_buffer)\n",
    "    ax2.set_ylim(11,14.5)\n",
    "    # rotate and align the tick labels so they look better\n",
    "    fig.autofmt_xdate()\n",
    "    fig_fname='F:/data/cruise_data/saildrone/baja-2018/figs/buoy_figures/buoy_loc_image'+sbuoy_id+'_02km.png'\n",
    "    fig.savefig(fig_fname, transparent=False, format='png')\n",
    "    plt.clf()\n",
    "\n",
    "    #now i only use part of buoy location that is for this time\n",
    "    dwin=.01\n",
    "#        blon_subset=xr_buoy.lon.sel(time=slice(time_start1,time_end1)).mean()\n",
    "#        blat_subset=xr_buoy.lat.sel(time=slice(time_start1,time_end1)).mean()\n",
    "    meets_condition = (lat_usv>blat-dwin) & (lat_usv<blat+dwin) & (lon_usv>blon-dwin) & (lon_usv<blon+dwin) #& time_usv<dt.datetime('2018-04-20')\n",
    "#        meets_condition = (lat_usv>blat_subset-dwin) & (lat_usv<blat_subset+dwin) & (lon_usv>blon_subset-dwin) & (lon_usv<blon_subset+dwin) #& time_usv<dt.datetime('2018-04-20')\n",
    "    fig, (ax1, ax2) = plt.subplots(1,2)\n",
    "    if (lon_usv[meets_condition].shape[0]==0):\n",
    "        continue\n",
    "    ax1.scatter(lon_usv[meets_condition],lat_usv[meets_condition], c=sst_usv[meets_condition], s=5)\n",
    "    ax1.plot(xr_buoy.lon.sel(time=slice(time_start1,time_end1)),xr_buoy.lat.sel(time=slice(time_start1,time_end1)),'r.')\n",
    "    ax1.legend(['Buoy','USV'])\n",
    "    ax2.plot(subset.time[meets_condition],subset.TEMP_CTD_MEAN[meets_condition]-273.15,'.')\n",
    "    ax2.plot(xr_buoy.time,xr_buoy.sst1-273.15)\n",
    "    ax2.set_xlim(time_start1,time_end1)\n",
    "    ax2.set_ylim(11,14.5)\n",
    "    # rotate and align the tick labels so they look better\n",
    "    fig.autofmt_xdate()\n",
    "    fig_fname='F:/data/cruise_data/saildrone/baja-2018/figs/buoy_figures/buoy_loc_image'+sbuoy_id+'_01km.png'\n",
    "    fig.savefig(fig_fname, transparent=False, format='png')\n",
    "    plt.clf()\n"
   ]
  }
 ],
 "metadata": {
  "kernelspec": {
   "display_name": "Python 3",
   "language": "python",
   "name": "python3"
  },
  "language_info": {
   "codemirror_mode": {
    "name": "ipython",
    "version": 3
   },
   "file_extension": ".py",
   "mimetype": "text/x-python",
   "name": "python",
   "nbconvert_exporter": "python",
   "pygments_lexer": "ipython3",
   "version": "3.7.1"
  }
 },
 "nbformat": 4,
 "nbformat_minor": 2
}
