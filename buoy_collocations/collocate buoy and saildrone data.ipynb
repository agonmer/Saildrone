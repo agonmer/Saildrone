{
 "cells": [
  {
   "cell_type": "code",
   "execution_count": 503,
   "metadata": {},
   "outputs": [],
   "source": [
    "import xarray as xr\n",
    "import pandas as pd\n",
    "import matplotlib.pyplot as plt\n",
    "import numpy as np\n",
    "from math import atan2, log, pi, sin, cos\n",
    "import datetime as dt"
   ]
  },
  {
   "cell_type": "code",
   "execution_count": 512,
   "metadata": {},
   "outputs": [],
   "source": [
    "def read_saildrone(filename_usv):\n",
    "    #filename_usv='F:/data/cruise_data/saildrone/baja-2018/saildrone-gen_4-baja_2018-EP-sd1002-ALL-1_min-v1.nc'\n",
    "    ds_usv=xr.open_dataset(filename_usv)\n",
    "    ds_usv.close()\n",
    "    ds_usv = ds_usv.sel(trajectory=1002)\n",
    "    ilen_usv=(len(ds_usv.latitude['obs']))\n",
    "    ds_usv=ds_usv.rename({'latitude':'lat','longitude':'lon'})\n",
    "#used to create a whole new dataset to switch obs to time but found swap dim command\n",
    "    ds_usv=ds_usv.swap_dims({'obs':'time'})\n",
    "    #WS_height=int(ds_usv.UWND_MEAN.installed_height)\n",
    "    \n",
    "    lon = ds_usv.lon\n",
    "    lat = ds_usv.lat\n",
    "    del ds_usv['lon']\n",
    "    del ds_usv['lat']\n",
    "    ds_usv['lon'] = ('time', lon)\n",
    "    ds_usv['lat'] = ('time', lat)   \n",
    "    \n",
    "    #usv is at 4.5 m, buoys are at 5m.  leave alone rather than changing to 10m wind\n",
    "    #ds_usv['UWND_MEAN'] = (ds_usv.UWND_MEAN*log(10./1e-4))/log(WS_height/1e-4)\n",
    "    #ds_usv['VWND_MEAN'] = (ds_usv.VWND_MEAN*log(10./1e-4))/log(WS_height/1e-4)\n",
    "    #make 10 min averages with time at end of average like buoy data\n",
    "    ds_usv_10min = ds_usv.resample(time='10min', skipna=True, closed='right', label='right').mean('time') \n",
    "\n",
    "    #this calculates hourly data that only uses the last 8 minutes of each hour for the average\n",
    "    sub = ds_usv.copy(deep=True)\n",
    "    pt = pd.to_datetime(sub.time.data)\n",
    "    pmin=pt.minute\n",
    "    tem=sub.where(pmin>=52)  #data average should be only use min 52  to :60 \n",
    "    ds_usv_1hr = tem.resample(time='1h', skipna=True, label='right').mean()\n",
    "    return ds_usv_10min,ds_usv_1hr\n",
    " "
   ]
  },
  {
   "cell_type": "code",
   "execution_count": 590,
   "metadata": {},
   "outputs": [],
   "source": [
    "def get_buoy_data(ibuoy):\n",
    "    if ibuoy==0:\n",
    "        sbuoy_id,sdep=['46011','D5']\n",
    "    if ibuoy==1:\n",
    "        sbuoy_id,sdep=['46012','D5']\n",
    "    if ibuoy==2:\n",
    "        sbuoy_id,sdep=['46028','D6']\n",
    "    if ibuoy==3:\n",
    "        sbuoy_id,sdep=['46042','D4']\n",
    "    if ibuoy==4:\n",
    "        sbuoy_id,sdep=['46047','D6']\n",
    "    if ibuoy==5:\n",
    "        sbuoy_id,sdep=['46086','D5']\n",
    "    fname='F:/data/cruise_data/saildrone/baja-2018/buoy_data/NDBC_'+sbuoy_id+'_201804_'+sdep+'_v0010min_xrformat.nc'\n",
    "    xr_buoy10=xr.open_dataset(fname)\n",
    "    fname='F:/data/cruise_data/saildrone/baja-2018/buoy_data/NDBC_'+sbuoy_id+'_201805_'+sdep+'_v0010min_xrformat.nc'\n",
    "    tem=xr.open_dataset(fname)\n",
    "    xr_buoy10 = xr.concat([xr_buoy10, tem],'time')\n",
    "    fname='F:/data/cruise_data/saildrone/baja-2018/buoy_data/NDBC_'+sbuoy_id+'_201806_'+sdep+'_v0010min_xrformat.nc'\n",
    "    tem=xr.open_dataset(fname)\n",
    "    xr_buoy10 = xr.concat([xr_buoy10, tem],'time')\n",
    "    btime10=xr_buoy10.time\n",
    "    \n",
    "#read in hourly buoy data   \n",
    "    fname='F:/data/cruise_data/saildrone/baja-2018/buoy_data/NDBC_'+sbuoy_id+'_201804_'+sdep+'_v00hrly_xrformat.nc'\n",
    "    xr_buoy=xr.open_dataset(fname)\n",
    "    fname='F:/data/cruise_data/saildrone/baja-2018/buoy_data/NDBC_'+sbuoy_id+'_201805_'+sdep+'_v00hrly_xrformat.nc'\n",
    "    tem=xr.open_dataset(fname)\n",
    "    xr_buoy = xr.concat([xr_buoy, tem],'time')\n",
    "    fname='F:/data/cruise_data/saildrone/baja-2018/buoy_data/NDBC_'+sbuoy_id+'_201806_'+sdep+'_v00hrly_xrformat.nc'\n",
    "    tem=xr.open_dataset(fname)\n",
    "    xr_buoy = xr.concat([xr_buoy, tem],'time')\n",
    "    time=xr_buoy.time\n",
    "    \n",
    "    xr_buoy['air_pres1']=xr_buoy.air_pres1/100.\n",
    "    xr_buoy['air_pres2']=xr_buoy.air_pres2/100.\n",
    "    xr_buoy['air_pres_sea_level1']=xr_buoy.air_pres_sea_level1/100.\n",
    "    xr_buoy['air_pres_sea_level2']=xr_buoy.air_pres_sea_level2/100.\n",
    "    \n",
    "    #caluclate the best SST using quality flags then use these to calculate u and v\n",
    "    xr_buoy['sst_best']=xr_buoy['sst1'].copy(deep=True)\n",
    "    xr_buoy['sstqc_best']=xr_buoy['sst1qc'].copy(deep=True)\n",
    "    xr_buoy['sst_best']=xr_buoy.sst2.where((xr_buoy.sst1qc!=0) & (xr_buoy.sst2qc==0),other=xr_buoy.sst_best)\n",
    "    xr_buoy['sstqc_best']=xr_buoy.sst2qc.where((xr_buoy.sst1qc!=0) & (xr_buoy.sst2qc==0),other=xr_buoy.sstqc_best)\n",
    "\n",
    "    #caluclate the best AIR using quality flags then use these to calculate u and v\n",
    "    xr_buoy['air_best']=xr_buoy['air1'].copy(deep=True)\n",
    "    xr_buoy['airqc_best']=xr_buoy['air1qc'].copy(deep=True)\n",
    "    xr_buoy['air_best']=xr_buoy.air2.where((xr_buoy.air1qc!=0) & (xr_buoy.air2qc==0),other=xr_buoy.air_best)\n",
    "    xr_buoy['airqc_best']=xr_buoy.air2qc.where((xr_buoy.air1qc!=0) & (xr_buoy.air2qc==0),other=xr_buoy.airqc_best) \n",
    "\n",
    "    #caluclate the best AIR using quality flags then use these to calculate u and v\n",
    "    xr_buoy['air_pres_best']=xr_buoy['air_pres1'].copy(deep=True)\n",
    "    xr_buoy['air_presqc_best']=xr_buoy['air_pres1qc'].copy(deep=True)\n",
    "    xr_buoy['air_pres_best']=xr_buoy.air_pres2.where((xr_buoy.air_pres1qc!=0) & (xr_buoy.air_pres2qc==0),other=xr_buoy.air_pres_best)\n",
    "    xr_buoy['air_presqc_best']=xr_buoy.air_pres2qc.where((xr_buoy.air_pres1qc!=0) & (xr_buoy.air_pres2qc==0),other=xr_buoy.air_presqc_best) \n",
    "\n",
    "    #caluclate the best AIR using quality flags then use these to calculate u and v\n",
    "    xr_buoy['air_pres_sea_level_best']=xr_buoy['air_pres_sea_level1'].copy(deep=True)\n",
    "    xr_buoy['air_pres_sea_levelqc_best']=xr_buoy['air_pres_sea_level1qc'].copy(deep=True)\n",
    "    xr_buoy['air_pres_sea_level_best']=xr_buoy.air_pres_sea_level2.where((xr_buoy.air_pres_sea_level1qc!=0) & (xr_buoy.air_pres_sea_level2qc==0),other=xr_buoy.air_pres_sea_level_best)\n",
    "    xr_buoy['air_pres_sea_levelqc_best']=xr_buoy.air_pres_sea_level2qc.where((xr_buoy.air_pres_sea_level1qc!=0) & (xr_buoy.air_pres_sea_level2qc==0),other=xr_buoy.air_pres_sea_levelqc_best) \n",
    "\n",
    "    #caluclate the best wind speed and dirction using quality flags then use these to calculate u and v\n",
    "    xr_buoy['wnd_best']=xr_buoy['wnd1'].copy(deep=True)\n",
    "    xr_buoy['wdir_best']=xr_buoy['wdir1'].copy(deep=True)\n",
    "    xr_buoy['wdirqc_best']=xr_buoy['wdir1qc'].copy(deep=True)\n",
    "    xr_buoy['wnd_best']=xr_buoy.wnd2.where((xr_buoy.wdir1qc!=0) & (xr_buoy.wdir2qc==0),other=xr_buoy.wnd_best)\n",
    "    xr_buoy['wnd_best']=xr_buoy.wnd3.where((xr_buoy.wdir1qc!=0) & (xr_buoy.wdir3qc==0),other=xr_buoy.wnd_best)\n",
    "    xr_buoy['wnd_best']=xr_buoy.wnd4.where((xr_buoy.wdir1qc!=0) & (xr_buoy.wdir4qc==0),other=xr_buoy.wnd_best)\n",
    "    xr_buoy['wdir_best']=xr_buoy.wdir2.where((xr_buoy.wdir1qc!=0) & (xr_buoy.wdir2qc==0),other=xr_buoy.wdir_best)\n",
    "    xr_buoy['wdir_best']=xr_buoy.wdir3.where((xr_buoy.wdir1qc!=0) & (xr_buoy.wdir3qc==0),other=xr_buoy.wdir_best)\n",
    "    xr_buoy['wdir_best']=xr_buoy.wdir4.where((xr_buoy.wdir1qc!=0) & (xr_buoy.wdir4qc==0),other=xr_buoy.wdir_best)\n",
    "    xr_buoy['wdirqc_best']=xr_buoy.wdir2qc.where((xr_buoy.wdir1qc!=0) & (xr_buoy.wdir2qc==0),other=xr_buoy.wdirqc_best)\n",
    "    xr_buoy['wdirqc_best']=xr_buoy.wdir3qc.where((xr_buoy.wdir1qc!=0) & (xr_buoy.wdir3qc==0),other=xr_buoy.wdirqc_best)\n",
    "    xr_buoy['wdirqc_best']=xr_buoy.wdir4qc.where((xr_buoy.wdir1qc!=0) & (xr_buoy.wdir4qc==0),other=xr_buoy.wdirqc_best)\n",
    "    #now caluclate the wind vectors & adjust from met convention\n",
    "    xr_buoy['wnd_best']=xr_buoy.wnd_best.where(xr_buoy.wdirqc_best==0)\n",
    "    xr_buoy['wdir_best']=xr_buoy.wdir_best.where(xr_buoy.wdirqc_best==0)\n",
    "    xr_buoy['uwnd_best']=-1*xr_buoy.wnd_best*np.sin((xr_buoy.wdir_best)*pi/180.) #met conv is deg clock from true north, wind from\n",
    "    xr_buoy['vwnd_best']=-1*xr_buoy.wnd_best*np.cos((xr_buoy.wdir_best)*pi/180.)\n",
    "    #caluclate the best wind speed and dirction using quality flags then use these to calculate u and v\n",
    "    xr_buoy10['wnd_best']=xr_buoy10['wnd1'].copy(deep=True)\n",
    "    xr_buoy10['wdir_best']=xr_buoy10['wdir1'].copy(deep=True)\n",
    "    xr_buoy10['wdirqc_best']=xr_buoy10['wdir1qc'].copy(deep=True)\n",
    "    xr_buoy10['wnd_best']=xr_buoy10.wnd2.where((xr_buoy10.wdir1qc!=0) & (xr_buoy10.wdir2qc==0),other=xr_buoy10.wnd_best)\n",
    "    xr_buoy10['wnd_best']=xr_buoy10.wnd3.where((xr_buoy10.wdir1qc!=0) & (xr_buoy10.wdir3qc==0),other=xr_buoy10.wnd_best)\n",
    "    xr_buoy10['wnd_best']=xr_buoy10.wnd4.where((xr_buoy10.wdir1qc!=0) & (xr_buoy10.wdir4qc==0),other=xr_buoy10.wnd_best)\n",
    "    xr_buoy10['wdir_best']=xr_buoy10.wdir2.where((xr_buoy10.wdir1qc!=0) & (xr_buoy10.wdir2qc==0),other=xr_buoy10.wdir_best)\n",
    "    xr_buoy10['wdir_best']=xr_buoy10.wdir3.where((xr_buoy10.wdir1qc!=0) & (xr_buoy10.wdir3qc==0),other=xr_buoy10.wdir_best)\n",
    "    xr_buoy10['wdir_best']=xr_buoy10.wdir4.where((xr_buoy10.wdir1qc!=0) & (xr_buoy10.wdir4qc==0),other=xr_buoy10.wdir_best)\n",
    "    xr_buoy10['wdirqc_best']=xr_buoy10.wdir2qc.where((xr_buoy10.wdir1qc!=0) & (xr_buoy10.wdir2qc==0),other=xr_buoy10.wdirqc_best)\n",
    "    xr_buoy10['wdirqc_best']=xr_buoy10.wdir3qc.where((xr_buoy10.wdir1qc!=0) & (xr_buoy10.wdir3qc==0),other=xr_buoy10.wdirqc_best)\n",
    "    xr_buoy10['wdirqc_best']=xr_buoy10.wdir4qc.where((xr_buoy10.wdir1qc!=0) & (xr_buoy10.wdir4qc==0),other=xr_buoy10.wdirqc_best)\n",
    "    #now caluclate the wind vectors & adjust from met convention\n",
    "    xr_buoy10['wnd_best']=xr_buoy10.wnd_best.where(xr_buoy10.wdirqc_best==0)\n",
    "    xr_buoy10['wdir_best']=xr_buoy10.wdir_best.where(xr_buoy10.wdirqc_best==0)\n",
    "    xr_buoy10['uwnd_best']=-1*xr_buoy10.wnd_best*np.sin((xr_buoy10.wdir_best)*pi/180.) #met conv is deg clock from true north, wind from\n",
    "    xr_buoy10['vwnd_best']=-1*xr_buoy10.wnd_best*np.cos((xr_buoy10.wdir_best)*pi/180.)\n",
    "\n",
    "    cond = xr_buoy.lat > 90\n",
    "    xr_buoy.lat[cond]=np.nan\n",
    "    cond = xr_buoy.lon > 90\n",
    "    xr_buoy.lon[cond]=np.nan   \n",
    "    cond = xr_buoy10.lat > 90\n",
    "    xr_buoy10.lat[cond]=np.nan\n",
    "    cond = xr_buoy10.lon > 90\n",
    "    xr_buoy10.lon[cond]=np.nan   \n",
    "    \n",
    "    return xr_buoy,xr_buoy10,sbuoy_id"
   ]
  },
  {
   "cell_type": "code",
   "execution_count": 591,
   "metadata": {},
   "outputs": [
    {
     "name": "stderr",
     "output_type": "stream",
     "text": [
      "C:\\Users\\gentemann\\Miniconda3\\lib\\site-packages\\xarray\\core\\nanops.py:161: RuntimeWarning: Mean of empty slice\n",
      "  return np.nanmean(a, axis=axis, dtype=dtype)\n",
      "C:\\Users\\gentemann\\Miniconda3\\lib\\site-packages\\xarray\\core\\nanops.py:161: RuntimeWarning: Mean of empty slice\n",
      "  return np.nanmean(a, axis=axis, dtype=dtype)\n"
     ]
    }
   ],
   "source": [
    "#read in saildrone data and average to 10 min and 60 min\n",
    "filename_usv='F:/data/cruise_data/saildrone/baja-2018/saildrone-gen_4-baja_2018-sd1002-20180411T180000-20180611T055959-1_minutes-v1.nc'\n",
    "ds_usv_10min,ds_suv_1hr = read_saildrone(filename_usv)\n"
   ]
  },
  {
   "cell_type": "code",
   "execution_count": 728,
   "metadata": {},
   "outputs": [
    {
     "name": "stderr",
     "output_type": "stream",
     "text": [
      "C:\\Users\\gentemann\\Miniconda3\\lib\\site-packages\\xarray\\core\\nanops.py:161: RuntimeWarning: Mean of empty slice\n",
      "  return np.nanmean(a, axis=axis, dtype=dtype)\n",
      "C:\\Users\\gentemann\\Miniconda3\\lib\\site-packages\\xarray\\core\\nanops.py:161: RuntimeWarning: Mean of empty slice\n",
      "  return np.nanmean(a, axis=axis, dtype=dtype)\n"
     ]
    },
    {
     "data": {
      "image/png": "[encoded data removed]",
      "text/plain": [
       "<Figure size 720x288 with 2 Axes>"
      ]
     },
     "metadata": {
      "needs_background": "light"
     },
     "output_type": "display_data"
    }
   ],
   "source": [
    "#make figure showing problem at low winds\n",
    "sv_data=np.zeros((7,16))\n",
    "fig, (ax1, ax2) = plt.subplots(1,2,figsize=(10,4))\n",
    "for ibuoy in range(0,6):\n",
    "\n",
    "    xr_buoy,xr_buoy10,sbuoy_id = get_buoy_data(ibuoy)     \n",
    "    btime=xr_buoy.time\n",
    "    btime10=xr_buoy10.time\n",
    "\n",
    "    #interpolate USV onto buoy \n",
    "    ilen_usv=(len(ds_usv.TEMP_CTD_MEAN['time']))\n",
    "    #filled=ds_usv.interpolate_na(dim='time') #fill nan by interpolating\n",
    "    ds_usv10=ds_usv_10min.interp(time=btime10,method='nearest')\n",
    "    ds_usvhr=ds_usv_1hr.interp(time=btime,method='nearest')\n",
    "    \n",
    "    dwin=.05\n",
    "    dist=((ds_usvhr.lat-xr_buoy.lat)**2+(ds_usvhr.lon-xr_buoy.lon)**2)**.5\n",
    "    cond,cond2 = (dist < dwin),((dist < dwin) & np.isfinite(ds_usvhr.UWND_MEAN) & np.isfinite(xr_buoy.wnd_best))\n",
    "    subset_usv=ds_usvhr.where(cond,drop=True)\n",
    "    subset_buoy=xr_buoy.where(cond,drop=True) #[cond]\n",
    "    subset_usv_nonan=ds_usvhr.where(cond2,drop=True)\n",
    "    subset_buoy_nonan=xr_buoy.where(cond2,drop=True) #[cond]\n",
    "    dist=((ds_usv10.lat-xr_buoy10.lat)**2+(ds_usv10.lon-xr_buoy10.lon)**2)**.5\n",
    "    cond,cond2 = (dist < dwin),((dist < dwin) & np.isfinite(ds_usv10.UWND_MEAN) & np.isfinite(xr_buoy10.wnd_best))\n",
    "#    cond = (dist < dwin)\n",
    "    subset_usv10=ds_usv10.where(cond,drop=True)\n",
    "    subset_buoy10=xr_buoy10.where(cond,drop=True) #[cond]\n",
    "    subset_usv10_nonan=ds_usv10.where(cond2,drop=True)\n",
    "    subset_buoy10_nonan=xr_buoy10.where(cond2,drop=True) #[cond]\n",
    "\n",
    "    usv_spd = np.sqrt(subset_usv10_nonan.UWND_MEAN**2+subset_usv10_nonan.VWND_MEAN**2)\n",
    "    buoy_spd = np.sqrt(subset_buoy10_nonan.uwnd_best**2+subset_buoy10_nonan.vwnd_best**2)\n",
    "    usv_dir = np.arctan2(subset_usv10_nonan.VWND_MEAN,subset_usv10_nonan.UWND_MEAN)*180/pi\n",
    "    buoy_dir = np.arctan2(subset_buoy10_nonan.vwnd_best,subset_buoy10_nonan.uwnd_best)*180/pi\n",
    "    dif_spd,dif_dir = usv_spd - buoy_spd, usv_dir - buoy_dir\n",
    "    cond,cond2 = (dif_dir > 180),(dif_dir < -180)\n",
    "    cond,cond2 = (dif_dir > 180),(dif_dir < -180)\n",
    "    dif_dir[cond]-=360\n",
    "    dif_dir[cond2]+=360\n",
    "    sv_data[ibuoy,11:13]=[dif_spd.mean().data,dif_spd.std().data]\n",
    "    sv_data[ibuoy,13:16]=[dif_dir.mean().data,dif_dir.std().data,dif_spd.shape[0]]\n",
    "    if dif_spd.shape[0]<1:\n",
    "        continue\n",
    "    ax1.plot(usv_spd,dif_dir,'.')\n",
    "    ax1.legend({'46011','46012','46042','46086'})\n",
    "    ax1.set_xlabel('USV wind speed (ms$^{-1}$)')\n",
    "    ax1.set_ylabel('USV - buoy wind direction (deg)')\n",
    "\n",
    "    ax2.plot(usv_spd,dif_spd,'.')\n",
    "    #ax2.legend({'46011','46012','46042','46086'})\n",
    "    ax2.set_xlabel('USV wind speed (ms$^{-1}$)')\n",
    "    ax2.set_ylabel('USV - buoy wind speed (ms$^{-1}$)')\n",
    "\n",
    "    fig_fname='F:/data/cruise_data/saildrone/baja-2018/figs/buoy_figures/buoy_wdir_wspd_both_bias.png'\n",
    "    fig.savefig(fig_fname, transparent=False, format='png')\n"
   ]
  },
  {
   "cell_type": "code",
   "execution_count": 705,
   "metadata": {},
   "outputs": [
    {
     "name": "stderr",
     "output_type": "stream",
     "text": [
      "C:\\Users\\gentemann\\Miniconda3\\lib\\site-packages\\xarray\\core\\nanops.py:161: RuntimeWarning: Mean of empty slice\n",
      "  return np.nanmean(a, axis=axis, dtype=dtype)\n",
      "C:\\Users\\gentemann\\Miniconda3\\lib\\site-packages\\xarray\\core\\nanops.py:161: RuntimeWarning: Mean of empty slice\n",
      "  return np.nanmean(a, axis=axis, dtype=dtype)\n"
     ]
    },
    {
     "data": {
      "image/png": "[encoded data removed]",
      "text/plain": [
       "<Figure size 432x288 with 1 Axes>"
      ]
     },
     "metadata": {
      "needs_background": "light"
     },
     "output_type": "display_data"
    }
   ],
   "source": []
  },
  {
   "cell_type": "code",
   "execution_count": 719,
   "metadata": {
    "scrolled": true
   },
   "outputs": [
    {
     "name": "stdout",
     "output_type": "stream",
     "text": [
      "46011\n",
      "sst: 0.198222566303424 0.18893214953899387 19\n",
      "air: 0.2347374845805677 0.1319235898214805 19\n",
      "air_pres: -13.669999999999977 6.087062207320483 19\n",
      "wnd_spd: 1.033220227038841 0.5727957265847895\n",
      "wnd_dir: -8.455760052008017 6.054220769073242\n",
      "wnd_spd: 0.4380206344207904 0.48846687750211215 112\n",
      "wnd_dir: -8.387297649786815 4.51024222502909 112\n",
      "46012\n",
      "sst: -0.13500915527345114 0.008246948242174312 2\n",
      "air: -0.010009155273451142 0.040003051757821595 2\n",
      "air_pres: -15.67999999999995 0.12000000000000455 2\n",
      "wnd_spd: 0.9094330432475708 0.4821548337885755\n",
      "wnd_dir: -4.1147644003549715 5.7931691051089516\n",
      "wnd_spd: 0.43253294865004044 0.4461407081008814 13\n",
      "wnd_dir: -4.574647350059222 3.048717053735349 13\n",
      "46028\n",
      "sst: -0.025793789950308173 0.3113033868472401 22\n",
      "air: -0.17318348277701354 0.11534263555330461 22\n",
      "air_pres: -13.868636363636334 5.673858151409331 22\n",
      "wnd_spd: nan nan\n",
      "wnd_dir: nan nan\n",
      "wnd_spd: nan nan 0\n",
      "wnd_dir: nan nan 0\n"
     ]
    },
    {
     "name": "stderr",
     "output_type": "stream",
     "text": [
      "C:\\Users\\gentemann\\Miniconda3\\lib\\site-packages\\xarray\\core\\nanops.py:161: RuntimeWarning: Mean of empty slice\n",
      "  return np.nanmean(a, axis=axis, dtype=dtype)\n",
      "C:\\Users\\gentemann\\Miniconda3\\lib\\site-packages\\xarray\\core\\nanops.py:161: RuntimeWarning: Mean of empty slice\n",
      "  return np.nanmean(a, axis=axis, dtype=dtype)\n"
     ]
    },
    {
     "name": "stdout",
     "output_type": "stream",
     "text": [
      "46042\n",
      "sst: -0.019185509314927282 0.05933625495805555 13\n",
      "air: -0.003840050330552458 0.06776850889285217 13\n",
      "air_pres: -12.019230769230795 7.062599719147285 13\n",
      "wnd_spd: 0.6166928327573196 0.6630838938736809\n",
      "wnd_dir: -4.099836363937345 5.454487861924321\n",
      "wnd_spd: 0.27937490782058105 0.45199758619700975 74\n",
      "wnd_dir: -3.203778881477334 4.002068549174379 74\n",
      "46047\n",
      "sst: -0.18773803710939774 0.08129134603209232 13\n",
      "air: 0.042301119290838275 0.0616653322137223 13\n",
      "air_pres: -12.157692307692278 6.964615129734406 13\n",
      "wnd_spd: nan nan\n",
      "wnd_dir: nan nan\n",
      "wnd_spd: nan nan 0\n",
      "wnd_dir: nan nan 0\n"
     ]
    },
    {
     "name": "stderr",
     "output_type": "stream",
     "text": [
      "C:\\Users\\gentemann\\Miniconda3\\lib\\site-packages\\xarray\\core\\nanops.py:161: RuntimeWarning: Mean of empty slice\n",
      "  return np.nanmean(a, axis=axis, dtype=dtype)\n",
      "C:\\Users\\gentemann\\Miniconda3\\lib\\site-packages\\xarray\\core\\nanops.py:161: RuntimeWarning: Mean of empty slice\n",
      "  return np.nanmean(a, axis=axis, dtype=dtype)\n"
     ]
    },
    {
     "name": "stdout",
     "output_type": "stream",
     "text": [
      "46086\n",
      "sst: -0.06029827202692988 0.05375015308581767 18\n",
      "air: -0.021662936740474 0.07342902422392324 18\n",
      "air_pres: -13.729444444444413 6.203180610892948 18\n",
      "wnd_spd: 0.9029211297211575 0.6795444926214662\n",
      "wnd_dir: -7.407391328765907 8.676409886635783\n",
      "wnd_spd: 0.22239477948248168 0.5644384189934243 108\n",
      "wnd_dir: -6.374788417844617 7.491961367996163 79\n"
     ]
    }
   ],
   "source": [
    "sv_data=np.zeros((7,19))\n",
    "for ibuoy in range(0,6):\n",
    "\n",
    "    xr_buoy,xr_buoy10,sbuoy_id = get_buoy_data(ibuoy)\n",
    "      \n",
    "    #print(xr_buoy.air_pres1[0:5])\n",
    "    #fname='F:/data/cruise_data/saildrone/baja-2018/buoy_data/NDBC_46011_201804_D5_v00hrly_xrformat.nc'\n",
    "    #xr_buoy=xr.open_dataset(fname)\n",
    "    btime=xr_buoy.time\n",
    "    btime10=xr_buoy10.time\n",
    "\n",
    "    #interpolate USV onto buoy \n",
    "    ilen_usv=(len(ds_usv.TEMP_CTD_MEAN['time']))\n",
    "    #filled=ds_usv.interpolate_na(dim='time') #fill nan by interpolating\n",
    "    ds_usv10=ds_usv_10min.interp(time=btime10,method='nearest')\n",
    "    ds_usvhr=ds_usv_1hr.interp(time=btime,method='nearest')\n",
    "    ds_usv10['wspd']=np.sqrt(ds_usv10.UWND_MEAN**2+ds_usv10.VWND_MEAN**2)\n",
    "    ds_usvhr['wspd']=np.sqrt(ds_usvhr.UWND_MEAN**2+ds_usvhr.VWND_MEAN**2)\n",
    "    \n",
    "    dwin=.05\n",
    "    bair=xr_buoy.air1\n",
    "    dist=((ds_usvhr.lat-xr_buoy.lat)**2+(ds_usvhr.lon-xr_buoy.lon)**2)**.5\n",
    "    cond,cond2 = (dist < dwin),((dist < dwin) & np.isfinite(ds_usvhr.UWND_MEAN) & np.isfinite(xr_buoy.wnd_best))\n",
    "    cond3 = ((dist < dwin) & np.isfinite(ds_usvhr.UWND_MEAN) & np.isfinite(xr_buoy.wnd_best) & (ds_usvhr.wspd>3.5))\n",
    "    subset_usv=ds_usvhr.where(cond,drop=True)\n",
    "    subset_buoy=xr_buoy.where(cond,drop=True) #[cond]\n",
    "    subset_usv_nonan=ds_usvhr.where(cond2,drop=True)\n",
    "    subset_buoy_nonan=xr_buoy.where(cond2,drop=True) #[cond]\n",
    "    subset_usv_nonan_nolow=ds_usvhr.where(cond3,drop=True)\n",
    "    subset_buoy_nonan_nolow=xr_buoy.where(cond3,drop=True) #[cond]\n",
    "\n",
    "    dist=((ds_usv10.lat-xr_buoy10.lat)**2+(ds_usv10.lon-xr_buoy10.lon)**2)**.5\n",
    "    cond,cond2 = (dist < dwin),((dist < dwin) & np.isfinite(ds_usv10.UWND_MEAN) & np.isfinite(xr_buoy10.wnd_best))\n",
    "    cond3 = ((dist < dwin) & np.isfinite(ds_usv10.UWND_MEAN) & np.isfinite(xr_buoy10.wnd_best) & (ds_usv10.wspd>3.5))\n",
    "    subset_usv10=ds_usv10.where(cond,drop=True)\n",
    "    subset_buoy10=xr_buoy10.where(cond,drop=True) #[cond]\n",
    "    subset_usv10_nonan=ds_usv10.where(cond2,drop=True)\n",
    "    subset_buoy10_nonan=xr_buoy10.where(cond2,drop=True) #[cond]\n",
    "    subset_usv10_nonan_nolow=ds_usv10.where(cond3,drop=True)\n",
    "    subset_buoy10_nonan_nolow=xr_buoy10.where(cond3,drop=True) #[cond]\n",
    "\n",
    "    print(sbuoy_id) #,subset_usv.shape)\n",
    "    sdif = (subset_usv.TEMP_CTD_MEAN-subset_buoy.sst_best+273.15).dropna('time')\n",
    "    ilen = sdif.shape[0]\n",
    "    print('sst:',sdif.mean().data,sdif.std().data,sdif.shape[0])\n",
    "    sv_data[ibuoy,0:2]=[sdif.mean().data,sdif.std().data]\n",
    "    sdif = (subset_usv.TEMP_AIR_MEAN-subset_buoy.air_best+273.15).dropna('time')\n",
    "    print('air:',(sdif).mean().data,(sdif).std().data,sdif.shape[0])\n",
    "    sv_data[ibuoy,2:4]=[sdif.mean().data,sdif.std().data]\n",
    "    sdif = (subset_usv.BARO_PRES_MEAN-subset_buoy.air_pres_best).dropna('time')\n",
    "    print('air_pres:',(sdif).mean().data,(sdif).std().data,sdif.shape[0])\n",
    "    sv_data[ibuoy,4:6]=[sdif.mean().data,sdif.std().data]\n",
    "    usv_spd = np.sqrt(subset_usv_nonan.UWND_MEAN**2+subset_usv_nonan.VWND_MEAN**2)\n",
    "    buoy_spd = np.sqrt(subset_buoy_nonan.uwnd_best**2+subset_buoy_nonan.vwnd_best**2)\n",
    "    usv_dir = np.arctan2(subset_usv_nonan_nolow.VWND_MEAN,subset_usv_nonan_nolow.UWND_MEAN)*180/pi\n",
    "    buoy_dir = np.arctan2(subset_buoy_nonan_nolow.vwnd_best,subset_buoy_nonan_nolow.uwnd_best)*180/pi\n",
    "    dif_spd,dif_dir = usv_spd - buoy_spd, usv_dir - buoy_dir\n",
    "    cond,cond2 = (dif_dir > 180),(dif_dir < -180)\n",
    "    dif_dir[cond]-=360\n",
    "    dif_dir[cond2]+=360\n",
    "    print('wnd_spd:',dif_spd.mean().data,dif_spd.std().data)\n",
    "    print('wnd_dir:',dif_dir.mean().data,dif_dir.std().data)\n",
    "    sv_data[ibuoy,6:9]=[dif_spd.mean().data,dif_spd.std().data,dif_spd.shape[0]]\n",
    "    sv_data[ibuoy,9:12]=[dif_dir.mean().data,dif_dir.std().data,dif_dir.shape[0]]\n",
    "    usv_spd = np.sqrt(subset_usv10_nonan.UWND_MEAN**2+subset_usv10_nonan.VWND_MEAN**2)\n",
    "    buoy_spd = np.sqrt(subset_buoy10_nonan.uwnd_best**2+subset_buoy10_nonan.vwnd_best**2)\n",
    "    usv_dir = np.arctan2(subset_usv10_nonan_nolow.VWND_MEAN,subset_usv10_nonan_nolow.UWND_MEAN)*180/pi\n",
    "    buoy_dir = np.arctan2(subset_buoy10_nonan_nolow.vwnd_best,subset_buoy10_nonan_nolow.uwnd_best)*180/pi\n",
    "    dif_spd,dif_dir = usv_spd - buoy_spd, usv_dir - buoy_dir\n",
    "    cond,cond2 = (dif_dir > 180),(dif_dir < -180)\n",
    "    dif_dir[cond]-=360\n",
    "    dif_dir[cond2]+=360\n",
    "    print('wnd_spd:',dif_spd.mean().data,dif_spd.std().data,dif_spd.shape[0])\n",
    "    print('wnd_dir:',dif_dir.mean().data,dif_dir.std().data,dif_dir.shape[0])\n",
    "    sv_data[ibuoy,12:15]=[dif_spd.mean().data,dif_spd.std().data,dif_spd.shape[0]]\n",
    "    sv_data[ibuoy,15:18]=[dif_dir.mean().data,dif_dir.std().data,dif_dir.shape[0]]\n"
   ]
  },
  {
   "cell_type": "code",
   "execution_count": 720,
   "metadata": {
    "scrolled": true
   },
   "outputs": [
    {
     "name": "stdout",
     "output_type": "stream",
     "text": [
      "[0.19822257 0.18893215 0.23473748 0.13192359]\n",
      "[-0.13500916  0.00824695 -0.01000916  0.04000305]\n",
      "[-0.02579379  0.31130339 -0.17318348  0.11534264]\n",
      "[-0.01918551  0.05933625 -0.00384005  0.06776851]\n",
      "[-0.18773804  0.08129135  0.04230112  0.06166533]\n",
      "[-0.06029827  0.05375015 -0.02166294  0.07342902]\n",
      "[-13.67         6.08706221   1.03322023   0.57279573]\n",
      "[-15.68         0.12         0.90943304   0.48215483]\n",
      "[-13.86863636   5.67385815          nan          nan]\n",
      "[-12.01923077   7.06259972   0.61669283   0.66308389]\n",
      "[-12.15769231   6.96461513          nan          nan]\n",
      "[-13.72944444   6.20318061   0.90292113   0.67954449]\n",
      "[19.         -8.45576005  6.05422077 19.        ]\n",
      "[ 2.         -4.1147644   5.79316911  2.        ]\n",
      "[ 0. nan nan  0.]\n",
      "[13.         -4.09983636  5.45448786 13.        ]\n",
      "[ 0. nan nan  0.]\n",
      "[18.         -7.40739133  8.67640989 13.        ]\n",
      "[  0.43802063   0.48846688 112.        ]\n",
      "[ 0.43253295  0.44614071 13.        ]\n",
      "[nan nan  0.]\n",
      "[ 0.27937491  0.45199759 74.        ]\n",
      "[nan nan  0.]\n",
      "[  0.22239478   0.56443842 108.        ]\n",
      "[ -8.38729765   4.51024223 112.        ]\n",
      "[-4.57464735  3.04871705 13.        ]\n",
      "[nan nan  0.]\n",
      "[-3.20377888  4.00206855 74.        ]\n",
      "[nan nan  0.]\n",
      "[-6.37478842  7.49196137 79.        ]\n"
     ]
    }
   ],
   "source": [
    "for i in range(0,6):\n",
    "    print(sv_data[i,0:4])\n",
    "for i in range(0,6):\n",
    "    print(sv_data[i,4:8])\n",
    "for i in range(0,6):\n",
    "    print(sv_data[i,8:12])\n",
    "for i in range(0,6):\n",
    "    print(sv_data[i,12:15])\n",
    "for i in range(0,6):\n",
    "    print(sv_data[i,15:18])"
   ]
  },
  {
   "cell_type": "code",
   "execution_count": 727,
   "metadata": {},
   "outputs": [
    {
     "name": "stdout",
     "output_type": "stream",
     "text": [
      "[-7.07662009e-02  4.73472151e-02 -1.33951947e-02  6.38009999e-02\n",
      " -1.38283981e+01  5.51510691e+00  8.26455609e-01  6.23743886e-01\n",
      "  1.19789830e+01  5.78089883e+00  0.00000000e+00  0.00000000e+00\n",
      "  2.58027219e-01  5.08212921e-01  0.00000000e+00 -5.05142155e+00\n",
      "  5.88047874e+00  0.00000000e+00  0.00000000e+00]\n",
      "195.0\n",
      "166.0\n"
     ]
    }
   ],
   "source": [
    "#now print out total mean and std (weighted)\n",
    "sv_data[np.isnan(sv_data)]=0\n",
    "for i in range(0,10,2):\n",
    "    sv_data[6,i]=(sv_data[1:6,i]*sv_data[1:6,10]).sum(axis=0)/(sv_data[1:6,10]).sum(axis=0)\n",
    "    sv_data[6,i+1]=(((sv_data[1:6,i+1]**2)*sv_data[1:6,10]).sum(axis=0)/(sv_data[1:6,10]).sum(axis=0))**.5\n",
    "for i in range(12,16,3):\n",
    "    sv_data[6,i]=(sv_data[1:6,i]*sv_data[1:6,14]).sum(axis=0)/(sv_data[1:6,14]).sum(axis=0)\n",
    "    sv_data[6,i+1]=(((sv_data[1:6,i+1]**2)*sv_data[1:6,17]).sum(axis=0)/(sv_data[1:6,17]).sum(axis=0))**.5\n",
    "    \n",
    "print(sv_data[6,:])\n",
    "print(sv_data[1:6,14].sum(axis=0))\n",
    "print(sv_data[1:6,17].sum(axis=0))\n"
   ]
  },
  {
   "cell_type": "code",
   "execution_count": 588,
   "metadata": {},
   "outputs": [
    {
     "name": "stderr",
     "output_type": "stream",
     "text": [
      "C:\\Users\\gentemann\\Miniconda3\\lib\\site-packages\\matplotlib\\quiver.py:647: RuntimeWarning: Mean of empty slice.\n",
      "  amean = a[~self.Umask].mean()\n",
      "C:\\Users\\gentemann\\Miniconda3\\lib\\site-packages\\numpy\\core\\_methods.py:85: RuntimeWarning: invalid value encountered in true_divide\n",
      "  ret = ret.dtype.type(ret / rcount)\n",
      "C:\\Users\\gentemann\\Miniconda3\\lib\\site-packages\\matplotlib\\quiver.py:717: RuntimeWarning: invalid value encountered in less\n",
      "  short = np.repeat(length < minsh, 8, axis=1)\n",
      "C:\\Users\\gentemann\\Miniconda3\\lib\\site-packages\\matplotlib\\quiver.py:731: RuntimeWarning: invalid value encountered in less\n",
      "  tooshort = length < self.minlength\n",
      "C:\\Users\\gentemann\\Miniconda3\\lib\\site-packages\\matplotlib\\quiver.py:647: RuntimeWarning: Mean of empty slice.\n",
      "  amean = a[~self.Umask].mean()\n",
      "C:\\Users\\gentemann\\Miniconda3\\lib\\site-packages\\numpy\\core\\_methods.py:85: RuntimeWarning: invalid value encountered in true_divide\n",
      "  ret = ret.dtype.type(ret / rcount)\n",
      "C:\\Users\\gentemann\\Miniconda3\\lib\\site-packages\\matplotlib\\quiver.py:717: RuntimeWarning: invalid value encountered in less\n",
      "  short = np.repeat(length < minsh, 8, axis=1)\n",
      "C:\\Users\\gentemann\\Miniconda3\\lib\\site-packages\\matplotlib\\quiver.py:731: RuntimeWarning: invalid value encountered in less\n",
      "  tooshort = length < self.minlength\n",
      "C:\\Users\\gentemann\\Miniconda3\\lib\\site-packages\\numpy\\core\\_methods.py:85: RuntimeWarning: invalid value encountered in double_scalars\n",
      "  ret = ret.dtype.type(ret / rcount)\n"
     ]
    },
    {
     "data": {
      "image/png": "[encoded data removed]",
      "text/plain": [
       "<Figure size 432x288 with 2 Axes>"
      ]
     },
     "metadata": {
      "needs_background": "light"
     },
     "output_type": "display_data"
    },
    {
     "data": {
      "text/plain": [
       "<Figure size 432x288 with 0 Axes>"
      ]
     },
     "metadata": {},
     "output_type": "display_data"
    },
    {
     "data": {
      "text/plain": [
       "<Figure size 432x288 with 0 Axes>"
      ]
     },
     "metadata": {},
     "output_type": "display_data"
    },
    {
     "data": {
      "text/plain": [
       "<Figure size 432x288 with 0 Axes>"
      ]
     },
     "metadata": {},
     "output_type": "display_data"
    },
    {
     "data": {
      "text/plain": [
       "<Figure size 432x288 with 0 Axes>"
      ]
     },
     "metadata": {},
     "output_type": "display_data"
    },
    {
     "data": {
      "text/plain": [
       "<Figure size 432x288 with 0 Axes>"
      ]
     },
     "metadata": {},
     "output_type": "display_data"
    },
    {
     "data": {
      "text/plain": [
       "<Figure size 432x288 with 0 Axes>"
      ]
     },
     "metadata": {},
     "output_type": "display_data"
    }
   ],
   "source": [
    "#plot buoy and saildrone data\n",
    "\n",
    "fig, (ax1, ax2) = plt.subplots(1,2)\n",
    "\n",
    "for ibuoy in range(0,6):\n",
    "\n",
    "    xr_buoy,xr_buoy10,sbuoy_id = get_buoy_data(ibuoy)\n",
    "      \n",
    "    #print(xr_buoy.air_pres1[0:5])\n",
    "    #fname='F:/data/cruise_data/saildrone/baja-2018/buoy_data/NDBC_46011_201804_D5_v00hrly_xrformat.nc'\n",
    "    #xr_buoy=xr.open_dataset(fname)\n",
    "    cond = xr_buoy.lat > 90\n",
    "    xr_buoy.lat[cond]=np.nan\n",
    "    cond = xr_buoy.lon > 90\n",
    "    xr_buoy.lon[cond]=np.nan\n",
    "    blat=xr_buoy.lat.mean()\n",
    "    blon=xr_buoy.lon.mean()\n",
    "    btime=xr_buoy.time\n",
    "\n",
    "    #interpolate USV onto buoy \n",
    "    ilen_usv=(len(ds_usv.TEMP_CTD_MEAN['time']))\n",
    "    #filled=ds_usv.interpolate_na(dim='time') #fill nan by interpolating\n",
    "    ds_usv10=ds_usv_10min.interp(time=btime10,method='nearest')\n",
    "    ds_usvhr=ds_usv_1hr.interp(time=btime,method='nearest')\n",
    "    \n",
    "    fig, (ax1, ax2) = plt.subplots(1,2)\n",
    "\n",
    "\n",
    "    dwin=.05\n",
    "    dist=((ds_usvhr.lat-xr_buoy.lat)**2+(ds_usvhr.lon-xr_buoy.lon)**2)**.5\n",
    "    cond = (dist < dwin)\n",
    "    subset_usv=ds_usvhr.where(cond,drop=True)\n",
    "    subset_buoy=xr_buoy.where(cond,drop=True) #[cond]\n",
    "    dist=((ds_usv10.lat-xr_buoy10.lat)**2+(ds_usv10.lon-xr_buoy10.lon)**2)**.5\n",
    "    cond = (dist < dwin)\n",
    "    subset_usv10=ds_usv10.where(cond,drop=True)\n",
    "    subset_buoy10=xr_buoy10.where(cond,drop=True) #[cond]\n",
    "\n",
    "    ax1.scatter(subset_usv10.lon,subset_usv10.lat, c=subset_usv10.TEMP_CTD_MEAN,s=5,marker = \"o\")\n",
    "    ax1.scatter(subset_buoy.lon,subset_buoy.lat, c=subset_buoy.sst_best,s=5,marker=\"D\")\n",
    "    ax1.quiver(subset_usv10.lon,subset_usv10.lat,subset_usv10.UWND_MEAN,subset_usv10.VWND_MEAN,color='k')\n",
    "    ax1.quiver(subset_buoy10.lon,subset_buoy10.lat,subset_buoy10.uwnd_best,subset_buoy10.vwnd_best,color='r')\n",
    "    ax1.legend(['USV','buoy'])\n",
    "    ymin, ymax = ax1.get_ylim()\n",
    "    xmin, xmax = ax1.get_xlim()\n",
    "#    print(xmin,xmax,ymin,ymax)\n",
    "    ax2.scatter(ds_usv.lon[0::60],ds_usv.lat[0::60], c=ds_usv.TEMP_CTD_MEAN[0::60],s=5,marker = \"o\")\n",
    "    ax2.scatter(xr_buoy.lon[0::60],xr_buoy.lat[0::60], c=xr_buoy.sst_best[0::60],s=5,marker=\"D\")\n",
    "    ax2.quiver(ds_usv.lon[0::60],ds_usv.lat[0::60],ds_usv.UWND_MEAN[0::60],ds_usv.VWND_MEAN[0::60],color='k')\n",
    "    ax2.quiver(xr_buoy.lon[0::60],xr_buoy.lat[0::60],xr_buoy.uwnd_best[0::60],xr_buoy.vwnd_best[0::60],color='r')\n",
    "    ax2.legend(['USV','buoy'])\n",
    "    ax2.set_ylim(ymin,ymax)\n",
    "    ax2.set_xlim(xmin,xmax)\n",
    "    \n",
    "    #ax2.plot(subset_usv10.time,subset_usv10.TEMP_CTD_MEAN-273.15,'.')\n",
    "    #ax2.plot(subset_buoy.time,subset_buoy.best_sst)\n",
    " #   ax2.set_xlim(tstart_buffer,tend_buffer)\n",
    " #   ax2.set_ylim(11,14.5)\n",
    "    # rotate and align the tick labels so they look better\n",
    "    fig.autofmt_xdate()\n",
    "    fig_fname='F:/data/cruise_data/saildrone/baja-2018/figs/buoy_figures/buoy_loc_image'+sbuoy_id+'_test.png'\n",
    "    fig.savefig(fig_fname, transparent=False, format='png')\n",
    "    plt.clf()\n",
    "\n"
   ]
  },
  {
   "cell_type": "code",
   "execution_count": null,
   "metadata": {},
   "outputs": [],
   "source": []
  },
  {
   "cell_type": "code",
   "execution_count": 546,
   "metadata": {},
   "outputs": [
    {
     "data": {
      "text/plain": [
       "<Figure size 432x288 with 0 Axes>"
      ]
     },
     "metadata": {},
     "output_type": "display_data"
    },
    {
     "data": {
      "text/plain": [
       "<Figure size 432x288 with 0 Axes>"
      ]
     },
     "metadata": {},
     "output_type": "display_data"
    },
    {
     "data": {
      "text/plain": [
       "<Figure size 432x288 with 0 Axes>"
      ]
     },
     "metadata": {},
     "output_type": "display_data"
    },
    {
     "data": {
      "text/plain": [
       "<Figure size 432x288 with 0 Axes>"
      ]
     },
     "metadata": {},
     "output_type": "display_data"
    },
    {
     "data": {
      "text/plain": [
       "<Figure size 432x288 with 0 Axes>"
      ]
     },
     "metadata": {},
     "output_type": "display_data"
    },
    {
     "data": {
      "text/plain": [
       "<Figure size 432x288 with 0 Axes>"
      ]
     },
     "metadata": {},
     "output_type": "display_data"
    },
    {
     "data": {
      "text/plain": [
       "<Figure size 432x288 with 0 Axes>"
      ]
     },
     "metadata": {},
     "output_type": "display_data"
    },
    {
     "data": {
      "text/plain": [
       "<Figure size 432x288 with 0 Axes>"
      ]
     },
     "metadata": {},
     "output_type": "display_data"
    },
    {
     "data": {
      "text/plain": [
       "<Figure size 432x288 with 0 Axes>"
      ]
     },
     "metadata": {},
     "output_type": "display_data"
    },
    {
     "data": {
      "text/plain": [
       "<Figure size 432x288 with 0 Axes>"
      ]
     },
     "metadata": {},
     "output_type": "display_data"
    },
    {
     "data": {
      "text/plain": [
       "<Figure size 432x288 with 0 Axes>"
      ]
     },
     "metadata": {},
     "output_type": "display_data"
    },
    {
     "data": {
      "text/plain": [
       "<Figure size 432x288 with 0 Axes>"
      ]
     },
     "metadata": {},
     "output_type": "display_data"
    },
    {
     "data": {
      "text/plain": [
       "<Figure size 432x288 with 0 Axes>"
      ]
     },
     "metadata": {},
     "output_type": "display_data"
    }
   ],
   "source": [
    "#plot buoy and saildrone data all on one figure\n",
    "\n",
    "fig, ax0 = plt.subplots(1,6)\n",
    "\n",
    "for ibuoy in range(0,6):\n",
    "\n",
    "    xr_buoy,xr_buoy10,sbuoy_id = get_buoy_data(ibuoy)\n",
    "      \n",
    "    #print(xr_buoy.air_pres1[0:5])\n",
    "    #fname='F:/data/cruise_data/saildrone/baja-2018/buoy_data/NDBC_46011_201804_D5_v00hrly_xrformat.nc'\n",
    "    #xr_buoy=xr.open_dataset(fname)\n",
    "    cond = xr_buoy.lat > 90\n",
    "    xr_buoy.lat[cond]=np.nan\n",
    "    cond = xr_buoy.lon > 90\n",
    "    xr_buoy.lon[cond]=np.nan\n",
    "    blat=xr_buoy.lat.mean()\n",
    "    blon=xr_buoy.lon.mean()\n",
    "    btime=xr_buoy.time\n",
    "      \n",
    "    dwin=.05\n",
    "    subset=ds_usv.copy(deep=True) #sel(time=slice(time_start1,time_end1))\n",
    "    lat_usv=subset.lat\n",
    "    lon_usv=subset.lon\n",
    "    time_usv=subset.time\n",
    "    sst_usv=subset.TEMP_CTD_MEAN\n",
    "\n",
    "    meets_condition = (lat_usv>blat-dwin) & (lat_usv<blat+dwin) & (lon_usv>blon-dwin) & (lon_usv<blon+dwin) #& time_usv<dt.datetime('2018-04-20')\n",
    "    if (lon_usv[meets_condition].shape[0]==0):\n",
    "        continue\n",
    "    ax1.scatter(lon_usv[meets_condition],lat_usv[meets_condition], c=sst_usv[meets_condition], s=5)\n",
    "    ax1.plot(xr_buoy.lon.sel(time=slice(tstart_buffer,tend_buffer)),xr_buoy.lat.sel(time=slice(tstart_buffer,tend_buffer)),'r.')\n",
    "    ax1.legend(['Buoy','USV'])\n",
    "    ax2.plot(subset.time[meets_condition],subset.TEMP_CTD_MEAN[meets_condition]-273.15,'.')\n",
    "    ax2.plot(xr_buoy.time,xr_buoy.sst1-273.15)\n",
    "    ax2.set_xlim(tstart_buffer,tend_buffer)\n",
    "    ax2.set_ylim(11,14.5)\n",
    "    # rotate and align the tick labels so they look better\n",
    "    fig.autofmt_xdate()\n",
    "    fig_fname='F:/data/cruise_data/saildrone/baja-2018/figs/buoy_figures/buoy_loc_image'+sbuoy_id+'_.png'\n",
    "    fig.savefig(fig_fname, transparent=False, format='png')\n",
    "    plt.clf()\n",
    "\n",
    "    dwin=.02\n",
    "    meets_condition = (lat_usv>blat-dwin) & (lat_usv<blat+dwin) & (lon_usv>blon-dwin) & (lon_usv<blon+dwin) #& time_usv<dt.datetime('2018-04-20')\n",
    "    fig, (ax1, ax2) = plt.subplots(1,2)\n",
    "    if (lon_usv[meets_condition].shape[0]==0):\n",
    "        continue\n",
    "    ax1.scatter(lon_usv[meets_condition],lat_usv[meets_condition], c=sst_usv[meets_condition], s=5)\n",
    "    ax1.plot(xr_buoy.lon.sel(time=slice(tstart_buffer,tend_buffer)),xr_buoy.lat.sel(time=slice(tstart_buffer,tend_buffer)),'r.')\n",
    "    ax1.legend(['Buoy','USV'])\n",
    "    ax2.plot(subset.time[meets_condition],subset.TEMP_CTD_MEAN[meets_condition]-273.15,'.')\n",
    "    ax2.plot(xr_buoy.time,xr_buoy.sst1-273.15)\n",
    "    ax2.set_xlim(tstart_buffer,tend_buffer)\n",
    "    ax2.set_ylim(11,14.5)\n",
    "    # rotate and align the tick labels so they look better\n",
    "    fig.autofmt_xdate()\n",
    "    fig_fname='F:/data/cruise_data/saildrone/baja-2018/figs/buoy_figures/buoy_loc_image'+sbuoy_id+'_02km.png'\n",
    "    fig.savefig(fig_fname, transparent=False, format='png')\n",
    "    plt.clf()\n",
    "\n",
    "    #now i only use part of buoy location that is for this time\n",
    "    dwin=.01\n",
    "#        blon_subset=xr_buoy.lon.sel(time=slice(time_start1,time_end1)).mean()\n",
    "#        blat_subset=xr_buoy.lat.sel(time=slice(time_start1,time_end1)).mean()\n",
    "    meets_condition = (lat_usv>blat-dwin) & (lat_usv<blat+dwin) & (lon_usv>blon-dwin) & (lon_usv<blon+dwin) #& time_usv<dt.datetime('2018-04-20')\n",
    "#        meets_condition = (lat_usv>blat_subset-dwin) & (lat_usv<blat_subset+dwin) & (lon_usv>blon_subset-dwin) & (lon_usv<blon_subset+dwin) #& time_usv<dt.datetime('2018-04-20')\n",
    "    fig, (ax1, ax2) = plt.subplots(1,2)\n",
    "    if (lon_usv[meets_condition].shape[0]==0):\n",
    "        continue\n",
    "    ax1.scatter(lon_usv[meets_condition],lat_usv[meets_condition], c=sst_usv[meets_condition], s=5)\n",
    "    ax1.plot(xr_buoy.lon.sel(time=slice(time_start1,time_end1)),xr_buoy.lat.sel(time=slice(time_start1,time_end1)),'r.')\n",
    "    ax1.legend(['Buoy','USV'])\n",
    "    ax2.plot(subset.time[meets_condition],subset.TEMP_CTD_MEAN[meets_condition]-273.15,'.')\n",
    "    ax2.plot(xr_buoy.time,xr_buoy.sst1-273.15)\n",
    "    ax2.set_xlim(time_start1,time_end1)\n",
    "    ax2.set_ylim(11,14.5)\n",
    "    # rotate and align the tick labels so they look better\n",
    "    fig.autofmt_xdate()\n",
    "    fig_fname='F:/data/cruise_data/saildrone/baja-2018/figs/buoy_figures/buoy_loc_image'+sbuoy_id+'_01km.png'\n",
    "    fig.savefig(fig_fname, transparent=False, format='png')\n",
    "    plt.clf()\n"
   ]
  },
  {
   "cell_type": "code",
   "execution_count": null,
   "metadata": {},
   "outputs": [],
   "source": []
  },
  {
   "cell_type": "code",
   "execution_count": null,
   "metadata": {},
   "outputs": [],
   "source": [
    "#####old\n",
    "filename_usv='F:/data/cruise_data/saildrone/baja-2018/saildrone-gen_4-baja_2018-sd1002-20180411T180000-20180611T055959-1_minutes-v1.nc'\n",
    "#ds_usv_tem=xr.open_dataset(filename_usv)\n",
    "ds_usv = read_saildrone(filename_usv)\n",
    "ilen_usv=(len(ds_usv.TEMP_CTD_MEAN['time']))\n",
    "filled=ds_usv.interpolate_na(dim='time') #fill nan by interpolating\n",
    "#move lat and lon into variables so that they don't disappear when interpolating\n",
    "lon = ds_usv.lon\n",
    "lat = ds_usv.lat\n",
    "del ds_usv['lon']\n",
    "del ds_usv['lat']\n",
    "ds_usv['lon'] = ('time', lon)\n",
    "ds_usv['lat'] = ('time', lat)\n",
    "ds_usv10=filled.interp(time=btime10)\n",
    "ds_usvhr=filled.interp(time=btime)\n",
    "\n",
    "#this take the average from min: 01 to :10 and assigns it :10\n",
    "#use this for the wind comparisons since they are 10 min ave\n",
    "subset = ds_usv.sel(time=slice('2018-04-10','2018-04-13'))\n",
    "ds_usv_10min = ds_usv.resample(time='10min', skipna=True, closed='right', label='right').mean('time') \n",
    "\n",
    "#this calculates hourly data that only uses the last 8 minutes of each hour for the average\n",
    "#use this for the hourly data comparisons\n",
    "sub = ds_usv.copy(deep=True)\n",
    "pt = pd.to_datetime(sub.time.data)\n",
    "pmin=pt.minute\n",
    "tem=sub.where(pmin>=52)  #data average should be only use min 52  to :60 \n",
    "ds_usv_1hr = tem.resample(time='1h', skipna=True, label='right').mean()\n"
   ]
  },
  {
   "cell_type": "code",
   "execution_count": null,
   "metadata": {},
   "outputs": [],
   "source": [
    "filename_usv='F:/data/cruise_data/saildrone/baja-2018/saildrone-gen_4-baja_2018-sd1002-20180411T180000-20180611T055959-1_minutes-v1.nc'\n",
    "ds_usv = read_saildrone(filename_usv)\n",
    "#ds_usv.close()\n",
    "ilen_usv=(len(ds_usv.TEMP_CTD_MEAN['time']))\n",
    "filled=ds_usv.interpolate_na(dim='time') #fill nan by interpolating\n",
    "#ds_usv10=filled.interp(time=btime10)\n",
    "#ds_usvhr=filled.interp(time=btime)\n",
    "#ds_usv10=filled.resample(time='10Min').mean()  #this code creates 10 averages\n",
    "#ds_usvhr=filled.resample(time='1H').mean()   #this code creates hourly averages\n",
    "#this take the average from min: 01 to :10 and assigns it :10\n",
    "ds_usv_10min = ds_usv.resample(time='10min', skipna=True, closed='right', label='right').mean('time') \n",
    "\n",
    "#this calculates hourly data that only uses the last 8 minutes of each hour for the average\n",
    "sub = ds_usv.copy(deep=True)\n",
    "pt = pd.to_datetime(sub.time.data)\n",
    "pmin=pt.minute\n",
    "tem=sub.where(pmin>=52)  #data average should be only use min 52  to :60 \n",
    "ds_usv_1hr = tem.resample(time='1h', skipna=True, label='right').mean()\n",
    "\n",
    "#dates_usv64=ds_usv.time[0,:].values\n",
    "#dates_usv=pd.to_datetime(dates_usv64, unit='ns')  #new way to caluclate the time array"
   ]
  },
  {
   "cell_type": "code",
   "execution_count": null,
   "metadata": {},
   "outputs": [],
   "source": [
    "#ds=xr.open_dataset(filename_usv)\n",
    "#ds = ds.sel(trajectory=1002)\n",
    "#ds=ds.rename({'latitude':'lat','longitude':'lon'})\n",
    "#ds=ds.swap_dims({'obs':'time'})\n",
    "#print(ds)\n",
    "#print(ds.time[0:10])\n",
    "#print(xr_buoy.wnd_best[0:2])\n",
    "for i in range(1,2):\n",
    "    print(i,xr_buoy.time[i].data,xr_buoy.wnd_best[i].data)\n",
    "print('10min')\n",
    "for i in range(0,15):\n",
    "    print(i,xr_buoy10.time[i].data,xr_buoy10.wnd_best[i].data)\n",
    "print(xr_buoy10.wnd_best[6:12].mean().data)\n",
    "\n",
    "subset = ds_usv.sel(time=slice('2018-04-10','2018-04-13'))\n",
    "\n",
    "xftem=subset.UWND_MEAN\n",
    "pt = pd.to_datetime(xftem.time.data)\n",
    "pmin=pt.minute\n",
    "tem=xftem[(pmin >=52)]  #data average should be only use min 52  to :60 \n",
    "new_hr = tem.resample(time='1h').mean()\n",
    "for i in range(0,1):\n",
    "    print(new_hr.time[i].data,new_hr[i].data)\n",
    "print(xftem[52:60].mean().data)    \n",
    "\n",
    "#xftem=subset.UWND_MEAN\n",
    "sub = subset.copy(deep=True)\n",
    "pt = pd.to_datetime(sub.time.data)\n",
    "pmin=pt.minute\n",
    "#sub['mask']=pmin\n",
    "tem=sub.where(pmin>=52)  #data average should be only use min 52  to :60 \n",
    "new_hr = tem.resample(time='1h', label='right').mean()\n",
    "\n",
    "#print(new_hr)\n",
    "for i in range(0,1):\n",
    "    print(new_hr.time[i].data,new_hr.UWND_MEAN[i].data)\n",
    "#print('min')\n",
    "#for i in range(0,60):\n",
    "#    print(i,xftem.time[i].data,xftem[i].data)\n",
    "print(subset.UWND_MEAN[52:60].mean().data)    "
   ]
  },
  {
   "cell_type": "code",
   "execution_count": null,
   "metadata": {},
   "outputs": [],
   "source": [
    "#read in high resolution wind buoy data (10 minute)\n",
    "sbuoy_id='46011'\n",
    "sdep='D5'\n",
    "fname='F:/data/cruise_data/saildrone/baja-2018/buoy_data/NDBC_'+sbuoy_id+'_201804_'+sdep+'_v0010min_xrformat.nc'\n",
    "xr_buoy10=xr.open_dataset(fname)\n",
    "fname='F:/data/cruise_data/saildrone/baja-2018/buoy_data/NDBC_'+sbuoy_id+'_201805_'+sdep+'_v0010min_xrformat.nc'\n",
    "tem=xr.open_dataset(fname)\n",
    "xr_buoy10 = xr.concat([xr_buoy10, tem],'time')\n",
    "fname='F:/data/cruise_data/saildrone/baja-2018/buoy_data/NDBC_'+sbuoy_id+'_201806_'+sdep+'_v0010min_xrformat.nc'\n",
    "tem=xr.open_dataset(fname)\n",
    "xr_buoy10 = xr.concat([xr_buoy10, tem],'time')\n",
    "btime10=xr_buoy10.time#read in hourly buoy data\n",
    "fname='F:/data/cruise_data/saildrone/baja-2018/buoy_data/NDBC_'+sbuoy_id+'_201804_'+sdep+'_v00hrly_xrformat.nc'\n",
    "xr_buoy=xr.open_dataset(fname)\n",
    "fname='F:/data/cruise_data/saildrone/baja-2018/buoy_data/NDBC_'+sbuoy_id+'_201805_'+sdep+'_v00hrly_xrformat.nc'\n",
    "tem=xr.open_dataset(fname)\n",
    "xr_buoy = xr.concat([xr_buoy, tem],'time')\n",
    "fname='F:/data/cruise_data/saildrone/baja-2018/buoy_data/NDBC_'+sbuoy_id+'_201806_'+sdep+'_v00hrly_xrformat.nc'\n",
    "tem=xr.open_dataset(fname)\n",
    "xr_buoy = xr.concat([xr_buoy, tem],'time')\n",
    "time=xr_buoy.time\n",
    "#fname='F:/data/cruise_data/saildrone/baja-2018/buoy_data/NDBC_46011_201804_D5_v00hrly_xrformat.nc'\n",
    "#xr_buoy=xr.open_dataset(fname)\n",
    "cond = xr_buoy.lat > 90\n",
    "xr_buoy.lat[cond]=np.nan\n",
    "cond = xr_buoy.lon > 90\n",
    "xr_buoy.lon[cond]=np.nan\n",
    "blat=xr_buoy.lat.mean()\n",
    "blon=xr_buoy.lon.mean()\n",
    "btime=xr_buoy.time\n"
   ]
  },
  {
   "cell_type": "code",
   "execution_count": null,
   "metadata": {},
   "outputs": [],
   "source": [
    "    dwin=.02\n",
    "    meets_condition = (lat_usv>blat-dwin) & (lat_usv<blat+dwin) & (lon_usv>blon-dwin) & (lon_usv<blon+dwin) #& time_usv<dt.datetime('2018-04-20')\n",
    "    fig, (ax1, ax2) = plt.subplots(1,2)\n",
    "    if (lon_usv[meets_condition].shape[0]==0):\n",
    "        continue\n",
    "    ax1.scatter(lon_usv[meets_condition],lat_usv[meets_condition], c=sst_usv[meets_condition], s=5)\n",
    "    ax1.plot(xr_buoy.lon.sel(time=slice(tstart_buffer,tend_buffer)),xr_buoy.lat.sel(time=slice(tstart_buffer,tend_buffer)),'r.')\n",
    "    ax1.legend(['Buoy','USV'])\n",
    "    ax2.plot(subset.time[meets_condition],subset.TEMP_CTD_MEAN[meets_condition]-273.15,'.')\n",
    "    ax2.plot(xr_buoy.time,xr_buoy.sst1-273.15)\n",
    "    ax2.set_xlim(tstart_buffer,tend_buffer)\n",
    "    ax2.set_ylim(11,14.5)\n",
    "    # rotate and align the tick labels so they look better\n",
    "    fig.autofmt_xdate()\n",
    "    fig_fname='F:/data/cruise_data/saildrone/baja-2018/figs/buoy_figures/buoy_loc_image'+sbuoy_id+'_02km.png'\n",
    "    fig.savefig(fig_fname, transparent=False, format='png')\n",
    "    plt.clf()\n",
    "\n",
    "    #now i only use part of buoy location that is for this time\n",
    "    dwin=.01\n",
    "#        blon_subset=xr_buoy.lon.sel(time=slice(time_start1,time_end1)).mean()\n",
    "#        blat_subset=xr_buoy.lat.sel(time=slice(time_start1,time_end1)).mean()\n",
    "    meets_condition = (lat_usv>blat-dwin) & (lat_usv<blat+dwin) & (lon_usv>blon-dwin) & (lon_usv<blon+dwin) #& time_usv<dt.datetime('2018-04-20')\n",
    "#        meets_condition = (lat_usv>blat_subset-dwin) & (lat_usv<blat_subset+dwin) & (lon_usv>blon_subset-dwin) & (lon_usv<blon_subset+dwin) #& time_usv<dt.datetime('2018-04-20')\n",
    "    fig, (ax1, ax2) = plt.subplots(1,2)\n",
    "    if (lon_usv[meets_condition].shape[0]==0):\n",
    "        continue\n",
    "    ax1.scatter(lon_usv[meets_condition],lat_usv[meets_condition], c=sst_usv[meets_condition], s=5)\n",
    "    ax1.plot(xr_buoy.lon.sel(time=slice(time_start1,time_end1)),xr_buoy.lat.sel(time=slice(time_start1,time_end1)),'r.')\n",
    "    ax1.legend(['Buoy','USV'])\n",
    "    ax2.plot(subset.time[meets_condition],subset.TEMP_CTD_MEAN[meets_condition]-273.15,'.')\n",
    "    ax2.plot(xr_buoy.time,xr_buoy.sst1-273.15)\n",
    "    ax2.set_xlim(time_start1,time_end1)\n",
    "    ax2.set_ylim(11,14.5)\n",
    "    # rotate and align the tick labels so they look better\n",
    "    fig.autofmt_xdate()\n",
    "    fig_fname='F:/data/cruise_data/saildrone/baja-2018/figs/buoy_figures/buoy_loc_image'+sbuoy_id+'_01km.png'\n",
    "    fig.savefig(fig_fname, transparent=False, format='png')\n",
    "    plt.clf()\n"
   ]
  }
 ],
 "metadata": {
  "kernelspec": {
   "display_name": "Python 3",
   "language": "python",
   "name": "python3"
  },
  "language_info": {
   "codemirror_mode": {
    "name": "ipython",
    "version": 3
   },
   "file_extension": ".py",
   "mimetype": "text/x-python",
   "name": "python",
   "nbconvert_exporter": "python",
   "pygments_lexer": "ipython3",
   "version": "3.7.0"
  }
 },
 "nbformat": 4,
 "nbformat_minor": 2
}
