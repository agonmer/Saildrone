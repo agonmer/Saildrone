{
 "cells": [
  {
   "cell_type": "code",
   "execution_count": 1,
   "metadata": {},
   "outputs": [],
   "source": [
    "import pandas as pd\n",
    "from pandas import ExcelWriter\n",
    "from pandas import ExcelFile\n",
    "import datetime as dt\n",
    "from datetime import datetime, timedelta\n",
    "import numpy as np\n",
    "import xarray as xr\n",
    "import matplotlib.pyplot as plt\n",
    "\n",
    "#xf_ave=xf.groupby('time.minute').mean() #this doesn't create a minute average, but a minute climatology\n",
    "#this code creates the average for each minute using all the data for that minute, \n",
    "#so it is centered at 30 seconds for each minute\n",
    "#i check this #print(xf.Temperature_1[30:60].mean())  #xf_avg.Temperature_1[1].data\n",
    "#xf_avg = xf.resample(time='1min',skipna=True).mean()\n",
    "#print(xf_avg)\n",
    "#talked to dave peacock averaging is :54 to 1:06 for each 1 minute average\n",
    "#so need to take data and set to flag values for 07 to 53 seconds for each minute of data then\n",
    "#then do resample so that the only valid data included in the average is :54 to 1:06\n",
    "\n",
    "adir='F:/data/cruise_data/saildrone/baja-2018/sbe_temperature_logger_data/'\n",
    "#filename_all_nc='F:/data/cruise_data/saildrone/baja-2018/saildrone-gen_4-baja_2018-EP-sd1002-ALL-1_min-v1.nc'\n",
    "filename_usv='F:/data/cruise_data/saildrone/baja-2018/saildrone-gen_5-baja_2018-sd1002-20180411T180000-20180611T055959-1_minutes-v2.1535585233403.nc'"
   ]
  },
  {
   "cell_type": "code",
   "execution_count": 2,
   "metadata": {},
   "outputs": [],
   "source": [
    "filename_1 = adir + 'SBE05608196_1_top/SBE05608196_2018-06-21.csv'\n",
    "filename_2 = adir + 'SBE05604705_2/SBE05604705_2018-06-22.csv'\n",
    "filename_3 = adir + 'SBE05605200_3/SBE05605200_2018-06-21.csv'\n",
    "filename_4 = adir + 'SBE05608476_4_bottom/SBE05608476_2018-06-21.csv'\n",
    "df = pd.read_csv(filename_1,header=11) #, sheet_name='data')\n",
    "#increment time by 6 seconds so that minute average ois from 0-12seconds rather than -6 to +6 seconds around zeros\n",
    "#offset = pd.to_timedelta(6, unit='s') \n",
    "df['time']=pd.to_datetime(df['Date'] + ' ' + df['Time']) #+offset\n",
    "del df['Date']\n",
    "del df['Time']\n",
    "df.index=df['time']\n",
    "xf1=df.to_xarray()\n",
    "xf=df.to_xarray()\n",
    "xf=xf.rename({'Temperature':'sea_water_temperature_1'})\n",
    "\n",
    "df = pd.read_csv(filename_2,header=11) #, sheet_name='data')\n",
    "df['time']=pd.to_datetime(df['Date'] + ' ' + df['Time']) #+offset\n",
    "del df['Date']\n",
    "del df['Time']\n",
    "df.index=df['time']\n",
    "xf2=df.to_xarray()\n",
    "\n",
    "df = pd.read_csv(filename_3,header=11) #, sheet_name='data')\n",
    "df['time']=pd.to_datetime(df['Date'] + ' ' + df['Time']) #+offset\n",
    "del df['Date']\n",
    "del df['Time']\n",
    "df.index=df['time']\n",
    "xf3=df.to_xarray()\n",
    "\n",
    "df = pd.read_csv(filename_4,header=11) #, sheet_name='data')\n",
    "df['time']=pd.to_datetime(df['Date'] + ' ' + df['Time']) #+offset\n",
    "del df['Date']\n",
    "del df['Time']\n",
    "df.index=df['time']\n",
    "xf4=df.to_xarray()\n",
    "\n",
    "#print(xf.dims)  3233981\n",
    "#print(xf2.dims)  3270126\n",
    "#print(xf3.dims)  3234945\n",
    "#print(xf4.dims)  3236717\n",
    "\n",
    "ilen=len(xf.time)\n",
    "xf['sea_water_temperature_1']=xf['sea_water_temperature_1']+273.15\n",
    "xf['sea_water_temperature_2']=xf2.Temperature[0:3233981]+273.15\n",
    "xf['sea_water_temperature_3']=xf3.Temperature[0:3233981]+273.15\n",
    "xf['sea_water_temperature_4']=xf4.Temperature[0:3233981]+273.15\n",
    "\n",
    "tmin_str = df.time[0].strftime(\"%Y%m%dT%H%M%S\")\n",
    "tmax_str = df.time[3233981].strftime(\"%Y%m%dT%H%M%S\")\n",
    "filename_all_data_netcdf = adir + 'saildrone-gen_5-Baja_2018-sd1002-'+ tmin_str + '-' + tmax_str + '-2_seconds-temperature_loggers-v2.nc'\n"
   ]
  },
  {
   "cell_type": "code",
   "execution_count": 3,
   "metadata": {},
   "outputs": [],
   "source": [
    "#read in email\n",
    "astr_title = 'Data from Saildrone cruise from SF to Guadalupe Island April-June 2018'\n",
    "astr_uuid = 'f2e2670e-1c9c-4544-b3ab-d0eefc7e7fad'\n",
    "\n",
    "dataset_usv=xr.open_dataset(filename_usv)\n",
    "gattrs = dataset_usv.attrs.copy()\n",
    "gattrs['title'] = astr_title\n",
    "gattrs['summary'] = 'none'\n",
    "gattrs['references'] = 'none'\n",
    "gattrs['institution'] = 'Saildrone'\n",
    "gattrs['history'] = 'SB 56 temperature logger individual files compiled to create this file'\n",
    "gattrs['comment'] = 'none'\n",
    "gattrs['license'] = 'CC-BY-NC'\n",
    "gattrs['keywords'] = 'Oceans > Ocean Temperature > Sea Surface Temperature'\n",
    "gattrs['keywords_vocabulary'] = 'NASA Global Change Master Directory (GCMD) Science Keywords'\n",
    "gattrs['acknowledgment'] = 'The Schmidt Family Foundation, Saildrone, NASA Physical Oceanography'\n",
    "gattrs['uuid'] = astr_uuid \n",
    "#gattrs"
   ]
  },
  {
   "cell_type": "code",
   "execution_count": 4,
   "metadata": {},
   "outputs": [],
   "source": [
    "xf.attrs=gattrs"
   ]
  },
  {
   "cell_type": "code",
   "execution_count": 5,
   "metadata": {},
   "outputs": [],
   "source": [
    "#filename_adcp='F:/data/cruise_data/saildrone/baja-2018/adcp_data/saildrone-gen_4-baja_2018-ADCP-data.nc'\n",
    "#ds_adcp=xr.open_dataset(filename_adcp)\n",
    "#ds_adcp"
   ]
  },
  {
   "cell_type": "code",
   "execution_count": 6,
   "metadata": {},
   "outputs": [
    {
     "name": "stdout",
     "output_type": "stream",
     "text": [
      "2018-06-21T20:39:19.000000000\n",
      "2018-06-21T20:39:19.000000000\n",
      "2018-06-21T20:39:19.000000000\n",
      "2018-06-21T20:39:19.000000000\n",
      "296.63759999999996\n",
      "296.9126\n",
      "296.9124\n",
      "296.92949999999996\n"
     ]
    }
   ],
   "source": [
    "#check that times all the same intervals and ends\n",
    "print(xf1.time[3233980].data)\n",
    "print(xf2.time[3233980].data)\n",
    "print(xf3.time[3233980].data)\n",
    "print(xf4.time[3233980].data)\n",
    "print(xf.sea_water_temperature_1[3233980].data)\n",
    "print(xf.sea_water_temperature_2[3233980].data)\n",
    "print(xf.sea_water_temperature_3[3233980].data)\n",
    "print(xf.sea_water_temperature_4[3233980].data)"
   ]
  },
  {
   "cell_type": "code",
   "execution_count": 7,
   "metadata": {},
   "outputs": [],
   "source": [
    "attrs = {'long_name': 'sea surface depth temperature at 0.295 m','coordinates': 'time',\n",
    "        'standard_name': 'Seawater temperature', 'installed_height':'-0.295 m' ,\n",
    "         'serial_number' : 'SBE05608196', 'model_number': '56', \n",
    "          'sensor_description': 'Seabird 56 Temperature Logger',\n",
    "         'model_name': 'SBE 56', 'product_page':'http://www.seabird.com/sbe56-temperature-logger', \n",
    "          'nominal_sampling_schedule': '2 sec', \n",
    "         'units':'kelvin','valid_min':260.0,'valid_max':320.0}\n",
    "xf.sea_water_temperature_1.attrs=attrs\n",
    "attrs = {'long_name': 'sea surface depth temperature at 0.985 m','coordinates': 'time',\n",
    "        'standard_name': 'Seawater temperature', 'installed_height':'-0.985 m' ,\n",
    "         'serial_number' : 'SBE05604705', 'model_number': '56', \n",
    "          'sensor_description': 'Seabird 56 Temperature Logger',\n",
    "         'model_name': 'SBE 56', 'product_page':'http://www.seabird.com/sbe56-temperature-logger', \n",
    "          'nominal_sampling_schedule': '2 sec', \n",
    "         'units':'kelvin','valid_min':260.0,'valid_max':320.0}\n",
    "xf.sea_water_temperature_2.attrs=attrs\n",
    "attrs = {'long_name': 'sea surface depth temperature at -1.420 m','coordinates': 'time',\n",
    "        'standard_name': 'Seawater temperature', 'installed_height':'-1.420 m' ,\n",
    "         'serial_number' : 'SBE05605200', 'model_number': '56', \n",
    "          'sensor_description': 'Seabird 56 Temperature Logger',\n",
    "         'model_name': 'SBE 56', 'product_page':'http://www.seabird.com/sbe56-temperature-logger', \n",
    "          'nominal_sampling_schedule': '2 sec', \n",
    "         'units':'kelvin','valid_min':260.0,'valid_max':320.0}\n",
    "xf.sea_water_temperature_3.attrs=attrs\n",
    "attrs = {'long_name': 'sea surface depth temperature at -1.785 m','coordinates': 'time',\n",
    "        'standard_name': 'Seawater temperature', 'installed_height':'-1.785 m' ,\n",
    "         'serial_number' : 'SBE05608476', 'model_number': '56', \n",
    "          'sensor_description': 'Seabird 56 Temperature Logger',\n",
    "         'model_name': 'SBE 56', 'product_page':'http://www.seabird.com/sbe56-temperature-logger', \n",
    "          'nominal_sampling_schedule': '2 sec', \n",
    "         'units':'kelvin','valid_min':260.0,'valid_max':320.0}\n",
    "xf.sea_water_temperature_4.attrs=attrs\n",
    "\n",
    "xf.to_netcdf(filename_all_data_netcdf)"
   ]
  },
  {
   "cell_type": "code",
   "execution_count": null,
   "metadata": {},
   "outputs": [],
   "source": [
    "filename_all_data_netcdf"
   ]
  },
  {
   "cell_type": "code",
   "execution_count": null,
   "metadata": {},
   "outputs": [],
   "source": []
  }
 ],
 "metadata": {
  "kernelspec": {
   "display_name": "Python 3",
   "language": "python",
   "name": "python3"
  },
  "language_info": {
   "codemirror_mode": {
    "name": "ipython",
    "version": 3
   },
   "file_extension": ".py",
   "mimetype": "text/x-python",
   "name": "python",
   "nbconvert_exporter": "python",
   "pygments_lexer": "ipython3",
   "version": "3.5.5"
  }
 },
 "nbformat": 4,
 "nbformat_minor": 2
}
