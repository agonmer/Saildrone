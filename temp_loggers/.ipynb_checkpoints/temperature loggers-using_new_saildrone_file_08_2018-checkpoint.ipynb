{
 "cells": [
  {
   "cell_type": "code",
   "execution_count": 1,
   "metadata": {},
   "outputs": [],
   "source": [
    "import pandas as pd\n",
    "from pandas import ExcelWriter\n",
    "from pandas import ExcelFile\n",
    "import datetime as dt\n",
    "from datetime import datetime, timedelta\n",
    "import numpy as np\n",
    "import xarray as xr\n",
    "import matplotlib.pyplot as plt\n",
    "\n",
    "#xf_ave=xf.groupby('time.minute').mean() #this doesn't create a minute average, but a minute climatology\n",
    "#this code creates the average for each minute using all the data for that minute, \n",
    "#so it is centered at 30 seconds for each minute\n",
    "#i check this #print(xf.Temperature_1[30:60].mean())  #xf_avg.Temperature_1[1].data\n",
    "#xf_avg = xf.resample(time='1min',skipna=True).mean()\n",
    "#print(xf_avg)\n",
    "#talked to dave peacock averaging is :54 to 1:06 for each 1 minute average\n",
    "#so need to take data and set to flag values for 07 to 53 seconds for each minute of data then\n",
    "#then do resample so that the only valid data included in the average is :54 to 1:06\n",
    "\n",
    "adir0='F:/data/cruise_data/saildrone/baja-2018/'\n",
    "#filename_all_nc='F:/data/cruise_data/saildrone/baja-2018/saildrone-gen_4-baja_2018-EP-sd1002-ALL-1_min-v1.nc'\n",
    "filename_all_nc='F:/data/cruise_data/saildrone/baja-2018/saildrone-gen_4-baja_2018-sd1002-20180411T180000-20180611T055959-1_minutes-v1.nc'\n",
    "filename_loggers = 'F:/data/cruise_data/saildrone/baja-2018/sbe_temperature_logger_data/saildrone-gen_4-Baja_2018-sd1002-20180408T000000-20180621T203921-2_seconds-temperature_loggers-v1.nc'\n",
    "filename_loggers_out_nc='F:/data/cruise_data/saildrone/baja-2018/saildrone-gen_4-baja_2018-sd1002-20180411T180000-20180611T055959-1_minutes-v1_withloggers.nc'\n"
   ]
  },
  {
   "cell_type": "code",
   "execution_count": 2,
   "metadata": {},
   "outputs": [],
   "source": [
    "#offset = pd.to_timedelta(6, unit='s') \n",
    "#df['time']=pd.to_datetime(df['Date'] + ' ' + df['Time'])+offset\n",
    "xf=xr.open_dataset(filename_loggers)\n"
   ]
  },
  {
   "cell_type": "code",
   "execution_count": 3,
   "metadata": {},
   "outputs": [
    {
     "data": {
      "image/png": "[encoded data removed]",
      "text/plain": [
       "<Figure size 432x288 with 1 Axes>"
      ]
     },
     "metadata": {
      "needs_background": "light"
     },
     "output_type": "display_data"
    }
   ],
   "source": [
    "#start cruise, into water 160270\n",
    "#end cruise, out 470900\n",
    "i1=460000\n",
    "i2=-10000\n",
    "xf.sea_water_temperature_1[i1:i2].plot.line(color='purple')\n",
    "xf.sea_water_temperature_2[i1:i2].plot.line(color='red')\n",
    "xf.sea_water_temperature_3[i1:i2].plot.line(color='green')\n",
    "xf.sea_water_temperature_4[i1:i2].plot.line(color='blue')\n",
    "plt.legend\n",
    "plt.show()"
   ]
  },
  {
   "cell_type": "code",
   "execution_count": 4,
   "metadata": {},
   "outputs": [],
   "source": [
    "offset = pd.to_timedelta(6, unit='s') \n",
    "xftem=xf.sea_water_temperature_1\n",
    "pt = pd.to_datetime(xftem.time.data)+offset  #add 6 seconds\n",
    "psec=pt.second\n",
    "tem=xftem[(psec <=12)]  #data average should be only use sec 54 to sec 06 of each minute \n",
    "tem['time']=tem['time']+offset #resample goes from :00 to :59 so shift +6sec\n",
    "xf_avg1 = tem.resample(time='1min').mean()\n",
    "xf_std1 = tem.resample(time='1min').std(ddof=1)\n",
    "xf['sea_water_temperature_1_mean']=xf_avg1\n",
    "xf['sea_water_temperature_1_std']=xf_std1\n",
    "xftem=xf.sea_water_temperature_2\n",
    "pt = pd.to_datetime(xftem.time.data)+offset  #add 6 seconds\n",
    "psec=pt.second\n",
    "tem=xftem[(psec <=12)]  #data average should be only use sec 54 to sec 06 of each minute \n",
    "tem['time']=tem['time']+offset #resample goes from :00 to :59 so shift +6sec\n",
    "xf_avg2 = tem.resample(time='1min').mean()\n",
    "xf_std2 = tem.resample(time='1min').std(ddof=1)\n",
    "xf['sea_water_temperature_2_mean']=xf_avg2\n",
    "xf['sea_water_temperature_2_std']=xf_std2\n",
    "xftem=xf.sea_water_temperature_3\n",
    "pt = pd.to_datetime(xftem.time.data)+offset  #add 6 seconds\n",
    "psec=pt.second\n",
    "tem=xftem[(psec <=12)]  #data average should be only use sec 54 to sec 06 of each minute \n",
    "tem['time']=tem['time']+offset #resample goes from :00 to :59 so shift +6sec\n",
    "xf_avg3 = tem.resample(time='1min').mean()\n",
    "xf_std3 = tem.resample(time='1min').std(ddof=1)\n",
    "xf['sea_water_temperature_3_mean']=xf_avg3\n",
    "xf['sea_water_temperature_3_std']=xf_std3\n",
    "xftem=xf.sea_water_temperature_4\n",
    "pt = pd.to_datetime(xftem.time.data)+offset  #add 6 seconds\n",
    "psec=pt.second\n",
    "tem=xftem[(psec <=12)]  #data average should be only use sec 54 to sec 06 of each minute \n",
    "tem['time']=tem['time']+offset #resample goes from :00 to :59 so shift +6sec\n",
    "xf_avg4 = tem.resample(time='1min').mean()\n",
    "xf_std4 = tem.resample(time='1min').std(ddof=1)\n",
    "xf['sea_water_temperature_4_mean']=xf_avg4\n",
    "xf['sea_water_temperature_4_std']=xf_std4\n"
   ]
  },
  {
   "cell_type": "code",
   "execution_count": 5,
   "metadata": {},
   "outputs": [],
   "source": [
    "#for i in range(25,60):\n",
    "#    print(xf.time[i].data,xf.sea_water_temperature_1[i].data,xf.sea_water_temperature_1_mean[i].data)\n",
    "    "
   ]
  },
  {
   "cell_type": "code",
   "execution_count": 6,
   "metadata": {},
   "outputs": [
    {
     "name": "stdout",
     "output_type": "stream",
     "text": [
      "<xarray.DataArray 'sea_water_temperature_1' (time: 10)>\n",
      "array([22.395625, 22.396343, 22.397286, 22.398271, 22.399343, 22.400567,\n",
      "       22.4019  , 22.403517, 22.4051  , 22.40685 ])\n",
      "Coordinates:\n",
      "  * time     (time) datetime64[ns] 2018-04-08 ... 2018-04-08T00:09:00\n",
      "<xarray.DataArray 'sea_water_temperature_1_mean' (time: 100)>\n",
      "array([22.395625,       nan,       nan,       nan,       nan,       nan,\n",
      "             nan,       nan,       nan,       nan,       nan,       nan,\n",
      "             nan,       nan,       nan,       nan,       nan,       nan,\n",
      "             nan,       nan,       nan,       nan,       nan,       nan,\n",
      "             nan,       nan,       nan,       nan,       nan,       nan,\n",
      "       22.396343,       nan,       nan,       nan,       nan,       nan,\n",
      "             nan,       nan,       nan,       nan,       nan,       nan,\n",
      "             nan,       nan,       nan,       nan,       nan,       nan,\n",
      "             nan,       nan,       nan,       nan,       nan,       nan,\n",
      "             nan,       nan,       nan,       nan,       nan,       nan,\n",
      "       22.397286,       nan,       nan,       nan,       nan,       nan,\n",
      "             nan,       nan,       nan,       nan,       nan,       nan,\n",
      "             nan,       nan,       nan,       nan,       nan,       nan,\n",
      "             nan,       nan,       nan,       nan,       nan,       nan,\n",
      "             nan,       nan,       nan,       nan,       nan,       nan,\n",
      "       22.398271,       nan,       nan,       nan,       nan,       nan,\n",
      "             nan,       nan,       nan,       nan])\n",
      "Coordinates:\n",
      "  * time     (time) datetime64[ns] 2018-04-08 ... 2018-04-08T00:03:18\n",
      "<xarray.DataArray 'sea_water_temperature_1' (time: 10)>\n",
      "array([22.395625, 22.396343, 22.397286, 22.398271, 22.399343, 22.400567,\n",
      "       22.4019  , 22.403517, 22.4051  , 22.40685 ])\n",
      "Coordinates:\n",
      "  * time     (time) datetime64[ns] 2018-04-08 ... 2018-04-08T00:09:00\n",
      "<xarray.DataArray 'sea_water_temperature_2' (time: 10)>\n",
      "array([22.39395 , 22.394714, 22.395571, 22.3965  , 22.397486, 22.398717,\n",
      "       22.400033, 22.401533, 22.403033, 22.40465 ])\n",
      "Coordinates:\n",
      "  * time     (time) datetime64[ns] 2018-04-08 ... 2018-04-08T00:09:00\n",
      "<xarray.DataArray 'sea_water_temperature_3' (time: 10)>\n",
      "array([22.34955 , 22.350414, 22.351014, 22.351929, 22.3528  , 22.353717,\n",
      "       22.354817, 22.356033, 22.3573  , 22.3586  ])\n",
      "Coordinates:\n",
      "  * time     (time) datetime64[ns] 2018-04-08 ... 2018-04-08T00:09:00\n",
      "<xarray.DataArray 'sea_water_temperature_4' (time: 10)>\n",
      "array([22.402575, 22.403257, 22.403886, 22.404514, 22.405343, 22.4062  ,\n",
      "       22.4072  , 22.4083  , 22.409417, 22.410583])\n",
      "Coordinates:\n",
      "  * time     (time) datetime64[ns] 2018-04-08 ... 2018-04-08T00:09:00\n"
     ]
    }
   ],
   "source": [
    "print(xf_avg1[0:10])\n",
    "print(xf.sea_water_temperature_1_mean[0:100])\n",
    "print(xf_avg1[0:10])\n",
    "print(xf_avg2[0:10])\n",
    "print(xf_avg3[0:10])\n",
    "print(xf_avg4[0:10])"
   ]
  },
  {
   "cell_type": "code",
   "execution_count": 7,
   "metadata": {},
   "outputs": [],
   "source": [
    "i1=460000\n",
    "i2=-10000\n",
    "xf.sea_water_temperature_1_mean\n",
    "#xf.sea_water_temperature_2_mean[i1:i2].plot.line(color='red')\n",
    "#xf.sea_water_temperature_3_mean[i1:i2].plot.line(color='green')\n",
    "#xf.sea_water_temperature_4_mean[i1:i2].plot.line(color='blue')\n",
    "plt.show()#xf_avg1\n",
    "#xf2"
   ]
  },
  {
   "cell_type": "code",
   "execution_count": 8,
   "metadata": {},
   "outputs": [],
   "source": [
    "#ds3 = xf2\n",
    "#ds3['sea_water_temperature_1']=xf1.Temperature\n",
    "#ds3['sea_water_temperature_2']=xf2.Temperature\n",
    "#ds3['sea_water_temperature_3']=xf3.Temperature\n",
    "#ds3['sea_water_temperature_4']=xf4.Temperature\n",
    "##   ....:                  'sea_water_temperature_1': (['time'], xf1),\n",
    "##   ....:                  'sea_water_temperature_2': (['time'], xf2),\n",
    "##   ....:                  'sea_water_temperature_3': (['time'], xf3),\n",
    "##  ....:                  'sea_water_temperature_4': (['time'], xf4)},\n",
    "##  ....:                 coords={'time': xf2.time[:]})\n",
    "#del ds3['Temperature']\n",
    "#ds3"
   ]
  },
  {
   "cell_type": "code",
   "execution_count": 9,
   "metadata": {},
   "outputs": [
    {
     "data": {
      "text/plain": [
       "<xarray.Dataset>\n",
       "Dimensions:                       (time: 107800)\n",
       "Coordinates:\n",
       "  * time                          (time) datetime64[ns] 2018-04-08 ... 2018-06-21T20:39:00\n",
       "Data variables:\n",
       "    sea_water_temperature_1_mean  (time) float64 22.4 22.4 22.4 ... 23.49 23.49\n",
       "    sea_water_temperature_1_std   (time) float64 9.574e-05 ... 0.0001602\n",
       "    sea_water_temperature_2_mean  (time) float64 22.39 22.39 ... 23.76 23.76\n",
       "    sea_water_temperature_2_std   (time) float64 0.0001291 ... 9.832e-05\n",
       "    sea_water_temperature_3_mean  (time) float64 22.35 22.35 ... 23.76 23.76\n",
       "    sea_water_temperature_3_std   (time) float64 0.0001291 ... 0.0001366\n",
       "    sea_water_temperature_4_mean  (time) float64 22.4 22.4 22.4 ... 23.78 23.78\n",
       "    sea_water_temperature_4_std   (time) float64 5e-05 0.0001134 ... 0.0002258"
      ]
     },
     "execution_count": 9,
     "metadata": {},
     "output_type": "execute_result"
    }
   ],
   "source": [
    "ds3_1min = xr.Dataset({ \n",
    "                     'sea_water_temperature_1_mean': (['time'], xf_avg1),\n",
    "                    'sea_water_temperature_1_std': (['time'], xf_std1),\n",
    "                   'sea_water_temperature_2_mean': (['time'], xf_avg2),\n",
    "                    'sea_water_temperature_2_std': (['time'], xf_std2),\n",
    "                     'sea_water_temperature_3_mean': (['time'], xf_avg3),\n",
    "                     'sea_water_temperature_3_std': (['time'], xf_std3),\n",
    "                     'sea_water_temperature_4_mean': (['time'], xf_avg4),\n",
    "                    'sea_water_temperature_4_std': (['time'], xf_std4)},\n",
    "                    coords={'time': xf_avg1.time})\n",
    "ds3_1min"
   ]
  },
  {
   "cell_type": "code",
   "execution_count": 10,
   "metadata": {},
   "outputs": [],
   "source": [
    "attrs = {'long_name': 'sea surface depth temperature at 0.295 m','coordinates': 'time',\n",
    "        'standard_name': 'sea_water_temperature', 'installed_height':'-0.295 m' ,\n",
    "         'serial_number' : 'SBE05608196', 'model_number': '56', \n",
    "          'sensor_description': 'Seabird 56 Temperature Logger',\n",
    "         'model_name': 'SBE 56', 'product_page':'http://www.seabird.com/sbe56-temperature-logger', \n",
    "          'nominal_sampling_schedule': '1 minute averages from :54 to :06 seconds', \n",
    "         'units':'degrees_C','valid_min':-10.0,'valid_max':50.0}\n",
    "xf.sea_water_temperature_1_mean.attrs=attrs\n",
    "ds3_1min.sea_water_temperature_1_mean.attrs=attrs\n",
    "#xf_avg.sea_water_temperature_1_mean.attrs=attrs\n",
    "attrs['nominal_sampling_schedule']='1 minute std from :54 to :06 seconds'\n",
    "xf.sea_water_temperature_1_std.attrs=attrs\n",
    "ds3_1min.sea_water_temperature_1_std.attrs=attrs\n",
    "#xf_avg.sea_water_temperature_1_std.attrs=attrs\n",
    "\n",
    "attrs['nominal_sampling_schedule']='1 minute average from :54 to :06 seconds'\n",
    "attrs['long_name']='sea surface depth temperature at 0.985 m'\n",
    "attrs['installed_height']='-0.985 m'\n",
    "attrs['serial_number']='SBE05604705'\n",
    "xf.sea_water_temperature_2_mean.attrs=attrs\n",
    "ds3_1min.sea_water_temperature_2_mean.attrs=attrs\n",
    "#xf_avg.sea_water_temperature_2_mean.attrs=attrs\n",
    "attrs['nominal_sampling_schedule']='1 minute std from :54 to :06 seconds'\n",
    "xf.sea_water_temperature_2_std.attrs=attrs\n",
    "ds3_1min.sea_water_temperature_2_std.attrs=attrs\n",
    "#xf_avg.sea_water_temperature_2_std.attrs=attrs\n",
    "\n",
    "attrs['nominal_sampling_schedule']='1 minute average from :54 to :06 seconds'\n",
    "attrs['long_name']='sea surface depth temperature at 1.420 m'\n",
    "attrs['installed_height']='-1.420 m'\n",
    "attrs['serial_number']='SBE05605200'\n",
    "xf.sea_water_temperature_3_mean.attrs=attrs\n",
    "ds3_1min.sea_water_temperature_3_mean.attrs=attrs\n",
    "#xf_avg.sea_water_temperature_3_mean.attrs=attrs\n",
    "attrs['nominal_sampling_schedule']='1 minute std from :54 to :06 seconds'\n",
    "xf.sea_water_temperature_3_std.attrs=attrs\n",
    "ds3_1min.sea_water_temperature_3_std.attrs=attrs\n",
    "#xf_avg.sea_water_temperature_3_std.attrs=attrs\n",
    "\n",
    "attrs['nominal_sampling_schedule']='1 minute average from :54 to :06 seconds'\n",
    "attrs['long_name']='sea surface depth temperature at 1.785 m'\n",
    "attrs['installed_height']='-1.785 m'\n",
    "attrs['serial_number']='SBE05608476'\n",
    "xf.sea_water_temperature_4_mean.attrs=attrs\n",
    "ds3_1min.sea_water_temperature_4_mean.attrs=attrs\n",
    "#xf_avg.sea_water_temperature_4_mean.attrs=attrs\n",
    "attrs['nominal_sampling_schedule']='1 minute std from :54 to :06 seconds'\n",
    "xf.sea_water_temperature_4_std.attrs=attrs\n",
    "ds3_1min.sea_water_temperature_4_std.attrs=attrs\n",
    "#xf_avg.sea_water_temperature_4_std.attrs=attrs\n"
   ]
  },
  {
   "cell_type": "code",
   "execution_count": 11,
   "metadata": {},
   "outputs": [],
   "source": [
    "#print(tem.time[0:15])\n",
    "#print(tem.data[0:15])\n",
    "#print(xf_avg[0])\n",
    "#print(xf_avg2[0:2])\n",
    "#print(xf_std2[0:2])"
   ]
  },
  {
   "cell_type": "code",
   "execution_count": 12,
   "metadata": {},
   "outputs": [
    {
     "data": {
      "image/png": "[encoded data removed]",
      "text/plain": [
       "<Figure size 432x288 with 1 Axes>"
      ]
     },
     "metadata": {
      "needs_background": "light"
     },
     "output_type": "display_data"
    }
   ],
   "source": [
    "i1=460000\n",
    "i2=-10000\n",
    "xf.sea_water_temperature_4[i1:i2].plot.line(color='purple')\n",
    "xf.sea_water_temperature_4_mean[i1:i2].plot.line(color='red')\n",
    "#xf.sea_water_temperature_3[i1:i2].plot.line(color='green')\n",
    "#xf.sea_water_temperature_4[i1:i2].plot.line(color='blue')\n",
    "plt.show()"
   ]
  },
  {
   "cell_type": "code",
   "execution_count": 13,
   "metadata": {},
   "outputs": [],
   "source": [
    "#ds3.to_netcdf(filename_all_data_netcdf)\n",
    "#ds3_1min.to_netcdf(filename_1min_data_netcdf)"
   ]
  },
  {
   "cell_type": "code",
   "execution_count": 14,
   "metadata": {},
   "outputs": [],
   "source": [
    "#dtest=xr.open_dataset(filename_1min_data_netcdf)"
   ]
  },
  {
   "cell_type": "code",
   "execution_count": 15,
   "metadata": {},
   "outputs": [],
   "source": [
    "#combine with 1min average file\n",
    "#filename_out_nc='F:/data/cruise_data/saildrone/baja-2018/saildrone-gen_4-baja_2018-EP-sd1002-ALL-1_min-v1.nc'\n",
    "#dnew=xr.open_dataset(filename_1min_data_netcdf)\n",
    "#dall=xr.open_dataset(filename_out_nc)"
   ]
  },
  {
   "cell_type": "code",
   "execution_count": 16,
   "metadata": {},
   "outputs": [
    {
     "data": {
      "text/plain": [
       "numpy.datetime64('2018-04-11T18:01:00.000000000')"
      ]
     },
     "execution_count": 16,
     "metadata": {},
     "output_type": "execute_result"
    }
   ],
   "source": [
    "dataset=xr.open_dataset(filename_all_nc)\n",
    "#dataset.time[0:4]\n",
    "#ds3_1min=xr.open_dataset(filename_1min_data_netcdf)\n",
    "#ds3_1min.time[0]\n",
    "dataset.time.data[0,1]"
   ]
  },
  {
   "cell_type": "code",
   "execution_count": 17,
   "metadata": {},
   "outputs": [
    {
     "name": "stdout",
     "output_type": "stream",
     "text": [
      "86839\n"
     ]
    }
   ],
   "source": [
    "#initialize data\n",
    "#go to each 1 min average and match to data in saildrone data files\n",
    "ilen=dataset.dims['obs']\n",
    "print(ilen)\n",
    "d1=np.ones((1,ilen))*-999\n",
    "d2=np.ones((1,ilen))*-999\n",
    "d3=np.ones((1,ilen))*-999\n",
    "d4=np.ones((1,ilen))*-999\n",
    "d1s=np.ones((1,ilen))*-999\n",
    "d2s=np.ones((1,ilen))*-999\n",
    "d3s=np.ones((1,ilen))*-999\n",
    "d4s=np.ones((1,ilen))*-999\n",
    "for i in range(0,ilen):\n",
    "    itemindex = np.where(ds3_1min.time==dataset.time.data[0,i])\n",
    "    #print(itemindex,ds3_1min.sea_water_temperature_1_mean.data[itemindex])\n",
    "    d1[0,i]=ds3_1min.sea_water_temperature_1_mean.data[itemindex] #+273.15\n",
    "    d2[0,i]=ds3_1min.sea_water_temperature_2_mean.data[itemindex] #+273.15\n",
    "    d3[0,i]=ds3_1min.sea_water_temperature_3_mean.data[itemindex] #+273.15\n",
    "    d4[0,i]=ds3_1min.sea_water_temperature_4_mean.data[itemindex] #+273.15\n",
    "    d1s[0,i]=ds3_1min.sea_water_temperature_1_std.data[itemindex]\n",
    "    d2s[0,i]=ds3_1min.sea_water_temperature_2_std.data[itemindex]\n",
    "    d3s[0,i]=ds3_1min.sea_water_temperature_3_std.data[itemindex]\n",
    "    d4s[0,i]=ds3_1min.sea_water_temperature_4_std.data[itemindex]"
   ]
  },
  {
   "cell_type": "code",
   "execution_count": 18,
   "metadata": {},
   "outputs": [],
   "source": [
    "dataset['sea_water_temperature_logger1_mean'] = (('trajectory', 'obs'), d1)\n",
    "dataset['sea_water_temperature_logger2_mean'] = (('trajectory', 'obs'), d2)\n",
    "dataset['sea_water_temperature_logger3_mean'] = (('trajectory', 'obs'), d3)\n",
    "dataset['sea_water_temperature_logger4_mean'] = (('trajectory', 'obs'), d4)\n",
    "dataset['sea_water_temperature_logger1_stddev'] = (('trajectory', 'obs'), d1s)\n",
    "dataset['sea_water_temperature_logger2_stddev'] = (('trajectory', 'obs'), d2s)\n",
    "dataset['sea_water_temperature_logger3_stddev'] = (('trajectory', 'obs'), d3s)\n",
    "dataset['sea_water_temperature_logger4_stddev'] = (('trajectory', 'obs'), d4s)"
   ]
  },
  {
   "cell_type": "code",
   "execution_count": 19,
   "metadata": {
    "scrolled": true
   },
   "outputs": [],
   "source": [
    "attrs = {'long_name': 'sea surface depth temperature at 0.295 m',\n",
    "#attrs = {'long_name': 'sea surface depth temperature at 0.295 m','coordinates': 'time',\n",
    "        'standard_name': 'sea_water_temperature', 'installed_height':'-0.295 m' ,\n",
    "         'serial_number' : 'SBE05608196', 'model_number': '56', \n",
    "          'sensor_description': 'Seabird 56 Temperature Logger',\n",
    "         'model_name': 'SBE 56', 'product_page':'http://www.seabird.com/sbe56-temperature-logger', \n",
    "          'nominal_sampling_schedule': '1 minute averages from :54 to :06 seconds', \n",
    "         'units':'degrees_C','valid_min': -10.0,'valid_max': 50.0}\n",
    "dataset.sea_water_temperature_logger1_mean.attrs=attrs\n",
    "attrs['nominal_sampling_schedule']='1 minute std from :54 to :06 seconds'\n",
    "dataset.sea_water_temperature_logger1_stddev.attrs=attrs\n",
    "\n",
    "attrs['nominal_sampling_schedule']='1 minute average from :54 to :06 seconds'\n",
    "attrs['long_name']='sea surface depth temperature at 0.985 m'\n",
    "attrs['installed_height']='-0.985 m'\n",
    "attrs['serial_number']='SBE05604705'\n",
    "dataset.sea_water_temperature_logger2_mean.attrs=attrs\n",
    "attrs['nominal_sampling_schedule']='1 minute std from :54 to :06 seconds'\n",
    "dataset.sea_water_temperature_logger2_stddev.attrs=attrs\n",
    "\n",
    "attrs['nominal_sampling_schedule']='1 minute average from :54 to :06 seconds'\n",
    "attrs['long_name']='sea surface depth temperature at 1.420 m'\n",
    "attrs['installed_height']='-1.420 m'\n",
    "attrs['serial_number']='SBE05605200'\n",
    "dataset.sea_water_temperature_logger3_mean.attrs=attrs\n",
    "attrs['nominal_sampling_schedule']='1 minute std from :54 to :06 seconds'\n",
    "dataset.sea_water_temperature_logger3_stddev.attrs=attrs\n",
    "\n",
    "attrs['nominal_sampling_schedule']='1 minute average from :54 to :06 seconds'\n",
    "attrs['long_name']='sea surface depth temperature at 1.785 m'\n",
    "attrs['installed_height']='-1.785 m'\n",
    "attrs['serial_number']='SBE05608476'\n",
    "dataset.sea_water_temperature_logger4_mean.attrs=attrs\n",
    "attrs['nominal_sampling_schedule']='1 minute std from :54 to :06 seconds'\n",
    "dataset.sea_water_temperature_logger4_stddev.attrs=attrs\n",
    "\n",
    "dataset.to_netcdf(filename_loggers_out_nc)"
   ]
  },
  {
   "cell_type": "code",
   "execution_count": 20,
   "metadata": {},
   "outputs": [
    {
     "name": "stdout",
     "output_type": "stream",
     "text": [
      "<xarray.DataArray 'sea_water_temperature_logger1_mean' (trajectory: 1, obs: 86839)>\n",
      "array([[15.116867, 15.004917, 15.02215 , ..., 18.76525 , 18.747167, 18.7581  ]])\n",
      "Coordinates:\n",
      "  * trajectory  (trajectory) float32 1002.0\n",
      "    time        (trajectory, obs) datetime64[ns] 2018-04-11T18:00:00 ... 2018-06-11T05:57:00\n",
      "    latitude    (trajectory, obs) float64 ...\n",
      "    longitude   (trajectory, obs) float64 ...\n",
      "Dimensions without coordinates: obs\n",
      "Attributes:\n",
      "    long_name:                  sea surface depth temperature at 0.295 m\n",
      "    standard_name:              sea_water_temperature\n",
      "    installed_height:           -0.295 m\n",
      "    serial_number:              SBE05608196\n",
      "    model_number:               56\n",
      "    sensor_description:         Seabird 56 Temperature Logger\n",
      "    model_name:                 SBE 56\n",
      "    product_page:               http://www.seabird.com/sbe56-temperature-logger\n",
      "    nominal_sampling_schedule:  1 minute averages from :54 to :06 seconds\n",
      "    units:                      degrees_C\n",
      "    valid_min:                  -10.0\n",
      "    valid_max:                  50.0\n",
      "<xarray.DataArray 'sea_water_temperature_logger2_mean' (trajectory: 1, obs: 86839)>\n",
      "array([[15.045533, 14.8764  , 14.810967, ..., 18.7811  , 18.782567, 18.787383]])\n",
      "Coordinates:\n",
      "  * trajectory  (trajectory) float32 1002.0\n",
      "    time        (trajectory, obs) datetime64[ns] 2018-04-11T18:00:00 ... 2018-06-11T05:57:00\n",
      "    latitude    (trajectory, obs) float64 ...\n",
      "    longitude   (trajectory, obs) float64 ...\n",
      "Dimensions without coordinates: obs\n",
      "Attributes:\n",
      "    long_name:                  sea surface depth temperature at 0.985 m\n",
      "    standard_name:              sea_water_temperature\n",
      "    installed_height:           -0.985 m\n",
      "    serial_number:              SBE05604705\n",
      "    model_number:               56\n",
      "    sensor_description:         Seabird 56 Temperature Logger\n",
      "    model_name:                 SBE 56\n",
      "    product_page:               http://www.seabird.com/sbe56-temperature-logger\n",
      "    nominal_sampling_schedule:  1 minute average from :54 to :06 seconds\n",
      "    units:                      degrees_C\n",
      "    valid_min:                  -10.0\n",
      "    valid_max:                  50.0\n",
      "<xarray.DataArray 'sea_water_temperature_logger3_mean' (trajectory: 1, obs: 86839)>\n",
      "array([[14.90905 , 14.813117, 14.759317, ..., 18.773767, 18.788117, 18.789867]])\n",
      "Coordinates:\n",
      "  * trajectory  (trajectory) float32 1002.0\n",
      "    time        (trajectory, obs) datetime64[ns] 2018-04-11T18:00:00 ... 2018-06-11T05:57:00\n",
      "    latitude    (trajectory, obs) float64 ...\n",
      "    longitude   (trajectory, obs) float64 ...\n",
      "Dimensions without coordinates: obs\n",
      "Attributes:\n",
      "    long_name:                  sea surface depth temperature at 1.420 m\n",
      "    standard_name:              sea_water_temperature\n",
      "    installed_height:           -1.420 m\n",
      "    serial_number:              SBE05605200\n",
      "    model_number:               56\n",
      "    sensor_description:         Seabird 56 Temperature Logger\n",
      "    model_name:                 SBE 56\n",
      "    product_page:               http://www.seabird.com/sbe56-temperature-logger\n",
      "    nominal_sampling_schedule:  1 minute average from :54 to :06 seconds\n",
      "    units:                      degrees_C\n",
      "    valid_min:                  -10.0\n",
      "    valid_max:                  50.0\n",
      "<xarray.DataArray 'sea_water_temperature_logger4_mean' (trajectory: 1, obs: 86839)>\n",
      "array([[14.791417, 14.741633, 14.715383, ..., 18.774483, 18.78385 , 18.79455 ]])\n",
      "Coordinates:\n",
      "  * trajectory  (trajectory) float32 1002.0\n",
      "    time        (trajectory, obs) datetime64[ns] 2018-04-11T18:00:00 ... 2018-06-11T05:57:00\n",
      "    latitude    (trajectory, obs) float64 ...\n",
      "    longitude   (trajectory, obs) float64 ...\n",
      "Dimensions without coordinates: obs\n",
      "Attributes:\n",
      "    long_name:                  sea surface depth temperature at 1.785 m\n",
      "    standard_name:              sea_water_temperature\n",
      "    installed_height:           -1.785 m\n",
      "    serial_number:              SBE05608476\n",
      "    model_number:               56\n",
      "    sensor_description:         Seabird 56 Temperature Logger\n",
      "    model_name:                 SBE 56\n",
      "    product_page:               http://www.seabird.com/sbe56-temperature-logger\n",
      "    nominal_sampling_schedule:  1 minute average from :54 to :06 seconds\n",
      "    units:                      degrees_C\n",
      "    valid_min:                  -10.0\n",
      "    valid_max:                  50.0\n"
     ]
    }
   ],
   "source": [
    "print(dataset.sea_water_temperature_logger1_mean[0:10])\n",
    "print(dataset.sea_water_temperature_logger2_mean[0:10])\n",
    "print(dataset.sea_water_temperature_logger3_mean[0:10])\n",
    "print(dataset.sea_water_temperature_logger4_mean[0:10])"
   ]
  },
  {
   "cell_type": "code",
   "execution_count": 21,
   "metadata": {},
   "outputs": [],
   "source": [
    "#dataset.to_netcdf(filename_loggers_out_nc)"
   ]
  },
  {
   "cell_type": "code",
   "execution_count": 22,
   "metadata": {},
   "outputs": [
    {
     "data": {
      "text/plain": [
       "<xarray.Dataset>\n",
       "Dimensions:                               (obs: 86839, trajectory: 1)\n",
       "Coordinates:\n",
       "  * trajectory                            (trajectory) float32 1002.0\n",
       "    time                                  (trajectory, obs) datetime64[ns] 2018-04-11T18:00:00 ... 2018-06-11T05:57:00\n",
       "    latitude                              (trajectory, obs) float64 ...\n",
       "    longitude                             (trajectory, obs) float64 ...\n",
       "Dimensions without coordinates: obs\n",
       "Data variables:\n",
       "    SOG                                   (trajectory, obs) float64 ...\n",
       "    COG                                   (trajectory, obs) float64 ...\n",
       "    HDG                                   (trajectory, obs) float64 ...\n",
       "    HDG_WING                              (trajectory, obs) float64 ...\n",
       "    ROLL                                  (trajectory, obs) float64 ...\n",
       "    PITCH                                 (trajectory, obs) float64 ...\n",
       "    WING_ANGLE                            (trajectory, obs) float64 ...\n",
       "    BARO_PRES_MEAN                        (trajectory, obs) float64 ...\n",
       "    BARO_PRES_STDDEV                      (trajectory, obs) float64 ...\n",
       "    TEMP_AIR_MEAN                         (trajectory, obs) float64 ...\n",
       "    TEMP_AIR_STDDEV                       (trajectory, obs) float64 ...\n",
       "    RH_MEAN                               (trajectory, obs) float64 ...\n",
       "    RH_STDDEV                             (trajectory, obs) float64 ...\n",
       "    TEMP_IR_UNCOR_MEAN                    (trajectory, obs) float64 ...\n",
       "    TEMP_IR_UNCOR_STDDEV                  (trajectory, obs) float64 ...\n",
       "    UWND_MEAN                             (trajectory, obs) float64 ...\n",
       "    UWND_STDDEV                           (trajectory, obs) float64 ...\n",
       "    VWND_MEAN                             (trajectory, obs) float64 ...\n",
       "    VWND_STDDEV                           (trajectory, obs) float64 ...\n",
       "    WWND_MEAN                             (trajectory, obs) float64 ...\n",
       "    WWND_STDDEV                           (trajectory, obs) float64 ...\n",
       "    GUST_WND_MEAN                         (trajectory, obs) float64 ...\n",
       "    GUST_WND_STDDEV                       (trajectory, obs) float64 ...\n",
       "    TEMP_CTD_MEAN                         (trajectory, obs) float64 ...\n",
       "    TEMP_CTD_STDDEV                       (trajectory, obs) float64 ...\n",
       "    COND_MEAN                             (trajectory, obs) float64 ...\n",
       "    COND_STDDEV                           (trajectory, obs) float64 ...\n",
       "    SAL_MEAN                              (trajectory, obs) float64 ...\n",
       "    SAL_STDDEV                            (trajectory, obs) float64 ...\n",
       "    O2_CONC_UNCOR_MEAN                    (trajectory, obs) float64 ...\n",
       "    O2_CONC_UNCOR_STDDEV                  (trajectory, obs) float64 ...\n",
       "    O2_SAT_MEAN                           (trajectory, obs) float64 ...\n",
       "    O2_SAT_STDDEV                         (trajectory, obs) float64 ...\n",
       "    TEMP_O2_MEAN                          (trajectory, obs) float64 ...\n",
       "    TEMP_O2_STDDEV                        (trajectory, obs) float64 ...\n",
       "    CHLOR_MEAN                            (trajectory, obs) float64 ...\n",
       "    CHLOR_STDDEV                          (trajectory, obs) float64 ...\n",
       "    CDOM_MEAN                             (trajectory, obs) float64 ...\n",
       "    CDOM_STDDEV                           (trajectory, obs) float64 ...\n",
       "    BKSCT_RED_MEAN                        (trajectory, obs) float64 ...\n",
       "    BKSCT_RED_STDDEV                      (trajectory, obs) float64 ...\n",
       "    sea_water_temperature_logger1_mean    (trajectory, obs) float64 15.12 ... 18.76\n",
       "    sea_water_temperature_logger2_mean    (trajectory, obs) float64 15.05 ... 18.79\n",
       "    sea_water_temperature_logger3_mean    (trajectory, obs) float64 14.91 ... 18.79\n",
       "    sea_water_temperature_logger4_mean    (trajectory, obs) float64 14.79 ... 18.79\n",
       "    sea_water_temperature_logger1_stddev  (trajectory, obs) float64 0.01249 ... 0.00322\n",
       "    sea_water_temperature_logger2_stddev  (trajectory, obs) float64 0.01847 ... 0.001793\n",
       "    sea_water_temperature_logger3_stddev  (trajectory, obs) float64 0.05798 ... 0.0014\n",
       "    sea_water_temperature_logger4_stddev  (trajectory, obs) float64 0.01404 ... 0.001145\n",
       "Attributes:\n",
       "    title:                     Baja 2018 Near-Real-Time Mission Data\n",
       "    ncei_template_version:     NCEI_NetCDF_Trajectory_Template_v2.0\n",
       "    Conventions:               CF-1.6, ACDD-1.3\n",
       "    netcdf_version:            4.4.1.1\n",
       "    featureType:               trajectory\n",
       "    cdm_data_type:             Trajectory\n",
       "    standard_name_vocabulary:  CF Standard Name Table v58\n",
       "    description:               Saildrone NetCDF Format\n",
       "    creator_name:              Saildrone\n",
       "    platform:                  Saildrone\n",
       "    institution:               Saildrone\n",
       "    creator_email:             support@saildrone.com\n",
       "    creator_url:               http://saildrone.com/\n",
       "    date_created:              2018-08-29T21:02:49.774718Z\n",
       "    interval:                  60.0\n",
       "    time_coverage_resolution:  PT1M\n",
       "    time_coverage_start:       2018-04-11T18:00:00.000000Z\n",
       "    time_coverage_end:         2018-06-11T05:59:59.000000Z\n",
       "    time_coverage_duration:    P60DT11H59M59S\n",
       "    data_mode:                 realtime\n",
       "    drone_id:                  1002\n",
       "    id:                        3860\n",
       "    naming_authority:          com.saildrone\n",
       "    uuid:                      b98a9a81-d9f0-4751-aad6-8ea5b8cea963\n",
       "    geospatial_lat_min:        28.0176832\n",
       "    geospatial_lat_max:        37.8174912\n",
       "    geospatial_lat_units:      degrees_north\n",
       "    geospatial_lon_min:        -125.55297279999999\n",
       "    geospatial_lon_max:        -115.5226624\n",
       "    geospatial_lon_units:      degrees_east\n",
       "    area:                      Baja California Coast\n",
       "    project:                   baja_2018\n",
       "    product_version:           1\n",
       "    summary:                   The Saildrone unmanned surface vehicle (USV) c..."
      ]
     },
     "execution_count": 22,
     "metadata": {},
     "output_type": "execute_result"
    }
   ],
   "source": [
    "dataset"
   ]
  },
  {
   "cell_type": "code",
   "execution_count": null,
   "metadata": {},
   "outputs": [],
   "source": []
  },
  {
   "cell_type": "code",
   "execution_count": null,
   "metadata": {},
   "outputs": [],
   "source": []
  },
  {
   "cell_type": "code",
   "execution_count": null,
   "metadata": {},
   "outputs": [],
   "source": []
  },
  {
   "cell_type": "code",
   "execution_count": null,
   "metadata": {},
   "outputs": [],
   "source": []
  }
 ],
 "metadata": {
  "kernelspec": {
   "display_name": "Python 3",
   "language": "python",
   "name": "python3"
  },
  "language_info": {
   "codemirror_mode": {
    "name": "ipython",
    "version": 3
   },
   "file_extension": ".py",
   "mimetype": "text/x-python",
   "name": "python",
   "nbconvert_exporter": "python",
   "pygments_lexer": "ipython3",
   "version": "3.7.0"
  }
 },
 "nbformat": 4,
 "nbformat_minor": 2
}
