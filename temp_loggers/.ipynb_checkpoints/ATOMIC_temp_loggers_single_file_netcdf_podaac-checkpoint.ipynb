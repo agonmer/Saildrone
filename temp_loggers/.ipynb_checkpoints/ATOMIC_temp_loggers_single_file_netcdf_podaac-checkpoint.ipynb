{
 "cells": [
  {
   "cell_type": "code",
   "execution_count": 29,
   "metadata": {},
   "outputs": [
    {
     "name": "stdout",
     "output_type": "stream",
     "text": [
      "number of file: 11\n"
     ]
    }
   ],
   "source": [
    "import xarray as xr\n",
    "import numpy as np\n",
    "import pandas as pd\n",
    "import matplotlib.pyplot as plt\n",
    "import seawater as sw\n",
    "import cartopy.crs as ccrs                   # import projections\n",
    "import cartopy.feature as cf                 # import features\n",
    "import uuid\n",
    "from scipy import interpolate\n",
    "from glob import glob\n",
    "\n",
    "data_dir = 'F:/data/cruise_data/saildrone/2020_atomic/'\n",
    "\n",
    "adir_sbe='F:/data/cruise_data/saildrone/2020_atomic/keel-mount-temp-loggers/'\n",
    "\n",
    "saildrone_filename=[data_dir+'/delay_mode/1026/1min/saildrone-gen_5-atomic_eurec4a_2020-sd1026-20200117T000000-20200302T235959-1_minutes-v1.1589306725934.nc',\n",
    "                    data_dir+'/delay_mode/1060/1min/saildrone-gen_5-atomic_eurec4a_2020-sd1060-20200117T000000-20200302T235959-1_minutes-v1.1589306886594.nc',\n",
    "                    data_dir+'/delay_mode/1061/1min/saildrone-gen_5-atomic_eurec4a_2020-sd1061-20200117T000000-20200302T235959-1_minutes-v1.1589307121602.nc'\n",
    "]\n",
    "\n",
    "#sbe_filename=[\n",
    "#    'saildrone-gen_5-arctic_misst_2019-SBE56-sd1036-20190514T230000-20191011T183000-v1.nc',\n",
    "#    'saildrone-gen_5-arctic_misst_2019-SBE56-sd1037-20190514T230000-20191011T183000-v1.nc'\n",
    "#]\n",
    "#get list of all filenames in directory\n",
    "files = [x for x in glob(adir_sbe+'*.csv')]\n",
    "print('number of file:',len(files))\n",
    "#print(files)\n",
    "\n",
    "#get list of all filenames in directory\n",
    "#files = [x for x in glob(adir_sbe+'*.csv')]\n",
    "#print('number of file:',len(files))\n",
    "#RBR Solot\n",
    "#Special Note: S/N 76106 unexpectedly stopped recording before the mission days began\n",
    "data = {'vehicle':  [1060,1060,1060,1060,1061,1061,1061,1061,1026,1026,1026,1026],\n",
    "        'serial_num': [76102,101317,76104,76106,101315,76111,100036,76110,76108,76109,100038,76103],\n",
    "        'depth': [.4,.85,1.3,1.8,.4,.85,1.3,1.8,.4,.85,1.3,1.8]\n",
    "        }\n",
    "df = pd.DataFrame (data, columns = ['vehicle','serial_num','depth'])\n",
    "\n",
    "time_start = '2019-05-14T23:00:00'\n",
    "time_end = '2019-10-11T18:30:00'\n"
   ]
  },
  {
   "cell_type": "code",
   "execution_count": 69,
   "metadata": {},
   "outputs": [
    {
     "data": {
      "text/plain": [
       "0.85"
      ]
     },
     "execution_count": 69,
     "metadata": {},
     "output_type": "execute_result"
    }
   ],
   "source": [
    "#tem=df[df.vehicle==1060] \n",
    "#tem=tem[tem.serial_num==76102]\n",
    "#df[df.serial_num==76102].depth.values\n",
    "#print(tem.depth.values)\n",
    "df[df.serial_num==iserial].depth.values[0]"
   ]
  },
  {
   "cell_type": "code",
   "execution_count": 96,
   "metadata": {},
   "outputs": [
    {
     "name": "stdout",
     "output_type": "stream",
     "text": [
      "[0 2 1 3]\n",
      "[3 1 2 0]\n",
      "[1 2 3 0]\n"
     ]
    }
   ],
   "source": [
    "#df[df.vehicle==1026].serial_num\n",
    "adepth=[]\n",
    "astr=[]\n",
    "anum=[]\n",
    "usvs=[1060,1061,1026]\n",
    "for iusv in usvs:\n",
    "    adepth2=[]\n",
    "    astr2=[]\n",
    "    anum2=[]\n",
    "    for file in files:\n",
    "        ii=file.find('\\\\')\n",
    "        iserial=int(file[ii+1:ii+7])\n",
    "        #print(iserial)\n",
    "        idepth=df[df.serial_num==iserial].depth.values[0]\n",
    "        iusv2=df[df.serial_num==iserial].vehicle.values[0]\n",
    "        if iusv2==iusv:\n",
    "            astr2.append(file[ii+1:])\n",
    "            anum2.append(iserial)\n",
    "            adepth2.append(idepth)\n",
    "    if iusv==1060:\n",
    "        astr2.append('not.exist')\n",
    "        anum2.append(76106)\n",
    "        adepth2.append(1.8)\n",
    "    sort_index = np.argsort(adepth2)\n",
    "    #sort by depth\n",
    "    adepth3,astr3,anum3,=[],[],[]\n",
    "    for i in range(len(adepth2)):\n",
    "        adepth3.append(adepth2[sort_index[i]])\n",
    "        astr3.append(astr2[sort_index[i]])\n",
    "        anum3.append(anum2[sort_index[i]])\n",
    "    adepth.append(adepth3)\n",
    "    astr.append(astr3)\n",
    "    anum.append(anum3)\n",
    "\n",
    "ds_info = xr.Dataset(data_vars={'fname':(['trajectory','z'],astr),\n",
    "                                'depth':(['trajectory','z'],adepth)},\n",
    "                     coords={'z':np.arange(4),'trajectory':usvs})\n"
   ]
  },
  {
   "cell_type": "markdown",
   "metadata": {},
   "source": [
    "# Metadata\n",
    "- SBE56 info, set some attributes and depths for metadata\n",
    "- put filenames and depts into a xarray dataset\n"
   ]
  },
  {
   "cell_type": "code",
   "execution_count": null,
   "metadata": {},
   "outputs": [],
   "source": [
    "encoding_str={\n",
    "      'sea_water_temperature_00': {'dtype': 'int16', 'scale_factor': 0.001, '_FillValue': -9999},\n",
    "      'sea_water_temperature_01': {'dtype': 'int16', 'scale_factor': 0.001, '_FillValue': -9999},\n",
    "      'sea_water_temperature_02': {'dtype': 'int16', 'scale_factor': 0.001, '_FillValue': -9999},\n",
    "      'sea_water_temperature_03': {'dtype': 'int16', 'scale_factor': 0.001, '_FillValue': -9999},\n",
    "      'sea_water_temperature_04': {'dtype': 'int16', 'scale_factor': 0.001, '_FillValue': -9999},\n",
    "      'sea_water_temperature_05': {'dtype': 'int16', 'scale_factor': 0.001, '_FillValue': -9999},\n",
    "      'sea_water_temperature_06': {'dtype': 'int16', 'scale_factor': 0.001, '_FillValue': -9999},\n",
    "      'time':{'dtype':'float64', '_FillValue': -9999},\n",
    "      'latitude':{'dtype':'float64', '_FillValue': -9999},\n",
    "      'longitude':{'dtype':'float64', '_FillValue': -9999}\n",
    "      }\n",
    "\n",
    "#lat_attrs = {\"_FillValue\":np.nan,\n",
    "lat_attrs = {'long_name':'latitude',\n",
    "             'standard_name':'latitude',\n",
    "             'units':'degrees_north',\n",
    "             'coverage_content_type':'coordinate',\n",
    "             'axis':'Y',\n",
    "             'valid_max':90.0,\n",
    "             'valid_min':-90.0}\n",
    "             \n",
    "#lon_attrs = {\"_FillValue\":np.nan,\n",
    "lon_attrs = {'long_name':'longitude',\n",
    "             'standard_name':'longitude',\n",
    "             'units':'degrees_east',\n",
    "             'coverage_content_type':'coordinate',\n",
    "             'axis':'X',\n",
    "             'valid_max':180.0,\n",
    "             'valid_min':-180.0}\n",
    "\n",
    "vattrs = {'long_name': 'sea surface temperature at',\n",
    "          'standard_name': 'sea_water_temperature', 'installed_height':'-0.295 m' ,\n",
    "          'serial_number' : 'RBR05608196', 'model_number': 'solo_t', \n",
    "          'sensor_description': 'RBR Solo Temperature Logger',\n",
    "          'model_name': 'RBR_Solo_t', 'product_page':'https://rbr-global.com/products/compact-loggers/rbrsolo-t', \n",
    "          'nominal_sampling_schedule': '1 sec', \n",
    "          'units':'degrees_C','valid_min':-5.0,'valid_max':50.0}#,'_FillValue':-9.9}\n",
    "\n",
    "tattrs = {'long_name':'time',\n",
    "          'standard_name':'time',\n",
    "          'coverage_content_type':'coordinate',\n",
    "          'axis':'T'}\n"
   ]
  },
  {
   "cell_type": "markdown",
   "metadata": {},
   "source": [
    "# Combine the .cvs files into a single netcdf file with metadata\n",
    "\n",
    "- for sbe3 on 1036, it fell off, so i put nan for that one\n",
    "- for several 1037 they stopped at different dates so i filled with nan at end to make same length"
   ]
  },
  {
   "cell_type": "code",
   "execution_count": 129,
   "metadata": {},
   "outputs": [
    {
     "data": {
      "text/html": [
       "<pre>&lt;xarray.Dataset&gt;\n",
       "Dimensions:  (time: 3974399)\n",
       "Coordinates:\n",
       "  * time     (time) datetime64[ns] 2020-01-17T00:00:01 ... 2020-03-02T23:59:59\n",
       "Data variables:\n",
       "    temp     (time) float64 27.34 27.34 27.35 27.35 ... 26.9 26.91 26.91 26.9</pre>"
      ],
      "text/plain": [
       "<xarray.Dataset>\n",
       "Dimensions:  (time: 3974399)\n",
       "Coordinates:\n",
       "  * time     (time) datetime64[ns] 2020-01-17T00:00:01 ... 2020-03-02T23:59:59\n",
       "Data variables:\n",
       "    temp     (time) float64 27.34 27.34 27.35 27.35 ... 26.9 26.91 26.91 26.9"
      ]
     },
     "execution_count": 129,
     "metadata": {},
     "output_type": "execute_result"
    }
   ],
   "source": [
    "### iusv=0\n",
    "iz = 0\n",
    "df = pd.read_csv(filename,header=0,names=['time','temp'],skiprows=16)\n",
    "tt = df['time']\n",
    "tt=tt.replace(\" \",\"T\")\n",
    "t2=pd.to_datetime(tt)\n",
    "df['time']=t2\n",
    "df.index=df['time']\n",
    "xf=df.to_xarray()\n",
    "xf"
   ]
  },
  {
   "cell_type": "code",
   "execution_count": null,
   "metadata": {},
   "outputs": [],
   "source": [
    "ds_sbe=[]\n",
    "del ds_sbe\n",
    "iobs_start=0\n",
    "for iusv in range(0,2):   #loop over vehicles\n",
    "    fname=saildrone_filename[iusv]\n",
    "    fname_out=sbe_filename[iusv]\n",
    "    ds = xr.open_dataset(data_dir+fname)\n",
    "    ds.close()\n",
    "    gattrs=ds.attrs   \n",
    "    for iz in range(7):   #loop over SBEs \n",
    "        \n",
    "        \n",
    "        #read in the data and rename variable\n",
    "        if ((iusv==0) and (iz==3)) or iz>3:  #the third sbe56 fell off & file doesn't exist\n",
    "            vname2='sea_water_temperature_'+str(iz).zfill(2)\n",
    "            xf=xf.rename({vname:vname2})\n",
    "            xf[vname2]=xf[vname2]*np.nan\n",
    "            vname='sea_water_temperature_'+str(iz).zfill(2)\n",
    "        else:\n",
    "            #create the .csv SBE filename to read in\n",
    "            tem = ds_info.isel(trajectory=iusv,z=iz)\n",
    "            filename = adir_sbe + str(tem.fname.data)\n",
    "            print(filename)\n",
    "            df = pd.read_csv(filename,header=0,names=['time','temp'],skiprows=16)\n",
    "            tt = df['time']\n",
    "            tt=tt.replace(\" \",\"T\")\n",
    "            t2=pd.to_datetime(tt)\n",
    "            df['time']=t2\n",
    "            df.index=df['time']\n",
    "            xf=df.to_xarray()\n",
    "    \n",
    "        vattrs['installed_height']=str(-1*ds_info.depth[iusv,iz].data)+' m'\n",
    "        vattrs['serial_number']=fstr[:11]\n",
    "        vattrs['long_name']='sea surface temperature at '+str(ds_info.depth[iusv,iz].data/1000.)+' meters depth'\n",
    "        xf.attrs=vattrs\n",
    "        print(iusv,iz,xf.time.min().data,xf.time.max().data)\n",
    "\n",
    "        if iz==0:\n",
    "            nobs_start=xf.time.size\n",
    "            \n",
    "        iobs=np.arange(xf.time.size)\n",
    "        nobs=xf.time.size\n",
    "        \n",
    "        if nobs_start>nobs:\n",
    "            xf_save = xf_save.rename({vname_save:vname})\n",
    "            xf = xr.concat([xf.sel(time=slice(xf.time[0],xf.time[-2])),xf_save.sel(time=slice(xf.time[-1],xf_save.time[-1]))*np.nan],dim='time')\n",
    "\n",
    "        if iz==0:\n",
    "            td=np.ones((1,xf.time.size))*np.nan\n",
    "            td[0,:]=xf[vname]\n",
    "            ds_sbe=xr.Dataset(data_vars={vname:(['trajectory','obs'],td)},coords={'trajectory':[avehicle]})\n",
    "            ds_sbe[vname].attrs=vattrs\n",
    "        else:\n",
    "            td=np.ones((1,xf.time.size))*np.nan\n",
    "            ds_sbe2=xr.Dataset(data_vars={vname:(['trajectory','obs'],td)},coords={'trajectory':[avehicle]})\n",
    "            ds_sbe2[vname][0,:]=xf[vname].data\n",
    "            ds_sbe2[vname].attrs=vattrs\n",
    "            ds_sbe = xr.merge([ds_sbe,ds_sbe2])\n",
    "\n",
    "        xf_save=xf\n",
    "        vname_save=vname\n",
    "    td=np.zeros((1,xf.time.size), dtype='datetime64[s]')\n",
    "    td[0,:]=xf.time.data\n",
    "    tem=xr.Dataset(data_vars={'time':(['trajectory','obs'],td)},coords={'trajectory':[avehicle]})\n",
    "    ds_sbe = xr.merge([ds_sbe,tem])\n",
    "    ds_sbe=ds_sbe.assign_coords(time=ds_sbe.time)\n",
    "    gattrs['time_coverage_resolution']='PT2S'\n",
    "    gattrs['uuid']=str(uuid.uuid4())\n",
    "    gattrs['keywords']='Temperature, Saildrone, Arctic, Bering Sea, Chukchi Sea, NASA, NOAA'\n",
    "    gattrs['history']='created post-cruise by Gentemann 3/25/2020'  \n",
    "    ds_sbe['trajectory']=ds.trajectory\n",
    "    \n",
    "#add lat and lon and time\n",
    "    flat = interpolate.interp1d(ds.time[0,:].astype('float64'),ds.latitude[0,:])\n",
    "    newlat = flat(ds_sbe.time[0,:].astype('float64'))\n",
    "    flon = interpolate.interp1d(ds.time[0,:].astype('float64'),ds.longitude[0,:])\n",
    "    newlon = flon(ds_sbe.time[0,:].astype('float64'))\n",
    "    td=np.zeros((1,xf.time.size), dtype='double')\n",
    "    td[0,:]=newlat\n",
    "    tem=xr.Dataset(data_vars={'latitude':(['trajectory','obs'],td)},coords={'trajectory':[avehicle]})\n",
    "    ds_sbe = xr.merge([ds_sbe,tem])\n",
    "    ds_sbe=ds_sbe.assign_coords(latitude=ds_sbe.latitude)\n",
    "    td=np.zeros((1,xf.time.size), dtype='double')\n",
    "    td[0,:]=newlon\n",
    "    tem=xr.Dataset(data_vars={'longitude':(['trajectory','obs'],td)},coords={'trajectory':[avehicle]})\n",
    "    ds_sbe = xr.merge([ds_sbe,tem])\n",
    "    ds_sbe=ds_sbe.assign_coords(longitude=ds_sbe.longitude)\n",
    "    ds_sbe.latitude.attrs=lat_attrs\n",
    "    ds_sbe.longitude.attrs=lon_attrs\n",
    "    ds_sbe.time.attrs=tattrs\n",
    "    ds_sbe.trajectory.attrs={'cf_role':'trajectory_id'}\n",
    "\n",
    "    ds_sbe.attrs=gattrs\n",
    "    fout=data_dir+fname_out\n",
    "\n",
    "#output data\n",
    "    ds_sbe.to_netcdf(fout,encoding=encoding_str)\n",
    "    del ds_sbe\n"
   ]
  },
  {
   "cell_type": "code",
   "execution_count": null,
   "metadata": {},
   "outputs": [],
   "source": [
    "print('sb_xfe time',xf.time.min().data)\n",
    "print('sbe time',ds_sbe.time.min().data)\n",
    "print('usv time',ds.time.min().data)\n",
    "print('max')\n",
    "print('sbe time',ds_sbe.time.max().data)\n",
    "print('usv time',ds.time.max().data)"
   ]
  },
  {
   "cell_type": "code",
   "execution_count": null,
   "metadata": {},
   "outputs": [],
   "source": [
    "ds_sbe2= xr.open_dataset(fout)\n",
    "ds_sbe2.close()\n",
    "print(ds_sbe2.sea_water_temperature_01[0,-10:].data)\n",
    "print(ds_sbe.sea_water_temperature_01[0,-10:].data)\n",
    "print(ds_sbe2.sea_water_temperature_01[0,:10].data)\n",
    "print(ds_sbe.sea_water_temperature_01[0,:10].data)"
   ]
  }
 ],
 "metadata": {
  "kernelspec": {
   "display_name": "Python 3",
   "language": "python",
   "name": "python3"
  },
  "language_info": {
   "codemirror_mode": {
    "name": "ipython",
    "version": 3
   },
   "file_extension": ".py",
   "mimetype": "text/x-python",
   "name": "python",
   "nbconvert_exporter": "python",
   "pygments_lexer": "ipython3",
   "version": "3.7.6"
  }
 },
 "nbformat": 4,
 "nbformat_minor": 2
}
