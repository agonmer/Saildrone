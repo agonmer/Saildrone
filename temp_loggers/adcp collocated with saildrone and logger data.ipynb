{
 "cells": [
  {
   "cell_type": "code",
   "execution_count": null,
   "metadata": {},
   "outputs": [],
   "source": [
    "import xarray as xr\n",
    "import datetime as dt\n",
    "import pandas as pd\n",
    "import numpy as np\n",
    "adir_adcp = 'F:/data/cruise_data/saildrone/baja-2018/adcp_data/'\n",
    "adir = 'F:/data/cruise_data/saildrone/baja-2018/'\n",
    "\n",
    "filename_loggers_usv=adir + 'saildrone-gen_4-baja_2018-sd1002-20180411T180000-20180611T055959-1_minutes-v1_withloggers.nc'\n",
    "filename_adcp = adir_adcp + 'saildrone-gen_4-baja_2018-sd1002-adcp-20180411T175730-20180611T235730_300s-v1.nc'\n",
    "\n",
    "ds_usv = xr.open_dataset(filename_loggers_usv)  #1 minute averaging\n",
    "ds_adcp = xr.open_dataset(filename_adcp)            #10 minute sampling\n",
    "offset=0"
   ]
  },
  {
   "cell_type": "code",
   "execution_count": null,
   "metadata": {},
   "outputs": [],
   "source": [
    "print(ds_adcp.time[0:10].data)\n",
    "print(ds_usv.time[0,0:10].data)\n",
    "print(type(ds_adcp.time))\n",
    "ds_adcp"
   ]
  },
  {
   "cell_type": "code",
   "execution_count": null,
   "metadata": {},
   "outputs": [],
   "source": [
    "#ds_usv2=ds_usv.sel(trajectory=1002)\n",
    "\n",
    "#ds_usv2.time\n",
    "#ds_usv2.coords('time',ds_usv2('time'))\n",
    "#ds_temds.coords['day'] = ('time', [6, 7, 8])\n",
    "#ds_usv2.assign_coords(obs=ds_usv2.time)\n",
    "#ds_usv2"
   ]
  },
  {
   "cell_type": "code",
   "execution_count": null,
   "metadata": {},
   "outputs": [],
   "source": [
    "tdim=ds_adcp.time[:,0].shape\n",
    "tdim\n",
    "print(ds_adcp.time)"
   ]
  },
  {
   "cell_type": "code",
   "execution_count": null,
   "metadata": {},
   "outputs": [],
   "source": [
    "istart=0\n",
    "print(tdim[0])\n",
    "for i in range(0,tdim[0]):\n",
    "    upper_time=ds_adcp.time[i,0]\n",
    "    lower_time=upper_time-np.timedelta64(150,'s')\n",
    "    #print(lower_time.data,upper_time.data)\n",
    "    ds_usv2=ds_usv.where((ds_usv.time>lower_time) & (ds_usv.time<=upper_time)).mean() #,upper_time))\n",
    "    if istart == 0:\n",
    "        ds_usv3=ds_usv2\n",
    "        istart=1\n",
    "    else:\n",
    "        ds_usv3=xr.concat([ds_usv3, ds_usv2], 'obs')"
   ]
  },
  {
   "cell_type": "code",
   "execution_count": null,
   "metadata": {},
   "outputs": [],
   "source": [
    "ds_usv2\n",
    "ds_usv3=xr.concat([ds_usv2, ds_usv2], 'obs')\n",
    "ds_usv3\n",
    "#xr.merge([ds_adcp, ds_usv2])"
   ]
  },
  {
   "cell_type": "code",
   "execution_count": null,
   "metadata": {},
   "outputs": [],
   "source": [
    "pt = pd.to_datetime(ds_usv2.time.data)+offset  #add offset seconds\n",
    "psec=pt.second\n",
    "tem=ds_usv2 #[(psec <=12)]  #data average should be only use sec 54 to sec 06 of each minute \n",
    "tem['time']=tem['time']+offset #resample goes from :00 to :59 so shift +6sec\n",
    "#print(tem.time)\n",
    "xf_avg1 = tem.resample(time='10min').mean()\n"
   ]
  }
 ],
 "metadata": {
  "kernelspec": {
   "display_name": "Python 3",
   "language": "python",
   "name": "python3"
  },
  "language_info": {
   "codemirror_mode": {
    "name": "ipython",
    "version": 3
   },
   "file_extension": ".py",
   "mimetype": "text/x-python",
   "name": "python",
   "nbconvert_exporter": "python",
   "pygments_lexer": "ipython3",
   "version": "3.7.0"
  }
 },
 "nbformat": 4,
 "nbformat_minor": 2
}
