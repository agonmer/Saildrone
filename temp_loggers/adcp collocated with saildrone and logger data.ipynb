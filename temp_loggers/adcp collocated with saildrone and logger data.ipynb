{
 "cells": [
  {
   "cell_type": "code",
   "execution_count": null,
   "metadata": {},
   "outputs": [],
   "source": [
    "import xarray as xr\n",
    "import datetime as dt\n",
    "import pandas as pd\n",
    "import numpy as np\n",
    "adir_adcp = 'F:/data/cruise_data/saildrone/baja-2018/adcp_data/'\n",
    "adir = 'F:/data/cruise_data/saildrone/baja-2018/'\n",
    "\n",
    "filename_loggers_usv=adir + 'saildrone-gen_4-baja_2018-sd1002-20180411T180000-20180611T055959-1_minutes-v1_withloggers.nc'\n",
    "filename_adcp = adir_adcp + 'saildrone-gen_4-baja_2018-sd1002-adcp-20180411T175730-20180611T235730_300s-v1.nc'\n",
    "\n",
    "ds_usv = xr.open_dataset(filename_loggers_usv)  #1 minute averaging\n",
    "ds_usv.close()\n",
    "ds_adcp = xr.open_dataset(filename_adcp)            #10 minute sampling\n",
    "ds_adcp.close()\n",
    "offset=0\n",
    "#print(ds_adcp)\n",
    "ds_usv = ds_usv.sel(trajectory=1002)\n",
    "ds_adcp = ds_adcp.isel(trajectory=0)\n",
    "#ds_adcp=ds_adcp.rename({'latitude':'lat','longitude':'lon'})\n",
    "#ds_adcp=ds_adcp.swap_dims({'obs':'time'})\n",
    "#ds_usv=ds_usv.rename({'latitude':'lat','longitude':'lon'})\n",
    "ds_usv=ds_usv.swap_dims({'obs':'time'})\n",
    "ds_adcp=ds_adcp.swap_dims({'obs':'time'})\n",
    "lon = ds_usv.longitude\n",
    "lat = ds_usv.latitude\n",
    "#print(lon)\n",
    "del ds_usv['longitude']\n",
    "del ds_usv['latitude']\n",
    "ds_usv['longitude'] = (('time'), lon)\n",
    "ds_usv['latitude'] = (('time'), lat)   \n",
    "#print(ds_usv)\n",
    "#print(ds_adcp)"
   ]
  },
  {
   "cell_type": "code",
   "execution_count": null,
   "metadata": {},
   "outputs": [],
   "source": [
    "ds_usv.sea_water_temperature_logger1_mean"
   ]
  },
  {
   "cell_type": "code",
   "execution_count": null,
   "metadata": {},
   "outputs": [],
   "source": [
    "#print(ds_adcp.time[0:10].data)\n",
    "#print(ds_usv.time[0,0:10].data)\n",
    "#print(type(ds_adcp.time))\n",
    "#ds_adcp"
   ]
  },
  {
   "cell_type": "code",
   "execution_count": null,
   "metadata": {},
   "outputs": [],
   "source": [
    "#ds_usv2=ds_usv.sel(trajectory=1002)\n",
    "\n",
    "#ds_usv2.time\n",
    "#ds_usv2.coords('time',ds_usv2('time'))\n",
    "#ds_temds.coords['day'] = ('time', [6, 7, 8])\n",
    "#ds_usv2.assign_coords(obs=ds_usv2.time)\n",
    "#ds_usv2"
   ]
  },
  {
   "cell_type": "code",
   "execution_count": null,
   "metadata": {},
   "outputs": [],
   "source": [
    "tdim=ds_adcp.time[:].shape\n",
    "tdim\n",
    "print(ds_adcp.time)"
   ]
  },
  {
   "cell_type": "code",
   "execution_count": null,
   "metadata": {},
   "outputs": [],
   "source": [
    "ds_adcp.longitude"
   ]
  },
  {
   "cell_type": "code",
   "execution_count": null,
   "metadata": {},
   "outputs": [],
   "source": [
    "istart=0\n",
    "print(tdim[0])\n",
    "for i in range(0,tdim[0]):\n",
    "    center_time=ds_adcp.time[i]\n",
    "    upper_time=center_time+np.timedelta64(150,'s')\n",
    "    lower_time=center_time-np.timedelta64(150,'s')\n",
    "    #print(lower_time.data,upper_time.data)\n",
    "    ds_usv2=ds_usv.where((ds_usv.time>lower_time) & (ds_usv.time<=upper_time)).mean(keep_attrs=True) #,upper_time))\n",
    "    ds_usv2['time']=ds_adcp.time[i]\n",
    "    if istart == 0:\n",
    "        ds_usv3=ds_usv2\n",
    "        istart=1\n",
    "    else:\n",
    "        ds_usv3=xr.concat([ds_usv3, ds_usv2], 'obs')"
   ]
  },
  {
   "cell_type": "code",
   "execution_count": null,
   "metadata": {},
   "outputs": [],
   "source": [
    "ds_usv3"
   ]
  },
  {
   "cell_type": "code",
   "execution_count": null,
   "metadata": {},
   "outputs": [],
   "source": [
    "filename_10min=adir + 'saildrone-gen_4-baja_2018-sd1002-20180411T180000-20180611T055959-10_minutes-v1_withloggers_matchedadcp_v3.nc'\n",
    "ds_usv3.to_netcdf(filename_10min)"
   ]
  },
  {
   "cell_type": "code",
   "execution_count": null,
   "metadata": {},
   "outputs": [],
   "source": [
    "#pt = pd.to_datetime(ds_usv2.time.data)+offset  #add offset seconds\n",
    "#psec=pt.second\n",
    "#tem=ds_usv2 #[(psec <=12)]  #data average should be only use sec 54 to sec 06 of each minute \n",
    "#tem['time']=tem['time']+offset #resample goes from :00 to :59 so shift +6sec\n",
    "#print(tem.time)\n",
    "#xf_avg1 = tem.resample(time='10min').mean()\n",
    "filename_10min=adir + 'saildrone-gen_4-baja_2018-sd1002-20180411T180000-20180611T055959-10_minutes-v1_withloggers_matchedadcp_v2.nc'\n",
    "ds_usv3=xr.open_dataset(filename_10min)"
   ]
  },
  {
   "cell_type": "code",
   "execution_count": null,
   "metadata": {},
   "outputs": [],
   "source": [
    "ds_usv3"
   ]
  },
  {
   "cell_type": "code",
   "execution_count": null,
   "metadata": {},
   "outputs": [],
   "source": []
  }
 ],
 "metadata": {
  "kernelspec": {
   "display_name": "Python 3",
   "language": "python",
   "name": "python3"
  },
  "language_info": {
   "codemirror_mode": {
    "name": "ipython",
    "version": 3
   },
   "file_extension": ".py",
   "mimetype": "text/x-python",
   "name": "python",
   "nbconvert_exporter": "python",
   "pygments_lexer": "ipython3",
   "version": "3.7.1"
  }
 },
 "nbformat": 4,
 "nbformat_minor": 2
}
