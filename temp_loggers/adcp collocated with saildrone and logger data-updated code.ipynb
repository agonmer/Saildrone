{
 "cells": [
  {
   "cell_type": "code",
   "execution_count": 1,
   "metadata": {},
   "outputs": [],
   "source": [
    "import xarray as xr\n",
    "import datetime as dt\n",
    "import pandas as pd\n",
    "import numpy as np\n",
    "adir_adcp = 'F:/data/cruise_data/saildrone/baja-2018/adcp_data/'\n",
    "adir = 'F:/data/cruise_data/saildrone/baja-2018/'\n",
    "\n",
    "filename_loggers_usv=adir + 'saildrone-gen_4-baja_2018-sd1002-20180411T180000-20180611T055959-1_minutes-v1_withloggers.nc'\n",
    "filename_adcp = adir_adcp + 'saildrone-gen_4-baja_2018-sd1002-adcp-20180411T175730-20180611T235730_300s-v1.nc'\n",
    "\n",
    "ds_usv = xr.open_dataset(filename_loggers_usv)  #1 minute averaging\n",
    "ds_usv.close()\n",
    "ds_adcp = xr.open_dataset(filename_adcp)            #10 minute sampling\n",
    "ds_adcp.close()\n",
    "offset=0\n",
    "\n",
    "ds_adcp=ds_adcp.rename({'latitude':'lat','longitude':'lon'})\n",
    "ds_adcp=ds_adcp.swap_dims({'obs':'time'})\n",
    "\n",
    "ds_usv=ds_usv.rename({'latitude':'lat','longitude':'lon'})\n",
    "ds_usv=ds_usv.swap_dims({'obs':'time'})\n",
    "lon = ds_usv.lon\n",
    "lat = ds_usv.lat\n",
    "del ds_usv['lon']\n",
    "del ds_usv['lat']\n",
    "ds_usv['lon'] = ('time', lon)\n",
    "ds_usv['lat'] = ('time', lat)   \n"
   ]
  },
  {
   "cell_type": "code",
   "execution_count": 2,
   "metadata": {},
   "outputs": [
    {
     "name": "stdout",
     "output_type": "stream",
     "text": [
      "[['2018-04-11T19:50:00.000000000']\n",
      " ['2018-04-11T20:00:00.000000000']\n",
      " ['2018-04-11T20:10:00.000000000']\n",
      " ['2018-04-11T20:20:00.000000000']\n",
      " ['2018-04-11T20:30:00.000000000']\n",
      " ['2018-04-11T20:40:00.000000000']\n",
      " ['2018-04-11T20:50:00.000000000']\n",
      " ['2018-04-11T21:00:00.000000000']\n",
      " ['2018-04-11T21:10:00.000000000']\n",
      " ['2018-04-11T21:20:00.000000000']]\n",
      "['2018-04-11T18:00:00.000000000' '2018-04-11T18:01:00.000000000'\n",
      " '2018-04-11T18:02:00.000000000' '2018-04-11T18:03:00.000000000'\n",
      " '2018-04-11T18:04:00.000000000' '2018-04-11T18:05:00.000000000'\n",
      " '2018-04-11T18:06:00.000000000' '2018-04-11T18:07:00.000000000'\n",
      " '2018-04-11T18:08:00.000000000' '2018-04-11T18:09:00.000000000']\n",
      "<class 'xarray.core.dataarray.DataArray'>\n"
     ]
    },
    {
     "data": {
      "text/plain": [
       "<xarray.Dataset>\n",
       "Dimensions:              (beam: 4, cell: 50, obs: 8760, trajectory: 1)\n",
       "Coordinates:\n",
       "  * trajectory           (trajectory) float32 9.96921e+36\n",
       "Dimensions without coordinates: beam, cell, obs\n",
       "Data variables:\n",
       "    cell_depth           (cell) float32 ...\n",
       "    latitude             (obs, trajectory) float64 ...\n",
       "    longitude            (obs, trajectory) float64 ...\n",
       "    time                 (obs, trajectory) datetime64[ns] ...\n",
       "    roll                 (obs, trajectory) float64 ...\n",
       "    pitch                (obs, trajectory) float64 ...\n",
       "    heading              (obs, trajectory) float64 ...\n",
       "    nav_end_latitude     (obs, trajectory) float64 ...\n",
       "    nav_end_longitude    (obs, trajectory) float64 ...\n",
       "    nav_end_time         (obs, trajectory) datetime64[ns] ...\n",
       "    nav_start_latitude   (obs, trajectory) float64 ...\n",
       "    nav_start_longitude  (obs, trajectory) float64 ...\n",
       "    nav_start_time       (obs, trajectory) datetime64[ns] ...\n",
       "    bt_vel_east          (obs, trajectory) float64 ...\n",
       "    bt_vel_north         (obs, trajectory) float64 ...\n",
       "    bt_vel_up            (obs, trajectory) float64 ...\n",
       "    percent_good         (obs, cell, trajectory) float64 ...\n",
       "    percent_good_4_beam  (obs, cell, trajectory) float64 ...\n",
       "    percent_good_3_beam  (obs, cell, trajectory) float64 ...\n",
       "    vel_east             (obs, cell, trajectory) float64 ...\n",
       "    vel_north            (obs, cell, trajectory) float64 ...\n",
       "    vel_up               (obs, cell, trajectory) float64 ...\n",
       "    error_vel            (obs, cell, trajectory) float64 ...\n",
       "    echo_intensity       (obs, beam, cell, trajectory) float64 ...\n",
       "    correlation          (obs, beam, cell, trajectory) float64 ...\n",
       "    bt_range             (obs, beam, trajectory) float64 ...\n",
       "    bt_cor               (obs, beam, trajectory) float64 ...\n",
       "    bt_amp               (obs, beam, trajectory) float64 ...\n",
       "    bt_percent_good      (obs, beam, trajectory) float64 ...\n",
       "    ship_vel_east        (obs, trajectory) float64 ...\n",
       "    ship_vel_north       (obs, trajectory) float64 ...\n",
       "    ship_vel_up          (obs, trajectory) float64 ...\n",
       "Attributes:\n",
       "    description:                   Saildrone NetCDF format\n",
       "    Metadata_Conventions:          Unidata Dataset Discovery v1.0\n",
       "    keywords:                      ADCP,Saildrone\n",
       "    geospatial_vertical_units:     meters\n",
       "    geospatial_lon_units:          degrees_east\n",
       "    geospatial_lat_units:          degrees_north\n",
       "    time_coverage_resolution:      five minute average\n",
       "    creator_url:                   http://saildrone.com/\n",
       "    creator_name:                  Saildrone\n",
       "    creator_email:                 support@saildrone.com\n",
       "    time_coverage_duration:        P61DT19M59S\n",
       "    time_coverage_end:             2018-06-11T20:17:26\n",
       "    time_coverage_start:           2018-04-11T19:57:27\n",
       "    summary:                       The Saildrone unmanned surface vehicle (US...\n",
       "    project:                       baja_2018\n",
       "    title:                         Baja 2018 ADCP Mission Data\n",
       "    Conventions:                   CF-1.6, ACDD-1.3\n",
       "    standard_name_vocabulary:      CF Standard Name Table v58\n",
       "    cdm_data_type:                 Trajectory\n",
       "    featureType:                   trajectory\n",
       "    area:                          Baja California Coast\n",
       "    drone_id:                      1002\n",
       "    id:                            3829\n",
       "    uuid:                          d4fec539-028d-4947-84bc-2aff7c4a2be9\n",
       "    naming_authority:              com.saildrone\n",
       "    platform:                      Saildrone\n",
       "    institution:                   Saildrone\n",
       "    product_version:               1\n",
       "    ncei_template_version:         NCEI_NetCDF_Trajectory_Template_v2.0\n",
       "    netcdf_version:                4.4.1.1\n",
       "    geospatial_lat_min:            28.01784130744636\n",
       "    geospatial_lat_max:            37.81639474444091\n",
       "    geospatial_lon_min:            -125.5530699994415\n",
       "    geospatial_lon_max:            -115.52420038729906\n",
       "    geospatial_vertical_positive:  down\n",
       "    date_created:                  2018-10-23T15:28:45"
      ]
     },
     "execution_count": 2,
     "metadata": {},
     "output_type": "execute_result"
    }
   ],
   "source": [
    "##print(ds_adcp.time[0:10].data)\n",
    "#print(ds_usv.time[0,0:10].data)\n",
    "#print(type(ds_adcp.time))\n",
    "#ds_adcp"
   ]
  },
  {
   "cell_type": "code",
   "execution_count": 3,
   "metadata": {},
   "outputs": [],
   "source": [
    "#ds_usv2=ds_usv.sel(trajectory=1002)\n",
    "\n",
    "#ds_usv2.time\n",
    "#ds_usv2.coords('time',ds_usv2('time'))\n",
    "#ds_temds.coords['day'] = ('time', [6, 7, 8])\n",
    "#ds_usv2.assign_coords(obs=ds_usv2.time)\n",
    "#ds_usv2\n",
    "\n",
    "\n",
    "#this calculates hourly data that only uses the last 8 minutes of each hour for the average\n",
    "sub = ds_usv.copy(deep=True)\n",
    "pt = pd.to_datetime(sub.time.data)\n",
    "pmin=pt.minute\n",
    "psec=pt.second\n",
    "tem=sub.where(pmin>=52)  #data average should be only use min 52  to :60 \n",
    "ds_usv_10min = tem.resample(time='1h', skipna=True, label='right').mean()\n",
    "\n"
   ]
  },
  {
   "cell_type": "code",
   "execution_count": 4,
   "metadata": {},
   "outputs": [
    {
     "name": "stdout",
     "output_type": "stream",
     "text": [
      "<xarray.DataArray 'time' (obs: 8760, trajectory: 1)>\n",
      "array([['2018-04-11T19:50:00.000000000'],\n",
      "       ['2018-04-11T20:00:00.000000000'],\n",
      "       ['2018-04-11T20:10:00.000000000'],\n",
      "       ...,\n",
      "       ['2018-06-11T19:50:00.000000000'],\n",
      "       ['2018-06-11T20:00:00.000000000'],\n",
      "       ['2018-06-11T20:10:00.000000000']], dtype='datetime64[ns]')\n",
      "Coordinates:\n",
      "  * trajectory  (trajectory) float32 9.96921e+36\n",
      "Dimensions without coordinates: obs\n",
      "Attributes:\n",
      "    long_name:           Time\n",
      "    standard_name:       time\n",
      "    vendor_name:         VectorNav\n",
      "    installed_date:      2017-06-01T00:00:00Z\n",
      "    model_product_page:  http://www.vectornav.com/products/vn200-smd\n",
      "    device_name:         VectorNav IMU (N/A)\n"
     ]
    }
   ],
   "source": [
    "tdim=ds_adcp.time[:,0].shape\n",
    "tdim\n",
    "print(ds_adcp.time)"
   ]
  },
  {
   "cell_type": "code",
   "execution_count": null,
   "metadata": {},
   "outputs": [
    {
     "name": "stdout",
     "output_type": "stream",
     "text": [
      "8760\n"
     ]
    }
   ],
   "source": [
    "istart=0\n",
    "print(tdim[0])\n",
    "for i in range(0,tdim[0]):\n",
    "    center_time=ds_adcp.time[i,0]\n",
    "    upper_time=center_time+np.timedelta64(150,'s')\n",
    "    lower_time=center_time-np.timedelta64(150,'s')\n",
    "    #print(lower_time.data,upper_time.data)\n",
    "    ds_usv2=ds_usv.where((ds_usv.time>lower_time) & (ds_usv.time<=upper_time)).mean() #,upper_time))\n",
    "    if istart == 0:\n",
    "        ds_usv3=ds_usv2\n",
    "        istart=1\n",
    "    else:\n",
    "        ds_usv3=xr.concat([ds_usv3, ds_usv2], 'obs')"
   ]
  },
  {
   "cell_type": "code",
   "execution_count": null,
   "metadata": {},
   "outputs": [],
   "source": [
    "ds_usv3"
   ]
  },
  {
   "cell_type": "code",
   "execution_count": 6,
   "metadata": {},
   "outputs": [],
   "source": [
    "filename_10min=adir + 'saildrone-gen_4-baja_2018-sd1002-20180411T180000-20180611T055959-10_minutes-v1_withloggers_matchedadcp.nc'\n",
    "#ds_usv3.to_netcdf(filename_10min)"
   ]
  },
  {
   "cell_type": "code",
   "execution_count": null,
   "metadata": {},
   "outputs": [],
   "source": [
    "#pt = pd.to_datetime(ds_usv2.time.data)+offset  #add offset seconds\n",
    "#psec=pt.second\n",
    "#tem=ds_usv2 #[(psec <=12)]  #data average should be only use sec 54 to sec 06 of each minute \n",
    "#tem['time']=tem['time']+offset #resample goes from :00 to :59 so shift +6sec\n",
    "#print(tem.time)\n",
    "#xf_avg1 = tem.resample(time='10min').mean()\n"
   ]
  }
 ],
 "metadata": {
  "kernelspec": {
   "display_name": "Python 3",
   "language": "python",
   "name": "python3"
  },
  "language_info": {
   "codemirror_mode": {
    "name": "ipython",
    "version": 3
   },
   "file_extension": ".py",
   "mimetype": "text/x-python",
   "name": "python",
   "nbconvert_exporter": "python",
   "pygments_lexer": "ipython3",
   "version": "3.7.0"
  }
 },
 "nbformat": 4,
 "nbformat_minor": 2
}
