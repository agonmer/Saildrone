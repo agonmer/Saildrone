{
 "cells": [
  {
   "cell_type": "code",
   "execution_count": null,
   "metadata": {},
   "outputs": [],
   "source": [
    "import pandas as pd\n",
    "from pandas import ExcelWriter\n",
    "from pandas import ExcelFile\n",
    "import datetime as dt\n",
    "from datetime import datetime, timedelta\n",
    "import numpy as np\n",
    "import xarray as xr\n",
    "import matplotlib.pyplot as plt\n",
    "\n",
    "#xf_ave=xf.groupby('time.minute').mean() #this doesn't create a minute average, but a minute climatology\n",
    "#this code creates the average for each minute using all the data for that minute, \n",
    "#so it is centered at 30 seconds for each minute\n",
    "#i check this #print(xf.Temperature_1[30:60].mean())  #xf_avg.Temperature_1[1].data\n",
    "#xf_avg = xf.resample(time='1min',skipna=True).mean()\n",
    "#print(xf_avg)\n",
    "#talked to dave peacock averaging is :54 to 1:06 for each 1 minute average\n",
    "#so need to take data and set to flag values for 07 to 53 seconds for each minute of data then\n",
    "#then do resample so that the only valid data included in the average is :54 to 1:06\n",
    "\n",
    "adir0='F:/data/cruise_data/saildrone/baja-2018/'\n",
    "#filename_all_nc='F:/data/cruise_data/saildrone/baja-2018/saildrone-gen_4-baja_2018-EP-sd1002-ALL-1_min-v1.nc'\n",
    "filename_all_nc='F:/data/cruise_data/saildrone/baja-2018/saildrone-gen_5-baja_2018-sd1002-20180411T180000-20180611T055959-1_minutes-v2.1535585233403.nc'\n",
    "filename_loggers = 'F:/data/cruise_data/saildrone/baja-2018/sbe_temperature_logger_data/saildrone-gen_5-Baja_2018-sd1002-20180408T000000-20180621T203921-2_seconds-temperature_loggers-v2.nc'\n",
    "filename_loggers_out_nc='F:/data/cruise_data/saildrone/baja-2018/saildrone-gen_5-Baja_2018-sd1002-20180501T000000-20180501T235959-1_minutes-v2.1534883110884_withloggers.nc'\n"
   ]
  },
  {
   "cell_type": "code",
   "execution_count": null,
   "metadata": {},
   "outputs": [],
   "source": [
    "#offset = pd.to_timedelta(6, unit='s') \n",
    "#df['time']=pd.to_datetime(df['Date'] + ' ' + df['Time'])+offset\n",
    "xf=xr.open_dataset(filename_loggers)\n"
   ]
  },
  {
   "cell_type": "code",
   "execution_count": null,
   "metadata": {},
   "outputs": [],
   "source": [
    "#start cruise, into water 160270\n",
    "#end cruise, out 470900\n",
    "i1=460000\n",
    "i2=-10000\n",
    "xf.sea_water_temperature_1[i1:i2].plot.line(color='purple')\n",
    "xf.sea_water_temperature_2[i1:i2].plot.line(color='red')\n",
    "xf.sea_water_temperature_3[i1:i2].plot.line(color='green')\n",
    "xf.sea_water_temperature_4[i1:i2].plot.line(color='blue')\n",
    "plt.legend\n",
    "plt.show()"
   ]
  },
  {
   "cell_type": "code",
   "execution_count": null,
   "metadata": {},
   "outputs": [],
   "source": [
    "offset = pd.to_timedelta(6, unit='s') \n",
    "xftem=xf.sea_water_temperature_1\n",
    "pt = pd.to_datetime(xftem.time.data)+offset  #add 6 seconds\n",
    "psec=pt.second\n",
    "tem=xftem[(psec <=12)]  #data average should be only use sec 54 to sec 06 of each minute \n",
    "tem['time']=tem['time']+offset #resample goes from :00 to :59 so shift +6sec\n",
    "xf_avg1 = tem.resample(time='1min').mean()\n",
    "xf_std1 = tem.resample(time='1min').std(ddof=1)\n",
    "xf['sea_water_temperature_1_mean']=xf_avg1\n",
    "xf['sea_water_temperature_1_std']=xf_std1\n",
    "xftem=xf.sea_water_temperature_2\n",
    "pt = pd.to_datetime(xftem.time.data)+offset  #add 6 seconds\n",
    "psec=pt.second\n",
    "tem=xftem[(psec <=12)]  #data average should be only use sec 54 to sec 06 of each minute \n",
    "tem['time']=tem['time']+offset #resample goes from :00 to :59 so shift +6sec\n",
    "xf_avg2 = tem.resample(time='1min').mean()\n",
    "xf_std2 = tem.resample(time='1min').std(ddof=1)\n",
    "xf['sea_water_temperature_2_mean']=xf_avg2\n",
    "xf['sea_water_temperature_2_std']=xf_std2\n",
    "xftem=xf.sea_water_temperature_3\n",
    "pt = pd.to_datetime(xftem.time.data)+offset  #add 6 seconds\n",
    "psec=pt.second\n",
    "tem=xftem[(psec <=12)]  #data average should be only use sec 54 to sec 06 of each minute \n",
    "tem['time']=tem['time']+offset #resample goes from :00 to :59 so shift +6sec\n",
    "xf_avg3 = tem.resample(time='1min').mean()\n",
    "xf_std3 = tem.resample(time='1min').std(ddof=1)\n",
    "xf['sea_water_temperature_3_mean']=xf_avg3\n",
    "xf['sea_water_temperature_3_std']=xf_std3\n",
    "xftem=xf.sea_water_temperature_4\n",
    "pt = pd.to_datetime(xftem.time.data)+offset  #add 6 seconds\n",
    "psec=pt.second\n",
    "tem=xftem[(psec <=12)]  #data average should be only use sec 54 to sec 06 of each minute \n",
    "tem['time']=tem['time']+offset #resample goes from :00 to :59 so shift +6sec\n",
    "xf_avg4 = tem.resample(time='1min').mean()\n",
    "xf_std4 = tem.resample(time='1min').std(ddof=1)\n",
    "xf['sea_water_temperature_4_mean']=xf_avg4\n",
    "xf['sea_water_temperature_4_std']=xf_std4\n"
   ]
  },
  {
   "cell_type": "code",
   "execution_count": null,
   "metadata": {},
   "outputs": [],
   "source": [
    "#for i in range(25,60):\n",
    "#    print(xf.time[i].data,xf.sea_water_temperature_1[i].data,xf.sea_water_temperature_1_mean[i].data)\n",
    "    "
   ]
  },
  {
   "cell_type": "code",
   "execution_count": null,
   "metadata": {},
   "outputs": [],
   "source": [
    "print(xf_avg1[0:10])\n",
    "print(xf.sea_water_temperature_1_mean[0:100])\n",
    "print(xf_avg1[0:10])\n",
    "print(xf_avg2[0:10])\n",
    "print(xf_avg3[0:10])\n",
    "print(xf_avg4[0:10])"
   ]
  },
  {
   "cell_type": "code",
   "execution_count": null,
   "metadata": {},
   "outputs": [],
   "source": [
    "i1=460000\n",
    "i2=-10000\n",
    "xf.sea_water_temperature_1_mean\n",
    "#xf.sea_water_temperature_2_mean[i1:i2].plot.line(color='red')\n",
    "#xf.sea_water_temperature_3_mean[i1:i2].plot.line(color='green')\n",
    "#xf.sea_water_temperature_4_mean[i1:i2].plot.line(color='blue')\n",
    "plt.show()#xf_avg1\n",
    "#xf2"
   ]
  },
  {
   "cell_type": "code",
   "execution_count": null,
   "metadata": {},
   "outputs": [],
   "source": [
    "#ds3 = xf2\n",
    "#ds3['sea_water_temperature_1']=xf1.Temperature\n",
    "#ds3['sea_water_temperature_2']=xf2.Temperature\n",
    "#ds3['sea_water_temperature_3']=xf3.Temperature\n",
    "#ds3['sea_water_temperature_4']=xf4.Temperature\n",
    "##   ....:                  'sea_water_temperature_1': (['time'], xf1),\n",
    "##   ....:                  'sea_water_temperature_2': (['time'], xf2),\n",
    "##   ....:                  'sea_water_temperature_3': (['time'], xf3),\n",
    "##  ....:                  'sea_water_temperature_4': (['time'], xf4)},\n",
    "##  ....:                 coords={'time': xf2.time[:]})\n",
    "#del ds3['Temperature']\n",
    "#ds3"
   ]
  },
  {
   "cell_type": "code",
   "execution_count": null,
   "metadata": {},
   "outputs": [],
   "source": [
    "ds3_1min = xr.Dataset({ \n",
    "                     'sea_water_temperature_1_mean': (['time'], xf_avg1),\n",
    "                    'sea_water_temperature_1_std': (['time'], xf_std1),\n",
    "                   'sea_water_temperature_2_mean': (['time'], xf_avg2),\n",
    "                    'sea_water_temperature_2_std': (['time'], xf_std2),\n",
    "                     'sea_water_temperature_3_mean': (['time'], xf_avg3),\n",
    "                     'sea_water_temperature_3_std': (['time'], xf_std3),\n",
    "                     'sea_water_temperature_4_mean': (['time'], xf_avg4),\n",
    "                    'sea_water_temperature_4_std': (['time'], xf_std4)},\n",
    "                    coords={'time': xf_avg1.time})\n",
    "ds3_1min"
   ]
  },
  {
   "cell_type": "code",
   "execution_count": null,
   "metadata": {},
   "outputs": [],
   "source": [
    "attrs = {'long_name': 'sea surface depth temperature at 0.295 m','coordinates': 'time',\n",
    "        'standard_name': 'Seawater temperature', 'installed_height':'-0.295 m' ,\n",
    "         'serial_number' : 'SBE05608196', 'model_number': '56', \n",
    "          'sensor_description': 'Seabird 56 Temperature Logger',\n",
    "         'model_name': 'SBE 56', 'product_page':'http://www.seabird.com/sbe56-temperature-logger', \n",
    "          'nominal_sampling_schedule': '1 minute averages from :54 to :06 seconds', \n",
    "         'units':'kelvin','valid_min':260.0,'valid_max':320.0}\n",
    "xf.sea_water_temperature_1_mean.attrs=attrs\n",
    "ds3_1min.sea_water_temperature_1_mean.attrs=attrs\n",
    "#xf_avg.sea_water_temperature_1_mean.attrs=attrs\n",
    "attrs['nominal_sampling_schedule']='1 minute std from :54 to :06 seconds'\n",
    "xf.sea_water_temperature_1_std.attrs=attrs\n",
    "ds3_1min.sea_water_temperature_1_std.attrs=attrs\n",
    "#xf_avg.sea_water_temperature_1_std.attrs=attrs\n",
    "\n",
    "attrs['nominal_sampling_schedule']='1 minute average from :54 to :06 seconds'\n",
    "attrs['long_name']='sea surface depth temperature at 0.985 m'\n",
    "attrs['installed_height']='-0.985 m'\n",
    "attrs['serial_number']='SBE05604705'\n",
    "xf.sea_water_temperature_2_mean.attrs=attrs\n",
    "ds3_1min.sea_water_temperature_2_mean.attrs=attrs\n",
    "#xf_avg.sea_water_temperature_2_mean.attrs=attrs\n",
    "attrs['nominal_sampling_schedule']='1 minute std from :54 to :06 seconds'\n",
    "xf.sea_water_temperature_2_std.attrs=attrs\n",
    "ds3_1min.sea_water_temperature_2_std.attrs=attrs\n",
    "#xf_avg.sea_water_temperature_2_std.attrs=attrs\n",
    "\n",
    "attrs['nominal_sampling_schedule']='1 minute average from :54 to :06 seconds'\n",
    "attrs['long_name']='sea surface depth temperature at 1.420 m'\n",
    "attrs['installed_height']='-1.420 m'\n",
    "attrs['serial_number']='SBE05605200'\n",
    "xf.sea_water_temperature_3_mean.attrs=attrs\n",
    "ds3_1min.sea_water_temperature_3_mean.attrs=attrs\n",
    "#xf_avg.sea_water_temperature_3_mean.attrs=attrs\n",
    "attrs['nominal_sampling_schedule']='1 minute std from :54 to :06 seconds'\n",
    "xf.sea_water_temperature_3_std.attrs=attrs\n",
    "ds3_1min.sea_water_temperature_3_std.attrs=attrs\n",
    "#xf_avg.sea_water_temperature_3_std.attrs=attrs\n",
    "\n",
    "attrs['nominal_sampling_schedule']='1 minute average from :54 to :06 seconds'\n",
    "attrs['long_name']='sea surface depth temperature at 1.785 m'\n",
    "attrs['installed_height']='-1.785 m'\n",
    "attrs['serial_number']='SBE05608476'\n",
    "xf.sea_water_temperature_4_mean.attrs=attrs\n",
    "ds3_1min.sea_water_temperature_4_mean.attrs=attrs\n",
    "#xf_avg.sea_water_temperature_4_mean.attrs=attrs\n",
    "attrs['nominal_sampling_schedule']='1 minute std from :54 to :06 seconds'\n",
    "xf.sea_water_temperature_4_std.attrs=attrs\n",
    "ds3_1min.sea_water_temperature_4_std.attrs=attrs\n",
    "#xf_avg.sea_water_temperature_4_std.attrs=attrs\n"
   ]
  },
  {
   "cell_type": "code",
   "execution_count": null,
   "metadata": {},
   "outputs": [],
   "source": [
    "#print(tem.time[0:15])\n",
    "#print(tem.data[0:15])\n",
    "#print(xf_avg[0])\n",
    "#print(xf_avg2[0:2])\n",
    "#print(xf_std2[0:2])"
   ]
  },
  {
   "cell_type": "code",
   "execution_count": null,
   "metadata": {},
   "outputs": [],
   "source": [
    "i1=460000\n",
    "i2=-10000\n",
    "xf.sea_water_temperature_4[i1:i2].plot.line(color='purple')\n",
    "xf.sea_water_temperature_4_mean[i1:i2].plot.line(color='red')\n",
    "#xf.sea_water_temperature_3[i1:i2].plot.line(color='green')\n",
    "#xf.sea_water_temperature_4[i1:i2].plot.line(color='blue')\n",
    "plt.show()"
   ]
  },
  {
   "cell_type": "code",
   "execution_count": null,
   "metadata": {},
   "outputs": [],
   "source": [
    "#ds3.to_netcdf(filename_all_data_netcdf)\n",
    "#ds3_1min.to_netcdf(filename_1min_data_netcdf)"
   ]
  },
  {
   "cell_type": "code",
   "execution_count": null,
   "metadata": {},
   "outputs": [],
   "source": [
    "#dtest=xr.open_dataset(filename_1min_data_netcdf)"
   ]
  },
  {
   "cell_type": "code",
   "execution_count": null,
   "metadata": {},
   "outputs": [],
   "source": [
    "#combine with 1min average file\n",
    "#filename_out_nc='F:/data/cruise_data/saildrone/baja-2018/saildrone-gen_4-baja_2018-EP-sd1002-ALL-1_min-v1.nc'\n",
    "#dnew=xr.open_dataset(filename_1min_data_netcdf)\n",
    "#dall=xr.open_dataset(filename_out_nc)"
   ]
  },
  {
   "cell_type": "code",
   "execution_count": null,
   "metadata": {},
   "outputs": [],
   "source": [
    "dataset=xr.open_dataset(filename_all_nc)\n",
    "#dataset.time[0:4]\n",
    "#ds3_1min=xr.open_dataset(filename_1min_data_netcdf)\n",
    "#ds3_1min.time[0]\n",
    "dataset.time.data[0,1]"
   ]
  },
  {
   "cell_type": "code",
   "execution_count": null,
   "metadata": {},
   "outputs": [],
   "source": [
    "#initialize data\n",
    "#go to each 1 min average and match to data in saildrone data files\n",
    "ilen=dataset.dims['obs']\n",
    "print(ilen)\n",
    "d1=np.ones((1,ilen))*-999\n",
    "d2=np.ones((1,ilen))*-999\n",
    "d3=np.ones((1,ilen))*-999\n",
    "d4=np.ones((1,ilen))*-999\n",
    "d1s=np.ones((1,ilen))*-999\n",
    "d2s=np.ones((1,ilen))*-999\n",
    "d3s=np.ones((1,ilen))*-999\n",
    "d4s=np.ones((1,ilen))*-999\n",
    "for i in range(0,ilen):\n",
    "    itemindex = np.where(ds3_1min.time==dataset.time.data[0,i])\n",
    "    #print(itemindex,ds3_1min.sea_water_temperature_1_mean.data[itemindex])\n",
    "    d1[0,i]=ds3_1min.sea_water_temperature_1_mean.data[itemindex] #+273.15\n",
    "    d2[0,i]=ds3_1min.sea_water_temperature_2_mean.data[itemindex] #+273.15\n",
    "    d3[0,i]=ds3_1min.sea_water_temperature_3_mean.data[itemindex] #+273.15\n",
    "    d4[0,i]=ds3_1min.sea_water_temperature_4_mean.data[itemindex] #+273.15\n",
    "    d1s[0,i]=ds3_1min.sea_water_temperature_1_std.data[itemindex]\n",
    "    d2s[0,i]=ds3_1min.sea_water_temperature_2_std.data[itemindex]\n",
    "    d3s[0,i]=ds3_1min.sea_water_temperature_3_std.data[itemindex]\n",
    "    d4s[0,i]=ds3_1min.sea_water_temperature_4_std.data[itemindex]"
   ]
  },
  {
   "cell_type": "code",
   "execution_count": null,
   "metadata": {},
   "outputs": [],
   "source": [
    "dataset['sea_water_temperature_logger1_mean'] = (('trajectory', 'obs'), d1)\n",
    "dataset['sea_water_temperature_logger2_mean'] = (('trajectory', 'obs'), d2)\n",
    "dataset['sea_water_temperature_logger3_mean'] = (('trajectory', 'obs'), d3)\n",
    "dataset['sea_water_temperature_logger4_mean'] = (('trajectory', 'obs'), d4)\n",
    "dataset['sea_water_temperature_logger1_stddev'] = (('trajectory', 'obs'), d1s)\n",
    "dataset['sea_water_temperature_logger2_stddev'] = (('trajectory', 'obs'), d2s)\n",
    "dataset['sea_water_temperature_logger3_stddev'] = (('trajectory', 'obs'), d3s)\n",
    "dataset['sea_water_temperature_logger4_stddev'] = (('trajectory', 'obs'), d4s)"
   ]
  },
  {
   "cell_type": "code",
   "execution_count": null,
   "metadata": {
    "scrolled": true
   },
   "outputs": [],
   "source": [
    "attrs = {'long_name': 'sea surface depth temperature at 0.295 m',\n",
    "#attrs = {'long_name': 'sea surface depth temperature at 0.295 m','coordinates': 'time',\n",
    "        'standard_name': 'Seawater temperature', 'installed_height':'-0.295 m' ,\n",
    "         'serial_number' : 'SBE05608196', 'model_number': '56', \n",
    "          'sensor_description': 'Seabird 56 Temperature Logger',\n",
    "         'model_name': 'SBE 56', 'product_page':'http://www.seabird.com/sbe56-temperature-logger', \n",
    "          'nominal_sampling_schedule': '1 minute averages from :54 to :06 seconds', \n",
    "         'units':'kelvin','valid_min': 260.0,'valid_max': 320.0}\n",
    "dataset.sea_water_temperature_logger1_mean.attrs=attrs\n",
    "attrs['nominal_sampling_schedule']='1 minute std from :54 to :06 seconds'\n",
    "dataset.sea_water_temperature_logger1_stddev.attrs=attrs\n",
    "\n",
    "attrs['nominal_sampling_schedule']='1 minute average from :54 to :06 seconds'\n",
    "attrs['long_name']='sea surface depth temperature at 0.985 m'\n",
    "attrs['installed_height']='-0.985 m'\n",
    "attrs['serial_number']='SBE05604705'\n",
    "dataset.sea_water_temperature_logger2_mean.attrs=attrs\n",
    "attrs['nominal_sampling_schedule']='1 minute std from :54 to :06 seconds'\n",
    "dataset.sea_water_temperature_logger2_stddev.attrs=attrs\n",
    "\n",
    "attrs['nominal_sampling_schedule']='1 minute average from :54 to :06 seconds'\n",
    "attrs['long_name']='sea surface depth temperature at 1.420 m'\n",
    "attrs['installed_height']='-1.420 m'\n",
    "attrs['serial_number']='SBE05605200'\n",
    "dataset.sea_water_temperature_logger3_mean.attrs=attrs\n",
    "attrs['nominal_sampling_schedule']='1 minute std from :54 to :06 seconds'\n",
    "dataset.sea_water_temperature_logger3_stddev.attrs=attrs\n",
    "\n",
    "attrs['nominal_sampling_schedule']='1 minute average from :54 to :06 seconds'\n",
    "attrs['long_name']='sea surface depth temperature at 1.785 m'\n",
    "attrs['installed_height']='-1.785 m'\n",
    "attrs['serial_number']='SBE05608476'\n",
    "dataset.sea_water_temperature_logger4_mean.attrs=attrs\n",
    "attrs['nominal_sampling_schedule']='1 minute std from :54 to :06 seconds'\n",
    "dataset.sea_water_temperature_logger4_stddev.attrs=attrs\n",
    "\n",
    "dataset.to_netcdf(filename_loggers_out_nc)"
   ]
  },
  {
   "cell_type": "code",
   "execution_count": null,
   "metadata": {},
   "outputs": [],
   "source": [
    "print(dataset.sea_water_temperature_logger1_mean[0:10])\n",
    "print(dataset.sea_water_temperature_logger2_mean[0:10])\n",
    "print(dataset.sea_water_temperature_logger3_mean[0:10])\n",
    "print(dataset.sea_water_temperature_logger4_mean[0:10])"
   ]
  },
  {
   "cell_type": "code",
   "execution_count": null,
   "metadata": {},
   "outputs": [],
   "source": [
    "#dataset.to_netcdf(filename_loggers_out_nc)"
   ]
  },
  {
   "cell_type": "code",
   "execution_count": null,
   "metadata": {},
   "outputs": [],
   "source": [
    "dataset"
   ]
  },
  {
   "cell_type": "code",
   "execution_count": null,
   "metadata": {},
   "outputs": [],
   "source": []
  },
  {
   "cell_type": "code",
   "execution_count": null,
   "metadata": {},
   "outputs": [],
   "source": []
  },
  {
   "cell_type": "code",
   "execution_count": null,
   "metadata": {},
   "outputs": [],
   "source": []
  },
  {
   "cell_type": "code",
   "execution_count": null,
   "metadata": {},
   "outputs": [],
   "source": []
  }
 ],
 "metadata": {
  "kernelspec": {
   "display_name": "Python 3",
   "language": "python",
   "name": "python3"
  },
  "language_info": {
   "codemirror_mode": {
    "name": "ipython",
    "version": 3
   },
   "file_extension": ".py",
   "mimetype": "text/x-python",
   "name": "python",
   "nbconvert_exporter": "python",
   "pygments_lexer": "ipython3",
   "version": "3.5.5"
  }
 },
 "nbformat": 4,
 "nbformat_minor": 2
}
