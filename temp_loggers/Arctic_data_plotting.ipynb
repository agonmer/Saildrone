{
 "cells": [
  {
   "cell_type": "code",
   "execution_count": null,
   "metadata": {},
   "outputs": [],
   "source": [
    "import xarray as xr\n",
    "import numpy as np\n",
    "import pandas as pd\n",
    "import matplotlib.pyplot as plt\n",
    "import seawater as sw\n",
    "import cartopy.crs as ccrs                   # import projections\n",
    "import cartopy.feature as cf                 # import features\n",
    "\n",
    "fig_dir='C:/Users/gentemann/Google Drive/f_drive/docs/projects/misst-arctic/Saildrone/'\n",
    "\n",
    "icefile='C:/Users/gentemann/Google Drive/f_drive/docs/projects/misst-arctic/Ice Present.xlsx'\n",
    "\n",
    "data_dir = 'F:/data/cruise_data/saildrone/2019_arctic/post_mission/'\n",
    "\n",
    "adir_sbe='F:/data/cruise_data/saildrone/2019_arctic/sbe56/sd-'\n",
    "\n",
    "data_dir_sbe_combined = 'F:/data/cruise_data/saildrone/2019_arctic/post_mission_combined/'"
   ]
  },
  {
   "cell_type": "code",
   "execution_count": null,
   "metadata": {},
   "outputs": [],
   "source": [
    "ds = xr.open_mfdataset(data_dir_sbe_combined+'*.nc',combine='nested',concat_dim='trajectory').load()\n",
    "ds"
   ]
  },
  {
   "cell_type": "code",
   "execution_count": null,
   "metadata": {},
   "outputs": [],
   "source": [
    "#make diruanl plot\n",
    "ds2=ds#.isel(trajectory=0)\n",
    "xlon=ds2.lon\n",
    "tdif=ds2.TEMP_CTD_RBR_MEAN-ds2.TEMP_SBE37_MEAN\n",
    "time_offset_to_lmt=(xlon/360.)*24.*60\n",
    "ds2['tlmt']=ds2.lon\n",
    "for i in range(2):\n",
    "    ds2['tlmt'][i,:]= ds2.time.data+time_offset_to_lmt[i,:]*np.timedelta64(1,'m')# dt.timedelta(seconds=1)"
   ]
  },
  {
   "cell_type": "code",
   "execution_count": null,
   "metadata": {},
   "outputs": [],
   "source": [
    "tdif=ds2.TEMP_CTD_RBR_MEAN-ds2.TEMP_SBE37_MEAN\n",
    "fig,(ax1,ax2) =plt.subplots(1,2)\n",
    "for i in range(2):\n",
    "    cs=ax1.scatter(ds2.wspd_MEAN[i,:],tdif[i,:],c=ds2.time.dt.hour,s=.5)\n",
    "ax1.set(xlabel='Wind Speed (ms$^{-1}$)', ylabel='RBR - SBE4 SST (K)')\n",
    "ax1.set_xlim(0,15)\n",
    "cbar = fig.colorbar(cs,orientation='horizontal',ax=ax1)\n",
    "cbar.set_label('GMT Time (hrs)')\n",
    "for i in range(2):\n",
    "    cs2=ax2.scatter(ds2.time.dt.hour,tdif[i,:],c=ds2.wspd_MEAN[i,:],s=.5)\n",
    "ax2.set(xlabel='GMT (hr)')\n",
    "cbar = fig.colorbar(cs2,orientation='horizontal',ax=ax2)\n",
    "cbar.set_label('Wind Speed (ms$^{-1}$)')\n",
    "fig.savefig(fig_dir+'figs/temp_buld_dw_data.png')\n",
    "\n",
    "tdif=ds2.TEMP_CTD_RBR_MEAN-ds2.TEMP_SBE37_MEAN\n",
    "fig,(ax1,ax2) =plt.subplots(1,2)\n",
    "cs=ax1.scatter(ds2.wspd_MEAN[0,:],tdif[i,:],c=ds2.time.dt.hour,s=.5)\n",
    "ax1.set(xlabel='Wind Speed (ms$^{-1}$)', ylabel='RBR - SBE4 SST (K)')\n",
    "ax1.set_xlim(0,15)\n",
    "cbar = fig.colorbar(cs,orientation='horizontal',ax=ax1)\n",
    "cbar.set_label('GMT Time (hrs)')\n",
    "cs2=ax2.scatter(ds2.time.dt.hour,tdif[0,:],c=ds2.wspd_MEAN[i,:],s=.5)\n",
    "ax2.set(xlabel='GMT (hr)')\n",
    "cbar = fig.colorbar(cs2,orientation='horizontal',ax=ax2)\n",
    "cbar.set_label('Wind Speed (ms$^{-1}$)')\n",
    "fig.savefig(fig_dir+'figs/temp_buld_dw_data36.png')\n",
    "\n",
    "tdif=ds2.TEMP_CTD_RBR_MEAN-ds2.TEMP_SBE37_MEAN\n",
    "fig,(ax1,ax2) =plt.subplots(1,2)\n",
    "cs=ax1.scatter(ds2.wspd_MEAN[1,:],tdif[i,:],c=ds2.time.dt.hour,s=.5)\n",
    "ax1.set(xlabel='Wind Speed (ms$^{-1}$)', ylabel='RBR - SBE4 SST (K)')\n",
    "ax1.set_xlim(0,15)\n",
    "cbar = fig.colorbar(cs,orientation='horizontal',ax=ax1)\n",
    "cbar.set_label('GMT Time (hrs)')\n",
    "cs2=ax2.scatter(ds2.time.dt.hour,tdif[1,:],c=ds2.wspd_MEAN[i,:],s=.5)\n",
    "ax2.set(xlabel='GMT (hr)')\n",
    "cbar = fig.colorbar(cs2,orientation='horizontal',ax=ax2)\n",
    "cbar.set_label('Wind Speed (ms$^{-1}$)')\n",
    "fig.savefig(fig_dir+'figs/temp_buld_dw_data37.png')"
   ]
  },
  {
   "cell_type": "code",
   "execution_count": null,
   "metadata": {},
   "outputs": [],
   "source": [
    "tdif=ds2.TEMP_CTD_RBR_MEAN-ds2.sea_water_temperature_01_mean\n",
    "fig,(ax1,ax2) =plt.subplots(1,2)\n",
    "for i in range(2):\n",
    "    cs=ax1.scatter(ds2.wspd_MEAN[i,:],tdif[i,:],c=ds2.time.dt.hour,s=.5)\n",
    "ax1.set(xlabel='Wind Speed (ms$^{-1}$)', ylabel='RBR - SBE4 SST (K)')\n",
    "ax1.set_xlim(0,15)\n",
    "cbar = fig.colorbar(cs,orientation='horizontal',ax=ax1)\n",
    "cbar.set_label('GMT Time (hrs)')\n",
    "for i in range(2):\n",
    "    cs2=ax2.scatter(ds2.time.dt.hour,tdif[i,:],c=ds2.wspd_MEAN[i,:],s=.5)\n",
    "ax2.set(xlabel='GMT (hr)')\n",
    "cbar = fig.colorbar(cs2,orientation='horizontal',ax=ax2)\n",
    "cbar.set_label('Wind Speed (ms$^{-1}$)')\n",
    "fig.savefig(fig_dir+'figs/temp_rbr-sbe-buld_dw_data36.png')\n"
   ]
  },
  {
   "cell_type": "code",
   "execution_count": null,
   "metadata": {},
   "outputs": [],
   "source": [
    "\n",
    "tdif=ds2.TEMP_SBE37_MEAN-ds2.sea_water_temperature_01_mean\n",
    "fig,(ax1,ax2) =plt.subplots(1,2)\n",
    "for i in range(2):\n",
    "    cs=ax1.scatter(ds2.wspd_MEAN[i,:],tdif[i,:],c=ds2.time.dt.hour,s=.5)\n",
    "ax1.set(xlabel='Wind Speed (ms$^{-1}$)', ylabel='SBE37 - SBE4 SST (K)')\n",
    "ax1.set_xlim(0,15)\n",
    "cbar = fig.colorbar(cs,orientation='horizontal',ax=ax1)\n",
    "cbar.set_label('GMT Time (hrs)')\n",
    "for i in range(2):\n",
    "    cs2=ax2.scatter(ds2.time.dt.hour,tdif[i,:],c=ds2.wspd_MEAN[i,:],s=.5)\n",
    "ax2.set(xlabel='GMT (hr)')\n",
    "cbar = fig.colorbar(cs2,orientation='horizontal',ax=ax2)\n",
    "cbar.set_label('Wind Speed (ms$^{-1}$)')\n",
    "fig.savefig(fig_dir+'figs/temp_sbe-sbe-buld_dw_data.png')"
   ]
  },
  {
   "cell_type": "code",
   "execution_count": null,
   "metadata": {},
   "outputs": [],
   "source": [
    "tdif=ds.TEMP_SBE37_MEAN-ds.sea_water_temperature_00_mean\n",
    "print(tdif.mean('time').data,tdif.std('time').data,(np.isfinite(tdif)).sum('time').data)\n",
    "tdif=ds.TEMP_CTD_RBR_MEAN-ds.sea_water_temperature_00_mean\n",
    "print(tdif.mean('time').data,tdif.std('time').data,(np.isfinite(tdif)).sum('time').data)\n",
    "tdif=ds.TEMP_O2_RBR_MEAN-ds.sea_water_temperature_00_mean\n",
    "print(tdif.mean('time').data,tdif.std('time').data,(np.isfinite(tdif)).sum('time').data)"
   ]
  },
  {
   "cell_type": "code",
   "execution_count": null,
   "metadata": {},
   "outputs": [],
   "source": [
    "tdif=ds.TEMP_SBE37_MEAN-ds.sea_water_temperature_01_mean\n",
    "print(tdif.mean('time').data,tdif.std('time').data,(np.isfinite(tdif)).sum('time').data)\n",
    "tdif=ds.TEMP_CTD_RBR_MEAN-ds.sea_water_temperature_01_mean\n",
    "print(tdif.mean('time').data,tdif.std('time').data,(np.isfinite(tdif)).sum('time').data)\n",
    "tdif=ds.TEMP_O2_RBR_MEAN-ds.sea_water_temperature_01_mean\n",
    "print(tdif.mean('time').data,tdif.std('time').data,(np.isfinite(tdif)).sum('time').data)"
   ]
  },
  {
   "cell_type": "code",
   "execution_count": null,
   "metadata": {},
   "outputs": [],
   "source": [
    "tdif=ds.TEMP_SBE37_MEAN-ds.sea_water_temperature_02_mean\n",
    "print(tdif.mean('time').data,tdif.std('time').data,(np.isfinite(tdif)).sum('time').data)\n",
    "tdif=ds.TEMP_CTD_RBR_MEAN-ds.sea_water_temperature_02_mean\n",
    "print(tdif.mean('time').data,tdif.std('time').data,(np.isfinite(tdif)).sum('time').data)\n",
    "tdif=ds.TEMP_O2_RBR_MEAN-ds.sea_water_temperature_02_mean\n",
    "print(tdif.mean('time').data,tdif.std('time').data,(np.isfinite(tdif)).sum('time').data)"
   ]
  },
  {
   "cell_type": "code",
   "execution_count": null,
   "metadata": {},
   "outputs": [],
   "source": [
    "tdif=ds.TEMP_SBE37_MEAN-ds.sea_water_temperature_04_mean\n",
    "print(tdif.mean('time').data,tdif.std('time').data,(np.isfinite(tdif)).sum('time').data)\n",
    "tdif=ds.TEMP_CTD_RBR_MEAN-ds.sea_water_temperature_04_mean\n",
    "print(tdif.mean('time').data,tdif.std('time').data,(np.isfinite(tdif)).sum('time').data)\n",
    "tdif=ds.TEMP_O2_RBR_MEAN-ds.sea_water_temperature_04_mean\n",
    "print(tdif.mean('time').data,tdif.std('time').data,(np.isfinite(tdif)).sum('time').data)"
   ]
  },
  {
   "cell_type": "code",
   "execution_count": null,
   "metadata": {},
   "outputs": [],
   "source": [
    "tdif=ds.TEMP_SBE37_MEAN-ds.sea_water_temperature_05_mean\n",
    "print(tdif.mean('time').data,tdif.std('time').data,(np.isfinite(tdif)).sum('time').data)\n",
    "tdif=ds.TEMP_CTD_RBR_MEAN-ds.sea_water_temperature_05_mean\n",
    "print(tdif.mean('time').data,tdif.std('time').data,(np.isfinite(tdif)).sum('time').data)\n",
    "tdif=ds.TEMP_O2_RBR_MEAN-ds.sea_water_temperature_05_mean\n",
    "print(tdif.mean('time').data,tdif.std('time').data,(np.isfinite(tdif)).sum('time').data)"
   ]
  },
  {
   "cell_type": "code",
   "execution_count": null,
   "metadata": {},
   "outputs": [],
   "source": [
    "tdif=ds.TEMP_SBE37_MEAN-ds.sea_water_temperature_06_mean\n",
    "print(tdif.mean('time').data,tdif.std('time').data,(np.isfinite(tdif)).sum('time').data)\n",
    "tdif=ds.TEMP_CTD_RBR_MEAN-ds.sea_water_temperature_06_mean\n",
    "print(tdif.mean('time').data,tdif.std('time').data,(np.isfinite(tdif)).sum('time').data)\n",
    "tdif=ds.TEMP_O2_RBR_MEAN-ds.sea_water_temperature_06_mean\n",
    "print(tdif.mean('time').data,tdif.std('time').data,(np.isfinite(tdif)).sum('time').data)"
   ]
  },
  {
   "cell_type": "markdown",
   "metadata": {},
   "source": [
    "# PLOT DIURANL WARMING"
   ]
  },
  {
   "cell_type": "code",
   "execution_count": null,
   "metadata": {},
   "outputs": [],
   "source": [
    "ds10=ds.isel(trajectory=0).resample(time='10min').mean()"
   ]
  },
  {
   "cell_type": "code",
   "execution_count": null,
   "metadata": {},
   "outputs": [],
   "source": [
    "plt.figure(figsize=(12,6))\n",
    "subset=ds10.sel(time=slice('2019-06-15T08','2019-06-16'))\n",
    "for i in range(2):\n",
    "    var='sea_water_temperature_'+str(i).zfill(2)+'_mean'\n",
    "    lvar=str(i).zfill(2)\n",
    "    plt.plot(subset.time,subset[var]-subset.sea_water_temperature_06_mean,label=lvar,lw=3)\n",
    "var='TEMP_SBE37_MEAN'\n",
    "lvar='SBE37'\n",
    "plt.plot(subset.time,subset[var]-subset.sea_water_temperature_06_mean,label=lvar,lw=3)\n",
    "for i in range(2,7):\n",
    "    var='sea_water_temperature_'+str(i).zfill(2)+'_mean'\n",
    "    lvar=str(i).zfill(2)\n",
    "    if i==3:\n",
    "        continue\n",
    "    plt.plot(subset.time,subset[var]-subset.sea_water_temperature_06_mean,label=lvar,lw=3)\n",
    "plt.legend()\n",
    "plt.ylabel('$\\Delta$ T (K)')\n",
    "plt.xlabel('Time (GMT)')\n",
    "plt.savefig(fig_dir+'figs/diurnal36_06-15.png')\n"
   ]
  },
  {
   "cell_type": "code",
   "execution_count": null,
   "metadata": {},
   "outputs": [],
   "source": [
    "plt.figure(figsize=(12,6))\n",
    "plt.plot(subset.time,subset.TEMP_AIR_MEAN-subset.sea_water_temperature_00_mean,label=lvar)\n"
   ]
  },
  {
   "cell_type": "code",
   "execution_count": null,
   "metadata": {},
   "outputs": [],
   "source": [
    "plt.figure(figsize=(12,6))\n",
    "subset=ds10.sel(time=slice('2019-07-08T12','2019-07-10T12'))\n",
    "for i in range(2):\n",
    "    var='sea_water_temperature_'+str(i).zfill(2)+'_mean'\n",
    "    lvar=str(i).zfill(2)\n",
    "    plt.plot(subset.time,subset[var]-subset.sea_water_temperature_06_mean,label=lvar,lw=3)\n",
    "var='TEMP_SBE37_MEAN'\n",
    "lvar='SBE37'\n",
    "plt.plot(subset.time,subset[var]-subset.sea_water_temperature_06_mean,label=lvar,lw=3)\n",
    "for i in range(2,7):\n",
    "    var='sea_water_temperature_'+str(i).zfill(2)+'_mean'\n",
    "    lvar=str(i).zfill(2)\n",
    "    if i==3:\n",
    "        continue\n",
    "    plt.plot(subset.time,subset[var]-subset.sea_water_temperature_06_mean,label=lvar,lw=3)\n",
    "plt.legend()\n",
    "plt.ylabel('$\\Delta$ T (K)')\n",
    "plt.xlabel('Time (GMT)')\n",
    "plt.savefig(fig_dir+'figs/diurnal36_07-08.png')\n"
   ]
  },
  {
   "cell_type": "code",
   "execution_count": null,
   "metadata": {},
   "outputs": [],
   "source": [
    "plt.figure(figsize=(12,6))\n",
    "plt.plot(subset.time,subset.TEMP_AIR_MEAN-subset.sea_water_temperature_00_mean,label=lvar)\n"
   ]
  },
  {
   "cell_type": "code",
   "execution_count": null,
   "metadata": {},
   "outputs": [],
   "source": [
    "plt.figure(figsize=(12,6))\n",
    "subset=ds10.sel(time=slice('2019-05-15T12','2019-09-10T12'))\n",
    "plt.plot(subset.time,subset.TEMP_AIR_MEAN-subset.sea_water_temperature_00_mean,label='$\\Delta$T$_{air-sea}$')\n",
    "plt.plot(subset.time,subset.sea_water_temperature_00_mean-subset.sea_water_temperature_06_mean,label='$\\Delta$T$_{dw}$')\n",
    "plt.legend()\n",
    "plt.ylabel('$\\Delta$ T (K)')\n",
    "plt.xlabel('Time (GMT)')\n",
    "plt.savefig(fig_dir+'figs/diurnal36_airseatemp.png')\n"
   ]
  },
  {
   "cell_type": "code",
   "execution_count": null,
   "metadata": {},
   "outputs": [],
   "source": [
    "subset=ds.sel(time=slice('2019-07-07','2019-07-11'))\n",
    "tdif=subset.sea_water_temperature_00_mean-subset.sea_water_temperature_06_mean\n",
    "tdif[0,:].plot()"
   ]
  },
  {
   "cell_type": "code",
   "execution_count": null,
   "metadata": {},
   "outputs": [],
   "source": []
  }
 ],
 "metadata": {
  "kernelspec": {
   "display_name": "Python 3",
   "language": "python",
   "name": "python3"
  },
  "language_info": {
   "codemirror_mode": {
    "name": "ipython",
    "version": 3
   },
   "file_extension": ".py",
   "mimetype": "text/x-python",
   "name": "python",
   "nbconvert_exporter": "python",
   "pygments_lexer": "ipython3",
   "version": "3.7.3"
  }
 },
 "nbformat": 4,
 "nbformat_minor": 2
}
