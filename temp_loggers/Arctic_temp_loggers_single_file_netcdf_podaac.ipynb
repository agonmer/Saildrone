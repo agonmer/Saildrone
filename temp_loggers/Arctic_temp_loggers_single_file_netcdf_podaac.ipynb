{
 "cells": [
  {
   "cell_type": "code",
   "execution_count": 4,
   "metadata": {},
   "outputs": [],
   "source": [
    "import xarray as xr\n",
    "import numpy as np\n",
    "import pandas as pd\n",
    "import matplotlib.pyplot as plt\n",
    "import seawater as sw\n",
    "import cartopy.crs as ccrs                   # import projections\n",
    "import cartopy.feature as cf                 # import features\n",
    "import uuid\n",
    "from scipy import interpolate\n",
    "\n",
    "data_dir = 'F:/data/cruise_data/saildrone/2019_arctic/post_mission/PODAAC-metadata/'\n",
    "\n",
    "adir_sbe='F:/data/cruise_data/saildrone/2019_arctic/sbe56/sd-'\n"
   ]
  },
  {
   "cell_type": "markdown",
   "metadata": {},
   "source": [
    "# Metadata\n",
    "- SBE56 info, set some attributes and depths for metadata\n",
    "- put filenames and depts into a xarray dataset\n"
   ]
  },
  {
   "cell_type": "code",
   "execution_count": 5,
   "metadata": {},
   "outputs": [],
   "source": [
    "\n",
    "vattrs = {'long_name': 'sea surface depth',\n",
    "          'standard_name': 'sea_water_temperature', 'installed_height':'-0.295 m' ,\n",
    "          'serial_number' : 'SBE05608196', 'model_number': '56', \n",
    "          'sensor_description': 'Seabird 56 Temperature Logger',\n",
    "          'model_name': 'SBE 56', 'product_page':'http://www.seabird.com/sbe56-temperature-logger', \n",
    "          'nominal_sampling_schedule': '2 sec', \n",
    "          'units':'degrees_C','valid_min':-10.0,'valid_max':50.0}\n",
    "\n",
    "tattrs = {'_FillValue':np.nan,\n",
    "          'long_name':'time',\n",
    "          'standard_name':'time',\n",
    "          'coverage_content_type':'coordinate',\n",
    "          'axis':'T'}\n",
    "\n",
    "astr_sbe36=['SBE05609153_2019-11-25.csv','SBE05609154_2019-11-25.csv',\n",
    "         'SBE05609158_2019-11-25.csv','SBE05609150_2019-11-25.csv',\n",
    "         'SBE05609151_2019-11-25.csv','SBE05609152_2019-11-25.csv',\n",
    "           'SBE05609157_2019-11-25.csv']\n",
    "\n",
    "depth36=[330,473,823,1048,1209,1436,1700]\n",
    "\n",
    "astr_sbe37=['SBE05608196_2019-11-25.csv','SBE05604705_2019-11-25.csv',\n",
    "         'SBE05605200_2019-11-25.csv','SBE05608476_2019-11-25.csv',\n",
    "         'SBE05609159_2019-11-25.csv','SBE05609155_2019-11-26.csv',\n",
    "         'SBE05609156_2019-11-26.csv']\n",
    "depth37=[324,474,805,1035,1196,1413,1725]\n",
    "\n",
    "adepth=[depth36,depth37]\n",
    "astr = [astr_sbe36,astr_sbe37]\n",
    "\n",
    "ds_info = xr.Dataset(data_vars={'fname':(['trajectory','z'],astr),\n",
    "                                'depth':(['trajectory','z'],adepth)},\n",
    "                     coords={'z':np.arange(7),'trajectory':[1036,1037]})\n",
    "\n",
    "\n"
   ]
  },
  {
   "cell_type": "markdown",
   "metadata": {},
   "source": [
    "# Combine the .cvs files into a single netcdf file with metadata\n",
    "\n",
    "- for sbe3 on 1036, it fell off, so i put nan for that one\n",
    "- for several 1037 they stopped at different dates so i filled with nan at end to make same length"
   ]
  },
  {
   "cell_type": "code",
   "execution_count": 107,
   "metadata": {},
   "outputs": [
    {
     "name": "stdout",
     "output_type": "stream",
     "text": [
      "F:/data/cruise_data/saildrone/2019_arctic/sbe56/sd-1036/SBE05609153_2019-11-25.csv\n",
      "2019-05-14T23:00:04.000000000\n",
      "0 0 2019-05-14T23:00:04.000000000 2019-10-11T18:29:59.000000000\n",
      "F:/data/cruise_data/saildrone/2019_arctic/sbe56/sd-1036/SBE05609154_2019-11-25.csv\n",
      "2019-05-14T23:00:04.000000000\n",
      "0 1 2019-05-14T23:00:04.000000000 2019-10-11T18:29:59.000000000\n",
      "F:/data/cruise_data/saildrone/2019_arctic/sbe56/sd-1036/SBE05609158_2019-11-25.csv\n",
      "2019-05-14T23:00:04.000000000\n",
      "0 2 2019-05-14T23:00:04.000000000 2019-10-11T18:29:59.000000000\n",
      "F:/data/cruise_data/saildrone/2019_arctic/sbe56/sd-1036/SBE05609150_2019-11-25.csv\n",
      "0 3 2019-05-14T23:00:04.000000000 2019-10-11T18:29:59.000000000\n",
      "F:/data/cruise_data/saildrone/2019_arctic/sbe56/sd-1036/SBE05609151_2019-11-25.csv\n",
      "2019-05-14T23:00:04.000000000\n",
      "0 4 2019-05-14T23:00:04.000000000 2019-10-11T18:29:59.000000000\n",
      "F:/data/cruise_data/saildrone/2019_arctic/sbe56/sd-1036/SBE05609152_2019-11-25.csv\n",
      "2019-05-14T23:00:04.000000000\n",
      "0 5 2019-05-14T23:00:04.000000000 2019-10-11T18:29:59.000000000\n",
      "F:/data/cruise_data/saildrone/2019_arctic/sbe56/sd-1036/SBE05609157_2019-11-25.csv\n",
      "2019-05-14T23:00:04.000000000\n",
      "0 6 2019-05-14T23:00:04.000000000 2019-10-11T18:29:59.000000000\n",
      "F:/data/cruise_data/saildrone/2019_arctic/sbe56/sd-1037/SBE05608196_2019-11-25.csv\n",
      "2019-05-14T23:00:04.000000000\n",
      "1 0 2019-05-14T23:00:04.000000000 2019-10-11T18:29:59.000000000\n",
      "F:/data/cruise_data/saildrone/2019_arctic/sbe56/sd-1037/SBE05604705_2019-11-25.csv\n",
      "2019-05-14T23:00:04.000000000\n",
      "1 1 2019-05-14T23:00:04.000000000 2019-10-09T18:07:54.000000000\n",
      "F:/data/cruise_data/saildrone/2019_arctic/sbe56/sd-1037/SBE05605200_2019-11-25.csv\n",
      "2019-05-14T23:00:04.000000000\n",
      "1 2 2019-05-14T23:00:04.000000000 2019-10-11T18:29:59.000000000\n",
      "F:/data/cruise_data/saildrone/2019_arctic/sbe56/sd-1037/SBE05608476_2019-11-25.csv\n",
      "2019-05-14T23:00:04.000000000\n",
      "1 3 2019-05-14T23:00:04.000000000 2019-10-11T18:29:59.000000000\n",
      "F:/data/cruise_data/saildrone/2019_arctic/sbe56/sd-1037/SBE05609159_2019-11-25.csv\n",
      "2019-05-14T23:00:04.000000000\n",
      "1 4 2019-05-14T23:00:04.000000000 2019-10-11T18:29:59.000000000\n",
      "F:/data/cruise_data/saildrone/2019_arctic/sbe56/sd-1037/SBE05609155_2019-11-26.csv\n",
      "2019-05-14T23:00:04.000000000\n",
      "1 5 2019-05-14T23:00:04.000000000 2019-10-11T18:29:59.000000000\n",
      "F:/data/cruise_data/saildrone/2019_arctic/sbe56/sd-1037/SBE05609156_2019-11-26.csv\n",
      "2019-05-14T23:00:04.000000000\n",
      "1 6 2019-05-14T23:00:04.000000000 2019-10-11T18:29:59.000000000\n"
     ]
    }
   ],
   "source": [
    "del ds_sbe\n",
    "iobs_start=0\n",
    "for iusv in range(0,2): #2\n",
    "    if iusv==0:\n",
    "        fname='saildrone-gen_5-arctic_misst_2019-sd1036-20190514T230000-20191011T183000-1_minutes-v1.1575336154680.nc'\n",
    "        fname_out='saildrone-gen_5-arctic_misst_2019-SBE56-sd1036-20190514T230000-20191011T183000-v1.nc'\n",
    "    if iusv==1:\n",
    "        fname='saildrone-gen_5-arctic_misst_2019-sd1037-20190514T230000-20191011T183000-1_minutes-v1.1575487464625.nc'\n",
    "        fname_out='saildrone-gen_5-arctic_misst_2019-SBE56-sd1037-20190514T230000-20191011T183000-v1.nc'\n",
    "    ds = xr.open_dataset(data_dir+fname)\n",
    "    ds.close()\n",
    "    gattrs=ds.attrs   \n",
    "    for iz in range(7): #7\n",
    "        fstr = str(ds_info.fname[iusv,iz].data)\n",
    "        avehicle=str(ds_info.trajectory[iusv].data)\n",
    "        filename=adir_sbe+avehicle+'/'+fstr\n",
    "        print(filename)\n",
    "        if (iusv==0) and (iz==3):  #the third sbe56 fell off & file doesn't exist\n",
    "            vname2='sea_water_temperature_'+str(iz).zfill(2)\n",
    "            xf=xf.rename({vname:vname2})\n",
    "            xf[vname2]=xf[vname2]*np.nan\n",
    "            vname='sea_water_temperature_'+str(iz).zfill(2)\n",
    "            vattrs['installed_height']=str(-1*ds_info.depth[iusv,iz].data/1000.)+' m'\n",
    "            vattrs['serial_number']=fstr[:11]\n",
    "            xf.attrs=vattrs\n",
    "        else:\n",
    "            df = pd.read_csv(filename,header=11) #, sheet_name='data')\n",
    "            df['time']=pd.to_datetime(df['Date'] + ' ' + df['Time']) \n",
    "            del df['Date']\n",
    "            del df['Time']\n",
    "            df.index=df['time']\n",
    "            xf=df.to_xarray()\n",
    "            if iusv==0:\n",
    "                xf['time']=xf.time+np.timedelta64(8,'h')\n",
    "            xf = xf.sel(time=slice('2019-05-14T23:00:00','2019-10-11T18:30:00'))\n",
    "            print(xf.time[0].data)\n",
    "            vname='sea_water_temperature_'+str(iz).zfill(2)\n",
    "            xf=xf.rename({'Temperature':vname})\n",
    "            vattrs['installed_height']=str(-1*ds_info.depth[iusv,iz].data/1000.)+' m'\n",
    "            vattrs['serial_number']=fstr[:11]\n",
    "            xf.attrs=vattrs\n",
    "        print(iusv,iz,xf.time.min().data,xf.time.max().data)\n",
    "        if iz==0:\n",
    "            nobs_start=xf.time.size\n",
    "        iobs=np.arange(xf.time.size)\n",
    "        nobs=xf.time.size\n",
    "        if nobs_start>nobs:\n",
    "            xf_save = xf_save.rename({vname_save:vname})\n",
    "            xf = xr.concat([xf.sel(time=slice(xf.time[0],xf.time[-2])),xf_save.sel(time=slice(xf.time[-1],xf_save.time[-1]))*np.nan],dim='time')\n",
    "        if iz==0:\n",
    "            td=np.ones((1,xf.time.size))*np.nan\n",
    "            td[0,:]=xf[vname]\n",
    "            ds_sbe=xr.Dataset(data_vars={vname:\n",
    "                                         (['trajectory','obs'],td)},\n",
    "                  coords={'trajectory':[avehicle]})\n",
    "            ds_sbe[vname].attrs=vattrs\n",
    "        else:\n",
    "            td=np.ones((1,xf.time.size))*np.nan\n",
    "            ds_sbe2=xr.Dataset(data_vars={vname:\n",
    "                                         (['trajectory','obs'],td)},\n",
    "                  coords={'trajectory':[avehicle]})\n",
    "            ds_sbe2[vname][0,:]=xf[vname].data\n",
    "            ds_sbe2[vname].attrs=vattrs\n",
    "            ds_sbe = xr.merge([ds_sbe,ds_sbe2])\n",
    "        xf_save=xf\n",
    "        vname_save=vname\n",
    "    #at saildrone there was an error setting the cloud \n",
    "    #on the first set of SBE to local rather than GMT time\n",
    "    td=np.zeros((1,xf.time.size), dtype='datetime64[s]')\n",
    "    td[0,:]=xf.time.data\n",
    "    tem=xr.Dataset(data_vars={'time':\n",
    "                                 (['trajectory','obs'],td)},\n",
    "          coords={'trajectory':[avehicle]})\n",
    "    ds_sbe = xr.merge([ds_sbe,tem])\n",
    "#    if iusv==0:\n",
    "#        ds_sbe['time']=ds_sbe.time+np.timedelta64(8,'h')\n",
    "    ds_sbe=ds_sbe.assign_coords(time=ds_sbe.time)\n",
    "    gattrs['time_coverage_resolution']='PT2S'\n",
    "    gattrs['uuid']=str(uuid.uuid4())\n",
    "    gattrs['keywords']='Temperature, Saildrone, Arctic, Berring Sea, Chukchi Sea, NASA, NOAA'\n",
    "    gattrs['history']='created post-cruise by Gentemann 3/2/2020'  \n",
    "    ds_sbe.attrs=gattrs\n",
    "    fout=data_dir+fname_out\n",
    "    ds_sbe['trajectory']=ds.trajectory\n",
    "    \n",
    "#add lat and lon\n",
    "    flat = interpolate.interp1d(ds.time[0,:].astype('float64'),ds.latitude[0,:])\n",
    "    newlat = flat(ds_sbe.time[0,:].astype('float64'))\n",
    "    flon = interpolate.interp1d(ds.time[0,:].astype('float64'),ds.longitude[0,:])\n",
    "    newlon = flon(ds_sbe.time[0,:].astype('float64'))\n",
    "    td=np.zeros((1,xf.time.size), dtype='double')\n",
    "    td[0,:]=newlat\n",
    "    tem=xr.Dataset(data_vars={'latitude':\n",
    "                                 (['trajectory','obs'],td)},\n",
    "          coords={'trajectory':[avehicle]})\n",
    "    ds_sbe = xr.merge([ds_sbe,tem])\n",
    "    ds_sbe=ds_sbe.assign_coords(latitude=ds_sbe.latitude)\n",
    "    td=np.zeros((1,xf.time.size), dtype='double')\n",
    "    td[0,:]=newlon\n",
    "    tem=xr.Dataset(data_vars={'longitude':\n",
    "                                 (['trajectory','obs'],td)},\n",
    "          coords={'trajectory':[avehicle]})\n",
    "    ds_sbe = xr.merge([ds_sbe,tem])\n",
    "    ds_sbe=ds_sbe.assign_coords(longitude=ds_sbe.longitude)\n",
    "\n",
    "#output data\n",
    "    ds_sbe.to_netcdf(fout)\n",
    "#    del ds_sbe\n"
   ]
  },
  {
   "cell_type": "code",
   "execution_count": null,
   "metadata": {},
   "outputs": [],
   "source": [
    "print('sb_xfe time',xf.time.min().data)\n",
    "print('sbe time',ds_sbe.time.min().data)\n",
    "print('usv time',ds.time.min().data)\n",
    "print('max')\n",
    "print('sbe time',ds_sbe.time.max().data)\n",
    "print('usv time',ds.time.max().data)"
   ]
  },
  {
   "cell_type": "code",
   "execution_count": 108,
   "metadata": {},
   "outputs": [
    {
     "data": {
      "text/html": [
       "<pre>&lt;xarray.Dataset&gt;\n",
       "Dimensions:                   (obs: 2588760, trajectory: 1)\n",
       "Coordinates:\n",
       "  * trajectory                (trajectory) object &#x27;1037&#x27;\n",
       "    time                      (trajectory, obs) datetime64[ns] 2019-05-14T23:00:04 ... 2019-10-11T18:29:59\n",
       "    latitude                  (trajectory, obs) float64 53.85 53.85 ... 53.84\n",
       "    longitude                 (trajectory, obs) float64 -166.6 -166.6 ... -166.6\n",
       "Dimensions without coordinates: obs\n",
       "Data variables:\n",
       "    sea_water_temperature_00  (trajectory, obs) float64 7.114 7.114 ... 9.013\n",
       "    sea_water_temperature_01  (trajectory, obs) float64 7.11 7.112 ... nan nan\n",
       "    sea_water_temperature_02  (trajectory, obs) float64 7.102 7.106 ... 9.04\n",
       "    sea_water_temperature_03  (trajectory, obs) float64 7.098 7.094 ... 9.054\n",
       "    sea_water_temperature_04  (trajectory, obs) float64 6.736 6.737 ... 9.88\n",
       "    sea_water_temperature_05  (trajectory, obs) float64 6.736 6.742 ... 10.24\n",
       "    sea_water_temperature_06  (trajectory, obs) float64 6.743 6.744 ... 9.904</pre>"
      ],
      "text/plain": [
       "<xarray.Dataset>\n",
       "Dimensions:                   (obs: 2588760, trajectory: 1)\n",
       "Coordinates:\n",
       "  * trajectory                (trajectory) object '1037'\n",
       "    time                      (trajectory, obs) datetime64[ns] 2019-05-14T23:00:04 ... 2019-10-11T18:29:59\n",
       "    latitude                  (trajectory, obs) float64 53.85 53.85 ... 53.84\n",
       "    longitude                 (trajectory, obs) float64 -166.6 -166.6 ... -166.6\n",
       "Dimensions without coordinates: obs\n",
       "Data variables:\n",
       "    sea_water_temperature_00  (trajectory, obs) float64 7.114 7.114 ... 9.013\n",
       "    sea_water_temperature_01  (trajectory, obs) float64 7.11 7.112 ... nan nan\n",
       "    sea_water_temperature_02  (trajectory, obs) float64 7.102 7.106 ... 9.04\n",
       "    sea_water_temperature_03  (trajectory, obs) float64 7.098 7.094 ... 9.054\n",
       "    sea_water_temperature_04  (trajectory, obs) float64 6.736 6.737 ... 9.88\n",
       "    sea_water_temperature_05  (trajectory, obs) float64 6.736 6.742 ... 10.24\n",
       "    sea_water_temperature_06  (trajectory, obs) float64 6.743 6.744 ... 9.904"
      ]
     },
     "execution_count": 108,
     "metadata": {},
     "output_type": "execute_result"
    }
   ],
   "source": [
    "ds_sbe"
   ]
  },
  {
   "cell_type": "code",
   "execution_count": 116,
   "metadata": {},
   "outputs": [
    {
     "data": {
      "text/plain": [
       "[<matplotlib.lines.Line2D at 0x22debda5d48>]"
      ]
     },
     "execution_count": 116,
     "metadata": {},
     "output_type": "execute_result"
    },
    {
     "data": {
      "image/png": "[encoded data removed]",
      "text/plain": [
       "<Figure size 432x288 with 1 Axes>"
      ]
     },
     "metadata": {
      "needs_background": "light"
     },
     "output_type": "display_data"
    }
   ],
   "source": [
    "rdif=(ds_sbe.sea_water_temperature_00-ds_sbe.sea_water_temperature_06)\n",
    "rdif.plot(label='00')\n",
    "#ds_sbe.sea_water_temperature_01.plot()"
   ]
  },
  {
   "cell_type": "code",
   "execution_count": null,
   "metadata": {},
   "outputs": [],
   "source": []
  }
 ],
 "metadata": {
  "kernelspec": {
   "display_name": "Python 3",
   "language": "python",
   "name": "python3"
  },
  "language_info": {
   "codemirror_mode": {
    "name": "ipython",
    "version": 3
   },
   "file_extension": ".py",
   "mimetype": "text/x-python",
   "name": "python",
   "nbconvert_exporter": "python",
   "pygments_lexer": "ipython3",
   "version": "3.7.6"
  }
 },
 "nbformat": 4,
 "nbformat_minor": 2
}
