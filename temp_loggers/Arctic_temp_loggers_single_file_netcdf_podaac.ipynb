{
 "cells": [
  {
   "cell_type": "code",
   "execution_count": 1,
   "metadata": {},
   "outputs": [],
   "source": [
    "import xarray as xr\n",
    "import numpy as np\n",
    "import pandas as pd\n",
    "import matplotlib.pyplot as plt\n",
    "import seawater as sw\n",
    "import cartopy.crs as ccrs                   # import projections\n",
    "import cartopy.feature as cf                 # import features\n",
    "import uuid\n",
    "\n",
    "data_dir = 'F:/data/cruise_data/saildrone/2019_arctic/post_mission/PODAAC-metadata/'\n",
    "\n",
    "adir_sbe='F:/data/cruise_data/saildrone/2019_arctic/sbe56/sd-'\n"
   ]
  },
  {
   "cell_type": "markdown",
   "metadata": {},
   "source": [
    "# Metadata\n",
    "- SBE56 info, set some attributes and depths for metadata\n",
    "- put filenames and depts into a xarray dataset\n"
   ]
  },
  {
   "cell_type": "code",
   "execution_count": 2,
   "metadata": {},
   "outputs": [],
   "source": [
    "\n",
    "vattrs = {'long_name': 'sea surface depth',\n",
    "          'standard_name': 'sea_water_temperature', 'installed_height':'-0.295 m' ,\n",
    "          'serial_number' : 'SBE05608196', 'model_number': '56', \n",
    "          'sensor_description': 'Seabird 56 Temperature Logger',\n",
    "          'model_name': 'SBE 56', 'product_page':'http://www.seabird.com/sbe56-temperature-logger', \n",
    "          'nominal_sampling_schedule': '2 sec', \n",
    "          'units':'degrees_C','valid_min':-10.0,'valid_max':50.0}\n",
    "\n",
    "tattrs = {'_FillValue':np.nan,\n",
    "          'long_name':'time',\n",
    "          'standard_name':'time',\n",
    "          'coverage_content_type':'coordinate',\n",
    "          'axis':'T'}\n",
    "\n",
    "astr_sbe36=['SBE05609153_2019-11-25.csv','SBE05609154_2019-11-25.csv',\n",
    "         'SBE05609158_2019-11-25.csv','SBE05609150_2019-11-25.csv',\n",
    "         'SBE05609151_2019-11-25.csv','SBE05609152_2019-11-25.csv',\n",
    "           'SBE05609157_2019-11-25.csv']\n",
    "\n",
    "depth36=[330,473,823,1048,1209,1436,1700]\n",
    "\n",
    "astr_sbe37=['SBE05608196_2019-11-25.csv','SBE05604705_2019-11-25.csv',\n",
    "         'SBE05605200_2019-11-25.csv','SBE05608476_2019-11-25.csv',\n",
    "         'SBE05609159_2019-11-25.csv','SBE05609155_2019-11-26.csv',\n",
    "         'SBE05609156_2019-11-26.csv']\n",
    "depth37=[324,474,805,1035,1196,1413,1725]\n",
    "\n",
    "adepth=[depth36,depth37]\n",
    "astr = [astr_sbe36,astr_sbe37]\n",
    "\n",
    "ds_info = xr.Dataset(data_vars={'fname':(['trajectory','z'],astr),\n",
    "                                'depth':(['trajectory','z'],adepth)},\n",
    "                     coords={'z':np.arange(7),'trajectory':[1036,1037]})\n",
    "\n",
    "\n"
   ]
  },
  {
   "cell_type": "markdown",
   "metadata": {},
   "source": [
    "# Combine the .cvs files into a single netcdf file with metadata\n",
    "\n",
    "- for sbe3 on 1036, it fell off, so i put nan for that one\n",
    "- for several 1037 they stopped at different dates so i filled with nan at end to make same length"
   ]
  },
  {
   "cell_type": "code",
   "execution_count": 49,
   "metadata": {},
   "outputs": [
    {
     "name": "stdout",
     "output_type": "stream",
     "text": [
      "F:/data/cruise_data/saildrone/2019_arctic/sbe56/sd-1036/SBE05609153_2019-11-25.csv\n",
      "2019-05-14T23:00:04.000000000\n",
      "0 0 2019-05-14T23:00:04.000000000 2019-10-11T18:30:59.000000000\n",
      "F:/data/cruise_data/saildrone/2019_arctic/sbe56/sd-1036/SBE05609154_2019-11-25.csv\n",
      "2019-05-14T23:00:04.000000000\n",
      "0 1 2019-05-14T23:00:04.000000000 2019-10-11T18:30:59.000000000\n"
     ]
    }
   ],
   "source": [
    "del ds_sbe\n",
    "iobs_start=0\n",
    "for iusv in range(0,1): #2\n",
    "    if iusv==0:\n",
    "        fname='saildrone-gen_5-arctic_misst_2019-sd1036-20190514T230000-20191011T183000-1_minutes-v1.1575336154680.nc'\n",
    "        fname_out='saildrone-gen_5-arctic_misst_2019-SBE56-sd1036-20190514T230000-20191011T183000-v1.nc'\n",
    "    if iusv==1:\n",
    "        fname='saildrone-gen_5-arctic_misst_2019-sd1037-20190514T230000-20191011T183000-1_minutes-v1.1575487464625.nc'\n",
    "        fname_out='saildrone-gen_5-arctic_misst_2019-SBE56-sd1037-20190514T230000-20191011T183000-v1.nc'\n",
    "    ds = xr.open_dataset(data_dir+fname)\n",
    "    ds.close()\n",
    "    gattrs=ds.attrs   \n",
    "    for iz in range(2): #7\n",
    "        fstr = str(ds_info.fname[iusv,iz].data)\n",
    "        avehicle=str(ds_info.trajectory[iusv].data)\n",
    "        filename=adir_sbe+avehicle+'/'+fstr\n",
    "        print(filename)\n",
    "        if (iusv==0) and (iz==3):  #the third sbe56 fell off & file doesn't exist\n",
    "            vname2='sea_water_temperature_'+str(iz).zfill(2)\n",
    "            xf=xf.rename({vname:vname2})\n",
    "            xf[vname2]=xf[vname2]*np.nan\n",
    "            vname='sea_water_temperature_'+str(iz).zfill(2)\n",
    "            vattrs['installed_height']=str(-1*ds_info.depth[iusv,iz].data/1000.)+' m'\n",
    "            vattrs['serial_number']=fstr[:11]\n",
    "            xf.attrs=vattrs\n",
    "        else:\n",
    "            df = pd.read_csv(filename,header=11) #, sheet_name='data')\n",
    "            df['time']=pd.to_datetime(df['Date'] + ' ' + df['Time']) \n",
    "            del df['Date']\n",
    "            del df['Time']\n",
    "            df.index=df['time']\n",
    "            xf=df.to_xarray()\n",
    "            xf = xf.sel(time=slice('2019-05-14T23:00','2019-10-11T18:30'))\n",
    "            print(xf.time[0].data)\n",
    "            vname='sea_water_temperature_'+str(iz).zfill(2)\n",
    "            xf=xf.rename({'Temperature':vname})\n",
    "            vattrs['installed_height']=str(-1*ds_info.depth[iusv,iz].data/1000.)+' m'\n",
    "            vattrs['serial_number']=fstr[:11]\n",
    "            xf.attrs=vattrs\n",
    "        print(iusv,iz,xf.time.min().data,xf.time.max().data)\n",
    "        if iz==0:\n",
    "            nobs_start=xf.time.size\n",
    "        iobs=np.arange(xf.time.size)\n",
    "        nobs=xf.time.size\n",
    "        if nobs_start>nobs:\n",
    "            xf_save = xf_save.rename({vname_save:vname})\n",
    "            xf = xr.concat([xf.sel(time=slice(xf.time[0],xf.time[-2])),xf_save.sel(time=slice(xf.time[-1],xf_save.time[-1]))*np.nan],dim='time')\n",
    "        if iz==0:\n",
    "            td=np.ones((1,xf.time.size))*np.nan\n",
    "            td[0,:]=xf[vname]\n",
    "            ds_sbe=xr.Dataset(data_vars={vname:\n",
    "                                         (['trajectory','obs'],td)},\n",
    "                  coords={'trajectory':[avehicle]})\n",
    "            ds_sbe[vname].attrs=vattrs\n",
    "        else:\n",
    "            td=np.ones((1,xf.time.size))*np.nan\n",
    "            td[0,:]=xf[vname]\n",
    "            ds_sbe2=xr.Dataset(data_vars={vname:\n",
    "                                         (['trajectory','obs'],td)},\n",
    "                  coords={'trajectory':[avehicle]})\n",
    "            ds_sbe2[vname].attrs=vattrs\n",
    "            ds_sbe = xr.merge([ds_sbe,ds_sbe2])\n",
    "        xf_save=xf\n",
    "        vname_save=vname\n",
    "    #at saildrone there was an error setting the cloud \n",
    "    #on the first set of SBE to local rather than GMT time\n",
    "    td=np.zeros((1,xf.time.size), dtype='datetime64[D]')\n",
    "    td[0,:]=xf.time.data\n",
    "    tem=xr.Dataset(data_vars={'time':\n",
    "                                 (['trajectory','obs'],td)},\n",
    "          coords={'trajectory':[avehicle]})\n",
    "    ds_sbe = xr.merge([ds_sbe,tem])\n",
    "    if iusv==0:\n",
    "        ds_sbe['time']=ds_sbe.time+np.timedelta64(8,'h')\n",
    "    ds_sbe=ds_sbe.assign_coords(time=ds_sbe.time)\n",
    "    gattrs['time_coverage_resolution']='PT2S'\n",
    "    gattrs['uuid']=str(uuid.uuid4())\n",
    "    gattrs['keywords']='Temperature, Saildrone, Arctic, Berring Sea, Chukchi Sea, NASA, NOAA'\n",
    "    gattrs['history']='created post-cruise by Gentemann 3/2/2020'  \n",
    "    ds_sbe.attrs=gattrs\n",
    "    fout=data_dir+fname_out\n",
    "    ds_sbe['trajectory']=ds.trajectory\n",
    "    ds_sbe.to_netcdf(fout)\n",
    "#    del ds_sbe\n"
   ]
  },
  {
   "cell_type": "code",
   "execution_count": 35,
   "metadata": {},
   "outputs": [],
   "source": [
    "from scipy import interpolate\n",
    "flat = interpolate.interp1d(ds.time[0,:].astype('float64'),ds.latitude[0,:])\n"
   ]
  },
  {
   "cell_type": "code",
   "execution_count": 36,
   "metadata": {},
   "outputs": [
    {
     "ename": "ValueError",
     "evalue": "A value in x_new is below the interpolation range.",
     "output_type": "error",
     "traceback": [
      "\u001b[1;31m---------------------------------------------------------------------------\u001b[0m",
      "\u001b[1;31mValueError\u001b[0m                                Traceback (most recent call last)",
      "\u001b[1;32m<ipython-input-36-0a60c757a180>\u001b[0m in \u001b[0;36m<module>\u001b[1;34m\u001b[0m\n\u001b[1;32m----> 1\u001b[1;33m \u001b[0mnewlat\u001b[0m \u001b[1;33m=\u001b[0m \u001b[0mflat\u001b[0m\u001b[1;33m(\u001b[0m\u001b[0mds_sbe\u001b[0m\u001b[1;33m.\u001b[0m\u001b[0mtime\u001b[0m\u001b[1;33m[\u001b[0m\u001b[1;36m0\u001b[0m\u001b[1;33m,\u001b[0m\u001b[1;33m:\u001b[0m\u001b[1;33m]\u001b[0m\u001b[1;33m.\u001b[0m\u001b[0mastype\u001b[0m\u001b[1;33m(\u001b[0m\u001b[1;34m'float64'\u001b[0m\u001b[1;33m)\u001b[0m\u001b[1;33m)\u001b[0m\u001b[1;33m\u001b[0m\u001b[1;33m\u001b[0m\u001b[0m\n\u001b[0m",
      "\u001b[1;32m~\\Miniconda3\\envs\\satenv\\lib\\site-packages\\scipy\\interpolate\\polyint.py\u001b[0m in \u001b[0;36m__call__\u001b[1;34m(self, x)\u001b[0m\n\u001b[0;32m     77\u001b[0m         \"\"\"\n\u001b[0;32m     78\u001b[0m         \u001b[0mx\u001b[0m\u001b[1;33m,\u001b[0m \u001b[0mx_shape\u001b[0m \u001b[1;33m=\u001b[0m \u001b[0mself\u001b[0m\u001b[1;33m.\u001b[0m\u001b[0m_prepare_x\u001b[0m\u001b[1;33m(\u001b[0m\u001b[0mx\u001b[0m\u001b[1;33m)\u001b[0m\u001b[1;33m\u001b[0m\u001b[1;33m\u001b[0m\u001b[0m\n\u001b[1;32m---> 79\u001b[1;33m         \u001b[0my\u001b[0m \u001b[1;33m=\u001b[0m \u001b[0mself\u001b[0m\u001b[1;33m.\u001b[0m\u001b[0m_evaluate\u001b[0m\u001b[1;33m(\u001b[0m\u001b[0mx\u001b[0m\u001b[1;33m)\u001b[0m\u001b[1;33m\u001b[0m\u001b[1;33m\u001b[0m\u001b[0m\n\u001b[0m\u001b[0;32m     80\u001b[0m         \u001b[1;32mreturn\u001b[0m \u001b[0mself\u001b[0m\u001b[1;33m.\u001b[0m\u001b[0m_finish_y\u001b[0m\u001b[1;33m(\u001b[0m\u001b[0my\u001b[0m\u001b[1;33m,\u001b[0m \u001b[0mx_shape\u001b[0m\u001b[1;33m)\u001b[0m\u001b[1;33m\u001b[0m\u001b[1;33m\u001b[0m\u001b[0m\n\u001b[0;32m     81\u001b[0m \u001b[1;33m\u001b[0m\u001b[0m\n",
      "\u001b[1;32m~\\Miniconda3\\envs\\satenv\\lib\\site-packages\\scipy\\interpolate\\interpolate.py\u001b[0m in \u001b[0;36m_evaluate\u001b[1;34m(self, x_new)\u001b[0m\n\u001b[0;32m    661\u001b[0m         \u001b[0my_new\u001b[0m \u001b[1;33m=\u001b[0m \u001b[0mself\u001b[0m\u001b[1;33m.\u001b[0m\u001b[0m_call\u001b[0m\u001b[1;33m(\u001b[0m\u001b[0mself\u001b[0m\u001b[1;33m,\u001b[0m \u001b[0mx_new\u001b[0m\u001b[1;33m)\u001b[0m\u001b[1;33m\u001b[0m\u001b[1;33m\u001b[0m\u001b[0m\n\u001b[0;32m    662\u001b[0m         \u001b[1;32mif\u001b[0m \u001b[1;32mnot\u001b[0m \u001b[0mself\u001b[0m\u001b[1;33m.\u001b[0m\u001b[0m_extrapolate\u001b[0m\u001b[1;33m:\u001b[0m\u001b[1;33m\u001b[0m\u001b[1;33m\u001b[0m\u001b[0m\n\u001b[1;32m--> 663\u001b[1;33m             \u001b[0mbelow_bounds\u001b[0m\u001b[1;33m,\u001b[0m \u001b[0mabove_bounds\u001b[0m \u001b[1;33m=\u001b[0m \u001b[0mself\u001b[0m\u001b[1;33m.\u001b[0m\u001b[0m_check_bounds\u001b[0m\u001b[1;33m(\u001b[0m\u001b[0mx_new\u001b[0m\u001b[1;33m)\u001b[0m\u001b[1;33m\u001b[0m\u001b[1;33m\u001b[0m\u001b[0m\n\u001b[0m\u001b[0;32m    664\u001b[0m             \u001b[1;32mif\u001b[0m \u001b[0mlen\u001b[0m\u001b[1;33m(\u001b[0m\u001b[0my_new\u001b[0m\u001b[1;33m)\u001b[0m \u001b[1;33m>\u001b[0m \u001b[1;36m0\u001b[0m\u001b[1;33m:\u001b[0m\u001b[1;33m\u001b[0m\u001b[1;33m\u001b[0m\u001b[0m\n\u001b[0;32m    665\u001b[0m                 \u001b[1;31m# Note fill_value must be broadcast up to the proper size\u001b[0m\u001b[1;33m\u001b[0m\u001b[1;33m\u001b[0m\u001b[1;33m\u001b[0m\u001b[0m\n",
      "\u001b[1;32m~\\Miniconda3\\envs\\satenv\\lib\\site-packages\\scipy\\interpolate\\interpolate.py\u001b[0m in \u001b[0;36m_check_bounds\u001b[1;34m(self, x_new)\u001b[0m\n\u001b[0;32m    690\u001b[0m         \u001b[1;31m# !! Could provide more information about which values are out of bounds\u001b[0m\u001b[1;33m\u001b[0m\u001b[1;33m\u001b[0m\u001b[1;33m\u001b[0m\u001b[0m\n\u001b[0;32m    691\u001b[0m         \u001b[1;32mif\u001b[0m \u001b[0mself\u001b[0m\u001b[1;33m.\u001b[0m\u001b[0mbounds_error\u001b[0m \u001b[1;32mand\u001b[0m \u001b[0mbelow_bounds\u001b[0m\u001b[1;33m.\u001b[0m\u001b[0many\u001b[0m\u001b[1;33m(\u001b[0m\u001b[1;33m)\u001b[0m\u001b[1;33m:\u001b[0m\u001b[1;33m\u001b[0m\u001b[1;33m\u001b[0m\u001b[0m\n\u001b[1;32m--> 692\u001b[1;33m             raise ValueError(\"A value in x_new is below the interpolation \"\n\u001b[0m\u001b[0;32m    693\u001b[0m                              \"range.\")\n\u001b[0;32m    694\u001b[0m         \u001b[1;32mif\u001b[0m \u001b[0mself\u001b[0m\u001b[1;33m.\u001b[0m\u001b[0mbounds_error\u001b[0m \u001b[1;32mand\u001b[0m \u001b[0mabove_bounds\u001b[0m\u001b[1;33m.\u001b[0m\u001b[0many\u001b[0m\u001b[1;33m(\u001b[0m\u001b[1;33m)\u001b[0m\u001b[1;33m:\u001b[0m\u001b[1;33m\u001b[0m\u001b[1;33m\u001b[0m\u001b[0m\n",
      "\u001b[1;31mValueError\u001b[0m: A value in x_new is below the interpolation range."
     ]
    }
   ],
   "source": [
    "newlat = flat(ds_sbe.time[0,:].astype('float64'))"
   ]
  },
  {
   "cell_type": "code",
   "execution_count": 47,
   "metadata": {},
   "outputs": [
    {
     "name": "stdout",
     "output_type": "stream",
     "text": [
      "2019-05-14T08:00:00.000000000 2019-05-14T23:00:00.000000000\n"
     ]
    }
   ],
   "source": [
    "print(ds_sbe.time[0,0].data,ds.time[0,0].data)"
   ]
  },
  {
   "cell_type": "code",
   "execution_count": 46,
   "metadata": {},
   "outputs": [
    {
     "name": "stdout",
     "output_type": "stream",
     "text": [
      "2019-05-14T23:00:04.000000000\n"
     ]
    }
   ],
   "source": [
    "print(xf.time[0].data)"
   ]
  },
  {
   "cell_type": "code",
   "execution_count": 50,
   "metadata": {},
   "outputs": [
    {
     "data": {
      "text/plain": [
       "<xarray.Dataset>\n",
       "Dimensions:                   (obs: 2588772, trajectory: 1)\n",
       "Coordinates:\n",
       "  * trajectory                (trajectory) object '1036'\n",
       "    time                      (trajectory, obs) datetime64[ns] 2019-05-14T08:00:00 ... 2019-10-11T08:00:00\n",
       "Dimensions without coordinates: obs\n",
       "Data variables:\n",
       "    sea_water_temperature_00  (trajectory, obs) float64 6.831 6.832 ... 10.74\n",
       "    sea_water_temperature_01  (trajectory, obs) float64 6.84 6.836 ... 11.14\n",
       "Attributes:\n",
       "    title:                     Arctic NASA MISST 2019 Mission\n",
       "    summary:                   Saildrone surface observational data for the N...\n",
       "    ncei_template_version:     NCEI_NetCDF_Trajectory_Template_v2.0\n",
       "    Conventions:               CF-1.6, ACDD-1.3\n",
       "    netcdf_version:            4.6.3\n",
       "    featureType:               trajectory\n",
       "    cdm_data_type:             Trajectory\n",
       "    standard_name_vocabulary:  CF Standard Name Table v58\n",
       "    description:               Saildrone NetCDF Format\n",
       "    creator_name:              Saildrone\n",
       "    platform:                  Saildrone\n",
       "    institution:               Saildrone\n",
       "    creator_email:             support@saildrone.com\n",
       "    creator_url:               https://saildrone.com/\n",
       "    date_created:              2019-12-03T01:15:41.913484Z\n",
       "    time_coverage_start:       2019-05-14T23:00:00.000Z\n",
       "    time_coverage_end:         2019-10-11T18:30:00.000Z\n",
       "    time_coverage_resolution:  PT2S\n",
       "    time_coverage_duration:    P149DT19H30M0S\n",
       "    area:                      Bering and Chukchi Seas\n",
       "    data_mode:                 delayed-mode\n",
       "    drone_id:                  1036\n",
       "    id:                        74829\n",
       "    naming_authority:          saildrone.com\n",
       "    uuid:                      f49c0474-08e7-495b-a05e-214eae1ada1f\n",
       "    project:                   NASA Multi-Sensor Improved Sea Surface Tempera...\n",
       "    source:                    Saildrone\n",
       "    license:                   2019 CC-BY SAILDRONE Inc.  All Rights Reserved...\n",
       "    nodc_template_version:     NODC_NetCDF_Trajectory_Template_v2.0\n",
       "    wmo_id:                    4803914\n",
       "    geospatial_lat_min:        53.8464768\n",
       "    geospatial_lat_max:        75.222176\n",
       "    geospatial_lat_units:      degrees_north\n",
       "    geospatial_lon_min:        -176.2569088\n",
       "    geospatial_lon_max:        -147.8197248\n",
       "    geospatial_lon_units:      degrees_east\n",
       "    history:                   created post-cruise by Gentemann 3/2/2020\n",
       "    product_version:           v01.0\n",
       "    keywords:                  Temperature, Saildrone, Arctic, Berring Sea, C...\n",
       "    keywords_vocabulary:       NASA/GCMD\n",
       "    publisher_name:            Saildrone\n",
       "    publisher_url:             www.saildrone.com\n",
       "    publisher_email:           support@saildrone.com\n",
       "    acknowledgment:            Saildrone. 2019. Saildrone Arctic field campai...\n",
       "    processing_level:          Level 2"
      ]
     },
     "execution_count": 50,
     "metadata": {},
     "output_type": "execute_result"
    }
   ],
   "source": [
    "ds_sbe"
   ]
  },
  {
   "cell_type": "code",
   "execution_count": null,
   "metadata": {},
   "outputs": [],
   "source": []
  }
 ],
 "metadata": {
  "kernelspec": {
   "display_name": "Python 3",
   "language": "python",
   "name": "python3"
  },
  "language_info": {
   "codemirror_mode": {
    "name": "ipython",
    "version": 3
   },
   "file_extension": ".py",
   "mimetype": "text/x-python",
   "name": "python",
   "nbconvert_exporter": "python",
   "pygments_lexer": "ipython3",
   "version": "3.7.3"
  }
 },
 "nbformat": 4,
 "nbformat_minor": 2
}
