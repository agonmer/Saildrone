{
 "cells": [
  {
   "cell_type": "code",
   "execution_count": 1,
   "metadata": {},
   "outputs": [
    {
     "name": "stderr",
     "output_type": "stream",
     "text": [
      "/Users/jpscott6/anaconda3/lib/python3.6/site-packages/dask/config.py:168: YAMLLoadWarning: calling yaml.load() without Loader=... is deprecated, as the default Loader is unsafe. Please read https://msg.pyyaml.org/load for full details.\n",
      "  data = yaml.load(f.read()) or {}\n",
      "/Users/jpscott6/anaconda3/lib/python3.6/site-packages/distributed/config.py:20: YAMLLoadWarning: calling yaml.load() without Loader=... is deprecated, as the default Loader is unsafe. Please read https://msg.pyyaml.org/load for full details.\n",
      "  defaults = yaml.load(f)\n"
     ]
    }
   ],
   "source": [
    "from pathlib import Path\n",
    "import pandas as pd\n",
    "import xarray as xr"
   ]
  },
  {
   "cell_type": "code",
   "execution_count": 2,
   "metadata": {},
   "outputs": [
    {
     "data": {
      "text/plain": [
       "<xarray.Dataset>\n",
       "Dimensions:     (obs: 5227199, trajectory: 1)\n",
       "Coordinates:\n",
       "  * trajectory  (trajectory) float32 1002.0\n",
       "    time        (trajectory, obs) datetime64[ns] ...\n",
       "    latitude    (trajectory, obs) float64 ...\n",
       "    longitude   (trajectory, obs) float64 ...\n",
       "Dimensions without coordinates: obs\n",
       "Data variables:\n",
       "    CHLOR       (trajectory, obs) float64 ...\n",
       "    CDOM        (trajectory, obs) float64 ...\n",
       "    BKSCT_RED   (trajectory, obs) float64 ...\n",
       "Attributes:\n",
       "    title:                     Baja 2018 Backscatter\n",
       "    summary:                   Saildrone Mission\n",
       "    product_version:           1\n",
       "    ncei_template_version:     NCEI_NetCDF_Trajectory_Template_v2.0\n",
       "    Conventions:               CF-1.6, ACDD-1.3\n",
       "    netcdf_version:            4.4.1.1\n",
       "    featureType:               trajectory\n",
       "    cdm_data_type:             Trajectory\n",
       "    standard_name_vocabulary:  CF Standard Name Table v58\n",
       "    description:               Saildrone NetCDF Format\n",
       "    creator_name:              Saildrone\n",
       "    platform:                  Saildrone\n",
       "    institution:               Saildrone\n",
       "    creator_email:             support@saildrone.com\n",
       "    creator_url:               http://saildrone.com/\n",
       "    date_created:              2019-03-15T17:32:34.391681Z\n",
       "    interval:                  1.0\n",
       "    time_coverage_resolution:  PT1S\n",
       "    time_coverage_start:       2018-04-11T18:00:00.000000Z\n",
       "    time_coverage_end:         2018-06-11T05:59:59.000000Z\n",
       "    time_coverage_duration:    P60DT11H59M59S\n",
       "    data_mode:                 delay-mode\n",
       "    drone_id:                  1002\n",
       "    id:                        2484\n",
       "    naming_authority:          com.saildrone\n",
       "    uuid:                      99b09ab6-af03-4bd2-bf77-95764b72e162\n",
       "    project:                   Baja-2018-backscatter\n",
       "    geospatial_lat_min:        28.017677691234205\n",
       "    geospatial_lat_max:        37.81756009137561\n",
       "    geospatial_lat_units:      degrees_north\n",
       "    geospatial_lon_min:        -125.55308498733594\n",
       "    geospatial_lon_max:        -115.52264240186263\n",
       "    geospatial_lon_units:      degrees_east"
      ]
     },
     "execution_count": 2,
     "metadata": {},
     "output_type": "execute_result"
    }
   ],
   "source": [
    "#https://urldefense.proofpoint.com/v2/url?u=https-3A__data.download.saildrone.com_baja-5F2018_backscatter-5Freprocess_saildrone-2DBaja-2DBaja-2D2018-2Dbackscatter-2Dsd-2D1002-2D20180411T180000-2D20180611T055958-2D1hz-2Dv1.1552671154390.nc-3FAWSAccessKeyId-3DAKIAJGXEJ5OSM6CLL4EQ-26Expires-3D1552943920-26Signature-3Diw5ZYl7XuxXGZGlgCaY6mPA9-252Fdw-253D&d=DwMFaQ&c=ApwzowJNAKKw3xye91w7BE1XMRKi2LN9kiMk5Csz9Zk&r=fLJtQwaa6D_gHkv9CAKx5S8WJT0rP_n1GcB3msCw5w0&m=wq_HguJqw3Hrl6jNgaTjnnRowt1texVj7hXmK3kVU88&s=SNXd4aShJy2T_lvS76T3d6b3J-32erbBmbwpDp4GTtI&e=\n",
    "fname_nc = Path('~/data/Saildrone_baja_2018/backscatter_20190318/saildrone-Baja-Baja-2018-backscatter-sd-1002-20180411T180000-20180611T055958-1hz-v1.1552671154390.nc').expanduser()\n",
    "xf = xr.open_dataset(fname_nc)\n",
    "\n",
    "xf"
   ]
  },
  {
   "cell_type": "code",
   "execution_count": 3,
   "metadata": {},
   "outputs": [
    {
     "ename": "KeyError",
     "evalue": "'time'",
     "output_type": "error",
     "traceback": [
      "\u001b[0;31m---------------------------------------------------------------------------\u001b[0m",
      "\u001b[0;31mKeyError\u001b[0m                                  Traceback (most recent call last)",
      "\u001b[0;32m<ipython-input-3-bfeb9687f327>\u001b[0m in \u001b[0;36m<module>\u001b[0;34m\u001b[0m\n\u001b[1;32m      6\u001b[0m \u001b[0mtem\u001b[0m\u001b[0;34m[\u001b[0m\u001b[0;34m'time'\u001b[0m\u001b[0;34m]\u001b[0m \u001b[0;34m=\u001b[0m \u001b[0mtem\u001b[0m\u001b[0;34m[\u001b[0m\u001b[0;34m'time'\u001b[0m\u001b[0;34m]\u001b[0m\u001b[0;34m.\u001b[0m\u001b[0mastype\u001b[0m\u001b[0;34m(\u001b[0m\u001b[0mdtype\u001b[0m\u001b[0;34m=\u001b[0m\u001b[0;34m'datetime64'\u001b[0m\u001b[0;34m)\u001b[0m \u001b[0;34m+\u001b[0m \u001b[0moffset\u001b[0m \u001b[0;31m#resample goes from :00 to :59 so shift +6sec\u001b[0m\u001b[0;34m\u001b[0m\u001b[0;34m\u001b[0m\u001b[0m\n\u001b[1;32m      7\u001b[0m \u001b[0;34m\u001b[0m\u001b[0m\n\u001b[0;32m----> 8\u001b[0;31m \u001b[0mxf\u001b[0m\u001b[0;34m[\u001b[0m\u001b[0;34m'BKSCT_RED_mean'\u001b[0m\u001b[0;34m]\u001b[0m \u001b[0;34m=\u001b[0m \u001b[0mtem\u001b[0m\u001b[0;34m.\u001b[0m\u001b[0mresample\u001b[0m\u001b[0;34m(\u001b[0m\u001b[0mtime\u001b[0m \u001b[0;34m=\u001b[0m \u001b[0;34m'1min'\u001b[0m\u001b[0;34m,\u001b[0m \u001b[0mkeep_attrs\u001b[0m\u001b[0;34m=\u001b[0m\u001b[0;32mTrue\u001b[0m\u001b[0;34m)\u001b[0m\u001b[0;34m.\u001b[0m\u001b[0mmean\u001b[0m\u001b[0;34m(\u001b[0m\u001b[0;34m)\u001b[0m\u001b[0;34m\u001b[0m\u001b[0;34m\u001b[0m\u001b[0m\n\u001b[0m\u001b[1;32m      9\u001b[0m \u001b[0mxf\u001b[0m\u001b[0;34m[\u001b[0m\u001b[0;34m'BKSCT_RED_std'\u001b[0m\u001b[0;34m]\u001b[0m \u001b[0;34m=\u001b[0m \u001b[0mtem\u001b[0m\u001b[0;34m.\u001b[0m\u001b[0mresample\u001b[0m\u001b[0;34m(\u001b[0m\u001b[0mtime\u001b[0m \u001b[0;34m=\u001b[0m \u001b[0;34m'1min'\u001b[0m\u001b[0;34m,\u001b[0m \u001b[0mkeep_attrs\u001b[0m\u001b[0;34m=\u001b[0m\u001b[0;32mTrue\u001b[0m\u001b[0;34m)\u001b[0m\u001b[0;34m.\u001b[0m\u001b[0mstd\u001b[0m\u001b[0;34m(\u001b[0m\u001b[0mddof\u001b[0m \u001b[0;34m=\u001b[0m \u001b[0;36m1\u001b[0m\u001b[0;34m)\u001b[0m\u001b[0;34m\u001b[0m\u001b[0;34m\u001b[0m\u001b[0m\n",
      "\u001b[0;32m~/anaconda3/lib/python3.6/site-packages/xarray/core/common.py\u001b[0m in \u001b[0;36mresample\u001b[0;34m(self, indexer, skipna, closed, label, base, keep_attrs, loffset, **indexer_kwargs)\u001b[0m\n\u001b[1;32m    689\u001b[0m         \u001b[0mdim_coord\u001b[0m \u001b[0;34m=\u001b[0m \u001b[0mself\u001b[0m\u001b[0;34m[\u001b[0m\u001b[0mdim\u001b[0m\u001b[0;34m]\u001b[0m\u001b[0;34m\u001b[0m\u001b[0;34m\u001b[0m\u001b[0m\n\u001b[1;32m    690\u001b[0m \u001b[0;34m\u001b[0m\u001b[0m\n\u001b[0;32m--> 691\u001b[0;31m         \u001b[0;32mif\u001b[0m \u001b[0misinstance\u001b[0m\u001b[0;34m(\u001b[0m\u001b[0mself\u001b[0m\u001b[0;34m.\u001b[0m\u001b[0mindexes\u001b[0m\u001b[0;34m[\u001b[0m\u001b[0mdim_name\u001b[0m\u001b[0;34m]\u001b[0m\u001b[0;34m,\u001b[0m \u001b[0mCFTimeIndex\u001b[0m\u001b[0;34m)\u001b[0m\u001b[0;34m:\u001b[0m\u001b[0;34m\u001b[0m\u001b[0;34m\u001b[0m\u001b[0m\n\u001b[0m\u001b[1;32m    692\u001b[0m             raise NotImplementedError(\n\u001b[1;32m    693\u001b[0m                 \u001b[0;34m'Resample is currently not supported along a dimension '\u001b[0m\u001b[0;34m\u001b[0m\u001b[0;34m\u001b[0m\u001b[0m\n",
      "\u001b[0;32m~/anaconda3/lib/python3.6/site-packages/xarray/core/coordinates.py\u001b[0m in \u001b[0;36m__getitem__\u001b[0;34m(self, key)\u001b[0m\n\u001b[1;32m    308\u001b[0m     \u001b[0;32mdef\u001b[0m \u001b[0m__getitem__\u001b[0m\u001b[0;34m(\u001b[0m\u001b[0mself\u001b[0m\u001b[0;34m,\u001b[0m \u001b[0mkey\u001b[0m\u001b[0;34m)\u001b[0m\u001b[0;34m:\u001b[0m\u001b[0;34m\u001b[0m\u001b[0;34m\u001b[0m\u001b[0m\n\u001b[1;32m    309\u001b[0m         \u001b[0;32mif\u001b[0m \u001b[0mkey\u001b[0m \u001b[0;32mnot\u001b[0m \u001b[0;32min\u001b[0m \u001b[0mself\u001b[0m\u001b[0;34m.\u001b[0m\u001b[0m_sizes\u001b[0m\u001b[0;34m:\u001b[0m\u001b[0;34m\u001b[0m\u001b[0;34m\u001b[0m\u001b[0m\n\u001b[0;32m--> 310\u001b[0;31m             \u001b[0;32mraise\u001b[0m \u001b[0mKeyError\u001b[0m\u001b[0;34m(\u001b[0m\u001b[0mkey\u001b[0m\u001b[0;34m)\u001b[0m\u001b[0;34m\u001b[0m\u001b[0;34m\u001b[0m\u001b[0m\n\u001b[0m\u001b[1;32m    311\u001b[0m         \u001b[0;32mreturn\u001b[0m \u001b[0mself\u001b[0m\u001b[0;34m.\u001b[0m\u001b[0m_variables\u001b[0m\u001b[0;34m[\u001b[0m\u001b[0mkey\u001b[0m\u001b[0;34m]\u001b[0m\u001b[0;34m.\u001b[0m\u001b[0mto_index\u001b[0m\u001b[0;34m(\u001b[0m\u001b[0;34m)\u001b[0m\u001b[0;34m\u001b[0m\u001b[0;34m\u001b[0m\u001b[0m\n\u001b[1;32m    312\u001b[0m \u001b[0;34m\u001b[0m\u001b[0m\n",
      "\u001b[0;31mKeyError\u001b[0m: 'time'"
     ]
    }
   ],
   "source": [
    "offset = pd.to_timedelta(6, unit='s')\n",
    "\n",
    "pt = pd.to_datetime(xf.BKSCT_RED.time.data[0,:]) + offset  #add 6 seconds, since 10sec of sampling are centered on the min\n",
    "\n",
    "tem = xf.BKSCT_RED[0, (pt.second <= 12)]  #data average should be only use sec 54 to sec 06 of each minute\n",
    "tem['time'] = tem['time'].astype(dtype='datetime64') + offset #resample goes from :00 to :59 so shift +6sec\n",
    "\n",
    "xf['BKSCT_RED_mean'] = tem.resample(time = '1min', keep_attrs=True).mean()\n",
    "xf['BKSCT_RED_std'] = tem.resample(time = '1min', keep_attrs=True).std(ddof = 1)"
   ]
  },
  {
   "cell_type": "code",
   "execution_count": null,
   "metadata": {},
   "outputs": [],
   "source": []
  }
 ],
 "metadata": {
  "kernelspec": {
   "display_name": "Python 3",
   "language": "python",
   "name": "python3"
  },
  "language_info": {
   "codemirror_mode": {
    "name": "ipython",
    "version": 3
   },
   "file_extension": ".py",
   "mimetype": "text/x-python",
   "name": "python",
   "nbconvert_exporter": "python",
   "pygments_lexer": "ipython3",
   "version": "3.7.0"
  }
 },
 "nbformat": 4,
 "nbformat_minor": 2
}
