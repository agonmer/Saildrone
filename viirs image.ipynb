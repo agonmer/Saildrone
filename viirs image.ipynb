{
 "cells": [
  {
   "cell_type": "code",
   "execution_count": null,
   "metadata": {},
   "outputs": [],
   "source": [
    "#for running on python anywhere\n",
    "import os\n",
    "from os.path import exists\n",
    "####################you will need to change some paths here!#####################\n",
    "#output files\n",
    "#F:/data/cruise_data/saildrone/baja-2018/data_so_far.kml'\n",
    "#################################################################################\n",
    "import xarray as xr\n",
    "from datetime import datetime, timedelta\n",
    "#import BeautifulSoup as BeautifulSoup\n",
    "from bs4 import BeautifulSoup\n",
    "import requests\n",
    "def listFD(url, ext=''):\n",
    "    page = requests.get(url).text\n",
    "    #print(page)\n",
    "    soup = BeautifulSoup(page, 'html.parser')\n",
    "    return [url + node.get('href') for node in soup.find_all('a') if (node.get('href').endswith(ext) and node.get('href').startswith('2'))]\n",
    "import matplotlib.pyplot as plt\n",
    "dir_fig = 'F:/data/cruise_data/saildrone/atomic/fig/'"
   ]
  },
  {
   "cell_type": "code",
   "execution_count": null,
   "metadata": {},
   "outputs": [],
   "source": [
    "drop_list=['quality_level','or_number_of_pixels','dt_analysis','satellite_zenith_angle','sses_bias'  ,\n",
    "           'sses_standard_deviation','wind_speed','sst_dtime','l2p_flags']\n",
    "for incr_day in range(0,2): #61):\n",
    "    d = datetime(2020,2,14) + timedelta(days=incr_day)\n",
    "    day_of_year = d.timetuple().tm_yday\n",
    "    url = 'https://opendap.jpl.nasa.gov/opendap/OceanTemperature/ghrsst/data/GDS2/L3U/VIIRS_NPP/OSPO/v2.61/' \\\n",
    "            + str(d.year) + '/' + str(day_of_year).zfill(3) + '/'\n",
    "    ext = 'nc'\n",
    "    filenames=listFD(url, ext)\n",
    "    ilen=len(filenames)\n",
    "    ds_new=[]\n",
    "    for ic in range(0,ilen):\n",
    "        file = filenames[ic]\n",
    "        print(file)\n",
    "        ds=xr.open_dataset(file,drop_variables=drop_list)\n",
    "        ds2=ds.sel(dict(lon=slice(-65,-53),lat=slice(15,6)))\n",
    "        if ds2.sea_surface_temperature.max()>10:\n",
    "            ds_new.append(ds2)\n",
    "        ds.close()\n",
    "    combined = xr.concat(ds_new, dim='time')\n",
    "    for icc in range(combined.time.size):\n",
    "        axs = plt.figure(figsize=(10,10))\n",
    "        (combined.sea_surface_temperature[icc,:,:]-273.15).plot(vmin=25,vmax=28,cmap='jet')\n",
    "        plt.savefig(dir_fig+'viirs'+str(day_of_year).zfill(3)+str(icc)+'.png')    \n",
    "#    mn=combined.sea_surface_temperature.mean(dim='time')\n",
    "#    mn.to_netcdf('./data/sst'+str(day_of_year)+'.nc')\n",
    "    #combined.to_netcdf('./data/all_sst'+str(day_of_year)+'.nc')"
   ]
  },
  {
   "cell_type": "code",
   "execution_count": null,
   "metadata": {},
   "outputs": [],
   "source": []
  }
 ],
 "metadata": {
  "kernelspec": {
   "display_name": "Python 3",
   "language": "python",
   "name": "python3"
  },
  "language_info": {
   "codemirror_mode": {
    "name": "ipython",
    "version": 3
   },
   "file_extension": ".py",
   "mimetype": "text/x-python",
   "name": "python",
   "nbconvert_exporter": "python",
   "pygments_lexer": "ipython3",
   "version": "3.7.3"
  }
 },
 "nbformat": 4,
 "nbformat_minor": 2
}
