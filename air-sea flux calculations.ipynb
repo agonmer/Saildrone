{
 "cells": [
  {
   "cell_type": "code",
   "execution_count": null,
   "metadata": {},
   "outputs": [],
   "source": []
  },
  {
   "cell_type": "code",
   "execution_count": null,
   "metadata": {},
   "outputs": [],
   "source": [
    "import xarray as xr\n",
    "filename_all_nc='F:/data/cruise_data/saildrone/baja-2018/saildrone-gen_5-Baja_2018-sd1002-20180501T000000-20180501T235959-1_minutes-v2.1534883110884.nc'\n",
    "ds=xr.open_dataset(filename_all_nc)\n",
    "ds.SOG\n"
   ]
  },
  {
   "cell_type": "code",
   "execution_count": null,
   "metadata": {},
   "outputs": [],
   "source": [
    "from cerform.flux.coare3 import coare3\n",
    "inputs = {'u':12.5,'ts':289.48,'Q':4.56}\n",
    "res = coare3(inputs)\n"
   ]
  }
 ],
 "metadata": {
  "kernelspec": {
   "display_name": "Python 3",
   "language": "python",
   "name": "python3"
  },
  "language_info": {
   "codemirror_mode": {
    "name": "ipython",
    "version": 3
   },
   "file_extension": ".py",
   "mimetype": "text/x-python",
   "name": "python",
   "nbconvert_exporter": "python",
   "pygments_lexer": "ipython3",
   "version": "3.7.3"
  }
 },
 "nbformat": 4,
 "nbformat_minor": 2
}
