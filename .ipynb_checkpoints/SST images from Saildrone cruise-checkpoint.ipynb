{
 "cells": [
  {
   "cell_type": "code",
   "execution_count": 53,
   "metadata": {},
   "outputs": [],
   "source": [
    "#import os\n",
    "import numpy.ma as ma\n",
    "from netCDF4 import Dataset, date2index, num2date\n",
    "import numpy as np\n",
    "import pandas as pd\n",
    "from datetime import datetime, timedelta\n",
    "import datetime as dt\n",
    "import xarray as xr\n",
    "#from math import atan2, log\n",
    "from palettable import colorbrewer\n",
    "from copy import copy\n",
    "import matplotlib.pyplot as plt\n",
    "import matplotlib.colors as colors\n",
    "import matplotlib.mlab as mlaba\n",
    "palette = copy(plt.cm.jet)\n",
    "palette.set_over('r', 1.0)\n",
    "palette.set_under('g', 1.0)\n",
    "palette.set_bad(alpha = 0.0)\n",
    "from bs4 import BeautifulSoup\n",
    "import requests\n",
    "def listFD(url, ext=''):\n",
    "    page = requests.get(url).text\n",
    "    #print(page)\n",
    "    soup = BeautifulSoup(page, 'html.parser')\n",
    "    return [url + node.get('href') for node in soup.find_all('a') if (node.get('href').endswith(ext) and node.get('href').startswith('2'))]\n",
    "\n"
   ]
  },
  {
   "cell_type": "code",
   "execution_count": 54,
   "metadata": {},
   "outputs": [],
   "source": [
    "filename_in='F:/data/cruise_data/saildrone/baja-2018/daily_files/sd-1002/saildrone-gen_4-baja_2018-EP-sd1002-ALL-1_min-v1.nc'\n",
    "#dataset=xr.open_dataset(temp_out,decode_times=False)\n",
    "dataset=xr.open_dataset(filename_in)"
   ]
  },
  {
   "cell_type": "code",
   "execution_count": 55,
   "metadata": {},
   "outputs": [
    {
     "data": {
      "text/plain": [
       "<xarray.Dataset>\n",
       "Dimensions:           (obs: 85592, trajectory: 1)\n",
       "Coordinates:\n",
       "  * trajectory        (trajectory) float32 1002.0\n",
       "Dimensions without coordinates: obs\n",
       "Data variables:\n",
       "    LAT               (trajectory, obs) float64 ...\n",
       "    TIME              (trajectory, obs) datetime64[ns] ...\n",
       "    TEMP_O2_STDDEV    (trajectory, obs) float64 ...\n",
       "    CHLOR_MEAN        (trajectory, obs) float64 ...\n",
       "    RH_MEAN           (trajectory, obs) float64 ...\n",
       "    O2_CONC_STDDEV    (trajectory, obs) float64 ...\n",
       "    BARO_PRES_MEAN    (trajectory, obs) float64 ...\n",
       "    UWND_MEAN         (trajectory, obs) float64 ...\n",
       "    SAL_STDDEV        (trajectory, obs) float64 ...\n",
       "    TEMP_AIR_MEAN     (trajectory, obs) float64 ...\n",
       "    CDOM_MEAN         (trajectory, obs) float64 ...\n",
       "    SAL_MEAN          (trajectory, obs) float64 ...\n",
       "    O2_SAT_MEAN       (trajectory, obs) float64 ...\n",
       "    CHLOR_STDDEV      (trajectory, obs) float64 ...\n",
       "    WWND_STDDEV       (trajectory, obs) float64 ...\n",
       "    CDOM_STDDEV       (trajectory, obs) float64 ...\n",
       "    COND_STDDEV       (trajectory, obs) float64 ...\n",
       "    COND_MEAN         (trajectory, obs) float64 ...\n",
       "    BKSCT_RED_MEAN    (trajectory, obs) float64 ...\n",
       "    TEMP_IR_MEAN      (trajectory, obs) float64 ...\n",
       "    WWND_MEAN         (trajectory, obs) float64 ...\n",
       "    O2_SAT_STDDEV     (trajectory, obs) float64 ...\n",
       "    O2_CONC_MEAN      (trajectory, obs) float64 ...\n",
       "    TEMP_O2_MEAN      (trajectory, obs) float64 ...\n",
       "    TEMP_CTD_STDDEV   (trajectory, obs) float64 ...\n",
       "    TEMP_AIR_STDDEV   (trajectory, obs) float64 ...\n",
       "    BARO_PRES_STDDEV  (trajectory, obs) float64 ...\n",
       "    TEMP_IR_STDDEV    (trajectory, obs) float64 ...\n",
       "    VWND_STDDEV       (trajectory, obs) float64 ...\n",
       "    RH_STDDEV         (trajectory, obs) float64 ...\n",
       "    GUST_WND_STDDEV   (trajectory, obs) float64 ...\n",
       "    GUST_WND_MEAN     (trajectory, obs) float64 ...\n",
       "    BKSCT_RED_STDDEV  (trajectory, obs) float64 ...\n",
       "    TEMP_CTD_MEAN     (trajectory, obs) float64 ...\n",
       "    VWND_MEAN         (trajectory, obs) float64 ...\n",
       "    UWND_STDDEV       (trajectory, obs) float64 ...\n",
       "    SOG               (trajectory, obs) float64 ...\n",
       "    ROLL              (trajectory, obs) float64 ...\n",
       "    HDG               (trajectory, obs) float64 ...\n",
       "    HDG_WING          (trajectory, obs) float64 ...\n",
       "    COG               (trajectory, obs) float64 ...\n",
       "    WING_ANGLE        (trajectory, obs) float64 ...\n",
       "    PITCH             (trajectory, obs) float64 ...\n",
       "    LON               (trajectory, obs) float64 ...\n",
       "Attributes:\n",
       "    Conventions:               CF-1.6\n",
       "    Metadata_Conventions:      Unidata Dataset Discovery v1.0\n",
       "    featureType:               trajectory\n",
       "    cdm_data_type:             Trajectory\n",
       "    nodc_template_version:     NODC_NetCDF_Trajectory_Template_v0.9\n",
       "    standard_name_vocabulary:  CF-1.6\n",
       "    description:               Saildrone NetCDF format\n",
       "    creator_name:              SailDrone\n",
       "    creator_email:             support@saildrone.com\n",
       "    creator_url:               http://saildrone.com/\n",
       "    project:                   \n",
       "    time_coverage_start:       2018-04-11T18:00:00.000Z\n",
       "    time_coverage_end:         2018-06-10T22:31:00.000Z"
      ]
     },
     "execution_count": 55,
     "metadata": {},
     "output_type": "execute_result"
    }
   ],
   "source": [
    "dataset"
   ]
  },
  {
   "cell_type": "code",
   "execution_count": 56,
   "metadata": {},
   "outputs": [
    {
     "data": {
      "text/plain": [
       "<xarray.DataArray 'TIME' ()>\n",
       "array('2018-04-11T18:00:00.000000000', dtype='datetime64[ns]')"
      ]
     },
     "execution_count": 56,
     "metadata": {},
     "output_type": "execute_result"
    }
   ],
   "source": [
    "dataset.TIME.min()"
   ]
  },
  {
   "cell_type": "code",
   "execution_count": 57,
   "metadata": {},
   "outputs": [
    {
     "name": "stdout",
     "output_type": "stream",
     "text": [
      "101 161\n",
      "2018-04-11 00:00:00\n"
     ]
    }
   ],
   "source": [
    "istart_data=1\n",
    "minday=dataset.TIME.min()\n",
    "maxday=dataset.TIME.max()\n",
    "x = pd.to_datetime(minday.data)\n",
    "minday=x.timetuple().tm_yday\n",
    "x = pd.to_datetime(maxday.data)\n",
    "maxday=x.timetuple().tm_yday\n",
    "print(minday,maxday)\n",
    "print(dt.datetime(2018, 1, 1) + dt.timedelta(minday - 1))"
   ]
  },
  {
   "cell_type": "code",
   "execution_count": 58,
   "metadata": {},
   "outputs": [
    {
     "name": "stdout",
     "output_type": "stream",
     "text": [
      "https://opendap.jpl.nasa.gov/opendap/OceanTemperature/ghrsst/data/GDS2/L3U/VIIRS_NPP/OSPO/v2.41/2018/100/20180410001000-OSPO-L3U_GHRSST-SSTsubskin-VIIRS_NPP-ACSPO_V2.41-v02.0-fv01.0.nc\n",
      "https://opendap.jpl.nasa.gov/opendap/OceanTemperature/ghrsst/data/GDS2/L3U/VIIRS_NPP/OSPO/v2.41/2018/100/20180410002000-OSPO-L3U_GHRSST-SSTsubskin-VIIRS_NPP-ACSPO_V2.41-v02.0-fv01.0.nc\n",
      "https://opendap.jpl.nasa.gov/opendap/OceanTemperature/ghrsst/data/GDS2/L3U/VIIRS_NPP/OSPO/v2.41/2018/100/20180410003000-OSPO-L3U_GHRSST-SSTsubskin-VIIRS_NPP-ACSPO_V2.41-v02.0-fv01.0.nc\n",
      "https://opendap.jpl.nasa.gov/opendap/OceanTemperature/ghrsst/data/GDS2/L3U/VIIRS_NPP/OSPO/v2.41/2018/100/20180410004000-OSPO-L3U_GHRSST-SSTsubskin-VIIRS_NPP-ACSPO_V2.41-v02.0-fv01.0.nc\n",
      "https://opendap.jpl.nasa.gov/opendap/OceanTemperature/ghrsst/data/GDS2/L3U/VIIRS_NPP/OSPO/v2.41/2018/100/20180410005000-OSPO-L3U_GHRSST-SSTsubskin-VIIRS_NPP-ACSPO_V2.41-v02.0-fv01.0.nc\n",
      "https://opendap.jpl.nasa.gov/opendap/OceanTemperature/ghrsst/data/GDS2/L3U/VIIRS_NPP/OSPO/v2.41/2018/100/20180410010000-OSPO-L3U_GHRSST-SSTsubskin-VIIRS_NPP-ACSPO_V2.41-v02.0-fv01.0.nc\n",
      "https://opendap.jpl.nasa.gov/opendap/OceanTemperature/ghrsst/data/GDS2/L3U/VIIRS_NPP/OSPO/v2.41/2018/100/20180410011000-OSPO-L3U_GHRSST-SSTsubskin-VIIRS_NPP-ACSPO_V2.41-v02.0-fv01.0.nc\n",
      "https://opendap.jpl.nasa.gov/opendap/OceanTemperature/ghrsst/data/GDS2/L3U/VIIRS_NPP/OSPO/v2.41/2018/100/20180410012000-OSPO-L3U_GHRSST-SSTsubskin-VIIRS_NPP-ACSPO_V2.41-v02.0-fv01.0.nc\n",
      "https://opendap.jpl.nasa.gov/opendap/OceanTemperature/ghrsst/data/GDS2/L3U/VIIRS_NPP/OSPO/v2.41/2018/100/20180410013000-OSPO-L3U_GHRSST-SSTsubskin-VIIRS_NPP-ACSPO_V2.41-v02.0-fv01.0.nc\n",
      "https://opendap.jpl.nasa.gov/opendap/OceanTemperature/ghrsst/data/GDS2/L3U/VIIRS_NPP/OSPO/v2.41/2018/100/20180410014000-OSPO-L3U_GHRSST-SSTsubskin-VIIRS_NPP-ACSPO_V2.41-v02.0-fv01.0.nc\n"
     ]
    },
    {
     "ename": "KeyboardInterrupt",
     "evalue": "",
     "output_type": "error",
     "traceback": [
      "\u001b[1;31m---------------------------------------------------------------------------\u001b[0m",
      "\u001b[1;31mKeyboardInterrupt\u001b[0m                         Traceback (most recent call last)",
      "\u001b[1;32m<ipython-input-58-af8c1aae31be>\u001b[0m in \u001b[0;36m<module>\u001b[1;34m()\u001b[0m\n\u001b[0;32m     14\u001b[0m             \u001b[0mprint\u001b[0m\u001b[1;33m(\u001b[0m\u001b[0mfile\u001b[0m\u001b[1;33m)\u001b[0m\u001b[1;33m\u001b[0m\u001b[0m\n\u001b[0;32m     15\u001b[0m             \u001b[0mnc\u001b[0m \u001b[1;33m=\u001b[0m \u001b[0mDataset\u001b[0m\u001b[1;33m(\u001b[0m\u001b[0mfile\u001b[0m\u001b[1;33m)\u001b[0m\u001b[1;33m\u001b[0m\u001b[0m\n\u001b[1;32m---> 16\u001b[1;33m             \u001b[0msst\u001b[0m \u001b[1;33m=\u001b[0m \u001b[0mnc\u001b[0m\u001b[1;33m.\u001b[0m\u001b[0mvariables\u001b[0m\u001b[1;33m[\u001b[0m\u001b[1;34m'sea_surface_temperature'\u001b[0m\u001b[1;33m]\u001b[0m\u001b[1;33m[\u001b[0m\u001b[1;33m:\u001b[0m\u001b[1;33m,\u001b[0m\u001b[1;36m2500\u001b[0m\u001b[1;33m:\u001b[0m\u001b[1;36m3250\u001b[0m\u001b[1;33m,\u001b[0m\u001b[1;36m2500\u001b[0m\u001b[1;33m:\u001b[0m\u001b[1;36m3500\u001b[0m\u001b[1;33m]\u001b[0m\u001b[1;33m\u001b[0m\u001b[0m\n\u001b[0m\u001b[0;32m     17\u001b[0m             \u001b[0msst\u001b[0m \u001b[1;33m=\u001b[0m \u001b[0mnp\u001b[0m\u001b[1;33m.\u001b[0m\u001b[0mflip\u001b[0m\u001b[1;33m(\u001b[0m\u001b[0msst\u001b[0m\u001b[1;33m,\u001b[0m \u001b[1;36m2\u001b[0m\u001b[1;33m)\u001b[0m\u001b[1;33m\u001b[0m\u001b[0m\n\u001b[0;32m     18\u001b[0m             \u001b[0mcnt\u001b[0m \u001b[1;33m=\u001b[0m \u001b[0mma\u001b[0m\u001b[1;33m.\u001b[0m\u001b[0mcount\u001b[0m\u001b[1;33m(\u001b[0m\u001b[0msst\u001b[0m\u001b[1;33m)\u001b[0m\u001b[1;33m\u001b[0m\u001b[0m\n",
      "\u001b[1;32mnetCDF4\\_netCDF4.pyx\u001b[0m in \u001b[0;36mnetCDF4._netCDF4.Variable.__getitem__\u001b[1;34m()\u001b[0m\n",
      "\u001b[1;32mnetCDF4\\_netCDF4.pyx\u001b[0m in \u001b[0;36mnetCDF4._netCDF4.Variable._toma\u001b[1;34m()\u001b[0m\n",
      "\u001b[1;32mnetCDF4\\_netCDF4.pyx\u001b[0m in \u001b[0;36mnetCDF4._netCDF4.Variable._check_safecast\u001b[1;34m()\u001b[0m\n",
      "\u001b[1;32m~\\Anaconda3\\lib\\site-packages\\netCDF4\\utils.py\u001b[0m in \u001b[0;36m_safecast\u001b[1;34m(a, b)\u001b[0m\n\u001b[0;32m     21\u001b[0m     \u001b[0mbytes\u001b[0m \u001b[1;33m=\u001b[0m \u001b[0mstr\u001b[0m\u001b[1;33m\u001b[0m\u001b[0m\n\u001b[0;32m     22\u001b[0m \u001b[1;33m\u001b[0m\u001b[0m\n\u001b[1;32m---> 23\u001b[1;33m \u001b[1;32mdef\u001b[0m \u001b[0m_safecast\u001b[0m\u001b[1;33m(\u001b[0m\u001b[0ma\u001b[0m\u001b[1;33m,\u001b[0m\u001b[0mb\u001b[0m\u001b[1;33m)\u001b[0m\u001b[1;33m:\u001b[0m\u001b[1;33m\u001b[0m\u001b[0m\n\u001b[0m\u001b[0;32m     24\u001b[0m     \u001b[1;31m# check to see if array a can be safely cast\u001b[0m\u001b[1;33m\u001b[0m\u001b[1;33m\u001b[0m\u001b[0m\n\u001b[0;32m     25\u001b[0m     \u001b[1;31m# to array b.  A little less picky than numpy.can_cast.\u001b[0m\u001b[1;33m\u001b[0m\u001b[1;33m\u001b[0m\u001b[0m\n",
      "\u001b[1;31mKeyboardInterrupt\u001b[0m: "
     ]
    }
   ],
   "source": [
    "istart_data=1\n",
    "for days in range(minday,maxday+1):\n",
    "    inew_data=1\n",
    "    for incr_day in range(-1,2):\n",
    "        d = dt.datetime(2018, 1, 1) + dt.timedelta(days - 1) + timedelta(days=incr_day)\n",
    "        day_of_year = d.timetuple().tm_yday\n",
    "        url = 'https://opendap.jpl.nasa.gov/opendap/OceanTemperature/ghrsst/data/GDS2/L3U/VIIRS_NPP/OSPO/v2.41/' \\\n",
    "            + str(d.year) + '/' + str(day_of_year).zfill(3) + '/'\n",
    "        ext = 'nc'\n",
    "        \n",
    "        filenames=listFD(url, ext)\n",
    "        ilen=len(filenames)\n",
    "        for ic in range(1,ilen):\n",
    "            file = filenames[ic]\n",
    "            print(file)\n",
    "            nc = Dataset(file)\n",
    "            sst = nc.variables['sea_surface_temperature'][:,2500:3250,2500:3500]\n",
    "            sst = np.flip(sst, 2)\n",
    "            cnt = ma.count(sst)\n",
    "            lat = nc.variables['lat'][2500:3250]\n",
    "            lat = np.flip(lat, 0)\n",
    "            lon = nc.variables['lon'][2500:3500]\n",
    "            nc.close()\n",
    "            if istart_data==1:\n",
    "                sst_new_all = ma.copy(sst)\n",
    "                istart_data = 0\n",
    "            if inew_data==1:\n",
    "                sst_new = ma.copy(sst)\n",
    "                inew_data = 0\n",
    "            if cnt<5:\n",
    "                continue\n",
    "            print(ic,cnt,file)\n",
    "            mask = sst_new < -10\n",
    "            sst_new[mask] = sst[mask]\n",
    "            sst_new_all[mask] = sst[mask]\n",
    "\n",
    "    sst_new2 = sst_new[0,:,:]\n",
    "    sstx = ma.masked_values (sst_new2, -9999.)\n",
    "    sst3x = np.flip(sstx, 1)\n",
    "    sst4x = np.flip(sst3x, 0)\n",
    "    sst5x = ma.swapaxes(sst4x,0,1)\n",
    "    \n",
    "    cmap = colorbrewer.get_map('Spectral', 'diverging', 11, reverse=True).mpl_colormap\n",
    "    fig = plt.figure(figsize=(11.7,8.3))\n",
    "    m = Basemap(projection='merc', lat_0 = 27, lon_0 = -120,    resolution = 'l', area_thresh = 0.1,    \n",
    "                              llcrnrlon=-126.0, llcrnrlat=25.0,urcrnrlon=-114.0, urcrnrlat=38.)\n",
    "    m.bluemarble()\n",
    "#    m.fillcontinents(color='grey',lake_color='white')\n",
    "    lat_grid, lon_grid = np.meshgrid(lat, lon)\n",
    "    x,y = m(lon_grid,lat_grid)\n",
    "    cs = m.pcolormesh(x,y, sst5x - 273.15, cmap=cmap, vmin = 12, vmax = 19)\n",
    "    sub_lons=lons_usv[tem_dyr==day_of_year]\n",
    "    sub_lats=lats_usv[tem_dyr==day_of_year]\n",
    "    x,y = m(sub_lons,sub_lats)\n",
    "    m.plot(x,y,'w', linewidth=3)\n",
    "    m.plot(x,y,color='magenta', linewidth=1)\n",
    "    m.colorbar(location=\"bottom\",label='SST [C]') # draw colorbar\n",
    "    plt.show()\n",
    "    filename_png='F:/data/cruise_data/saildrone/baja-2018/figs/cruise_sst_'+str(day_of_year)+'.png'\n",
    "    fig.savefig(filename_png, transparent=False, format='png')\n",
    "    print('done') \n",
    "    \n",
    "    sub_lons=lons_usv[tem_dyr==day_of_year]\n",
    "    sub_lats=lats_usv[tem_dyr==day_of_year]\n",
    "    min_lon=min(sub_lons)-3\n",
    "    max_lon=min(sub_lons)+3\n",
    "    min_lat=min(sub_lats)-3\n",
    "    max_lat=min(sub_lats)+3\n",
    "    center_lon=.5*(max_lon-min_lon)+min_lon\n",
    "    center_lat=.5*(max_lat-min_lat)+min_lat\n",
    "    print(min_lon,max_lon,min_lat,max_lat,center_lon,center_lat)\n",
    "    \n",
    "    fig = plt.figure(figsize=(11.7,8.3))\n",
    "    m = Basemap(projection='merc', lat_0 = center_lat, lon_0 = center_lon,    resolution = 'l', area_thresh = 0.1,    \n",
    "                llcrnrlon=min_lon, llcrnrlat=min_lat,urcrnrlon=max_lon, urcrnrlat=max_lat)\n",
    "    m.bluemarble()\n",
    "#    m.fillcontinents(color='grey',lake_color='white')\n",
    "    lat_grid, lon_grid = np.meshgrid(lat, lon)\n",
    "    x,y = m(lon_grid,lat_grid)\n",
    "    cs = m.pcolormesh(x,y, sst5x - 273.15, cmap=cmap, vmin = 12, vmax = 19)\n",
    "    x,y = m(sub_lons,sub_lats)\n",
    "    m.plot(x,y,'w', linewidth=3)\n",
    "    m.plot(x,y,color='magenta', linewidth=1)\n",
    "    m.colorbar(location=\"bottom\",label='SST [C]') # draw colorbar\n",
    "    plt.show()\n",
    "    filename_png='F:/data/cruise_data/saildrone/baja-2018/figs/cruise_sst_'+str(day_of_year)+'_zoom.png'\n",
    "    fig.savefig(filename_png, transparent=False, format='png')\n",
    "    print('done')      \n",
    "\n",
    "sst_new2 = sst_new_all[0,:,:]\n",
    "sstx = ma.masked_values (sst_new2, -9999.)\n",
    "sst3x = np.flip(sstx, 1)\n",
    "sst4x = np.flip(sst3x, 0)\n",
    "sst5x = ma.swapaxes(sst4x,0,1)\n",
    "sub_lons=lons_usv\n",
    "sub_lats=lats_usv\n",
    "fig = plt.figure(figsize=(11.7,8.3))\n",
    "m = Basemap(projection='merc', lat_0 = 27, lon_0 = -120,    resolution = 'l', area_thresh = 0.1,    \n",
    "                              llcrnrlon=-126.0, llcrnrlat=25.0,urcrnrlon=-114.0, urcrnrlat=38.)\n",
    "m.bluemarble()\n",
    "    #m.fillcontinents(color='grey',lake_color='white')\n",
    "lat_grid, lon_grid = np.meshgrid(lat, lon)\n",
    "x,y = m(lon_grid,lat_grid)\n",
    "cs = m.pcolormesh(x,y, sst5x - 273.15, cmap=cmap, vmin = 12, vmax = 19)\n",
    "x,y = m(sub_lons,sub_lats)\n",
    "m.plot(x,y,'w', linewidth=3)\n",
    "m.plot(x,y,color='magenta', linewidth=1)\n",
    "m.colorbar(location=\"bottom\",label='SST [C]') # draw colorbar\n",
    "plt.show()\n",
    "filename_png='F:/data/cruise_data/saildrone/baja-2018/figs/cruise_all_sst_track.png'\n",
    "fig.savefig(filename_png, transparent=False, format='png')\n",
    "print('done')   \n"
   ]
  },
  {
   "cell_type": "code",
   "execution_count": null,
   "metadata": {},
   "outputs": [],
   "source": []
  }
 ],
 "metadata": {
  "kernelspec": {
   "display_name": "Python 3",
   "language": "python",
   "name": "python3"
  },
  "language_info": {
   "codemirror_mode": {
    "name": "ipython",
    "version": 3
   },
   "file_extension": ".py",
   "mimetype": "text/x-python",
   "name": "python",
   "nbconvert_exporter": "python",
   "pygments_lexer": "ipython3",
   "version": "3.5.5"
  }
 },
 "nbformat": 4,
 "nbformat_minor": 2
}
