{
 "cells": [
  {
   "cell_type": "code",
   "execution_count": 13,
   "metadata": {},
   "outputs": [],
   "source": [
    "import xarray as xr\n",
    "import numpy as np\n",
    "import pandas as pd\n",
    "import matplotlib.pyplot as plt\n",
    "import seawater as sw\n",
    "\n",
    "fig_dir='C:/Users/gentemann/Google Drive/f_drive/docs/projects/saildrone/Arctic/'\n"
   ]
  },
  {
   "cell_type": "code",
   "execution_count": 14,
   "metadata": {},
   "outputs": [],
   "source": [
    "icefile='C:/Users/gentemann/Google Drive/f_drive/docs/projects/misst-arctic/Ice Present.xlsx'\n",
    "ds = pd.read_excel(icefile, sheet_name='data',index_col=0)\n",
    "ds_ice = ds.to_xarray()"
   ]
  },
  {
   "cell_type": "code",
   "execution_count": 15,
   "metadata": {},
   "outputs": [
    {
     "data": {
      "text/plain": [
       "<xarray.Dataset>\n",
       "Dimensions:     (usv: 3)\n",
       "Coordinates:\n",
       "  * usv         (usv) int64 1037 1037 1037\n",
       "Data variables:\n",
       "    start_time  (usv) datetime64[ns] 2019-06-17T08:00:00 ... 2019-08-04\n",
       "    stop_time   (usv) datetime64[ns] 2019-06-21T12:00:00 ... 2019-08-08T18:00:00"
      ]
     },
     "execution_count": 15,
     "metadata": {},
     "output_type": "execute_result"
    }
   ],
   "source": [
    "ds_ice\n",
    "ds_ice.sel(usv=1037)"
   ]
  },
  {
   "cell_type": "code",
   "execution_count": 4,
   "metadata": {},
   "outputs": [],
   "source": [
    "adir = 'F:/data/cruise_data/saildrone/2019_arctic/daily_files/'\n",
    "list_usv=[1033,1034,1035,1036,1037]\n",
    "for iusv in list_usv:\n",
    "    file = adir + 'arctic_2019_sd'+str(iusv)+'-NRT-1_min-v1.nc'\n",
    "    ds = xr.open_dataset(file)\n",
    "    if iusv==1033:\n",
    "        ds = ds.sel(time=slice('2019-05-14T1800','2019-10-22'))\n",
    "        ds2=ds\n",
    "    if iusv==1034:\n",
    "        ds = ds.sel(time=slice('2019-05-14T1830','2019-10-22'))\n",
    "        ds['WIND_MEASUREMENT_HEIGHT_MEAN']=ds['TEMP_AIR_MEAN']*np.nan\n",
    "        ds['WIND_MEASUREMENT_HEIGHT_STDDEV']=ds['TEMP_AIR_MEAN']*np.nan\n",
    "        ds2=xr.concat([ds2,ds],dim='trajectory')\n",
    "    if iusv==1035:\n",
    "        ds = ds.sel(time=slice('2019-05-14T2230','2019-10-22'))\n",
    "        ds['WIND_HEIGHT_MEAN']=ds['TEMP_AIR_MEAN']*np.nan\n",
    "        ds['WIND_HEIGHT_STDDEV']=ds['TEMP_AIR_MEAN']*np.nan\n",
    "        ds2=xr.concat([ds2,ds],dim='trajectory')\n",
    "    if iusv==1036:\n",
    "        ds = ds.sel(time=slice('2019-05-14T2300','2019-10-22'))\n",
    "        ds['LW_IRRAD_MEAN']=ds['TEMP_AIR_MEAN']*np.nan\n",
    "        ds['LW_IRRAD_STDDEV']=ds['TEMP_AIR_MEAN']*np.nan\n",
    "        ds['SW_IRRAD_TOTAL_MEAN']=ds['TEMP_AIR_MEAN']*np.nan\n",
    "        ds['SW_IRRAD_TOTAL_STDDEV']=ds['TEMP_AIR_MEAN']*np.nan\n",
    "        ds['SW_IRRAD_DIFFUSE_MEAN']=ds['TEMP_AIR_MEAN']*np.nan\n",
    "        ds['SW_IRRAD_DIFFUSE_STDDEV']=ds['TEMP_AIR_MEAN']*np.nan\n",
    "        ds['O2_CONC_AANDERAA_MEAN']=ds['TEMP_AIR_MEAN']*np.nan\n",
    "        ds['O2_CONC_AANDERAA_STDDEV']=ds['TEMP_AIR_MEAN']*np.nan\n",
    "        ds['O2_SAT_AANDERAA_MEAN']=ds['TEMP_AIR_MEAN']*np.nan\n",
    "        ds['O2_SAT_AANDERAA_STDDEV']=ds['TEMP_AIR_MEAN']*np.nan\n",
    "        ds['TEMP_O2_AANDERAA_MEAN']=ds['TEMP_AIR_MEAN']*np.nan\n",
    "        ds['TEMP_O2_AANDERAA_STDDEV']=ds['TEMP_AIR_MEAN']*np.nan\n",
    "        ds['O2_TC_PHASE_AANDERAA_MEAN']=ds['TEMP_AIR_MEAN']*np.nan\n",
    "        ds['O2_TC_PHASE_AANDERAA_STDDEV']=ds['TEMP_AIR_MEAN']*np.nan\n",
    "        ds['SW_UNMASKED_IRRAD_6DET_MEAN']=ds['TEMP_AIR_MEAN']*np.nan\n",
    "        ds['SW_UNMASKED_IRRAD_6DET_STDDEV']=ds['TEMP_AIR_MEAN']*np.nan\n",
    "        ds['SW_UNMASKED_IRRAD_CENTER_MEAN']=ds['TEMP_AIR_MEAN']*np.nan\n",
    "        ds['SW_UNMASKED_IRRAD_CENTER_STDDEV']=ds['TEMP_AIR_MEAN']*np.nan\n",
    "        ds['LW_IRRAD_MEAN']=ds['TEMP_AIR_MEAN']*np.nan\n",
    "        ds['LW_IRRAD_STDDEV']=ds['TEMP_AIR_MEAN']*np.nan\n",
    "        ds['WIND_MEASUREMENT_HEIGHT_MEAN']=ds['TEMP_AIR_MEAN']*np.nan\n",
    "        ds['WIND_MEASUREMENT_HEIGHT_STDDEV']=ds['TEMP_AIR_MEAN']*np.nan\n",
    "        ds2=xr.concat([ds2,ds],dim='trajectory')\n",
    "    if iusv==1037:\n",
    "        ds = ds.sel(time=slice('2019-05-14T2250','2019-10-22'))\n",
    "        ds['LW_IRRAD_MEAN']=ds['TEMP_AIR_MEAN']*np.nan\n",
    "        ds['LW_IRRAD_STDDEV']=ds['TEMP_AIR_MEAN']*np.nan\n",
    "        ds['SW_IRRAD_TOTAL_MEAN']=ds['TEMP_AIR_MEAN']*np.nan\n",
    "        ds['SW_IRRAD_TOTAL_STDDEV']=ds['TEMP_AIR_MEAN']*np.nan\n",
    "        ds['SW_IRRAD_DIFFUSE_MEAN']=ds['TEMP_AIR_MEAN']*np.nan\n",
    "        ds['SW_IRRAD_DIFFUSE_STDDEV']=ds['TEMP_AIR_MEAN']*np.nan\n",
    "        ds['O2_CONC_AANDERAA_MEAN']=ds['TEMP_AIR_MEAN']*np.nan\n",
    "        ds['O2_CONC_AANDERAA_STDDEV']=ds['TEMP_AIR_MEAN']*np.nan\n",
    "        ds['O2_SAT_AANDERAA_MEAN']=ds['TEMP_AIR_MEAN']*np.nan\n",
    "        ds['O2_SAT_AANDERAA_STDDEV']=ds['TEMP_AIR_MEAN']*np.nan\n",
    "        ds['TEMP_O2_AANDERAA_MEAN']=ds['TEMP_AIR_MEAN']*np.nan\n",
    "        ds['TEMP_O2_AANDERAA_STDDEV']=ds['TEMP_AIR_MEAN']*np.nan\n",
    "        ds['O2_TC_PHASE_AANDERAA_MEAN']=ds['TEMP_AIR_MEAN']*np.nan\n",
    "        ds['O2_TC_PHASE_AANDERAA_STDDEV']=ds['TEMP_AIR_MEAN']*np.nan\n",
    "        ds['SW_UNMASKED_IRRAD_6DET_MEAN']=ds['TEMP_AIR_MEAN']*np.nan\n",
    "        ds['SW_UNMASKED_IRRAD_6DET_STDDEV']=ds['TEMP_AIR_MEAN']*np.nan\n",
    "        ds['SW_UNMASKED_IRRAD_CENTER_MEAN']=ds['TEMP_AIR_MEAN']*np.nan\n",
    "        ds['SW_UNMASKED_IRRAD_CENTER_STDDEV']=ds['TEMP_AIR_MEAN']*np.nan\n",
    "        ds['LW_IRRAD_MEAN']=ds['TEMP_AIR_MEAN']*np.nan\n",
    "        ds['LW_IRRAD_STDDEV']=ds['TEMP_AIR_MEAN']*np.nan\n",
    "        ds['WIND_MEASUREMENT_HEIGHT_MEAN']=ds['TEMP_AIR_MEAN']*np.nan\n",
    "        ds['WIND_MEASUREMENT_HEIGHT_STDDEV']=ds['TEMP_AIR_MEAN']*np.nan\n",
    "        ds2=xr.concat([ds2,ds],dim='trajectory')\n",
    "ds2['wspd']=np.sqrt(ds2.UWND_MEAN**2+ds2.VWND_MEAN**2)\n",
    "ds2['wdir']=np.arctan2(ds2.VWND_MEAN,ds2.UWND_MEAN)*180./np.pi"
   ]
  },
  {
   "cell_type": "code",
   "execution_count": 5,
   "metadata": {},
   "outputs": [
    {
     "name": "stdout",
     "output_type": "stream",
     "text": [
      "53.844832 75.4970304\n",
      "-176.382208 -146.129856\n",
      "0.79 7.1 83.65095127788717\n"
     ]
    }
   ],
   "source": [
    "print(ds2.lat.min().data,ds2.lat.max().data)\n",
    "print(ds2.lon.min().data,ds2.lon.max().data)\n",
    "print(ds2.UWND_MEAN[0,100].data,ds2.VWND_MEAN[0,100].data,ds2.wdir[0,100].data)"
   ]
  },
  {
   "cell_type": "code",
   "execution_count": 10,
   "metadata": {},
   "outputs": [
    {
     "name": "stdout",
     "output_type": "stream",
     "text": [
      "Error in callback <function flush_figures at 0x00000207AEEB9BF8> (for post_execute):\n"
     ]
    },
    {
     "ename": "KeyboardInterrupt",
     "evalue": "",
     "output_type": "error",
     "traceback": [
      "\u001b[1;31m---------------------------------------------------------------------------\u001b[0m",
      "\u001b[1;31mKeyboardInterrupt\u001b[0m                         Traceback (most recent call last)",
      "\u001b[1;32m~\\Miniconda3\\envs\\satenv\\lib\\site-packages\\ipykernel\\pylab\\backend_inline.py\u001b[0m in \u001b[0;36mflush_figures\u001b[1;34m()\u001b[0m\n\u001b[0;32m    115\u001b[0m         \u001b[1;31m# ignore the tracking, just draw and close all figures\u001b[0m\u001b[1;33m\u001b[0m\u001b[1;33m\u001b[0m\u001b[1;33m\u001b[0m\u001b[0m\n\u001b[0;32m    116\u001b[0m         \u001b[1;32mtry\u001b[0m\u001b[1;33m:\u001b[0m\u001b[1;33m\u001b[0m\u001b[1;33m\u001b[0m\u001b[0m\n\u001b[1;32m--> 117\u001b[1;33m             \u001b[1;32mreturn\u001b[0m \u001b[0mshow\u001b[0m\u001b[1;33m(\u001b[0m\u001b[1;32mTrue\u001b[0m\u001b[1;33m)\u001b[0m\u001b[1;33m\u001b[0m\u001b[1;33m\u001b[0m\u001b[0m\n\u001b[0m\u001b[0;32m    118\u001b[0m         \u001b[1;32mexcept\u001b[0m \u001b[0mException\u001b[0m \u001b[1;32mas\u001b[0m \u001b[0me\u001b[0m\u001b[1;33m:\u001b[0m\u001b[1;33m\u001b[0m\u001b[1;33m\u001b[0m\u001b[0m\n\u001b[0;32m    119\u001b[0m             \u001b[1;31m# safely show traceback if in IPython, else raise\u001b[0m\u001b[1;33m\u001b[0m\u001b[1;33m\u001b[0m\u001b[1;33m\u001b[0m\u001b[0m\n",
      "\u001b[1;32m~\\Miniconda3\\envs\\satenv\\lib\\site-packages\\ipykernel\\pylab\\backend_inline.py\u001b[0m in \u001b[0;36mshow\u001b[1;34m(close, block)\u001b[0m\n\u001b[0;32m     37\u001b[0m             display(\n\u001b[0;32m     38\u001b[0m                 \u001b[0mfigure_manager\u001b[0m\u001b[1;33m.\u001b[0m\u001b[0mcanvas\u001b[0m\u001b[1;33m.\u001b[0m\u001b[0mfigure\u001b[0m\u001b[1;33m,\u001b[0m\u001b[1;33m\u001b[0m\u001b[1;33m\u001b[0m\u001b[0m\n\u001b[1;32m---> 39\u001b[1;33m                 \u001b[0mmetadata\u001b[0m\u001b[1;33m=\u001b[0m\u001b[0m_fetch_figure_metadata\u001b[0m\u001b[1;33m(\u001b[0m\u001b[0mfigure_manager\u001b[0m\u001b[1;33m.\u001b[0m\u001b[0mcanvas\u001b[0m\u001b[1;33m.\u001b[0m\u001b[0mfigure\u001b[0m\u001b[1;33m)\u001b[0m\u001b[1;33m\u001b[0m\u001b[1;33m\u001b[0m\u001b[0m\n\u001b[0m\u001b[0;32m     40\u001b[0m             )\n\u001b[0;32m     41\u001b[0m     \u001b[1;32mfinally\u001b[0m\u001b[1;33m:\u001b[0m\u001b[1;33m\u001b[0m\u001b[1;33m\u001b[0m\u001b[0m\n",
      "\u001b[1;32m~\\Miniconda3\\envs\\satenv\\lib\\site-packages\\IPython\\core\\display.py\u001b[0m in \u001b[0;36mdisplay\u001b[1;34m(include, exclude, metadata, transient, display_id, *objs, **kwargs)\u001b[0m\n\u001b[0;32m    304\u001b[0m             \u001b[0mpublish_display_data\u001b[0m\u001b[1;33m(\u001b[0m\u001b[0mdata\u001b[0m\u001b[1;33m=\u001b[0m\u001b[0mobj\u001b[0m\u001b[1;33m,\u001b[0m \u001b[0mmetadata\u001b[0m\u001b[1;33m=\u001b[0m\u001b[0mmetadata\u001b[0m\u001b[1;33m,\u001b[0m \u001b[1;33m**\u001b[0m\u001b[0mkwargs\u001b[0m\u001b[1;33m)\u001b[0m\u001b[1;33m\u001b[0m\u001b[1;33m\u001b[0m\u001b[0m\n\u001b[0;32m    305\u001b[0m         \u001b[1;32melse\u001b[0m\u001b[1;33m:\u001b[0m\u001b[1;33m\u001b[0m\u001b[1;33m\u001b[0m\u001b[0m\n\u001b[1;32m--> 306\u001b[1;33m             \u001b[0mformat_dict\u001b[0m\u001b[1;33m,\u001b[0m \u001b[0mmd_dict\u001b[0m \u001b[1;33m=\u001b[0m \u001b[0mformat\u001b[0m\u001b[1;33m(\u001b[0m\u001b[0mobj\u001b[0m\u001b[1;33m,\u001b[0m \u001b[0minclude\u001b[0m\u001b[1;33m=\u001b[0m\u001b[0minclude\u001b[0m\u001b[1;33m,\u001b[0m \u001b[0mexclude\u001b[0m\u001b[1;33m=\u001b[0m\u001b[0mexclude\u001b[0m\u001b[1;33m)\u001b[0m\u001b[1;33m\u001b[0m\u001b[1;33m\u001b[0m\u001b[0m\n\u001b[0m\u001b[0;32m    307\u001b[0m             \u001b[1;32mif\u001b[0m \u001b[1;32mnot\u001b[0m \u001b[0mformat_dict\u001b[0m\u001b[1;33m:\u001b[0m\u001b[1;33m\u001b[0m\u001b[1;33m\u001b[0m\u001b[0m\n\u001b[0;32m    308\u001b[0m                 \u001b[1;31m# nothing to display (e.g. _ipython_display_ took over)\u001b[0m\u001b[1;33m\u001b[0m\u001b[1;33m\u001b[0m\u001b[1;33m\u001b[0m\u001b[0m\n",
      "\u001b[1;32m~\\Miniconda3\\envs\\satenv\\lib\\site-packages\\IPython\\core\\formatters.py\u001b[0m in \u001b[0;36mformat\u001b[1;34m(self, obj, include, exclude)\u001b[0m\n\u001b[0;32m    178\u001b[0m             \u001b[0mmd\u001b[0m \u001b[1;33m=\u001b[0m \u001b[1;32mNone\u001b[0m\u001b[1;33m\u001b[0m\u001b[1;33m\u001b[0m\u001b[0m\n\u001b[0;32m    179\u001b[0m             \u001b[1;32mtry\u001b[0m\u001b[1;33m:\u001b[0m\u001b[1;33m\u001b[0m\u001b[1;33m\u001b[0m\u001b[0m\n\u001b[1;32m--> 180\u001b[1;33m                 \u001b[0mdata\u001b[0m \u001b[1;33m=\u001b[0m \u001b[0mformatter\u001b[0m\u001b[1;33m(\u001b[0m\u001b[0mobj\u001b[0m\u001b[1;33m)\u001b[0m\u001b[1;33m\u001b[0m\u001b[1;33m\u001b[0m\u001b[0m\n\u001b[0m\u001b[0;32m    181\u001b[0m             \u001b[1;32mexcept\u001b[0m\u001b[1;33m:\u001b[0m\u001b[1;33m\u001b[0m\u001b[1;33m\u001b[0m\u001b[0m\n\u001b[0;32m    182\u001b[0m                 \u001b[1;31m# FIXME: log the exception\u001b[0m\u001b[1;33m\u001b[0m\u001b[1;33m\u001b[0m\u001b[1;33m\u001b[0m\u001b[0m\n",
      "\u001b[1;32m<C:\\Users\\gentemann\\Miniconda3\\envs\\satenv\\lib\\site-packages\\decorator.py:decorator-gen-9>\u001b[0m in \u001b[0;36m__call__\u001b[1;34m(self, obj)\u001b[0m\n",
      "\u001b[1;32m~\\Miniconda3\\envs\\satenv\\lib\\site-packages\\IPython\\core\\formatters.py\u001b[0m in \u001b[0;36mcatch_format_error\u001b[1;34m(method, self, *args, **kwargs)\u001b[0m\n\u001b[0;32m    222\u001b[0m     \u001b[1;34m\"\"\"show traceback on failed format call\"\"\"\u001b[0m\u001b[1;33m\u001b[0m\u001b[1;33m\u001b[0m\u001b[0m\n\u001b[0;32m    223\u001b[0m     \u001b[1;32mtry\u001b[0m\u001b[1;33m:\u001b[0m\u001b[1;33m\u001b[0m\u001b[1;33m\u001b[0m\u001b[0m\n\u001b[1;32m--> 224\u001b[1;33m         \u001b[0mr\u001b[0m \u001b[1;33m=\u001b[0m \u001b[0mmethod\u001b[0m\u001b[1;33m(\u001b[0m\u001b[0mself\u001b[0m\u001b[1;33m,\u001b[0m \u001b[1;33m*\u001b[0m\u001b[0margs\u001b[0m\u001b[1;33m,\u001b[0m \u001b[1;33m**\u001b[0m\u001b[0mkwargs\u001b[0m\u001b[1;33m)\u001b[0m\u001b[1;33m\u001b[0m\u001b[1;33m\u001b[0m\u001b[0m\n\u001b[0m\u001b[0;32m    225\u001b[0m     \u001b[1;32mexcept\u001b[0m \u001b[0mNotImplementedError\u001b[0m\u001b[1;33m:\u001b[0m\u001b[1;33m\u001b[0m\u001b[1;33m\u001b[0m\u001b[0m\n\u001b[0;32m    226\u001b[0m         \u001b[1;31m# don't warn on NotImplementedErrors\u001b[0m\u001b[1;33m\u001b[0m\u001b[1;33m\u001b[0m\u001b[1;33m\u001b[0m\u001b[0m\n",
      "\u001b[1;32m~\\Miniconda3\\envs\\satenv\\lib\\site-packages\\IPython\\core\\formatters.py\u001b[0m in \u001b[0;36m__call__\u001b[1;34m(self, obj)\u001b[0m\n\u001b[0;32m    339\u001b[0m                 \u001b[1;32mpass\u001b[0m\u001b[1;33m\u001b[0m\u001b[1;33m\u001b[0m\u001b[0m\n\u001b[0;32m    340\u001b[0m             \u001b[1;32melse\u001b[0m\u001b[1;33m:\u001b[0m\u001b[1;33m\u001b[0m\u001b[1;33m\u001b[0m\u001b[0m\n\u001b[1;32m--> 341\u001b[1;33m                 \u001b[1;32mreturn\u001b[0m \u001b[0mprinter\u001b[0m\u001b[1;33m(\u001b[0m\u001b[0mobj\u001b[0m\u001b[1;33m)\u001b[0m\u001b[1;33m\u001b[0m\u001b[1;33m\u001b[0m\u001b[0m\n\u001b[0m\u001b[0;32m    342\u001b[0m             \u001b[1;31m# Finally look for special method names\u001b[0m\u001b[1;33m\u001b[0m\u001b[1;33m\u001b[0m\u001b[1;33m\u001b[0m\u001b[0m\n\u001b[0;32m    343\u001b[0m             \u001b[0mmethod\u001b[0m \u001b[1;33m=\u001b[0m \u001b[0mget_real_method\u001b[0m\u001b[1;33m(\u001b[0m\u001b[0mobj\u001b[0m\u001b[1;33m,\u001b[0m \u001b[0mself\u001b[0m\u001b[1;33m.\u001b[0m\u001b[0mprint_method\u001b[0m\u001b[1;33m)\u001b[0m\u001b[1;33m\u001b[0m\u001b[1;33m\u001b[0m\u001b[0m\n",
      "\u001b[1;32m~\\Miniconda3\\envs\\satenv\\lib\\site-packages\\IPython\\core\\pylabtools.py\u001b[0m in \u001b[0;36m<lambda>\u001b[1;34m(fig)\u001b[0m\n\u001b[0;32m    242\u001b[0m \u001b[1;33m\u001b[0m\u001b[0m\n\u001b[0;32m    243\u001b[0m     \u001b[1;32mif\u001b[0m \u001b[1;34m'png'\u001b[0m \u001b[1;32min\u001b[0m \u001b[0mformats\u001b[0m\u001b[1;33m:\u001b[0m\u001b[1;33m\u001b[0m\u001b[1;33m\u001b[0m\u001b[0m\n\u001b[1;32m--> 244\u001b[1;33m         \u001b[0mpng_formatter\u001b[0m\u001b[1;33m.\u001b[0m\u001b[0mfor_type\u001b[0m\u001b[1;33m(\u001b[0m\u001b[0mFigure\u001b[0m\u001b[1;33m,\u001b[0m \u001b[1;32mlambda\u001b[0m \u001b[0mfig\u001b[0m\u001b[1;33m:\u001b[0m \u001b[0mprint_figure\u001b[0m\u001b[1;33m(\u001b[0m\u001b[0mfig\u001b[0m\u001b[1;33m,\u001b[0m \u001b[1;34m'png'\u001b[0m\u001b[1;33m,\u001b[0m \u001b[1;33m**\u001b[0m\u001b[0mkwargs\u001b[0m\u001b[1;33m)\u001b[0m\u001b[1;33m)\u001b[0m\u001b[1;33m\u001b[0m\u001b[1;33m\u001b[0m\u001b[0m\n\u001b[0m\u001b[0;32m    245\u001b[0m     \u001b[1;32mif\u001b[0m \u001b[1;34m'retina'\u001b[0m \u001b[1;32min\u001b[0m \u001b[0mformats\u001b[0m \u001b[1;32mor\u001b[0m \u001b[1;34m'png2x'\u001b[0m \u001b[1;32min\u001b[0m \u001b[0mformats\u001b[0m\u001b[1;33m:\u001b[0m\u001b[1;33m\u001b[0m\u001b[1;33m\u001b[0m\u001b[0m\n\u001b[0;32m    246\u001b[0m         \u001b[0mpng_formatter\u001b[0m\u001b[1;33m.\u001b[0m\u001b[0mfor_type\u001b[0m\u001b[1;33m(\u001b[0m\u001b[0mFigure\u001b[0m\u001b[1;33m,\u001b[0m \u001b[1;32mlambda\u001b[0m \u001b[0mfig\u001b[0m\u001b[1;33m:\u001b[0m \u001b[0mretina_figure\u001b[0m\u001b[1;33m(\u001b[0m\u001b[0mfig\u001b[0m\u001b[1;33m,\u001b[0m \u001b[1;33m**\u001b[0m\u001b[0mkwargs\u001b[0m\u001b[1;33m)\u001b[0m\u001b[1;33m)\u001b[0m\u001b[1;33m\u001b[0m\u001b[1;33m\u001b[0m\u001b[0m\n",
      "\u001b[1;32m~\\Miniconda3\\envs\\satenv\\lib\\site-packages\\IPython\\core\\pylabtools.py\u001b[0m in \u001b[0;36mprint_figure\u001b[1;34m(fig, fmt, bbox_inches, **kwargs)\u001b[0m\n\u001b[0;32m    126\u001b[0m \u001b[1;33m\u001b[0m\u001b[0m\n\u001b[0;32m    127\u001b[0m     \u001b[0mbytes_io\u001b[0m \u001b[1;33m=\u001b[0m \u001b[0mBytesIO\u001b[0m\u001b[1;33m(\u001b[0m\u001b[1;33m)\u001b[0m\u001b[1;33m\u001b[0m\u001b[1;33m\u001b[0m\u001b[0m\n\u001b[1;32m--> 128\u001b[1;33m     \u001b[0mfig\u001b[0m\u001b[1;33m.\u001b[0m\u001b[0mcanvas\u001b[0m\u001b[1;33m.\u001b[0m\u001b[0mprint_figure\u001b[0m\u001b[1;33m(\u001b[0m\u001b[0mbytes_io\u001b[0m\u001b[1;33m,\u001b[0m \u001b[1;33m**\u001b[0m\u001b[0mkw\u001b[0m\u001b[1;33m)\u001b[0m\u001b[1;33m\u001b[0m\u001b[1;33m\u001b[0m\u001b[0m\n\u001b[0m\u001b[0;32m    129\u001b[0m     \u001b[0mdata\u001b[0m \u001b[1;33m=\u001b[0m \u001b[0mbytes_io\u001b[0m\u001b[1;33m.\u001b[0m\u001b[0mgetvalue\u001b[0m\u001b[1;33m(\u001b[0m\u001b[1;33m)\u001b[0m\u001b[1;33m\u001b[0m\u001b[1;33m\u001b[0m\u001b[0m\n\u001b[0;32m    130\u001b[0m     \u001b[1;32mif\u001b[0m \u001b[0mfmt\u001b[0m \u001b[1;33m==\u001b[0m \u001b[1;34m'svg'\u001b[0m\u001b[1;33m:\u001b[0m\u001b[1;33m\u001b[0m\u001b[1;33m\u001b[0m\u001b[0m\n",
      "\u001b[1;32m~\\Miniconda3\\envs\\satenv\\lib\\site-packages\\matplotlib\\backend_bases.py\u001b[0m in \u001b[0;36mprint_figure\u001b[1;34m(self, filename, dpi, facecolor, edgecolor, orientation, format, bbox_inches, **kwargs)\u001b[0m\n\u001b[0;32m   2047\u001b[0m                         \u001b[0morientation\u001b[0m\u001b[1;33m=\u001b[0m\u001b[0morientation\u001b[0m\u001b[1;33m,\u001b[0m\u001b[1;33m\u001b[0m\u001b[1;33m\u001b[0m\u001b[0m\n\u001b[0;32m   2048\u001b[0m                         \u001b[0mdryrun\u001b[0m\u001b[1;33m=\u001b[0m\u001b[1;32mTrue\u001b[0m\u001b[1;33m,\u001b[0m\u001b[1;33m\u001b[0m\u001b[1;33m\u001b[0m\u001b[0m\n\u001b[1;32m-> 2049\u001b[1;33m                         **kwargs)\n\u001b[0m\u001b[0;32m   2050\u001b[0m                     \u001b[0mrenderer\u001b[0m \u001b[1;33m=\u001b[0m \u001b[0mself\u001b[0m\u001b[1;33m.\u001b[0m\u001b[0mfigure\u001b[0m\u001b[1;33m.\u001b[0m\u001b[0m_cachedRenderer\u001b[0m\u001b[1;33m\u001b[0m\u001b[1;33m\u001b[0m\u001b[0m\n\u001b[0;32m   2051\u001b[0m                     \u001b[0mbbox_artists\u001b[0m \u001b[1;33m=\u001b[0m \u001b[0mkwargs\u001b[0m\u001b[1;33m.\u001b[0m\u001b[0mpop\u001b[0m\u001b[1;33m(\u001b[0m\u001b[1;34m\"bbox_extra_artists\"\u001b[0m\u001b[1;33m,\u001b[0m \u001b[1;32mNone\u001b[0m\u001b[1;33m)\u001b[0m\u001b[1;33m\u001b[0m\u001b[1;33m\u001b[0m\u001b[0m\n",
      "\u001b[1;32m~\\Miniconda3\\envs\\satenv\\lib\\site-packages\\matplotlib\\backends\\backend_agg.py\u001b[0m in \u001b[0;36mprint_png\u001b[1;34m(self, filename_or_obj, *args, **kwargs)\u001b[0m\n\u001b[0;32m    508\u001b[0m \u001b[1;33m\u001b[0m\u001b[0m\n\u001b[0;32m    509\u001b[0m         \"\"\"\n\u001b[1;32m--> 510\u001b[1;33m         \u001b[0mFigureCanvasAgg\u001b[0m\u001b[1;33m.\u001b[0m\u001b[0mdraw\u001b[0m\u001b[1;33m(\u001b[0m\u001b[0mself\u001b[0m\u001b[1;33m)\u001b[0m\u001b[1;33m\u001b[0m\u001b[1;33m\u001b[0m\u001b[0m\n\u001b[0m\u001b[0;32m    511\u001b[0m         \u001b[0mrenderer\u001b[0m \u001b[1;33m=\u001b[0m \u001b[0mself\u001b[0m\u001b[1;33m.\u001b[0m\u001b[0mget_renderer\u001b[0m\u001b[1;33m(\u001b[0m\u001b[1;33m)\u001b[0m\u001b[1;33m\u001b[0m\u001b[1;33m\u001b[0m\u001b[0m\n\u001b[0;32m    512\u001b[0m \u001b[1;33m\u001b[0m\u001b[0m\n",
      "\u001b[1;32m~\\Miniconda3\\envs\\satenv\\lib\\site-packages\\matplotlib\\backends\\backend_agg.py\u001b[0m in \u001b[0;36mdraw\u001b[1;34m(self)\u001b[0m\n\u001b[0;32m    400\u001b[0m         \u001b[0mtoolbar\u001b[0m \u001b[1;33m=\u001b[0m \u001b[0mself\u001b[0m\u001b[1;33m.\u001b[0m\u001b[0mtoolbar\u001b[0m\u001b[1;33m\u001b[0m\u001b[1;33m\u001b[0m\u001b[0m\n\u001b[0;32m    401\u001b[0m         \u001b[1;32mtry\u001b[0m\u001b[1;33m:\u001b[0m\u001b[1;33m\u001b[0m\u001b[1;33m\u001b[0m\u001b[0m\n\u001b[1;32m--> 402\u001b[1;33m             \u001b[0mself\u001b[0m\u001b[1;33m.\u001b[0m\u001b[0mfigure\u001b[0m\u001b[1;33m.\u001b[0m\u001b[0mdraw\u001b[0m\u001b[1;33m(\u001b[0m\u001b[0mself\u001b[0m\u001b[1;33m.\u001b[0m\u001b[0mrenderer\u001b[0m\u001b[1;33m)\u001b[0m\u001b[1;33m\u001b[0m\u001b[1;33m\u001b[0m\u001b[0m\n\u001b[0m\u001b[0;32m    403\u001b[0m             \u001b[1;31m# A GUI class may be need to update a window using this draw, so\u001b[0m\u001b[1;33m\u001b[0m\u001b[1;33m\u001b[0m\u001b[1;33m\u001b[0m\u001b[0m\n\u001b[0;32m    404\u001b[0m             \u001b[1;31m# don't forget to call the superclass.\u001b[0m\u001b[1;33m\u001b[0m\u001b[1;33m\u001b[0m\u001b[1;33m\u001b[0m\u001b[0m\n",
      "\u001b[1;32m~\\Miniconda3\\envs\\satenv\\lib\\site-packages\\matplotlib\\artist.py\u001b[0m in \u001b[0;36mdraw_wrapper\u001b[1;34m(artist, renderer, *args, **kwargs)\u001b[0m\n\u001b[0;32m     48\u001b[0m                 \u001b[0mrenderer\u001b[0m\u001b[1;33m.\u001b[0m\u001b[0mstart_filter\u001b[0m\u001b[1;33m(\u001b[0m\u001b[1;33m)\u001b[0m\u001b[1;33m\u001b[0m\u001b[1;33m\u001b[0m\u001b[0m\n\u001b[0;32m     49\u001b[0m \u001b[1;33m\u001b[0m\u001b[0m\n\u001b[1;32m---> 50\u001b[1;33m             \u001b[1;32mreturn\u001b[0m \u001b[0mdraw\u001b[0m\u001b[1;33m(\u001b[0m\u001b[0martist\u001b[0m\u001b[1;33m,\u001b[0m \u001b[0mrenderer\u001b[0m\u001b[1;33m,\u001b[0m \u001b[1;33m*\u001b[0m\u001b[0margs\u001b[0m\u001b[1;33m,\u001b[0m \u001b[1;33m**\u001b[0m\u001b[0mkwargs\u001b[0m\u001b[1;33m)\u001b[0m\u001b[1;33m\u001b[0m\u001b[1;33m\u001b[0m\u001b[0m\n\u001b[0m\u001b[0;32m     51\u001b[0m         \u001b[1;32mfinally\u001b[0m\u001b[1;33m:\u001b[0m\u001b[1;33m\u001b[0m\u001b[1;33m\u001b[0m\u001b[0m\n\u001b[0;32m     52\u001b[0m             \u001b[1;32mif\u001b[0m \u001b[0martist\u001b[0m\u001b[1;33m.\u001b[0m\u001b[0mget_agg_filter\u001b[0m\u001b[1;33m(\u001b[0m\u001b[1;33m)\u001b[0m \u001b[1;32mis\u001b[0m \u001b[1;32mnot\u001b[0m \u001b[1;32mNone\u001b[0m\u001b[1;33m:\u001b[0m\u001b[1;33m\u001b[0m\u001b[1;33m\u001b[0m\u001b[0m\n",
      "\u001b[1;32m~\\Miniconda3\\envs\\satenv\\lib\\site-packages\\matplotlib\\figure.py\u001b[0m in \u001b[0;36mdraw\u001b[1;34m(self, renderer)\u001b[0m\n\u001b[0;32m   1647\u001b[0m \u001b[1;33m\u001b[0m\u001b[0m\n\u001b[0;32m   1648\u001b[0m             mimage._draw_list_compositing_images(\n\u001b[1;32m-> 1649\u001b[1;33m                 renderer, self, artists, self.suppressComposite)\n\u001b[0m\u001b[0;32m   1650\u001b[0m \u001b[1;33m\u001b[0m\u001b[0m\n\u001b[0;32m   1651\u001b[0m             \u001b[0mrenderer\u001b[0m\u001b[1;33m.\u001b[0m\u001b[0mclose_group\u001b[0m\u001b[1;33m(\u001b[0m\u001b[1;34m'figure'\u001b[0m\u001b[1;33m)\u001b[0m\u001b[1;33m\u001b[0m\u001b[1;33m\u001b[0m\u001b[0m\n",
      "\u001b[1;32m~\\Miniconda3\\envs\\satenv\\lib\\site-packages\\matplotlib\\image.py\u001b[0m in \u001b[0;36m_draw_list_compositing_images\u001b[1;34m(renderer, parent, artists, suppress_composite)\u001b[0m\n\u001b[0;32m    136\u001b[0m     \u001b[1;32mif\u001b[0m \u001b[0mnot_composite\u001b[0m \u001b[1;32mor\u001b[0m \u001b[1;32mnot\u001b[0m \u001b[0mhas_images\u001b[0m\u001b[1;33m:\u001b[0m\u001b[1;33m\u001b[0m\u001b[1;33m\u001b[0m\u001b[0m\n\u001b[0;32m    137\u001b[0m         \u001b[1;32mfor\u001b[0m \u001b[0ma\u001b[0m \u001b[1;32min\u001b[0m \u001b[0martists\u001b[0m\u001b[1;33m:\u001b[0m\u001b[1;33m\u001b[0m\u001b[1;33m\u001b[0m\u001b[0m\n\u001b[1;32m--> 138\u001b[1;33m             \u001b[0ma\u001b[0m\u001b[1;33m.\u001b[0m\u001b[0mdraw\u001b[0m\u001b[1;33m(\u001b[0m\u001b[0mrenderer\u001b[0m\u001b[1;33m)\u001b[0m\u001b[1;33m\u001b[0m\u001b[1;33m\u001b[0m\u001b[0m\n\u001b[0m\u001b[0;32m    139\u001b[0m     \u001b[1;32melse\u001b[0m\u001b[1;33m:\u001b[0m\u001b[1;33m\u001b[0m\u001b[1;33m\u001b[0m\u001b[0m\n\u001b[0;32m    140\u001b[0m         \u001b[1;31m# Composite any adjacent images together\u001b[0m\u001b[1;33m\u001b[0m\u001b[1;33m\u001b[0m\u001b[1;33m\u001b[0m\u001b[0m\n",
      "\u001b[1;32m~\\Miniconda3\\envs\\satenv\\lib\\site-packages\\matplotlib\\artist.py\u001b[0m in \u001b[0;36mdraw_wrapper\u001b[1;34m(artist, renderer, *args, **kwargs)\u001b[0m\n\u001b[0;32m     48\u001b[0m                 \u001b[0mrenderer\u001b[0m\u001b[1;33m.\u001b[0m\u001b[0mstart_filter\u001b[0m\u001b[1;33m(\u001b[0m\u001b[1;33m)\u001b[0m\u001b[1;33m\u001b[0m\u001b[1;33m\u001b[0m\u001b[0m\n\u001b[0;32m     49\u001b[0m \u001b[1;33m\u001b[0m\u001b[0m\n\u001b[1;32m---> 50\u001b[1;33m             \u001b[1;32mreturn\u001b[0m \u001b[0mdraw\u001b[0m\u001b[1;33m(\u001b[0m\u001b[0martist\u001b[0m\u001b[1;33m,\u001b[0m \u001b[0mrenderer\u001b[0m\u001b[1;33m,\u001b[0m \u001b[1;33m*\u001b[0m\u001b[0margs\u001b[0m\u001b[1;33m,\u001b[0m \u001b[1;33m**\u001b[0m\u001b[0mkwargs\u001b[0m\u001b[1;33m)\u001b[0m\u001b[1;33m\u001b[0m\u001b[1;33m\u001b[0m\u001b[0m\n\u001b[0m\u001b[0;32m     51\u001b[0m         \u001b[1;32mfinally\u001b[0m\u001b[1;33m:\u001b[0m\u001b[1;33m\u001b[0m\u001b[1;33m\u001b[0m\u001b[0m\n\u001b[0;32m     52\u001b[0m             \u001b[1;32mif\u001b[0m \u001b[0martist\u001b[0m\u001b[1;33m.\u001b[0m\u001b[0mget_agg_filter\u001b[0m\u001b[1;33m(\u001b[0m\u001b[1;33m)\u001b[0m \u001b[1;32mis\u001b[0m \u001b[1;32mnot\u001b[0m \u001b[1;32mNone\u001b[0m\u001b[1;33m:\u001b[0m\u001b[1;33m\u001b[0m\u001b[1;33m\u001b[0m\u001b[0m\n",
      "\u001b[1;32m~\\Miniconda3\\envs\\satenv\\lib\\site-packages\\cartopy\\mpl\\geoaxes.py\u001b[0m in \u001b[0;36mdraw\u001b[1;34m(self, renderer, inframe)\u001b[0m\n\u001b[0;32m    386\u001b[0m \u001b[1;33m\u001b[0m\u001b[0m\n\u001b[0;32m    387\u001b[0m         return matplotlib.axes.Axes.draw(self, renderer=renderer,\n\u001b[1;32m--> 388\u001b[1;33m                                          inframe=inframe)\n\u001b[0m\u001b[0;32m    389\u001b[0m \u001b[1;33m\u001b[0m\u001b[0m\n\u001b[0;32m    390\u001b[0m     \u001b[1;32mdef\u001b[0m \u001b[0m__str__\u001b[0m\u001b[1;33m(\u001b[0m\u001b[0mself\u001b[0m\u001b[1;33m)\u001b[0m\u001b[1;33m:\u001b[0m\u001b[1;33m\u001b[0m\u001b[1;33m\u001b[0m\u001b[0m\n",
      "\u001b[1;32m~\\Miniconda3\\envs\\satenv\\lib\\site-packages\\matplotlib\\artist.py\u001b[0m in \u001b[0;36mdraw_wrapper\u001b[1;34m(artist, renderer, *args, **kwargs)\u001b[0m\n\u001b[0;32m     48\u001b[0m                 \u001b[0mrenderer\u001b[0m\u001b[1;33m.\u001b[0m\u001b[0mstart_filter\u001b[0m\u001b[1;33m(\u001b[0m\u001b[1;33m)\u001b[0m\u001b[1;33m\u001b[0m\u001b[1;33m\u001b[0m\u001b[0m\n\u001b[0;32m     49\u001b[0m \u001b[1;33m\u001b[0m\u001b[0m\n\u001b[1;32m---> 50\u001b[1;33m             \u001b[1;32mreturn\u001b[0m \u001b[0mdraw\u001b[0m\u001b[1;33m(\u001b[0m\u001b[0martist\u001b[0m\u001b[1;33m,\u001b[0m \u001b[0mrenderer\u001b[0m\u001b[1;33m,\u001b[0m \u001b[1;33m*\u001b[0m\u001b[0margs\u001b[0m\u001b[1;33m,\u001b[0m \u001b[1;33m**\u001b[0m\u001b[0mkwargs\u001b[0m\u001b[1;33m)\u001b[0m\u001b[1;33m\u001b[0m\u001b[1;33m\u001b[0m\u001b[0m\n\u001b[0m\u001b[0;32m     51\u001b[0m         \u001b[1;32mfinally\u001b[0m\u001b[1;33m:\u001b[0m\u001b[1;33m\u001b[0m\u001b[1;33m\u001b[0m\u001b[0m\n\u001b[0;32m     52\u001b[0m             \u001b[1;32mif\u001b[0m \u001b[0martist\u001b[0m\u001b[1;33m.\u001b[0m\u001b[0mget_agg_filter\u001b[0m\u001b[1;33m(\u001b[0m\u001b[1;33m)\u001b[0m \u001b[1;32mis\u001b[0m \u001b[1;32mnot\u001b[0m \u001b[1;32mNone\u001b[0m\u001b[1;33m:\u001b[0m\u001b[1;33m\u001b[0m\u001b[1;33m\u001b[0m\u001b[0m\n",
      "\u001b[1;32m~\\Miniconda3\\envs\\satenv\\lib\\site-packages\\matplotlib\\axes\\_base.py\u001b[0m in \u001b[0;36mdraw\u001b[1;34m(self, renderer, inframe)\u001b[0m\n\u001b[0;32m   2626\u001b[0m             \u001b[0mrenderer\u001b[0m\u001b[1;33m.\u001b[0m\u001b[0mstop_rasterizing\u001b[0m\u001b[1;33m(\u001b[0m\u001b[1;33m)\u001b[0m\u001b[1;33m\u001b[0m\u001b[1;33m\u001b[0m\u001b[0m\n\u001b[0;32m   2627\u001b[0m \u001b[1;33m\u001b[0m\u001b[0m\n\u001b[1;32m-> 2628\u001b[1;33m         \u001b[0mmimage\u001b[0m\u001b[1;33m.\u001b[0m\u001b[0m_draw_list_compositing_images\u001b[0m\u001b[1;33m(\u001b[0m\u001b[0mrenderer\u001b[0m\u001b[1;33m,\u001b[0m \u001b[0mself\u001b[0m\u001b[1;33m,\u001b[0m \u001b[0martists\u001b[0m\u001b[1;33m)\u001b[0m\u001b[1;33m\u001b[0m\u001b[1;33m\u001b[0m\u001b[0m\n\u001b[0m\u001b[0;32m   2629\u001b[0m \u001b[1;33m\u001b[0m\u001b[0m\n\u001b[0;32m   2630\u001b[0m         \u001b[0mrenderer\u001b[0m\u001b[1;33m.\u001b[0m\u001b[0mclose_group\u001b[0m\u001b[1;33m(\u001b[0m\u001b[1;34m'axes'\u001b[0m\u001b[1;33m)\u001b[0m\u001b[1;33m\u001b[0m\u001b[1;33m\u001b[0m\u001b[0m\n",
      "\u001b[1;32m~\\Miniconda3\\envs\\satenv\\lib\\site-packages\\matplotlib\\image.py\u001b[0m in \u001b[0;36m_draw_list_compositing_images\u001b[1;34m(renderer, parent, artists, suppress_composite)\u001b[0m\n\u001b[0;32m    136\u001b[0m     \u001b[1;32mif\u001b[0m \u001b[0mnot_composite\u001b[0m \u001b[1;32mor\u001b[0m \u001b[1;32mnot\u001b[0m \u001b[0mhas_images\u001b[0m\u001b[1;33m:\u001b[0m\u001b[1;33m\u001b[0m\u001b[1;33m\u001b[0m\u001b[0m\n\u001b[0;32m    137\u001b[0m         \u001b[1;32mfor\u001b[0m \u001b[0ma\u001b[0m \u001b[1;32min\u001b[0m \u001b[0martists\u001b[0m\u001b[1;33m:\u001b[0m\u001b[1;33m\u001b[0m\u001b[1;33m\u001b[0m\u001b[0m\n\u001b[1;32m--> 138\u001b[1;33m             \u001b[0ma\u001b[0m\u001b[1;33m.\u001b[0m\u001b[0mdraw\u001b[0m\u001b[1;33m(\u001b[0m\u001b[0mrenderer\u001b[0m\u001b[1;33m)\u001b[0m\u001b[1;33m\u001b[0m\u001b[1;33m\u001b[0m\u001b[0m\n\u001b[0m\u001b[0;32m    139\u001b[0m     \u001b[1;32melse\u001b[0m\u001b[1;33m:\u001b[0m\u001b[1;33m\u001b[0m\u001b[1;33m\u001b[0m\u001b[0m\n\u001b[0;32m    140\u001b[0m         \u001b[1;31m# Composite any adjacent images together\u001b[0m\u001b[1;33m\u001b[0m\u001b[1;33m\u001b[0m\u001b[1;33m\u001b[0m\u001b[0m\n",
      "\u001b[1;32m~\\Miniconda3\\envs\\satenv\\lib\\site-packages\\matplotlib\\artist.py\u001b[0m in \u001b[0;36mdraw_wrapper\u001b[1;34m(artist, renderer, *args, **kwargs)\u001b[0m\n\u001b[0;32m     48\u001b[0m                 \u001b[0mrenderer\u001b[0m\u001b[1;33m.\u001b[0m\u001b[0mstart_filter\u001b[0m\u001b[1;33m(\u001b[0m\u001b[1;33m)\u001b[0m\u001b[1;33m\u001b[0m\u001b[1;33m\u001b[0m\u001b[0m\n\u001b[0;32m     49\u001b[0m \u001b[1;33m\u001b[0m\u001b[0m\n\u001b[1;32m---> 50\u001b[1;33m             \u001b[1;32mreturn\u001b[0m \u001b[0mdraw\u001b[0m\u001b[1;33m(\u001b[0m\u001b[0martist\u001b[0m\u001b[1;33m,\u001b[0m \u001b[0mrenderer\u001b[0m\u001b[1;33m,\u001b[0m \u001b[1;33m*\u001b[0m\u001b[0margs\u001b[0m\u001b[1;33m,\u001b[0m \u001b[1;33m**\u001b[0m\u001b[0mkwargs\u001b[0m\u001b[1;33m)\u001b[0m\u001b[1;33m\u001b[0m\u001b[1;33m\u001b[0m\u001b[0m\n\u001b[0m\u001b[0;32m     51\u001b[0m         \u001b[1;32mfinally\u001b[0m\u001b[1;33m:\u001b[0m\u001b[1;33m\u001b[0m\u001b[1;33m\u001b[0m\u001b[0m\n\u001b[0;32m     52\u001b[0m             \u001b[1;32mif\u001b[0m \u001b[0martist\u001b[0m\u001b[1;33m.\u001b[0m\u001b[0mget_agg_filter\u001b[0m\u001b[1;33m(\u001b[0m\u001b[1;33m)\u001b[0m \u001b[1;32mis\u001b[0m \u001b[1;32mnot\u001b[0m \u001b[1;32mNone\u001b[0m\u001b[1;33m:\u001b[0m\u001b[1;33m\u001b[0m\u001b[1;33m\u001b[0m\u001b[0m\n",
      "\u001b[1;32m~\\Miniconda3\\envs\\satenv\\lib\\site-packages\\matplotlib\\legend.py\u001b[0m in \u001b[0;36mdraw\u001b[1;34m(self, renderer)\u001b[0m\n\u001b[0;32m    634\u001b[0m         \u001b[1;31m# update the location and size of the legend. This needs to\u001b[0m\u001b[1;33m\u001b[0m\u001b[1;33m\u001b[0m\u001b[1;33m\u001b[0m\u001b[0m\n\u001b[0;32m    635\u001b[0m         \u001b[1;31m# be done in any case to clip the figure right.\u001b[0m\u001b[1;33m\u001b[0m\u001b[1;33m\u001b[0m\u001b[1;33m\u001b[0m\u001b[0m\n\u001b[1;32m--> 636\u001b[1;33m         \u001b[0mbbox\u001b[0m \u001b[1;33m=\u001b[0m \u001b[0mself\u001b[0m\u001b[1;33m.\u001b[0m\u001b[0m_legend_box\u001b[0m\u001b[1;33m.\u001b[0m\u001b[0mget_window_extent\u001b[0m\u001b[1;33m(\u001b[0m\u001b[0mrenderer\u001b[0m\u001b[1;33m)\u001b[0m\u001b[1;33m\u001b[0m\u001b[1;33m\u001b[0m\u001b[0m\n\u001b[0m\u001b[0;32m    637\u001b[0m         self.legendPatch.set_bounds(bbox.x0, bbox.y0,\n\u001b[0;32m    638\u001b[0m                                     bbox.width, bbox.height)\n",
      "\u001b[1;32m~\\Miniconda3\\envs\\satenv\\lib\\site-packages\\matplotlib\\offsetbox.py\u001b[0m in \u001b[0;36mget_window_extent\u001b[1;34m(self, renderer)\u001b[0m\n\u001b[0;32m    249\u001b[0m         '''\n\u001b[0;32m    250\u001b[0m         \u001b[0mw\u001b[0m\u001b[1;33m,\u001b[0m \u001b[0mh\u001b[0m\u001b[1;33m,\u001b[0m \u001b[0mxd\u001b[0m\u001b[1;33m,\u001b[0m \u001b[0myd\u001b[0m\u001b[1;33m,\u001b[0m \u001b[0moffsets\u001b[0m \u001b[1;33m=\u001b[0m \u001b[0mself\u001b[0m\u001b[1;33m.\u001b[0m\u001b[0mget_extent_offsets\u001b[0m\u001b[1;33m(\u001b[0m\u001b[0mrenderer\u001b[0m\u001b[1;33m)\u001b[0m\u001b[1;33m\u001b[0m\u001b[1;33m\u001b[0m\u001b[0m\n\u001b[1;32m--> 251\u001b[1;33m         \u001b[0mpx\u001b[0m\u001b[1;33m,\u001b[0m \u001b[0mpy\u001b[0m \u001b[1;33m=\u001b[0m \u001b[0mself\u001b[0m\u001b[1;33m.\u001b[0m\u001b[0mget_offset\u001b[0m\u001b[1;33m(\u001b[0m\u001b[0mw\u001b[0m\u001b[1;33m,\u001b[0m \u001b[0mh\u001b[0m\u001b[1;33m,\u001b[0m \u001b[0mxd\u001b[0m\u001b[1;33m,\u001b[0m \u001b[0myd\u001b[0m\u001b[1;33m,\u001b[0m \u001b[0mrenderer\u001b[0m\u001b[1;33m)\u001b[0m\u001b[1;33m\u001b[0m\u001b[1;33m\u001b[0m\u001b[0m\n\u001b[0m\u001b[0;32m    252\u001b[0m         \u001b[1;32mreturn\u001b[0m \u001b[0mmtransforms\u001b[0m\u001b[1;33m.\u001b[0m\u001b[0mBbox\u001b[0m\u001b[1;33m.\u001b[0m\u001b[0mfrom_bounds\u001b[0m\u001b[1;33m(\u001b[0m\u001b[0mpx\u001b[0m \u001b[1;33m-\u001b[0m \u001b[0mxd\u001b[0m\u001b[1;33m,\u001b[0m \u001b[0mpy\u001b[0m \u001b[1;33m-\u001b[0m \u001b[0myd\u001b[0m\u001b[1;33m,\u001b[0m \u001b[0mw\u001b[0m\u001b[1;33m,\u001b[0m \u001b[0mh\u001b[0m\u001b[1;33m)\u001b[0m\u001b[1;33m\u001b[0m\u001b[1;33m\u001b[0m\u001b[0m\n\u001b[0;32m    253\u001b[0m \u001b[1;33m\u001b[0m\u001b[0m\n",
      "\u001b[1;32m~\\Miniconda3\\envs\\satenv\\lib\\site-packages\\matplotlib\\offsetbox.py\u001b[0m in \u001b[0;36mget_offset\u001b[1;34m(self, width, height, xdescent, ydescent, renderer)\u001b[0m\n\u001b[0;32m    201\u001b[0m         \"\"\"\n\u001b[0;32m    202\u001b[0m         return (self._offset(width, height, xdescent, ydescent, renderer)\n\u001b[1;32m--> 203\u001b[1;33m                 \u001b[1;32mif\u001b[0m \u001b[0mcallable\u001b[0m\u001b[1;33m(\u001b[0m\u001b[0mself\u001b[0m\u001b[1;33m.\u001b[0m\u001b[0m_offset\u001b[0m\u001b[1;33m)\u001b[0m\u001b[1;33m\u001b[0m\u001b[1;33m\u001b[0m\u001b[0m\n\u001b[0m\u001b[0;32m    204\u001b[0m                 else self._offset)\n\u001b[0;32m    205\u001b[0m \u001b[1;33m\u001b[0m\u001b[0m\n",
      "\u001b[1;32m~\\Miniconda3\\envs\\satenv\\lib\\site-packages\\matplotlib\\legend.py\u001b[0m in \u001b[0;36m_findoffset\u001b[1;34m(self, width, height, xdescent, ydescent, renderer)\u001b[0m\n\u001b[0;32m    603\u001b[0m \u001b[1;33m\u001b[0m\u001b[0m\n\u001b[0;32m    604\u001b[0m         \u001b[1;32mif\u001b[0m \u001b[0mself\u001b[0m\u001b[1;33m.\u001b[0m\u001b[0m_loc\u001b[0m \u001b[1;33m==\u001b[0m \u001b[1;36m0\u001b[0m\u001b[1;33m:\u001b[0m  \u001b[1;31m# \"best\".\u001b[0m\u001b[1;33m\u001b[0m\u001b[1;33m\u001b[0m\u001b[0m\n\u001b[1;32m--> 605\u001b[1;33m             \u001b[0mx\u001b[0m\u001b[1;33m,\u001b[0m \u001b[0my\u001b[0m \u001b[1;33m=\u001b[0m \u001b[0mself\u001b[0m\u001b[1;33m.\u001b[0m\u001b[0m_find_best_position\u001b[0m\u001b[1;33m(\u001b[0m\u001b[0mwidth\u001b[0m\u001b[1;33m,\u001b[0m \u001b[0mheight\u001b[0m\u001b[1;33m,\u001b[0m \u001b[0mrenderer\u001b[0m\u001b[1;33m)\u001b[0m\u001b[1;33m\u001b[0m\u001b[1;33m\u001b[0m\u001b[0m\n\u001b[0m\u001b[0;32m    606\u001b[0m         \u001b[1;32melif\u001b[0m \u001b[0mself\u001b[0m\u001b[1;33m.\u001b[0m\u001b[0m_loc\u001b[0m \u001b[1;32min\u001b[0m \u001b[0mLegend\u001b[0m\u001b[1;33m.\u001b[0m\u001b[0mcodes\u001b[0m\u001b[1;33m.\u001b[0m\u001b[0mvalues\u001b[0m\u001b[1;33m(\u001b[0m\u001b[1;33m)\u001b[0m\u001b[1;33m:\u001b[0m  \u001b[1;31m# Fixed location.\u001b[0m\u001b[1;33m\u001b[0m\u001b[1;33m\u001b[0m\u001b[0m\n\u001b[0;32m    607\u001b[0m             \u001b[0mbbox\u001b[0m \u001b[1;33m=\u001b[0m \u001b[0mBbox\u001b[0m\u001b[1;33m.\u001b[0m\u001b[0mfrom_bounds\u001b[0m\u001b[1;33m(\u001b[0m\u001b[1;36m0\u001b[0m\u001b[1;33m,\u001b[0m \u001b[1;36m0\u001b[0m\u001b[1;33m,\u001b[0m \u001b[0mwidth\u001b[0m\u001b[1;33m,\u001b[0m \u001b[0mheight\u001b[0m\u001b[1;33m)\u001b[0m\u001b[1;33m\u001b[0m\u001b[1;33m\u001b[0m\u001b[0m\n",
      "\u001b[1;32m~\\Miniconda3\\envs\\satenv\\lib\\site-packages\\matplotlib\\legend.py\u001b[0m in \u001b[0;36m_find_best_position\u001b[1;34m(self, width, height, renderer, consider)\u001b[0m\n\u001b[0;32m   1125\u001b[0m                        \u001b[1;33m+\u001b[0m \u001b[0mlegendBox\u001b[0m\u001b[1;33m.\u001b[0m\u001b[0mcount_contains\u001b[0m\u001b[1;33m(\u001b[0m\u001b[0moffsets\u001b[0m\u001b[1;33m)\u001b[0m\u001b[1;33m\u001b[0m\u001b[1;33m\u001b[0m\u001b[0m\n\u001b[0;32m   1126\u001b[0m                        \u001b[1;33m+\u001b[0m \u001b[0mlegendBox\u001b[0m\u001b[1;33m.\u001b[0m\u001b[0mcount_overlaps\u001b[0m\u001b[1;33m(\u001b[0m\u001b[0mbboxes\u001b[0m\u001b[1;33m)\u001b[0m\u001b[1;33m\u001b[0m\u001b[1;33m\u001b[0m\u001b[0m\n\u001b[1;32m-> 1127\u001b[1;33m                        + sum(line.intersects_bbox(legendBox, filled=False)\n\u001b[0m\u001b[0;32m   1128\u001b[0m                              for line in lines))\n\u001b[0;32m   1129\u001b[0m             \u001b[1;32mif\u001b[0m \u001b[0mbadness\u001b[0m \u001b[1;33m==\u001b[0m \u001b[1;36m0\u001b[0m\u001b[1;33m:\u001b[0m\u001b[1;33m\u001b[0m\u001b[1;33m\u001b[0m\u001b[0m\n",
      "\u001b[1;32m~\\Miniconda3\\envs\\satenv\\lib\\site-packages\\matplotlib\\transforms.py\u001b[0m in \u001b[0;36mcount_contains\u001b[1;34m(self, vertices)\u001b[0m\n\u001b[0;32m    658\u001b[0m         \u001b[1;32mif\u001b[0m \u001b[0mlen\u001b[0m\u001b[1;33m(\u001b[0m\u001b[0mvertices\u001b[0m\u001b[1;33m)\u001b[0m \u001b[1;33m==\u001b[0m \u001b[1;36m0\u001b[0m\u001b[1;33m:\u001b[0m\u001b[1;33m\u001b[0m\u001b[1;33m\u001b[0m\u001b[0m\n\u001b[0;32m    659\u001b[0m             \u001b[1;32mreturn\u001b[0m \u001b[1;36m0\u001b[0m\u001b[1;33m\u001b[0m\u001b[1;33m\u001b[0m\u001b[0m\n\u001b[1;32m--> 660\u001b[1;33m         \u001b[0mvertices\u001b[0m \u001b[1;33m=\u001b[0m \u001b[0mnp\u001b[0m\u001b[1;33m.\u001b[0m\u001b[0masarray\u001b[0m\u001b[1;33m(\u001b[0m\u001b[0mvertices\u001b[0m\u001b[1;33m)\u001b[0m\u001b[1;33m\u001b[0m\u001b[1;33m\u001b[0m\u001b[0m\n\u001b[0m\u001b[0;32m    661\u001b[0m         \u001b[1;32mwith\u001b[0m \u001b[0mnp\u001b[0m\u001b[1;33m.\u001b[0m\u001b[0merrstate\u001b[0m\u001b[1;33m(\u001b[0m\u001b[0minvalid\u001b[0m\u001b[1;33m=\u001b[0m\u001b[1;34m'ignore'\u001b[0m\u001b[1;33m)\u001b[0m\u001b[1;33m:\u001b[0m\u001b[1;33m\u001b[0m\u001b[1;33m\u001b[0m\u001b[0m\n\u001b[0;32m    662\u001b[0m             return (((self.min < vertices) &\n",
      "\u001b[1;32m~\\Miniconda3\\envs\\satenv\\lib\\site-packages\\numpy\\core\\_asarray.py\u001b[0m in \u001b[0;36masarray\u001b[1;34m(a, dtype, order)\u001b[0m\n\u001b[0;32m     83\u001b[0m \u001b[1;33m\u001b[0m\u001b[0m\n\u001b[0;32m     84\u001b[0m     \"\"\"\n\u001b[1;32m---> 85\u001b[1;33m     \u001b[1;32mreturn\u001b[0m \u001b[0marray\u001b[0m\u001b[1;33m(\u001b[0m\u001b[0ma\u001b[0m\u001b[1;33m,\u001b[0m \u001b[0mdtype\u001b[0m\u001b[1;33m,\u001b[0m \u001b[0mcopy\u001b[0m\u001b[1;33m=\u001b[0m\u001b[1;32mFalse\u001b[0m\u001b[1;33m,\u001b[0m \u001b[0morder\u001b[0m\u001b[1;33m=\u001b[0m\u001b[0morder\u001b[0m\u001b[1;33m)\u001b[0m\u001b[1;33m\u001b[0m\u001b[1;33m\u001b[0m\u001b[0m\n\u001b[0m\u001b[0;32m     86\u001b[0m \u001b[1;33m\u001b[0m\u001b[0m\n\u001b[0;32m     87\u001b[0m \u001b[1;33m\u001b[0m\u001b[0m\n",
      "\u001b[1;31mKeyboardInterrupt\u001b[0m: "
     ]
    }
   ],
   "source": [
    "import cartopy.crs as ccrs                   # import projections\n",
    "import cartopy.feature as cf                 # import features\n",
    "fig = plt.figure(figsize=(8,12))\n",
    "ax = plt.axes(projection = ccrs.NorthPolarStereo(central_longitude=180.0))  # create a set of axes with Mercator projection\n",
    "for i in range(5):\n",
    "    im=ax.scatter(ds2.lon[i,:],ds2.lat[i,:],c=ds2.TEMP_SBE37_MEAN[i,:],s=.15,transform=ccrs.PlateCarree(),label=ds2.trajectory[i].data)\n",
    "ax.coastlines(resolution='10m')                \n",
    "ax.set_extent([-180,-160,50,77])\n",
    "ax.legend()\n",
    "cax = fig.add_axes([0.45, 0.17, 0.3, 0.02])\n",
    "cbar = fig.colorbar(im,cax=cax, orientation='horizontal')\n",
    "cbar.set_label('SST ($^\\deg$C)')\n",
    "fig.savefig(fig_dir+'figs/map_all_data.png')"
   ]
  },
  {
   "cell_type": "code",
   "execution_count": 11,
   "metadata": {},
   "outputs": [
    {
     "ename": "KeyboardInterrupt",
     "evalue": "",
     "output_type": "error",
     "traceback": [
      "\u001b[1;31m---------------------------------------------------------------------------\u001b[0m",
      "\u001b[1;31mKeyboardInterrupt\u001b[0m                         Traceback (most recent call last)",
      "\u001b[1;32m<ipython-input-11-63b035b69ca9>\u001b[0m in \u001b[0;36m<module>\u001b[1;34m\u001b[0m\n\u001b[0;32m     12\u001b[0m \u001b[0mcbar\u001b[0m \u001b[1;33m=\u001b[0m \u001b[0mfig\u001b[0m\u001b[1;33m.\u001b[0m\u001b[0mcolorbar\u001b[0m\u001b[1;33m(\u001b[0m\u001b[0mim\u001b[0m\u001b[1;33m,\u001b[0m\u001b[0mcax\u001b[0m\u001b[1;33m=\u001b[0m\u001b[0mcax\u001b[0m\u001b[1;33m,\u001b[0m \u001b[0morientation\u001b[0m\u001b[1;33m=\u001b[0m\u001b[1;34m'horizontal'\u001b[0m\u001b[1;33m)\u001b[0m\u001b[1;33m\u001b[0m\u001b[1;33m\u001b[0m\u001b[0m\n\u001b[0;32m     13\u001b[0m \u001b[0mcbar\u001b[0m\u001b[1;33m.\u001b[0m\u001b[0mset_label\u001b[0m\u001b[1;33m(\u001b[0m\u001b[1;34m'$\\Delta$ T (air=sea) ($^\\deg$C)'\u001b[0m\u001b[1;33m)\u001b[0m\u001b[1;33m\u001b[0m\u001b[1;33m\u001b[0m\u001b[0m\n\u001b[1;32m---> 14\u001b[1;33m \u001b[0mfig\u001b[0m\u001b[1;33m.\u001b[0m\u001b[0msavefig\u001b[0m\u001b[1;33m(\u001b[0m\u001b[0mfig_dir\u001b[0m\u001b[1;33m+\u001b[0m\u001b[1;34m'figs/map_all_data_airseadif.png'\u001b[0m\u001b[1;33m)\u001b[0m\u001b[1;33m\u001b[0m\u001b[1;33m\u001b[0m\u001b[0m\n\u001b[0m",
      "\u001b[1;32m~\\Miniconda3\\envs\\satenv\\lib\\site-packages\\matplotlib\\figure.py\u001b[0m in \u001b[0;36msavefig\u001b[1;34m(self, fname, frameon, transparent, **kwargs)\u001b[0m\n\u001b[0;32m   2092\u001b[0m             \u001b[0mself\u001b[0m\u001b[1;33m.\u001b[0m\u001b[0mset_frameon\u001b[0m\u001b[1;33m(\u001b[0m\u001b[0mframeon\u001b[0m\u001b[1;33m)\u001b[0m\u001b[1;33m\u001b[0m\u001b[1;33m\u001b[0m\u001b[0m\n\u001b[0;32m   2093\u001b[0m \u001b[1;33m\u001b[0m\u001b[0m\n\u001b[1;32m-> 2094\u001b[1;33m         \u001b[0mself\u001b[0m\u001b[1;33m.\u001b[0m\u001b[0mcanvas\u001b[0m\u001b[1;33m.\u001b[0m\u001b[0mprint_figure\u001b[0m\u001b[1;33m(\u001b[0m\u001b[0mfname\u001b[0m\u001b[1;33m,\u001b[0m \u001b[1;33m**\u001b[0m\u001b[0mkwargs\u001b[0m\u001b[1;33m)\u001b[0m\u001b[1;33m\u001b[0m\u001b[1;33m\u001b[0m\u001b[0m\n\u001b[0m\u001b[0;32m   2095\u001b[0m \u001b[1;33m\u001b[0m\u001b[0m\n\u001b[0;32m   2096\u001b[0m         \u001b[1;32mif\u001b[0m \u001b[0mframeon\u001b[0m\u001b[1;33m:\u001b[0m\u001b[1;33m\u001b[0m\u001b[1;33m\u001b[0m\u001b[0m\n",
      "\u001b[1;32m~\\Miniconda3\\envs\\satenv\\lib\\site-packages\\matplotlib\\backend_bases.py\u001b[0m in \u001b[0;36mprint_figure\u001b[1;34m(self, filename, dpi, facecolor, edgecolor, orientation, format, bbox_inches, **kwargs)\u001b[0m\n\u001b[0;32m   2073\u001b[0m                     \u001b[0morientation\u001b[0m\u001b[1;33m=\u001b[0m\u001b[0morientation\u001b[0m\u001b[1;33m,\u001b[0m\u001b[1;33m\u001b[0m\u001b[1;33m\u001b[0m\u001b[0m\n\u001b[0;32m   2074\u001b[0m                     \u001b[0mbbox_inches_restore\u001b[0m\u001b[1;33m=\u001b[0m\u001b[0m_bbox_inches_restore\u001b[0m\u001b[1;33m,\u001b[0m\u001b[1;33m\u001b[0m\u001b[1;33m\u001b[0m\u001b[0m\n\u001b[1;32m-> 2075\u001b[1;33m                     **kwargs)\n\u001b[0m\u001b[0;32m   2076\u001b[0m             \u001b[1;32mfinally\u001b[0m\u001b[1;33m:\u001b[0m\u001b[1;33m\u001b[0m\u001b[1;33m\u001b[0m\u001b[0m\n\u001b[0;32m   2077\u001b[0m                 \u001b[1;32mif\u001b[0m \u001b[0mbbox_inches\u001b[0m \u001b[1;32mand\u001b[0m \u001b[0mrestore_bbox\u001b[0m\u001b[1;33m:\u001b[0m\u001b[1;33m\u001b[0m\u001b[1;33m\u001b[0m\u001b[0m\n",
      "\u001b[1;32m~\\Miniconda3\\envs\\satenv\\lib\\site-packages\\matplotlib\\backends\\backend_agg.py\u001b[0m in \u001b[0;36mprint_png\u001b[1;34m(self, filename_or_obj, *args, **kwargs)\u001b[0m\n\u001b[0;32m    508\u001b[0m \u001b[1;33m\u001b[0m\u001b[0m\n\u001b[0;32m    509\u001b[0m         \"\"\"\n\u001b[1;32m--> 510\u001b[1;33m         \u001b[0mFigureCanvasAgg\u001b[0m\u001b[1;33m.\u001b[0m\u001b[0mdraw\u001b[0m\u001b[1;33m(\u001b[0m\u001b[0mself\u001b[0m\u001b[1;33m)\u001b[0m\u001b[1;33m\u001b[0m\u001b[1;33m\u001b[0m\u001b[0m\n\u001b[0m\u001b[0;32m    511\u001b[0m         \u001b[0mrenderer\u001b[0m \u001b[1;33m=\u001b[0m \u001b[0mself\u001b[0m\u001b[1;33m.\u001b[0m\u001b[0mget_renderer\u001b[0m\u001b[1;33m(\u001b[0m\u001b[1;33m)\u001b[0m\u001b[1;33m\u001b[0m\u001b[1;33m\u001b[0m\u001b[0m\n\u001b[0;32m    512\u001b[0m \u001b[1;33m\u001b[0m\u001b[0m\n",
      "\u001b[1;32m~\\Miniconda3\\envs\\satenv\\lib\\site-packages\\matplotlib\\backends\\backend_agg.py\u001b[0m in \u001b[0;36mdraw\u001b[1;34m(self)\u001b[0m\n\u001b[0;32m    400\u001b[0m         \u001b[0mtoolbar\u001b[0m \u001b[1;33m=\u001b[0m \u001b[0mself\u001b[0m\u001b[1;33m.\u001b[0m\u001b[0mtoolbar\u001b[0m\u001b[1;33m\u001b[0m\u001b[1;33m\u001b[0m\u001b[0m\n\u001b[0;32m    401\u001b[0m         \u001b[1;32mtry\u001b[0m\u001b[1;33m:\u001b[0m\u001b[1;33m\u001b[0m\u001b[1;33m\u001b[0m\u001b[0m\n\u001b[1;32m--> 402\u001b[1;33m             \u001b[0mself\u001b[0m\u001b[1;33m.\u001b[0m\u001b[0mfigure\u001b[0m\u001b[1;33m.\u001b[0m\u001b[0mdraw\u001b[0m\u001b[1;33m(\u001b[0m\u001b[0mself\u001b[0m\u001b[1;33m.\u001b[0m\u001b[0mrenderer\u001b[0m\u001b[1;33m)\u001b[0m\u001b[1;33m\u001b[0m\u001b[1;33m\u001b[0m\u001b[0m\n\u001b[0m\u001b[0;32m    403\u001b[0m             \u001b[1;31m# A GUI class may be need to update a window using this draw, so\u001b[0m\u001b[1;33m\u001b[0m\u001b[1;33m\u001b[0m\u001b[1;33m\u001b[0m\u001b[0m\n\u001b[0;32m    404\u001b[0m             \u001b[1;31m# don't forget to call the superclass.\u001b[0m\u001b[1;33m\u001b[0m\u001b[1;33m\u001b[0m\u001b[1;33m\u001b[0m\u001b[0m\n",
      "\u001b[1;32m~\\Miniconda3\\envs\\satenv\\lib\\site-packages\\matplotlib\\artist.py\u001b[0m in \u001b[0;36mdraw_wrapper\u001b[1;34m(artist, renderer, *args, **kwargs)\u001b[0m\n\u001b[0;32m     48\u001b[0m                 \u001b[0mrenderer\u001b[0m\u001b[1;33m.\u001b[0m\u001b[0mstart_filter\u001b[0m\u001b[1;33m(\u001b[0m\u001b[1;33m)\u001b[0m\u001b[1;33m\u001b[0m\u001b[1;33m\u001b[0m\u001b[0m\n\u001b[0;32m     49\u001b[0m \u001b[1;33m\u001b[0m\u001b[0m\n\u001b[1;32m---> 50\u001b[1;33m             \u001b[1;32mreturn\u001b[0m \u001b[0mdraw\u001b[0m\u001b[1;33m(\u001b[0m\u001b[0martist\u001b[0m\u001b[1;33m,\u001b[0m \u001b[0mrenderer\u001b[0m\u001b[1;33m,\u001b[0m \u001b[1;33m*\u001b[0m\u001b[0margs\u001b[0m\u001b[1;33m,\u001b[0m \u001b[1;33m**\u001b[0m\u001b[0mkwargs\u001b[0m\u001b[1;33m)\u001b[0m\u001b[1;33m\u001b[0m\u001b[1;33m\u001b[0m\u001b[0m\n\u001b[0m\u001b[0;32m     51\u001b[0m         \u001b[1;32mfinally\u001b[0m\u001b[1;33m:\u001b[0m\u001b[1;33m\u001b[0m\u001b[1;33m\u001b[0m\u001b[0m\n\u001b[0;32m     52\u001b[0m             \u001b[1;32mif\u001b[0m \u001b[0martist\u001b[0m\u001b[1;33m.\u001b[0m\u001b[0mget_agg_filter\u001b[0m\u001b[1;33m(\u001b[0m\u001b[1;33m)\u001b[0m \u001b[1;32mis\u001b[0m \u001b[1;32mnot\u001b[0m \u001b[1;32mNone\u001b[0m\u001b[1;33m:\u001b[0m\u001b[1;33m\u001b[0m\u001b[1;33m\u001b[0m\u001b[0m\n",
      "\u001b[1;32m~\\Miniconda3\\envs\\satenv\\lib\\site-packages\\matplotlib\\figure.py\u001b[0m in \u001b[0;36mdraw\u001b[1;34m(self, renderer)\u001b[0m\n\u001b[0;32m   1647\u001b[0m \u001b[1;33m\u001b[0m\u001b[0m\n\u001b[0;32m   1648\u001b[0m             mimage._draw_list_compositing_images(\n\u001b[1;32m-> 1649\u001b[1;33m                 renderer, self, artists, self.suppressComposite)\n\u001b[0m\u001b[0;32m   1650\u001b[0m \u001b[1;33m\u001b[0m\u001b[0m\n\u001b[0;32m   1651\u001b[0m             \u001b[0mrenderer\u001b[0m\u001b[1;33m.\u001b[0m\u001b[0mclose_group\u001b[0m\u001b[1;33m(\u001b[0m\u001b[1;34m'figure'\u001b[0m\u001b[1;33m)\u001b[0m\u001b[1;33m\u001b[0m\u001b[1;33m\u001b[0m\u001b[0m\n",
      "\u001b[1;32m~\\Miniconda3\\envs\\satenv\\lib\\site-packages\\matplotlib\\image.py\u001b[0m in \u001b[0;36m_draw_list_compositing_images\u001b[1;34m(renderer, parent, artists, suppress_composite)\u001b[0m\n\u001b[0;32m    136\u001b[0m     \u001b[1;32mif\u001b[0m \u001b[0mnot_composite\u001b[0m \u001b[1;32mor\u001b[0m \u001b[1;32mnot\u001b[0m \u001b[0mhas_images\u001b[0m\u001b[1;33m:\u001b[0m\u001b[1;33m\u001b[0m\u001b[1;33m\u001b[0m\u001b[0m\n\u001b[0;32m    137\u001b[0m         \u001b[1;32mfor\u001b[0m \u001b[0ma\u001b[0m \u001b[1;32min\u001b[0m \u001b[0martists\u001b[0m\u001b[1;33m:\u001b[0m\u001b[1;33m\u001b[0m\u001b[1;33m\u001b[0m\u001b[0m\n\u001b[1;32m--> 138\u001b[1;33m             \u001b[0ma\u001b[0m\u001b[1;33m.\u001b[0m\u001b[0mdraw\u001b[0m\u001b[1;33m(\u001b[0m\u001b[0mrenderer\u001b[0m\u001b[1;33m)\u001b[0m\u001b[1;33m\u001b[0m\u001b[1;33m\u001b[0m\u001b[0m\n\u001b[0m\u001b[0;32m    139\u001b[0m     \u001b[1;32melse\u001b[0m\u001b[1;33m:\u001b[0m\u001b[1;33m\u001b[0m\u001b[1;33m\u001b[0m\u001b[0m\n\u001b[0;32m    140\u001b[0m         \u001b[1;31m# Composite any adjacent images together\u001b[0m\u001b[1;33m\u001b[0m\u001b[1;33m\u001b[0m\u001b[1;33m\u001b[0m\u001b[0m\n",
      "\u001b[1;32m~\\Miniconda3\\envs\\satenv\\lib\\site-packages\\matplotlib\\artist.py\u001b[0m in \u001b[0;36mdraw_wrapper\u001b[1;34m(artist, renderer, *args, **kwargs)\u001b[0m\n\u001b[0;32m     48\u001b[0m                 \u001b[0mrenderer\u001b[0m\u001b[1;33m.\u001b[0m\u001b[0mstart_filter\u001b[0m\u001b[1;33m(\u001b[0m\u001b[1;33m)\u001b[0m\u001b[1;33m\u001b[0m\u001b[1;33m\u001b[0m\u001b[0m\n\u001b[0;32m     49\u001b[0m \u001b[1;33m\u001b[0m\u001b[0m\n\u001b[1;32m---> 50\u001b[1;33m             \u001b[1;32mreturn\u001b[0m \u001b[0mdraw\u001b[0m\u001b[1;33m(\u001b[0m\u001b[0martist\u001b[0m\u001b[1;33m,\u001b[0m \u001b[0mrenderer\u001b[0m\u001b[1;33m,\u001b[0m \u001b[1;33m*\u001b[0m\u001b[0margs\u001b[0m\u001b[1;33m,\u001b[0m \u001b[1;33m**\u001b[0m\u001b[0mkwargs\u001b[0m\u001b[1;33m)\u001b[0m\u001b[1;33m\u001b[0m\u001b[1;33m\u001b[0m\u001b[0m\n\u001b[0m\u001b[0;32m     51\u001b[0m         \u001b[1;32mfinally\u001b[0m\u001b[1;33m:\u001b[0m\u001b[1;33m\u001b[0m\u001b[1;33m\u001b[0m\u001b[0m\n\u001b[0;32m     52\u001b[0m             \u001b[1;32mif\u001b[0m \u001b[0martist\u001b[0m\u001b[1;33m.\u001b[0m\u001b[0mget_agg_filter\u001b[0m\u001b[1;33m(\u001b[0m\u001b[1;33m)\u001b[0m \u001b[1;32mis\u001b[0m \u001b[1;32mnot\u001b[0m \u001b[1;32mNone\u001b[0m\u001b[1;33m:\u001b[0m\u001b[1;33m\u001b[0m\u001b[1;33m\u001b[0m\u001b[0m\n",
      "\u001b[1;32m~\\Miniconda3\\envs\\satenv\\lib\\site-packages\\cartopy\\mpl\\geoaxes.py\u001b[0m in \u001b[0;36mdraw\u001b[1;34m(self, renderer, inframe)\u001b[0m\n\u001b[0;32m    386\u001b[0m \u001b[1;33m\u001b[0m\u001b[0m\n\u001b[0;32m    387\u001b[0m         return matplotlib.axes.Axes.draw(self, renderer=renderer,\n\u001b[1;32m--> 388\u001b[1;33m                                          inframe=inframe)\n\u001b[0m\u001b[0;32m    389\u001b[0m \u001b[1;33m\u001b[0m\u001b[0m\n\u001b[0;32m    390\u001b[0m     \u001b[1;32mdef\u001b[0m \u001b[0m__str__\u001b[0m\u001b[1;33m(\u001b[0m\u001b[0mself\u001b[0m\u001b[1;33m)\u001b[0m\u001b[1;33m:\u001b[0m\u001b[1;33m\u001b[0m\u001b[1;33m\u001b[0m\u001b[0m\n",
      "\u001b[1;32m~\\Miniconda3\\envs\\satenv\\lib\\site-packages\\matplotlib\\artist.py\u001b[0m in \u001b[0;36mdraw_wrapper\u001b[1;34m(artist, renderer, *args, **kwargs)\u001b[0m\n\u001b[0;32m     48\u001b[0m                 \u001b[0mrenderer\u001b[0m\u001b[1;33m.\u001b[0m\u001b[0mstart_filter\u001b[0m\u001b[1;33m(\u001b[0m\u001b[1;33m)\u001b[0m\u001b[1;33m\u001b[0m\u001b[1;33m\u001b[0m\u001b[0m\n\u001b[0;32m     49\u001b[0m \u001b[1;33m\u001b[0m\u001b[0m\n\u001b[1;32m---> 50\u001b[1;33m             \u001b[1;32mreturn\u001b[0m \u001b[0mdraw\u001b[0m\u001b[1;33m(\u001b[0m\u001b[0martist\u001b[0m\u001b[1;33m,\u001b[0m \u001b[0mrenderer\u001b[0m\u001b[1;33m,\u001b[0m \u001b[1;33m*\u001b[0m\u001b[0margs\u001b[0m\u001b[1;33m,\u001b[0m \u001b[1;33m**\u001b[0m\u001b[0mkwargs\u001b[0m\u001b[1;33m)\u001b[0m\u001b[1;33m\u001b[0m\u001b[1;33m\u001b[0m\u001b[0m\n\u001b[0m\u001b[0;32m     51\u001b[0m         \u001b[1;32mfinally\u001b[0m\u001b[1;33m:\u001b[0m\u001b[1;33m\u001b[0m\u001b[1;33m\u001b[0m\u001b[0m\n\u001b[0;32m     52\u001b[0m             \u001b[1;32mif\u001b[0m \u001b[0martist\u001b[0m\u001b[1;33m.\u001b[0m\u001b[0mget_agg_filter\u001b[0m\u001b[1;33m(\u001b[0m\u001b[1;33m)\u001b[0m \u001b[1;32mis\u001b[0m \u001b[1;32mnot\u001b[0m \u001b[1;32mNone\u001b[0m\u001b[1;33m:\u001b[0m\u001b[1;33m\u001b[0m\u001b[1;33m\u001b[0m\u001b[0m\n",
      "\u001b[1;32m~\\Miniconda3\\envs\\satenv\\lib\\site-packages\\matplotlib\\axes\\_base.py\u001b[0m in \u001b[0;36mdraw\u001b[1;34m(self, renderer, inframe)\u001b[0m\n\u001b[0;32m   2626\u001b[0m             \u001b[0mrenderer\u001b[0m\u001b[1;33m.\u001b[0m\u001b[0mstop_rasterizing\u001b[0m\u001b[1;33m(\u001b[0m\u001b[1;33m)\u001b[0m\u001b[1;33m\u001b[0m\u001b[1;33m\u001b[0m\u001b[0m\n\u001b[0;32m   2627\u001b[0m \u001b[1;33m\u001b[0m\u001b[0m\n\u001b[1;32m-> 2628\u001b[1;33m         \u001b[0mmimage\u001b[0m\u001b[1;33m.\u001b[0m\u001b[0m_draw_list_compositing_images\u001b[0m\u001b[1;33m(\u001b[0m\u001b[0mrenderer\u001b[0m\u001b[1;33m,\u001b[0m \u001b[0mself\u001b[0m\u001b[1;33m,\u001b[0m \u001b[0martists\u001b[0m\u001b[1;33m)\u001b[0m\u001b[1;33m\u001b[0m\u001b[1;33m\u001b[0m\u001b[0m\n\u001b[0m\u001b[0;32m   2629\u001b[0m \u001b[1;33m\u001b[0m\u001b[0m\n\u001b[0;32m   2630\u001b[0m         \u001b[0mrenderer\u001b[0m\u001b[1;33m.\u001b[0m\u001b[0mclose_group\u001b[0m\u001b[1;33m(\u001b[0m\u001b[1;34m'axes'\u001b[0m\u001b[1;33m)\u001b[0m\u001b[1;33m\u001b[0m\u001b[1;33m\u001b[0m\u001b[0m\n",
      "\u001b[1;32m~\\Miniconda3\\envs\\satenv\\lib\\site-packages\\matplotlib\\image.py\u001b[0m in \u001b[0;36m_draw_list_compositing_images\u001b[1;34m(renderer, parent, artists, suppress_composite)\u001b[0m\n\u001b[0;32m    136\u001b[0m     \u001b[1;32mif\u001b[0m \u001b[0mnot_composite\u001b[0m \u001b[1;32mor\u001b[0m \u001b[1;32mnot\u001b[0m \u001b[0mhas_images\u001b[0m\u001b[1;33m:\u001b[0m\u001b[1;33m\u001b[0m\u001b[1;33m\u001b[0m\u001b[0m\n\u001b[0;32m    137\u001b[0m         \u001b[1;32mfor\u001b[0m \u001b[0ma\u001b[0m \u001b[1;32min\u001b[0m \u001b[0martists\u001b[0m\u001b[1;33m:\u001b[0m\u001b[1;33m\u001b[0m\u001b[1;33m\u001b[0m\u001b[0m\n\u001b[1;32m--> 138\u001b[1;33m             \u001b[0ma\u001b[0m\u001b[1;33m.\u001b[0m\u001b[0mdraw\u001b[0m\u001b[1;33m(\u001b[0m\u001b[0mrenderer\u001b[0m\u001b[1;33m)\u001b[0m\u001b[1;33m\u001b[0m\u001b[1;33m\u001b[0m\u001b[0m\n\u001b[0m\u001b[0;32m    139\u001b[0m     \u001b[1;32melse\u001b[0m\u001b[1;33m:\u001b[0m\u001b[1;33m\u001b[0m\u001b[1;33m\u001b[0m\u001b[0m\n\u001b[0;32m    140\u001b[0m         \u001b[1;31m# Composite any adjacent images together\u001b[0m\u001b[1;33m\u001b[0m\u001b[1;33m\u001b[0m\u001b[1;33m\u001b[0m\u001b[0m\n",
      "\u001b[1;32m~\\Miniconda3\\envs\\satenv\\lib\\site-packages\\matplotlib\\artist.py\u001b[0m in \u001b[0;36mdraw_wrapper\u001b[1;34m(artist, renderer, *args, **kwargs)\u001b[0m\n\u001b[0;32m     48\u001b[0m                 \u001b[0mrenderer\u001b[0m\u001b[1;33m.\u001b[0m\u001b[0mstart_filter\u001b[0m\u001b[1;33m(\u001b[0m\u001b[1;33m)\u001b[0m\u001b[1;33m\u001b[0m\u001b[1;33m\u001b[0m\u001b[0m\n\u001b[0;32m     49\u001b[0m \u001b[1;33m\u001b[0m\u001b[0m\n\u001b[1;32m---> 50\u001b[1;33m             \u001b[1;32mreturn\u001b[0m \u001b[0mdraw\u001b[0m\u001b[1;33m(\u001b[0m\u001b[0martist\u001b[0m\u001b[1;33m,\u001b[0m \u001b[0mrenderer\u001b[0m\u001b[1;33m,\u001b[0m \u001b[1;33m*\u001b[0m\u001b[0margs\u001b[0m\u001b[1;33m,\u001b[0m \u001b[1;33m**\u001b[0m\u001b[0mkwargs\u001b[0m\u001b[1;33m)\u001b[0m\u001b[1;33m\u001b[0m\u001b[1;33m\u001b[0m\u001b[0m\n\u001b[0m\u001b[0;32m     51\u001b[0m         \u001b[1;32mfinally\u001b[0m\u001b[1;33m:\u001b[0m\u001b[1;33m\u001b[0m\u001b[1;33m\u001b[0m\u001b[0m\n\u001b[0;32m     52\u001b[0m             \u001b[1;32mif\u001b[0m \u001b[0martist\u001b[0m\u001b[1;33m.\u001b[0m\u001b[0mget_agg_filter\u001b[0m\u001b[1;33m(\u001b[0m\u001b[1;33m)\u001b[0m \u001b[1;32mis\u001b[0m \u001b[1;32mnot\u001b[0m \u001b[1;32mNone\u001b[0m\u001b[1;33m:\u001b[0m\u001b[1;33m\u001b[0m\u001b[1;33m\u001b[0m\u001b[0m\n",
      "\u001b[1;32m~\\Miniconda3\\envs\\satenv\\lib\\site-packages\\matplotlib\\collections.py\u001b[0m in \u001b[0;36mdraw\u001b[1;34m(self, renderer)\u001b[0m\n\u001b[0;32m    881\u001b[0m     \u001b[1;32mdef\u001b[0m \u001b[0mdraw\u001b[0m\u001b[1;33m(\u001b[0m\u001b[0mself\u001b[0m\u001b[1;33m,\u001b[0m \u001b[0mrenderer\u001b[0m\u001b[1;33m)\u001b[0m\u001b[1;33m:\u001b[0m\u001b[1;33m\u001b[0m\u001b[1;33m\u001b[0m\u001b[0m\n\u001b[0;32m    882\u001b[0m         \u001b[0mself\u001b[0m\u001b[1;33m.\u001b[0m\u001b[0mset_sizes\u001b[0m\u001b[1;33m(\u001b[0m\u001b[0mself\u001b[0m\u001b[1;33m.\u001b[0m\u001b[0m_sizes\u001b[0m\u001b[1;33m,\u001b[0m \u001b[0mself\u001b[0m\u001b[1;33m.\u001b[0m\u001b[0mfigure\u001b[0m\u001b[1;33m.\u001b[0m\u001b[0mdpi\u001b[0m\u001b[1;33m)\u001b[0m\u001b[1;33m\u001b[0m\u001b[1;33m\u001b[0m\u001b[0m\n\u001b[1;32m--> 883\u001b[1;33m         \u001b[0mCollection\u001b[0m\u001b[1;33m.\u001b[0m\u001b[0mdraw\u001b[0m\u001b[1;33m(\u001b[0m\u001b[0mself\u001b[0m\u001b[1;33m,\u001b[0m \u001b[0mrenderer\u001b[0m\u001b[1;33m)\u001b[0m\u001b[1;33m\u001b[0m\u001b[1;33m\u001b[0m\u001b[0m\n\u001b[0m\u001b[0;32m    884\u001b[0m \u001b[1;33m\u001b[0m\u001b[0m\n\u001b[0;32m    885\u001b[0m \u001b[1;33m\u001b[0m\u001b[0m\n",
      "\u001b[1;32m~\\Miniconda3\\envs\\satenv\\lib\\site-packages\\matplotlib\\artist.py\u001b[0m in \u001b[0;36mdraw_wrapper\u001b[1;34m(artist, renderer, *args, **kwargs)\u001b[0m\n\u001b[0;32m     48\u001b[0m                 \u001b[0mrenderer\u001b[0m\u001b[1;33m.\u001b[0m\u001b[0mstart_filter\u001b[0m\u001b[1;33m(\u001b[0m\u001b[1;33m)\u001b[0m\u001b[1;33m\u001b[0m\u001b[1;33m\u001b[0m\u001b[0m\n\u001b[0;32m     49\u001b[0m \u001b[1;33m\u001b[0m\u001b[0m\n\u001b[1;32m---> 50\u001b[1;33m             \u001b[1;32mreturn\u001b[0m \u001b[0mdraw\u001b[0m\u001b[1;33m(\u001b[0m\u001b[0martist\u001b[0m\u001b[1;33m,\u001b[0m \u001b[0mrenderer\u001b[0m\u001b[1;33m,\u001b[0m \u001b[1;33m*\u001b[0m\u001b[0margs\u001b[0m\u001b[1;33m,\u001b[0m \u001b[1;33m**\u001b[0m\u001b[0mkwargs\u001b[0m\u001b[1;33m)\u001b[0m\u001b[1;33m\u001b[0m\u001b[1;33m\u001b[0m\u001b[0m\n\u001b[0m\u001b[0;32m     51\u001b[0m         \u001b[1;32mfinally\u001b[0m\u001b[1;33m:\u001b[0m\u001b[1;33m\u001b[0m\u001b[1;33m\u001b[0m\u001b[0m\n\u001b[0;32m     52\u001b[0m             \u001b[1;32mif\u001b[0m \u001b[0martist\u001b[0m\u001b[1;33m.\u001b[0m\u001b[0mget_agg_filter\u001b[0m\u001b[1;33m(\u001b[0m\u001b[1;33m)\u001b[0m \u001b[1;32mis\u001b[0m \u001b[1;32mnot\u001b[0m \u001b[1;32mNone\u001b[0m\u001b[1;33m:\u001b[0m\u001b[1;33m\u001b[0m\u001b[1;33m\u001b[0m\u001b[0m\n",
      "\u001b[1;32m~\\Miniconda3\\envs\\satenv\\lib\\site-packages\\matplotlib\\collections.py\u001b[0m in \u001b[0;36mdraw\u001b[1;34m(self, renderer)\u001b[0m\n\u001b[0;32m    330\u001b[0m                 \u001b[0mself\u001b[0m\u001b[1;33m.\u001b[0m\u001b[0m_linewidths\u001b[0m\u001b[1;33m,\u001b[0m \u001b[0mself\u001b[0m\u001b[1;33m.\u001b[0m\u001b[0m_linestyles\u001b[0m\u001b[1;33m,\u001b[0m\u001b[1;33m\u001b[0m\u001b[1;33m\u001b[0m\u001b[0m\n\u001b[0;32m    331\u001b[0m                 \u001b[0mself\u001b[0m\u001b[1;33m.\u001b[0m\u001b[0m_antialiaseds\u001b[0m\u001b[1;33m,\u001b[0m \u001b[0mself\u001b[0m\u001b[1;33m.\u001b[0m\u001b[0m_urls\u001b[0m\u001b[1;33m,\u001b[0m\u001b[1;33m\u001b[0m\u001b[1;33m\u001b[0m\u001b[0m\n\u001b[1;32m--> 332\u001b[1;33m                 self._offset_position)\n\u001b[0m\u001b[0;32m    333\u001b[0m \u001b[1;33m\u001b[0m\u001b[0m\n\u001b[0;32m    334\u001b[0m         \u001b[0mgc\u001b[0m\u001b[1;33m.\u001b[0m\u001b[0mrestore\u001b[0m\u001b[1;33m(\u001b[0m\u001b[1;33m)\u001b[0m\u001b[1;33m\u001b[0m\u001b[1;33m\u001b[0m\u001b[0m\n",
      "\u001b[1;32m~\\Miniconda3\\envs\\satenv\\lib\\site-packages\\matplotlib\\path.py\u001b[0m in \u001b[0;36mvertices\u001b[1;34m(self)\u001b[0m\n\u001b[0;32m    201\u001b[0m         \u001b[0mself\u001b[0m\u001b[1;33m.\u001b[0m\u001b[0m_has_nonfinite\u001b[0m \u001b[1;33m=\u001b[0m \u001b[1;32mnot\u001b[0m \u001b[0mnp\u001b[0m\u001b[1;33m.\u001b[0m\u001b[0misfinite\u001b[0m\u001b[1;33m(\u001b[0m\u001b[0mself\u001b[0m\u001b[1;33m.\u001b[0m\u001b[0m_vertices\u001b[0m\u001b[1;33m)\u001b[0m\u001b[1;33m.\u001b[0m\u001b[0mall\u001b[0m\u001b[1;33m(\u001b[0m\u001b[1;33m)\u001b[0m\u001b[1;33m\u001b[0m\u001b[1;33m\u001b[0m\u001b[0m\n\u001b[0;32m    202\u001b[0m \u001b[1;33m\u001b[0m\u001b[0m\n\u001b[1;32m--> 203\u001b[1;33m     \u001b[1;33m@\u001b[0m\u001b[0mproperty\u001b[0m\u001b[1;33m\u001b[0m\u001b[1;33m\u001b[0m\u001b[0m\n\u001b[0m\u001b[0;32m    204\u001b[0m     \u001b[1;32mdef\u001b[0m \u001b[0mvertices\u001b[0m\u001b[1;33m(\u001b[0m\u001b[0mself\u001b[0m\u001b[1;33m)\u001b[0m\u001b[1;33m:\u001b[0m\u001b[1;33m\u001b[0m\u001b[1;33m\u001b[0m\u001b[0m\n\u001b[0;32m    205\u001b[0m         \"\"\"\n",
      "\u001b[1;31mKeyboardInterrupt\u001b[0m: "
     ]
    },
    {
     "data": {
      "image/png": "[encoded data removed]",
      "text/plain": [
       "<Figure size 576x864 with 2 Axes>"
      ]
     },
     "metadata": {
      "needs_background": "light"
     },
     "output_type": "display_data"
    }
   ],
   "source": [
    "import cartopy.crs as ccrs                   # import projections\n",
    "import cartopy.feature as cf                 # import features\n",
    "fig = plt.figure(figsize=(8,12))\n",
    "ax = plt.axes(projection = ccrs.NorthPolarStereo(central_longitude=180.0))  # create a set of axes with Mercator projection\n",
    "rdif=ds2.TEMP_AIR_MEAN-ds2.TEMP_SBE37_MEAN\n",
    "for i in range(5):\n",
    "    im=ax.scatter(ds2.lon[i,:],ds2.lat[i,:],c=rdif[i,:],s=.15,vmin=-3,vmax=3,transform=ccrs.PlateCarree(),label=ds2.trajectory[i].data,cmap='seismic')\n",
    "ax.coastlines(resolution='10m')                \n",
    "ax.set_extent([-180,-160,50,77])\n",
    "ax.legend()\n",
    "cax = fig.add_axes([0.45, 0.17, 0.3, 0.02])\n",
    "cbar = fig.colorbar(im,cax=cax, orientation='horizontal')\n",
    "cbar.set_label('$\\Delta$ T (air=sea) ($^\\deg$C)')\n",
    "fig.savefig(fig_dir+'figs/map_all_data_airseadif.png')"
   ]
  },
  {
   "cell_type": "code",
   "execution_count": 8,
   "metadata": {},
   "outputs": [
    {
     "data": {
      "image/png": "[encoded data removed]",
      "text/plain": [
       "<Figure size 432x288 with 1 Axes>"
      ]
     },
     "metadata": {
      "needs_background": "light"
     },
     "output_type": "display_data"
    }
   ],
   "source": [
    "rdif=ds2.TEMP_AIR_MEAN-ds2.TEMP_SBE37_MEAN\n",
    "sdif=rdif.stack(z=('trajectory','time'))\n",
    "plt.hist(sdif,bins=np.arange(-6,6,.1))#,rwidth=0.25)\n",
    "plt.xlabel('$\\Delta$ T (air-sea)')\n",
    "plt.ylabel('Num. obs')\n",
    "plt.xticks(rotation=45)\n",
    "fig.savefig(fig_dir+'air_hist.png', dpi=300)\n"
   ]
  },
  {
   "cell_type": "code",
   "execution_count": null,
   "metadata": {},
   "outputs": [],
   "source": [
    "from scipy.stats import kde\n",
    "rdif=ds2.TEMP_AIR_MEAN-ds2.TEMP_SBE37_MEAN\n",
    "x=rdif.stack(z=('trajectory','time'))\n",
    "y=ds2.wdir.stack(z=('trajectory','time'))\n",
    "# Evaluate a gaussian kde on a regular grid of nbins x nbins over data extents\n",
    "nbins=300\n",
    "k = kde.gaussian_kde([x,y])\n",
    "xi, yi = np.mgrid[x.min():x.max():nbins*1j, y.min():y.max():nbins*1j]\n",
    "zi = k(np.vstack([xi.flatten(), yi.flatten()]))\n",
    "# Make the plot\n",
    "plt.pcolormesh(xi, yi, zi.reshape(xi.shape))\n",
    "plt.show()\n",
    " \n",
    "#plt.bar(edges,H,bins=np.arange(-6,6,.1))#,rwidth=0.25)\n",
    "#plt.xlabel('$\\Delta$ T (air-sea)')\n",
    "#plt.ylabel('Num. obs')\n",
    "#plt.xticks(rotation=45)\n",
    "#fig.savefig(fig_dir+'air_wdir_hist.png', dpi=300)\n"
   ]
  },
  {
   "cell_type": "code",
   "execution_count": null,
   "metadata": {},
   "outputs": [],
   "source": []
  },
  {
   "cell_type": "code",
   "execution_count": null,
   "metadata": {},
   "outputs": [],
   "source": [
    "len(list_usv)"
   ]
  },
  {
   "cell_type": "code",
   "execution_count": null,
   "metadata": {
    "scrolled": true
   },
   "outputs": [],
   "source": [
    "adir = 'F:/data/cruise_data/saildrone/2019_arctic/daily_files/'\n",
    "#list_usv=[1035,1036,1037]\n",
    "list_usv=[1034,1035,1036,1037]\n",
    "fig, axs = plt.subplots(len(list_usv),figsize=(10,10))\n",
    "for iusv in list_usv:\n",
    "    isub=iusv-np.min(list_usv)\n",
    "    file = adir + 'arctic_2019_sd'+str(iusv)+'-NRT-1_min-v1.nc'\n",
    "    ds = xr.open_dataset(file)\n",
    "#get rid of data at the beginning of each file where instruments not in water\n",
    "    if iusv==1033:\n",
    "        ds = ds.sel(time=slice('2019-05-14T1800','2019-10-22'))\n",
    "    if iusv==1034:\n",
    "        ds = ds.sel(time=slice('2019-05-14T1830','2019-10-22'))\n",
    "    if iusv==1035:\n",
    "        ds = ds.sel(time=slice('2019-05-14T2230','2019-10-22'))\n",
    "    if iusv==1036:\n",
    "        ds = ds.sel(time=slice('2019-05-14T2300','2019-10-22'))\n",
    "    if iusv==1037:\n",
    "        ds = ds.sel(time=slice('2019-05-14T2250','2019-10-22'))\n",
    "#get rid of bad salinity values\n",
    "    ds = ds.where(ds.SAL_RBR_MEAN>20)\n",
    "    ds = ds.where(ds.SAL_SBE37_MEAN>20)\n",
    "#remove ice regions where salinity variability high\n",
    "    ice = ds_ice.sel(usv=iusv)\n",
    "    sdif=ds.SAL_SBE37_MEAN-ds.SAL_RBR_MEAN\n",
    "    sdif2 = sdif.copy(deep=True)\n",
    "    ind=sdif*0\n",
    "    for i in range(ice.usv.size):\n",
    "        cond = (sdif.time>ice.start_time[i]) & (sdif.time<ice.stop_time[i])\n",
    "        sdif2[cond]=np.nan\n",
    "    sdif.plot(ax=axs[isub])\n",
    "    sdif2.plot(ax=axs[isub],color='r')   \n",
    "    if iusv<1037:\n",
    "        axs[isub].set_xticklabels('')\n",
    "        axs[isub].set_xlabel(' ')\n",
    "    strusv.append(str(iusv))\n",
    "    print(iusv,sdif.mean().data,sdif.std().data)\n",
    "#plt.legend(strusv)\n",
    "fig.savefig(fig_dir+'figs/map_sal_ice_data.png')"
   ]
  },
  {
   "cell_type": "code",
   "execution_count": 20,
   "metadata": {},
   "outputs": [
    {
     "data": {
      "text/plain": [
       "int"
      ]
     },
     "execution_count": 20,
     "metadata": {},
     "output_type": "execute_result"
    }
   ],
   "source": [
    "type(iusv)"
   ]
  },
  {
   "cell_type": "code",
   "execution_count": 33,
   "metadata": {},
   "outputs": [
    {
     "name": "stdout",
     "output_type": "stream",
     "text": [
      "1034 0.03720420872595842 0.38498421607412736\n",
      "1035 0.24114241949819384 0.04527723878155391\n",
      "1036 0.1626127273341136 0.14989343484274123\n",
      "1037 0.11786839336825619 0.23967094711837655\n"
     ]
    },
    {
     "data": {
      "image/png": "[encoded data removed]",
      "text/plain": [
       "<Figure size 720x720 with 4 Axes>"
      ]
     },
     "metadata": {
      "needs_background": "light"
     },
     "output_type": "display_data"
    }
   ],
   "source": [
    "adir = 'F:/data/cruise_data/saildrone/2019_arctic/daily_files/'\n",
    "#list_usv=[1035,1036,1037]\n",
    "list_usv=[1034,1035,1036,1037]\n",
    "strusv=[]\n",
    "fig, axs = plt.subplots(len(list_usv),figsize=(10,10))\n",
    "for iusv in list_usv:\n",
    "    isub=iusv-np.min(list_usv)\n",
    "    file = adir + 'arctic_2019_sd'+str(iusv)+'-NRT-1_min-v1.nc'\n",
    "    ds = xr.open_dataset(file)\n",
    "#get rid of data at the beginning of each file where instruments not in water\n",
    "    if iusv==1033:\n",
    "        ds = ds.sel(time=slice('2019-05-14T1800','2019-10-22'))\n",
    "    if iusv==1034:\n",
    "        ds = ds.sel(time=slice('2019-05-14T1830','2019-10-22'))\n",
    "    if iusv==1035:\n",
    "        ds = ds.sel(time=slice('2019-05-14T2230','2019-10-22'))\n",
    "    if iusv==1036:\n",
    "        ds = ds.sel(time=slice('2019-05-14T2300','2019-10-22'))\n",
    "    if iusv==1037:\n",
    "        ds = ds.sel(time=slice('2019-05-14T2250','2019-10-22'))\n",
    "#get rid of bad salinity values\n",
    "    ds = ds.where(ds.SAL_RBR_MEAN>20)\n",
    "    ds = ds.where(ds.SAL_SBE37_MEAN>20)\n",
    "#remove ice regions where salinity variability high\n",
    "    ice = ds_ice.sel(usv=iusv)\n",
    "    sdif=ds.SAL_SBE37_MEAN-ds.SAL_RBR_MEAN\n",
    "    sdif2 = sdif.copy(deep=True)\n",
    "    ind=sdif*0\n",
    "    for i in range(ice.usv.size):\n",
    "        cond = (sdif.time>ice.start_time[i]) & (sdif.time<ice.stop_time[i])\n",
    "        sdif2[cond]=np.nan\n",
    "    ax=axs[isub].scatter(ds.TEMP_CTD_RBR_MEAN,sdif)\n",
    "    ax=axs[isub].scatter(ds.TEMP_CTD_RBR_MEAN,sdif2,color='r')   \n",
    "    axs[isub].set_xlim([-2,12])\n",
    "    axs[isub].set_ylim([-4,4])\n",
    "    axs[isub].text(-1,3,str(iusv))\n",
    "    if iusv<1037:\n",
    "        axs[isub].set_xticklabels('')\n",
    "        axs[isub].set_xlabel(' ')\n",
    "    if iusv==1036:\n",
    "        axs[isub].set_ylabel('Dif Sal SBE-RBR$')\n",
    "    if iusv==1037:\n",
    "        axs[isub].set_xlabel('SST')\n",
    "    strusv.append(str(iusv))\n",
    "    print(iusv,sdif.mean().data,sdif.std().data)\n",
    "#plt.legend(strusv)\n",
    "fig.savefig(fig_dir+'figs/map_sal_ice_data_temp.png')\n",
    "\n",
    "#plt.plot(ds.TEMP_CTD_RBR_MEAN,sdif2,'.')"
   ]
  },
  {
   "cell_type": "code",
   "execution_count": null,
   "metadata": {
    "scrolled": true
   },
   "outputs": [],
   "source": [
    "adir = 'F:/data/cruise_data/saildrone/2019_arctic/daily_files/'\n",
    "list_usv=[1035,1036,1037]\n",
    "#list_usv=[1034,1035,1036,1037]\n",
    "#fig, axs = plt.subplots(3,figsize=(10,10))\n",
    "#for iusv in list_usv:\n",
    "iusv=1036\n",
    "file = adir + 'arctic_2019_sd'+str(iusv)+'-NRT-1_min-v1.nc'\n",
    "ds = xr.open_dataset(file)\n",
    "#get rid of data at the beginning of each file where instruments not in water\n",
    "if iusv==1033:\n",
    "    ds = ds.sel(time=slice('2019-05-14T1800','2019-10-22'))\n",
    "if iusv==1034:\n",
    "    ds = ds.sel(time=slice('2019-05-14T1830','2019-10-22'))\n",
    "if iusv==1035:\n",
    "    ds = ds.sel(time=slice('2019-05-14T2230','2019-10-22'))\n",
    "if iusv==1036:\n",
    "    ds = ds.sel(time=slice('2019-05-14T2300','2019-10-22'))\n",
    "if iusv==1037:\n",
    "    ds = ds.sel(time=slice('2019-05-14T2250','2019-10-22'))\n",
    "ds['wspd']=np.sqrt(ds.UWND_MEAN**2+ds.VWND_MEAN**2)\n",
    "#get rid of bad salinity values\n",
    "ds = ds.where(ds.SAL_RBR_MEAN>20)\n",
    "ds = ds.where(ds.wspd<30)\n",
    "ds = ds.where(ds.SAL_SBE37_MEAN>20)\n",
    "#remove ice regions where salinity variability high\n",
    "\n",
    "fig, ax = plt.subplots(1,1)\n",
    "ax.plot(ds.time,ds.TEMP_AIR_MEAN,'.',markersize=1,label='air')\n",
    "ax.plot(ds.time,ds.TEMP_SBE37_MEAN,'.',markersize=1,label='bulk')\n",
    "ax.set_xlabel('date')\n",
    "ax.set_ylabel('air temperature (C)')\n",
    "plt.xticks(rotation=45)\n",
    "fig.savefig(fig_dir+'air_ts.png', dpi=300)\n",
    "fig, ax = plt.subplots(1,1)\n",
    "ax.plot(ds.time,ds.wspd,'.',markersize=1)\n",
    "ax.set_xlabel('date')\n",
    "ax.set_ylabel('wind speed (m/s)')\n",
    "plt.xticks(rotation=45)\n",
    "fig.savefig(fig_dir+'wnd_ts.png', dpi=300)\n",
    "fig, ax = plt.subplots(1,1)\n",
    "ax.plot(ds.time,ds.SAL_SBE37_MEAN,'.',markersize=1)\n",
    "ax.set_xlabel('date')\n",
    "ax.set_ylabel('Salinity (psu)')\n",
    "plt.xticks(rotation=45)\n",
    "fig.savefig(fig_dir+'sal_ts.png', dpi=300)\n"
   ]
  },
  {
   "cell_type": "code",
   "execution_count": null,
   "metadata": {},
   "outputs": [],
   "source": [
    "fig, ax = plt.subplots(1,1)\n",
    "ax.hist(ds.TEMP_AIR_MEAN-ds.TEMP_SBE37_MEAN,bins=np.arange(-5,5,.1))\n",
    "ax.set_xlabel('$\\Delta$ T (air-sea)')\n",
    "ax.set_ylabel('Num. obs')\n",
    "plt.xticks(rotation=45)\n",
    "fig.savefig(fig_dir+'air_hist.png', dpi=300)\n"
   ]
  },
  {
   "cell_type": "code",
   "execution_count": null,
   "metadata": {},
   "outputs": [],
   "source": [
    "#make diruanl plot\n",
    "xlon=ds2.lon\n",
    "tdif=ds2.TEMP_IR_SEA_WING_UNCOMP_MEAN-ds2.TEMP_SBE37_MEAN\n",
    "time_offset_to_lmt=(xlon/360.)*24.*60\n",
    "ds2['tlmt']=ds2.lon\n",
    "for i in range(5):\n",
    "    ds2['tlmt'][i,:]= ds2.time.data+time_offset_to_lmt[i,:]*np.timedelta64(1,'m')# dt.timedelta(seconds=1)\n",
    "fig,(ax1,ax2) =plt.subplots(1,2)\n",
    "for i in range(5):\n",
    "    cs=ax1.scatter(ds2.wspd[i,:],tdif[i,:],c=ds2.time.dt.hour,s=.5)\n",
    "ax1.set(xlabel='Wind Speed (ms$^{-1}$)', ylabel='SBE4 minus CTD SST (K)')\n",
    "cbar = fig.colorbar(cs,orientation='horizontal',ax=ax1)\n",
    "cbar.set_label('GMT Time (hrs)')\n",
    "for i in range(5):\n",
    "    cs2=ax2.scatter(ds2.time.dt.hour,tdif[i,:],c=ds2.wspd[i,:],s=.5)\n",
    "ax2.set(xlabel='GMT (hr)')\n",
    "cbar = fig.colorbar(cs2,orientation='horizontal',ax=ax2)\n",
    "cbar.set_label('Wind Speed (ms$^{-1}$)')\n",
    "fig.savefig(fig_dir+'diurnal/temp_data.png')"
   ]
  },
  {
   "cell_type": "code",
   "execution_count": null,
   "metadata": {},
   "outputs": [],
   "source": [
    "subset"
   ]
  },
  {
   "cell_type": "code",
   "execution_count": 7,
   "metadata": {},
   "outputs": [
    {
     "data": {
      "text/plain": [
       "<xarray.Dataset>\n",
       "Dimensions:                          (time: 208741, trajectory: 5)\n",
       "Coordinates:\n",
       "  * time                             (time) datetime64[ns] 2019-05-14T18:00:00 ... 2019-10-06T23:59:00\n",
       "  * trajectory                       (trajectory) float64 1.033e+03 ... 1.037e+03\n",
       "    lat                              (trajectory, time) float64 53.85 ... 55.96\n",
       "    lon                              (trajectory, time) float64 -166.6 ... -167.3\n",
       "Data variables:\n",
       "    TEMP_IR_SKY_HULL_MEAN            (trajectory, time) float64 nan nan ... nan\n",
       "    TEMP_IR_SEA_HULL_UNCOMP_STDDEV   (trajectory, time) float64 nan nan ... nan\n",
       "    TEMP_IR_SEA_HULL_UNCOMP_MEAN     (trajectory, time) float64 nan nan ... nan\n",
       "    TEMP_IR_SKY_HULL_STDDEV          (trajectory, time) float64 nan nan ... nan\n",
       "    SOG                              (trajectory, time) float64 1.25 ... 0.508\n",
       "    SOG_FILTERED_MEAN                (trajectory, time) float64 1.338 ... 0.676\n",
       "    SOG_FILTERED_STDDEV              (trajectory, time) float64 0.077 ... 0.322\n",
       "    SOG_FILTERED_MAX                 (trajectory, time) float64 1.521 ... 1.42\n",
       "    SOG_FILTERED_MIN                 (trajectory, time) float64 1.203 ... 0.109\n",
       "    COG                              (trajectory, time) float64 46.4 ... 176.9\n",
       "    COG_FILTERED_MEAN                (trajectory, time) float64 46.3 ... 170.6\n",
       "    COG_FILTERED_STDDEV              (trajectory, time) float64 1.7 2.0 ... 39.7\n",
       "    HDG                              (trajectory, time) float64 52.6 ... 170.4\n",
       "    HDG_FILTERED_MEAN                (trajectory, time) float64 52.6 ... 169.5\n",
       "    HDG_FILTERED_STDDEV              (trajectory, time) float64 0.0 0.0 ... 0.0\n",
       "    ROLL_FILTERED_MEAN               (trajectory, time) float64 1.4 0.7 ... 0.0\n",
       "    ROLL_FILTERED_STDDEV             (trajectory, time) float64 0.0 0.0 ... 0.0\n",
       "    ROLL_FILTERED_PEAK               (trajectory, time) float64 1.4 0.7 ... 0.0\n",
       "    PITCH_FILTERED_MEAN              (trajectory, time) float64 -1.1 ... -2.0\n",
       "    PITCH_FILTERED_STDDEV            (trajectory, time) float64 0.0 0.0 ... 0.0\n",
       "    PITCH_FILTERED_PEAK              (trajectory, time) float64 -1.1 ... -2.0\n",
       "    HDG_WING                         (trajectory, time) float64 180.7 ... 148.4\n",
       "    WING_HDG_FILTERED_MEAN           (trajectory, time) float64 171.5 ... 146.2\n",
       "    WING_HDG_FILTERED_STDDEV         (trajectory, time) float64 8.3 5.0 ... 4.5\n",
       "    WING_ROLL_FILTERED_MEAN          (trajectory, time) float64 0.8 0.8 ... 2.8\n",
       "    WING_ROLL_FILTERED_STDDEV        (trajectory, time) float64 0.4 0.4 ... 3.7\n",
       "    WING_ROLL_FILTERED_PEAK          (trajectory, time) float64 nan nan ... nan\n",
       "    WING_PITCH_FILTERED_MEAN         (trajectory, time) float64 -0.3 ... -1.0\n",
       "    WING_PITCH_FILTERED_STDDEV       (trajectory, time) float64 0.5 0.5 ... 3.2\n",
       "    WING_PITCH_FILTERED_PEAK         (trajectory, time) float64 -1.7 ... -10.3\n",
       "    WING_ANGLE                       (trajectory, time) float64 128.1 ... -22.0\n",
       "    UWND_MEAN                        (trajectory, time) float64 1.94 nan ... nan\n",
       "    UWND_STDDEV                      (trajectory, time) float64 0.41 nan ... nan\n",
       "    VWND_MEAN                        (trajectory, time) float64 5.22 nan ... nan\n",
       "    VWND_STDDEV                      (trajectory, time) float64 0.39 nan ... nan\n",
       "    WWND_MEAN                        (trajectory, time) float64 -0.16 ... nan\n",
       "    WWND_STDDEV                      (trajectory, time) float64 0.3 nan ... nan\n",
       "    GUST_WND_MEAN                    (trajectory, time) float64 6.32 nan ... nan\n",
       "    GUST_WND_STDDEV                  (trajectory, time) float64 0.31 nan ... nan\n",
       "    WIND_HEIGHT_MEAN                 (trajectory, time) float64 nan nan ... nan\n",
       "    WIND_HEIGHT_STDDEV               (trajectory, time) float64 nan nan ... nan\n",
       "    TEMP_AIR_MEAN                    (trajectory, time) float64 4.01 nan ... nan\n",
       "    TEMP_AIR_STDDEV                  (trajectory, time) float64 0.02 nan ... nan\n",
       "    RH_MEAN                          (trajectory, time) float64 83.12 ... nan\n",
       "    RH_STDDEV                        (trajectory, time) float64 0.24 nan ... nan\n",
       "    BARO_PRES_MEAN                   (trajectory, time) float64 nan nan ... nan\n",
       "    BARO_PRES_STDDEV                 (trajectory, time) float64 nan nan ... nan\n",
       "    PAR_AIR_MEAN                     (trajectory, time) float64 219.0 ... nan\n",
       "    PAR_AIR_STDDEV                   (trajectory, time) float64 2.0 1.0 ... nan\n",
       "    LW_IRRAD_MEAN                    (trajectory, time) float64 313.5 ... nan\n",
       "    LW_IRRAD_STDDEV                  (trajectory, time) float64 0.4 0.3 ... nan\n",
       "    SW_IRRAD_TOTAL_MEAN              (trajectory, time) float64 nan nan ... nan\n",
       "    SW_IRRAD_TOTAL_STDDEV            (trajectory, time) float64 nan nan ... nan\n",
       "    SW_IRRAD_DIFFUSE_MEAN            (trajectory, time) float64 nan nan ... nan\n",
       "    SW_IRRAD_DIFFUSE_STDDEV          (trajectory, time) float64 nan nan ... nan\n",
       "    TEMP_IR_SEA_WING_UNCOMP_MEAN     (trajectory, time) float64 6.44 ... nan\n",
       "    TEMP_IR_SEA_WING_UNCOMP_STDDEV   (trajectory, time) float64 0.03 ... nan\n",
       "    WAVE_DOMINANT_PERIOD             (trajectory, time) float64 64.0 nan ... nan\n",
       "    WAVE_SIGNIFICANT_HEIGHT          (trajectory, time) float64 4.817 ... nan\n",
       "    TEMP_SBE37_MEAN                  (trajectory, time) float64 6.793 ... nan\n",
       "    TEMP_SBE37_STDDEV                (trajectory, time) float64 0.0008 ... nan\n",
       "    SAL_SBE37_MEAN                   (trajectory, time) float64 30.94 ... nan\n",
       "    SAL_SBE37_STDDEV                 (trajectory, time) float64 0.0024 ... nan\n",
       "    COND_SBE37_MEAN                  (trajectory, time) float64 31.42 ... nan\n",
       "    COND_SBE37_STDDEV                (trajectory, time) float64 0.00159 ... nan\n",
       "    TEMP_CTD_RBR_MEAN                (trajectory, time) float64 nan nan ... nan\n",
       "    TEMP_CTD_RBR_STDDEV              (trajectory, time) float64 nan nan ... nan\n",
       "    SAL_RBR_MEAN                     (trajectory, time) float64 nan nan ... nan\n",
       "    SAL_RBR_STDDEV                   (trajectory, time) float64 nan nan ... nan\n",
       "    COND_RBR_MEAN                    (trajectory, time) float64 nan nan ... nan\n",
       "    COND_RBR_STDDEV                  (trajectory, time) float64 nan nan ... nan\n",
       "    O2_CONC_AANDERAA_MEAN            (trajectory, time) float64 460.9 ... nan\n",
       "    O2_CONC_AANDERAA_STDDEV          (trajectory, time) float64 0.76 ... nan\n",
       "    O2_CONC_SBE37_MEAN               (trajectory, time) float64 482.9 ... nan\n",
       "    O2_CONC_SBE37_STDDEV             (trajectory, time) float64 0.28 ... nan\n",
       "    O2_SAT_SBE37_MEAN                (trajectory, time) float64 155.2 ... nan\n",
       "    O2_SAT_SBE37_STDDEV              (trajectory, time) float64 0.09 ... nan\n",
       "    O2_SAT_AANDERAA_MEAN             (trajectory, time) float64 148.4 ... nan\n",
       "    O2_SAT_AANDERAA_STDDEV           (trajectory, time) float64 0.13 ... nan\n",
       "    TEMP_O2_AANDERAA_MEAN            (trajectory, time) float64 6.888 ... nan\n",
       "    TEMP_O2_AANDERAA_STDDEV          (trajectory, time) float64 0.048 ... nan\n",
       "    O2_TC_PHASE_AANDERAA_MEAN        (trajectory, time) float64 0.498 ... nan\n",
       "    O2_TC_PHASE_AANDERAA_STDDEV      (trajectory, time) float64 0.0 0.0 ... nan\n",
       "    O2_CONC_RBR_MEAN                 (trajectory, time) float64 nan nan ... nan\n",
       "    O2_CONC_RBR_STDDEV               (trajectory, time) float64 nan nan ... nan\n",
       "    O2_SAT_RBR_MEAN                  (trajectory, time) float64 nan nan ... nan\n",
       "    O2_SAT_RBR_STDDEV                (trajectory, time) float64 nan nan ... nan\n",
       "    TEMP_O2_RBR_MEAN                 (trajectory, time) float64 nan nan ... nan\n",
       "    TEMP_O2_RBR_STDDEV               (trajectory, time) float64 nan nan ... nan\n",
       "    CHLOR_WETLABS_MEAN               (trajectory, time) float64 nan nan ... nan\n",
       "    CHLOR_WETLABS_STDDEV             (trajectory, time) float64 nan nan ... nan\n",
       "    CHLOR_RBR_MEAN                   (trajectory, time) float64 nan nan ... nan\n",
       "    CHLOR_RBR_STDDEV                 (trajectory, time) float64 nan nan ... nan\n",
       "    SW_UNMASKED_IRRAD_6DET_MEAN      (trajectory, time) float64 nan nan ... nan\n",
       "    SW_UNMASKED_IRRAD_6DET_STDDEV    (trajectory, time) float64 nan nan ... nan\n",
       "    SW_UNMASKED_IRRAD_CENTER_MEAN    (trajectory, time) float64 nan nan ... nan\n",
       "    SW_UNMASKED_IRRAD_CENTER_STDDEV  (trajectory, time) float64 nan nan ... nan\n",
       "    WIND_MEASUREMENT_HEIGHT_MEAN     (trajectory, time) float64 4.999 ... nan\n",
       "    WIND_MEASUREMENT_HEIGHT_STDDEV   (trajectory, time) float64 0.001 ... nan\n",
       "    wspd                             (trajectory, time) float64 5.569 ... nan\n",
       "    wdir                             (trajectory, time) float64 69.61 ... nan\n",
       "Attributes:\n",
       "    title:                     Arctic 2019 Real-Time-Data\n",
       "    summary:                   Arctic 2019 Mission\n",
       "    ncei_template_version:     NCEI_NetCDF_Trajectory_Template_v2.0\n",
       "    Conventions:               CF-1.6, ACDD-1.3\n",
       "    netcdf_version:            4.4.1.1\n",
       "    featureType:               trajectory\n",
       "    cdm_data_type:             Trajectory\n",
       "    standard_name_vocabulary:  CF Standard Name Table v58\n",
       "    description:               Saildrone NetCDF Format\n",
       "    creator_name:              Saildrone\n",
       "    platform:                  Saildrone\n",
       "    institution:               Saildrone\n",
       "    creator_email:             support@saildrone.com\n",
       "    creator_url:               http://saildrone.com/\n",
       "    date_created:              2019-08-06T19:20:53.252471Z\n",
       "    interval:                  60.0\n",
       "    time_coverage_resolution:  PT1M\n",
       "    time_coverage_start:       2019-05-14T00:00:00.000000Z\n",
       "    time_coverage_end:         2019-05-14T02:59:59.999000Z\n",
       "    time_coverage_duration:    PT2H59M59.999S\n",
       "    area:                      Arctic Ocean\n",
       "    data_mode:                 realtime\n",
       "    drone_id:                  1033\n",
       "    id:                        44712\n",
       "    naming_authority:          com.saildrone\n",
       "    uuid:                      eca9341d-fabc-4306-931c-118b8387d330\n",
       "    project:                   Arctic-MISST-2019\n",
       "    geospatial_lat_min:        53.8441792\n",
       "    geospatial_lat_max:        53.8449088\n",
       "    geospatial_lat_units:      degrees_north\n",
       "    geospatial_lon_min:        -166.5789056\n",
       "    geospatial_lon_max:        -166.577984\n",
       "    geospatial_lon_units:      degrees_east"
      ]
     },
     "execution_count": 7,
     "metadata": {},
     "output_type": "execute_result"
    }
   ],
   "source": [
    "ds2"
   ]
  },
  {
   "cell_type": "code",
   "execution_count": 36,
   "metadata": {},
   "outputs": [
    {
     "data": {
      "text/plain": [
       "(-176.8039936, -176.0321536)"
      ]
     },
     "execution_count": 36,
     "metadata": {},
     "output_type": "execute_result"
    }
   ],
   "source": [
    "lon1,lon2"
   ]
  },
  {
   "cell_type": "code",
   "execution_count": 7,
   "metadata": {},
   "outputs": [
    {
     "name": "stdout",
     "output_type": "stream",
     "text": [
      "134 279\n"
     ]
    }
   ],
   "source": [
    "import cartopy.crs as ccrs                   # import projections\n",
    "import cartopy.feature as cf                 # import features\n",
    "projection = ccrs.PlateCarree()\n",
    "doy=ds2.time.dt.dayofyear\n",
    "dmin=doy.min().data\n",
    "dmax=doy.max().data\n",
    "print(dmin,dmax)\n",
    "i=0\n",
    "for t in range(dmin,dmax,5):\n",
    "    fig,axs =plt.subplots(3,3,figsize=(10,10))\n",
    "    ax2 = plt.subplot(313, projection=ccrs.PlateCarree())\n",
    "    cond=(t>=doy) & (t<(doy+5)) \n",
    "    if cond.sum()<100:\n",
    "        continue\n",
    "    for i in range(3):\n",
    "        subset=ds2.isel(trajectory=i+1).where(cond,drop=True)\n",
    "        if np.isfinite(subset.TEMP_CTD_RBR_MEAN).sum()<100:\n",
    "            continue\n",
    "        subset.TEMP_CTD_RBR_MEAN.plot(ax=axs[0,i],color='cyan')\n",
    "        subset.TEMP_SBE37_MEAN.plot(ax=axs[0,i],color='blue')\n",
    "        subset.TEMP_AIR_MEAN.plot(ax=axs[0,i],color='red')\n",
    "        axs[0,i].set_xticklabels('')\n",
    "        axs[0,i].set_xlabel(' ')\n",
    "        subset.SAL_RBR_MEAN.plot(ax=axs[1,i],color='red',label='rbr')\n",
    "        subset.SAL_SBE37_MEAN.plot(ax=axs[1,i],color='blue',label='sbe')\n",
    "        ax=ax2\n",
    "        im=ax.plot(subset.lon,subset.lat,label=ds2.trajectory[i].data)\n",
    "        ax.coastlines(resolution='10m')  \n",
    "        lon1,lon2=subset.lon.min().data-6,subset.lon.max().data+6\n",
    "        lat1,lat2=subset.lat.min().data-6,subset.lat.max().data+6\n",
    "        ax.set_extent([lon1,lon2,lat1,lat2])\n",
    "        ax.legend(loc='lower left')\n",
    "       \n",
    "    fig.savefig(fig_dir+'daily_data'+str(t)+'.png')\n",
    "    plt.close('all')"
   ]
  },
  {
   "cell_type": "code",
   "execution_count": null,
   "metadata": {},
   "outputs": [],
   "source": [
    "#make some daily images\n",
    "adir = 'F:/data/cruise_data/saildrone/2019_arctic/daily_files/'\n",
    "list_usv=[1035,1036,1037]\n",
    "#list_usv=[1034,1035,1036,1037]\n",
    "fig, axs = plt.subplots(len(list_usv),figsize=(10,10))\n",
    "for iusv in list_usv:\n",
    "    isub=iusv-np.min(list_usv)\n",
    "    subset=ds2.sel()\n",
    "    axs[isub].ds2.\n",
    "    file = adir + 'arctic_2019_sd'+str(iusv)+'-NRT-1_min-v1.nc'\n",
    "    ds = xr.open_dataset(file)\n",
    "#get rid of data at the beginning of each file where instruments not in water\n",
    "    if iusv==1033:\n",
    "        ds = ds.sel(time=slice('2019-05-14T1800','2019-10-22'))\n",
    "    if iusv==1034:\n",
    "        ds = ds.sel(time=slice('2019-05-14T1830','2019-10-22'))\n",
    "    if iusv==1035:\n",
    "        ds = ds.sel(time=slice('2019-05-14T2230','2019-10-22'))\n",
    "    if iusv==1036:\n",
    "        ds = ds.sel(time=slice('2019-05-14T2300','2019-10-22'))\n",
    "    if iusv==1037:\n",
    "        ds = ds.sel(time=slice('2019-05-14T2250','2019-10-22'))\n",
    "#get rid of bad salinity values\n",
    "    ds = ds.where(ds.SAL_RBR_MEAN>20)\n",
    "    ds = ds.where(ds.SAL_SBE37_MEAN>20)\n",
    "#remove ice regions where salinity variability high\n",
    "    ice = ds_ice.sel(usv=iusv)\n",
    "    sdif=ds.SAL_SBE37_MEAN-ds.SAL_RBR_MEAN\n",
    "    sdif2 = sdif.copy(deep=True)\n",
    "    ind=sdif*0\n",
    "    for i in range(ice.usv.size):\n",
    "        cond = (sdif.time>ice.start_time[i]) & (sdif.time<ice.stop_time[i])\n",
    "        sdif2[cond]=np.nan\n",
    "    sdif.plot(ax=axs[isub])\n",
    "    sdif2.plot(ax=axs[isub],color='r')   \n",
    "    if iusv<1037:\n",
    "        axs[isub].set_xticklabels('')\n",
    "        axs[isub].set_xlabel(' ')\n",
    "    strusv.append(str(iusv))\n",
    "    print(iusv,sdif.mean().data,sdif.std().data)\n",
    "#plt.legend(strusv)\n",
    "fig.savefig(fig_dir+'figs/map_sal_ice_data.png')"
   ]
  },
  {
   "cell_type": "code",
   "execution_count": null,
   "metadata": {},
   "outputs": [],
   "source": [
    "#1034\n",
    "iusv=1034\n",
    "file = adir + 'arctic_2019_sd'+str(iusv)+'-NRT-1_min-v1.nc'\n",
    "ds = xr.open_dataset(file)\n",
    "fig,axs=plt.subplots(2)\n",
    "sdif=ds.SAL_SBE37_MEAN-ds.SAL_RBR_MEAN\n",
    "sdif.sel(time=slice('2019-06-10T0845','2019-07-30T16')).plot(ax=axs[0])\n",
    "ds.SAL_SBE37_MEAN.sel(time=slice('2019-06-10T0845','2019-07-30T16')).plot(ax=axs[1],label='SBE')\n",
    "ds.SAL_RBR_MEAN.sel(time=slice('2019-06-10T0845','2019-07-30T16')).plot(ax=axs[1],label='RBR')\n",
    "axs[1].legend()\n",
    "axs[1].set_ylim(20,35)\n",
    "axs[0].set_ylim(-5,1)\n",
    "axs[0].get_xaxis().set_ticks([])\n",
    "#1035\n",
    "#sdif.sel(time=slice('2019-06-14T0845','2019-06-14T16')).plot()\n",
    "#sdif.sel(time=slice('2019-06-21T07','2019-06-21T13')).plot()\n",
    "#sdif.sel(time=slice('2019-06-25T0445','2019-06-25T10')).plot()\n",
    "#sdif.sel(time=slice('2019-06-26T20','2019-06-26T22')).plot()\n",
    "#sdif.sel(time=slice('2019-08-6T18','2019-08-07T06')).plot()\n",
    "#sdif.sel(time=slice('2019-08-9T02','2019-08-09T08')).plot()\n",
    "#sdif.sel(time=slice('2019-08-10T05','2019-08-10T15')).plot()\n",
    "#sdif.sel(time=slice('2019-08-11T07','2019-08-11T0930')).plot()\n",
    "#sdif.sel(time=slice('2019-08-20T1030','2019-08-20T14')).plot()\n",
    "#sdif.sel(time=slice('2019-08-22T2230','2019-08-24T05')).plot()\n",
    "#1036\n",
    "#sdif.sel(time=slice('2019-06-17T06','2019-06-17T21')).plot()\n",
    "#sdif.sel(time=slice('2019-06-22T17','2019-06-22T22')).plot()\n",
    "#sdif.sel(time=slice('2019-06-23T00','2019-06-23T08')).plot()\n",
    "#sdif.sel(time=slice('2019-07-18T00','2019-07-18T01')).plot()\n",
    "#sdif.sel(time=slice('2019-08-06T20','2019-08-07T02')).plot()\n",
    "#sdif.sel(time=slice('2019-08-08T06','2019-08-10T04')).plot()\n",
    "#sdif.sel(time=slice('2019-07-07','2019-07-11T12')).plot() #super calm period RBR appears to be bad\n",
    "\n"
   ]
  },
  {
   "cell_type": "code",
   "execution_count": null,
   "metadata": {},
   "outputs": [],
   "source": [
    "ds"
   ]
  },
  {
   "cell_type": "code",
   "execution_count": null,
   "metadata": {},
   "outputs": [],
   "source": [
    "adir = 'F:/data/cruise_data/saildrone/2019_arctic/daily_files/'\n",
    "strusv=[]\n",
    "for iusv in range(1033,1038):\n",
    "    file = adir + 'arctic_2019_sd'+str(iusv)+'-NRT-1_min-v1.nc'\n",
    "    ds = xr.open_dataset(file)\n",
    "    ds['spd']=np.sqrt(ds.UWND_MEAN**2+ds.VWND_MEAN**2)\n",
    "    #ds = ds.where(ds.SA_CTD_RBR_MEAN>20)\n",
    "    #ds = ds.where(ds.TEMP_SBE37_MEAN>20)\n",
    "    ds2 = ds.isel(time=slice(250,-1))\n",
    "    sdif=ds2.TEMP_SBE37_MEAN-ds2.TEMP_CTD_RBR_MEAN\n",
    "    ax=sdif.plot()\n",
    "    strusv.append(str(iusv))\n",
    "    print(iusv,sdif.mean().data,sdif.std().data)\n",
    "plt.legend(strusv)\n",
    "plt.ylabel('$\\Delta$ SST (K)')\n",
    "fig.savefig(fig_dir+'figs/all_sal_ice_data.png')"
   ]
  },
  {
   "cell_type": "code",
   "execution_count": null,
   "metadata": {},
   "outputs": [],
   "source": [
    "iusv=1033\n",
    "file = adir + 'arctic_2019_sd'+str(iusv)+'-NRT-1_min-v1.nc'\n",
    "ds = xr.open_dataset(file)\n",
    "ds['spd']=np.sqrt(ds.UWND_MEAN**2+ds.VWND_MEAN**2)\n",
    "#ds = ds.where(ds.SA_CTD_RBR_MEAN>20)\n",
    "#ds = ds.where(ds.TEMP_SBE37_MEAN>20)\n",
    "ds2 = ds.isel(time=slice(250,-1))\n",
    "sdif=ds2.TEMP_SBE37_MEAN-ds2.TEMP_CTD_RBR_MEAN\n"
   ]
  },
  {
   "cell_type": "code",
   "execution_count": null,
   "metadata": {},
   "outputs": [],
   "source": [
    "ds2 = ds.sel(time=slice('2019-08-05','2019-08-30'))\n",
    "sdif=ds2.TEMP_SBE37_MEAN-ds2.TEMP_CTD_RBR_MEAN\n",
    "sdif.plot()"
   ]
  },
  {
   "cell_type": "code",
   "execution_count": null,
   "metadata": {},
   "outputs": [],
   "source": [
    "#Δρ=α*ΔT+βΔS\n",
    "#α=0.2 #kg m-3 c-1\n",
    "#β=1 #km m-3 psu-1\n",
    "s, t, p = 40, 10, 4000\n",
    "sw.alpha(s,t,p,pt=True)  #salinity psu, temperature deg C, pressure db, pt true if potential\n",
    "sw.beta(s,t,p,pt=True)  #salinity psu, temperature deg C, pressure db, pt true if potential\n",
    "sw.aonb(s,t,p,pt=True)\n",
    "sw.dens0(s,t)"
   ]
  },
  {
   "cell_type": "code",
   "execution_count": null,
   "metadata": {},
   "outputs": [],
   "source": [
    "iusv=1033\n",
    "file = adir + 'arctic_2019_sd'+str(iusv)+'-NRT-1_min-v1.nc'\n",
    "ds = xr.open_dataset(file)\n",
    "ds.close()\n",
    "tem=sw.dens0(ds.SAL_SBE37_MEAN,ds.TEMP_SBE37_MEAN)\n",
    "ds['density']=xr.DataArray(tem,dims='time',coords={'time':ds.time})\n",
    "tem=sw.alpha(ds.SAL_SBE37_MEAN,ds.TEMP_SBE37_MEAN,ds.BARO_PRES_MEAN*0) #pressure =0 at surface\n",
    "ds['alpha']=xr.DataArray(tem,dims='time',coords={'time':ds.time})\n",
    "tem=sw.beta(ds.SAL_SBE37_MEAN,ds.TEMP_SBE37_MEAN,ds.BARO_PRES_MEAN*0) #pressure =0 at surface\n",
    "ds['beta']=xr.DataArray(tem,dims='time',coords={'time':ds.time})\n",
    "from geopy.distance import vincenty\n",
    "temdata=[]\n",
    "for i in range(ds.lat.size-1):\n",
    "    if np.all(np.isfinite([ds.lat[i:i+2].data,ds.lon[i:i+2].data])):\n",
    "        coords_1 = (ds.lat[i], ds.lon[i])  #cpr sample location\n",
    "        coords_2 = (ds.lat[i+1], ds.lon[i+1])  #eddy location\n",
    "        tem = geopy.distance.distance(coords_1, coords_2).km\n",
    "        temdata.append(tem)\n",
    "    else:\n",
    "        temdata.append(np.nan)\n",
    "temdata.append(tem)\n",
    "ds['dist_km']=xr.DataArray(temdata,dims='time',coords={'time':ds.time})\n"
   ]
  },
  {
   "cell_type": "code",
   "execution_count": null,
   "metadata": {},
   "outputs": [],
   "source": [
    "plt.hist(ds.dist_km*1000,np.arange(0,150,1))"
   ]
  },
  {
   "cell_type": "code",
   "execution_count": null,
   "metadata": {},
   "outputs": [],
   "source": [
    "iusv=1033\n",
    "file = adir + 'arctic_2019_sd'+str(iusv)+'-NRT-1_min-v1.nc'\n",
    "ds = xr.open_dataset(file)\n",
    "ds.close()\n",
    "ds"
   ]
  },
  {
   "cell_type": "code",
   "execution_count": null,
   "metadata": {},
   "outputs": [],
   "source": [
    "ds.SAL_RBR_MEAN[-20000:].plot()"
   ]
  },
  {
   "cell_type": "code",
   "execution_count": null,
   "metadata": {},
   "outputs": [],
   "source": [
    "ds.SOG[1000:1100].plot()\n",
    "#print(ds.time[1350].data)"
   ]
  },
  {
   "cell_type": "code",
   "execution_count": null,
   "metadata": {},
   "outputs": [],
   "source": [
    "import geopy\n",
    "arclen_temp"
   ]
  },
  {
   "cell_type": "code",
   "execution_count": null,
   "metadata": {},
   "outputs": [],
   "source": []
  },
  {
   "cell_type": "code",
   "execution_count": null,
   "metadata": {},
   "outputs": [],
   "source": []
  },
  {
   "cell_type": "code",
   "execution_count": null,
   "metadata": {},
   "outputs": [],
   "source": [
    "plt.scatter(ds.spd,ds.WAVE_SIGNIFICANT_HEIGHT)"
   ]
  },
  {
   "cell_type": "code",
   "execution_count": null,
   "metadata": {},
   "outputs": [],
   "source": [
    "plt.scatter(ds.spd,ds.WAVE_DOMINANT_PERIOD)"
   ]
  },
  {
   "cell_type": "code",
   "execution_count": null,
   "metadata": {},
   "outputs": [],
   "source": [
    "subset=ds.where(ds.WAVE_DOMINANT_PERIOD>20,drop=True)\n",
    "subset.WAVE_DOMINANT_PERIOD.plot(marker='.')"
   ]
  },
  {
   "cell_type": "code",
   "execution_count": null,
   "metadata": {},
   "outputs": [],
   "source": []
  },
  {
   "cell_type": "code",
   "execution_count": null,
   "metadata": {},
   "outputs": [],
   "source": [
    "print(subset.time.data)"
   ]
  },
  {
   "cell_type": "code",
   "execution_count": null,
   "metadata": {},
   "outputs": [],
   "source": [
    "(ds.TEMP_IR_SEA_WING_UNCOMP_MEAN-ds.TEMP_SBE37_MEAN).sel(time=slice('2019-07-10','2019-07-21')).plot()"
   ]
  },
  {
   "cell_type": "code",
   "execution_count": null,
   "metadata": {},
   "outputs": [],
   "source": [
    "(.96*ds.TEMP_IR_SEA_HULL_UNCOMP_MEAN+0.04*ds.TEMP_IR_SKY_HULL_MEAN).plot()\n",
    "ds.TEMP_SBE37_MEAN.plot(color='r')"
   ]
  },
  {
   "cell_type": "code",
   "execution_count": null,
   "metadata": {},
   "outputs": [],
   "source": [
    "ds=ds.isel(time=slice(200,-1))"
   ]
  },
  {
   "cell_type": "code",
   "execution_count": null,
   "metadata": {},
   "outputs": [],
   "source": [
    "#ds.TEMP_IR_SEA_HULL_UNCOMP_MEAN.plot(color='k')\n",
    "ds2 = ds.sel(time=slice('2019-05-15','2019-06-16'))\n",
    "skin=.99*ds2.TEMP_IR_SEA_WING_UNCOMP_MEAN-.01*ds2.TEMP_IR_SKY_HULL_MEAN\n",
    "#(.98*ds2.TEMP_IR_SEA_WING_UNCOMP_MEAN-.02*ds2.TEMP_IR_SKY_HULL_MEAN).plot(color='b')\n",
    "skin.plot(color='b')\n",
    "ds2.TEMP_SBE37_MEAN.plot(color='r')\n",
    "#0.04*(ds2.TEMP_IR_SKY_HULL_MEAN).plot()"
   ]
  },
  {
   "cell_type": "code",
   "execution_count": null,
   "metadata": {},
   "outputs": [],
   "source": [
    "skin=.99*ds2.TEMP_IR_SEA_WING_UNCOMP_MEAN-.01*ds2.TEMP_IR_SKY_HULL_MEAN\n",
    "print((skin-ds2.TEMP_SBE37_MEAN).std().data)\n",
    "skin=ds2.TEMP_IR_SEA_WING_UNCOMP_MEAN\n",
    "print((skin-ds2.TEMP_SBE37_MEAN).std().data)"
   ]
  },
  {
   "cell_type": "code",
   "execution_count": null,
   "metadata": {},
   "outputs": [],
   "source": [
    "subset=ds.sel(time=slice('2019-06-16','2019-06-25'))\n",
    "subset.SOG.plot(marker='.')"
   ]
  },
  {
   "cell_type": "code",
   "execution_count": null,
   "metadata": {},
   "outputs": [],
   "source": []
  },
  {
   "cell_type": "code",
   "execution_count": null,
   "metadata": {},
   "outputs": [],
   "source": [
    "subset = ds.where(np.isfinite(ds.WAVE_SIGNIFICANT_HEIGHT),drop=True)\n",
    "subset.WAVE_SIGNIFICANT_HEIGHT.plot()"
   ]
  },
  {
   "cell_type": "code",
   "execution_count": null,
   "metadata": {},
   "outputs": [],
   "source": []
  },
  {
   "cell_type": "code",
   "execution_count": null,
   "metadata": {},
   "outputs": [],
   "source": [
    "import numpy as np\n",
    "from sklearn.linear_model import LinearRegression\n",
    "#cond = np.isfinite(ds.TEMP_IR_SEA_HULL_UNCOMP_MEAN) # & np.isfinite(ds.TEMP_IR_SKY_HULL_MEAN) & np.isfinite(ds.TEMP_SBE37_MEAN)\n",
    "#ds2=ds[cond]\n",
    "ds2 = ds.where(np.isfinite(ds.TEMP_IR_SEA_HULL_UNCOMP_MEAN))\n",
    "ds2 = ds2.where(np.isfinite(ds.TEMP_IR_SKY_HULL_MEAN))\n",
    "ds2 = ds2.where(np.isfinite(ds.TEMP_SBE37_MEAN))\n"
   ]
  },
  {
   "cell_type": "code",
   "execution_count": null,
   "metadata": {},
   "outputs": [],
   "source": [
    "X = [ds2.TEMP_IR_SEA_HULL_UNCOMP_MEAN, ds2.TEMP_IR_SKY_HULL_MEAN]\n",
    "# y = 1 * x_0 + 2 * x_1 + 3\n",
    "y = ds2.TEMP_SBE37_MEAN\n",
    "reg = LinearRegression().fit(X, y)\n",
    "print(reg.score(X, y))\n",
    "print(reg.coef_)\n",
    "print(reg.intercept_) "
   ]
  },
  {
   "cell_type": "code",
   "execution_count": null,
   "metadata": {},
   "outputs": [],
   "source": [
    "import matplotlib.pyplot as plt\n",
    "import numpy as np\n",
    "from sklearn import datasets, linear_model\n",
    "from sklearn.metrics import mean_squared_error, r2_score\n",
    "\n",
    "# Load the diabetes dataset\n",
    "#diabetes = datasets.load_diabetes()\n",
    "\n",
    "\n",
    "# Use only one feature\n",
    "diabetes_X = diabetes.data[:, np.newaxis, 2]\n",
    "\n",
    "# Split the data into training/testing sets\n",
    "diabetes_X_train = diabetes_X[:-20]\n",
    "diabetes_X_test = diabetes_X[-20:]\n",
    "\n",
    "# Split the targets into training/testing sets\n",
    "diabetes_y_train = diabetes.target[:-20]\n",
    "diabetes_y_test = diabetes.target[-20:]\n",
    "\n",
    "# Create linear regression object\n",
    "regr = linear_model.LinearRegression()\n",
    "\n",
    "# Train the model using the training sets\n",
    "regr.fit(diabetes_X_train, diabetes_y_train)\n",
    "\n",
    "# Make predictions using the testing set\n",
    "diabetes_y_pred = regr.predict(diabetes_X_test)\n",
    "\n",
    "# The coefficients\n",
    "print('Coefficients: \\n', regr.coef_)\n",
    "# The mean squared error\n",
    "print(\"Mean squared error: %.2f\"\n",
    "      % mean_squared_error(diabetes_y_test, diabetes_y_pred))\n",
    "# Explained variance score: 1 is perfect prediction\n",
    "print('Variance score: %.2f' % r2_score(diabetes_y_test, diabetes_y_pred))\n",
    "\n",
    "# Plot outputs\n",
    "plt.scatter(diabetes_X_test, diabetes_y_test,  color='black')\n",
    "plt.plot(diabetes_X_test, diabetes_y_pred, color='blue', linewidth=3)\n",
    "\n",
    "plt.xticks(())\n",
    "plt.yticks(())\n",
    "\n",
    "plt.show()"
   ]
  },
  {
   "cell_type": "code",
   "execution_count": null,
   "metadata": {},
   "outputs": [],
   "source": [
    "file = 'F:/data/clim_data/icoads/ICOADS_R3.0.1_2019-06.nc'\n",
    "ds=xr.open_dataset(file)\n",
    "ds"
   ]
  },
  {
   "cell_type": "code",
   "execution_count": null,
   "metadata": {},
   "outputs": [],
   "source": [
    "subset = ds.where(ds.lat>70,drop=True)\n",
    "plt.plot(subset.lon,subset.lat,marker='.')"
   ]
  },
  {
   "cell_type": "code",
   "execution_count": null,
   "metadata": {},
   "outputs": [],
   "source": []
  }
 ],
 "metadata": {
  "kernelspec": {
   "display_name": "Python 3",
   "language": "python",
   "name": "python3"
  },
  "language_info": {
   "codemirror_mode": {
    "name": "ipython",
    "version": 3
   },
   "file_extension": ".py",
   "mimetype": "text/x-python",
   "name": "python",
   "nbconvert_exporter": "python",
   "pygments_lexer": "ipython3",
   "version": "3.7.3"
  }
 },
 "nbformat": 4,
 "nbformat_minor": 2
}
