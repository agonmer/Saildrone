{
 "cells": [
  {
   "cell_type": "code",
   "execution_count": null,
   "metadata": {},
   "outputs": [],
   "source": [
    "from netCDF4 import Dataset  # http://code.google.com/p/netcdf4-python/\n",
    "import os\n",
    "####################you will need to change some paths here!#####################\n",
    "adir='F:/data/cruise_data/saildrone/baja-2018/'\n",
    "filename_nc=adir+'saildrone-gen_5-baja_2018-sd1002-20180411T180000-20180611T055959-1_minutes-v2.1535585233403.nc'\n",
    "#################################################################################\n",
    "import datetime as dt\n",
    "import xarray as xr\n",
    "from datetime import datetime\n",
    "import pandas\n",
    "import matplotlib as mpl\n",
    "import matplotlib.pyplot as plt\n",
    "import numpy as np\n",
    "\n",
    "dsx = xr.open_dataset(filename_nc)\n",
    "#dataset.to_netcdf(filename_out_nc)\n",
    "#print(dsx)\n"
   ]
  },
  {
   "cell_type": "code",
   "execution_count": null,
   "metadata": {},
   "outputs": [],
   "source": []
  },
  {
   "cell_type": "code",
   "execution_count": null,
   "metadata": {},
   "outputs": [],
   "source": [
    "lats=dsx.latitude[0,:].values\n",
    "lons=dsx.longitude[0,:].values\n",
    "skin=dsx.TEMP_IR_UNCOR_MEAN[0,:].values\n",
    "bulk=dsx.TEMP_CTD_MEAN[0,:].values\n",
    "bulk2=dsx.TEMP_O2_MEAN[0,:].values\n",
    "wnd=(dsx.VWND_MEAN[0,:].values**2+dsx.UWND_MEAN[0,:].values**2)**.5\n",
    "dif=bulk-bulk2\n",
    "dif2=skin-bulk\n",
    "cond = (dif2>-3)\n",
    "print(dif2[cond].mean(),dif2[cond].std())"
   ]
  },
  {
   "cell_type": "code",
   "execution_count": null,
   "metadata": {},
   "outputs": [],
   "source": [
    "fig, ax = plt.subplots(1,2)\n",
    "dif=bulk-bulk2\n",
    "ax[0].plot(wnd,dif,'.')\n",
    "ax[0].set_xlabel('wind speed (m/s)')\n",
    "#ax[0].axis([0, 16, -.3, .3])\n",
    "ax[1].plot(bulk,dif,'.')\n",
    "ax[1].set_xlabel('CTD SST (C)')\n",
    "ax[0].set_ylabel('$\\Delta$SST')\n",
    "#ax[1].set_ylabel('$\\Delta$SST')\n",
    "fig.savefig(adir+'figs/o2_minus_ctd_scatter.png', dpi=300)\n",
    "cond = (dif>-1) & (dif<1)\n",
    "print(dif[cond].mean(),dif[cond].std())"
   ]
  },
  {
   "cell_type": "code",
   "execution_count": null,
   "metadata": {},
   "outputs": [],
   "source": [
    "import pandas as pd\n",
    "import numpy as np\n",
    "t=dsx.TIME[0,:].values\n",
    "tt=pd.to_datetime(t)\n",
    "lmt = tt.minute/60+tt.hour + 24.*lons/360.\n",
    "lmt2=lmt.values\n",
    "for i in range(0,lmt2.shape[0]):\n",
    "    if lmt2[i]>=24:\n",
    "        lmt2[i]=lmt2[i]-24\n",
    "    if lmt2[i]<0:\n",
    "        lmt2[i]=lmt2[i]+24\n",
    "        \n",
    "#over = lmt > 24\n",
    "#print(len(over))\n"
   ]
  },
  {
   "cell_type": "code",
   "execution_count": null,
   "metadata": {},
   "outputs": [],
   "source": [
    "fig, ax = plt.subplots(2)\n",
    "ax[0].plot(lmt2,bulk-bulk2,'.')\n",
    "ax[1].plot(bulk,skin-bulk,'.')\n"
   ]
  },
  {
   "cell_type": "code",
   "execution_count": null,
   "metadata": {},
   "outputs": [],
   "source": []
  }
 ],
 "metadata": {
  "kernelspec": {
   "display_name": "Python 3",
   "language": "python",
   "name": "python3"
  },
  "language_info": {
   "codemirror_mode": {
    "name": "ipython",
    "version": 3
   },
   "file_extension": ".py",
   "mimetype": "text/x-python",
   "name": "python",
   "nbconvert_exporter": "python",
   "pygments_lexer": "ipython3",
   "version": "3.5.5"
  }
 },
 "nbformat": 4,
 "nbformat_minor": 2
}
