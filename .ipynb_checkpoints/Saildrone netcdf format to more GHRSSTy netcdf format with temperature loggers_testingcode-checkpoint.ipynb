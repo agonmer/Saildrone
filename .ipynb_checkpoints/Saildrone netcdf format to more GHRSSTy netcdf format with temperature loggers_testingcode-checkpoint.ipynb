{
 "cells": [
  {
   "cell_type": "code",
   "execution_count": 1,
   "metadata": {},
   "outputs": [],
   "source": [
    "import os\n",
    "import numpy as np\n",
    "import pandas as pd\n",
    "from datetime import datetime, timedelta\n",
    "import datetime as dt\n",
    "import xarray as xr\n",
    "from math import atan2, log"
   ]
  },
  {
   "cell_type": "code",
   "execution_count": 2,
   "metadata": {},
   "outputs": [],
   "source": [
    "#definitions and things you might have to set differently for each file\n",
    "itow_mask1=45 #see code just a bit below for figure to determine where to set flags here\n",
    "itow_mask2=-110 #see code just a bit below for figure to determine where to set flags here\n",
    "ISDP = 'Saildrone'\n",
    "SST_type = 'SSTdepth'\n",
    "Annex_version = '01.1'\n",
    "File_version = '01.0'\n",
    "astr_platform='SD1002'\n",
    "astr_title = 'Data from Saildrone cruise from SF to Guadalupe Island April-June 2018'\n",
    "astr_uuid = '0f410de6-4ba5-4f79-af20-8a57a445f454'\n",
    "#input filename\n",
    "dir_in='f:/data/cruise_data/saildrone/baja-2018/daily_files/sd-1002/2018/'\n",
    "dir_out='f:/data/cruise_data/saildrone/baja-2018/daily_files/sd-1002/'\n",
    "#droplist=['WWND_STDDEV', 'CHLOR_MEAN','RH_MEAN','WWND_MEAN','O2_CONC_STDDEV','CDOM_STDDEV',\n",
    "#                          'TEMP_O2_STDDEV','BARO_PRES_MEAN','TEMP_O2_MEAN','SAL_STDDEV','TEMP_AIR_MEAN',\n",
    "#                          'CDOM_MEAN','SAL_MEAN','O2_SAT_MEAN','CHLOR_STDDEV', 'COND_STDDEV', 'COND_MEAN',\n",
    "#                          'BKSCT_RED_MEAN', 'TEMP_IR_MEAN', 'O2_SAT_STDDEV','O2_CONC_MEAN', 'TEMP_AIR_STDDEV', \n",
    "#                          'BARO_PRES_STDDEV', 'TEMP_IR_STDDEV', 'VWND_STDDEV','RH_STDDEV', 'GUST_WND_STDDEV', 'GUST_WND_MEAN',\n",
    "#                          'BKSCT_RED_STDDEV', 'UWND_STDDEV','HDG_WING','WING_ANGLE']\n",
    "#list of input files\n",
    "istart_flag = 0 \n",
    "for root, dirs, files in os.walk(dir_in, topdown=False):\n",
    "    for name in files:\n",
    "        if name.endswith(\".ini\"):\n",
    "            continue\n",
    "        filename_usv=os.path.join(root, name)\n",
    "        with xr.open_dataset(filename_usv) as dataset_tem:\n",
    "#        with xr.open_dataset(filename_usv,drop_variables=droplist) as dataset_tem:\n",
    "            if istart_flag == 0:\n",
    "                dataset = dataset_tem\n",
    "                istart_flag = 1\n",
    "                continue\n",
    "            dataset = xr.concat([dataset, dataset_tem],'obs')\n",
    "temp_out='f:/data/cruise_data/saildrone/baja-2018/daily_files/sd-1002/l3r_temp_all.nc'\n",
    "dataset.to_netcdf(temp_out)"
   ]
  },
  {
   "cell_type": "code",
   "execution_count": 3,
   "metadata": {},
   "outputs": [],
   "source": [
    "#read data back in, into two arrays one with time encoding and one without\n",
    "temp_out='f:/data/cruise_data/saildrone/baja-2018/daily_files/sd-1002/l3r_temp_all.nc'\n",
    "dataset=xr.open_dataset(temp_out,decode_times=False)\n",
    "dataset_decodetime=xr.open_dataset(temp_out)"
   ]
  },
  {
   "cell_type": "code",
   "execution_count": 4,
   "metadata": {},
   "outputs": [
    {
     "data": {
      "text/plain": [
       "85681"
      ]
     },
     "execution_count": 4,
     "metadata": {},
     "output_type": "execute_result"
    }
   ],
   "source": [
    "mint=dataset_decodetime.TIME.min().data\n",
    "maxt=dataset_decodetime.TIME.max().data\n",
    "dataset.attrs['time_coverage_start']=str(np.datetime64(mint,'ms'))+'Z'\n",
    "dataset.attrs['time_coverage_end']=str(np.datetime64(maxt,'ms'))+'Z'\n",
    "ilen=(len(dataset.LAT['obs']))\n",
    "lats_usv=dataset.LAT[0,:].values\n",
    "lons_usv=dataset.LON[0,:].values\n",
    "dates_usv64=dataset_decodetime.TIME[0,:].values\n",
    "dates_usv=pd.to_datetime(dates_usv64, unit='ns')\n",
    "ilen"
   ]
  },
  {
   "cell_type": "code",
   "execution_count": 5,
   "metadata": {},
   "outputs": [],
   "source": [
    "#calculate the average distance between observations as the spatial resolution global attribute\n",
    "#import math\n",
    "#from math import cos\n",
    "# approximate radius of earth in km\n",
    "R = 6373.0 #km\n",
    "lat1 = np.deg2rad(lats_usv[1:ilen])\n",
    "lon1 = np.deg2rad(lons_usv[1:ilen])\n",
    "lat2 = np.deg2rad(lats_usv[0:ilen-1])\n",
    "lon2 = np.deg2rad(lons_usv[0:ilen-1])\n",
    "dlon = lon2 - lon1\n",
    "dlat = lat2 - lat1\n",
    "a = np.sin(dlat / 2)**2 + np.cos(lat1) * np.cos(lat2) * np.sin(dlon / 2)**2\n",
    "c = 2 * np.arctan2(a**.5, (1 - a)**.5)\n",
    "distance = R * c"
   ]
  },
  {
   "cell_type": "code",
   "execution_count": 6,
   "metadata": {},
   "outputs": [
    {
     "data": {
      "text/plain": [
       "'f:/data/cruise_data/saildrone/baja-2018/daily_files/sd-1002/20180411180000-Saildrone-L3R-SSTdepth-CTD-NH_2632-v01.1-fv01.0.nc'"
      ]
     },
     "execution_count": 6,
     "metadata": {},
     "output_type": "execute_result"
    }
   ],
   "source": [
    "indicative_date_time=dates_usv[0].strftime(\"%Y%m%d%H%M%S\")\n",
    "Product_string = str(dataset.TEMP_CTD_MEAN.model_number) + '_' + str(dataset.TEMP_CTD_MEAN.serial_number)\n",
    "filename_L3R = dir_out + indicative_date_time + \\\n",
    "    '-' + ISDP + '-' + 'L3R' + '-' + SST_type + '-' +Product_string+ '-v' +Annex_version+ '-fv' +File_version+ '.nc'\n",
    "filename_L3R"
   ]
  },
  {
   "cell_type": "code",
   "execution_count": 7,
   "metadata": {
    "scrolled": true
   },
   "outputs": [],
   "source": [
    "#add global attributes that are missing\n",
    "#some of these will need to be changed for new cruises\n",
    "gattrs = dataset.attrs.copy()\n",
    "gattrs['title'] = astr_title\n",
    "gattrs['summary'] = 'none'\n",
    "gattrs['references'] = 'none'\n",
    "gattrs['institution'] = 'Saildrone'\n",
    "gattrs['history'] = 'Saildrone 6-hourly v1 files were used to create this file'\n",
    "gattrs['comment'] = 'none'\n",
    "gattrs['license'] = 'free and open'\n",
    "gattrs['id'] = 'SSTdepth'\n",
    "gattrs['naming_authority'] = 'org.shipborne-radiometer'\n",
    "gattrs['product_version'] = '1.0'\n",
    "gattrs['uuid'] = astr_uuid \n",
    "gattrs['l2r_version_id'] = '1.1' \n",
    "gattrs['netcdf_version_id'] = '4.6.1'\n",
    "gattrs['date_created'] = dt.datetime.now().strftime(\"%Y-%m-%dT%H:%M:%SZ\") #yyyy-mm-ddThh:mm:ssZ\n",
    "gattrs['file_quality_level'] = 3\n",
    "gattrs['spatial_resolution'] = str(distance.mean()*1000)+' m'\n",
    "gattrs['start_time'] = dates_usv[0].strftime(\"%Y-%m-%dT%H:%M:%SZ\")\n",
    "gattrs['time_coverage_start'] = dates_usv[0].strftime(\"%Y-%m-%dT%H:%M:%SZ\")\n",
    "gattrs['stop_time'] = dates_usv[-1].strftime(\"%Y-%m-%dT%H:%M:%SZ\")\n",
    "gattrs['time_coverage_end'] = dates_usv[-1].strftime(\"%Y-%m-%dT%H:%M:%SZ\")\n",
    "gattrs['northernmost_latitude'] = lats_usv.max()\n",
    "gattrs['geospatial_lat_max'] = lats_usv.max()\n",
    "gattrs['southernmost_latitude'] = lats_usv.min()\n",
    "gattrs['geospatial_lat_min'] = lats_usv.min()\n",
    "gattrs['easternmost_longitude'] = lons_usv.max()\n",
    "gattrs['geospatial_lon_max'] = lons_usv.max()\n",
    "gattrs['westernmost_longitude'] = lons_usv.min()\n",
    "gattrs['geospatial_lon_min'] = lons_usv.min()\n",
    "gattrs['geospatial_lat_units'] = 'degrees_north'\n",
    "gattrs['geospatial_lon_units'] = 'degrees_east'\n",
    "gattrs['source'] = 'SSTdepth, wind_speed'\n",
    "gattrs['platform'] = astr_platform\n",
    "gattrs['sensor'] = str(dataset.TEMP_CTD_MEAN.sensor_description + '_' +\\\n",
    "            dataset.TEMP_CTD_MEAN.model_number + '_' + dataset.TEMP_CTD_MEAN.serial_number + ', ' + \\\n",
    "            dataset.UWND_MEAN.sensor_description + '_' + dataset.UWND_MEAN.model_number + '_' + \\\n",
    "                    dataset.UWND_MEAN.serial_number)\n",
    "gattrs['metadata_link'] = 'TBD'\n",
    "gattrs['keywords'] = 'Oceans > Ocean Temperature > Sea Surface Temperature'\n",
    "gattrs['keywords_vocabulary'] = 'NASA Global Change Master Directory (GCMD) Science Keywords'\n",
    "gattrs['acknowledgment'] = 'The Schmidt Family Foundation, Saildrone, NASA Physical Oceanography'\n",
    "gattrs['project'] = 'International Shipborne Radiometer Network'\n",
    "gattrs['publisher_name'] = 'The ISRN Project Office'\n",
    "gattrs['publisher_url'] = 'http://www.shipborne.radiometer.org'\n",
    "gattrs['publisher_email'] = 'info@shipborne-radiometer.org'\n",
    "gattrs['processing_level'] = '1.0'\n",
    "del dataset.attrs['nodc_template_version']"
   ]
  },
  {
   "cell_type": "code",
   "execution_count": 15,
   "metadata": {},
   "outputs": [
    {
     "data": {
      "text/plain": [
       "<xarray.DataArray 'O2_CONC_MEAN' (trajectory: 1, obs: 85681)>\n",
       "array([[284.9 , 287.05, 285.49, ...,    nan,    nan,    nan]])\n",
       "Coordinates:\n",
       "  * trajectory  (trajectory) float32 1002.0\n",
       "Dimensions without coordinates: obs\n",
       "Attributes:\n",
       "    standard_name:              mole_concentration_of_dissolved_molecular_oxy...\n",
       "    long_name:                  Oxygen concentration\n",
       "    coordinates:                time lat lon\n",
       "    units:                      micromol L-1\n",
       "    serial_number:              707\n",
       "    model_number:               4831\n",
       "    sensor_description:         Dissolved Oxygen: Aanderaa Oxygen Optode\n",
       "    model_name:                 Oxygen Optode\n",
       "    product_page:               http://www.aanderaa.com/productsdetail.php?Ox...\n",
       "    installed_height:           -0.6\n",
       "    nominal_sampling_schedule:  10s on, 50s off, centered at :00"
      ]
     },
     "execution_count": 15,
     "metadata": {},
     "output_type": "execute_result"
    }
   ],
   "source": [
    "dataset.O2_CONC_MEAN"
   ]
  },
  {
   "cell_type": "code",
   "execution_count": 20,
   "metadata": {},
   "outputs": [],
   "source": [
    "# convert names\n",
    "#COORD_ATTR = 'lat lon time'\n",
    "COORD_ATTR = 'time'\n",
    "FLOAT_FILLVALUE = np.finfo(np.float32).min\n",
    "VAR_TRANSLATE = {\n",
    "    'TEMP_CTD_MEAN': 'sea_water_temperature_ctd_mean',\n",
    "    'COG': 'course_over_ground',\n",
    "    'LAT': 'lat',\n",
    "    'LON': 'lon',\n",
    "    'HDG': 'true_bearing',\n",
    "    'ROLL': 'platform_roll',\n",
    "    'PITCH': 'platform_pitch',\n",
    "    'SOG': 'speed_over_ground',\n",
    "    'TEMP_CTD_STDDEV':'sea_water_temperature_ctd_total_uncertainty',\n",
    "    'WWND_STDDEV': 'w_wind_total_uncertainty',\n",
    "    'CHLOR_MEAN':'chlor_mean', #kg m-3   1000000 mg/L = 1 km/m3\n",
    "    'RH_MEAN':'rel_humid_mean',\n",
    "    'WWND_MEAN':'w_wind_mean',\n",
    "    'O2_CONC_STDDEV':'O2_conc_stddev' , #mol m-3  1 micromol/l = 0.001 mol m-3\n",
    "    'CDOM_STDDEV':'cdom_stddev',\n",
    "    'TEMP_O2_STDDEV':'sea_water_temperature_O2_sensor_total_uncertainty',\n",
    "    'BARO_PRES_MEAN':'baro_pres_mean',\n",
    "    'TEMP_O2_MEAN':'sea_water_temperature_O2_sensor_mean',\n",
    "    'SAL_STDDEV':'sal_stddev',\n",
    "    'TEMP_AIR_MEAN':'temp_air_mean',\n",
    "    'CDOM_MEAN':'cdom_mean',\n",
    "    'SAL_MEAN':'sal_mean',\n",
    "    'O2_SAT_MEAN':'O2_sat_mean',\n",
    "    'CHLOR_STDDEV': 'chlor_stddev',\n",
    "    'COND_STDDEV': 'cond_stddev',\n",
    "    'COND_MEAN':'cond_mean',\n",
    "    'BKSCT_RED_MEAN': 'bksct_red_mean',\n",
    "    'TEMP_IR_MEAN': 'skin_sea_surface_temperature_mean',\n",
    "    'O2_SAT_STDDEV': 'O2_sat_stddev',\n",
    "    'O2_CONC_MEAN':'O2_conc_mean',\n",
    "    'TEMP_AIR_STDDEV':'temp_air_stddev',\n",
    "    'BARO_PRES_STDDEV':'baro_pres_stddev',\n",
    "    'TEMP_IR_STDDEV':'skin_sea_surface_temperature_stddev',\n",
    "    'VWND_STDDEV':'eastward_wind',\n",
    "    'RH_STDDEV': 'rel_humid_stddev',\n",
    "    'GUST_WND_STDDEV':'gust_wind_stddev',\n",
    "    'GUST_WND_MEAN':'gust_wind_mean',\n",
    "    'BKSCT_RED_STDDEV':'bksct_red_stddev',\n",
    "    'UWND_STDDEV':'northward_wind',\n",
    "    'HDG_WING':'platform_heading',\n",
    "    'WING_ANGLE':'wind_angle'\n",
    "    }\n",
    "# copy variables from source dataset\n",
    "varrays = {}\n",
    "for v in dataset.data_vars:\n",
    "\n",
    "    if v in VAR_TRANSLATE:\n",
    "        \n",
    "        # set attributes\n",
    "        vattrs = dataset[v].attrs.copy()\n",
    "        if v not in ['LAT', 'LON', 'TIME']:\n",
    "            vattrs[\"coordinates\"] = COORD_ATTR\n",
    "        vattrs[\"_FillValue\"] = FLOAT_FILLVALUE\n",
    "        \n",
    "        values = np.ma.fix_invalid(dataset[v].values[0,:])\n",
    "        if v == 'TEMP_CTD_MEAN':\n",
    "            # convert SST to Kelvin\n",
    "            values += 273.15\n",
    "        \n",
    "        # create new data array\n",
    "        varrays[VAR_TRANSLATE[v]] = xr.DataArray(\n",
    "            values.filled(FLOAT_FILLVALUE).astype(np.float32,copy=False),\n",
    "            dims=['time'],\n",
    "            attrs=vattrs\n",
    "        )\n",
    "      \n",
    "# creates the new variables\n",
    "# -------------------------\n",
    "# 1. wind speed\n",
    "vattrs = dataset.UWND_MEAN.attrs.copy()\n",
    "vattrs['standard_name'] = 'wind_speed'\n",
    "vattrs['long_name'] = 'wind_speed'\n",
    "vattrs['valid_min'] = 0\n",
    "vattrs['valid_max'] = 100\n",
    "vattrs[\"_FillValue\"] = FLOAT_FILLVALUE\n",
    "vattrs['source'] = 'anemometer'\n",
    "vattrs['comment'] = 'Instrument located at to of Saildrone mast at ' +\\\n",
    "                str(dataset.UWND_MEAN.installed_height)+' m' + '.  This was adjusted ' +\\\n",
    "                'to 10 m as ws_10m = ws*log(10./1e-4))/log(WS_height/1e-4'\n",
    "vattrs['height'] = '10 m' #str(str(dataset.UWND_MEAN.installed_height)+' m')\n",
    "vattrs[\"coordinates\"] = COORD_ATTR\n",
    "WS=(dataset['UWND_MEAN'].values[0,:]**2 + dataset['VWND_MEAN'].values[0,:]**2)**.5\n",
    "WS_height=int(dataset.UWND_MEAN.installed_height)\n",
    "WS_10m = (WS*log(10./1e-4))/log(WS_height/1e-4)\n",
    "varrays['wind_speed'] = xr.DataArray(\n",
    "    WS_10m.astype(np.float32,copy=False),\n",
    "    dims=['time'],\n",
    "    attrs=vattrs\n",
    "    )\n",
    "\n",
    "# 2. wind direction\n",
    "vattrs = dataset.UWND_MEAN.attrs.copy()\n",
    "vattrs['standard_name'] = 'wind_to_direction'\n",
    "vattrs['long_name'] = 'local wind direction'\n",
    "vattrs['valid_min'] = 0\n",
    "vattrs['valid_max'] = 360\n",
    "vattrs[\"_FillValue\"] = FLOAT_FILLVALUE\n",
    "vattrs['units'] = 'degrees'\n",
    "vattrs['source'] = 'anemometer'\n",
    "vattrs['height'] = str(str(dataset.UWND_MEAN.installed_height)+' m')\n",
    "vattrs[\"coordinates\"] = COORD_ATTR\n",
    "WD=np.arctan2(dataset.VWND_MEAN.values[0,:], dataset.UWND_MEAN.values[0,:])\n",
    "varrays['wind_direction'] = xr.DataArray(\n",
    "    WD.astype(np.float32,copy=False),\n",
    "    dims=['time'],\n",
    "    attrs=vattrs\n",
    "    )\n",
    "\n",
    "# 3. time\n",
    "vattrs = dataset.TIME.attrs.copy()\n",
    "vattrs[\"_FillValue\"] = FLOAT_FILLVALUE\n",
    "#values = np.ma.fix_invalid(dataset_decodetime.TIME.values[0,:])\n",
    "values = np.ma.fix_invalid(dataset.TIME.values[0,:])\n",
    "vtime = xr.DataArray(\n",
    "    values.filled(FLOAT_FILLVALUE).astype(np.float32,copy=False),\n",
    "    dims=['time'],\n",
    "    attrs=vattrs\n",
    "    )\n",
    "\n",
    "# 4. Quality level\n",
    "flag_bytes=np.byte((0,1,2,3,4,5)) #bytearray([0,1,2,3,4,5])\n",
    "iqual_byte = np.ones(shape=dates_usv.shape, dtype='b')*5  #change byte to b1\n",
    "iqual_byte[:itow_mask1] = 2  #set at top of file from looking at data\n",
    "iqual_byte[itow_mask2:] = 2\n",
    "vattrs = {\n",
    "    'long_name': 'measurement quality value',\n",
    "    'flag_meanings': 'no_data bad_data worst_quality low_quality acceptable_quality best_quality',\n",
    "    'flag_values': flag_bytes,\n",
    "    '_FillValue': -128\n",
    "}\n",
    "varrays['quality_level'] = xr.DataArray(\n",
    "    iqual_byte,\n",
    "    dims=['time'],\n",
    "    attrs=vattrs\n",
    "    )\n",
    "\n",
    "# create Dataset and save\n",
    "l3r = xr.Dataset(\n",
    "    varrays,\n",
    "    coords = {\n",
    "        'time': vtime\n",
    "    },\n",
    "    attrs=gattrs\n",
    ")\n",
    "\n",
    "\n",
    "# embellishments\n",
    "l3r.sea_water_temperature_ctd_mean.attrs['valid_min']=260.0\n",
    "l3r.sea_water_temperature_ctd_mean.attrs['valid_max']=320.0\n",
    "l3r.sea_water_temperature_ctd_mean.attrs['units']='kelvin'\n",
    "l3r.sea_water_temperature_ctd_mean.attrs['long_name']='sea surface depth temperature at 0.6m'\n",
    "l3r.time.attrs['standard_name']='time'\n",
    "l3r.time.attrs['long_name']='time'\n",
    "l3r.lon.attrs['standard_name']='longitude'\n",
    "l3r.lon.attrs['long_name']='longitude'\n",
    "l3r.lat.attrs['long_name']='latitude'\n",
    "l3r.lat.attrs['standard_name']='latitude'\n",
    "l3r.true_bearing.attrs['long_name']='platform true bearing'\n",
    "l3r.true_bearing.attrs['standard_name']='platform_orientation'\n",
    "l3r.speed_over_ground.attrs['long_name']='platform speed over ground'\n",
    "l3r.sea_water_temperature_ctd_total_uncertainty.attrs['standard_name']='sea_water_temperature standard error'\n",
    "l3r.sea_water_temperature_ctd_total_uncertainty.attrs['long_name']=' sea water temperature total uncertainty'\n",
    "l3r.sea_water_temperature_ctd_total_uncertainty.attrs['valid_min']=0.0\n",
    "l3r.sea_water_temperature_ctd_total_uncertainty.attrs['valid_max']=2.0\n",
    "l3r.sea_water_temperature_ctd_total_uncertainty.attrs['units']='kelvin'\n",
    " \n",
    "#l3r.to_netcdf(filename_L3R)\n"
   ]
  },
  {
   "cell_type": "code",
   "execution_count": 21,
   "metadata": {},
   "outputs": [
    {
     "data": {
      "text/plain": [
       "'f:/data/cruise_data/saildrone/baja-2018/daily_files/sd-1002/20180411180000-Saildrone-L3R-SSTdepth-CTD-NH_2632-v01.1-fv01.0.nc'"
      ]
     },
     "execution_count": 21,
     "metadata": {},
     "output_type": "execute_result"
    }
   ],
   "source": [
    "filename_L3R"
   ]
  },
  {
   "cell_type": "code",
   "execution_count": 22,
   "metadata": {},
   "outputs": [
    {
     "data": {
      "text/plain": [
       "<xarray.Dataset>\n",
       "Dimensions:                                            (time: 85681)\n",
       "Coordinates:\n",
       "  * time                                               (time) float32 1523469600.0 ...\n",
       "Data variables:\n",
       "    O2_sat_mean                                        (time) float32 90.62 ...\n",
       "    rel_humid_stddev                                   (time) float32 0.1 ...\n",
       "    gust_wind_mean                                     (time) float32 5.13 ...\n",
       "    sal_mean                                           (time) float32 20.871 ...\n",
       "    speed_over_ground                                  (time) float32 4.482 ...\n",
       "    gust_wind_stddev                                   (time) float32 0.58 ...\n",
       "    w_wind_total_uncertainty                           (time) float32 0.26 ...\n",
       "    skin_sea_surface_temperature_stddev                (time) float32 0.06 ...\n",
       "    temp_air_mean                                      (time) float32 12.99 ...\n",
       "    lon                                                (time) float32 -122.39798 ...\n",
       "    O2_conc_mean                                       (time) float32 284.9 ...\n",
       "    quality_level                                      (time) int8 2 2 2 2 2 ...\n",
       "    bksct_red_stddev                                   (time) float32 0.002 ...\n",
       "    baro_pres_stddev                                   (time) float32 0.03 ...\n",
       "    O2_conc_stddev                                     (time) float32 0.17 ...\n",
       "    eastward_wind                                      (time) float32 0.91 ...\n",
       "    course_over_ground                                 (time) float32 301.7 ...\n",
       "    cond_stddev                                        (time) float32 0.084 ...\n",
       "    bksct_red_mean                                     (time) float32 0.012 ...\n",
       "    wind_speed                                         (time) float32 4.2962456 ...\n",
       "    cdom_mean                                          (time) float32 7.83 ...\n",
       "    sea_water_temperature_O2_sensor_total_uncertainty  (time) float32 0.008 ...\n",
       "    temp_air_stddev                                    (time) float32 0.01 ...\n",
       "    platform_pitch                                     (time) float32 0.7 ...\n",
       "    cond_mean                                          (time) float32 26.956 ...\n",
       "    sal_stddev                                         (time) float32 0.072 ...\n",
       "    sea_water_temperature_ctd_mean                     (time) float32 288.221 ...\n",
       "    rel_humid_mean                                     (time) float32 64.74 ...\n",
       "    platform_heading                                   (time) float32 260.4 ...\n",
       "    O2_sat_stddev                                      (time) float32 0.05 ...\n",
       "    skin_sea_surface_temperature_mean                  (time) float32 14.58 ...\n",
       "    chlor_stddev                                       (time) float32 0.42 ...\n",
       "    platform_roll                                      (time) float32 2.7 ...\n",
       "    w_wind_mean                                        (time) float32 0.0 ...\n",
       "    sea_water_temperature_O2_sensor_mean               (time) float32 15.083 ...\n",
       "    sea_water_temperature_ctd_total_uncertainty        (time) float32 0.003 ...\n",
       "    lat                                                (time) float32 37.81126 ...\n",
       "    cdom_stddev                                        (time) float32 6.41 ...\n",
       "    wind_angle                                         (time) float32 -33.8 ...\n",
       "    wind_direction                                     (time) float32 0.7871495 ...\n",
       "    baro_pres_mean                                     (time) float32 1017.25 ...\n",
       "    chlor_mean                                         (time) float32 1.26 ...\n",
       "    northward_wind                                     (time) float32 0.47 ...\n",
       "    true_bearing                                       (time) float32 294.1 ...\n",
       "Attributes:\n",
       "    Conventions:               CF-1.6\n",
       "    Metadata_Conventions:      Unidata Dataset Discovery v1.0\n",
       "    featureType:               trajectory\n",
       "    cdm_data_type:             Trajectory\n",
       "    nodc_template_version:     NODC_NetCDF_Trajectory_Template_v0.9\n",
       "    standard_name_vocabulary:  CF-1.6\n",
       "    description:               Saildrone NetCDF format\n",
       "    creator_name:              SailDrone\n",
       "    creator_email:             support@saildrone.com\n",
       "    creator_url:               http://saildrone.com/\n",
       "    project:                   International Shipborne Radiometer Network\n",
       "    time_coverage_start:       2018-04-11T18:00:00Z\n",
       "    time_coverage_end:         2018-06-11T00:00:00Z\n",
       "    title:                     Data from Saildrone cruise from SF to Guadalup...\n",
       "    summary:                   none\n",
       "    references:                none\n",
       "    institution:               Saildrone\n",
       "    history:                   Saildrone 6-hourly v1 files were used to creat...\n",
       "    comment:                   none\n",
       "    license:                   free and open\n",
       "    id:                        SSTdepth\n",
       "    naming_authority:          org.shipborne-radiometer\n",
       "    product_version:           1.0\n",
       "    uuid:                      0f410de6-4ba5-4f79-af20-8a57a445f454\n",
       "    l2r_version_id:            1.1\n",
       "    netcdf_version_id:         4.6.1\n",
       "    date_created:              2018-08-20T16:24:51Z\n",
       "    file_quality_level:        3\n",
       "    spatial_resolution:        74.34412175369151 m\n",
       "    start_time:                2018-04-11T18:00:00Z\n",
       "    stop_time:                 2018-06-11T00:00:00Z\n",
       "    northernmost_latitude:     37.8174912\n",
       "    geospatial_lat_max:        37.8174912\n",
       "    southernmost_latitude:     28.0176832\n",
       "    geospatial_lat_min:        28.0176832\n",
       "    easternmost_longitude:     -115.5226624\n",
       "    geospatial_lon_max:        -115.5226624\n",
       "    westernmost_longitude:     -125.55297279999999\n",
       "    geospatial_lon_min:        -125.55297279999999\n",
       "    geospatial_lat_units:      degrees_north\n",
       "    geospatial_lon_units:      degrees_east\n",
       "    source:                    SSTdepth, wind_speed\n",
       "    platform:                  SD1002\n",
       "    sensor:                    CTD: Teledyne Citadel_CTD-NH_2632, Wind: Gill ...\n",
       "    metadata_link:             TBD\n",
       "    keywords:                  Oceans > Ocean Temperature > Sea Surface Tempe...\n",
       "    keywords_vocabulary:       NASA Global Change Master Directory (GCMD) Sci...\n",
       "    acknowledgment:            The Schmidt Family Foundation, Saildrone, NASA...\n",
       "    publisher_name:            The ISRN Project Office\n",
       "    publisher_url:             http://www.shipborne.radiometer.org\n",
       "    publisher_email:           info@shipborne-radiometer.org\n",
       "    processing_level:          1.0"
      ]
     },
     "execution_count": 22,
     "metadata": {},
     "output_type": "execute_result"
    }
   ],
   "source": [
    "l3r"
   ]
  },
  {
   "cell_type": "code",
   "execution_count": 114,
   "metadata": {},
   "outputs": [
    {
     "ename": "PermissionError",
     "evalue": "[Errno 13] Permission denied: b'f:\\\\data\\\\cruise_data\\\\saildrone\\\\baja-2018\\\\daily_files\\\\sd-1002\\\\l3r_temp_all_final.nc'",
     "output_type": "error",
     "traceback": [
      "\u001b[1;31m---------------------------------------------------------------------------\u001b[0m",
      "\u001b[1;31mPermissionError\u001b[0m                           Traceback (most recent call last)",
      "\u001b[1;32m<ipython-input-114-c9d9530b0b46>\u001b[0m in \u001b[0;36m<module>\u001b[1;34m()\u001b[0m\n\u001b[0;32m      1\u001b[0m \u001b[0mfilename_l3r_temp\u001b[0m\u001b[1;33m=\u001b[0m\u001b[1;34m'f:/data/cruise_data/saildrone/baja-2018/daily_files/sd-1002/l3r_temp_all_final.nc'\u001b[0m\u001b[1;33m\u001b[0m\u001b[0m\n\u001b[1;32m----> 2\u001b[1;33m \u001b[0ml3r\u001b[0m\u001b[1;33m.\u001b[0m\u001b[0mto_netcdf\u001b[0m\u001b[1;33m(\u001b[0m\u001b[0mfilename_l3r_temp\u001b[0m\u001b[1;33m)\u001b[0m\u001b[1;33m\u001b[0m\u001b[0m\n\u001b[0m",
      "\u001b[1;32m~\\Anaconda3\\lib\\site-packages\\xarray\\core\\dataset.py\u001b[0m in \u001b[0;36mto_netcdf\u001b[1;34m(self, path, mode, format, group, engine, encoding, unlimited_dims)\u001b[0m\n\u001b[0;32m   1135\u001b[0m         return to_netcdf(self, path, mode, format=format, group=group,\n\u001b[0;32m   1136\u001b[0m                          \u001b[0mengine\u001b[0m\u001b[1;33m=\u001b[0m\u001b[0mengine\u001b[0m\u001b[1;33m,\u001b[0m \u001b[0mencoding\u001b[0m\u001b[1;33m=\u001b[0m\u001b[0mencoding\u001b[0m\u001b[1;33m,\u001b[0m\u001b[1;33m\u001b[0m\u001b[0m\n\u001b[1;32m-> 1137\u001b[1;33m                          unlimited_dims=unlimited_dims)\n\u001b[0m\u001b[0;32m   1138\u001b[0m \u001b[1;33m\u001b[0m\u001b[0m\n\u001b[0;32m   1139\u001b[0m     def to_zarr(self, store=None, mode='w-', synchronizer=None, group=None,\n",
      "\u001b[1;32m~\\Anaconda3\\lib\\site-packages\\xarray\\backends\\api.py\u001b[0m in \u001b[0;36mto_netcdf\u001b[1;34m(dataset, path_or_file, mode, format, group, engine, writer, encoding, unlimited_dims)\u001b[0m\n\u001b[0;32m    649\u001b[0m     \u001b[0mtarget\u001b[0m \u001b[1;33m=\u001b[0m \u001b[0mpath_or_file\u001b[0m \u001b[1;32mif\u001b[0m \u001b[0mpath_or_file\u001b[0m \u001b[1;32mis\u001b[0m \u001b[1;32mnot\u001b[0m \u001b[1;32mNone\u001b[0m \u001b[1;32melse\u001b[0m \u001b[0mBytesIO\u001b[0m\u001b[1;33m(\u001b[0m\u001b[1;33m)\u001b[0m\u001b[1;33m\u001b[0m\u001b[0m\n\u001b[0;32m    650\u001b[0m     store = store_open(target, mode, format, group, writer,\n\u001b[1;32m--> 651\u001b[1;33m                        autoclose=autoclose, lock=lock)\n\u001b[0m\u001b[0;32m    652\u001b[0m \u001b[1;33m\u001b[0m\u001b[0m\n\u001b[0;32m    653\u001b[0m     \u001b[1;32mif\u001b[0m \u001b[0munlimited_dims\u001b[0m \u001b[1;32mis\u001b[0m \u001b[1;32mNone\u001b[0m\u001b[1;33m:\u001b[0m\u001b[1;33m\u001b[0m\u001b[0m\n",
      "\u001b[1;32m~\\Anaconda3\\lib\\site-packages\\xarray\\backends\\netCDF4_.py\u001b[0m in \u001b[0;36mopen\u001b[1;34m(cls, filename, mode, format, group, writer, clobber, diskless, persist, autoclose, lock)\u001b[0m\n\u001b[0;32m    278\u001b[0m                                    \u001b[0mdiskless\u001b[0m\u001b[1;33m=\u001b[0m\u001b[0mdiskless\u001b[0m\u001b[1;33m,\u001b[0m \u001b[0mpersist\u001b[0m\u001b[1;33m=\u001b[0m\u001b[0mpersist\u001b[0m\u001b[1;33m,\u001b[0m\u001b[1;33m\u001b[0m\u001b[0m\n\u001b[0;32m    279\u001b[0m                                    format=format)\n\u001b[1;32m--> 280\u001b[1;33m         \u001b[0mds\u001b[0m \u001b[1;33m=\u001b[0m \u001b[0mopener\u001b[0m\u001b[1;33m(\u001b[0m\u001b[1;33m)\u001b[0m\u001b[1;33m\u001b[0m\u001b[0m\n\u001b[0m\u001b[0;32m    281\u001b[0m         return cls(ds, mode=mode, writer=writer, opener=opener,\n\u001b[0;32m    282\u001b[0m                    autoclose=autoclose, lock=lock)\n",
      "\u001b[1;32m~\\Anaconda3\\lib\\site-packages\\xarray\\backends\\netCDF4_.py\u001b[0m in \u001b[0;36m_open_netcdf4_group\u001b[1;34m(filename, mode, group, **kwargs)\u001b[0m\n\u001b[0;32m    202\u001b[0m     \u001b[1;32mimport\u001b[0m \u001b[0mnetCDF4\u001b[0m \u001b[1;32mas\u001b[0m \u001b[0mnc4\u001b[0m\u001b[1;33m\u001b[0m\u001b[0m\n\u001b[0;32m    203\u001b[0m \u001b[1;33m\u001b[0m\u001b[0m\n\u001b[1;32m--> 204\u001b[1;33m     \u001b[0mds\u001b[0m \u001b[1;33m=\u001b[0m \u001b[0mnc4\u001b[0m\u001b[1;33m.\u001b[0m\u001b[0mDataset\u001b[0m\u001b[1;33m(\u001b[0m\u001b[0mfilename\u001b[0m\u001b[1;33m,\u001b[0m \u001b[0mmode\u001b[0m\u001b[1;33m=\u001b[0m\u001b[0mmode\u001b[0m\u001b[1;33m,\u001b[0m \u001b[1;33m**\u001b[0m\u001b[0mkwargs\u001b[0m\u001b[1;33m)\u001b[0m\u001b[1;33m\u001b[0m\u001b[0m\n\u001b[0m\u001b[0;32m    205\u001b[0m \u001b[1;33m\u001b[0m\u001b[0m\n\u001b[0;32m    206\u001b[0m     \u001b[1;32mwith\u001b[0m \u001b[0mclose_on_error\u001b[0m\u001b[1;33m(\u001b[0m\u001b[0mds\u001b[0m\u001b[1;33m)\u001b[0m\u001b[1;33m:\u001b[0m\u001b[1;33m\u001b[0m\u001b[0m\n",
      "\u001b[1;32mnetCDF4\\_netCDF4.pyx\u001b[0m in \u001b[0;36mnetCDF4._netCDF4.Dataset.__init__\u001b[1;34m()\u001b[0m\n",
      "\u001b[1;32mnetCDF4\\_netCDF4.pyx\u001b[0m in \u001b[0;36mnetCDF4._netCDF4._ensure_nc_success\u001b[1;34m()\u001b[0m\n",
      "\u001b[1;31mPermissionError\u001b[0m: [Errno 13] Permission denied: b'f:\\\\data\\\\cruise_data\\\\saildrone\\\\baja-2018\\\\daily_files\\\\sd-1002\\\\l3r_temp_all_final.nc'"
     ]
    }
   ],
   "source": [
    "filename_l3r_temp='f:/data/cruise_data/saildrone/baja-2018/daily_files/sd-1002/l3r_temp_all_final.nc'\n",
    "l3r.to_netcdf(filename_l3r_temp)"
   ]
  },
  {
   "cell_type": "code",
   "execution_count": 116,
   "metadata": {},
   "outputs": [],
   "source": [
    "l3r=xr.open_dataset(filename_l3r_temp)\n",
    "#l3r.time[0:100]\n"
   ]
  },
  {
   "cell_type": "code",
   "execution_count": 117,
   "metadata": {},
   "outputs": [
    {
     "data": {
      "text/plain": [
       "<xarray.DataArray 'TIME' (trajectory: 1, obs: 85592)>\n",
       "array([['2018-04-11T18:00:00.000000000', '2018-04-11T18:01:00.000000000',\n",
       "        '2018-04-11T18:02:00.000000000', ..., '2018-06-10T22:29:00.000000000',\n",
       "        '2018-06-10T22:30:00.000000000', '2018-06-10T22:31:00.000000000']],\n",
       "      dtype='datetime64[ns]')\n",
       "Coordinates:\n",
       "  * trajectory  (trajectory) float32 1002.0\n",
       "Dimensions without coordinates: obs\n",
       "Attributes:\n",
       "    standard_name:  \n",
       "    long_name:      \n",
       "    axis:           T"
      ]
     },
     "execution_count": 117,
     "metadata": {},
     "output_type": "execute_result"
    }
   ],
   "source": [
    "filename_all_nc='F:/data/cruise_data/saildrone/baja-2018/saildrone-gen_4-baja_2018-EP-sd1002-ALL-1_min-v1.nc'\n",
    "dataset=xr.open_dataset(filename_all_nc)\n",
    "dataset.TIME[0:4]"
   ]
  },
  {
   "cell_type": "code",
   "execution_count": 118,
   "metadata": {},
   "outputs": [
    {
     "data": {
      "text/plain": [
       "<xarray.DataArray 'time' ()>\n",
       "array('2018-04-08T00:00:00.000000000', dtype='datetime64[ns]')\n",
       "Coordinates:\n",
       "    time     datetime64[ns] 2018-04-08"
      ]
     },
     "execution_count": 118,
     "metadata": {},
     "output_type": "execute_result"
    }
   ],
   "source": [
    "filename_1min_data_netcdf = 'F:/data/cruise_data/saildrone/baja-2018/daily_files/sd-1002/' + 'temperature_logger_1min.nc'\n",
    "ds3_1min=xr.open_dataset(filename_1min_data_netcdf)\n",
    "ds3_1min.time[0]"
   ]
  },
  {
   "cell_type": "code",
   "execution_count": null,
   "metadata": {},
   "outputs": [],
   "source": [
    "#initialize data\n",
    "#go to each 1 min average and match to data in saildrone data files\n",
    "d1=np.ones((1,85592))*-999\n",
    "d2=np.ones((1,85592))*-999\n",
    "d3=np.ones((1,85592))*-999\n",
    "d4=np.ones((1,85592))*-999\n",
    "ilen=85592\n",
    "for i in range(0,ilen):\n",
    "    itemindex = np.where(ds3_1min.time==dataset.TIME.data[0,i])\n",
    "    #print(itemindex,ds3_1min.sea_water_temperature_1_mean.data[itemindex])\n",
    "    d1[0,i]=ds3_1min.sea_water_temperature_1_mean.data[itemindex]\n",
    "    d2[0,i]=ds3_1min.sea_water_temperature_1_mean.data[itemindex]\n",
    "    d3[0,i]=ds3_1min.sea_water_temperature_1_mean.data[itemindex]\n",
    "    d4[0,i]=ds3_1min.sea_water_temperature_1_mean.data[itemindex]\n"
   ]
  },
  {
   "cell_type": "code",
   "execution_count": null,
   "metadata": {},
   "outputs": [],
   "source": [
    "print(type(d1))\n",
    "print(type(dataset))"
   ]
  },
  {
   "cell_type": "code",
   "execution_count": null,
   "metadata": {},
   "outputs": [],
   "source": [
    "dataset['sea_water_temperature_logger1_mean'] = (('trajectory', 'obs'), d1)\n",
    "dataset['sea_water_temperature_logger2_mean'] = (('trajectory', 'obs'), d1)\n",
    "dataset['sea_water_temperature_logger3_mean'] = (('trajectory', 'obs'), d1)\n",
    "dataset['sea_water_temperature_logger4_mean'] = (('trajectory', 'obs'), d1)"
   ]
  },
  {
   "cell_type": "code",
   "execution_count": null,
   "metadata": {},
   "outputs": [],
   "source": [
    "dataset.sea_water_temperature_logger1_mean"
   ]
  },
  {
   "cell_type": "code",
   "execution_count": null,
   "metadata": {},
   "outputs": [],
   "source": []
  }
 ],
 "metadata": {
  "kernelspec": {
   "display_name": "Python 3",
   "language": "python",
   "name": "python3"
  },
  "language_info": {
   "codemirror_mode": {
    "name": "ipython",
    "version": 3
   },
   "file_extension": ".py",
   "mimetype": "text/x-python",
   "name": "python",
   "nbconvert_exporter": "python",
   "pygments_lexer": "ipython3",
   "version": "3.5.5"
  }
 },
 "nbformat": 4,
 "nbformat_minor": 2
}
