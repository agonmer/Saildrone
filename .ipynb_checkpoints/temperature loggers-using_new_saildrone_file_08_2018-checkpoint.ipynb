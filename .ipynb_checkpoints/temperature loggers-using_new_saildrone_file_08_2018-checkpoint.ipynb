{
 "cells": [
  {
   "cell_type": "code",
   "execution_count": 1,
   "metadata": {},
   "outputs": [],
   "source": [
    "import pandas as pd\n",
    "from pandas import ExcelWriter\n",
    "from pandas import ExcelFile\n",
    "import datetime as dt\n",
    "from datetime import datetime, timedelta\n",
    "import numpy as np\n",
    "import xarray as xr\n",
    "import matplotlib.pyplot as plt\n",
    "\n",
    "#xf_ave=xf.groupby('time.minute').mean() #this doesn't create a minute average, but a minute climatology\n",
    "#this code creates the average for each minute using all the data for that minute, \n",
    "#so it is centered at 30 seconds for each minute\n",
    "#i check this #print(xf.Temperature_1[30:60].mean())  #xf_avg.Temperature_1[1].data\n",
    "#xf_avg = xf.resample(time='1min',skipna=True).mean()\n",
    "#print(xf_avg)\n",
    "#talked to dave peacock averaging is :54 to 1:06 for each 1 minute average\n",
    "#so need to take data and set to flag values for 07 to 53 seconds for each minute of data then\n",
    "#then do resample so that the only valid data included in the average is :54 to 1:06\n",
    "\n",
    "adir0='F:/data/cruise_data/saildrone/baja-2018/daily_files/sd-1002/'\n",
    "adir='F:/data/cruise_data/saildrone/baja-2018/daily_files/sd-1002/sbe_temperature_logger_data/'\n",
    "filename_all_nc='F:/data/cruise_data/saildrone/baja-2018/saildrone-gen_4-baja_2018-EP-sd1002-ALL-1_min-v1.nc'\n",
    "filename_all_data_netcdf = adir0 + 'temperature_logger_all.nc'\n",
    "filename_1min_data_netcdf = adir0 + 'temperature_logger_1min.nc'\n",
    "#filename_1min_data_netcdf = 'F:/data/cruise_data/saildrone/baja-2018/daily_files/sd-1002/' + 'temperature_logger_1min.nc'\n",
    "filename_loggers_out_nc='f:/data/cruise_data/saildrone/baja-2018/saildrone-gen_4-baja_2018-EP-sd1002-ALL-1_min-v1_with_loggers.nc'"
   ]
  },
  {
   "cell_type": "code",
   "execution_count": 2,
   "metadata": {},
   "outputs": [],
   "source": [
    "filename_1 = adir + 'SBE05608196_1_top/SBE05608196_2018-06-21.csv'\n",
    "filename_2 = adir + 'SBE05604705_2/SBE05604705_2018-06-22.csv'\n",
    "filename_3 = adir + 'SBE05605200_3/SBE05605200_2018-06-21.csv'\n",
    "filename_4 = adir + 'SBE05608476_4_bottom/SBE05608476_2018-06-21.csv'\n",
    "df = pd.read_csv(filename_1,header=11) #, sheet_name='data')\n",
    "#increment time by 6 seconds so that minute average ois from 0-12seconds rather than -6 to +6 seconds around zeros\n",
    "offset = pd.to_timedelta(6, unit='s') \n",
    "df['time']=pd.to_datetime(df['Date'] + ' ' + df['Time'])+offset\n",
    "del df['Date']\n",
    "del df['Time']\n",
    "df.index=df['time']\n",
    "xf1=df.to_xarray()\n",
    "xf=df.to_xarray()\n",
    "xf=xf.rename({'Temperature':'sea_water_temperature_1'})\n",
    "\n",
    "df = pd.read_csv(filename_2,header=11) #, sheet_name='data')\n",
    "offset = pd.to_timedelta(6, unit='s') \n",
    "df['time']=pd.to_datetime(df['Date'] + ' ' + df['Time'])+offset\n",
    "del df['Date']\n",
    "del df['Time']\n",
    "df.index=df['time']\n",
    "xf2=df.to_xarray()\n",
    "\n",
    "df = pd.read_csv(filename_3,header=11) #, sheet_name='data')\n",
    "offset = pd.to_timedelta(6, unit='s') \n",
    "df['time']=pd.to_datetime(df['Date'] + ' ' + df['Time'])+offset\n",
    "del df['Date']\n",
    "del df['Time']\n",
    "df.index=df['time']\n",
    "xf3=df.to_xarray()\n",
    "\n",
    "df = pd.read_csv(filename_4,header=11) #, sheet_name='data')\n",
    "offset = pd.to_timedelta(6, unit='s') \n",
    "df['time']=pd.to_datetime(df['Date'] + ' ' + df['Time'])+offset\n",
    "del df['Date']\n",
    "del df['Time']\n",
    "df.index=df['time']\n",
    "xf4=df.to_xarray()\n",
    "\n",
    "#print(xf.dims)  3233981\n",
    "#print(xf2.dims)  3270126\n",
    "#print(xf3.dims)  3234945\n",
    "#print(xf4.dims)  3236717\n",
    "\n",
    "ilen=len(xf.time)\n",
    "xf['sea_water_temperature_2']=xf2.Temperature[0:3233981]\n",
    "xf['sea_water_temperature_3']=xf3.Temperature[0:3233981]\n",
    "xf['sea_water_temperature_4']=xf4.Temperature[0:3233981]"
   ]
  },
  {
   "cell_type": "code",
   "execution_count": 3,
   "metadata": {},
   "outputs": [
    {
     "name": "stdout",
     "output_type": "stream",
     "text": [
      "2018-06-21T20:39:25.000000000\n",
      "2018-06-21T20:39:25.000000000\n",
      "2018-06-21T20:39:25.000000000\n",
      "2018-06-21T20:39:25.000000000\n",
      "23.4876\n",
      "23.7626\n",
      "23.7624\n",
      "23.7795\n"
     ]
    }
   ],
   "source": [
    "#check that times all the same intervals and ends\n",
    "print(xf1.time[3233980].data)\n",
    "print(xf2.time[3233980].data)\n",
    "print(xf3.time[3233980].data)\n",
    "print(xf4.time[3233980].data)\n",
    "\n",
    "print(xf.sea_water_temperature_1[3233980].data)\n",
    "print(xf.sea_water_temperature_2[3233980].data)\n",
    "print(xf.sea_water_temperature_3[3233980].data)\n",
    "print(xf.sea_water_temperature_4[3233980].data)\n"
   ]
  },
  {
   "cell_type": "code",
   "execution_count": 4,
   "metadata": {},
   "outputs": [],
   "source": [
    "attrs = {'long_name': 'sea surface depth temperature at 0.295 m','coordinates': 'time',\n",
    "        'standard_name': 'Seawater temperature', 'installed_height':'-0.295 m' ,\n",
    "         'serial_number' : 'SBE05608196', 'model_number': '56', \n",
    "          'sensor_description': 'Seabird 56 Temperature Logger',\n",
    "         'model_name': 'SBE 56', 'product_page':'http://www.seabird.com/sbe56-temperature-logger', \n",
    "          'nominal_sampling_schedule': '2 sec', \n",
    "         'units':'kelvin','valid_min':260.0,'valid_max':320.0}\n",
    "xf.sea_water_temperature_1.attrs=attrs\n",
    "attrs = {'long_name': 'sea surface depth temperature at 0.985 m','coordinates': 'time',\n",
    "        'standard_name': 'Seawater temperature', 'installed_height':'-0.985 m' ,\n",
    "         'serial_number' : 'SBE05604705', 'model_number': '56', \n",
    "          'sensor_description': 'Seabird 56 Temperature Logger',\n",
    "         'model_name': 'SBE 56', 'product_page':'http://www.seabird.com/sbe56-temperature-logger', \n",
    "          'nominal_sampling_schedule': '2 sec', \n",
    "         'units':'kelvin','valid_min':260.0,'valid_max':320.0}\n",
    "xf.sea_water_temperature_2.attrs=attrs\n",
    "attrs = {'long_name': 'sea surface depth temperature at -1.420 m','coordinates': 'time',\n",
    "        'standard_name': 'Seawater temperature', 'installed_height':'-1.420 m' ,\n",
    "         'serial_number' : 'SBE05605200', 'model_number': '56', \n",
    "          'sensor_description': 'Seabird 56 Temperature Logger',\n",
    "         'model_name': 'SBE 56', 'product_page':'http://www.seabird.com/sbe56-temperature-logger', \n",
    "          'nominal_sampling_schedule': '2 sec', \n",
    "         'units':'kelvin','valid_min':260.0,'valid_max':320.0}\n",
    "xf.sea_water_temperature_3.attrs=attrs\n",
    "attrs = {'long_name': 'sea surface depth temperature at -1.785 m','coordinates': 'time',\n",
    "        'standard_name': 'Seawater temperature', 'installed_height':'-1.785 m' ,\n",
    "         'serial_number' : 'SBE05608476', 'model_number': '56', \n",
    "          'sensor_description': 'Seabird 56 Temperature Logger',\n",
    "         'model_name': 'SBE 56', 'product_page':'http://www.seabird.com/sbe56-temperature-logger', \n",
    "          'nominal_sampling_schedule': '2 sec', \n",
    "         'units':'kelvin','valid_min':260.0,'valid_max':320.0}\n",
    "xf.sea_water_temperature_4.attrs=attrs\n",
    "\n"
   ]
  },
  {
   "cell_type": "code",
   "execution_count": 5,
   "metadata": {},
   "outputs": [
    {
     "data": {
      "text/plain": [
       "<xarray.DataArray 'sea_water_temperature_4' (time: 3233981)>\n",
       "array([22.4026, 22.4025, 22.4026, ..., 23.7792, 23.7792, 23.7795])\n",
       "Coordinates:\n",
       "  * time     (time) datetime64[ns] 2018-04-08T00:00:06 2018-04-08T00:00:08 ...\n",
       "Attributes:\n",
       "    sensor_description:         Seabird 56 Temperature Logger\n",
       "    standard_name:              Seawater temperature\n",
       "    units:                      kelvin\n",
       "    valid_min:                  260.0\n",
       "    product_page:               http://www.seabird.com/sbe56-temperature-logger\n",
       "    installed_height:           -1.785 m\n",
       "    nominal_sampling_schedule:  2 sec\n",
       "    coordinates:                time\n",
       "    serial_number:              SBE05608476\n",
       "    valid_max:                  320.0\n",
       "    model_number:               56\n",
       "    model_name:                 SBE 56\n",
       "    long_name:                  sea surface depth temperature at -1.785 m"
      ]
     },
     "execution_count": 5,
     "metadata": {},
     "output_type": "execute_result"
    }
   ],
   "source": [
    "xf.sea_water_temperature_4"
   ]
  },
  {
   "cell_type": "code",
   "execution_count": 6,
   "metadata": {},
   "outputs": [
    {
     "data": {
      "text/plain": [
       "<xarray.DataArray 'sea_water_temperature_1' (time: 3233981)>\n",
       "array([22.3957, 22.3957, 22.3955, ..., 23.4869, 23.487 , 23.4876])\n",
       "Coordinates:\n",
       "  * time     (time) datetime64[ns] 2018-04-08T00:00:06 2018-04-08T00:00:08 ...\n",
       "Attributes:\n",
       "    sensor_description:         Seabird 56 Temperature Logger\n",
       "    standard_name:              Seawater temperature\n",
       "    units:                      kelvin\n",
       "    valid_min:                  260.0\n",
       "    product_page:               http://www.seabird.com/sbe56-temperature-logger\n",
       "    installed_height:           -0.295 m\n",
       "    nominal_sampling_schedule:  2 sec\n",
       "    coordinates:                time\n",
       "    serial_number:              SBE05608196\n",
       "    valid_max:                  320.0\n",
       "    model_number:               56\n",
       "    model_name:                 SBE 56\n",
       "    long_name:                  sea surface depth temperature at 0.295 m"
      ]
     },
     "execution_count": 6,
     "metadata": {},
     "output_type": "execute_result"
    }
   ],
   "source": [
    "xf.sea_water_temperature_1"
   ]
  },
  {
   "cell_type": "code",
   "execution_count": 7,
   "metadata": {},
   "outputs": [
    {
     "data": {
      "image/png": "[encoded data removed]",
      "text/plain": [
       "<Figure size 432x288 with 1 Axes>"
      ]
     },
     "metadata": {},
     "output_type": "display_data"
    }
   ],
   "source": [
    "#start cruise, into water 160270\n",
    "#end cruise, out 470900\n",
    "i1=460000\n",
    "i2=-10000\n",
    "xf.sea_water_temperature_1[i1:i2].plot.line(color='purple')\n",
    "xf.sea_water_temperature_2[i1:i2].plot.line(color='red')\n",
    "xf.sea_water_temperature_3[i1:i2].plot.line(color='green')\n",
    "xf.sea_water_temperature_4[i1:i2].plot.line(color='blue')\n",
    "plt.show()"
   ]
  },
  {
   "cell_type": "code",
   "execution_count": 28,
   "metadata": {},
   "outputs": [
    {
     "data": {
      "text/plain": [
       "<xarray.DataArray 'sea_water_temperature_1' (time: 10)>\n",
       "array([22.395625, 22.396343, 22.397286, 22.398271, 22.399343, 22.400567,\n",
       "       22.4019  , 22.403517, 22.4051  , 22.40685 ])\n",
       "Coordinates:\n",
       "  * time     (time) datetime64[ns] 2018-04-08 2018-04-08T00:01:00 ..."
      ]
     },
     "execution_count": 28,
     "metadata": {},
     "output_type": "execute_result"
    }
   ],
   "source": [
    "xftem=xf.sea_water_temperature_1\n",
    "pt = pd.to_datetime(xftem.time.data)\n",
    "psec=pt.second\n",
    "tem=xftem[(psec <=12)]  #data average should be only use sec 54 to sec 06 of each minute \n",
    "xf_avg1 = tem.resample(time='1min').mean()\n",
    "xf_std1 = tem.resample(time='1min').std(ddof=1)\n",
    "xf['sea_water_temperature_1_mean']=xf_avg1\n",
    "xf['sea_water_temperature_1_std']=xf_std1\n",
    "\n"
   ]
  },
  {
   "cell_type": "code",
   "execution_count": 30,
   "metadata": {},
   "outputs": [
    {
     "name": "stdout",
     "output_type": "stream",
     "text": [
      "<xarray.DataArray 'sea_water_temperature_1' (time: 10)>\n",
      "array([22.395625, 22.396343, 22.397286, 22.398271, 22.399343, 22.400567,\n",
      "       22.4019  , 22.403517, 22.4051  , 22.40685 ])\n",
      "Coordinates:\n",
      "  * time     (time) datetime64[ns] 2018-04-08 2018-04-08T00:01:00 ...\n",
      "<xarray.DataArray 'sea_water_temperature_1_mean' (time: 100)>\n",
      "array([      nan,       nan,       nan,       nan,       nan,       nan,\n",
      "             nan,       nan,       nan,       nan,       nan,       nan,\n",
      "             nan,       nan,       nan,       nan,       nan,       nan,\n",
      "             nan,       nan,       nan,       nan,       nan,       nan,\n",
      "             nan,       nan,       nan, 22.396343,       nan,       nan,\n",
      "             nan,       nan,       nan,       nan,       nan,       nan,\n",
      "             nan,       nan,       nan,       nan,       nan,       nan,\n",
      "             nan,       nan,       nan,       nan,       nan,       nan,\n",
      "             nan,       nan,       nan,       nan,       nan,       nan,\n",
      "             nan,       nan,       nan, 22.397286,       nan,       nan,\n",
      "             nan,       nan,       nan,       nan,       nan,       nan,\n",
      "             nan,       nan,       nan,       nan,       nan,       nan,\n",
      "             nan,       nan,       nan,       nan,       nan,       nan,\n",
      "             nan,       nan,       nan,       nan,       nan,       nan,\n",
      "             nan,       nan,       nan, 22.398271,       nan,       nan,\n",
      "             nan,       nan,       nan,       nan,       nan,       nan,\n",
      "             nan,       nan,       nan,       nan])\n",
      "Coordinates:\n",
      "  * time     (time) datetime64[ns] 2018-04-08T00:00:06 2018-04-08T00:00:08 ...\n"
     ]
    }
   ],
   "source": [
    "print(xf_avg1[0:10])\n",
    "print(xf.sea_water_temperature_1_mean[0:100])"
   ]
  },
  {
   "cell_type": "code",
   "execution_count": 8,
   "metadata": {},
   "outputs": [],
   "source": [
    "\n",
    "xftem=xf.sea_water_temperature_2\n",
    "pt = pd.to_datetime(xftem.time.data)\n",
    "psec=pt.second\n",
    "tem=xftem[(psec <=12)]  #data average should be only use sec 54 to sec 06 of each minute \n",
    "xf_avg2 = tem.resample(time='1min').mean()\n",
    "xf_std2 = tem.resample(time='1min').std(ddof=1)\n",
    "xf['sea_water_temperature_2_mean']=xf_avg2\n",
    "xf['sea_water_temperature_2_std']=xf_std2\n",
    "\n",
    "xftem=xf.sea_water_temperature_3\n",
    "pt = pd.to_datetime(xftem.time.data)\n",
    "psec=pt.second\n",
    "tem=xftem[(psec <=12)]  #data average should be only use sec 54 to sec 06 of each minute \n",
    "xf_avg3 = tem.resample(time='1min').mean()\n",
    "xf_std3 = tem.resample(time='1min').std(ddof=1)\n",
    "xf['sea_water_temperature_3_mean']=xf_avg3\n",
    "xf['sea_water_temperature_3_std']=xf_std3\n",
    "\n",
    "xftem=xf.sea_water_temperature_4\n",
    "pt = pd.to_datetime(xftem.time.data)\n",
    "psec=pt.second\n",
    "tem=xftem[(psec <=12)]  #data average should be only use sec 54 to sec 06 of each minute \n",
    "xf_avg4 = tem.resample(time='1min').mean()\n",
    "xf_std4 = tem.resample(time='1min').std(ddof=1)\n",
    "xf['sea_water_temperature_4_mean']=xf_avg4\n",
    "xf['sea_water_temperature_4_std']=xf_std4\n"
   ]
  },
  {
   "cell_type": "code",
   "execution_count": 31,
   "metadata": {},
   "outputs": [
    {
     "name": "stdout",
     "output_type": "stream",
     "text": [
      "<xarray.DataArray 'sea_water_temperature_1' (time: 10)>\n",
      "array([22.395625, 22.396343, 22.397286, 22.398271, 22.399343, 22.400567,\n",
      "       22.4019  , 22.403517, 22.4051  , 22.40685 ])\n",
      "Coordinates:\n",
      "  * time     (time) datetime64[ns] 2018-04-08 2018-04-08T00:01:00 ...\n",
      "<xarray.DataArray 'sea_water_temperature_2' (time: 10)>\n",
      "array([22.39395 , 22.394714, 22.395571, 22.3965  , 22.397486, 22.398717,\n",
      "       22.400033, 22.401533, 22.403033, 22.40465 ])\n",
      "Coordinates:\n",
      "  * time     (time) datetime64[ns] 2018-04-08 2018-04-08T00:01:00 ...\n",
      "<xarray.DataArray 'sea_water_temperature_3' (time: 10)>\n",
      "array([22.34955 , 22.350414, 22.351014, 22.351929, 22.3528  , 22.353717,\n",
      "       22.354817, 22.356033, 22.3573  , 22.3586  ])\n",
      "Coordinates:\n",
      "  * time     (time) datetime64[ns] 2018-04-08 2018-04-08T00:01:00 ...\n",
      "<xarray.DataArray 'sea_water_temperature_4' (time: 10)>\n",
      "array([22.402575, 22.403257, 22.403886, 22.404514, 22.405343, 22.4062  ,\n",
      "       22.4072  , 22.4083  , 22.409417, 22.410583])\n",
      "Coordinates:\n",
      "  * time     (time) datetime64[ns] 2018-04-08 2018-04-08T00:01:00 ...\n"
     ]
    }
   ],
   "source": [
    "print(xf_avg1[0:10])\n",
    "print(xf_avg2[0:10])\n",
    "print(xf_avg3[0:10])\n",
    "print(xf_avg4[0:10])"
   ]
  },
  {
   "cell_type": "code",
   "execution_count": 27,
   "metadata": {},
   "outputs": [],
   "source": [
    "i1=460000\n",
    "i2=-10000\n",
    "xf.sea_water_temperature_1_mean\n",
    "#xf.sea_water_temperature_2_mean[i1:i2].plot.line(color='red')\n",
    "#xf.sea_water_temperature_3_mean[i1:i2].plot.line(color='green')\n",
    "#xf.sea_water_temperature_4_mean[i1:i2].plot.line(color='blue')\n",
    "plt.show()#xf_avg1\n",
    "#xf2"
   ]
  },
  {
   "cell_type": "code",
   "execution_count": 10,
   "metadata": {},
   "outputs": [
    {
     "data": {
      "text/plain": [
       "<xarray.Dataset>\n",
       "Dimensions:                  (time: 3270126)\n",
       "Coordinates:\n",
       "  * time                     (time) datetime64[ns] 2018-04-08T00:00:06 ...\n",
       "Data variables:\n",
       "    sea_water_temperature_1  (time) float64 22.4 22.4 22.4 22.4 22.4 22.4 ...\n",
       "    sea_water_temperature_2  (time) float64 22.39 22.39 22.39 22.39 22.39 ...\n",
       "    sea_water_temperature_3  (time) float64 22.35 22.35 22.35 22.35 22.35 ...\n",
       "    sea_water_temperature_4  (time) float64 22.4 22.4 22.4 22.4 22.4 22.4 ..."
      ]
     },
     "execution_count": 10,
     "metadata": {},
     "output_type": "execute_result"
    }
   ],
   "source": [
    "ds3 = xf2\n",
    "ds3['sea_water_temperature_1']=xf1.Temperature\n",
    "ds3['sea_water_temperature_2']=xf2.Temperature\n",
    "ds3['sea_water_temperature_3']=xf3.Temperature\n",
    "ds3['sea_water_temperature_4']=xf4.Temperature\n",
    "#   ....:                  'sea_water_temperature_1': (['time'], xf1),\n",
    "#   ....:                  'sea_water_temperature_2': (['time'], xf2),\n",
    "#   ....:                  'sea_water_temperature_3': (['time'], xf3),\n",
    "#  ....:                  'sea_water_temperature_4': (['time'], xf4)},\n",
    "#  ....:                 coords={'time': xf2.time[:]})\n",
    "del ds3['Temperature']\n",
    "ds3"
   ]
  },
  {
   "cell_type": "code",
   "execution_count": 11,
   "metadata": {},
   "outputs": [
    {
     "data": {
      "text/plain": [
       "<xarray.Dataset>\n",
       "Dimensions:                       (time: 107800)\n",
       "Coordinates:\n",
       "  * time                          (time) datetime64[ns] 2018-04-08 ...\n",
       "Data variables:\n",
       "    sea_water_temperature_3_std   (time) float64 0.0001291 0.0001464 ...\n",
       "    sea_water_temperature_4_mean  (time) float64 22.4 22.4 22.4 22.4 22.41 ...\n",
       "    sea_water_temperature_4_std   (time) float64 5e-05 0.0001134 0.0001676 ...\n",
       "    sea_water_temperature_1_std   (time) float64 9.574e-05 5.345e-05 ...\n",
       "    sea_water_temperature_2_mean  (time) float64 22.39 22.39 22.4 22.4 22.4 ...\n",
       "    sea_water_temperature_2_std   (time) float64 0.0001291 0.0001574 ...\n",
       "    sea_water_temperature_1_mean  (time) float64 22.4 22.4 22.4 22.4 22.4 ...\n",
       "    sea_water_temperature_3_mean  (time) float64 22.35 22.35 22.35 22.35 ..."
      ]
     },
     "execution_count": 11,
     "metadata": {},
     "output_type": "execute_result"
    }
   ],
   "source": [
    "ds3_1min = xr.Dataset({ \n",
    "                     'sea_water_temperature_1_mean': (['time'], xf_avg1),\n",
    "                    'sea_water_temperature_1_std': (['time'], xf_std1),\n",
    "                   'sea_water_temperature_2_mean': (['time'], xf_avg2),\n",
    "                    'sea_water_temperature_2_std': (['time'], xf_std2),\n",
    "                     'sea_water_temperature_3_mean': (['time'], xf_avg3),\n",
    "                     'sea_water_temperature_3_std': (['time'], xf_std3),\n",
    "                     'sea_water_temperature_4_mean': (['time'], xf_avg4),\n",
    "                    'sea_water_temperature_4_std': (['time'], xf_std4)},\n",
    "                    coords={'time': xf_avg1.time})\n",
    "ds3_1min"
   ]
  },
  {
   "cell_type": "code",
   "execution_count": 12,
   "metadata": {},
   "outputs": [],
   "source": [
    "attrs = {'long_name': 'sea surface depth temperature at 0.295 m','coordinates': 'time',\n",
    "        'standard_name': 'Seawater temperature', 'installed_height':'-0.295 m' ,\n",
    "         'serial_number' : 'SBE05608196', 'model_number': '56', \n",
    "          'sensor_description': 'Seabird 56 Temperature Logger',\n",
    "         'model_name': 'SBE 56', 'product_page':'http://www.seabird.com/sbe56-temperature-logger', \n",
    "          'nominal_sampling_schedule': '1 minute averages from :54 to :06 seconds', \n",
    "         'units':'kelvin','valid_min':260.0,'valid_max':320.0}\n",
    "xf.sea_water_temperature_1_mean.attrs=attrs\n",
    "ds3_1min.sea_water_temperature_1_mean.attrs=attrs\n",
    "#xf_avg.sea_water_temperature_1_mean.attrs=attrs\n",
    "attrs['nominal_sampling_schedule']='1 minute std from :54 to :06 seconds'\n",
    "xf.sea_water_temperature_1_std.attrs=attrs\n",
    "ds3_1min.sea_water_temperature_1_std.attrs=attrs\n",
    "#xf_avg.sea_water_temperature_1_std.attrs=attrs\n",
    "\n",
    "attrs['nominal_sampling_schedule']='1 minute average from :54 to :06 seconds'\n",
    "attrs['long_name']='sea surface depth temperature at 0.985 m'\n",
    "attrs['installed_height']='-0.985 m'\n",
    "attrs['serial_number']='SBE05604705'\n",
    "xf.sea_water_temperature_2_mean.attrs=attrs\n",
    "ds3_1min.sea_water_temperature_2_mean.attrs=attrs\n",
    "#xf_avg.sea_water_temperature_2_mean.attrs=attrs\n",
    "attrs['nominal_sampling_schedule']='1 minute std from :54 to :06 seconds'\n",
    "xf.sea_water_temperature_2_std.attrs=attrs\n",
    "ds3_1min.sea_water_temperature_2_std.attrs=attrs\n",
    "#xf_avg.sea_water_temperature_2_std.attrs=attrs\n",
    "\n",
    "attrs['nominal_sampling_schedule']='1 minute average from :54 to :06 seconds'\n",
    "attrs['long_name']='sea surface depth temperature at 1.420 m'\n",
    "attrs['installed_height']='-1.420 m'\n",
    "attrs['serial_number']='SBE05605200'\n",
    "xf.sea_water_temperature_3_mean.attrs=attrs\n",
    "ds3_1min.sea_water_temperature_3_mean.attrs=attrs\n",
    "#xf_avg.sea_water_temperature_3_mean.attrs=attrs\n",
    "attrs['nominal_sampling_schedule']='1 minute std from :54 to :06 seconds'\n",
    "xf.sea_water_temperature_3_std.attrs=attrs\n",
    "ds3_1min.sea_water_temperature_3_std.attrs=attrs\n",
    "#xf_avg.sea_water_temperature_3_std.attrs=attrs\n",
    "\n",
    "attrs['nominal_sampling_schedule']='1 minute average from :54 to :06 seconds'\n",
    "attrs['long_name']='sea surface depth temperature at 1.785 m'\n",
    "attrs['installed_height']='-1.785 m'\n",
    "attrs['serial_number']='SBE05608476'\n",
    "xf.sea_water_temperature_4_mean.attrs=attrs\n",
    "ds3_1min.sea_water_temperature_4_mean.attrs=attrs\n",
    "#xf_avg.sea_water_temperature_4_mean.attrs=attrs\n",
    "attrs['nominal_sampling_schedule']='1 minute std from :54 to :06 seconds'\n",
    "xf.sea_water_temperature_4_std.attrs=attrs\n",
    "ds3_1min.sea_water_temperature_4_std.attrs=attrs\n",
    "#xf_avg.sea_water_temperature_4_std.attrs=attrs\n"
   ]
  },
  {
   "cell_type": "code",
   "execution_count": 13,
   "metadata": {},
   "outputs": [],
   "source": [
    "#print(tem.time[0:15])\n",
    "#print(tem.data[0:15])\n",
    "#print(xf_avg[0])\n",
    "#print(xf_avg2[0:2])\n",
    "#print(xf_std2[0:2])"
   ]
  },
  {
   "cell_type": "code",
   "execution_count": 14,
   "metadata": {},
   "outputs": [
    {
     "data": {
      "image/png": "[encoded data removed]",
      "text/plain": [
       "<Figure size 432x288 with 1 Axes>"
      ]
     },
     "metadata": {},
     "output_type": "display_data"
    }
   ],
   "source": [
    "i1=460000\n",
    "i2=-10000\n",
    "xf.sea_water_temperature_4[i1:i2].plot.line(color='purple')\n",
    "xf.sea_water_temperature_4_mean[i1:i2].plot.line(color='red')\n",
    "#xf.sea_water_temperature_3[i1:i2].plot.line(color='green')\n",
    "#xf.sea_water_temperature_4[i1:i2].plot.line(color='blue')\n",
    "plt.show()"
   ]
  },
  {
   "cell_type": "code",
   "execution_count": 15,
   "metadata": {},
   "outputs": [],
   "source": [
    "ds3.to_netcdf(filename_all_data_netcdf)\n",
    "ds3_1min.to_netcdf(filename_1min_data_netcdf)"
   ]
  },
  {
   "cell_type": "code",
   "execution_count": 16,
   "metadata": {},
   "outputs": [],
   "source": [
    "#dtest=xr.open_dataset(filename_1min_data_netcdf)"
   ]
  },
  {
   "cell_type": "code",
   "execution_count": 17,
   "metadata": {},
   "outputs": [],
   "source": [
    "#combine with 1min average file\n",
    "#filename_out_nc='F:/data/cruise_data/saildrone/baja-2018/saildrone-gen_4-baja_2018-EP-sd1002-ALL-1_min-v1.nc'\n",
    "#dnew=xr.open_dataset(filename_1min_data_netcdf)\n",
    "#dall=xr.open_dataset(filename_out_nc)"
   ]
  },
  {
   "cell_type": "code",
   "execution_count": 18,
   "metadata": {},
   "outputs": [
    {
     "data": {
      "text/plain": [
       "<xarray.DataArray 'time' ()>\n",
       "array('2018-04-08T00:00:00.000000000', dtype='datetime64[ns]')\n",
       "Coordinates:\n",
       "    time     datetime64[ns] 2018-04-08"
      ]
     },
     "execution_count": 18,
     "metadata": {},
     "output_type": "execute_result"
    }
   ],
   "source": [
    "dataset=xr.open_dataset(filename_all_nc)\n",
    "dataset.TIME[0:4]\n",
    "ds3_1min=xr.open_dataset(filename_1min_data_netcdf)\n",
    "ds3_1min.time[0]"
   ]
  },
  {
   "cell_type": "code",
   "execution_count": 34,
   "metadata": {},
   "outputs": [],
   "source": [
    "#initialize data\n",
    "#go to each 1 min average and match to data in saildrone data files\n",
    "d1=np.ones((1,85592))*-999\n",
    "d2=np.ones((1,85592))*-999\n",
    "d3=np.ones((1,85592))*-999\n",
    "d4=np.ones((1,85592))*-999\n",
    "d1s=np.ones((1,85592))*-999\n",
    "d2s=np.ones((1,85592))*-999\n",
    "d3s=np.ones((1,85592))*-999\n",
    "d4s=np.ones((1,85592))*-999\n",
    "ilen=85592\n",
    "for i in range(0,ilen):\n",
    "    itemindex = np.where(ds3_1min.time==dataset.TIME.data[0,i])\n",
    "    #print(itemindex,ds3_1min.sea_water_temperature_1_mean.data[itemindex])\n",
    "    d1[0,i]=ds3_1min.sea_water_temperature_1_mean.data[itemindex]+273.15\n",
    "    d2[0,i]=ds3_1min.sea_water_temperature_2_mean.data[itemindex]+273.15\n",
    "    d3[0,i]=ds3_1min.sea_water_temperature_3_mean.data[itemindex]+273.15\n",
    "    d4[0,i]=ds3_1min.sea_water_temperature_4_mean.data[itemindex]+273.15\n",
    "    d1s[0,i]=ds3_1min.sea_water_temperature_1_std.data[itemindex]\n",
    "    d2s[0,i]=ds3_1min.sea_water_temperature_2_std.data[itemindex]\n",
    "    d3s[0,i]=ds3_1min.sea_water_temperature_3_std.data[itemindex]\n",
    "    d4s[0,i]=ds3_1min.sea_water_temperature_4_std.data[itemindex]"
   ]
  },
  {
   "cell_type": "code",
   "execution_count": 35,
   "metadata": {},
   "outputs": [],
   "source": [
    "dataset['sea_water_temperature_logger1_mean'] = (('trajectory', 'obs'), d1)\n",
    "dataset['sea_water_temperature_logger2_mean'] = (('trajectory', 'obs'), d2)\n",
    "dataset['sea_water_temperature_logger3_mean'] = (('trajectory', 'obs'), d3)\n",
    "dataset['sea_water_temperature_logger4_mean'] = (('trajectory', 'obs'), d4)\n",
    "dataset['sea_water_temperature_logger1_stddev'] = (('trajectory', 'obs'), d1s)\n",
    "dataset['sea_water_temperature_logger2_stddev'] = (('trajectory', 'obs'), d2s)\n",
    "dataset['sea_water_temperature_logger3_stddev'] = (('trajectory', 'obs'), d3s)\n",
    "dataset['sea_water_temperature_logger4_stddev'] = (('trajectory', 'obs'), d4s)"
   ]
  },
  {
   "cell_type": "code",
   "execution_count": 36,
   "metadata": {},
   "outputs": [],
   "source": [
    "attrs = {'long_name': 'sea surface depth temperature at 0.295 m','coordinates': 'time',\n",
    "        'standard_name': 'Seawater temperature', 'installed_height':'-0.295 m' ,\n",
    "         'serial_number' : 'SBE05608196', 'model_number': '56', \n",
    "          'sensor_description': 'Seabird 56 Temperature Logger',\n",
    "         'model_name': 'SBE 56', 'product_page':'http://www.seabird.com/sbe56-temperature-logger', \n",
    "          'nominal_sampling_schedule': '1 minute averages from :54 to :06 seconds', \n",
    "         'units':'kelvin','valid_min':260.0,'valid_max':320.0}\n",
    "dataset.sea_water_temperature_logger1_mean.attrs=attrs\n",
    "attrs['nominal_sampling_schedule']='1 minute std from :54 to :06 seconds'\n",
    "dataset.sea_water_temperature_logger1_stddev.attrs=attrs\n",
    "\n",
    "attrs['nominal_sampling_schedule']='1 minute average from :54 to :06 seconds'\n",
    "attrs['long_name']='sea surface depth temperature at 0.985 m'\n",
    "attrs['installed_height']='-0.985 m'\n",
    "attrs['serial_number']='SBE05604705'\n",
    "dataset.sea_water_temperature_logger2_mean.attrs=attrs\n",
    "attrs['nominal_sampling_schedule']='1 minute std from :54 to :06 seconds'\n",
    "dataset.sea_water_temperature_logger2_stddev.attrs=attrs\n",
    "\n",
    "attrs['nominal_sampling_schedule']='1 minute average from :54 to :06 seconds'\n",
    "attrs['long_name']='sea surface depth temperature at 1.420 m'\n",
    "attrs['installed_height']='-1.420 m'\n",
    "attrs['serial_number']='SBE05605200'\n",
    "dataset.sea_water_temperature_logger3_mean.attrs=attrs\n",
    "attrs['nominal_sampling_schedule']='1 minute std from :54 to :06 seconds'\n",
    "dataset.sea_water_temperature_logger3_stddev.attrs=attrs\n",
    "\n",
    "attrs['nominal_sampling_schedule']='1 minute average from :54 to :06 seconds'\n",
    "attrs['long_name']='sea surface depth temperature at 1.785 m'\n",
    "attrs['installed_height']='-1.785 m'\n",
    "attrs['serial_number']='SBE05608476'\n",
    "dataset.sea_water_temperature_logger4_mean.attrs=attrs\n",
    "attrs['nominal_sampling_schedule']='1 minute std from :54 to :06 seconds'\n",
    "dataset.sea_water_temperature_logger4_stddev.attrs=attrs\n",
    "\n",
    "dataset.to_netcdf(filename_loggers_out_nc)"
   ]
  },
  {
   "cell_type": "code",
   "execution_count": 37,
   "metadata": {},
   "outputs": [
    {
     "name": "stdout",
     "output_type": "stream",
     "text": [
      "<xarray.DataArray 'sea_water_temperature_logger1_mean' (trajectory: 1, obs: 85592)>\n",
      "array([[288.266867, 288.154917, 288.17215 , ..., 287.328067, 287.5368  ,\n",
      "        287.47595 ]])\n",
      "Coordinates:\n",
      "  * trajectory  (trajectory) float32 1002.0\n",
      "Dimensions without coordinates: obs\n",
      "Attributes:\n",
      "    sensor_description:         Seabird 56 Temperature Logger\n",
      "    standard_name:              Seawater temperature\n",
      "    units:                      kelvin\n",
      "    valid_min:                  260.0\n",
      "    product_page:               http://www.seabird.com/sbe56-temperature-logger\n",
      "    installed_height:           -0.295 m\n",
      "    nominal_sampling_schedule:  1 minute averages from :54 to :06 seconds\n",
      "    coordinates:                time\n",
      "    serial_number:              SBE05608196\n",
      "    valid_max:                  320.0\n",
      "    model_number:               56\n",
      "    model_name:                 SBE 56\n",
      "    long_name:                  sea surface depth temperature at 0.295 m\n",
      "<xarray.DataArray 'sea_water_temperature_logger2_mean' (trajectory: 1, obs: 85592)>\n",
      "array([[288.195533, 288.0264  , 287.960967, ..., 287.291467, 287.534683,\n",
      "        287.466833]])\n",
      "Coordinates:\n",
      "  * trajectory  (trajectory) float32 1002.0\n",
      "Dimensions without coordinates: obs\n",
      "Attributes:\n",
      "    sensor_description:         Seabird 56 Temperature Logger\n",
      "    standard_name:              Seawater temperature\n",
      "    units:                      kelvin\n",
      "    valid_min:                  260.0\n",
      "    product_page:               http://www.seabird.com/sbe56-temperature-logger\n",
      "    installed_height:           -0.985 m\n",
      "    nominal_sampling_schedule:  1 minute average from :54 to :06 seconds\n",
      "    coordinates:                time\n",
      "    serial_number:              SBE05604705\n",
      "    valid_max:                  320.0\n",
      "    model_number:               56\n",
      "    model_name:                 SBE 56\n",
      "    long_name:                  sea surface depth temperature at 0.985 m\n",
      "<xarray.DataArray 'sea_water_temperature_logger3_mean' (trajectory: 1, obs: 85592)>\n",
      "array([[288.05905 , 287.963117, 287.909317, ..., 287.251617, 287.527217,\n",
      "        287.451417]])\n",
      "Coordinates:\n",
      "  * trajectory  (trajectory) float32 1002.0\n",
      "Dimensions without coordinates: obs\n",
      "Attributes:\n",
      "    sensor_description:         Seabird 56 Temperature Logger\n",
      "    standard_name:              Seawater temperature\n",
      "    units:                      kelvin\n",
      "    valid_min:                  260.0\n",
      "    product_page:               http://www.seabird.com/sbe56-temperature-logger\n",
      "    installed_height:           -1.420 m\n",
      "    nominal_sampling_schedule:  1 minute average from :54 to :06 seconds\n",
      "    coordinates:                time\n",
      "    serial_number:              SBE05605200\n",
      "    valid_max:                  320.0\n",
      "    model_number:               56\n",
      "    model_name:                 SBE 56\n",
      "    long_name:                  sea surface depth temperature at 1.420 m\n",
      "<xarray.DataArray 'sea_water_temperature_logger4_mean' (trajectory: 1, obs: 85592)>\n",
      "array([[287.941417, 287.891633, 287.865383, ..., 287.207017, 287.532767,\n",
      "        287.4525  ]])\n",
      "Coordinates:\n",
      "  * trajectory  (trajectory) float32 1002.0\n",
      "Dimensions without coordinates: obs\n",
      "Attributes:\n",
      "    sensor_description:         Seabird 56 Temperature Logger\n",
      "    standard_name:              Seawater temperature\n",
      "    units:                      kelvin\n",
      "    valid_min:                  260.0\n",
      "    product_page:               http://www.seabird.com/sbe56-temperature-logger\n",
      "    installed_height:           -1.785 m\n",
      "    nominal_sampling_schedule:  1 minute average from :54 to :06 seconds\n",
      "    coordinates:                time\n",
      "    serial_number:              SBE05608476\n",
      "    valid_max:                  320.0\n",
      "    model_number:               56\n",
      "    model_name:                 SBE 56\n",
      "    long_name:                  sea surface depth temperature at 1.785 m\n"
     ]
    }
   ],
   "source": [
    "print(dataset.sea_water_temperature_logger1_mean[0:10])\n",
    "print(dataset.sea_water_temperature_logger2_mean[0:10])\n",
    "print(dataset.sea_water_temperature_logger3_mean[0:10])\n",
    "print(dataset.sea_water_temperature_logger4_mean[0:10])"
   ]
  },
  {
   "cell_type": "code",
   "execution_count": 38,
   "metadata": {},
   "outputs": [
    {
     "data": {
      "text/plain": [
       "<xarray.Dataset>\n",
       "Dimensions:                               (obs: 85592, trajectory: 1)\n",
       "Coordinates:\n",
       "  * trajectory                            (trajectory) float32 1002.0\n",
       "Dimensions without coordinates: obs\n",
       "Data variables:\n",
       "    LAT                                   (trajectory, obs) float64 ...\n",
       "    TIME                                  (trajectory, obs) datetime64[ns] 2018-04-11T18:00:00 ...\n",
       "    TEMP_O2_STDDEV                        (trajectory, obs) float64 ...\n",
       "    CHLOR_MEAN                            (trajectory, obs) float64 ...\n",
       "    RH_MEAN                               (trajectory, obs) float64 ...\n",
       "    O2_CONC_STDDEV                        (trajectory, obs) float64 ...\n",
       "    BARO_PRES_MEAN                        (trajectory, obs) float64 ...\n",
       "    UWND_MEAN                             (trajectory, obs) float64 ...\n",
       "    SAL_STDDEV                            (trajectory, obs) float64 ...\n",
       "    TEMP_AIR_MEAN                         (trajectory, obs) float64 ...\n",
       "    CDOM_MEAN                             (trajectory, obs) float64 ...\n",
       "    SAL_MEAN                              (trajectory, obs) float64 ...\n",
       "    O2_SAT_MEAN                           (trajectory, obs) float64 ...\n",
       "    CHLOR_STDDEV                          (trajectory, obs) float64 ...\n",
       "    WWND_STDDEV                           (trajectory, obs) float64 ...\n",
       "    CDOM_STDDEV                           (trajectory, obs) float64 ...\n",
       "    COND_STDDEV                           (trajectory, obs) float64 ...\n",
       "    COND_MEAN                             (trajectory, obs) float64 ...\n",
       "    BKSCT_RED_MEAN                        (trajectory, obs) float64 ...\n",
       "    TEMP_IR_MEAN                          (trajectory, obs) float64 ...\n",
       "    WWND_MEAN                             (trajectory, obs) float64 ...\n",
       "    O2_SAT_STDDEV                         (trajectory, obs) float64 ...\n",
       "    O2_CONC_MEAN                          (trajectory, obs) float64 ...\n",
       "    TEMP_O2_MEAN                          (trajectory, obs) float64 ...\n",
       "    TEMP_CTD_STDDEV                       (trajectory, obs) float64 ...\n",
       "    TEMP_AIR_STDDEV                       (trajectory, obs) float64 ...\n",
       "    BARO_PRES_STDDEV                      (trajectory, obs) float64 ...\n",
       "    TEMP_IR_STDDEV                        (trajectory, obs) float64 ...\n",
       "    VWND_STDDEV                           (trajectory, obs) float64 ...\n",
       "    RH_STDDEV                             (trajectory, obs) float64 ...\n",
       "    GUST_WND_STDDEV                       (trajectory, obs) float64 ...\n",
       "    GUST_WND_MEAN                         (trajectory, obs) float64 ...\n",
       "    BKSCT_RED_STDDEV                      (trajectory, obs) float64 ...\n",
       "    TEMP_CTD_MEAN                         (trajectory, obs) float64 ...\n",
       "    VWND_MEAN                             (trajectory, obs) float64 ...\n",
       "    UWND_STDDEV                           (trajectory, obs) float64 ...\n",
       "    SOG                                   (trajectory, obs) float64 ...\n",
       "    ROLL                                  (trajectory, obs) float64 ...\n",
       "    HDG                                   (trajectory, obs) float64 ...\n",
       "    HDG_WING                              (trajectory, obs) float64 ...\n",
       "    COG                                   (trajectory, obs) float64 ...\n",
       "    WING_ANGLE                            (trajectory, obs) float64 ...\n",
       "    PITCH                                 (trajectory, obs) float64 ...\n",
       "    LON                                   (trajectory, obs) float64 ...\n",
       "    sea_water_temperature_logger1_mean    (trajectory, obs) float64 288.3 ...\n",
       "    sea_water_temperature_logger2_mean    (trajectory, obs) float64 288.2 ...\n",
       "    sea_water_temperature_logger3_mean    (trajectory, obs) float64 288.1 ...\n",
       "    sea_water_temperature_logger4_mean    (trajectory, obs) float64 287.9 ...\n",
       "    sea_water_temperature_logger1_stddev  (trajectory, obs) float64 0.01249 ...\n",
       "    sea_water_temperature_logger2_stddev  (trajectory, obs) float64 0.01847 ...\n",
       "    sea_water_temperature_logger3_stddev  (trajectory, obs) float64 0.05798 ...\n",
       "    sea_water_temperature_logger4_stddev  (trajectory, obs) float64 0.01404 ...\n",
       "Attributes:\n",
       "    Conventions:               CF-1.6\n",
       "    Metadata_Conventions:      Unidata Dataset Discovery v1.0\n",
       "    featureType:               trajectory\n",
       "    cdm_data_type:             Trajectory\n",
       "    nodc_template_version:     NODC_NetCDF_Trajectory_Template_v0.9\n",
       "    standard_name_vocabulary:  CF-1.6\n",
       "    description:               Saildrone NetCDF format\n",
       "    creator_name:              SailDrone\n",
       "    creator_email:             support@saildrone.com\n",
       "    creator_url:               http://saildrone.com/\n",
       "    project:                   \n",
       "    time_coverage_start:       2018-04-11T18:00:00.000Z\n",
       "    time_coverage_end:         2018-06-10T22:31:00.000Z"
      ]
     },
     "execution_count": 38,
     "metadata": {},
     "output_type": "execute_result"
    }
   ],
   "source": [
    "dataset"
   ]
  },
  {
   "cell_type": "code",
   "execution_count": null,
   "metadata": {},
   "outputs": [],
   "source": []
  }
 ],
 "metadata": {
  "kernelspec": {
   "display_name": "Python 3",
   "language": "python",
   "name": "python3"
  },
  "language_info": {
   "codemirror_mode": {
    "name": "ipython",
    "version": 3
   },
   "file_extension": ".py",
   "mimetype": "text/x-python",
   "name": "python",
   "nbconvert_exporter": "python",
   "pygments_lexer": "ipython3",
   "version": "3.5.5"
  }
 },
 "nbformat": 4,
 "nbformat_minor": 2
}
