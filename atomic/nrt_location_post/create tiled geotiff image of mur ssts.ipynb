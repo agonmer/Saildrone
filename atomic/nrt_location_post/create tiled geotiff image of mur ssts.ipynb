{
 "cells": [
  {
   "cell_type": "code",
   "execution_count": null,
   "metadata": {},
   "outputs": [],
   "source": [
    "#this will plot MUR and create a geotiff, but perhaps not an improvement.  We I acutally want is a scalable geotiff.  \n",
    "#need to talk to doron about what they are doing differently for hycom versus mur & where they get the hycom\n",
    "#data since that site is opendap terrible connection normally\n",
    "\n",
    "import gdal\n",
    "import numpy as np\n",
    "import xarray as xp\n",
    "\n",
    "def get_sat_filename(date):\n",
    "    dir_sat='F:/data/sst/jpl_mur/v4.1/'\n",
    "    syr, smon, sdym, sjdy = str(date.dt.year.data), str(date.dt.month.data).zfill(2), str(date.dt.day.data).zfill(2), str(date.dt.dayofyear.data).zfill(2)\n",
    "    sat_filename = dir_sat + syr + '/'+ sjdy + '/' + syr + smon + sdym + '090000-JPL-L4_GHRSST-SSTfnd-MUR-GLOB-v02.0-fv04.1.nc'\n",
    "    exists = os.path.isfile(sat_filename)\n",
    "    return sat_filename, exists\n"
   ]
  },
  {
   "cell_type": "code",
   "execution_count": null,
   "metadata": {},
   "outputs": [],
   "source": [
    "#use opendap to read in MUR SST dataset\n",
    "today = np.datetime64.today\n",
    "filename,exists = get_sat_filename(today)\n",
    "ds = xr.open_dataset(filename)\n",
    "ds.analysed_sst.plot()\n",
    "fig_fname='F:/data/sst/jpl_mur/v4.1/test.tiff'\n",
    "fig.savefig(fig_fname, transparent=True, format='tiff')"
   ]
  },
  {
   "cell_type": "code",
   "execution_count": null,
   "metadata": {},
   "outputs": [],
   "source": [
    "#create geotiff\n",
    "x_size = 36000\n",
    "y_size = 18000\n",
    "num_bands = 4\n",
    "file_name = fig_fname\n",
    "\n",
    "data = np.ones((y_size, x_size))\n",
    "driver = gdal.GetDriverByName('GTiff')\n",
    "data_set = driver.Create(file_name, x_size, y_size, \n",
    "                         gdal.GDT_Float32,\n",
    "                         options=[\"TILED=YES\",\"COMPRESS=LZW\"])\n",
    "\n",
    "#for i in range(num_bands):\n",
    "#    data_set.GetRasterBand(i + 1).WriteArray(data[i])\n",
    "data_set.GetRasterBand.WriteArray(data)  #not sure what GetRasterBand is doing here, no channel interleaves needed\n",
    "\n",
    "data_set.BuildOverviews(\"NEAREST\", [2, 4, 8, 16, 32, 64])\n",
    "data_set = None\n",
    "\n",
    "driver = gdal.GetDriverByName('GTiff')\n",
    "data_set2 = driver.CreateCopy(file_name, data_set,\n",
    "                              options=[\"COPY_SRC_OVERVIEWS=YES\",\n",
    "                                       \"TILED=YES\",\n",
    "                                       \"COMPRESS=LZW\"])\n",
    "data_set = None\n",
    "data_set2 = None"
   ]
  }
 ],
 "metadata": {
  "kernelspec": {
   "display_name": "Python 3",
   "language": "python",
   "name": "python3"
  },
  "language_info": {
   "codemirror_mode": {
    "name": "ipython",
    "version": 3
   },
   "file_extension": ".py",
   "mimetype": "text/x-python",
   "name": "python",
   "nbconvert_exporter": "python",
   "pygments_lexer": "ipython3",
   "version": "3.7.3"
  }
 },
 "nbformat": 4,
 "nbformat_minor": 2
}
