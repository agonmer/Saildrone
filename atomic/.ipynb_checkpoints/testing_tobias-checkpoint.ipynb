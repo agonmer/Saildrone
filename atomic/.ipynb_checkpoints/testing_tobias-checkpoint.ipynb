{
 "cells": [
  {
   "cell_type": "code",
   "execution_count": null,
   "metadata": {},
   "outputs": [],
   "source": [
    "import os\n",
    "import time\n",
    "import json\n",
    "import numpy as np\n",
    "\n",
    "def get_key(file_name):\n",
    "    myvars = {}\n",
    "    with open(file_name) as myfile:\n",
    "        for line in myfile:\n",
    "            name, var = line.partition(\"=\")[::2]\n",
    "            myvars[name.strip()] = str(var).rstrip()\n",
    "    return myvars\n",
    "\n",
    "file_key = \"C:/Users/gentemann/Google Drive/f_drive/secret_keys/tobias_login_eurec4a_v2.txt\"\n",
    "saildrone_key = get_key(file_key)\n",
    "\n",
    "MQTT_USER = saildrone_key['username']\n",
    "MQTT_PASSWORD = saildrone_key['password']\n",
    "\n",
    "def _main():\n",
    "    import paho.mqtt.client as mqtt\n",
    "    client = mqtt.Client()\n",
    "#    client.tls_set(ca_certs=os.path.join(os.path.dirname(__file__), \"trustid-x3-root.pem.txt\"))\n",
    "    client.tls_set(ca_certs=os.path.join('C:/Users/gentemann/Google Drive/f_drive/secret_keys/', \"trustid-x3-root.pem.txt\"))\n",
    "    client.username_pw_set(MQTT_USER, MQTT_PASSWORD)\n",
    "    def on_connect(client, userdata, flags, rc):\n",
    "        print(\"MQTT: connected with result code {}\".format(rc))\n",
    "        client.subscribe(\"platform/+/location\")\n",
    "    def on_disconnect(client, userdata, rc):\n",
    "        print(\"MQTT: disonnected with result code {}\".format(rc))\n",
    "    def on_message(client, userdata, msg):\n",
    "        topic = msg.topic.split(\"/\")\n",
    "        if topic[0] != \"platform\" or topic[2] != \"location\":\n",
    "            return\n",
    "        short_name = topic[1]\n",
    "        print(\"{}: {}\".format(short_name, msg.payload))\n",
    "    def on_log(client, userdata, level, buf):\n",
    "        print(\"#LOG: {} {}\".format(level, buf))\n",
    "    client.on_connect = on_connect\n",
    "    client.on_disconnect = on_disconnect\n",
    "    client.on_message = on_message\n",
    "    client.on_log = on_log\n",
    "    print(\"initial connect: {}\".format(client.connect(\"mqtt.eurec4a.eu\", 8883, 60)))\n",
    "    client.loop_forever()\n",
    "if __name__ == \"__main__\":\n",
    "    _main()"
   ]
  },
  {
   "cell_type": "code",
   "execution_count": null,
   "metadata": {},
   "outputs": [],
   "source": []
  }
 ],
 "metadata": {
  "kernelspec": {
   "display_name": "Python 3",
   "language": "python",
   "name": "python3"
  },
  "language_info": {
   "codemirror_mode": {
    "name": "ipython",
    "version": 3
   },
   "file_extension": ".py",
   "mimetype": "text/x-python",
   "name": "python",
   "nbconvert_exporter": "python",
   "pygments_lexer": "ipython3",
   "version": "3.7.3"
  }
 },
 "nbformat": 4,
 "nbformat_minor": 2
}
