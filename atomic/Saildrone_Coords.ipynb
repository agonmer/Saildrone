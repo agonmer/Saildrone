{
 "cells": [
  {
   "cell_type": "code",
   "execution_count": 54,
   "metadata": {},
   "outputs": [
    {
     "name": "stdout",
     "output_type": "stream",
     "text": [
      "use the following link for your query: https://maps.geomar.de/geoserver/OceanEddies/wfs?service=wfs&version=1.0.0&request=getFeature&typename=OceanEddies%3Acurrent_positions&CQL_FILTER=type+like+%27WaveGlider%27&viewparams=maxage%3A48&outputformat=application%2Fjson\n",
      "{'type': 'FeatureCollection', 'features': [{'type': 'Feature', 'id': 'current_positions.fid--1353068_16ec24303cb_-31c0', 'geometry': {'type': 'Point', 'coordinates': [-23.51352, 14.49994]}, 'geometry_name': 'geom', 'properties': {'shortname': 'WG_GMR2', 'display_name': 'WG2', 'name': 'WaveGlider GEOMAR2', 'sensor_home': 'GEOMAR', 'type': 'WaveGlider', 'awi_urn': 'vehicle:glider_gmr_wg2', 'surveydata_offering': None, 'obs_timestamp': '2019-12-01T18:56:50Z', 'obs_age': '-00:04:00', 'heading': 90, 'speed_over_ground': 1.6976240000000002, 'additional_data': '', 'platform_id': 1}}, {'type': 'Feature', 'id': 'current_positions.fid--1353068_16ec24303cb_-31bf', 'geometry': {'type': 'Point', 'coordinates': [-21.22951, 17.89493]}, 'geometry_name': 'geom', 'properties': {'shortname': 'WG_GMR4', 'display_name': 'WG4', 'name': 'WaveGlider GEOMAR4', 'sensor_home': 'GEOMAR', 'type': 'WaveGlider', 'awi_urn': 'vehicle:glider_gmr_wg4', 'surveydata_offering': None, 'obs_timestamp': '2019-12-01T18:51:05Z', 'obs_age': '-00:10:00', 'heading': 162, 'speed_over_ground': 1.143629, 'additional_data': '', 'platform_id': 2}}], 'totalFeatures': 2, 'numberMatched': 2, 'numberReturned': 2, 'timeStamp': '2019-12-01T19:01:27.103Z', 'crs': {'type': 'name', 'properties': {'name': 'urn:ogc:def:crs:EPSG::4326'}}}\n",
      "length = 6\n",
      "{'type': 'WaveGlider', 'mmsi': 1, 'latitude': 14.49994, 'longitude': 14.49994, 'timestamp': 1575226610}\n",
      "{'type': 'WaveGlider', 'mmsi': 2, 'latitude': 14.49994, 'longitude': 14.49994, 'timestamp': 1575226265}\n"
     ]
    },
    {
     "ename": "IndexError",
     "evalue": "list index out of range",
     "output_type": "error",
     "traceback": [
      "\u001b[0;31m---------------------------------------------------------------------------\u001b[0m",
      "\u001b[0;31mIndexError\u001b[0m                                Traceback (most recent call last)",
      "\u001b[0;32m<ipython-input-54-e12ff09f8b38>\u001b[0m in \u001b[0;36m<module>\u001b[0;34m\u001b[0m\n\u001b[1;32m     67\u001b[0m \u001b[0;32mwhile\u001b[0m \u001b[0mi\u001b[0m \u001b[0;34m<=\u001b[0m \u001b[0mlength\u001b[0m\u001b[0;34m:\u001b[0m\u001b[0;34m\u001b[0m\u001b[0;34m\u001b[0m\u001b[0m\n\u001b[1;32m     68\u001b[0m \u001b[0;34m\u001b[0m\u001b[0m\n\u001b[0;32m---> 69\u001b[0;31m     \u001b[0mtimestamp\u001b[0m \u001b[0;34m=\u001b[0m \u001b[0mconvertunix\u001b[0m\u001b[0;34m(\u001b[0m\u001b[0mdict_assets\u001b[0m\u001b[0;34m[\u001b[0m\u001b[0;34m'features'\u001b[0m\u001b[0;34m]\u001b[0m\u001b[0;34m[\u001b[0m\u001b[0mi\u001b[0m\u001b[0;34m]\u001b[0m\u001b[0;34m[\u001b[0m\u001b[0;34m'properties'\u001b[0m\u001b[0;34m]\u001b[0m\u001b[0;34m[\u001b[0m\u001b[0;34m'obs_timestamp'\u001b[0m\u001b[0;34m]\u001b[0m\u001b[0;34m)\u001b[0m\u001b[0;34m\u001b[0m\u001b[0;34m\u001b[0m\u001b[0m\n\u001b[0m\u001b[1;32m     70\u001b[0m     \u001b[0maplatform_id\u001b[0m \u001b[0;34m=\u001b[0m \u001b[0mdict_assets\u001b[0m\u001b[0;34m[\u001b[0m\u001b[0;34m'features'\u001b[0m\u001b[0;34m]\u001b[0m\u001b[0;34m[\u001b[0m\u001b[0mi\u001b[0m\u001b[0;34m]\u001b[0m\u001b[0;34m[\u001b[0m\u001b[0;34m'properties'\u001b[0m\u001b[0;34m]\u001b[0m\u001b[0;34m[\u001b[0m\u001b[0;34m'platform_id'\u001b[0m\u001b[0;34m]\u001b[0m\u001b[0;34m\u001b[0m\u001b[0;34m\u001b[0m\u001b[0m\n\u001b[1;32m     71\u001b[0m     \u001b[0matype\u001b[0m \u001b[0;34m=\u001b[0m \u001b[0mdict_assets\u001b[0m\u001b[0;34m[\u001b[0m\u001b[0;34m'features'\u001b[0m\u001b[0;34m]\u001b[0m\u001b[0;34m[\u001b[0m\u001b[0mi\u001b[0m\u001b[0;34m]\u001b[0m\u001b[0;34m[\u001b[0m\u001b[0;34m'properties'\u001b[0m\u001b[0;34m]\u001b[0m\u001b[0;34m[\u001b[0m\u001b[0;34m'type'\u001b[0m\u001b[0;34m]\u001b[0m\u001b[0;34m\u001b[0m\u001b[0;34m\u001b[0m\u001b[0m\n",
      "\u001b[0;31mIndexError\u001b[0m: list index out of range"
     ]
    }
   ],
   "source": [
    "import json\n",
    "import requests\n",
    "import time\n",
    "import datetime\n",
    "import numpy as np\n",
    "\n",
    "from ipyleaflet import Map, basemaps, GeoJSON, LayersControl\n",
    "\n",
    "#web requests using requests\n",
    "\n",
    "wfs_base_url = \"https://maps.geomar.de/geoserver/OceanEddies/wfs\" #server location\n",
    "requested_layer = \"OceanEddies:current_positions\"\n",
    "#dictionary of data\n",
    "requests_parameters = {\n",
    "                        'service': 'wfs',\n",
    "                        'version': '1.0.0',\n",
    "                        'request': 'getFeature',\n",
    "                        'typename': requested_layer,\n",
    "                        #filter the results on the server\n",
    "                        'CQL_FILTER': \"type like 'WaveGlider'\",  # OCG CQL filter\n",
    "                        'viewparams': \"maxage:48\",  # parameters for custom view on geoserver: set max age of position to 48h \n",
    "                        \"outputformat\": \"application/json\"\n",
    "                      }\n",
    "response = requests.get(wfs_base_url, params=requests_parameters)\n",
    "print(f'use the following link for your query: {response.url}')\n",
    "\n",
    "wg_positions = GeoJSON(data=response.json(), hover_style={'fillColor': 'red'}, name='WaveGlider Positions') \n",
    "print(response.json())\n",
    "\n",
    "\n",
    "#assign the web response to dict_assets (a dictionary containing all the assets)\n",
    "\n",
    "dict_assets = response.json()\n",
    "dict_assets\n",
    "\n",
    "dict_assets['features'][0]['properties']['obs_timestamp']\n",
    "dict_assets['features'][0]['properties']['type']\n",
    "dict_assets['features'][0]['geometry']['coordinates']\n",
    "date = dict_assets['features'][0]['properties']['obs_timestamp']                          \n",
    "\n",
    "#converts time to Unix timestamp\n",
    "\n",
    "def convertunix(date):\n",
    "    \n",
    "    date = np.datetime64(date.replace('Z', ''))\n",
    "\n",
    "    timestamp = (date - np.datetime64('1970-01-01T00:00:00')) / np.timedelta64(1, 's')\n",
    "    return timestamp\n",
    "\n",
    "    \n",
    "def coordlat(coords):\n",
    "    coords = dict_assets['features'][0]['geometry']['coordinates']\n",
    "    lat = coords[0]\n",
    "    return lat\n",
    "    \n",
    "def coordlon(coords):\n",
    "    coords = dict_assets['features'][0]['geometry']['coordinates']\n",
    "    lon = coords[1]\n",
    "    return lon    \n",
    "\n",
    "length = len(dict_assets)-1\n",
    "\n",
    "asset_dictionary = {}\n",
    "print('length = ' + str(length))\n",
    "\n",
    "i = 0\n",
    "while i <= length:\n",
    "    \n",
    "    timestamp = convertunix(dict_assets['features'][i]['properties']['obs_timestamp'])\n",
    "    aplatform_id = dict_assets['features'][i]['properties']['platform_id']\n",
    "    atype = dict_assets['features'][i]['properties']['type']\n",
    "    rlat = coordlon(dict_assets['features'][i]['geometry']['coordinates'])\n",
    "    rlon = coordlon(dict_assets['features'][i]['geometry']['coordinates'])\n",
    "    \n",
    "    #final dictionary of all relevant information \n",
    "    asset_dictionary[i] = { \n",
    "      \"type\" : atype,\n",
    "      \"mmsi\" : aplatform_id,\n",
    "      \"latitude\" : rlat,\n",
    "      \"longitude\" : rlon,\n",
    "      \"timestamp\" : np.int(timestamp) \n",
    "      }\n",
    "    print(asset_dictionary[i])\n",
    "    i+=1"
   ]
  },
  {
   "cell_type": "code",
   "execution_count": null,
   "metadata": {},
   "outputs": [],
   "source": []
  },
  {
   "cell_type": "code",
   "execution_count": null,
   "metadata": {},
   "outputs": [],
   "source": []
  }
 ],
 "metadata": {
  "kernelspec": {
   "display_name": "Python 3",
   "language": "python",
   "name": "python3"
  },
  "language_info": {
   "codemirror_mode": {
    "name": "ipython",
    "version": 3
   },
   "file_extension": ".py",
   "mimetype": "text/x-python",
   "name": "python",
   "nbconvert_exporter": "python",
   "pygments_lexer": "ipython3",
   "version": "3.7.3"
  }
 },
 "nbformat": 4,
 "nbformat_minor": 2
}
