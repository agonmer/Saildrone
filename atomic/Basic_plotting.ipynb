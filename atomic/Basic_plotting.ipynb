{
 "cells": [
  {
   "cell_type": "code",
   "execution_count": null,
   "metadata": {},
   "outputs": [],
   "source": [
    "import xarray as xr\n",
    "import numpy as np\n",
    "import pandas as pd\n",
    "import matplotlib.pyplot as plt\n",
    "import seawater as sw\n",
    "import cartopy.crs as ccrs                   # import projections\n",
    "import cartopy.feature as cf                 # import features\n",
    "import uuid\n",
    "from scipy import interpolate\n",
    "from glob import glob\n",
    "\n",
    "#create xarray dataset with saildrone filenames\n",
    "#data directory for saildrone data\n",
    "data_dir = 'F:/data/cruise_data/saildrone/2020_atomic/'\n",
    "saildrone_filename_short=['saildrone-gen_5-atomic_eurec4a_2020-sd1026-20200117T000000-20200302T235959-1_minutes-v1.1589306725934.nc',\n",
    "                          'saildrone-gen_5-atomic_eurec4a_2020-sd1060-20200117T000000-20200302T235959-1_minutes-v1.1589306886594.nc',\n",
    "                          'saildrone-gen_5-atomic_eurec4a_2020-sd1061-20200117T000000-20200302T235959-1_minutes-v1.1589307121602.nc'\n",
    "                          \n",
    "                         ]\n",
    "saildrone_filename=[data_dir+'/delay_mode/1026/1min/'+saildrone_filename_short[0],\n",
    "                    data_dir+'/delay_mode/1060/1min/'+saildrone_filename_short[1],\n",
    "                    data_dir+'/delay_mode/1061/1min/'+saildrone_filename_short[2]\n",
    "                   ]\n",
    "\n",
    "#data direcgtory for temperature logger .csv files\n",
    "adir_sbe='F:/data/cruise_data/saildrone/2020_atomic/temp_log_proc/'\n",
    "\n",
    "#get list of all filenames in directory\n",
    "files = [x for x in glob(adir_sbe+'*1_min*.nc')]\n",
    "#print('number of file:',len(files))\n",
    "#print(files)\n",
    "\n",
    "usvs=[1026,1060,1061]\n",
    "ds_info_saildrone = xr.Dataset(data_vars={'fname_usv':(['trajectory'],saildrone_filename),\n",
    "                                          'fname_logger':(['trajectory'],files),\n",
    "                                          'fname_short_usv':(['trajectory'],saildrone_filename_short)\n",
    "                                         },coords={'trajectory':usvs})\n",
    "\n",
    "\n",
    "\n",
    "print(ds_info_saildrone.sel(trajectory=1061).fname_logger.data)\n",
    "print(ds_info_saildrone.sel(trajectory=1061).fname_usv.data)\n",
    "\n"
   ]
  },
  {
   "cell_type": "code",
   "execution_count": null,
   "metadata": {},
   "outputs": [],
   "source": [
    "iusv=1061\n",
    "#open both files\n",
    "fname=str(ds_info_saildrone.sel(trajectory=iusv).fname_usv.data)\n",
    "ds_usv=xr.open_dataset(fname)\n",
    "ds_usv.close()\n",
    "fname=str(ds_info_saildrone.sel(trajectory=iusv).fname_logger.data)\n",
    "ds_logger=xr.open_dataset(fname)\n",
    "ds_logger.close()\n",
    "#swap dims to time since obs makes no sense\n",
    "ds_usv = ds_usv.isel(trajectory=0).swap_dims({'obs':'time'})\n",
    "ds_logger = ds_logger.isel(trajectory=0).swap_dims({'obs':'time'})"
   ]
  },
  {
   "cell_type": "code",
   "execution_count": null,
   "metadata": {},
   "outputs": [],
   "source": [
    "ds_usv.TEMP_SBE37_MEAN.plot()\n",
    "ds_logger.sea_water_temperature_00_mean.plot()"
   ]
  },
  {
   "cell_type": "code",
   "execution_count": null,
   "metadata": {},
   "outputs": [],
   "source": [
    "ds_logger.time"
   ]
  },
  {
   "cell_type": "code",
   "execution_count": null,
   "metadata": {},
   "outputs": [],
   "source": []
  }
 ],
 "metadata": {
  "kernelspec": {
   "display_name": "Python 3",
   "language": "python",
   "name": "python3"
  },
  "language_info": {
   "codemirror_mode": {
    "name": "ipython",
    "version": 3
   },
   "file_extension": ".py",
   "mimetype": "text/x-python",
   "name": "python",
   "nbconvert_exporter": "python",
   "pygments_lexer": "ipython3",
   "version": "3.7.6"
  }
 },
 "nbformat": 4,
 "nbformat_minor": 4
}
